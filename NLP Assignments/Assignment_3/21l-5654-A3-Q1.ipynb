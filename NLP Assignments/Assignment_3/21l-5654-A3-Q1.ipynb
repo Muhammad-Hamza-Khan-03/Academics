{
 "cells": [
  {
   "cell_type": "code",
   "execution_count": 44,
   "metadata": {},
   "outputs": [],
   "source": [
    "import pandas as pd\n",
    "import matplotlib.pyplot as plt\n",
    "from sklearn.preprocessing import LabelEncoder\n",
    "from nltk.corpus import stopwords\n",
    "from nltk.tokenize import word_tokenize\n",
    "import nltk\n",
    "from nltk import WordNetLemmatizer\n",
    "import numpy as np\n",
    "from sklearn.metrics import classification_report, confusion_matrix\n",
    "import seaborn as sns"
   ]
  },
  {
   "cell_type": "markdown",
   "metadata": {},
   "source": [
    "## Urdu hack"
   ]
  },
  {
   "cell_type": "code",
   "execution_count": 1,
   "metadata": {},
   "outputs": [
    {
     "name": "stdout",
     "output_type": "stream",
     "text": [
      "Collecting urduhack\n",
      "  Downloading urduhack-1.1.1-py3-none-any.whl.metadata (7.2 kB)\n",
      "Collecting tf2crf (from urduhack)\n",
      "  Downloading tf2crf-0.1.33-py2.py3-none-any.whl.metadata (1.9 kB)\n",
      "Collecting tensorflow-datasets~=3.1 (from urduhack)\n",
      "  Downloading tensorflow_datasets-3.2.1-py3-none-any.whl.metadata (4.8 kB)\n",
      "Collecting Click~=7.1 (from urduhack)\n",
      "  Downloading click-7.1.2-py2.py3-none-any.whl.metadata (2.9 kB)\n",
      "Requirement already satisfied: regex in d:\\python64\\lib\\site-packages (from urduhack) (2023.12.25)\n",
      "Requirement already satisfied: absl-py in d:\\python64\\lib\\site-packages (from tensorflow-datasets~=3.1->urduhack) (2.1.0)\n",
      "Requirement already satisfied: attrs>=18.1.0 in d:\\python64\\lib\\site-packages (from tensorflow-datasets~=3.1->urduhack) (23.2.0)\n",
      "Collecting dill (from tensorflow-datasets~=3.1->urduhack)\n",
      "  Downloading dill-0.3.7-py3-none-any.whl.metadata (9.9 kB)\n",
      "Collecting future (from tensorflow-datasets~=3.1->urduhack)\n",
      "  Downloading future-1.0.0-py3-none-any.whl.metadata (4.0 kB)\n",
      "Requirement already satisfied: numpy in d:\\python64\\lib\\site-packages (from tensorflow-datasets~=3.1->urduhack) (1.21.6)\n",
      "Collecting promise (from tensorflow-datasets~=3.1->urduhack)\n",
      "  Downloading promise-2.3.tar.gz (19 kB)\n",
      "  Preparing metadata (setup.py): started\n",
      "  Preparing metadata (setup.py): finished with status 'done'\n",
      "Requirement already satisfied: protobuf>=3.6.1 in d:\\python64\\lib\\site-packages (from tensorflow-datasets~=3.1->urduhack) (3.19.6)\n",
      "Requirement already satisfied: requests>=2.19.0 in d:\\python64\\lib\\site-packages (from tensorflow-datasets~=3.1->urduhack) (2.31.0)\n",
      "Requirement already satisfied: six in c:\\users\\hamza\\appdata\\roaming\\python\\python37\\site-packages (from tensorflow-datasets~=3.1->urduhack) (1.16.0)\n",
      "Collecting tensorflow-metadata (from tensorflow-datasets~=3.1->urduhack)\n",
      "  Downloading tensorflow_metadata-1.12.0-py3-none-any.whl.metadata (2.2 kB)\n",
      "Requirement already satisfied: termcolor in d:\\python64\\lib\\site-packages (from tensorflow-datasets~=3.1->urduhack) (2.3.0)\n",
      "Requirement already satisfied: tqdm in d:\\python64\\lib\\site-packages (from tensorflow-datasets~=3.1->urduhack) (4.66.2)\n",
      "Requirement already satisfied: wrapt in d:\\python64\\lib\\site-packages (from tensorflow-datasets~=3.1->urduhack) (1.16.0)\n",
      "Requirement already satisfied: tensorflow>=2.1.0 in d:\\python64\\lib\\site-packages (from tf2crf->urduhack) (2.11.0)\n",
      "Collecting tensorflow-addons>=0.8.2 (from tf2crf->urduhack)\n",
      "  Downloading tensorflow_addons-0.19.0-cp37-cp37m-win_amd64.whl.metadata (1.8 kB)\n",
      "Requirement already satisfied: importlib-metadata in d:\\python64\\lib\\site-packages (from attrs>=18.1.0->tensorflow-datasets~=3.1->urduhack) (6.7.0)\n",
      "Requirement already satisfied: charset-normalizer<4,>=2 in d:\\python64\\lib\\site-packages (from requests>=2.19.0->tensorflow-datasets~=3.1->urduhack) (3.3.2)\n",
      "Requirement already satisfied: idna<4,>=2.5 in d:\\python64\\lib\\site-packages (from requests>=2.19.0->tensorflow-datasets~=3.1->urduhack) (3.6)\n",
      "Requirement already satisfied: urllib3<3,>=1.21.1 in d:\\python64\\lib\\site-packages (from requests>=2.19.0->tensorflow-datasets~=3.1->urduhack) (2.0.7)\n",
      "Requirement already satisfied: certifi>=2017.4.17 in d:\\python64\\lib\\site-packages (from requests>=2.19.0->tensorflow-datasets~=3.1->urduhack) (2024.2.2)\n",
      "Requirement already satisfied: tensorflow-intel==2.11.0 in d:\\python64\\lib\\site-packages (from tensorflow>=2.1.0->tf2crf->urduhack) (2.11.0)\n",
      "Requirement already satisfied: astunparse>=1.6.0 in d:\\python64\\lib\\site-packages (from tensorflow-intel==2.11.0->tensorflow>=2.1.0->tf2crf->urduhack) (1.6.3)\n",
      "Requirement already satisfied: flatbuffers>=2.0 in d:\\python64\\lib\\site-packages (from tensorflow-intel==2.11.0->tensorflow>=2.1.0->tf2crf->urduhack) (24.3.7)\n",
      "Requirement already satisfied: gast<=0.4.0,>=0.2.1 in d:\\python64\\lib\\site-packages (from tensorflow-intel==2.11.0->tensorflow>=2.1.0->tf2crf->urduhack) (0.4.0)\n",
      "Requirement already satisfied: google-pasta>=0.1.1 in d:\\python64\\lib\\site-packages (from tensorflow-intel==2.11.0->tensorflow>=2.1.0->tf2crf->urduhack) (0.2.0)\n",
      "Requirement already satisfied: h5py>=2.9.0 in d:\\python64\\lib\\site-packages (from tensorflow-intel==2.11.0->tensorflow>=2.1.0->tf2crf->urduhack) (3.8.0)\n",
      "Requirement already satisfied: libclang>=13.0.0 in d:\\python64\\lib\\site-packages (from tensorflow-intel==2.11.0->tensorflow>=2.1.0->tf2crf->urduhack) (18.1.1)\n",
      "Requirement already satisfied: opt-einsum>=2.3.2 in d:\\python64\\lib\\site-packages (from tensorflow-intel==2.11.0->tensorflow>=2.1.0->tf2crf->urduhack) (3.3.0)\n",
      "Requirement already satisfied: packaging in c:\\users\\hamza\\appdata\\roaming\\python\\python37\\site-packages (from tensorflow-intel==2.11.0->tensorflow>=2.1.0->tf2crf->urduhack) (23.2)\n",
      "Requirement already satisfied: setuptools in c:\\users\\hamza\\appdata\\roaming\\python\\python37\\site-packages (from tensorflow-intel==2.11.0->tensorflow>=2.1.0->tf2crf->urduhack) (68.0.0)\n",
      "Requirement already satisfied: typing-extensions>=3.6.6 in d:\\python64\\lib\\site-packages (from tensorflow-intel==2.11.0->tensorflow>=2.1.0->tf2crf->urduhack) (4.7.1)\n",
      "Requirement already satisfied: grpcio<2.0,>=1.24.3 in d:\\python64\\lib\\site-packages (from tensorflow-intel==2.11.0->tensorflow>=2.1.0->tf2crf->urduhack) (1.62.1)\n",
      "Requirement already satisfied: tensorboard<2.12,>=2.11 in d:\\python64\\lib\\site-packages (from tensorflow-intel==2.11.0->tensorflow>=2.1.0->tf2crf->urduhack) (2.11.2)\n",
      "Requirement already satisfied: tensorflow-estimator<2.12,>=2.11.0 in d:\\python64\\lib\\site-packages (from tensorflow-intel==2.11.0->tensorflow>=2.1.0->tf2crf->urduhack) (2.11.0)\n",
      "Requirement already satisfied: keras<2.12,>=2.11.0 in d:\\python64\\lib\\site-packages (from tensorflow-intel==2.11.0->tensorflow>=2.1.0->tf2crf->urduhack) (2.11.0)\n",
      "Requirement already satisfied: tensorflow-io-gcs-filesystem>=0.23.1 in d:\\python64\\lib\\site-packages (from tensorflow-intel==2.11.0->tensorflow>=2.1.0->tf2crf->urduhack) (0.31.0)\n",
      "Collecting typeguard>=2.7 (from tensorflow-addons>=0.8.2->tf2crf->urduhack)\n",
      "  Downloading typeguard-4.1.2-py3-none-any.whl.metadata (3.7 kB)\n",
      "Collecting absl-py (from tensorflow-datasets~=3.1->urduhack)\n",
      "  Downloading absl_py-1.4.0-py3-none-any.whl.metadata (2.3 kB)\n",
      "Collecting googleapis-common-protos<2,>=1.52.0 (from tensorflow-metadata->tensorflow-datasets~=3.1->urduhack)\n",
      "  Downloading googleapis_common_protos-1.63.0-py2.py3-none-any.whl.metadata (1.5 kB)\n",
      "Requirement already satisfied: colorama in c:\\users\\hamza\\appdata\\roaming\\python\\python37\\site-packages (from tqdm->tensorflow-datasets~=3.1->urduhack) (0.4.6)\n",
      "Requirement already satisfied: zipp>=0.5 in d:\\python64\\lib\\site-packages (from importlib-metadata->attrs>=18.1.0->tensorflow-datasets~=3.1->urduhack) (3.15.0)\n",
      "Requirement already satisfied: wheel<1.0,>=0.23.0 in d:\\python64\\lib\\site-packages (from astunparse>=1.6.0->tensorflow-intel==2.11.0->tensorflow>=2.1.0->tf2crf->urduhack) (0.42.0)\n",
      "Requirement already satisfied: google-auth<3,>=1.6.3 in d:\\python64\\lib\\site-packages (from tensorboard<2.12,>=2.11->tensorflow-intel==2.11.0->tensorflow>=2.1.0->tf2crf->urduhack) (2.29.0)\n",
      "Requirement already satisfied: google-auth-oauthlib<0.5,>=0.4.1 in d:\\python64\\lib\\site-packages (from tensorboard<2.12,>=2.11->tensorflow-intel==2.11.0->tensorflow>=2.1.0->tf2crf->urduhack) (0.4.6)\n",
      "Requirement already satisfied: markdown>=2.6.8 in d:\\python64\\lib\\site-packages (from tensorboard<2.12,>=2.11->tensorflow-intel==2.11.0->tensorflow>=2.1.0->tf2crf->urduhack) (3.4.4)\n",
      "Requirement already satisfied: tensorboard-data-server<0.7.0,>=0.6.0 in d:\\python64\\lib\\site-packages (from tensorboard<2.12,>=2.11->tensorflow-intel==2.11.0->tensorflow>=2.1.0->tf2crf->urduhack) (0.6.1)\n",
      "Requirement already satisfied: tensorboard-plugin-wit>=1.6.0 in d:\\python64\\lib\\site-packages (from tensorboard<2.12,>=2.11->tensorflow-intel==2.11.0->tensorflow>=2.1.0->tf2crf->urduhack) (1.8.1)\n",
      "Requirement already satisfied: werkzeug>=1.0.1 in d:\\python64\\lib\\site-packages (from tensorboard<2.12,>=2.11->tensorflow-intel==2.11.0->tensorflow>=2.1.0->tf2crf->urduhack) (2.2.3)\n",
      "Requirement already satisfied: cachetools<6.0,>=2.0.0 in d:\\python64\\lib\\site-packages (from google-auth<3,>=1.6.3->tensorboard<2.12,>=2.11->tensorflow-intel==2.11.0->tensorflow>=2.1.0->tf2crf->urduhack) (5.3.3)\n",
      "Requirement already satisfied: pyasn1-modules>=0.2.1 in d:\\python64\\lib\\site-packages (from google-auth<3,>=1.6.3->tensorboard<2.12,>=2.11->tensorflow-intel==2.11.0->tensorflow>=2.1.0->tf2crf->urduhack) (0.3.0)\n",
      "Requirement already satisfied: rsa<5,>=3.1.4 in d:\\python64\\lib\\site-packages (from google-auth<3,>=1.6.3->tensorboard<2.12,>=2.11->tensorflow-intel==2.11.0->tensorflow>=2.1.0->tf2crf->urduhack) (4.9)\n",
      "Requirement already satisfied: requests-oauthlib>=0.7.0 in d:\\python64\\lib\\site-packages (from google-auth-oauthlib<0.5,>=0.4.1->tensorboard<2.12,>=2.11->tensorflow-intel==2.11.0->tensorflow>=2.1.0->tf2crf->urduhack) (1.4.0)\n",
      "Requirement already satisfied: MarkupSafe>=2.1.1 in d:\\python64\\lib\\site-packages (from werkzeug>=1.0.1->tensorboard<2.12,>=2.11->tensorflow-intel==2.11.0->tensorflow>=2.1.0->tf2crf->urduhack) (2.1.5)\n",
      "Requirement already satisfied: pyasn1<0.6.0,>=0.4.6 in d:\\python64\\lib\\site-packages (from pyasn1-modules>=0.2.1->google-auth<3,>=1.6.3->tensorboard<2.12,>=2.11->tensorflow-intel==2.11.0->tensorflow>=2.1.0->tf2crf->urduhack) (0.5.1)\n",
      "Requirement already satisfied: oauthlib>=3.0.0 in d:\\python64\\lib\\site-packages (from requests-oauthlib>=0.7.0->google-auth-oauthlib<0.5,>=0.4.1->tensorboard<2.12,>=2.11->tensorflow-intel==2.11.0->tensorflow>=2.1.0->tf2crf->urduhack) (3.2.2)\n",
      "Downloading urduhack-1.1.1-py3-none-any.whl (105 kB)\n",
      "   -------------------------------------- 105.5/105.5 kB 762.4 kB/s eta 0:00:00\n",
      "Downloading click-7.1.2-py2.py3-none-any.whl (82 kB)\n",
      "   ---------------------------------------- 82.8/82.8 kB 1.6 MB/s eta 0:00:00\n",
      "Downloading tensorflow_datasets-3.2.1-py3-none-any.whl (3.4 MB)\n",
      "   ---------------------------------------- 3.4/3.4 MB 1.4 MB/s eta 0:00:00\n",
      "Downloading tf2crf-0.1.33-py2.py3-none-any.whl (7.3 kB)\n",
      "Downloading tensorflow_addons-0.19.0-cp37-cp37m-win_amd64.whl (742 kB)\n",
      "   ---------------------------------------- 742.5/742.5 kB 3.6 MB/s eta 0:00:00\n",
      "Downloading dill-0.3.7-py3-none-any.whl (115 kB)\n",
      "   ---------------------------------------- 115.3/115.3 kB 2.2 MB/s eta 0:00:00\n",
      "Downloading future-1.0.0-py3-none-any.whl (491 kB)\n",
      "   ---------------------------------------- 491.3/491.3 kB 3.8 MB/s eta 0:00:00\n",
      "Downloading tensorflow_metadata-1.12.0-py3-none-any.whl (52 kB)\n",
      "   ---------------------------------------- 52.3/52.3 kB 1.4 MB/s eta 0:00:00\n",
      "Downloading absl_py-1.4.0-py3-none-any.whl (126 kB)\n",
      "   ---------------------------------------- 126.5/126.5 kB 3.8 MB/s eta 0:00:00\n",
      "Downloading googleapis_common_protos-1.63.0-py2.py3-none-any.whl (229 kB)\n",
      "   ---------------------------------------- 229.1/229.1 kB 3.5 MB/s eta 0:00:00\n",
      "Downloading typeguard-4.1.2-py3-none-any.whl (33 kB)\n",
      "Building wheels for collected packages: promise\n",
      "  Building wheel for promise (setup.py): started\n",
      "  Building wheel for promise (setup.py): finished with status 'done'\n",
      "  Created wheel for promise: filename=promise-2.3-py3-none-any.whl size=21545 sha256=6151d52858e5f144a678612a20e41da8d1cca412c89fa148e97772cf9dd6aaa8\n",
      "  Stored in directory: c:\\users\\hamza\\appdata\\local\\pip\\cache\\wheels\\29\\93\\c6\\762e359f8cb6a5b69c72235d798804cae523bbe41c2aa8333d\n",
      "Successfully built promise\n",
      "Installing collected packages: promise, googleapis-common-protos, future, dill, Click, absl-py, typeguard, tensorflow-metadata, tensorflow-datasets, tensorflow-addons, tf2crf, urduhack\n",
      "  Attempting uninstall: Click\n",
      "    Found existing installation: click 8.1.7\n",
      "    Uninstalling click-8.1.7:\n",
      "      Successfully uninstalled click-8.1.7\n",
      "  Attempting uninstall: absl-py\n",
      "    Found existing installation: absl-py 2.1.0\n",
      "    Uninstalling absl-py-2.1.0:\n",
      "      Successfully uninstalled absl-py-2.1.0\n",
      "Successfully installed Click-7.1.2 absl-py-1.4.0 dill-0.3.7 future-1.0.0 googleapis-common-protos-1.63.0 promise-2.3 tensorflow-addons-0.19.0 tensorflow-datasets-3.2.1 tensorflow-metadata-1.12.0 tf2crf-0.1.33 typeguard-4.1.2 urduhack-1.1.1\n",
      "Note: you may need to restart the kernel to use updated packages.\n"
     ]
    },
    {
     "name": "stderr",
     "output_type": "stream",
     "text": [
      "ERROR: pip's dependency resolver does not currently take into account all the packages that are installed. This behaviour is the source of the following dependency conflicts.\n",
      "fiona 1.9.6 requires click~=8.0, but you have click 7.1.2 which is incompatible.\n"
     ]
    }
   ],
   "source": [
    "pip install urduhack"
   ]
  },
  {
   "cell_type": "code",
   "execution_count": 3,
   "metadata": {},
   "outputs": [],
   "source": [
    "import urduhack\n",
    "from urduhack.normalization import normalize\n",
    "from urduhack.preprocessing import normalize_whitespace,remove_punctuation,remove_accents,replace_urls,replace_emails,replace_numbers,replace_currency_symbols\n",
    "\n",
    "from urduhack.models.lemmatizer import lemmatizer"
   ]
  },
  {
   "cell_type": "code",
   "execution_count": 83,
   "metadata": {},
   "outputs": [
    {
     "name": "stdout",
     "output_type": "stream",
     "text": [
      "Downloading data from https://github.com/urduhack/resources/releases/download/word_tokenizer/word_tokenizer.zip\n",
      "36788015/36788015 [==============================] - 10s 0us/step\n",
      "Downloading data from https://github.com/urduhack/resources/releases/download/pos_tagger/pos_tagger.zip\n",
      "2761433/2761433 [==============================] - 1s 0us/step\n",
      "Downloading data from https://github.com/urduhack/resources/releases/download/ner/ner.zip\n",
      "11723346/11723346 [==============================] - 4s 0us/step\n",
      "Downloading data from https://github.com/urduhack/resources/releases/download/lemmatizer/ur_lemma_lookup.zip\n",
      "89078/89078 [==============================] - 0s 2us/step\n"
     ]
    }
   ],
   "source": [
    "urduhack.download()"
   ]
  },
  {
   "cell_type": "markdown",
   "metadata": {},
   "source": [
    "## Reading files"
   ]
  },
  {
   "cell_type": "code",
   "execution_count": 4,
   "metadata": {},
   "outputs": [
    {
     "data": {
      "text/html": [
       "<div>\n",
       "<style scoped>\n",
       "    .dataframe tbody tr th:only-of-type {\n",
       "        vertical-align: middle;\n",
       "    }\n",
       "\n",
       "    .dataframe tbody tr th {\n",
       "        vertical-align: top;\n",
       "    }\n",
       "\n",
       "    .dataframe thead th {\n",
       "        text-align: right;\n",
       "    }\n",
       "</style>\n",
       "<table border=\"1\" class=\"dataframe\">\n",
       "  <thead>\n",
       "    <tr style=\"text-align: right;\">\n",
       "      <th></th>\n",
       "      <th>Tweet</th>\n",
       "      <th>Class</th>\n",
       "    </tr>\n",
       "  </thead>\n",
       "  <tbody>\n",
       "    <tr>\n",
       "      <th>0</th>\n",
       "      <td>میں نے ایٹم بم بنایا ھے ۔۔۔۔او بھائی ایٹم بمب ...</td>\n",
       "      <td>P</td>\n",
       "    </tr>\n",
       "    <tr>\n",
       "      <th>1</th>\n",
       "      <td>چندے سے انقلاب اور عمران خان وزیر اعظم نہیں بن...</td>\n",
       "      <td>N</td>\n",
       "    </tr>\n",
       "    <tr>\n",
       "      <th>2</th>\n",
       "      <td>ٹویٹر کا خیال کیسے آیا ؟</td>\n",
       "      <td>O</td>\n",
       "    </tr>\n",
       "    <tr>\n",
       "      <th>3</th>\n",
       "      <td>سرچ انجن گوگل کے نائب صدر نے فضا میں ، 130,000...</td>\n",
       "      <td>P</td>\n",
       "    </tr>\n",
       "    <tr>\n",
       "      <th>4</th>\n",
       "      <td>ابھی تک اسکی لہریں کبھی کبھی آ جاتی ہیں یار :أْ</td>\n",
       "      <td>P</td>\n",
       "    </tr>\n",
       "  </tbody>\n",
       "</table>\n",
       "</div>"
      ],
      "text/plain": [
       "                                               Tweet Class\n",
       "0  میں نے ایٹم بم بنایا ھے ۔۔۔۔او بھائی ایٹم بمب ...     P\n",
       "1  چندے سے انقلاب اور عمران خان وزیر اعظم نہیں بن...     N\n",
       "2                           ٹویٹر کا خیال کیسے آیا ؟     O\n",
       "3  سرچ انجن گوگل کے نائب صدر نے فضا میں ، 130,000...     P\n",
       "4    ابھی تک اسکی لہریں کبھی کبھی آ جاتی ہیں یار :أْ     P"
      ]
     },
     "execution_count": 4,
     "metadata": {},
     "output_type": "execute_result"
    }
   ],
   "source": [
    "urdu_dataset = pd.read_csv(\"urdu-sentiment-corpus-v1.tsv\",sep=\"\\t\")\n",
    "urdu_dataset.head()"
   ]
  },
  {
   "cell_type": "code",
   "execution_count": 5,
   "metadata": {},
   "outputs": [
    {
     "name": "stdout",
     "output_type": "stream",
     "text": [
      "<class 'pandas.core.frame.DataFrame'>\n",
      "RangeIndex: 1000 entries, 0 to 999\n",
      "Data columns (total 2 columns):\n",
      " #   Column  Non-Null Count  Dtype \n",
      "---  ------  --------------  ----- \n",
      " 0   Tweet   1000 non-null   object\n",
      " 1   Class   999 non-null    object\n",
      "dtypes: object(2)\n",
      "memory usage: 15.8+ KB\n"
     ]
    }
   ],
   "source": [
    "urdu_dataset.info()"
   ]
  },
  {
   "cell_type": "markdown",
   "metadata": {},
   "source": [
    "## Removing null values"
   ]
  },
  {
   "cell_type": "code",
   "execution_count": 6,
   "metadata": {},
   "outputs": [
    {
     "name": "stdout",
     "output_type": "stream",
     "text": [
      "Tweet    0\n",
      "Class    1\n",
      "dtype: int64\n",
      "After Null values Removed\n",
      " Tweet    0\n",
      "Class    0\n",
      "dtype: int64\n"
     ]
    }
   ],
   "source": [
    "print(urdu_dataset.isna().sum())\n",
    "null_check = urdu_dataset.isna().sum().sum()>0\n",
    "if null_check:\n",
    "    urdu_dataset.dropna(inplace=True)\n",
    "    print(\"After Null values Removed\\n\",urdu_dataset.isna().sum())"
   ]
  },
  {
   "cell_type": "code",
   "execution_count": 7,
   "metadata": {},
   "outputs": [
    {
     "name": "stdout",
     "output_type": "stream",
     "text": [
      "<class 'pandas.core.frame.DataFrame'>\n",
      "Int64Index: 999 entries, 0 to 999\n",
      "Data columns (total 2 columns):\n",
      " #   Column  Non-Null Count  Dtype \n",
      "---  ------  --------------  ----- \n",
      " 0   Tweet   999 non-null    object\n",
      " 1   Class   999 non-null    object\n",
      "dtypes: object(2)\n",
      "memory usage: 23.4+ KB\n"
     ]
    }
   ],
   "source": [
    "urdu_dataset.info()"
   ]
  },
  {
   "cell_type": "markdown",
   "metadata": {},
   "source": [
    "## Values counts"
   ]
  },
  {
   "cell_type": "code",
   "execution_count": 8,
   "metadata": {},
   "outputs": [
    {
     "data": {
      "text/plain": [
       "N    499\n",
       "P    480\n",
       "O     20\n",
       "Name: Class, dtype: int64"
      ]
     },
     "execution_count": 8,
     "metadata": {},
     "output_type": "execute_result"
    }
   ],
   "source": [
    "urdu_dataset.Class.value_counts()"
   ]
  },
  {
   "cell_type": "code",
   "execution_count": 9,
   "metadata": {},
   "outputs": [
    {
     "data": {
      "image/png": "[encoded data removed]",
      "text/plain": [
       "<Figure size 640x480 with 1 Axes>"
      ]
     },
     "metadata": {},
     "output_type": "display_data"
    }
   ],
   "source": [
    "urdu_dataset['Class'].value_counts().plot(kind='bar')\n",
    "\n",
    "plt.xlabel('Class Attribute')\n",
    "plt.ylabel('Count')\n",
    "plt.title('Distribution of Class Attribute')\n",
    "\n",
    "plt.show()"
   ]
  },
  {
   "cell_type": "markdown",
   "metadata": {},
   "source": [
    "## Label Encoding Class Attribute"
   ]
  },
  {
   "cell_type": "code",
   "execution_count": 10,
   "metadata": {},
   "outputs": [
    {
     "name": "stdout",
     "output_type": "stream",
     "text": [
      "[2 0 1]\n"
     ]
    }
   ],
   "source": [
    "label_encoder = LabelEncoder()\n",
    "urdu_dataset['Encoded_Class'] = label_encoder.fit_transform(urdu_dataset['Class'])\n",
    "\n",
    "print(urdu_dataset['Encoded_Class'].unique())\n",
    "#0 -> Negative\n",
    "#2 -> Positive\n",
    "#1 -> Neutral"
   ]
  },
  {
   "cell_type": "code",
   "execution_count": 11,
   "metadata": {},
   "outputs": [
    {
     "data": {
      "text/plain": [
       "0    499\n",
       "2    480\n",
       "1     20\n",
       "Name: Encoded_Class, dtype: int64"
      ]
     },
     "execution_count": 11,
     "metadata": {},
     "output_type": "execute_result"
    }
   ],
   "source": [
    "urdu_dataset.Encoded_Class.value_counts()"
   ]
  },
  {
   "cell_type": "markdown",
   "metadata": {},
   "source": [
    "## Preprocessing\n",
    "#0 -> Negative\n",
    "#2 -> Positive\n",
    "#1 -> Neutral"
   ]
  },
  {
   "cell_type": "code",
   "execution_count": 12,
   "metadata": {},
   "outputs": [
    {
     "data": {
      "text/html": [
       "<div>\n",
       "<style scoped>\n",
       "    .dataframe tbody tr th:only-of-type {\n",
       "        vertical-align: middle;\n",
       "    }\n",
       "\n",
       "    .dataframe tbody tr th {\n",
       "        vertical-align: top;\n",
       "    }\n",
       "\n",
       "    .dataframe thead th {\n",
       "        text-align: right;\n",
       "    }\n",
       "</style>\n",
       "<table border=\"1\" class=\"dataframe\">\n",
       "  <thead>\n",
       "    <tr style=\"text-align: right;\">\n",
       "      <th></th>\n",
       "      <th>Tweet</th>\n",
       "      <th>Class</th>\n",
       "      <th>Encoded_Class</th>\n",
       "    </tr>\n",
       "  </thead>\n",
       "  <tbody>\n",
       "    <tr>\n",
       "      <th>0</th>\n",
       "      <td>میں نے ایٹم بم بنایا ھے ۔۔۔۔او بھائی ایٹم بمب ...</td>\n",
       "      <td>P</td>\n",
       "      <td>2</td>\n",
       "    </tr>\n",
       "    <tr>\n",
       "      <th>1</th>\n",
       "      <td>چندے سے انقلاب اور عمران خان وزیر اعظم نہیں بن...</td>\n",
       "      <td>N</td>\n",
       "      <td>0</td>\n",
       "    </tr>\n",
       "    <tr>\n",
       "      <th>2</th>\n",
       "      <td>ٹویٹر کا خیال کیسے آیا ؟</td>\n",
       "      <td>O</td>\n",
       "      <td>1</td>\n",
       "    </tr>\n",
       "    <tr>\n",
       "      <th>3</th>\n",
       "      <td>سرچ انجن گوگل کے نائب صدر نے فضا میں ، 130,000...</td>\n",
       "      <td>P</td>\n",
       "      <td>2</td>\n",
       "    </tr>\n",
       "    <tr>\n",
       "      <th>4</th>\n",
       "      <td>ابھی تک اسکی لہریں کبھی کبھی آ جاتی ہیں یار :أْ</td>\n",
       "      <td>P</td>\n",
       "      <td>2</td>\n",
       "    </tr>\n",
       "  </tbody>\n",
       "</table>\n",
       "</div>"
      ],
      "text/plain": [
       "                                               Tweet Class  Encoded_Class\n",
       "0  میں نے ایٹم بم بنایا ھے ۔۔۔۔او بھائی ایٹم بمب ...     P              2\n",
       "1  چندے سے انقلاب اور عمران خان وزیر اعظم نہیں بن...     N              0\n",
       "2                           ٹویٹر کا خیال کیسے آیا ؟     O              1\n",
       "3  سرچ انجن گوگل کے نائب صدر نے فضا میں ، 130,000...     P              2\n",
       "4    ابھی تک اسکی لہریں کبھی کبھی آ جاتی ہیں یار :أْ     P              2"
      ]
     },
     "execution_count": 12,
     "metadata": {},
     "output_type": "execute_result"
    }
   ],
   "source": [
    "urdu_dataset.head()"
   ]
  },
  {
   "cell_type": "code",
   "execution_count": 13,
   "metadata": {},
   "outputs": [
    {
     "name": "stdout",
     "output_type": "stream",
     "text": [
      "['اب', 'ابھی', 'اپنا', 'اپنے', 'اپنی', 'اٹھا', 'اس', 'اسے', 'اسی', 'اگر', 'ان', 'انہوں', 'انہی', 'انہیں', 'انھیں', 'او', 'اور', 'اے', 'ایسا', 'ایسے', 'ایسی', 'ایک', 'آ', 'آپ', 'آتا', 'آتے', 'آتی', 'آگے', 'آنا', 'آنے', 'آنی', 'آئے', 'آئی', 'آئیں', 'آیا', 'با', 'بڑا', 'بڑے', 'بڑی', 'بعد', 'بعض', 'بلکہ', 'بہت', 'بھی', 'بے', 'پاس', 'پر', 'پہلے', 'پھر', 'تا', 'تاکہ', 'تب', 'تجھ', 'تجھے', 'تک', 'تم', 'تمام', 'تمہارا', 'تمہارے', 'تمھارے', 'تمہاری', 'تمہیں', 'تمھیں', 'تھا', 'تھے', 'تھی', 'تھیں', 'تو', 'تیری', 'تیرے', 'جا', 'جاتا', 'جاتی', 'جاتے', 'جاتی', 'جانے', 'جانی', 'جاؤ', 'جائے', 'جائیں', 'جب', 'جس', 'جن', 'جنہوں', 'جنہیں', 'جو', 'جیسا', 'جیسے', 'جیسی', 'جیسوں', 'چاہیئے', 'چلا', 'چاہے', 'چونکہ', 'حالاں', 'حالانکہ', 'دو', 'دونوں', 'دوں', 'دے', 'دی', 'دیا', 'دیں', 'دیے', 'دیتا', 'دیتے', 'دیتی', 'دینا', 'دینے', 'دینی', 'دیئے', 'ڈالا', 'ڈالنا', 'ڈالنے', 'ڈالنی', 'ڈالے', 'ڈالی', 'ذرا', 'رکھا', 'رکھتا', 'رکھتے', 'رکھتی', 'رکھنا', 'رکھنے', 'رکھنی', 'رکھے', 'رکھی', 'رہ', 'رہا', 'رہتا', 'رہتے', 'رہتی', 'رہنا', 'رہنے', 'رہنی', 'رہو', 'رہے', 'رہی', 'رہیں', 'زیادہ', 'سا', 'سامنے', 'سب', 'سکتا', 'سو', 'سے', 'سی', 'شاید', 'صرف', 'طرح', 'طرف', 'عین', 'کا', 'کبھی', 'کچھ', 'کہہ', 'کر', 'کرتا', 'کرتے', 'کرتی', 'کرنا', 'کرنے', 'کرو', 'کروں', 'کرے', 'کریں', 'کس', 'کسے', 'کسی', 'کہ', 'کہا', 'کہے', 'کو', 'کون', 'کوئی', 'کے', 'کی', 'کیا', 'کیسے', 'کیوں', 'کیونکہ', 'کیے', 'کئے', 'گا', 'گویا', 'گے', 'گی', 'گیا', 'گئے', 'گئی', 'لا', 'لاتا', 'لاتے', 'لاتی', 'لانا', 'لانے', 'لانی', 'لایا', 'لائے', 'لائی', 'لگا', 'لگے', 'لگی', 'لگیں', 'لو', 'لے', 'لی', 'لیا', 'لیتا', 'لیتے', 'لیتی', 'لیکن', 'لیں', 'لیے', 'لئے', 'مجھ', 'مجھے', 'مگر', 'میرا', 'میرے', 'میری', 'میں', 'نا', 'نہ', 'نہایت', 'نہیں', 'نے', 'ہاں', 'ہر', 'ہم', 'ہمارا', 'ہمارے', 'ہماری', 'ہو', 'ہوا', 'ہوتا', 'ہوتے', 'ہوتی', 'ہوتیں', 'ہوں', 'ہونا', 'ہونگے', 'ہونے', 'ہونی', 'ہوئے', 'ہوئی', 'ہوئیں', 'ہے', 'ہی', 'ہیں', 'و', 'والا', 'والوں', 'والے', 'والی', 'وہ', 'وہاں', 'وہی', 'وہیں', 'یا', 'یعنی', 'یہ', 'یہاں', 'یہی', 'یہیں']\n"
     ]
    }
   ],
   "source": [
    "\n",
    "file_path = 'my_urdu_stopwords.txt'\n",
    "STOP_WORDS= \"\"\n",
    "with open(file_path,'r',encoding='utf-8')as file:\n",
    "    urdu_stop_words = file.read().strip()\n",
    "    STOP_WORDS+=urdu_stop_words\n",
    "stopword = STOP_WORDS.split()\n",
    "print(stopword)"
   ]
  },
  {
   "cell_type": "code",
   "execution_count": 14,
   "metadata": {},
   "outputs": [
    {
     "name": "stdout",
     "output_type": "stream",
     "text": [
      "265\n"
     ]
    }
   ],
   "source": [
    "import string\n",
    "print(len(stopword))"
   ]
  },
  {
   "cell_type": "code",
   "execution_count": 15,
   "metadata": {},
   "outputs": [],
   "source": [
    "def lemmatize_text(text):\n",
    "    lemmetized = \"\"\n",
    "    temp  = lemmatizer.lemma_lookup(text)\n",
    "    for t in temp:\n",
    "        lemmetized+=t[0]+\" \"\n",
    "    return lemmetized.strip()\n",
    "    \n",
    "def remove_my_stopwords(text, stopwords):\n",
    "    return \" \".join(word for word in text.split() if word not in stopwords)\n"
   ]
  },
  {
   "cell_type": "code",
   "execution_count": 16,
   "metadata": {},
   "outputs": [],
   "source": [
    "processed_df = pd.DataFrame(columns=['old_text','text'])\n",
    "processed_df['old_text'] = urdu_dataset['Tweet']\n",
    "processed_df['text'] = urdu_dataset.Tweet\n",
    "processed_df['text'] = processed_df.text.apply(normalize)\n",
    "processed_df['text'] = processed_df.text.apply(remove_accents)\n",
    "processed_df['text'] = processed_df.text.apply(remove_punctuation)\n",
    "processed_df['text'] = processed_df.text.apply(replace_emails)\n",
    "processed_df['text'] = processed_df.text.apply(replace_numbers)\n",
    "processed_df['text'] = processed_df.text.apply(replace_currency_symbols)\n",
    "\n",
    "processed_df['cleaned_text'] = processed_df['text'].apply(lambda x: remove_my_stopwords(x, stopword))\n",
    "\n",
    "processed_df['Found_stop_words'] = processed_df['text'].apply(lambda x: any(word in stopword for word in x.split()))\n",
    "\n",
    "processed_df['lemmetized_text'] = processed_df.text.apply(lemmatize_text)\n",
    "processed_df['Class'] = urdu_dataset.Encoded_Class"
   ]
  },
  {
   "cell_type": "code",
   "execution_count": 17,
   "metadata": {},
   "outputs": [
    {
     "data": {
      "text/html": [
       "<div>\n",
       "<style scoped>\n",
       "    .dataframe tbody tr th:only-of-type {\n",
       "        vertical-align: middle;\n",
       "    }\n",
       "\n",
       "    .dataframe tbody tr th {\n",
       "        vertical-align: top;\n",
       "    }\n",
       "\n",
       "    .dataframe thead th {\n",
       "        text-align: right;\n",
       "    }\n",
       "</style>\n",
       "<table border=\"1\" class=\"dataframe\">\n",
       "  <thead>\n",
       "    <tr style=\"text-align: right;\">\n",
       "      <th></th>\n",
       "      <th>old_text</th>\n",
       "      <th>text</th>\n",
       "      <th>cleaned_text</th>\n",
       "      <th>Found_stop_words</th>\n",
       "      <th>lemmetized_text</th>\n",
       "      <th>Class</th>\n",
       "    </tr>\n",
       "  </thead>\n",
       "  <tbody>\n",
       "    <tr>\n",
       "      <th>0</th>\n",
       "      <td>میں نے ایٹم بم بنایا ھے ۔۔۔۔او بھائی ایٹم بمب ...</td>\n",
       "      <td>میں نے ایٹم بم بنایا ھے او بھائی ایٹم بمب کوٹ ...</td>\n",
       "      <td>ایٹم بم بنایا ھے بھائی ایٹم بمب کوٹ لکھپت اتفا...</td>\n",
       "      <td>True</td>\n",
       "      <td>میں نے ایٹم بم بنایا ھے او بھائی ایٹم بمب کوٹ ...</td>\n",
       "      <td>2</td>\n",
       "    </tr>\n",
       "    <tr>\n",
       "      <th>1</th>\n",
       "      <td>چندے سے انقلاب اور عمران خان وزیر اعظم نہیں بن...</td>\n",
       "      <td>چندے سے انقلاب اور عمران خان وزیر اعظم نہیں بن...</td>\n",
       "      <td>چندے انقلاب عمران خان وزیر اعظم بن سکتے</td>\n",
       "      <td>True</td>\n",
       "      <td>چندے سے انقلاب اور عمران خان وزیر اعظم نہیں بن...</td>\n",
       "      <td>0</td>\n",
       "    </tr>\n",
       "    <tr>\n",
       "      <th>2</th>\n",
       "      <td>ٹویٹر کا خیال کیسے آیا ؟</td>\n",
       "      <td>ٹویٹر کا خیال کیسے آیا</td>\n",
       "      <td>ٹویٹر خیال</td>\n",
       "      <td>True</td>\n",
       "      <td>ٹویٹر کا خیال کیسے آیا</td>\n",
       "      <td>1</td>\n",
       "    </tr>\n",
       "    <tr>\n",
       "      <th>3</th>\n",
       "      <td>سرچ انجن گوگل کے نائب صدر نے فضا میں ، 130,000...</td>\n",
       "      <td>سرچ انجن گوگل کے نائب صدر نے فضا میں   فٹ کی ب...</td>\n",
       "      <td>سرچ انجن گوگل نائب صدر فضا فٹ بلندی چھلانگ عال...</td>\n",
       "      <td>True</td>\n",
       "      <td>سرچ انجن گوگل کے نائب صدر نے فضا میں فٹ کی بلن...</td>\n",
       "      <td>2</td>\n",
       "    </tr>\n",
       "    <tr>\n",
       "      <th>4</th>\n",
       "      <td>ابھی تک اسکی لہریں کبھی کبھی آ جاتی ہیں یار :أْ</td>\n",
       "      <td>ابھی تک اسکی لہریں کبھی کبھی آ جاتی ہیں یار أ</td>\n",
       "      <td>اسکی لہریں یار أ</td>\n",
       "      <td>True</td>\n",
       "      <td>ابھی تک اسکی لہریں کبھی کبھی آ جاتی ہیں یار أ</td>\n",
       "      <td>2</td>\n",
       "    </tr>\n",
       "  </tbody>\n",
       "</table>\n",
       "</div>"
      ],
      "text/plain": [
       "                                            old_text  \\\n",
       "0  میں نے ایٹم بم بنایا ھے ۔۔۔۔او بھائی ایٹم بمب ...   \n",
       "1  چندے سے انقلاب اور عمران خان وزیر اعظم نہیں بن...   \n",
       "2                           ٹویٹر کا خیال کیسے آیا ؟   \n",
       "3  سرچ انجن گوگل کے نائب صدر نے فضا میں ، 130,000...   \n",
       "4    ابھی تک اسکی لہریں کبھی کبھی آ جاتی ہیں یار :أْ   \n",
       "\n",
       "                                                text  \\\n",
       "0  میں نے ایٹم بم بنایا ھے او بھائی ایٹم بمب کوٹ ...   \n",
       "1  چندے سے انقلاب اور عمران خان وزیر اعظم نہیں بن...   \n",
       "2                            ٹویٹر کا خیال کیسے آیا    \n",
       "3  سرچ انجن گوگل کے نائب صدر نے فضا میں   فٹ کی ب...   \n",
       "4      ابھی تک اسکی لہریں کبھی کبھی آ جاتی ہیں یار أ   \n",
       "\n",
       "                                        cleaned_text  Found_stop_words  \\\n",
       "0  ایٹم بم بنایا ھے بھائی ایٹم بمب کوٹ لکھپت اتفا...              True   \n",
       "1            چندے انقلاب عمران خان وزیر اعظم بن سکتے              True   \n",
       "2                                         ٹویٹر خیال              True   \n",
       "3  سرچ انجن گوگل نائب صدر فضا فٹ بلندی چھلانگ عال...              True   \n",
       "4                                   اسکی لہریں یار أ              True   \n",
       "\n",
       "                                     lemmetized_text  Class  \n",
       "0  میں نے ایٹم بم بنایا ھے او بھائی ایٹم بمب کوٹ ...      2  \n",
       "1  چندے سے انقلاب اور عمران خان وزیر اعظم نہیں بن...      0  \n",
       "2                             ٹویٹر کا خیال کیسے آیا      1  \n",
       "3  سرچ انجن گوگل کے نائب صدر نے فضا میں فٹ کی بلن...      2  \n",
       "4      ابھی تک اسکی لہریں کبھی کبھی آ جاتی ہیں یار أ      2  "
      ]
     },
     "execution_count": 17,
     "metadata": {},
     "output_type": "execute_result"
    }
   ],
   "source": [
    "processed_df.head()"
   ]
  },
  {
   "cell_type": "code",
   "execution_count": 18,
   "metadata": {},
   "outputs": [
    {
     "name": "stdout",
     "output_type": "stream",
     "text": [
      "<class 'pandas.core.frame.DataFrame'>\n",
      "Int64Index: 999 entries, 0 to 999\n",
      "Data columns (total 6 columns):\n",
      " #   Column            Non-Null Count  Dtype \n",
      "---  ------            --------------  ----- \n",
      " 0   old_text          999 non-null    object\n",
      " 1   text              999 non-null    object\n",
      " 2   cleaned_text      999 non-null    object\n",
      " 3   Found_stop_words  999 non-null    bool  \n",
      " 4   lemmetized_text   999 non-null    object\n",
      " 5   Class             999 non-null    int32 \n",
      "dtypes: bool(1), int32(1), object(4)\n",
      "memory usage: 43.9+ KB\n"
     ]
    }
   ],
   "source": [
    "processed_df.info()"
   ]
  },
  {
   "cell_type": "code",
   "execution_count": 40,
   "metadata": {},
   "outputs": [
    {
     "data": {
      "text/html": [
       "<div>\n",
       "<style scoped>\n",
       "    .dataframe tbody tr th:only-of-type {\n",
       "        vertical-align: middle;\n",
       "    }\n",
       "\n",
       "    .dataframe tbody tr th {\n",
       "        vertical-align: top;\n",
       "    }\n",
       "\n",
       "    .dataframe thead th {\n",
       "        text-align: right;\n",
       "    }\n",
       "</style>\n",
       "<table border=\"1\" class=\"dataframe\">\n",
       "  <thead>\n",
       "    <tr style=\"text-align: right;\">\n",
       "      <th></th>\n",
       "      <th>Tweet</th>\n",
       "      <th>Class</th>\n",
       "    </tr>\n",
       "  </thead>\n",
       "  <tbody>\n",
       "    <tr>\n",
       "      <th>0</th>\n",
       "      <td>ایٹم بم بنایا ھے بھائی ایٹم بمب کوٹ لکھپت اتفا...</td>\n",
       "      <td>2</td>\n",
       "    </tr>\n",
       "    <tr>\n",
       "      <th>1</th>\n",
       "      <td>چندے انقلاب عمران خان وزیر اعظم بن سکتے</td>\n",
       "      <td>0</td>\n",
       "    </tr>\n",
       "    <tr>\n",
       "      <th>2</th>\n",
       "      <td>ٹویٹر خیال</td>\n",
       "      <td>1</td>\n",
       "    </tr>\n",
       "    <tr>\n",
       "      <th>3</th>\n",
       "      <td>سرچ انجن گوگل نائب صدر فضا فٹ بلندی چھلانگ عال...</td>\n",
       "      <td>2</td>\n",
       "    </tr>\n",
       "    <tr>\n",
       "      <th>4</th>\n",
       "      <td>اسکی لہریں یار أ</td>\n",
       "      <td>2</td>\n",
       "    </tr>\n",
       "  </tbody>\n",
       "</table>\n",
       "</div>"
      ],
      "text/plain": [
       "                                               Tweet  Class\n",
       "0  ایٹم بم بنایا ھے بھائی ایٹم بمب کوٹ لکھپت اتفا...      2\n",
       "1            چندے انقلاب عمران خان وزیر اعظم بن سکتے      0\n",
       "2                                         ٹویٹر خیال      1\n",
       "3  سرچ انجن گوگل نائب صدر فضا فٹ بلندی چھلانگ عال...      2\n",
       "4                                   اسکی لہریں یار أ      2"
      ]
     },
     "execution_count": 40,
     "metadata": {},
     "output_type": "execute_result"
    }
   ],
   "source": [
    "urdu_dataset['Tweet'] = processed_df['cleaned_text']\n",
    "urdu_dataset['Class'] = processed_df.Class\n",
    "urdu_dataset.drop('Encoded_Class',axis=1,inplace=True)\n",
    "urdu_dataset.head()"
   ]
  },
  {
   "cell_type": "markdown",
   "metadata": {},
   "source": [
    "## Analysis df to csv"
   ]
  },
  {
   "cell_type": "code",
   "execution_count": 116,
   "metadata": {},
   "outputs": [],
   "source": [
    "urdu_dataset.to_csv('Analysed_Urdu_Tweets.csv')"
   ]
  },
  {
   "cell_type": "markdown",
   "metadata": {},
   "source": [
    "## WORDS in dataset"
   ]
  },
  {
   "cell_type": "code",
   "execution_count": 41,
   "metadata": {},
   "outputs": [],
   "source": [
    "tokenizer = Tokenizer()\n",
    "tokenizer.fit_on_texts(urdu_dataset['Tweet'])\n",
    "sequences = tokenizer.texts_to_sequences(urdu_dataset['Tweet'])\n",
    "\n",
    "max_sequence_length = max(len(x) for x in sequences)\n",
    "padded_sequences = pad_sequences(sequences, maxlen=max_sequence_length, padding='post')"
   ]
  },
  {
   "cell_type": "markdown",
   "metadata": {},
   "source": [
    "## Split the dataset"
   ]
  },
  {
   "cell_type": "code",
   "execution_count": 42,
   "metadata": {},
   "outputs": [
    {
     "name": "stdout",
     "output_type": "stream",
     "text": [
      "Training set shape: (749, 31)\n",
      "Testing set shape: (250, 31)\n"
     ]
    }
   ],
   "source": [
    "# Splitting the dataset\n",
    "from sklearn.model_selection import train_test_split\n",
    "X_train, X_test, y_train, y_test = train_test_split(padded_sequences, df['Class'], test_size=0.25, random_state=42)\n",
    "\n",
    "print(\"Training set shape:\",X_train.shape)\n",
    "print(\"Testing set shape:\", X_test.shape)"
   ]
  },
  {
   "cell_type": "markdown",
   "metadata": {},
   "source": [
    "## MODELS"
   ]
  },
  {
   "cell_type": "code",
   "execution_count": 43,
   "metadata": {},
   "outputs": [],
   "source": [
    "from tensorflow.keras.preprocessing.sequence import pad_sequences\n",
    "from tensorflow.keras.preprocessing.text import Tokenizer\n",
    "import tensorflow as tf\n",
    "from tensorflow.keras.models import Sequential\n",
    "from tensorflow.keras.layers import Embedding, LSTM, GRU, Bidirectional, Dense, Dropout\n",
    "from tensorflow.keras.utils import to_categorical\n",
    "from sklearn.feature_extraction.text import TfidfVectorizer\n",
    "from keras.models import Sequential\n",
    "from keras.layers import Embedding, SimpleRNN, Dense\n",
    "from keras.optimizers import Adam"
   ]
  },
  {
   "cell_type": "markdown",
   "metadata": {},
   "source": [
    "## EVAL"
   ]
  },
  {
   "cell_type": "code",
   "execution_count": 45,
   "metadata": {},
   "outputs": [],
   "source": [
    "\n",
    "def plot(conf_mat):\n",
    "    sns.heatmap(conf_mat, annot=True, fmt='d', cmap='Blues')\n",
    "    plt.xlabel('Predicted Label')\n",
    "    plt.ylabel('Actual Label')\n",
    "    plt.title('Confusion Matrix')\n",
    "    plt.show()\n",
    "\n",
    "def evaluate_model(model, X_test, y_test):\n",
    "    \n",
    "    unique_classes = np.unique(y_test)\n",
    "    \n",
    "    classes = ['Positive','Negative','Neutral']\n",
    "    \n",
    "    y_pred = model.predict(X_test).round().astype(int)\n",
    "\n",
    "    print(classification_report(y_test, y_pred, target_names=classes))\n",
    "\n",
    "    confusio_matrix = confusion_matrix(y_test, y_pred)\n",
    "    plot(confusio_matrix)"
   ]
  },
  {
   "cell_type": "markdown",
   "metadata": {},
   "source": [
    "## Models"
   ]
  },
  {
   "cell_type": "code",
   "execution_count": 51,
   "metadata": {},
   "outputs": [],
   "source": [
    "from tensorflow.keras.layers import SimpleRNN, GRU, LSTM, Dense, Embedding, Dropout, Bidirectional\n",
    "\n",
    "vocab_size = len(tokenizer.word_index) + 1\n",
    "embedding_dim = 128\n",
    "\n",
    "def my_models_function(model_selected):\n",
    "    \n",
    "    model = Sequential()\n",
    "    model.add(Embedding(input_dim=vocab_size, output_dim=embedding_dim, input_length=max_sequence_length))\n",
    "\n",
    "    num_layers=3\n",
    "    dropout_rate=0.4\n",
    "        \n",
    "    for _ in range(2):\n",
    "        if model_selected == 'RNN':\n",
    "            model.add(SimpleRNN(units=64, return_sequences=True))\n",
    "        elif model_selected == 'GRU':\n",
    "            model.add(GRU(units=64, return_sequences=True))\n",
    "        elif model_selected == 'LSTM':\n",
    "            model.add(LSTM(units=64, return_sequences=True))\n",
    "        elif model_selected == 'BiLSTM':\n",
    "            model.add(Bidirectional(LSTM(units=64, return_sequences=True)))\n",
    "        else:\n",
    "            raise ValueError(f\"Invalid model_selected: {model_selected}\")\n",
    "\n",
    "        model.add(Dropout(dropout_rate))\n",
    "\n",
    "        model.add(Dropout(dropout_rate))\n",
    "    if model_selected == 'BiLSTM':\n",
    "        model.add(Bidirectional(LSTM(units=64)))\n",
    "    elif model_selected == 'RNN':\n",
    "        model.add(SimpleRNN(units=64))\n",
    "    elif model_selected == 'GRU':\n",
    "        model.add(GRU(units=64))\n",
    "    elif model_selected == 'LSTM':\n",
    "        model.add(LSTM(units=64))\n",
    "    else:\n",
    "        raise ValueError(f\"Invalid model_selected: {model_selected}\")\n",
    "\n",
    "    model.add(Dropout(dropout_rate))\n",
    "    model.add(Dense(1, activation='sigmoid'))\n",
    "\n",
    "    model.compile(optimizer='adam', loss='categorical_crossentropy', metrics=['accuracy'])\n",
    "    return model\n"
   ]
  },
  {
   "cell_type": "markdown",
   "metadata": {},
   "source": [
    "## EVALUATING MODELS"
   ]
  },
  {
   "cell_type": "code",
   "execution_count": 56,
   "metadata": {},
   "outputs": [
    {
     "name": "stdout",
     "output_type": "stream",
     "text": [
      "RNN\n",
      "Epoch 1/8\n",
      "18/18 [==============================] - 8s 121ms/step - loss: 0.0000e+00 - accuracy: 0.2513 - val_loss: 0.0000e+00 - val_accuracy: 0.5160\n",
      "Epoch 2/8\n",
      "18/18 [==============================] - 1s 68ms/step - loss: 0.0000e+00 - accuracy: 0.3957 - val_loss: 0.0000e+00 - val_accuracy: 0.5160\n",
      "Epoch 3/8\n",
      "18/18 [==============================] - 1s 71ms/step - loss: 0.0000e+00 - accuracy: 0.2906 - val_loss: 0.0000e+00 - val_accuracy: 0.0319\n",
      "Epoch 4/8\n",
      "18/18 [==============================] - 1s 73ms/step - loss: 0.0000e+00 - accuracy: 0.3440 - val_loss: 0.0000e+00 - val_accuracy: 0.3032\n",
      "Epoch 5/8\n",
      "18/18 [==============================] - 1s 72ms/step - loss: 0.0000e+00 - accuracy: 0.4617 - val_loss: 0.0000e+00 - val_accuracy: 0.2979\n",
      "Epoch 6/8\n",
      "18/18 [==============================] - 1s 74ms/step - loss: 0.0000e+00 - accuracy: 0.5009 - val_loss: 0.0000e+00 - val_accuracy: 0.2500\n",
      "Epoch 7/8\n",
      "18/18 [==============================] - 1s 73ms/step - loss: 0.0000e+00 - accuracy: 0.5045 - val_loss: 0.0000e+00 - val_accuracy: 0.2819\n",
      "Epoch 8/8\n",
      "18/18 [==============================] - 1s 73ms/step - loss: 0.0000e+00 - accuracy: 0.5062 - val_loss: 0.0000e+00 - val_accuracy: 0.2500\n",
      "8/8 [==============================] - 1s 18ms/step\n",
      "              precision    recall  f1-score   support\n",
      "\n",
      "    Positive       0.56      0.52      0.54       122\n",
      "    Negative       0.04      0.83      0.07         6\n",
      "     Neutral       0.00      0.00      0.00       122\n",
      "\n",
      "    accuracy                           0.28       250\n",
      "   macro avg       0.20      0.45      0.20       250\n",
      "weighted avg       0.27      0.28      0.27       250\n",
      "\n"
     ]
    },
    {
     "name": "stderr",
     "output_type": "stream",
     "text": [
      "d:\\Python64\\lib\\site-packages\\sklearn\\metrics\\_classification.py:1318: UndefinedMetricWarning: Precision and F-score are ill-defined and being set to 0.0 in labels with no predicted samples. Use `zero_division` parameter to control this behavior.\n",
      "  _warn_prf(average, modifier, msg_start, len(result))\n",
      "d:\\Python64\\lib\\site-packages\\sklearn\\metrics\\_classification.py:1318: UndefinedMetricWarning: Precision and F-score are ill-defined and being set to 0.0 in labels with no predicted samples. Use `zero_division` parameter to control this behavior.\n",
      "  _warn_prf(average, modifier, msg_start, len(result))\n",
      "d:\\Python64\\lib\\site-packages\\sklearn\\metrics\\_classification.py:1318: UndefinedMetricWarning: Precision and F-score are ill-defined and being set to 0.0 in labels with no predicted samples. Use `zero_division` parameter to control this behavior.\n",
      "  _warn_prf(average, modifier, msg_start, len(result))\n"
     ]
    },
    {
     "data": {
      "image/png": "[encoded data removed]",
      "text/plain": [
       "<Figure size 640x480 with 2 Axes>"
      ]
     },
     "metadata": {},
     "output_type": "display_data"
    }
   ],
   "source": [
    "\n",
    "print(\"RNN\")\n",
    "model = my_models_function(\"RNN\")\n",
    "model.fit(X_train, y_train, batch_size=32, epochs=8, validation_split=0.25)\n",
    "evaluate_model(model, X_test, y_test)  "
   ]
  },
  {
   "cell_type": "code",
   "execution_count": 57,
   "metadata": {},
   "outputs": [
    {
     "name": "stdout",
     "output_type": "stream",
     "text": [
      "GRU\n",
      "Epoch 1/8\n",
      "18/18 [==============================] - 17s 372ms/step - loss: 0.0000e+00 - accuracy: 0.3832 - val_loss: 0.0000e+00 - val_accuracy: 0.5160\n",
      "Epoch 2/8\n",
      "18/18 [==============================] - 3s 194ms/step - loss: 0.0000e+00 - accuracy: 0.4795 - val_loss: 0.0000e+00 - val_accuracy: 0.5160\n",
      "Epoch 3/8\n",
      "18/18 [==============================] - 3s 178ms/step - loss: 0.0000e+00 - accuracy: 0.4902 - val_loss: 0.0000e+00 - val_accuracy: 0.5160\n",
      "Epoch 4/8\n",
      "18/18 [==============================] - 2s 132ms/step - loss: 0.0000e+00 - accuracy: 0.4973 - val_loss: 0.0000e+00 - val_accuracy: 0.5160\n",
      "Epoch 5/8\n",
      "18/18 [==============================] - 3s 152ms/step - loss: 0.0000e+00 - accuracy: 0.4777 - val_loss: 0.0000e+00 - val_accuracy: 0.5160\n",
      "Epoch 6/8\n",
      "18/18 [==============================] - 2s 137ms/step - loss: 0.0000e+00 - accuracy: 0.4973 - val_loss: 0.0000e+00 - val_accuracy: 0.5160\n",
      "Epoch 7/8\n",
      "18/18 [==============================] - 2s 130ms/step - loss: 0.0000e+00 - accuracy: 0.4991 - val_loss: 0.0000e+00 - val_accuracy: 0.5160\n",
      "Epoch 8/8\n",
      "18/18 [==============================] - 2s 134ms/step - loss: 0.0000e+00 - accuracy: 0.4991 - val_loss: 0.0000e+00 - val_accuracy: 0.5160\n",
      "8/8 [==============================] - 2s 28ms/step\n",
      "              precision    recall  f1-score   support\n",
      "\n",
      "    Positive       0.49      1.00      0.66       122\n",
      "    Negative       0.00      0.00      0.00         6\n",
      "     Neutral       0.00      0.00      0.00       122\n",
      "\n",
      "    accuracy                           0.49       250\n",
      "   macro avg       0.16      0.33      0.22       250\n",
      "weighted avg       0.24      0.49      0.32       250\n",
      "\n"
     ]
    },
    {
     "name": "stderr",
     "output_type": "stream",
     "text": [
      "d:\\Python64\\lib\\site-packages\\sklearn\\metrics\\_classification.py:1318: UndefinedMetricWarning: Precision and F-score are ill-defined and being set to 0.0 in labels with no predicted samples. Use `zero_division` parameter to control this behavior.\n",
      "  _warn_prf(average, modifier, msg_start, len(result))\n",
      "d:\\Python64\\lib\\site-packages\\sklearn\\metrics\\_classification.py:1318: UndefinedMetricWarning: Precision and F-score are ill-defined and being set to 0.0 in labels with no predicted samples. Use `zero_division` parameter to control this behavior.\n",
      "  _warn_prf(average, modifier, msg_start, len(result))\n",
      "d:\\Python64\\lib\\site-packages\\sklearn\\metrics\\_classification.py:1318: UndefinedMetricWarning: Precision and F-score are ill-defined and being set to 0.0 in labels with no predicted samples. Use `zero_division` parameter to control this behavior.\n",
      "  _warn_prf(average, modifier, msg_start, len(result))\n"
     ]
    },
    {
     "data": {
      "image/png": "[encoded data removed]",
      "text/plain": [
       "<Figure size 640x480 with 2 Axes>"
      ]
     },
     "metadata": {},
     "output_type": "display_data"
    }
   ],
   "source": [
    "print(\"GRU\")\n",
    "model = my_models_function(\"GRU\")\n",
    "model.fit(X_train, y_train, batch_size=32, epochs=8, validation_split=0.25)\n",
    "evaluate_model(model, X_test, y_test) "
   ]
  },
  {
   "cell_type": "code",
   "execution_count": 58,
   "metadata": {},
   "outputs": [
    {
     "name": "stdout",
     "output_type": "stream",
     "text": [
      "LSTM\n",
      "Epoch 1/8\n",
      "18/18 [==============================] - 23s 501ms/step - loss: 0.0000e+00 - accuracy: 0.0392 - val_loss: 0.0000e+00 - val_accuracy: 0.0106\n",
      "Epoch 2/8\n",
      "18/18 [==============================] - 4s 221ms/step - loss: 0.0000e+00 - accuracy: 0.3886 - val_loss: 0.0000e+00 - val_accuracy: 0.5160\n",
      "Epoch 3/8\n",
      "18/18 [==============================] - 5s 251ms/step - loss: 0.0000e+00 - accuracy: 0.4955 - val_loss: 0.0000e+00 - val_accuracy: 0.4947\n",
      "Epoch 4/8\n",
      "18/18 [==============================] - 5s 265ms/step - loss: 0.0000e+00 - accuracy: 0.4902 - val_loss: 0.0000e+00 - val_accuracy: 0.4043\n",
      "Epoch 5/8\n",
      "18/18 [==============================] - 5s 269ms/step - loss: 0.0000e+00 - accuracy: 0.4991 - val_loss: 0.0000e+00 - val_accuracy: 0.3138\n",
      "Epoch 6/8\n",
      "18/18 [==============================] - 5s 294ms/step - loss: 0.0000e+00 - accuracy: 0.5009 - val_loss: 0.0000e+00 - val_accuracy: 0.3032\n",
      "Epoch 7/8\n",
      "18/18 [==============================] - 4s 209ms/step - loss: 0.0000e+00 - accuracy: 0.5062 - val_loss: 0.0000e+00 - val_accuracy: 0.2872\n",
      "Epoch 8/8\n",
      "18/18 [==============================] - 4s 200ms/step - loss: 0.0000e+00 - accuracy: 0.5045 - val_loss: 0.0000e+00 - val_accuracy: 0.2340\n",
      "8/8 [==============================] - 2s 106ms/step\n",
      "              precision    recall  f1-score   support\n",
      "\n",
      "    Positive       0.61      0.58      0.59       122\n",
      "    Negative       0.03      0.67      0.06         6\n",
      "     Neutral       0.00      0.00      0.00       122\n",
      "\n",
      "    accuracy                           0.30       250\n",
      "   macro avg       0.21      0.42      0.22       250\n",
      "weighted avg       0.30      0.30      0.29       250\n",
      "\n"
     ]
    },
    {
     "name": "stderr",
     "output_type": "stream",
     "text": [
      "d:\\Python64\\lib\\site-packages\\sklearn\\metrics\\_classification.py:1318: UndefinedMetricWarning: Precision and F-score are ill-defined and being set to 0.0 in labels with no predicted samples. Use `zero_division` parameter to control this behavior.\n",
      "  _warn_prf(average, modifier, msg_start, len(result))\n",
      "d:\\Python64\\lib\\site-packages\\sklearn\\metrics\\_classification.py:1318: UndefinedMetricWarning: Precision and F-score are ill-defined and being set to 0.0 in labels with no predicted samples. Use `zero_division` parameter to control this behavior.\n",
      "  _warn_prf(average, modifier, msg_start, len(result))\n",
      "d:\\Python64\\lib\\site-packages\\sklearn\\metrics\\_classification.py:1318: UndefinedMetricWarning: Precision and F-score are ill-defined and being set to 0.0 in labels with no predicted samples. Use `zero_division` parameter to control this behavior.\n",
      "  _warn_prf(average, modifier, msg_start, len(result))\n"
     ]
    },
    {
     "data": {
      "image/png": "[encoded data removed]",
      "text/plain": [
       "<Figure size 640x480 with 2 Axes>"
      ]
     },
     "metadata": {},
     "output_type": "display_data"
    }
   ],
   "source": [
    "print(\"LSTM\")\n",
    "model = my_models_function(\"LSTM\")\n",
    "model.fit(X_train, y_train, batch_size=32, epochs=8, validation_split=0.25)\n",
    "evaluate_model(model, X_test, y_test) "
   ]
  },
  {
   "cell_type": "code",
   "execution_count": 59,
   "metadata": {},
   "outputs": [
    {
     "name": "stdout",
     "output_type": "stream",
     "text": [
      "BiLSTM\n",
      "Epoch 1/8\n",
      "18/18 [==============================] - 28s 569ms/step - loss: 0.0000e+00 - accuracy: 0.4581 - val_loss: 0.0000e+00 - val_accuracy: 0.5160\n",
      "Epoch 2/8\n",
      "18/18 [==============================] - 7s 389ms/step - loss: 0.0000e+00 - accuracy: 0.4652 - val_loss: 0.0000e+00 - val_accuracy: 0.5160\n",
      "Epoch 3/8\n",
      "18/18 [==============================] - 7s 388ms/step - loss: 0.0000e+00 - accuracy: 0.4920 - val_loss: 0.0000e+00 - val_accuracy: 0.2234\n",
      "Epoch 4/8\n",
      "18/18 [==============================] - 7s 404ms/step - loss: 0.0000e+00 - accuracy: 0.4902 - val_loss: 0.0000e+00 - val_accuracy: 0.3191\n",
      "Epoch 5/8\n",
      "18/18 [==============================] - 7s 386ms/step - loss: 0.0000e+00 - accuracy: 0.4955 - val_loss: 0.0000e+00 - val_accuracy: 0.3032\n",
      "Epoch 6/8\n",
      "18/18 [==============================] - 7s 396ms/step - loss: 0.0000e+00 - accuracy: 0.5045 - val_loss: 0.0000e+00 - val_accuracy: 0.3191\n",
      "Epoch 7/8\n",
      "18/18 [==============================] - 7s 387ms/step - loss: 0.0000e+00 - accuracy: 0.5062 - val_loss: 0.0000e+00 - val_accuracy: 0.2926\n",
      "Epoch 8/8\n",
      "18/18 [==============================] - 7s 385ms/step - loss: 0.0000e+00 - accuracy: 0.5080 - val_loss: 0.0000e+00 - val_accuracy: 0.2979\n",
      "8/8 [==============================] - 6s 169ms/step\n",
      "              precision    recall  f1-score   support\n",
      "\n",
      "    Positive       0.59      0.68      0.63       122\n",
      "    Negative       0.03      0.50      0.05         6\n",
      "     Neutral       0.00      0.00      0.00       122\n",
      "\n",
      "    accuracy                           0.34       250\n",
      "   macro avg       0.21      0.39      0.23       250\n",
      "weighted avg       0.29      0.34      0.31       250\n",
      "\n"
     ]
    },
    {
     "name": "stderr",
     "output_type": "stream",
     "text": [
      "d:\\Python64\\lib\\site-packages\\sklearn\\metrics\\_classification.py:1318: UndefinedMetricWarning: Precision and F-score are ill-defined and being set to 0.0 in labels with no predicted samples. Use `zero_division` parameter to control this behavior.\n",
      "  _warn_prf(average, modifier, msg_start, len(result))\n",
      "d:\\Python64\\lib\\site-packages\\sklearn\\metrics\\_classification.py:1318: UndefinedMetricWarning: Precision and F-score are ill-defined and being set to 0.0 in labels with no predicted samples. Use `zero_division` parameter to control this behavior.\n",
      "  _warn_prf(average, modifier, msg_start, len(result))\n",
      "d:\\Python64\\lib\\site-packages\\sklearn\\metrics\\_classification.py:1318: UndefinedMetricWarning: Precision and F-score are ill-defined and being set to 0.0 in labels with no predicted samples. Use `zero_division` parameter to control this behavior.\n",
      "  _warn_prf(average, modifier, msg_start, len(result))\n"
     ]
    },
    {
     "data": {
      "image/png": "[encoded data removed]",
      "text/plain": [
       "<Figure size 640x480 with 2 Axes>"
      ]
     },
     "metadata": {},
     "output_type": "display_data"
    }
   ],
   "source": [
    "print(\"BiLSTM\")\n",
    "model = my_models_function(\"BiLSTM\")\n",
    "model.fit(X_train, y_train, batch_size=32, epochs=8, validation_split=0.25)\n",
    "evaluate_model(model, X_test, y_test) "
   ]
  },
  {
   "cell_type": "code",
   "execution_count": null,
   "metadata": {},
   "outputs": [],
   "source": []
  }
 ],
 "metadata": {
  "kernelspec": {
   "display_name": "Python 3",
   "language": "python",
   "name": "python3"
  },
  "language_info": {
   "codemirror_mode": {
    "name": "ipython",
    "version": 3
   },
   "file_extension": ".py",
   "mimetype": "text/x-python",
   "name": "python",
   "nbconvert_exporter": "python",
   "pygments_lexer": "ipython3",
   "version": "3.7.5"
  }
 },
 "nbformat": 4,
 "nbformat_minor": 2
}
