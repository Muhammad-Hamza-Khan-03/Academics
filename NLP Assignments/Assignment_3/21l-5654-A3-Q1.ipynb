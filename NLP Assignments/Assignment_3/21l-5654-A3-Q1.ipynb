{
 "cells": [
  {
   "cell_type": "code",
   "execution_count": 60,
   "metadata": {},
   "outputs": [],
   "source": [
    "import pandas as pd\n",
    "import matplotlib.pyplot as plt\n",
    "from sklearn.preprocessing import LabelEncoder\n",
    "from nltk.corpus import stopwords\n",
    "from nltk.tokenize import word_tokenize\n",
    "import nltk\n",
    "from nltk import WordNetLemmatizer\n",
    "import numpy as np\n",
    "from sklearn.metrics import classification_report, confusion_matrix\n",
    "import seaborn as sns\n",
    "from tensorflow.keras.preprocessing.sequence import pad_sequences\n",
    "from tensorflow.keras.preprocessing.text import Tokenizer\n",
    "import tensorflow as tf\n",
    "from tensorflow.keras.models import Sequential\n",
    "from tensorflow.keras.layers import Embedding, LSTM, GRU, Bidirectional, Dense, Dropout\n",
    "from tensorflow.keras.utils import to_categorical\n",
    "from sklearn.feature_extraction.text import TfidfVectorizer\n",
    "from keras.models import Sequential\n",
    "from keras.layers import Embedding, SimpleRNN, Dense\n",
    "from keras.optimizers import Adam"
   ]
  },
  {
   "cell_type": "markdown",
   "metadata": {},
   "source": [
    "## Urdu hack"
   ]
  },
  {
   "cell_type": "code",
   "execution_count": 61,
   "metadata": {},
   "outputs": [
    {
     "name": "stdout",
     "output_type": "stream",
     "text": [
      "Requirement already satisfied: urduhack in d:\\python64\\lib\\site-packages (1.1.1)Note: you may need to restart the kernel to use updated packages.\n",
      "\n",
      "Requirement already satisfied: tf2crf in d:\\python64\\lib\\site-packages (from urduhack) (0.1.33)\n",
      "Requirement already satisfied: tensorflow-datasets~=3.1 in d:\\python64\\lib\\site-packages (from urduhack) (3.2.1)\n",
      "Requirement already satisfied: Click~=7.1 in d:\\python64\\lib\\site-packages (from urduhack) (7.1.2)\n",
      "Requirement already satisfied: regex in d:\\python64\\lib\\site-packages (from urduhack) (2023.12.25)\n",
      "Requirement already satisfied: absl-py in d:\\python64\\lib\\site-packages (from tensorflow-datasets~=3.1->urduhack) (1.4.0)\n",
      "Requirement already satisfied: attrs>=18.1.0 in d:\\python64\\lib\\site-packages (from tensorflow-datasets~=3.1->urduhack) (23.2.0)\n",
      "Requirement already satisfied: dill in d:\\python64\\lib\\site-packages (from tensorflow-datasets~=3.1->urduhack) (0.3.7)\n",
      "Requirement already satisfied: future in d:\\python64\\lib\\site-packages (from tensorflow-datasets~=3.1->urduhack) (1.0.0)\n",
      "Requirement already satisfied: numpy in d:\\python64\\lib\\site-packages (from tensorflow-datasets~=3.1->urduhack) (1.21.6)\n",
      "Requirement already satisfied: promise in d:\\python64\\lib\\site-packages (from tensorflow-datasets~=3.1->urduhack) (2.3)\n",
      "Requirement already satisfied: protobuf>=3.6.1 in d:\\python64\\lib\\site-packages (from tensorflow-datasets~=3.1->urduhack) (3.19.6)\n",
      "Requirement already satisfied: requests>=2.19.0 in d:\\python64\\lib\\site-packages (from tensorflow-datasets~=3.1->urduhack) (2.31.0)\n",
      "Requirement already satisfied: six in c:\\users\\hamza\\appdata\\roaming\\python\\python37\\site-packages (from tensorflow-datasets~=3.1->urduhack) (1.16.0)\n",
      "Requirement already satisfied: tensorflow-metadata in d:\\python64\\lib\\site-packages (from tensorflow-datasets~=3.1->urduhack) (1.12.0)\n",
      "Requirement already satisfied: termcolor in d:\\python64\\lib\\site-packages (from tensorflow-datasets~=3.1->urduhack) (2.3.0)\n",
      "Requirement already satisfied: tqdm in d:\\python64\\lib\\site-packages (from tensorflow-datasets~=3.1->urduhack) (4.66.2)\n",
      "Requirement already satisfied: wrapt in d:\\python64\\lib\\site-packages (from tensorflow-datasets~=3.1->urduhack) (1.16.0)\n",
      "Requirement already satisfied: tensorflow>=2.1.0 in d:\\python64\\lib\\site-packages (from tf2crf->urduhack) (2.11.0)\n",
      "Requirement already satisfied: tensorflow-addons>=0.8.2 in d:\\python64\\lib\\site-packages (from tf2crf->urduhack) (0.19.0)\n",
      "Requirement already satisfied: importlib-metadata in d:\\python64\\lib\\site-packages (from attrs>=18.1.0->tensorflow-datasets~=3.1->urduhack) (6.7.0)\n",
      "Requirement already satisfied: charset-normalizer<4,>=2 in d:\\python64\\lib\\site-packages (from requests>=2.19.0->tensorflow-datasets~=3.1->urduhack) (3.3.2)\n",
      "Requirement already satisfied: idna<4,>=2.5 in d:\\python64\\lib\\site-packages (from requests>=2.19.0->tensorflow-datasets~=3.1->urduhack) (3.6)\n",
      "Requirement already satisfied: urllib3<3,>=1.21.1 in d:\\python64\\lib\\site-packages (from requests>=2.19.0->tensorflow-datasets~=3.1->urduhack) (2.0.7)\n",
      "Requirement already satisfied: certifi>=2017.4.17 in d:\\python64\\lib\\site-packages (from requests>=2.19.0->tensorflow-datasets~=3.1->urduhack) (2024.2.2)\n",
      "Requirement already satisfied: tensorflow-intel==2.11.0 in d:\\python64\\lib\\site-packages (from tensorflow>=2.1.0->tf2crf->urduhack) (2.11.0)\n",
      "Requirement already satisfied: astunparse>=1.6.0 in d:\\python64\\lib\\site-packages (from tensorflow-intel==2.11.0->tensorflow>=2.1.0->tf2crf->urduhack) (1.6.3)\n",
      "Requirement already satisfied: flatbuffers>=2.0 in d:\\python64\\lib\\site-packages (from tensorflow-intel==2.11.0->tensorflow>=2.1.0->tf2crf->urduhack) (24.3.7)\n",
      "Requirement already satisfied: gast<=0.4.0,>=0.2.1 in d:\\python64\\lib\\site-packages (from tensorflow-intel==2.11.0->tensorflow>=2.1.0->tf2crf->urduhack) (0.4.0)\n",
      "Requirement already satisfied: google-pasta>=0.1.1 in d:\\python64\\lib\\site-packages (from tensorflow-intel==2.11.0->tensorflow>=2.1.0->tf2crf->urduhack) (0.2.0)\n",
      "Requirement already satisfied: h5py>=2.9.0 in d:\\python64\\lib\\site-packages (from tensorflow-intel==2.11.0->tensorflow>=2.1.0->tf2crf->urduhack) (3.8.0)\n",
      "Requirement already satisfied: libclang>=13.0.0 in d:\\python64\\lib\\site-packages (from tensorflow-intel==2.11.0->tensorflow>=2.1.0->tf2crf->urduhack) (18.1.1)\n",
      "Requirement already satisfied: opt-einsum>=2.3.2 in d:\\python64\\lib\\site-packages (from tensorflow-intel==2.11.0->tensorflow>=2.1.0->tf2crf->urduhack) (3.3.0)\n",
      "Requirement already satisfied: packaging in c:\\users\\hamza\\appdata\\roaming\\python\\python37\\site-packages (from tensorflow-intel==2.11.0->tensorflow>=2.1.0->tf2crf->urduhack) (23.2)\n",
      "Requirement already satisfied: setuptools in c:\\users\\hamza\\appdata\\roaming\\python\\python37\\site-packages (from tensorflow-intel==2.11.0->tensorflow>=2.1.0->tf2crf->urduhack) (68.0.0)\n",
      "Requirement already satisfied: typing-extensions>=3.6.6 in d:\\python64\\lib\\site-packages (from tensorflow-intel==2.11.0->tensorflow>=2.1.0->tf2crf->urduhack) (4.7.1)\n",
      "Requirement already satisfied: grpcio<2.0,>=1.24.3 in d:\\python64\\lib\\site-packages (from tensorflow-intel==2.11.0->tensorflow>=2.1.0->tf2crf->urduhack) (1.62.1)\n",
      "Requirement already satisfied: tensorboard<2.12,>=2.11 in d:\\python64\\lib\\site-packages (from tensorflow-intel==2.11.0->tensorflow>=2.1.0->tf2crf->urduhack) (2.11.2)\n",
      "Requirement already satisfied: tensorflow-estimator<2.12,>=2.11.0 in d:\\python64\\lib\\site-packages (from tensorflow-intel==2.11.0->tensorflow>=2.1.0->tf2crf->urduhack) (2.11.0)\n",
      "Requirement already satisfied: keras<2.12,>=2.11.0 in d:\\python64\\lib\\site-packages (from tensorflow-intel==2.11.0->tensorflow>=2.1.0->tf2crf->urduhack) (2.11.0)\n",
      "Requirement already satisfied: tensorflow-io-gcs-filesystem>=0.23.1 in d:\\python64\\lib\\site-packages (from tensorflow-intel==2.11.0->tensorflow>=2.1.0->tf2crf->urduhack) (0.31.0)\n",
      "Requirement already satisfied: typeguard>=2.7 in d:\\python64\\lib\\site-packages (from tensorflow-addons>=0.8.2->tf2crf->urduhack) (4.1.2)\n",
      "Requirement already satisfied: googleapis-common-protos<2,>=1.52.0 in d:\\python64\\lib\\site-packages (from tensorflow-metadata->tensorflow-datasets~=3.1->urduhack) (1.63.0)\n",
      "Requirement already satisfied: colorama in c:\\users\\hamza\\appdata\\roaming\\python\\python37\\site-packages (from tqdm->tensorflow-datasets~=3.1->urduhack) (0.4.6)\n",
      "Requirement already satisfied: zipp>=0.5 in d:\\python64\\lib\\site-packages (from importlib-metadata->attrs>=18.1.0->tensorflow-datasets~=3.1->urduhack) (3.15.0)\n",
      "Requirement already satisfied: wheel<1.0,>=0.23.0 in d:\\python64\\lib\\site-packages (from astunparse>=1.6.0->tensorflow-intel==2.11.0->tensorflow>=2.1.0->tf2crf->urduhack) (0.42.0)\n",
      "Requirement already satisfied: google-auth<3,>=1.6.3 in d:\\python64\\lib\\site-packages (from tensorboard<2.12,>=2.11->tensorflow-intel==2.11.0->tensorflow>=2.1.0->tf2crf->urduhack) (2.29.0)\n",
      "Requirement already satisfied: google-auth-oauthlib<0.5,>=0.4.1 in d:\\python64\\lib\\site-packages (from tensorboard<2.12,>=2.11->tensorflow-intel==2.11.0->tensorflow>=2.1.0->tf2crf->urduhack) (0.4.6)\n",
      "Requirement already satisfied: markdown>=2.6.8 in d:\\python64\\lib\\site-packages (from tensorboard<2.12,>=2.11->tensorflow-intel==2.11.0->tensorflow>=2.1.0->tf2crf->urduhack) (3.4.4)\n",
      "Requirement already satisfied: tensorboard-data-server<0.7.0,>=0.6.0 in d:\\python64\\lib\\site-packages (from tensorboard<2.12,>=2.11->tensorflow-intel==2.11.0->tensorflow>=2.1.0->tf2crf->urduhack) (0.6.1)\n",
      "Requirement already satisfied: tensorboard-plugin-wit>=1.6.0 in d:\\python64\\lib\\site-packages (from tensorboard<2.12,>=2.11->tensorflow-intel==2.11.0->tensorflow>=2.1.0->tf2crf->urduhack) (1.8.1)\n",
      "Requirement already satisfied: werkzeug>=1.0.1 in d:\\python64\\lib\\site-packages (from tensorboard<2.12,>=2.11->tensorflow-intel==2.11.0->tensorflow>=2.1.0->tf2crf->urduhack) (2.2.3)\n",
      "Requirement already satisfied: cachetools<6.0,>=2.0.0 in d:\\python64\\lib\\site-packages (from google-auth<3,>=1.6.3->tensorboard<2.12,>=2.11->tensorflow-intel==2.11.0->tensorflow>=2.1.0->tf2crf->urduhack) (5.3.3)\n",
      "Requirement already satisfied: pyasn1-modules>=0.2.1 in d:\\python64\\lib\\site-packages (from google-auth<3,>=1.6.3->tensorboard<2.12,>=2.11->tensorflow-intel==2.11.0->tensorflow>=2.1.0->tf2crf->urduhack) (0.3.0)\n",
      "Requirement already satisfied: rsa<5,>=3.1.4 in d:\\python64\\lib\\site-packages (from google-auth<3,>=1.6.3->tensorboard<2.12,>=2.11->tensorflow-intel==2.11.0->tensorflow>=2.1.0->tf2crf->urduhack) (4.9)\n",
      "Requirement already satisfied: requests-oauthlib>=0.7.0 in d:\\python64\\lib\\site-packages (from google-auth-oauthlib<0.5,>=0.4.1->tensorboard<2.12,>=2.11->tensorflow-intel==2.11.0->tensorflow>=2.1.0->tf2crf->urduhack) (1.4.0)\n",
      "Requirement already satisfied: MarkupSafe>=2.1.1 in d:\\python64\\lib\\site-packages (from werkzeug>=1.0.1->tensorboard<2.12,>=2.11->tensorflow-intel==2.11.0->tensorflow>=2.1.0->tf2crf->urduhack) (2.1.5)\n",
      "Requirement already satisfied: pyasn1<0.6.0,>=0.4.6 in d:\\python64\\lib\\site-packages (from pyasn1-modules>=0.2.1->google-auth<3,>=1.6.3->tensorboard<2.12,>=2.11->tensorflow-intel==2.11.0->tensorflow>=2.1.0->tf2crf->urduhack) (0.5.1)\n",
      "Requirement already satisfied: oauthlib>=3.0.0 in d:\\python64\\lib\\site-packages (from requests-oauthlib>=0.7.0->google-auth-oauthlib<0.5,>=0.4.1->tensorboard<2.12,>=2.11->tensorflow-intel==2.11.0->tensorflow>=2.1.0->tf2crf->urduhack) (3.2.2)\n"
     ]
    }
   ],
   "source": [
    "pip install urduhack"
   ]
  },
  {
   "cell_type": "code",
   "execution_count": 62,
   "metadata": {},
   "outputs": [],
   "source": [
    "import urduhack\n",
    "from urduhack.normalization import normalize\n",
    "from urduhack.preprocessing import normalize_whitespace,remove_punctuation,remove_accents,replace_urls,replace_emails,replace_numbers,replace_currency_symbols\n",
    "\n",
    "from urduhack.models.lemmatizer import lemmatizer"
   ]
  },
  {
   "cell_type": "code",
   "execution_count": 63,
   "metadata": {},
   "outputs": [],
   "source": [
    "urduhack.download()"
   ]
  },
  {
   "cell_type": "markdown",
   "metadata": {},
   "source": [
    "## Reading files"
   ]
  },
  {
   "cell_type": "code",
   "execution_count": 64,
   "metadata": {},
   "outputs": [
    {
     "data": {
      "text/html": [
       "<div>\n",
       "<style scoped>\n",
       "    .dataframe tbody tr th:only-of-type {\n",
       "        vertical-align: middle;\n",
       "    }\n",
       "\n",
       "    .dataframe tbody tr th {\n",
       "        vertical-align: top;\n",
       "    }\n",
       "\n",
       "    .dataframe thead th {\n",
       "        text-align: right;\n",
       "    }\n",
       "</style>\n",
       "<table border=\"1\" class=\"dataframe\">\n",
       "  <thead>\n",
       "    <tr style=\"text-align: right;\">\n",
       "      <th></th>\n",
       "      <th>Tweet</th>\n",
       "      <th>Class</th>\n",
       "    </tr>\n",
       "  </thead>\n",
       "  <tbody>\n",
       "    <tr>\n",
       "      <th>0</th>\n",
       "      <td>میں نے ایٹم بم بنایا ھے ۔۔۔۔او بھائی ایٹم بمب ...</td>\n",
       "      <td>P</td>\n",
       "    </tr>\n",
       "    <tr>\n",
       "      <th>1</th>\n",
       "      <td>چندے سے انقلاب اور عمران خان وزیر اعظم نہیں بن...</td>\n",
       "      <td>N</td>\n",
       "    </tr>\n",
       "    <tr>\n",
       "      <th>2</th>\n",
       "      <td>ٹویٹر کا خیال کیسے آیا ؟</td>\n",
       "      <td>O</td>\n",
       "    </tr>\n",
       "    <tr>\n",
       "      <th>3</th>\n",
       "      <td>سرچ انجن گوگل کے نائب صدر نے فضا میں ، 130,000...</td>\n",
       "      <td>P</td>\n",
       "    </tr>\n",
       "    <tr>\n",
       "      <th>4</th>\n",
       "      <td>ابھی تک اسکی لہریں کبھی کبھی آ جاتی ہیں یار :أْ</td>\n",
       "      <td>P</td>\n",
       "    </tr>\n",
       "  </tbody>\n",
       "</table>\n",
       "</div>"
      ],
      "text/plain": [
       "                                               Tweet Class\n",
       "0  میں نے ایٹم بم بنایا ھے ۔۔۔۔او بھائی ایٹم بمب ...     P\n",
       "1  چندے سے انقلاب اور عمران خان وزیر اعظم نہیں بن...     N\n",
       "2                           ٹویٹر کا خیال کیسے آیا ؟     O\n",
       "3  سرچ انجن گوگل کے نائب صدر نے فضا میں ، 130,000...     P\n",
       "4    ابھی تک اسکی لہریں کبھی کبھی آ جاتی ہیں یار :أْ     P"
      ]
     },
     "execution_count": 64,
     "metadata": {},
     "output_type": "execute_result"
    }
   ],
   "source": [
    "urdu_dataset = pd.read_csv(\"urdu-sentiment-corpus-v1.tsv\",sep=\"\\t\")\n",
    "urdu_dataset.head()"
   ]
  },
  {
   "cell_type": "code",
   "execution_count": 65,
   "metadata": {},
   "outputs": [
    {
     "name": "stdout",
     "output_type": "stream",
     "text": [
      "<class 'pandas.core.frame.DataFrame'>\n",
      "RangeIndex: 1000 entries, 0 to 999\n",
      "Data columns (total 2 columns):\n",
      " #   Column  Non-Null Count  Dtype \n",
      "---  ------  --------------  ----- \n",
      " 0   Tweet   1000 non-null   object\n",
      " 1   Class   999 non-null    object\n",
      "dtypes: object(2)\n",
      "memory usage: 15.8+ KB\n"
     ]
    }
   ],
   "source": [
    "urdu_dataset.info()"
   ]
  },
  {
   "cell_type": "markdown",
   "metadata": {},
   "source": [
    "## Removing null values"
   ]
  },
  {
   "cell_type": "code",
   "execution_count": 66,
   "metadata": {},
   "outputs": [
    {
     "name": "stdout",
     "output_type": "stream",
     "text": [
      "Tweet    0\n",
      "Class    1\n",
      "dtype: int64\n",
      "After Null values Removed\n",
      " Tweet    0\n",
      "Class    0\n",
      "dtype: int64\n"
     ]
    }
   ],
   "source": [
    "print(urdu_dataset.isna().sum())\n",
    "null_check = urdu_dataset.isna().sum().sum()>0\n",
    "if null_check:\n",
    "    urdu_dataset.dropna(inplace=True)\n",
    "    print(\"After Null values Removed\\n\",urdu_dataset.isna().sum())"
   ]
  },
  {
   "cell_type": "code",
   "execution_count": 67,
   "metadata": {},
   "outputs": [
    {
     "name": "stdout",
     "output_type": "stream",
     "text": [
      "<class 'pandas.core.frame.DataFrame'>\n",
      "Int64Index: 999 entries, 0 to 999\n",
      "Data columns (total 2 columns):\n",
      " #   Column  Non-Null Count  Dtype \n",
      "---  ------  --------------  ----- \n",
      " 0   Tweet   999 non-null    object\n",
      " 1   Class   999 non-null    object\n",
      "dtypes: object(2)\n",
      "memory usage: 23.4+ KB\n"
     ]
    }
   ],
   "source": [
    "urdu_dataset.info()"
   ]
  },
  {
   "cell_type": "markdown",
   "metadata": {},
   "source": [
    "## Values counts"
   ]
  },
  {
   "cell_type": "code",
   "execution_count": 68,
   "metadata": {},
   "outputs": [
    {
     "data": {
      "text/plain": [
       "N    499\n",
       "P    480\n",
       "O     20\n",
       "Name: Class, dtype: int64"
      ]
     },
     "execution_count": 68,
     "metadata": {},
     "output_type": "execute_result"
    }
   ],
   "source": [
    "urdu_dataset.Class.value_counts()"
   ]
  },
  {
   "cell_type": "code",
   "execution_count": 69,
   "metadata": {},
   "outputs": [
    {
     "data": {
      "image/png": "[encoded data removed]",
      "text/plain": [
       "<Figure size 640x480 with 1 Axes>"
      ]
     },
     "metadata": {},
     "output_type": "display_data"
    }
   ],
   "source": [
    "urdu_dataset['Class'].value_counts().plot(kind='bar')\n",
    "\n",
    "plt.xlabel('Class Attribute')\n",
    "plt.ylabel('Count')\n",
    "plt.title('Distribution of Class Attribute')\n",
    "\n",
    "plt.show()"
   ]
  },
  {
   "cell_type": "markdown",
   "metadata": {},
   "source": [
    "## Label Encoding Class Attribute"
   ]
  },
  {
   "cell_type": "code",
   "execution_count": 70,
   "metadata": {},
   "outputs": [
    {
     "name": "stdout",
     "output_type": "stream",
     "text": [
      "[2 0 1]\n"
     ]
    }
   ],
   "source": [
    "label_encoder = LabelEncoder()\n",
    "urdu_dataset['Encoded_Class'] = label_encoder.fit_transform(urdu_dataset['Class'])\n",
    "\n",
    "print(urdu_dataset['Encoded_Class'].unique())\n",
    "#0 -> Negative\n",
    "#2 -> Positive\n",
    "#1 -> Neutral"
   ]
  },
  {
   "cell_type": "code",
   "execution_count": 71,
   "metadata": {},
   "outputs": [
    {
     "data": {
      "text/plain": [
       "0    499\n",
       "2    480\n",
       "1     20\n",
       "Name: Encoded_Class, dtype: int64"
      ]
     },
     "execution_count": 71,
     "metadata": {},
     "output_type": "execute_result"
    }
   ],
   "source": [
    "urdu_dataset.Encoded_Class.value_counts()"
   ]
  },
  {
   "cell_type": "markdown",
   "metadata": {},
   "source": [
    "## Preprocessing\n",
    "#0 -> Negative\n",
    "#2 -> Positive\n",
    "#1 -> Neutral"
   ]
  },
  {
   "cell_type": "code",
   "execution_count": 72,
   "metadata": {},
   "outputs": [
    {
     "data": {
      "text/html": [
       "<div>\n",
       "<style scoped>\n",
       "    .dataframe tbody tr th:only-of-type {\n",
       "        vertical-align: middle;\n",
       "    }\n",
       "\n",
       "    .dataframe tbody tr th {\n",
       "        vertical-align: top;\n",
       "    }\n",
       "\n",
       "    .dataframe thead th {\n",
       "        text-align: right;\n",
       "    }\n",
       "</style>\n",
       "<table border=\"1\" class=\"dataframe\">\n",
       "  <thead>\n",
       "    <tr style=\"text-align: right;\">\n",
       "      <th></th>\n",
       "      <th>Tweet</th>\n",
       "      <th>Class</th>\n",
       "      <th>Encoded_Class</th>\n",
       "    </tr>\n",
       "  </thead>\n",
       "  <tbody>\n",
       "    <tr>\n",
       "      <th>0</th>\n",
       "      <td>میں نے ایٹم بم بنایا ھے ۔۔۔۔او بھائی ایٹم بمب ...</td>\n",
       "      <td>P</td>\n",
       "      <td>2</td>\n",
       "    </tr>\n",
       "    <tr>\n",
       "      <th>1</th>\n",
       "      <td>چندے سے انقلاب اور عمران خان وزیر اعظم نہیں بن...</td>\n",
       "      <td>N</td>\n",
       "      <td>0</td>\n",
       "    </tr>\n",
       "    <tr>\n",
       "      <th>2</th>\n",
       "      <td>ٹویٹر کا خیال کیسے آیا ؟</td>\n",
       "      <td>O</td>\n",
       "      <td>1</td>\n",
       "    </tr>\n",
       "    <tr>\n",
       "      <th>3</th>\n",
       "      <td>سرچ انجن گوگل کے نائب صدر نے فضا میں ، 130,000...</td>\n",
       "      <td>P</td>\n",
       "      <td>2</td>\n",
       "    </tr>\n",
       "    <tr>\n",
       "      <th>4</th>\n",
       "      <td>ابھی تک اسکی لہریں کبھی کبھی آ جاتی ہیں یار :أْ</td>\n",
       "      <td>P</td>\n",
       "      <td>2</td>\n",
       "    </tr>\n",
       "  </tbody>\n",
       "</table>\n",
       "</div>"
      ],
      "text/plain": [
       "                                               Tweet Class  Encoded_Class\n",
       "0  میں نے ایٹم بم بنایا ھے ۔۔۔۔او بھائی ایٹم بمب ...     P              2\n",
       "1  چندے سے انقلاب اور عمران خان وزیر اعظم نہیں بن...     N              0\n",
       "2                           ٹویٹر کا خیال کیسے آیا ؟     O              1\n",
       "3  سرچ انجن گوگل کے نائب صدر نے فضا میں ، 130,000...     P              2\n",
       "4    ابھی تک اسکی لہریں کبھی کبھی آ جاتی ہیں یار :أْ     P              2"
      ]
     },
     "execution_count": 72,
     "metadata": {},
     "output_type": "execute_result"
    }
   ],
   "source": [
    "urdu_dataset.head()"
   ]
  },
  {
   "cell_type": "code",
   "execution_count": 73,
   "metadata": {},
   "outputs": [
    {
     "name": "stdout",
     "output_type": "stream",
     "text": [
      "['اب', 'ابھی', 'اپنا', 'اپنے', 'اپنی', 'اٹھا', 'اس', 'اسے', 'اسی', 'اگر', 'ان', 'انہوں', 'انہی', 'انہیں', 'انھیں', 'او', 'اور', 'اے', 'ایسا', 'ایسے', 'ایسی', 'ایک', 'آ', 'آپ', 'آتا', 'آتے', 'آتی', 'آگے', 'آنا', 'آنے', 'آنی', 'آئے', 'آئی', 'آئیں', 'آیا', 'با', 'بڑا', 'بڑے', 'بڑی', 'بعد', 'بعض', 'بلکہ', 'بہت', 'بھی', 'بے', 'پاس', 'پر', 'پہلے', 'پھر', 'تا', 'تاکہ', 'تب', 'تجھ', 'تجھے', 'تک', 'تم', 'تمام', 'تمہارا', 'تمہارے', 'تمھارے', 'تمہاری', 'تمہیں', 'تمھیں', 'تھا', 'تھے', 'تھی', 'تھیں', 'تو', 'تیری', 'تیرے', 'جا', 'جاتا', 'جاتی', 'جاتے', 'جاتی', 'جانے', 'جانی', 'جاؤ', 'جائے', 'جائیں', 'جب', 'جس', 'جن', 'جنہوں', 'جنہیں', 'جو', 'جیسا', 'جیسے', 'جیسی', 'جیسوں', 'چاہیئے', 'چلا', 'چاہے', 'چونکہ', 'حالاں', 'حالانکہ', 'دو', 'دونوں', 'دوں', 'دے', 'دی', 'دیا', 'دیں', 'دیے', 'دیتا', 'دیتے', 'دیتی', 'دینا', 'دینے', 'دینی', 'دیئے', 'ڈالا', 'ڈالنا', 'ڈالنے', 'ڈالنی', 'ڈالے', 'ڈالی', 'ذرا', 'رکھا', 'رکھتا', 'رکھتے', 'رکھتی', 'رکھنا', 'رکھنے', 'رکھنی', 'رکھے', 'رکھی', 'رہ', 'رہا', 'رہتا', 'رہتے', 'رہتی', 'رہنا', 'رہنے', 'رہنی', 'رہو', 'رہے', 'رہی', 'رہیں', 'زیادہ', 'سا', 'سامنے', 'سب', 'سکتا', 'سو', 'سے', 'سی', 'شاید', 'صرف', 'طرح', 'طرف', 'عین', 'کا', 'کبھی', 'کچھ', 'کہہ', 'کر', 'کرتا', 'کرتے', 'کرتی', 'کرنا', 'کرنے', 'کرو', 'کروں', 'کرے', 'کریں', 'کس', 'کسے', 'کسی', 'کہ', 'کہا', 'کہے', 'کو', 'کون', 'کوئی', 'کے', 'کی', 'کیا', 'کیسے', 'کیوں', 'کیونکہ', 'کیے', 'کئے', 'گا', 'گویا', 'گے', 'گی', 'گیا', 'گئے', 'گئی', 'لا', 'لاتا', 'لاتے', 'لاتی', 'لانا', 'لانے', 'لانی', 'لایا', 'لائے', 'لائی', 'لگا', 'لگے', 'لگی', 'لگیں', 'لو', 'لے', 'لی', 'لیا', 'لیتا', 'لیتے', 'لیتی', 'لیکن', 'لیں', 'لیے', 'لئے', 'مجھ', 'مجھے', 'مگر', 'میرا', 'میرے', 'میری', 'میں', 'نا', 'نہ', 'نہایت', 'نہیں', 'نے', 'ہاں', 'ہر', 'ہم', 'ہمارا', 'ہمارے', 'ہماری', 'ہو', 'ہوا', 'ہوتا', 'ہوتے', 'ہوتی', 'ہوتیں', 'ہوں', 'ہونا', 'ہونگے', 'ہونے', 'ہونی', 'ہوئے', 'ہوئی', 'ہوئیں', 'ہے', 'ہی', 'ہیں', 'و', 'والا', 'والوں', 'والے', 'والی', 'وہ', 'وہاں', 'وہی', 'وہیں', 'یا', 'یعنی', 'یہ', 'یہاں', 'یہی', 'یہیں']\n"
     ]
    }
   ],
   "source": [
    "\n",
    "file_path = 'my_urdu_stopwords.txt'\n",
    "STOP_WORDS= \"\"\n",
    "with open(file_path,'r',encoding='utf-8')as file:\n",
    "    urdu_stop_words = file.read().strip()\n",
    "    STOP_WORDS+=urdu_stop_words\n",
    "stopword = STOP_WORDS.split()\n",
    "print(stopword)"
   ]
  },
  {
   "cell_type": "code",
   "execution_count": 74,
   "metadata": {},
   "outputs": [
    {
     "name": "stdout",
     "output_type": "stream",
     "text": [
      "265\n"
     ]
    }
   ],
   "source": [
    "import string\n",
    "print(len(stopword))"
   ]
  },
  {
   "cell_type": "code",
   "execution_count": 75,
   "metadata": {},
   "outputs": [],
   "source": [
    "def lemmatize_text(text):\n",
    "    lemmetized = \"\"\n",
    "    temp  = lemmatizer.lemma_lookup(text)\n",
    "    for t in temp:\n",
    "        lemmetized+=t[0]+\" \"\n",
    "    return lemmetized.strip()\n",
    "    \n",
    "def remove_my_stopwords(text, stopwords):\n",
    "    return \" \".join(word for word in text.split() if word not in stopwords)\n"
   ]
  },
  {
   "cell_type": "code",
   "execution_count": 76,
   "metadata": {},
   "outputs": [],
   "source": [
    "processed_df = pd.DataFrame(columns=['old_text','text'])\n",
    "processed_df['old_text'] = urdu_dataset['Tweet']\n",
    "processed_df['text'] = urdu_dataset.Tweet\n",
    "processed_df['text'] = processed_df.text.apply(normalize)\n",
    "processed_df['text'] = processed_df.text.apply(remove_accents)\n",
    "processed_df['text'] = processed_df.text.apply(remove_punctuation)\n",
    "processed_df['text'] = processed_df.text.apply(replace_emails)\n",
    "processed_df['text'] = processed_df.text.apply(replace_numbers)\n",
    "processed_df['text'] = processed_df.text.apply(replace_currency_symbols)\n",
    "\n",
    "processed_df['cleaned_text'] = processed_df['text'].apply(lambda x: remove_my_stopwords(x, stopword))\n",
    "\n",
    "processed_df['Found_stop_words'] = processed_df['text'].apply(lambda x: any(word in stopword for word in x.split()))\n",
    "\n",
    "processed_df['lemmetized_text'] = processed_df.text.apply(lemmatize_text)\n",
    "processed_df['Class'] = urdu_dataset.Encoded_Class"
   ]
  },
  {
   "cell_type": "code",
   "execution_count": 77,
   "metadata": {},
   "outputs": [
    {
     "data": {
      "text/html": [
       "<div>\n",
       "<style scoped>\n",
       "    .dataframe tbody tr th:only-of-type {\n",
       "        vertical-align: middle;\n",
       "    }\n",
       "\n",
       "    .dataframe tbody tr th {\n",
       "        vertical-align: top;\n",
       "    }\n",
       "\n",
       "    .dataframe thead th {\n",
       "        text-align: right;\n",
       "    }\n",
       "</style>\n",
       "<table border=\"1\" class=\"dataframe\">\n",
       "  <thead>\n",
       "    <tr style=\"text-align: right;\">\n",
       "      <th></th>\n",
       "      <th>old_text</th>\n",
       "      <th>text</th>\n",
       "      <th>cleaned_text</th>\n",
       "      <th>Found_stop_words</th>\n",
       "      <th>lemmetized_text</th>\n",
       "      <th>Class</th>\n",
       "    </tr>\n",
       "  </thead>\n",
       "  <tbody>\n",
       "    <tr>\n",
       "      <th>0</th>\n",
       "      <td>میں نے ایٹم بم بنایا ھے ۔۔۔۔او بھائی ایٹم بمب ...</td>\n",
       "      <td>میں نے ایٹم بم بنایا ھے او بھائی ایٹم بمب کوٹ ...</td>\n",
       "      <td>ایٹم بم بنایا ھے بھائی ایٹم بمب کوٹ لکھپت اتفا...</td>\n",
       "      <td>True</td>\n",
       "      <td>میں نے ایٹم بم بنایا ھے او بھائی ایٹم بمب کوٹ ...</td>\n",
       "      <td>2</td>\n",
       "    </tr>\n",
       "    <tr>\n",
       "      <th>1</th>\n",
       "      <td>چندے سے انقلاب اور عمران خان وزیر اعظم نہیں بن...</td>\n",
       "      <td>چندے سے انقلاب اور عمران خان وزیر اعظم نہیں بن...</td>\n",
       "      <td>چندے انقلاب عمران خان وزیر اعظم بن سکتے</td>\n",
       "      <td>True</td>\n",
       "      <td>چندے سے انقلاب اور عمران خان وزیر اعظم نہیں بن...</td>\n",
       "      <td>0</td>\n",
       "    </tr>\n",
       "    <tr>\n",
       "      <th>2</th>\n",
       "      <td>ٹویٹر کا خیال کیسے آیا ؟</td>\n",
       "      <td>ٹویٹر کا خیال کیسے آیا</td>\n",
       "      <td>ٹویٹر خیال</td>\n",
       "      <td>True</td>\n",
       "      <td>ٹویٹر کا خیال کیسے آیا</td>\n",
       "      <td>1</td>\n",
       "    </tr>\n",
       "    <tr>\n",
       "      <th>3</th>\n",
       "      <td>سرچ انجن گوگل کے نائب صدر نے فضا میں ، 130,000...</td>\n",
       "      <td>سرچ انجن گوگل کے نائب صدر نے فضا میں   فٹ کی ب...</td>\n",
       "      <td>سرچ انجن گوگل نائب صدر فضا فٹ بلندی چھلانگ عال...</td>\n",
       "      <td>True</td>\n",
       "      <td>سرچ انجن گوگل کے نائب صدر نے فضا میں فٹ کی بلن...</td>\n",
       "      <td>2</td>\n",
       "    </tr>\n",
       "    <tr>\n",
       "      <th>4</th>\n",
       "      <td>ابھی تک اسکی لہریں کبھی کبھی آ جاتی ہیں یار :أْ</td>\n",
       "      <td>ابھی تک اسکی لہریں کبھی کبھی آ جاتی ہیں یار أ</td>\n",
       "      <td>اسکی لہریں یار أ</td>\n",
       "      <td>True</td>\n",
       "      <td>ابھی تک اسکی لہریں کبھی کبھی آ جاتی ہیں یار أ</td>\n",
       "      <td>2</td>\n",
       "    </tr>\n",
       "  </tbody>\n",
       "</table>\n",
       "</div>"
      ],
      "text/plain": [
       "                                            old_text  \\\n",
       "0  میں نے ایٹم بم بنایا ھے ۔۔۔۔او بھائی ایٹم بمب ...   \n",
       "1  چندے سے انقلاب اور عمران خان وزیر اعظم نہیں بن...   \n",
       "2                           ٹویٹر کا خیال کیسے آیا ؟   \n",
       "3  سرچ انجن گوگل کے نائب صدر نے فضا میں ، 130,000...   \n",
       "4    ابھی تک اسکی لہریں کبھی کبھی آ جاتی ہیں یار :أْ   \n",
       "\n",
       "                                                text  \\\n",
       "0  میں نے ایٹم بم بنایا ھے او بھائی ایٹم بمب کوٹ ...   \n",
       "1  چندے سے انقلاب اور عمران خان وزیر اعظم نہیں بن...   \n",
       "2                            ٹویٹر کا خیال کیسے آیا    \n",
       "3  سرچ انجن گوگل کے نائب صدر نے فضا میں   فٹ کی ب...   \n",
       "4      ابھی تک اسکی لہریں کبھی کبھی آ جاتی ہیں یار أ   \n",
       "\n",
       "                                        cleaned_text  Found_stop_words  \\\n",
       "0  ایٹم بم بنایا ھے بھائی ایٹم بمب کوٹ لکھپت اتفا...              True   \n",
       "1            چندے انقلاب عمران خان وزیر اعظم بن سکتے              True   \n",
       "2                                         ٹویٹر خیال              True   \n",
       "3  سرچ انجن گوگل نائب صدر فضا فٹ بلندی چھلانگ عال...              True   \n",
       "4                                   اسکی لہریں یار أ              True   \n",
       "\n",
       "                                     lemmetized_text  Class  \n",
       "0  میں نے ایٹم بم بنایا ھے او بھائی ایٹم بمب کوٹ ...      2  \n",
       "1  چندے سے انقلاب اور عمران خان وزیر اعظم نہیں بن...      0  \n",
       "2                             ٹویٹر کا خیال کیسے آیا      1  \n",
       "3  سرچ انجن گوگل کے نائب صدر نے فضا میں فٹ کی بلن...      2  \n",
       "4      ابھی تک اسکی لہریں کبھی کبھی آ جاتی ہیں یار أ      2  "
      ]
     },
     "execution_count": 77,
     "metadata": {},
     "output_type": "execute_result"
    }
   ],
   "source": [
    "processed_df.head()"
   ]
  },
  {
   "cell_type": "code",
   "execution_count": 78,
   "metadata": {},
   "outputs": [
    {
     "name": "stdout",
     "output_type": "stream",
     "text": [
      "<class 'pandas.core.frame.DataFrame'>\n",
      "Int64Index: 999 entries, 0 to 999\n",
      "Data columns (total 6 columns):\n",
      " #   Column            Non-Null Count  Dtype \n",
      "---  ------            --------------  ----- \n",
      " 0   old_text          999 non-null    object\n",
      " 1   text              999 non-null    object\n",
      " 2   cleaned_text      999 non-null    object\n",
      " 3   Found_stop_words  999 non-null    bool  \n",
      " 4   lemmetized_text   999 non-null    object\n",
      " 5   Class             999 non-null    int32 \n",
      "dtypes: bool(1), int32(1), object(4)\n",
      "memory usage: 43.9+ KB\n"
     ]
    }
   ],
   "source": [
    "processed_df.info()"
   ]
  },
  {
   "cell_type": "code",
   "execution_count": 79,
   "metadata": {},
   "outputs": [
    {
     "data": {
      "text/html": [
       "<div>\n",
       "<style scoped>\n",
       "    .dataframe tbody tr th:only-of-type {\n",
       "        vertical-align: middle;\n",
       "    }\n",
       "\n",
       "    .dataframe tbody tr th {\n",
       "        vertical-align: top;\n",
       "    }\n",
       "\n",
       "    .dataframe thead th {\n",
       "        text-align: right;\n",
       "    }\n",
       "</style>\n",
       "<table border=\"1\" class=\"dataframe\">\n",
       "  <thead>\n",
       "    <tr style=\"text-align: right;\">\n",
       "      <th></th>\n",
       "      <th>Tweet</th>\n",
       "      <th>Class</th>\n",
       "    </tr>\n",
       "  </thead>\n",
       "  <tbody>\n",
       "    <tr>\n",
       "      <th>0</th>\n",
       "      <td>ایٹم بم بنایا ھے بھائی ایٹم بمب کوٹ لکھپت اتفا...</td>\n",
       "      <td>2</td>\n",
       "    </tr>\n",
       "    <tr>\n",
       "      <th>1</th>\n",
       "      <td>چندے انقلاب عمران خان وزیر اعظم بن سکتے</td>\n",
       "      <td>0</td>\n",
       "    </tr>\n",
       "    <tr>\n",
       "      <th>2</th>\n",
       "      <td>ٹویٹر خیال</td>\n",
       "      <td>1</td>\n",
       "    </tr>\n",
       "    <tr>\n",
       "      <th>3</th>\n",
       "      <td>سرچ انجن گوگل نائب صدر فضا فٹ بلندی چھلانگ عال...</td>\n",
       "      <td>2</td>\n",
       "    </tr>\n",
       "    <tr>\n",
       "      <th>4</th>\n",
       "      <td>اسکی لہریں یار أ</td>\n",
       "      <td>2</td>\n",
       "    </tr>\n",
       "  </tbody>\n",
       "</table>\n",
       "</div>"
      ],
      "text/plain": [
       "                                               Tweet  Class\n",
       "0  ایٹم بم بنایا ھے بھائی ایٹم بمب کوٹ لکھپت اتفا...      2\n",
       "1            چندے انقلاب عمران خان وزیر اعظم بن سکتے      0\n",
       "2                                         ٹویٹر خیال      1\n",
       "3  سرچ انجن گوگل نائب صدر فضا فٹ بلندی چھلانگ عال...      2\n",
       "4                                   اسکی لہریں یار أ      2"
      ]
     },
     "execution_count": 79,
     "metadata": {},
     "output_type": "execute_result"
    }
   ],
   "source": [
    "urdu_dataset['Tweet'] = processed_df['cleaned_text']\n",
    "urdu_dataset['Class'] = processed_df.Class\n",
    "urdu_dataset.drop('Encoded_Class',axis=1,inplace=True)\n",
    "urdu_dataset.head()"
   ]
  },
  {
   "cell_type": "markdown",
   "metadata": {},
   "source": [
    "## urdu_dataset to csv"
   ]
  },
  {
   "cell_type": "code",
   "execution_count": 94,
   "metadata": {},
   "outputs": [],
   "source": [
    "urdu_dataset.to_csv('Analysed_Urdu_Tweets.csv')"
   ]
  },
  {
   "cell_type": "markdown",
   "metadata": {},
   "source": [
    "## WORDS in dataset"
   ]
  },
  {
   "cell_type": "code",
   "execution_count": 81,
   "metadata": {},
   "outputs": [],
   "source": [
    "tokenizer = Tokenizer()\n",
    "tokenizer.fit_on_texts(urdu_dataset['Tweet'])\n",
    "sequences = tokenizer.texts_to_sequences(urdu_dataset['Tweet'])\n",
    "\n",
    "max_sequence_length = max(len(x) for x in sequences)\n",
    "padded_sequences = pad_sequences(sequences, maxlen=max_sequence_length, padding='post')"
   ]
  },
  {
   "cell_type": "markdown",
   "metadata": {},
   "source": [
    "## Split the dataset"
   ]
  },
  {
   "cell_type": "code",
   "execution_count": 82,
   "metadata": {},
   "outputs": [
    {
     "name": "stdout",
     "output_type": "stream",
     "text": [
      "Training set shape: (749, 31)\n",
      "Testing set shape: (250, 31)\n"
     ]
    }
   ],
   "source": [
    "# Splitting the dataset\n",
    "from sklearn.model_selection import train_test_split\n",
    "X_train, X_test, y_train, y_test = train_test_split(padded_sequences, urdu_dataset['Class'], test_size=0.25, random_state=42)\n",
    "\n",
    "print(\"Training set shape:\",X_train.shape)\n",
    "print(\"Testing set shape:\", X_test.shape)"
   ]
  },
  {
   "cell_type": "markdown",
   "metadata": {},
   "source": [
    "## MODELS"
   ]
  },
  {
   "cell_type": "code",
   "execution_count": 83,
   "metadata": {},
   "outputs": [],
   "source": [
    "from tensorflow.keras.preprocessing.sequence import pad_sequences\n",
    "from tensorflow.keras.preprocessing.text import Tokenizer\n",
    "import tensorflow as tf\n",
    "from tensorflow.keras.models import Sequential\n",
    "from tensorflow.keras.layers import Embedding, LSTM, GRU, Bidirectional, Dense, Dropout\n",
    "from tensorflow.keras.utils import to_categorical\n",
    "from sklearn.feature_extraction.text import TfidfVectorizer\n",
    "from keras.models import Sequential\n",
    "from keras.layers import Embedding, SimpleRNN, Dense\n",
    "from keras.optimizers import Adam"
   ]
  },
  {
   "cell_type": "markdown",
   "metadata": {},
   "source": [
    "## EVAL"
   ]
  },
  {
   "cell_type": "code",
   "execution_count": 84,
   "metadata": {},
   "outputs": [],
   "source": [
    "\n",
    "def plot(conf_mat):\n",
    "    sns.heatmap(conf_mat, annot=True, fmt='d', cmap='Blues')\n",
    "    plt.xlabel('Predicted Label')\n",
    "    plt.ylabel('Actual Label')\n",
    "    plt.title('Confusion Matrix')\n",
    "    plt.show()\n",
    "\n",
    "def evaluate_model(model, X_test, y_test):\n",
    "    \n",
    "    unique_classes = np.unique(y_test)\n",
    "    \n",
    "    classes = ['Positive','Negative','Neutral']\n",
    "    \n",
    "    y_pred = model.predict(X_test).round().astype(int)\n",
    "\n",
    "    print(classification_report(y_test, y_pred, target_names=classes))\n",
    "\n",
    "    confusio_matrix = confusion_matrix(y_test, y_pred)\n",
    "    plot(confusio_matrix)"
   ]
  },
  {
   "cell_type": "markdown",
   "metadata": {},
   "source": [
    "## Models"
   ]
  },
  {
   "cell_type": "code",
   "execution_count": 88,
   "metadata": {},
   "outputs": [],
   "source": [
    "from tensorflow.keras.layers import SimpleRNN, GRU, LSTM, Dense, Embedding, Dropout, Bidirectional\n",
    "\n",
    "vocab_size = len(tokenizer.word_index) + 1\n",
    "embedding_dim = 128\n",
    "\n",
    "def my_models_function(model_selected,num_layers,dropout_rate):\n",
    "    \n",
    "    model = Sequential()\n",
    "    model.add(Embedding(input_dim=vocab_size, output_dim=embedding_dim, input_length=max_sequence_length))\n",
    "\n",
    "        \n",
    "    for _ in range(2):\n",
    "        if model_selected == 'RNN':\n",
    "            model.add(SimpleRNN(units=64, return_sequences=True))\n",
    "        elif model_selected == 'GRU':\n",
    "            model.add(GRU(units=64, return_sequences=True))\n",
    "        elif model_selected == 'LSTM':\n",
    "            model.add(LSTM(units=64, return_sequences=True))\n",
    "        elif model_selected == 'BiLSTM':\n",
    "            model.add(Bidirectional(LSTM(units=64, return_sequences=True)))\n",
    "        else:\n",
    "            raise ValueError(f\"Invalid model_selected: {model_selected}\")\n",
    "\n",
    "        model.add(Dropout(dropout_rate))\n",
    "\n",
    "        model.add(Dropout(dropout_rate))\n",
    "    if model_selected == 'BiLSTM':\n",
    "        model.add(Bidirectional(LSTM(units=64)))\n",
    "    elif model_selected == 'RNN':\n",
    "        model.add(SimpleRNN(units=64))\n",
    "    elif model_selected == 'GRU':\n",
    "        model.add(GRU(units=64))\n",
    "    elif model_selected == 'LSTM':\n",
    "        model.add(LSTM(units=64))\n",
    "    else:\n",
    "        raise ValueError(f\"Invalid model_selected: {model_selected}\")\n",
    "\n",
    "    model.add(Dropout(dropout_rate))\n",
    "    model.add(Dense(1, activation='sigmoid'))\n",
    "\n",
    "    model.compile(optimizer='adam', loss='categorical_crossentropy', metrics=['accuracy'])\n",
    "    return model\n"
   ]
  },
  {
   "cell_type": "markdown",
   "metadata": {},
   "source": [
    "## EVALUATING MODELS"
   ]
  },
  {
   "cell_type": "code",
   "execution_count": 90,
   "metadata": {},
   "outputs": [
    {
     "name": "stdout",
     "output_type": "stream",
     "text": [
      "RNN\n"
     ]
    },
    {
     "name": "stdout",
     "output_type": "stream",
     "text": [
      "Epoch 1/8\n",
      "18/18 [==============================] - 8s 122ms/step - loss: 0.0000e+00 - accuracy: 0.2745 - val_loss: 0.0000e+00 - val_accuracy: 0.0106\n",
      "Epoch 2/8\n",
      "18/18 [==============================] - 1s 75ms/step - loss: 0.0000e+00 - accuracy: 0.1497 - val_loss: 0.0000e+00 - val_accuracy: 0.0106\n",
      "Epoch 3/8\n",
      "18/18 [==============================] - 1s 78ms/step - loss: 0.0000e+00 - accuracy: 0.3494 - val_loss: 0.0000e+00 - val_accuracy: 0.2766\n",
      "Epoch 4/8\n",
      "18/18 [==============================] - 2s 115ms/step - loss: 0.0000e+00 - accuracy: 0.4777 - val_loss: 0.0000e+00 - val_accuracy: 0.2553\n",
      "Epoch 5/8\n",
      "18/18 [==============================] - 2s 98ms/step - loss: 0.0000e+00 - accuracy: 0.5045 - val_loss: 0.0000e+00 - val_accuracy: 0.2872\n",
      "Epoch 6/8\n",
      "18/18 [==============================] - 1s 75ms/step - loss: 0.0000e+00 - accuracy: 0.5080 - val_loss: 0.0000e+00 - val_accuracy: 0.2553\n",
      "Epoch 7/8\n",
      "18/18 [==============================] - 1s 74ms/step - loss: 0.0000e+00 - accuracy: 0.5080 - val_loss: 0.0000e+00 - val_accuracy: 0.2819\n",
      "Epoch 8/8\n",
      "18/18 [==============================] - 1s 78ms/step - loss: 0.0000e+00 - accuracy: 0.5080 - val_loss: 0.0000e+00 - val_accuracy: 0.2606\n",
      "RNN model for num_layer:  2 dropout rate:  0.3\n",
      "8/8 [==============================] - 1s 17ms/step\n",
      "              precision    recall  f1-score   support\n",
      "\n",
      "    Positive       0.50      0.51      0.51       122\n",
      "    Negative       0.03      0.67      0.06         6\n",
      "     Neutral       0.00      0.00      0.00       122\n",
      "\n",
      "    accuracy                           0.26       250\n",
      "   macro avg       0.18      0.39      0.19       250\n",
      "weighted avg       0.25      0.26      0.25       250\n",
      "\n"
     ]
    },
    {
     "name": "stderr",
     "output_type": "stream",
     "text": [
      "d:\\Python64\\lib\\site-packages\\sklearn\\metrics\\_classification.py:1318: UndefinedMetricWarning: Precision and F-score are ill-defined and being set to 0.0 in labels with no predicted samples. Use `zero_division` parameter to control this behavior.\n",
      "  _warn_prf(average, modifier, msg_start, len(result))\n",
      "d:\\Python64\\lib\\site-packages\\sklearn\\metrics\\_classification.py:1318: UndefinedMetricWarning: Precision and F-score are ill-defined and being set to 0.0 in labels with no predicted samples. Use `zero_division` parameter to control this behavior.\n",
      "  _warn_prf(average, modifier, msg_start, len(result))\n",
      "d:\\Python64\\lib\\site-packages\\sklearn\\metrics\\_classification.py:1318: UndefinedMetricWarning: Precision and F-score are ill-defined and being set to 0.0 in labels with no predicted samples. Use `zero_division` parameter to control this behavior.\n",
      "  _warn_prf(average, modifier, msg_start, len(result))\n"
     ]
    },
    {
     "data": {
      "image/png": "[encoded data removed]",
      "text/plain": [
       "<Figure size 640x480 with 2 Axes>"
      ]
     },
     "metadata": {},
     "output_type": "display_data"
    },
    {
     "name": "stdout",
     "output_type": "stream",
     "text": [
      "Epoch 1/8\n",
      "18/18 [==============================] - 18s 169ms/step - loss: 0.0000e+00 - accuracy: 0.2531 - val_loss: 0.0000e+00 - val_accuracy: 0.3457\n",
      "Epoch 2/8\n",
      "18/18 [==============================] - 1s 81ms/step - loss: 0.0000e+00 - accuracy: 0.2531 - val_loss: 0.0000e+00 - val_accuracy: 0.0106\n",
      "Epoch 3/8\n",
      "18/18 [==============================] - 1s 78ms/step - loss: 0.0000e+00 - accuracy: 0.2496 - val_loss: 0.0000e+00 - val_accuracy: 0.0957\n",
      "Epoch 4/8\n",
      "18/18 [==============================] - 2s 104ms/step - loss: 0.0000e+00 - accuracy: 0.2299 - val_loss: 0.0000e+00 - val_accuracy: 0.0266\n",
      "Epoch 5/8\n",
      "18/18 [==============================] - 2s 100ms/step - loss: 0.0000e+00 - accuracy: 0.2763 - val_loss: 0.0000e+00 - val_accuracy: 0.2819\n",
      "Epoch 6/8\n",
      "18/18 [==============================] - 2s 95ms/step - loss: 0.0000e+00 - accuracy: 0.2531 - val_loss: 0.0000e+00 - val_accuracy: 0.3085\n",
      "Epoch 7/8\n",
      "18/18 [==============================] - 1s 78ms/step - loss: 0.0000e+00 - accuracy: 0.2602 - val_loss: 0.0000e+00 - val_accuracy: 0.3617\n",
      "Epoch 8/8\n",
      "18/18 [==============================] - 1s 79ms/step - loss: 0.0000e+00 - accuracy: 0.2638 - val_loss: 0.0000e+00 - val_accuracy: 0.4468\n",
      "RNN model for num_layer:  3 dropout rate:  0.7\n",
      "8/8 [==============================] - 1s 19ms/step\n",
      "              precision    recall  f1-score   support\n",
      "\n",
      "    Positive       0.50      0.86      0.63       122\n",
      "    Negative       0.03      0.17      0.04         6\n",
      "     Neutral       0.00      0.00      0.00       122\n",
      "\n",
      "    accuracy                           0.42       250\n",
      "   macro avg       0.17      0.34      0.23       250\n",
      "weighted avg       0.24      0.42      0.31       250\n",
      "\n"
     ]
    },
    {
     "name": "stderr",
     "output_type": "stream",
     "text": [
      "d:\\Python64\\lib\\site-packages\\sklearn\\metrics\\_classification.py:1318: UndefinedMetricWarning: Precision and F-score are ill-defined and being set to 0.0 in labels with no predicted samples. Use `zero_division` parameter to control this behavior.\n",
      "  _warn_prf(average, modifier, msg_start, len(result))\n",
      "d:\\Python64\\lib\\site-packages\\sklearn\\metrics\\_classification.py:1318: UndefinedMetricWarning: Precision and F-score are ill-defined and being set to 0.0 in labels with no predicted samples. Use `zero_division` parameter to control this behavior.\n",
      "  _warn_prf(average, modifier, msg_start, len(result))\n",
      "d:\\Python64\\lib\\site-packages\\sklearn\\metrics\\_classification.py:1318: UndefinedMetricWarning: Precision and F-score are ill-defined and being set to 0.0 in labels with no predicted samples. Use `zero_division` parameter to control this behavior.\n",
      "  _warn_prf(average, modifier, msg_start, len(result))\n"
     ]
    },
    {
     "data": {
      "image/png": "[encoded data removed]",
      "text/plain": [
       "<Figure size 640x480 with 2 Axes>"
      ]
     },
     "metadata": {},
     "output_type": "display_data"
    }
   ],
   "source": [
    "\n",
    "print(\"RNN\")\n",
    "num_layer = [2,3]\n",
    "dropout_rate = [0.3,0.7]\n",
    "for i in range(2):\n",
    "    model = my_models_function(\"RNN\",num_layer[i],dropout_rate[i])\n",
    "    model.fit(X_train, y_train, batch_size=32, epochs=8, validation_split=0.25)\n",
    "    print(\"RNN model for num_layer: \",num_layer[i],\"dropout rate: \",dropout_rate[i])\n",
    "    evaluate_model(model, X_test, y_test)  "
   ]
  },
  {
   "cell_type": "code",
   "execution_count": 91,
   "metadata": {},
   "outputs": [
    {
     "name": "stdout",
     "output_type": "stream",
     "text": [
      "GRU\n",
      "Epoch 1/8\n",
      "18/18 [==============================] - 16s 252ms/step - loss: 0.0000e+00 - accuracy: 0.4064 - val_loss: 0.0000e+00 - val_accuracy: 0.5160\n",
      "Epoch 2/8\n",
      "18/18 [==============================] - 3s 144ms/step - loss: 0.0000e+00 - accuracy: 0.4938 - val_loss: 0.0000e+00 - val_accuracy: 0.5160\n",
      "Epoch 3/8\n",
      "18/18 [==============================] - 3s 144ms/step - loss: 0.0000e+00 - accuracy: 0.4991 - val_loss: 0.0000e+00 - val_accuracy: 0.5160\n",
      "Epoch 4/8\n",
      "18/18 [==============================] - 3s 145ms/step - loss: 0.0000e+00 - accuracy: 0.4991 - val_loss: 0.0000e+00 - val_accuracy: 0.5160\n",
      "Epoch 5/8\n",
      "18/18 [==============================] - 3s 144ms/step - loss: 0.0000e+00 - accuracy: 0.4991 - val_loss: 0.0000e+00 - val_accuracy: 0.5160\n",
      "Epoch 6/8\n",
      "18/18 [==============================] - 3s 173ms/step - loss: 0.0000e+00 - accuracy: 0.4991 - val_loss: 0.0000e+00 - val_accuracy: 0.5160\n",
      "Epoch 7/8\n",
      "18/18 [==============================] - 3s 150ms/step - loss: 0.0000e+00 - accuracy: 0.4991 - val_loss: 0.0000e+00 - val_accuracy: 0.5160\n",
      "Epoch 8/8\n",
      "18/18 [==============================] - 3s 146ms/step - loss: 0.0000e+00 - accuracy: 0.4492 - val_loss: 0.0000e+00 - val_accuracy: 0.2819\n",
      "GRU model for num_layer:  2 dropout rate:  0.3\n",
      "8/8 [==============================] - 2s 36ms/step\n",
      "              precision    recall  f1-score   support\n",
      "\n",
      "    Positive       0.61      0.59      0.60       122\n",
      "    Negative       0.02      0.33      0.03         6\n",
      "     Neutral       0.00      0.00      0.00       122\n",
      "\n",
      "    accuracy                           0.30       250\n",
      "   macro avg       0.21      0.31      0.21       250\n",
      "weighted avg       0.30      0.30      0.29       250\n",
      "\n"
     ]
    },
    {
     "name": "stderr",
     "output_type": "stream",
     "text": [
      "d:\\Python64\\lib\\site-packages\\sklearn\\metrics\\_classification.py:1318: UndefinedMetricWarning: Precision and F-score are ill-defined and being set to 0.0 in labels with no predicted samples. Use `zero_division` parameter to control this behavior.\n",
      "  _warn_prf(average, modifier, msg_start, len(result))\n",
      "d:\\Python64\\lib\\site-packages\\sklearn\\metrics\\_classification.py:1318: UndefinedMetricWarning: Precision and F-score are ill-defined and being set to 0.0 in labels with no predicted samples. Use `zero_division` parameter to control this behavior.\n",
      "  _warn_prf(average, modifier, msg_start, len(result))\n",
      "d:\\Python64\\lib\\site-packages\\sklearn\\metrics\\_classification.py:1318: UndefinedMetricWarning: Precision and F-score are ill-defined and being set to 0.0 in labels with no predicted samples. Use `zero_division` parameter to control this behavior.\n",
      "  _warn_prf(average, modifier, msg_start, len(result))\n"
     ]
    },
    {
     "data": {
      "image/png": "[encoded data removed]",
      "text/plain": [
       "<Figure size 640x480 with 2 Axes>"
      ]
     },
     "metadata": {},
     "output_type": "display_data"
    },
    {
     "name": "stdout",
     "output_type": "stream",
     "text": [
      "Epoch 1/8\n",
      "18/18 [==============================] - 24s 400ms/step - loss: 0.0000e+00 - accuracy: 0.3440 - val_loss: 0.0000e+00 - val_accuracy: 0.5160\n",
      "Epoch 2/8\n",
      "18/18 [==============================] - 3s 164ms/step - loss: 0.0000e+00 - accuracy: 0.3102 - val_loss: 0.0000e+00 - val_accuracy: 0.5160\n",
      "Epoch 3/8\n",
      "18/18 [==============================] - 5s 267ms/step - loss: 0.0000e+00 - accuracy: 0.3922 - val_loss: 0.0000e+00 - val_accuracy: 0.5160\n",
      "Epoch 4/8\n",
      "18/18 [==============================] - 2s 134ms/step - loss: 0.0000e+00 - accuracy: 0.4153 - val_loss: 0.0000e+00 - val_accuracy: 0.5160\n",
      "Epoch 5/8\n",
      "18/18 [==============================] - 2s 134ms/step - loss: 0.0000e+00 - accuracy: 0.4242 - val_loss: 0.0000e+00 - val_accuracy: 0.5160\n",
      "Epoch 6/8\n",
      "18/18 [==============================] - 2s 135ms/step - loss: 0.0000e+00 - accuracy: 0.4492 - val_loss: 0.0000e+00 - val_accuracy: 0.5160\n",
      "Epoch 7/8\n",
      "18/18 [==============================] - 3s 144ms/step - loss: 0.0000e+00 - accuracy: 0.4474 - val_loss: 0.0000e+00 - val_accuracy: 0.5160\n",
      "Epoch 8/8\n",
      "18/18 [==============================] - 2s 139ms/step - loss: 0.0000e+00 - accuracy: 0.4510 - val_loss: 0.0000e+00 - val_accuracy: 0.5160\n",
      "GRU model for num_layer:  3 dropout rate:  0.7\n",
      "8/8 [==============================] - 3s 53ms/step\n",
      "              precision    recall  f1-score   support\n",
      "\n",
      "    Positive       0.49      1.00      0.66       122\n",
      "    Negative       0.00      0.00      0.00         6\n",
      "     Neutral       0.00      0.00      0.00       122\n",
      "\n",
      "    accuracy                           0.49       250\n",
      "   macro avg       0.16      0.33      0.22       250\n",
      "weighted avg       0.24      0.49      0.32       250\n",
      "\n"
     ]
    },
    {
     "name": "stderr",
     "output_type": "stream",
     "text": [
      "d:\\Python64\\lib\\site-packages\\sklearn\\metrics\\_classification.py:1318: UndefinedMetricWarning: Precision and F-score are ill-defined and being set to 0.0 in labels with no predicted samples. Use `zero_division` parameter to control this behavior.\n",
      "  _warn_prf(average, modifier, msg_start, len(result))\n",
      "d:\\Python64\\lib\\site-packages\\sklearn\\metrics\\_classification.py:1318: UndefinedMetricWarning: Precision and F-score are ill-defined and being set to 0.0 in labels with no predicted samples. Use `zero_division` parameter to control this behavior.\n",
      "  _warn_prf(average, modifier, msg_start, len(result))\n",
      "d:\\Python64\\lib\\site-packages\\sklearn\\metrics\\_classification.py:1318: UndefinedMetricWarning: Precision and F-score are ill-defined and being set to 0.0 in labels with no predicted samples. Use `zero_division` parameter to control this behavior.\n",
      "  _warn_prf(average, modifier, msg_start, len(result))\n"
     ]
    },
    {
     "data": {
      "image/png": "[encoded data removed]",
      "text/plain": [
       "<Figure size 640x480 with 2 Axes>"
      ]
     },
     "metadata": {},
     "output_type": "display_data"
    }
   ],
   "source": [
    "\n",
    "print(\"GRU\")\n",
    "for i in range(2):\n",
    "    model = my_models_function(\"GRU\",num_layer[i],dropout_rate[i])\n",
    "    model.fit(X_train, y_train, batch_size=32, epochs=8, validation_split=0.25)\n",
    "    print(\"GRU model for num_layer: \",num_layer[i],\"dropout rate: \",dropout_rate[i])\n",
    "    evaluate_model(model, X_test, y_test)  "
   ]
  },
  {
   "cell_type": "code",
   "execution_count": 92,
   "metadata": {},
   "outputs": [
    {
     "name": "stdout",
     "output_type": "stream",
     "text": [
      "LSTM\n",
      "Epoch 1/8\n",
      "18/18 [==============================] - 21s 361ms/step - loss: 0.0000e+00 - accuracy: 0.4920 - val_loss: 0.0000e+00 - val_accuracy: 0.5160\n",
      "Epoch 2/8\n",
      "18/18 [==============================] - 3s 176ms/step - loss: 0.0000e+00 - accuracy: 0.4991 - val_loss: 0.0000e+00 - val_accuracy: 0.5160\n",
      "Epoch 3/8\n",
      "18/18 [==============================] - 3s 185ms/step - loss: 0.0000e+00 - accuracy: 0.4973 - val_loss: 0.0000e+00 - val_accuracy: 0.2766\n",
      "Epoch 4/8\n",
      "18/18 [==============================] - 6s 350ms/step - loss: 0.0000e+00 - accuracy: 0.4938 - val_loss: 0.0000e+00 - val_accuracy: 0.3138\n",
      "Epoch 5/8\n",
      "18/18 [==============================] - 4s 222ms/step - loss: 0.0000e+00 - accuracy: 0.4902 - val_loss: 0.0000e+00 - val_accuracy: 0.2021\n",
      "Epoch 6/8\n",
      "18/18 [==============================] - 4s 202ms/step - loss: 0.0000e+00 - accuracy: 0.4902 - val_loss: 0.0000e+00 - val_accuracy: 0.2606\n",
      "Epoch 7/8\n",
      "18/18 [==============================] - 3s 192ms/step - loss: 0.0000e+00 - accuracy: 0.5009 - val_loss: 0.0000e+00 - val_accuracy: 0.2872\n",
      "Epoch 8/8\n",
      "18/18 [==============================] - 3s 181ms/step - loss: 0.0000e+00 - accuracy: 0.5027 - val_loss: 0.0000e+00 - val_accuracy: 0.2500\n",
      "LSTM model for num_layer:  2 dropout rate:  0.3\n",
      "8/8 [==============================] - 2s 47ms/step\n",
      "              precision    recall  f1-score   support\n",
      "\n",
      "    Positive       0.61      0.65      0.63       122\n",
      "    Negative       0.03      0.50      0.05         6\n",
      "     Neutral       0.00      0.00      0.00       122\n",
      "\n",
      "    accuracy                           0.33       250\n",
      "   macro avg       0.21      0.38      0.22       250\n",
      "weighted avg       0.30      0.33      0.31       250\n",
      "\n"
     ]
    },
    {
     "name": "stderr",
     "output_type": "stream",
     "text": [
      "d:\\Python64\\lib\\site-packages\\sklearn\\metrics\\_classification.py:1318: UndefinedMetricWarning: Precision and F-score are ill-defined and being set to 0.0 in labels with no predicted samples. Use `zero_division` parameter to control this behavior.\n",
      "  _warn_prf(average, modifier, msg_start, len(result))\n",
      "d:\\Python64\\lib\\site-packages\\sklearn\\metrics\\_classification.py:1318: UndefinedMetricWarning: Precision and F-score are ill-defined and being set to 0.0 in labels with no predicted samples. Use `zero_division` parameter to control this behavior.\n",
      "  _warn_prf(average, modifier, msg_start, len(result))\n",
      "d:\\Python64\\lib\\site-packages\\sklearn\\metrics\\_classification.py:1318: UndefinedMetricWarning: Precision and F-score are ill-defined and being set to 0.0 in labels with no predicted samples. Use `zero_division` parameter to control this behavior.\n",
      "  _warn_prf(average, modifier, msg_start, len(result))\n"
     ]
    },
    {
     "data": {
      "image/png": "[encoded data removed]",
      "text/plain": [
       "<Figure size 640x480 with 2 Axes>"
      ]
     },
     "metadata": {},
     "output_type": "display_data"
    },
    {
     "name": "stdout",
     "output_type": "stream",
     "text": [
      "Epoch 1/8\n",
      "18/18 [==============================] - 17s 301ms/step - loss: 0.0000e+00 - accuracy: 0.2656 - val_loss: 0.0000e+00 - val_accuracy: 0.5160\n",
      "Epoch 2/8\n",
      "18/18 [==============================] - 3s 161ms/step - loss: 0.0000e+00 - accuracy: 0.2549 - val_loss: 0.0000e+00 - val_accuracy: 0.5160\n",
      "Epoch 3/8\n",
      "18/18 [==============================] - 4s 202ms/step - loss: 0.0000e+00 - accuracy: 0.3102 - val_loss: 0.0000e+00 - val_accuracy: 0.5160\n",
      "Epoch 4/8\n",
      "18/18 [==============================] - 4s 207ms/step - loss: 0.0000e+00 - accuracy: 0.4029 - val_loss: 0.0000e+00 - val_accuracy: 0.5160\n",
      "Epoch 5/8\n",
      "18/18 [==============================] - 3s 182ms/step - loss: 0.0000e+00 - accuracy: 0.4581 - val_loss: 0.0000e+00 - val_accuracy: 0.5160\n",
      "Epoch 6/8\n",
      "18/18 [==============================] - 3s 160ms/step - loss: 0.0000e+00 - accuracy: 0.4848 - val_loss: 0.0000e+00 - val_accuracy: 0.3511\n",
      "Epoch 7/8\n",
      "18/18 [==============================] - 3s 178ms/step - loss: 0.0000e+00 - accuracy: 0.4670 - val_loss: 0.0000e+00 - val_accuracy: 0.4415\n",
      "Epoch 8/8\n",
      "18/18 [==============================] - 3s 171ms/step - loss: 0.0000e+00 - accuracy: 0.4955 - val_loss: 0.0000e+00 - val_accuracy: 0.2234\n",
      "LSTM model for num_layer:  3 dropout rate:  0.7\n",
      "8/8 [==============================] - 2s 46ms/step\n",
      "              precision    recall  f1-score   support\n",
      "\n",
      "    Positive       0.60      0.55      0.58       122\n",
      "    Negative       0.03      0.67      0.06         6\n",
      "     Neutral       0.00      0.00      0.00       122\n",
      "\n",
      "    accuracy                           0.28       250\n",
      "   macro avg       0.21      0.41      0.21       250\n",
      "weighted avg       0.30      0.28      0.28       250\n",
      "\n"
     ]
    },
    {
     "name": "stderr",
     "output_type": "stream",
     "text": [
      "d:\\Python64\\lib\\site-packages\\sklearn\\metrics\\_classification.py:1318: UndefinedMetricWarning: Precision and F-score are ill-defined and being set to 0.0 in labels with no predicted samples. Use `zero_division` parameter to control this behavior.\n",
      "  _warn_prf(average, modifier, msg_start, len(result))\n",
      "d:\\Python64\\lib\\site-packages\\sklearn\\metrics\\_classification.py:1318: UndefinedMetricWarning: Precision and F-score are ill-defined and being set to 0.0 in labels with no predicted samples. Use `zero_division` parameter to control this behavior.\n",
      "  _warn_prf(average, modifier, msg_start, len(result))\n",
      "d:\\Python64\\lib\\site-packages\\sklearn\\metrics\\_classification.py:1318: UndefinedMetricWarning: Precision and F-score are ill-defined and being set to 0.0 in labels with no predicted samples. Use `zero_division` parameter to control this behavior.\n",
      "  _warn_prf(average, modifier, msg_start, len(result))\n"
     ]
    },
    {
     "data": {
      "image/png": "[encoded data removed]",
      "text/plain": [
       "<Figure size 640x480 with 2 Axes>"
      ]
     },
     "metadata": {},
     "output_type": "display_data"
    }
   ],
   "source": [
    "\n",
    "print(\"LSTM\")\n",
    "for i in range(2):\n",
    "    model = my_models_function(\"LSTM\",num_layer[i],dropout_rate[i])\n",
    "    model.fit(X_train, y_train, batch_size=32, epochs=8, validation_split=0.25)\n",
    "    print(\"LSTM model for num_layer: \",num_layer[i],\"dropout rate: \",dropout_rate[i])\n",
    "    evaluate_model(model, X_test, y_test)  "
   ]
  },
  {
   "cell_type": "code",
   "execution_count": 93,
   "metadata": {},
   "outputs": [
    {
     "name": "stdout",
     "output_type": "stream",
     "text": [
      "BiLSTM\n",
      "Epoch 1/8\n",
      "18/18 [==============================] - 37s 666ms/step - loss: 0.0000e+00 - accuracy: 0.0642 - val_loss: 0.0000e+00 - val_accuracy: 0.5160\n",
      "Epoch 2/8\n",
      "18/18 [==============================] - 6s 359ms/step - loss: 0.0000e+00 - accuracy: 0.4813 - val_loss: 0.0000e+00 - val_accuracy: 0.5160\n",
      "Epoch 3/8\n",
      "18/18 [==============================] - 8s 463ms/step - loss: 0.0000e+00 - accuracy: 0.4848 - val_loss: 0.0000e+00 - val_accuracy: 0.2287\n",
      "Epoch 4/8\n",
      "18/18 [==============================] - 9s 488ms/step - loss: 0.0000e+00 - accuracy: 0.4955 - val_loss: 0.0000e+00 - val_accuracy: 0.2766\n",
      "Epoch 5/8\n",
      "18/18 [==============================] - 10s 537ms/step - loss: 0.0000e+00 - accuracy: 0.4955 - val_loss: 0.0000e+00 - val_accuracy: 0.2340\n",
      "Epoch 6/8\n",
      "18/18 [==============================] - 8s 477ms/step - loss: 0.0000e+00 - accuracy: 0.4955 - val_loss: 0.0000e+00 - val_accuracy: 0.3670\n",
      "Epoch 7/8\n",
      "18/18 [==============================] - 6s 344ms/step - loss: 0.0000e+00 - accuracy: 0.5027 - val_loss: 0.0000e+00 - val_accuracy: 0.2553\n",
      "Epoch 8/8\n",
      "18/18 [==============================] - 6s 322ms/step - loss: 0.0000e+00 - accuracy: 0.5116 - val_loss: 0.0000e+00 - val_accuracy: 0.3351\n",
      "BiLSTM model for num_layer:  2 dropout rate:  0.3\n",
      "8/8 [==============================] - 4s 92ms/step\n",
      "              precision    recall  f1-score   support\n",
      "\n",
      "    Positive       0.55      0.82      0.66       122\n",
      "    Negative       0.01      0.17      0.03         6\n",
      "     Neutral       0.00      0.00      0.00       122\n",
      "\n",
      "    accuracy                           0.40       250\n",
      "   macro avg       0.19      0.33      0.23       250\n",
      "weighted avg       0.27      0.40      0.32       250\n",
      "\n"
     ]
    },
    {
     "name": "stderr",
     "output_type": "stream",
     "text": [
      "d:\\Python64\\lib\\site-packages\\sklearn\\metrics\\_classification.py:1318: UndefinedMetricWarning: Precision and F-score are ill-defined and being set to 0.0 in labels with no predicted samples. Use `zero_division` parameter to control this behavior.\n",
      "  _warn_prf(average, modifier, msg_start, len(result))\n",
      "d:\\Python64\\lib\\site-packages\\sklearn\\metrics\\_classification.py:1318: UndefinedMetricWarning: Precision and F-score are ill-defined and being set to 0.0 in labels with no predicted samples. Use `zero_division` parameter to control this behavior.\n",
      "  _warn_prf(average, modifier, msg_start, len(result))\n",
      "d:\\Python64\\lib\\site-packages\\sklearn\\metrics\\_classification.py:1318: UndefinedMetricWarning: Precision and F-score are ill-defined and being set to 0.0 in labels with no predicted samples. Use `zero_division` parameter to control this behavior.\n",
      "  _warn_prf(average, modifier, msg_start, len(result))\n"
     ]
    },
    {
     "data": {
      "image/png": "[encoded data removed]",
      "text/plain": [
       "<Figure size 640x480 with 2 Axes>"
      ]
     },
     "metadata": {},
     "output_type": "display_data"
    },
    {
     "name": "stdout",
     "output_type": "stream",
     "text": [
      "Epoch 1/8\n",
      "18/18 [==============================] - 24s 476ms/step - loss: 0.0000e+00 - accuracy: 0.2870 - val_loss: 0.0000e+00 - val_accuracy: 0.5160\n",
      "Epoch 2/8\n",
      "18/18 [==============================] - 5s 275ms/step - loss: 0.0000e+00 - accuracy: 0.4153 - val_loss: 0.0000e+00 - val_accuracy: 0.5160\n",
      "Epoch 3/8\n",
      "18/18 [==============================] - 6s 344ms/step - loss: 0.0000e+00 - accuracy: 0.4724 - val_loss: 0.0000e+00 - val_accuracy: 0.5160\n",
      "Epoch 4/8\n",
      "18/18 [==============================] - 9s 511ms/step - loss: 0.0000e+00 - accuracy: 0.4884 - val_loss: 0.0000e+00 - val_accuracy: 0.5160\n",
      "Epoch 5/8\n",
      "18/18 [==============================] - 8s 411ms/step - loss: 0.0000e+00 - accuracy: 0.4991 - val_loss: 0.0000e+00 - val_accuracy: 0.0479\n",
      "Epoch 6/8\n",
      "18/18 [==============================] - 7s 401ms/step - loss: 0.0000e+00 - accuracy: 0.4242 - val_loss: 0.0000e+00 - val_accuracy: 0.2181\n",
      "Epoch 7/8\n",
      "18/18 [==============================] - 7s 370ms/step - loss: 0.0000e+00 - accuracy: 0.4777 - val_loss: 0.0000e+00 - val_accuracy: 0.2234\n",
      "Epoch 8/8\n",
      "18/18 [==============================] - 6s 313ms/step - loss: 0.0000e+00 - accuracy: 0.4759 - val_loss: 0.0000e+00 - val_accuracy: 0.1596\n",
      "BiLSTM model for num_layer:  3 dropout rate:  0.7\n",
      "8/8 [==============================] - 4s 102ms/step\n",
      "              precision    recall  f1-score   support\n",
      "\n",
      "    Positive       0.69      0.29      0.40       122\n",
      "    Negative       0.02      0.67      0.04         6\n",
      "     Neutral       0.00      0.00      0.00       122\n",
      "\n",
      "    accuracy                           0.16       250\n",
      "   macro avg       0.24      0.32      0.15       250\n",
      "weighted avg       0.34      0.16      0.20       250\n",
      "\n"
     ]
    },
    {
     "name": "stderr",
     "output_type": "stream",
     "text": [
      "d:\\Python64\\lib\\site-packages\\sklearn\\metrics\\_classification.py:1318: UndefinedMetricWarning: Precision and F-score are ill-defined and being set to 0.0 in labels with no predicted samples. Use `zero_division` parameter to control this behavior.\n",
      "  _warn_prf(average, modifier, msg_start, len(result))\n",
      "d:\\Python64\\lib\\site-packages\\sklearn\\metrics\\_classification.py:1318: UndefinedMetricWarning: Precision and F-score are ill-defined and being set to 0.0 in labels with no predicted samples. Use `zero_division` parameter to control this behavior.\n",
      "  _warn_prf(average, modifier, msg_start, len(result))\n",
      "d:\\Python64\\lib\\site-packages\\sklearn\\metrics\\_classification.py:1318: UndefinedMetricWarning: Precision and F-score are ill-defined and being set to 0.0 in labels with no predicted samples. Use `zero_division` parameter to control this behavior.\n",
      "  _warn_prf(average, modifier, msg_start, len(result))\n"
     ]
    },
    {
     "data": {
      "image/png": "[encoded data removed]",
      "text/plain": [
       "<Figure size 640x480 with 2 Axes>"
      ]
     },
     "metadata": {},
     "output_type": "display_data"
    }
   ],
   "source": [
    "\n",
    "print(\"BiLSTM\")\n",
    "for i in range(2):\n",
    "    model = my_models_function(\"BiLSTM\",num_layer[i],dropout_rate[i])\n",
    "    model.fit(X_train, y_train, batch_size=32, epochs=8, validation_split=0.25)\n",
    "    print(\"BiLSTM model for num_layer: \",num_layer[i],\"dropout rate: \",dropout_rate[i])\n",
    "    evaluate_model(model, X_test, y_test)  "
   ]
  },
  {
   "cell_type": "code",
   "execution_count": null,
   "metadata": {},
   "outputs": [],
   "source": []
  }
 ],
 "metadata": {
  "kernelspec": {
   "display_name": "Python 3",
   "language": "python",
   "name": "python3"
  },
  "language_info": {
   "codemirror_mode": {
    "name": "ipython",
    "version": 3
   },
   "file_extension": ".py",
   "mimetype": "text/x-python",
   "name": "python",
   "nbconvert_exporter": "python",
   "pygments_lexer": "ipython3",
   "version": "3.7.5"
  }
 },
 "nbformat": 4,
 "nbformat_minor": 2
}
