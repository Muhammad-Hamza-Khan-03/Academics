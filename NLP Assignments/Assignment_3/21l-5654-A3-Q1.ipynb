{
 "cells": [
  {
   "cell_type": "code",
   "execution_count": 55,
   "metadata": {},
   "outputs": [],
   "source": [
    "import pandas as pd\n",
    "import matplotlib.pyplot as plt\n",
    "from sklearn.preprocessing import LabelEncoder\n",
    "from nltk.corpus import stopwords\n",
    "from nltk.tokenize import word_tokenize\n",
    "import nltk\n",
    "from nltk import WordNetLemmatizer"
   ]
  },
  {
   "cell_type": "markdown",
   "metadata": {},
   "source": [
    "## Reading files"
   ]
  },
  {
   "cell_type": "code",
   "execution_count": 17,
   "metadata": {},
   "outputs": [
    {
     "data": {
      "text/html": [
       "<div>\n",
       "<style scoped>\n",
       "    .dataframe tbody tr th:only-of-type {\n",
       "        vertical-align: middle;\n",
       "    }\n",
       "\n",
       "    .dataframe tbody tr th {\n",
       "        vertical-align: top;\n",
       "    }\n",
       "\n",
       "    .dataframe thead th {\n",
       "        text-align: right;\n",
       "    }\n",
       "</style>\n",
       "<table border=\"1\" class=\"dataframe\">\n",
       "  <thead>\n",
       "    <tr style=\"text-align: right;\">\n",
       "      <th></th>\n",
       "      <th>Tweet</th>\n",
       "      <th>Class</th>\n",
       "    </tr>\n",
       "  </thead>\n",
       "  <tbody>\n",
       "    <tr>\n",
       "      <th>0</th>\n",
       "      <td>میں نے ایٹم بم بنایا ھے ۔۔۔۔او بھائی ایٹم بمب ...</td>\n",
       "      <td>P</td>\n",
       "    </tr>\n",
       "    <tr>\n",
       "      <th>1</th>\n",
       "      <td>چندے سے انقلاب اور عمران خان وزیر اعظم نہیں بن...</td>\n",
       "      <td>N</td>\n",
       "    </tr>\n",
       "    <tr>\n",
       "      <th>2</th>\n",
       "      <td>ٹویٹر کا خیال کیسے آیا ؟</td>\n",
       "      <td>O</td>\n",
       "    </tr>\n",
       "    <tr>\n",
       "      <th>3</th>\n",
       "      <td>سرچ انجن گوگل کے نائب صدر نے فضا میں ، 130,000...</td>\n",
       "      <td>P</td>\n",
       "    </tr>\n",
       "    <tr>\n",
       "      <th>4</th>\n",
       "      <td>ابھی تک اسکی لہریں کبھی کبھی آ جاتی ہیں یار :أْ</td>\n",
       "      <td>P</td>\n",
       "    </tr>\n",
       "  </tbody>\n",
       "</table>\n",
       "</div>"
      ],
      "text/plain": [
       "                                               Tweet Class\n",
       "0  میں نے ایٹم بم بنایا ھے ۔۔۔۔او بھائی ایٹم بمب ...     P\n",
       "1  چندے سے انقلاب اور عمران خان وزیر اعظم نہیں بن...     N\n",
       "2                           ٹویٹر کا خیال کیسے آیا ؟     O\n",
       "3  سرچ انجن گوگل کے نائب صدر نے فضا میں ، 130,000...     P\n",
       "4    ابھی تک اسکی لہریں کبھی کبھی آ جاتی ہیں یار :أْ     P"
      ]
     },
     "execution_count": 17,
     "metadata": {},
     "output_type": "execute_result"
    }
   ],
   "source": [
    "urdu_dataset = pd.read_csv(\"urdu-sentiment-corpus-v1.tsv\",sep=\"\\t\")\n",
    "urdu_dataset.head()"
   ]
  },
  {
   "cell_type": "code",
   "execution_count": 18,
   "metadata": {},
   "outputs": [
    {
     "name": "stdout",
     "output_type": "stream",
     "text": [
      "<class 'pandas.core.frame.DataFrame'>\n",
      "RangeIndex: 1000 entries, 0 to 999\n",
      "Data columns (total 2 columns):\n",
      " #   Column  Non-Null Count  Dtype \n",
      "---  ------  --------------  ----- \n",
      " 0   Tweet   1000 non-null   object\n",
      " 1   Class   999 non-null    object\n",
      "dtypes: object(2)\n",
      "memory usage: 15.8+ KB\n"
     ]
    }
   ],
   "source": [
    "urdu_dataset.info()"
   ]
  },
  {
   "cell_type": "markdown",
   "metadata": {},
   "source": [
    "## Removing null values"
   ]
  },
  {
   "cell_type": "code",
   "execution_count": 19,
   "metadata": {},
   "outputs": [
    {
     "name": "stdout",
     "output_type": "stream",
     "text": [
      "Tweet    0\n",
      "Class    1\n",
      "dtype: int64\n",
      "After Null values Removed\n",
      " Tweet    0\n",
      "Class    0\n",
      "dtype: int64\n"
     ]
    }
   ],
   "source": [
    "print(urdu_dataset.isna().sum())\n",
    "null_check = urdu_dataset.isna().sum().sum()>0\n",
    "if null_check:\n",
    "    urdu_dataset.dropna(inplace=True)\n",
    "    print(\"After Null values Removed\\n\",urdu_dataset.isna().sum())"
   ]
  },
  {
   "cell_type": "code",
   "execution_count": 20,
   "metadata": {},
   "outputs": [
    {
     "name": "stdout",
     "output_type": "stream",
     "text": [
      "<class 'pandas.core.frame.DataFrame'>\n",
      "Int64Index: 999 entries, 0 to 999\n",
      "Data columns (total 2 columns):\n",
      " #   Column  Non-Null Count  Dtype \n",
      "---  ------  --------------  ----- \n",
      " 0   Tweet   999 non-null    object\n",
      " 1   Class   999 non-null    object\n",
      "dtypes: object(2)\n",
      "memory usage: 23.4+ KB\n"
     ]
    }
   ],
   "source": [
    "urdu_dataset.info()"
   ]
  },
  {
   "cell_type": "markdown",
   "metadata": {},
   "source": [
    "## Values counts"
   ]
  },
  {
   "cell_type": "code",
   "execution_count": 22,
   "metadata": {},
   "outputs": [
    {
     "data": {
      "text/plain": [
       "N    499\n",
       "P    480\n",
       "O     20\n",
       "Name: Class, dtype: int64"
      ]
     },
     "execution_count": 22,
     "metadata": {},
     "output_type": "execute_result"
    }
   ],
   "source": [
    "urdu_dataset.Class.value_counts()"
   ]
  },
  {
   "cell_type": "code",
   "execution_count": 24,
   "metadata": {},
   "outputs": [
    {
     "data": {
      "image/png": "[encoded data removed]",
      "text/plain": [
       "<Figure size 640x480 with 1 Axes>"
      ]
     },
     "metadata": {},
     "output_type": "display_data"
    }
   ],
   "source": [
    "urdu_dataset['Class'].value_counts().plot(kind='bar')\n",
    "\n",
    "plt.xlabel('Class Attribute')\n",
    "plt.ylabel('Count')\n",
    "plt.title('Distribution of Class Attribute')\n",
    "\n",
    "plt.show()"
   ]
  },
  {
   "cell_type": "markdown",
   "metadata": {},
   "source": [
    "## Label Encoding Class Attribute"
   ]
  },
  {
   "cell_type": "code",
   "execution_count": 27,
   "metadata": {},
   "outputs": [
    {
     "name": "stdout",
     "output_type": "stream",
     "text": [
      "[2 0 1]\n"
     ]
    }
   ],
   "source": [
    "label_encoder = LabelEncoder()\n",
    "urdu_dataset['Class'] = label_encoder.fit_transform(urdu_dataset['Class'])\n",
    "\n",
    "print(urdu_dataset['Class'].unique())\n",
    "#0 -> Negative\n",
    "#2 -> Positive\n",
    "#1 -> Neutral"
   ]
  },
  {
   "cell_type": "code",
   "execution_count": 28,
   "metadata": {},
   "outputs": [
    {
     "data": {
      "text/plain": [
       "0    499\n",
       "2    480\n",
       "1     20\n",
       "Name: Class, dtype: int64"
      ]
     },
     "execution_count": 28,
     "metadata": {},
     "output_type": "execute_result"
    }
   ],
   "source": [
    "urdu_dataset.Class.value_counts()"
   ]
  },
  {
   "cell_type": "markdown",
   "metadata": {},
   "source": [
    "## Preprocessing\n",
    "#0 -> Negative\n",
    "#2 -> Positive\n",
    "#1 -> Neutral"
   ]
  },
  {
   "cell_type": "code",
   "execution_count": 29,
   "metadata": {},
   "outputs": [
    {
     "data": {
      "text/html": [
       "<div>\n",
       "<style scoped>\n",
       "    .dataframe tbody tr th:only-of-type {\n",
       "        vertical-align: middle;\n",
       "    }\n",
       "\n",
       "    .dataframe tbody tr th {\n",
       "        vertical-align: top;\n",
       "    }\n",
       "\n",
       "    .dataframe thead th {\n",
       "        text-align: right;\n",
       "    }\n",
       "</style>\n",
       "<table border=\"1\" class=\"dataframe\">\n",
       "  <thead>\n",
       "    <tr style=\"text-align: right;\">\n",
       "      <th></th>\n",
       "      <th>Tweet</th>\n",
       "      <th>Class</th>\n",
       "    </tr>\n",
       "  </thead>\n",
       "  <tbody>\n",
       "    <tr>\n",
       "      <th>0</th>\n",
       "      <td>میں نے ایٹم بم بنایا ھے ۔۔۔۔او بھائی ایٹم بمب ...</td>\n",
       "      <td>2</td>\n",
       "    </tr>\n",
       "    <tr>\n",
       "      <th>1</th>\n",
       "      <td>چندے سے انقلاب اور عمران خان وزیر اعظم نہیں بن...</td>\n",
       "      <td>0</td>\n",
       "    </tr>\n",
       "    <tr>\n",
       "      <th>2</th>\n",
       "      <td>ٹویٹر کا خیال کیسے آیا ؟</td>\n",
       "      <td>1</td>\n",
       "    </tr>\n",
       "    <tr>\n",
       "      <th>3</th>\n",
       "      <td>سرچ انجن گوگل کے نائب صدر نے فضا میں ، 130,000...</td>\n",
       "      <td>2</td>\n",
       "    </tr>\n",
       "    <tr>\n",
       "      <th>4</th>\n",
       "      <td>ابھی تک اسکی لہریں کبھی کبھی آ جاتی ہیں یار :أْ</td>\n",
       "      <td>2</td>\n",
       "    </tr>\n",
       "  </tbody>\n",
       "</table>\n",
       "</div>"
      ],
      "text/plain": [
       "                                               Tweet  Class\n",
       "0  میں نے ایٹم بم بنایا ھے ۔۔۔۔او بھائی ایٹم بمب ...      2\n",
       "1  چندے سے انقلاب اور عمران خان وزیر اعظم نہیں بن...      0\n",
       "2                           ٹویٹر کا خیال کیسے آیا ؟      1\n",
       "3  سرچ انجن گوگل کے نائب صدر نے فضا میں ، 130,000...      2\n",
       "4    ابھی تک اسکی لہریں کبھی کبھی آ جاتی ہیں یار :أْ      2"
      ]
     },
     "execution_count": 29,
     "metadata": {},
     "output_type": "execute_result"
    }
   ],
   "source": [
    "urdu_dataset.head()"
   ]
  },
  {
   "cell_type": "code",
   "execution_count": 35,
   "metadata": {},
   "outputs": [
    {
     "name": "stdout",
     "output_type": "stream",
     "text": [
      "['اب\\n', 'ابھی\\n', 'اپنا\\n', 'اپنے\\n', 'اپنی\\n', 'اٹھا\\n', 'اس\\n', 'اسے\\n', 'اسی\\n', 'اگر\\n', 'ان\\n', 'انہوں\\n', 'انہی\\n', 'انہیں\\n', 'انھیں\\n', 'او\\n', 'اور\\n', 'اے\\n', 'ایسا\\n', 'ایسے\\n', 'ایسی\\n', 'ایک\\n', 'آ\\n', 'آپ\\n', 'آتا\\n', 'آتے\\n', 'آتی\\n', 'آگے\\n', 'آنا\\n', 'آنے\\n', 'آنی\\n', 'آئے\\n', 'آئی\\n', 'آئیں\\n', 'آیا\\n', 'با\\n', 'بڑا\\n', 'بڑے\\n', 'بڑی\\n', 'بعد\\n', 'بعض\\n', 'بلکہ\\n', 'بہت\\n', 'بھی\\n', 'بے\\n', 'پاس\\n', 'پر\\n', 'پہلے\\n', 'پھر\\n', 'تا\\n', 'تاکہ\\n', 'تب\\n', 'تجھ\\n', 'تجھے\\n', 'تک\\n', 'تم\\n', 'تمام\\n', 'تمہارا\\n', 'تمہارے\\n', 'تمھارے\\n', 'تمہاری\\n', 'تمہیں\\n', 'تمھیں\\n', 'تھا\\n', 'تھے\\n', 'تھی\\n', 'تھیں\\n', 'تو\\n', 'تیری\\n', 'تیرے\\n', 'جا\\n', 'جاتا\\n', 'جاتی\\n', 'جاتے\\n', 'جاتی\\n', 'جانے\\n', 'جانی\\n', 'جاؤ\\n', 'جائے\\n', 'جائیں\\n', 'جب\\n', 'جس\\n', 'جن\\n', 'جنہوں\\n', 'جنہیں\\n', 'جو\\n', 'جیسا\\n', 'جیسے\\n', 'جیسی\\n', 'جیسوں\\n', 'چاہیئے\\n', 'چلا\\n', 'چاہے\\n', 'چونکہ\\n', 'حالاں\\n', 'حالانکہ\\n', 'دو\\n', 'دونوں\\n', 'دوں\\n', 'دے\\n', 'دی\\n', 'دیا\\n', 'دیں\\n', 'دیے\\n', 'دیتا\\n', 'دیتے\\n', 'دیتی\\n', 'دینا\\n', 'دینے\\n', 'دینی\\n', 'دیئے\\n', 'ڈالا\\n', 'ڈالنا\\n', 'ڈالنے\\n', 'ڈالنی\\n', 'ڈالے\\n', 'ڈالی\\n', 'ذرا\\n', 'رکھا\\n', 'رکھتا\\n', 'رکھتے\\n', 'رکھتی\\n', 'رکھنا\\n', 'رکھنے\\n', 'رکھنی\\n', 'رکھے\\n', 'رکھی\\n', 'رہ\\n', 'رہا\\n', 'رہتا\\n', 'رہتے\\n', 'رہتی\\n', 'رہنا\\n', 'رہنے\\n', 'رہنی\\n', 'رہو\\n', 'رہے\\n', 'رہی\\n', 'رہیں\\n', 'زیادہ\\n', 'سا\\n', 'سامنے\\n', 'سب\\n', 'سکتا\\n', 'سو\\n', 'سے\\n', 'سی\\n', 'شاید\\n', 'صرف\\n', 'طرح\\n', 'طرف\\n', 'عین\\n', 'کا\\n', 'کبھی\\n', 'کچھ\\n', 'کہہ\\n', 'کر\\n', 'کرتا\\n', 'کرتے\\n', 'کرتی\\n', 'کرنا\\n', 'کرنے\\n', 'کرو\\n', 'کروں\\n', 'کرے\\n', 'کریں\\n', 'کس\\n', 'کسے\\n', 'کسی\\n', 'کہ\\n', 'کہا\\n', 'کہے\\n', 'کو\\n', 'کون\\n', 'کوئی\\n', 'کے\\n', 'کی\\n', 'کیا\\n', 'کیسے\\n', 'کیوں\\n', 'کیونکہ\\n', 'کیے\\n', 'کئے\\n', 'گا\\n', 'گویا\\n', 'گے\\n', 'گی\\n', 'گیا\\n', 'گئے\\n', 'گئی\\n', 'لا\\n', 'لاتا\\n', 'لاتے\\n', 'لاتی\\n', 'لانا\\n', 'لانے\\n', 'لانی\\n', 'لایا\\n', 'لائے\\n', 'لائی\\n', 'لگا\\n', 'لگے\\n', 'لگی\\n', 'لگیں\\n', 'لو\\n', 'لے\\n', 'لی\\n', 'لیا\\n', 'لیتا\\n', 'لیتے\\n', 'لیتی\\n', 'لیکن\\n', 'لیں\\n', 'لیے\\n', 'لئے\\n', 'مجھ\\n', 'مجھے\\n', 'مگر\\n', 'میرا\\n', 'میرے\\n', 'میری\\n', 'میں\\n', 'نا\\n', 'نہ\\n', 'نہایت\\n', 'نہیں\\n', 'نے\\n', 'ہاں\\n', 'ہر\\n', 'ہم\\n', 'ہمارا\\n', 'ہمارے\\n', 'ہماری\\n', 'ہو\\n', 'ہوا\\n', 'ہوتا\\n', 'ہوتے\\n', 'ہوتی\\n', 'ہوتیں\\n', 'ہوں\\n', 'ہونا\\n', 'ہونگے\\n', 'ہونے\\n', 'ہونی\\n', 'ہوئے\\n', 'ہوئی\\n', 'ہوئیں\\n', 'ہے\\n', 'ہی\\n', 'ہیں\\n', 'و\\n', 'والا\\n', 'والوں\\n', 'والے\\n', 'والی\\n', 'وہ\\n', 'وہاں\\n', 'وہی\\n', 'وہیں\\n', 'یا\\n', 'یعنی\\n', 'یہ\\n', 'یہاں\\n', 'یہی\\n', 'یہیں']\n"
     ]
    }
   ],
   "source": [
    "\n",
    "file_path = 'my_urdu_stopwords.txt'\n",
    "with open(file_path,'r',encoding='utf-8')as file:\n",
    "    urdu_stop_words = file.readlines()\n",
    "print(urdu_stop_words)"
   ]
  },
  {
   "cell_type": "code",
   "execution_count": 51,
   "metadata": {},
   "outputs": [
    {
     "name": "stdout",
     "output_type": "stream",
     "text": [
      "265\n"
     ]
    }
   ],
   "source": [
    "import string\n",
    "print(len(urdu_stop_words))"
   ]
  },
  {
   "cell_type": "code",
   "execution_count": 56,
   "metadata": {},
   "outputs": [],
   "source": [
    "\n",
    "def preprocess_text(text,stopwords):\n",
    "    text = text.str.replace(r'[\\(\\[].*?[\\)\\]]', '')# Remove text in square brackets and parentheses\n",
    "    \n",
    "    text = text.str.replace('\\n', ' ')# Remove newline characters\n",
    "    \n",
    "    text = text.str.lower()# Convert text to lowercase\n",
    "    \n",
    "    text = text.str.replace(r'\\d+', '')# Remove numbers\n",
    "    \n",
    "    text = text.str.replace(r'[@#]', '')# Remove '@' and '#' characters\n",
    "   \n",
    "    text = text.str.replace('[{}]'.format(string.punctuation), '') # Remove punctuation\n",
    "    \n",
    "    clean_text = []\n",
    "    ignore = set(stopwords)  # Remove stopwords from text\n",
    "    \n",
    "    for i in text:\n",
    "        words = nltk.word_tokenize(i)\n",
    "        words = [word for word in words if word not in ignore and len(word) > 1]\n",
    "        res_text = \" \".join(words)\n",
    "        clean_text.append(res_text)\n",
    "        \n",
    "    return clean_text\n",
    "\n",
    "    removed_stopwords = []\n",
    "    for text in Tweet_text:\n",
    "        if text not in stopwords:\n",
    "            removed_stopwords.append(text)\n",
    "def lemmatize_text(text):\n",
    "    lemmatizer = WordNetLemmatizer()\n",
    "    tokens = word_tokenize(text)\n",
    "    lemmatized_tokens = [lemmatizer.lemmatize(token) for token in tokens]\n",
    "    return ' '.join(lemmatized_tokens)\n"
   ]
  },
  {
   "cell_type": "code",
   "execution_count": 71,
   "metadata": {},
   "outputs": [
    {
     "name": "stderr",
     "output_type": "stream",
     "text": [
      "C:\\Users\\Hamza\\AppData\\Roaming\\Python\\Python37\\site-packages\\ipykernel_launcher.py:2: FutureWarning: The default value of regex will change from True to False in a future version.\n",
      "  \n",
      "C:\\Users\\Hamza\\AppData\\Roaming\\Python\\Python37\\site-packages\\ipykernel_launcher.py:8: FutureWarning: The default value of regex will change from True to False in a future version.\n",
      "  \n",
      "C:\\Users\\Hamza\\AppData\\Roaming\\Python\\Python37\\site-packages\\ipykernel_launcher.py:10: FutureWarning: The default value of regex will change from True to False in a future version.\n",
      "  # Remove the CWD from sys.path while we load stuff.\n",
      "C:\\Users\\Hamza\\AppData\\Roaming\\Python\\Python37\\site-packages\\ipykernel_launcher.py:12: FutureWarning: The default value of regex will change from True to False in a future version.\n",
      "  if sys.path[0] == \"\":\n"
     ]
    },
    {
     "data": {
      "text/html": [
       "<div>\n",
       "<style scoped>\n",
       "    .dataframe tbody tr th:only-of-type {\n",
       "        vertical-align: middle;\n",
       "    }\n",
       "\n",
       "    .dataframe tbody tr th {\n",
       "        vertical-align: top;\n",
       "    }\n",
       "\n",
       "    .dataframe thead th {\n",
       "        text-align: right;\n",
       "    }\n",
       "</style>\n",
       "<table border=\"1\" class=\"dataframe\">\n",
       "  <thead>\n",
       "    <tr style=\"text-align: right;\">\n",
       "      <th></th>\n",
       "      <th>old_text</th>\n",
       "      <th>text</th>\n",
       "      <th>text_lemmatized</th>\n",
       "      <th>text_separated</th>\n",
       "      <th>Class</th>\n",
       "    </tr>\n",
       "  </thead>\n",
       "  <tbody>\n",
       "    <tr>\n",
       "      <th>0</th>\n",
       "      <td>میں نے ایٹم بم بنایا ھے ۔۔۔۔او بھائی ایٹم بمب ...</td>\n",
       "      <td>میں نے ایٹم بم بنایا ھے ۔۔۔۔او بھائی ایٹم بمب ...</td>\n",
       "      <td>میں نے ایٹم بم بنایا ھے ۔۔۔۔او بھائی ایٹم بمب ...</td>\n",
       "      <td>میں نے ایٹم بم بنایا ھے ۔۔۔۔او بھائی ایٹم بمب ...</td>\n",
       "      <td>2</td>\n",
       "    </tr>\n",
       "    <tr>\n",
       "      <th>1</th>\n",
       "      <td>چندے سے انقلاب اور عمران خان وزیر اعظم نہیں بن...</td>\n",
       "      <td>چندے سے انقلاب اور عمران خان وزیر اعظم نہیں بن...</td>\n",
       "      <td>چندے سے انقلاب اور عمران خان وزیر اعظم نہیں بن...</td>\n",
       "      <td>چندے سے انقلاب اور عمران خان وزیر اعظم نہیں بن...</td>\n",
       "      <td>0</td>\n",
       "    </tr>\n",
       "    <tr>\n",
       "      <th>2</th>\n",
       "      <td>ٹویٹر کا خیال کیسے آیا ؟</td>\n",
       "      <td>ٹویٹر کا خیال کیسے آیا</td>\n",
       "      <td>ٹویٹر کا خیال کیسے آیا</td>\n",
       "      <td>ٹویٹر کا خیال کیسے آیا</td>\n",
       "      <td>1</td>\n",
       "    </tr>\n",
       "    <tr>\n",
       "      <th>3</th>\n",
       "      <td>سرچ انجن گوگل کے نائب صدر نے فضا میں ، 130,000...</td>\n",
       "      <td>سرچ انجن گوگل کے نائب صدر نے فضا میں فٹ کی بلن...</td>\n",
       "      <td>سرچ انجن گوگل کے نائب صدر نے فضا میں فٹ کی بلن...</td>\n",
       "      <td>سرچ انجن گوگل کے نائب صدر نے فضا میں فٹ کی بلن...</td>\n",
       "      <td>2</td>\n",
       "    </tr>\n",
       "    <tr>\n",
       "      <th>4</th>\n",
       "      <td>ابھی تک اسکی لہریں کبھی کبھی آ جاتی ہیں یار :أْ</td>\n",
       "      <td>ابھی تک اسکی لہریں کبھی کبھی جاتی ہیں یار أْ</td>\n",
       "      <td>ابھی تک اسکی لہریں کبھی کبھی جاتی ہیں یار أْ</td>\n",
       "      <td>ابھی تک اسکی لہریں کبھی کبھی جاتی ہیں یار أْ</td>\n",
       "      <td>2</td>\n",
       "    </tr>\n",
       "  </tbody>\n",
       "</table>\n",
       "</div>"
      ],
      "text/plain": [
       "                                            old_text  \\\n",
       "0  میں نے ایٹم بم بنایا ھے ۔۔۔۔او بھائی ایٹم بمب ...   \n",
       "1  چندے سے انقلاب اور عمران خان وزیر اعظم نہیں بن...   \n",
       "2                           ٹویٹر کا خیال کیسے آیا ؟   \n",
       "3  سرچ انجن گوگل کے نائب صدر نے فضا میں ، 130,000...   \n",
       "4    ابھی تک اسکی لہریں کبھی کبھی آ جاتی ہیں یار :أْ   \n",
       "\n",
       "                                                text  \\\n",
       "0  میں نے ایٹم بم بنایا ھے ۔۔۔۔او بھائی ایٹم بمب ...   \n",
       "1  چندے سے انقلاب اور عمران خان وزیر اعظم نہیں بن...   \n",
       "2                             ٹویٹر کا خیال کیسے آیا   \n",
       "3  سرچ انجن گوگل کے نائب صدر نے فضا میں فٹ کی بلن...   \n",
       "4       ابھی تک اسکی لہریں کبھی کبھی جاتی ہیں یار أْ   \n",
       "\n",
       "                                     text_lemmatized  \\\n",
       "0  میں نے ایٹم بم بنایا ھے ۔۔۔۔او بھائی ایٹم بمب ...   \n",
       "1  چندے سے انقلاب اور عمران خان وزیر اعظم نہیں بن...   \n",
       "2                             ٹویٹر کا خیال کیسے آیا   \n",
       "3  سرچ انجن گوگل کے نائب صدر نے فضا میں فٹ کی بلن...   \n",
       "4       ابھی تک اسکی لہریں کبھی کبھی جاتی ہیں یار أْ   \n",
       "\n",
       "                                      text_separated  Class  \n",
       "0  میں نے ایٹم بم بنایا ھے ۔۔۔۔او بھائی ایٹم بمب ...      2  \n",
       "1  چندے سے انقلاب اور عمران خان وزیر اعظم نہیں بن...      0  \n",
       "2                             ٹویٹر کا خیال کیسے آیا      1  \n",
       "3  سرچ انجن گوگل کے نائب صدر نے فضا میں فٹ کی بلن...      2  \n",
       "4       ابھی تک اسکی لہریں کبھی کبھی جاتی ہیں یار أْ      2  "
      ]
     },
     "execution_count": 71,
     "metadata": {},
     "output_type": "execute_result"
    }
   ],
   "source": [
    "processed_df=pd.DataFrame(columns=['old_text','text'])\n",
    "processed_df['old_text'] = urdu_dataset['Tweet']\n",
    "processed_df['text'] = preprocess_text(processed_df['old_text'],urdu_stop_words)\n",
    "processed_df['text_lemmatized'] = processed_df['text'].apply(lemmatize_text)\n",
    "processed_df['text_separated'] = processed_df['text'].apply(str)\n",
    "processed_df['Class'] = urdu_dataset['Class']\n",
    "\n",
    "processed_df.head()"
   ]
  },
  {
   "cell_type": "code",
   "execution_count": 72,
   "metadata": {},
   "outputs": [
    {
     "name": "stdout",
     "output_type": "stream",
     "text": [
      "<class 'pandas.core.frame.DataFrame'>\n",
      "Int64Index: 999 entries, 0 to 999\n",
      "Data columns (total 5 columns):\n",
      " #   Column           Non-Null Count  Dtype \n",
      "---  ------           --------------  ----- \n",
      " 0   old_text         999 non-null    object\n",
      " 1   text             999 non-null    object\n",
      " 2   text_lemmatized  999 non-null    object\n",
      " 3   text_separated   999 non-null    object\n",
      " 4   Class            999 non-null    int32 \n",
      "dtypes: int32(1), object(4)\n",
      "memory usage: 42.9+ KB\n"
     ]
    }
   ],
   "source": [
    "processed_df.info()"
   ]
  },
  {
   "cell_type": "code",
   "execution_count": 73,
   "metadata": {},
   "outputs": [
    {
     "data": {
      "text/html": [
       "<div>\n",
       "<style scoped>\n",
       "    .dataframe tbody tr th:only-of-type {\n",
       "        vertical-align: middle;\n",
       "    }\n",
       "\n",
       "    .dataframe tbody tr th {\n",
       "        vertical-align: top;\n",
       "    }\n",
       "\n",
       "    .dataframe thead th {\n",
       "        text-align: right;\n",
       "    }\n",
       "</style>\n",
       "<table border=\"1\" class=\"dataframe\">\n",
       "  <thead>\n",
       "    <tr style=\"text-align: right;\">\n",
       "      <th></th>\n",
       "      <th>word</th>\n",
       "      <th>Class</th>\n",
       "    </tr>\n",
       "  </thead>\n",
       "  <tbody>\n",
       "    <tr>\n",
       "      <th>0</th>\n",
       "      <td>میں نے ایٹم بم بنایا ھے ۔۔۔۔او بھائی ایٹم بمب ...</td>\n",
       "      <td>2</td>\n",
       "    </tr>\n",
       "    <tr>\n",
       "      <th>1</th>\n",
       "      <td>چندے سے انقلاب اور عمران خان وزیر اعظم نہیں بن...</td>\n",
       "      <td>0</td>\n",
       "    </tr>\n",
       "    <tr>\n",
       "      <th>2</th>\n",
       "      <td>ٹویٹر کا خیال کیسے آیا</td>\n",
       "      <td>1</td>\n",
       "    </tr>\n",
       "    <tr>\n",
       "      <th>3</th>\n",
       "      <td>سرچ انجن گوگل کے نائب صدر نے فضا میں فٹ کی بلن...</td>\n",
       "      <td>2</td>\n",
       "    </tr>\n",
       "    <tr>\n",
       "      <th>4</th>\n",
       "      <td>ابھی تک اسکی لہریں کبھی کبھی جاتی ہیں یار أْ</td>\n",
       "      <td>2</td>\n",
       "    </tr>\n",
       "  </tbody>\n",
       "</table>\n",
       "</div>"
      ],
      "text/plain": [
       "                                                word  Class\n",
       "0  میں نے ایٹم بم بنایا ھے ۔۔۔۔او بھائی ایٹم بمب ...      2\n",
       "1  چندے سے انقلاب اور عمران خان وزیر اعظم نہیں بن...      0\n",
       "2                             ٹویٹر کا خیال کیسے آیا      1\n",
       "3  سرچ انجن گوگل کے نائب صدر نے فضا میں فٹ کی بلن...      2\n",
       "4       ابھی تک اسکی لہریں کبھی کبھی جاتی ہیں یار أْ      2"
      ]
     },
     "execution_count": 73,
     "metadata": {},
     "output_type": "execute_result"
    }
   ],
   "source": [
    "analysis_df = pd.DataFrame(columns=['word','Class'])\n",
    "analysis_df.word = processed_df.text_separated.apply(str)\n",
    "analysis_df.Class = processed_df.Class\n",
    "analysis_df.head()"
   ]
  },
  {
   "cell_type": "markdown",
   "metadata": {},
   "source": [
    "## Analysis df to csv"
   ]
  },
  {
   "cell_type": "code",
   "execution_count": 78,
   "metadata": {},
   "outputs": [],
   "source": [
    "analysis_df.to_csv('Analysed_Urdu_Tweets.csv')"
   ]
  },
  {
   "cell_type": "markdown",
   "metadata": {},
   "source": [
    "## Split the dataset"
   ]
  },
  {
   "cell_type": "code",
   "execution_count": 75,
   "metadata": {},
   "outputs": [
    {
     "name": "stdout",
     "output_type": "stream",
     "text": [
      "Training set shape: (749,) (749,)\n",
      "Testing set shape: (250,) (250,)\n"
     ]
    }
   ],
   "source": [
    "from sklearn.model_selection import train_test_split\n",
    "X=analysis_df.word\n",
    "y = analysis_df.Class\n",
    "X_train, X_test, y_train, y_test = train_test_split(X,y, test_size=0.25)\n",
    "\n",
    "print(\"Training set shape:\", X_train.shape, y_train.shape)\n",
    "print(\"Testing set shape:\", X_test.shape, y_test.shape)"
   ]
  },
  {
   "cell_type": "markdown",
   "metadata": {},
   "source": [
    "## Models"
   ]
  },
  {
   "cell_type": "markdown",
   "metadata": {},
   "source": [
    "Imports:"
   ]
  },
  {
   "cell_type": "code",
   "execution_count": 76,
   "metadata": {},
   "outputs": [
    {
     "ename": "ModuleNotFoundError",
     "evalue": "No module named 'tensorflow'",
     "output_type": "error",
     "traceback": [
      "\u001b[1;31m---------------------------------------------------------------------------\u001b[0m",
      "\u001b[1;31mModuleNotFoundError\u001b[0m                       Traceback (most recent call last)",
      "\u001b[1;32m~\\AppData\\Local\\Temp\\ipykernel_7908\\3971682144.py\u001b[0m in \u001b[0;36m<module>\u001b[1;34m\u001b[0m\n\u001b[1;32m----> 1\u001b[1;33m \u001b[1;32mimport\u001b[0m \u001b[0mtensorflow\u001b[0m \u001b[1;32mas\u001b[0m \u001b[0mtf\u001b[0m\u001b[1;33m\u001b[0m\u001b[1;33m\u001b[0m\u001b[0m\n\u001b[0m\u001b[0;32m      2\u001b[0m \u001b[1;32mfrom\u001b[0m \u001b[0mtensorflow\u001b[0m\u001b[1;33m.\u001b[0m\u001b[0mkeras\u001b[0m\u001b[1;33m.\u001b[0m\u001b[0mmodels\u001b[0m \u001b[1;32mimport\u001b[0m \u001b[0mSequential\u001b[0m\u001b[1;33m\u001b[0m\u001b[1;33m\u001b[0m\u001b[0m\n\u001b[0;32m      3\u001b[0m \u001b[1;32mfrom\u001b[0m \u001b[0mtensorflow\u001b[0m\u001b[1;33m.\u001b[0m\u001b[0mkeras\u001b[0m\u001b[1;33m.\u001b[0m\u001b[0mlayers\u001b[0m \u001b[1;32mimport\u001b[0m \u001b[0mEmbedding\u001b[0m\u001b[1;33m,\u001b[0m \u001b[0mLSTM\u001b[0m\u001b[1;33m,\u001b[0m \u001b[0mGRU\u001b[0m\u001b[1;33m,\u001b[0m \u001b[0mBidirectional\u001b[0m\u001b[1;33m,\u001b[0m \u001b[0mDense\u001b[0m\u001b[1;33m,\u001b[0m \u001b[0mDropout\u001b[0m\u001b[1;33m\u001b[0m\u001b[1;33m\u001b[0m\u001b[0m\n",
      "\u001b[1;31mModuleNotFoundError\u001b[0m: No module named 'tensorflow'"
     ]
    }
   ],
   "source": [
    "import tensorflow as tf\n",
    "from tensorflow.keras.models import Sequential\n",
    "from tensorflow.keras.layers import Embedding, LSTM, GRU, Bidirectional, Dense, Dropout"
   ]
  },
  {
   "cell_type": "code",
   "execution_count": null,
   "metadata": {},
   "outputs": [],
   "source": [
    "models = [\"RNN\",\"GRU\",\"LSTM\",\"BiLSTM\"]"
   ]
  }
 ],
 "metadata": {
  "kernelspec": {
   "display_name": "Python 3",
   "language": "python",
   "name": "python3"
  },
  "language_info": {
   "codemirror_mode": {
    "name": "ipython",
    "version": 3
   },
   "file_extension": ".py",
   "mimetype": "text/x-python",
   "name": "python",
   "nbconvert_exporter": "python",
   "pygments_lexer": "ipython3",
   "version": "3.7.5"
  }
 },
 "nbformat": 4,
 "nbformat_minor": 2
}
