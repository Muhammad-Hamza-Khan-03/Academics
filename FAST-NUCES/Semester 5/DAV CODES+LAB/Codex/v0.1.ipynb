{
 "cells": [
  {
   "cell_type": "code",
   "execution_count": 2,
   "id": "400de772",
   "metadata": {},
   "outputs": [
    {
     "name": "stdout",
     "output_type": "stream",
     "text": [
      "Collecting package metadata (current_repodata.json): ...working... done\n",
      "Solving environment: ...working... done\n",
      "\n",
      "## Package Plan ##\n",
      "\n",
      "  environment location: C:\\ProgramData\\Anaconda3\n",
      "\n",
      "  added / updated specs:\n",
      "    - selenium\n",
      "\n",
      "\n",
      "Note: you may need to restart the kernel to use updated packages.\n",
      "The following packages will be downloaded:\n",
      "\n",
      "    package                    |            build\n",
      "    ---------------------------|-----------------\n",
      "    selenium-3.141.0           |py39h2bbff1b_1000         815 KB\n",
      "    ------------------------------------------------------------\n",
      "                                           Total:         815 KB\n",
      "\n",
      "The following NEW packages will be INSTALLED:\n",
      "\n",
      "  selenium           pkgs/main/win-64::selenium-3.141.0-py39h2bbff1b_1000\n",
      "\n",
      "\n",
      "\n",
      "Downloading and Extracting Packages\n",
      "\n",
      "selenium-3.141.0     | 815 KB    |            |   0% \n",
      "selenium-3.141.0     | 815 KB    | 1          |   2% \n",
      "selenium-3.141.0     | 815 KB    | 7          |   8% \n",
      "selenium-3.141.0     | 815 KB    | ##1        |  22% \n",
      "selenium-3.141.0     | 815 KB    | ##9        |  29% \n",
      "selenium-3.141.0     | 815 KB    | ###7       |  37% \n",
      "selenium-3.141.0     | 815 KB    | ####3      |  43% \n",
      "selenium-3.141.0     | 815 KB    | ####7      |  47% \n",
      "selenium-3.141.0     | 815 KB    | #####1     |  51% \n",
      "selenium-3.141.0     | 815 KB    | #####4     |  55% \n",
      "selenium-3.141.0     | 815 KB    | #####6     |  57% \n",
      "selenium-3.141.0     | 815 KB    | #######4   |  75% \n",
      "selenium-3.141.0     | 815 KB    | ########   |  80% \n",
      "selenium-3.141.0     | 815 KB    | #########  |  90% \n",
      "selenium-3.141.0     | 815 KB    | #########4 |  94% \n",
      "selenium-3.141.0     | 815 KB    | #########8 |  98% \n",
      "selenium-3.141.0     | 815 KB    | ########## | 100% \n",
      "Preparing transaction: ...working... done\n",
      "Verifying transaction: ...working... failed\n",
      "\n"
     ]
    },
    {
     "name": "stderr",
     "output_type": "stream",
     "text": [
      "\n",
      "\n",
      "==> WARNING: A newer version of conda exists. <==\n",
      "  current version: 4.12.0\n",
      "  latest version: 23.7.3\n",
      "\n",
      "Please update conda by running\n",
      "\n",
      "    $ conda update -n base -c defaults conda\n",
      "\n",
      "\n",
      "\n",
      "EnvironmentNotWritableError: The current user does not have write permissions to the target environment.\n",
      "  environment location: C:\\ProgramData\\Anaconda3\n",
      "\n",
      "\n"
     ]
    }
   ],
   "source": [
    "conda install selenium"
   ]
  },
  {
   "cell_type": "code",
   "execution_count": 1,
   "id": "b64cb087",
   "metadata": {},
   "outputs": [],
   "source": [
    "from selenium import webdriver\n",
    "from selenium.webdriver.chrome.service import Service\n",
    "from selenium.webdriver.common.by import By\n",
    "from selenium.webdriver.common.keys import Keys\n",
    "from bs4 import BeautifulSoup\n",
    "import pandas as pd\n",
    "import time"
   ]
  },
  {
   "cell_type": "code",
   "execution_count": 5,
   "id": "4326acaf",
   "metadata": {},
   "outputs": [],
   "source": [
    "s = Service(\"C:/Users/Hamza/Desktop/5th sem/DAV/chromedriver-win64/chromedriver.exe\")"
   ]
  },
  {
   "cell_type": "code",
   "execution_count": 6,
   "id": "12f9bfc9",
   "metadata": {},
   "outputs": [],
   "source": [
    "driver = webdriver.Chrome(service = s)"
   ]
  },
  {
   "cell_type": "code",
   "execution_count": 8,
   "id": "6783cdf1",
   "metadata": {},
   "outputs": [],
   "source": [
    "driver.get(\"https://www.google.com/\")"
   ]
  },
  {
   "cell_type": "code",
   "execution_count": 9,
   "id": "f74ce34b",
   "metadata": {},
   "outputs": [],
   "source": [
    "driver.quit()"
   ]
  },
  {
   "cell_type": "code",
   "execution_count": null,
   "id": "51b7ca8f",
   "metadata": {},
   "outputs": [],
   "source": []
  }
 ],
 "metadata": {
  "kernelspec": {
   "display_name": "Python 3 (ipykernel)",
   "language": "python",
   "name": "python3"
  },
  "language_info": {
   "codemirror_mode": {
    "name": "ipython",
    "version": 3
   },
   "file_extension": ".py",
   "mimetype": "text/x-python",
   "name": "python",
   "nbconvert_exporter": "python",
   "pygments_lexer": "ipython3",
   "version": "3.9.12"
  }
 },
 "nbformat": 4,
 "nbformat_minor": 5
}
