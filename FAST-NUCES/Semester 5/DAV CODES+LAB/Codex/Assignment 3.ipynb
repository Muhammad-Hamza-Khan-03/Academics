{
 "cells": [
  {
   "cell_type": "markdown",
   "id": "f3fa11ba",
   "metadata": {},
   "source": [
    "# NAME: ALI SALEH\n",
    "# ROLL NUMBER: 21L_XXXX"
   ]
  },
  {
   "cell_type": "markdown",
   "id": "34e2fe72",
   "metadata": {},
   "source": [
    "# PART 1: Profit EST"
   ]
  },
  {
   "cell_type": "code",
   "execution_count": 106,
   "id": "569cc060",
   "metadata": {},
   "outputs": [
    {
     "name": "stderr",
     "output_type": "stream",
     "text": [
      "C:\\ProgramData\\Anaconda3\\lib\\site-packages\\scipy\\__init__.py:146: UserWarning: A NumPy version >=1.16.5 and <1.23.0 is required for this version of SciPy (detected version 1.26.0\n",
      "  warnings.warn(f\"A NumPy version >={np_minversion} and <{np_maxversion}\"\n"
     ]
    }
   ],
   "source": [
    "import pandas as pd\n",
    "import matplotlib.pyplot as plt\n",
    "import numpy as np\n",
    "from sklearn.model_selection import train_test_split"
   ]
  },
  {
   "cell_type": "code",
   "execution_count": 78,
   "id": "d05a80ee",
   "metadata": {},
   "outputs": [],
   "source": [
    "df1 = pd.read_csv(\"ex1data1.txt\",header=None,names=['Population','Profit'])"
   ]
  },
  {
   "cell_type": "code",
   "execution_count": 79,
   "id": "837752d3",
   "metadata": {},
   "outputs": [
    {
     "data": {
      "text/html": [
       "<div>\n",
       "<style scoped>\n",
       "    .dataframe tbody tr th:only-of-type {\n",
       "        vertical-align: middle;\n",
       "    }\n",
       "\n",
       "    .dataframe tbody tr th {\n",
       "        vertical-align: top;\n",
       "    }\n",
       "\n",
       "    .dataframe thead th {\n",
       "        text-align: right;\n",
       "    }\n",
       "</style>\n",
       "<table border=\"1\" class=\"dataframe\">\n",
       "  <thead>\n",
       "    <tr style=\"text-align: right;\">\n",
       "      <th></th>\n",
       "      <th>Population</th>\n",
       "      <th>Profit</th>\n",
       "    </tr>\n",
       "  </thead>\n",
       "  <tbody>\n",
       "    <tr>\n",
       "      <th>0</th>\n",
       "      <td>6.1101</td>\n",
       "      <td>17.59200</td>\n",
       "    </tr>\n",
       "    <tr>\n",
       "      <th>1</th>\n",
       "      <td>5.5277</td>\n",
       "      <td>9.13020</td>\n",
       "    </tr>\n",
       "    <tr>\n",
       "      <th>2</th>\n",
       "      <td>8.5186</td>\n",
       "      <td>13.66200</td>\n",
       "    </tr>\n",
       "    <tr>\n",
       "      <th>3</th>\n",
       "      <td>7.0032</td>\n",
       "      <td>11.85400</td>\n",
       "    </tr>\n",
       "    <tr>\n",
       "      <th>4</th>\n",
       "      <td>5.8598</td>\n",
       "      <td>6.82330</td>\n",
       "    </tr>\n",
       "    <tr>\n",
       "      <th>...</th>\n",
       "      <td>...</td>\n",
       "      <td>...</td>\n",
       "    </tr>\n",
       "    <tr>\n",
       "      <th>92</th>\n",
       "      <td>5.8707</td>\n",
       "      <td>7.20290</td>\n",
       "    </tr>\n",
       "    <tr>\n",
       "      <th>93</th>\n",
       "      <td>5.3054</td>\n",
       "      <td>1.98690</td>\n",
       "    </tr>\n",
       "    <tr>\n",
       "      <th>94</th>\n",
       "      <td>8.2934</td>\n",
       "      <td>0.14454</td>\n",
       "    </tr>\n",
       "    <tr>\n",
       "      <th>95</th>\n",
       "      <td>13.3940</td>\n",
       "      <td>9.05510</td>\n",
       "    </tr>\n",
       "    <tr>\n",
       "      <th>96</th>\n",
       "      <td>5.4369</td>\n",
       "      <td>0.61705</td>\n",
       "    </tr>\n",
       "  </tbody>\n",
       "</table>\n",
       "<p>97 rows × 2 columns</p>\n",
       "</div>"
      ],
      "text/plain": [
       "    Population    Profit\n",
       "0       6.1101  17.59200\n",
       "1       5.5277   9.13020\n",
       "2       8.5186  13.66200\n",
       "3       7.0032  11.85400\n",
       "4       5.8598   6.82330\n",
       "..         ...       ...\n",
       "92      5.8707   7.20290\n",
       "93      5.3054   1.98690\n",
       "94      8.2934   0.14454\n",
       "95     13.3940   9.05510\n",
       "96      5.4369   0.61705\n",
       "\n",
       "[97 rows x 2 columns]"
      ]
     },
     "execution_count": 79,
     "metadata": {},
     "output_type": "execute_result"
    }
   ],
   "source": [
    "df1"
   ]
  },
  {
   "cell_type": "code",
   "execution_count": 170,
   "id": "f31d1b02",
   "metadata": {},
   "outputs": [
    {
     "data": {
      "image/png": "[encoded data removed]",
      "text/plain": [
       "<Figure size 432x288 with 1 Axes>"
      ]
     },
     "metadata": {
      "needs_background": "light"
     },
     "output_type": "display_data"
    }
   ],
   "source": [
    "plt.scatter(df1.Population,df1.Profit)\n",
    "plt.xlabel('Population')\n",
    "plt.ylabel('Profit')\n",
    "\n",
    "plt.show()"
   ]
  },
  {
   "cell_type": "code",
   "execution_count": 171,
   "id": "6ced73a7",
   "metadata": {},
   "outputs": [
    {
     "name": "stdout",
     "output_type": "stream",
     "text": [
      "    Population   Profit\n",
      "30      5.2524 -1.22000\n",
      "55      6.3589 -1.42110\n",
      "61      5.1793 -0.74279\n",
      "74      5.0269 -2.68070\n"
     ]
    }
   ],
   "source": [
    "print(df1[df1['Profit'] <= 0])"
   ]
  },
  {
   "cell_type": "code",
   "execution_count": 172,
   "id": "bb90951f",
   "metadata": {},
   "outputs": [],
   "source": [
    "#Discarding negative values in the dataset\n",
    "df_1 = df1[df1['Profit'] >= 0]\n"
   ]
  },
  {
   "cell_type": "code",
   "execution_count": 173,
   "id": "f3178b30",
   "metadata": {},
   "outputs": [],
   "source": [
    "X = df_1.Population\n",
    "y=df_1.Profit"
   ]
  },
  {
   "cell_type": "code",
   "execution_count": 174,
   "id": "06a8bc14",
   "metadata": {},
   "outputs": [],
   "source": [
    "mean_x = np.mean(X)#Taking mean of both X and Y \n",
    "mean_y = np.mean(y)\n",
    "# Puting in the formula\n",
    "numerator = np.sum((X - mean_x) * (y - mean_y))\n",
    "denominator = np.sum((X - mean_x) ** 2)\n",
    "#get slope and intercept\n",
    "m = numerator / denominator\n",
    "\n",
    "b = mean_y - m * mean_x\n"
   ]
  },
  {
   "cell_type": "code",
   "execution_count": 175,
   "id": "74710bf1",
   "metadata": {},
   "outputs": [
    {
     "name": "stdout",
     "output_type": "stream",
     "text": [
      "intercept is:  -3.45  and slope is : 1.161\n"
     ]
    }
   ],
   "source": [
    "print(\"intercept is: \",round(b,3) ,\" and slope is :\",round(m,3))"
   ]
  },
  {
   "cell_type": "markdown",
   "id": "48499396",
   "metadata": {},
   "source": [
    "### Plot the final data"
   ]
  },
  {
   "cell_type": "code",
   "execution_count": 151,
   "id": "3bb4ebaa",
   "metadata": {},
   "outputs": [
    {
     "data": {
      "image/png": "[encoded data removed]",
      "text/plain": [
       "<Figure size 432x288 with 1 Axes>"
      ]
     },
     "metadata": {
      "needs_background": "light"
     },
     "output_type": "display_data"
    }
   ],
   "source": [
    "plt.scatter(X, y, label='Data Points')\n",
    "\n",
    "# Best-fit line\n",
    "y_pred = m * X + b\n",
    "plt.plot(X, y_pred, color='red', label='Best Fit Line')\n",
    "\n",
    "plt.xlabel('Population')\n",
    "plt.ylabel('Profit')\n",
    "plt.title('Scatter Plot with Best Fit Line')\n",
    "plt.legend()\n",
    "plt.show()"
   ]
  },
  {
   "cell_type": "markdown",
   "id": "07d9730f",
   "metadata": {},
   "source": [
    "# Part 2: HOUSE PRICE EST"
   ]
  },
  {
   "cell_type": "code",
   "execution_count": 157,
   "id": "3a40ffc7",
   "metadata": {},
   "outputs": [],
   "source": [
    "df2 = pd.read_csv(\"ex1data2.txt\",header=None,names=['Size_in_sqfeet','num_bed','house_price'])"
   ]
  },
  {
   "cell_type": "code",
   "execution_count": 158,
   "id": "2a168b5b",
   "metadata": {},
   "outputs": [
    {
     "data": {
      "text/html": [
       "<div>\n",
       "<style scoped>\n",
       "    .dataframe tbody tr th:only-of-type {\n",
       "        vertical-align: middle;\n",
       "    }\n",
       "\n",
       "    .dataframe tbody tr th {\n",
       "        vertical-align: top;\n",
       "    }\n",
       "\n",
       "    .dataframe thead th {\n",
       "        text-align: right;\n",
       "    }\n",
       "</style>\n",
       "<table border=\"1\" class=\"dataframe\">\n",
       "  <thead>\n",
       "    <tr style=\"text-align: right;\">\n",
       "      <th></th>\n",
       "      <th>Size_in_sqfeet</th>\n",
       "      <th>num_bed</th>\n",
       "      <th>house_price</th>\n",
       "    </tr>\n",
       "  </thead>\n",
       "  <tbody>\n",
       "    <tr>\n",
       "      <th>0</th>\n",
       "      <td>2104</td>\n",
       "      <td>3</td>\n",
       "      <td>399900</td>\n",
       "    </tr>\n",
       "    <tr>\n",
       "      <th>1</th>\n",
       "      <td>1600</td>\n",
       "      <td>3</td>\n",
       "      <td>329900</td>\n",
       "    </tr>\n",
       "    <tr>\n",
       "      <th>2</th>\n",
       "      <td>2400</td>\n",
       "      <td>3</td>\n",
       "      <td>369000</td>\n",
       "    </tr>\n",
       "    <tr>\n",
       "      <th>3</th>\n",
       "      <td>1416</td>\n",
       "      <td>2</td>\n",
       "      <td>232000</td>\n",
       "    </tr>\n",
       "    <tr>\n",
       "      <th>4</th>\n",
       "      <td>3000</td>\n",
       "      <td>4</td>\n",
       "      <td>539901</td>\n",
       "    </tr>\n",
       "  </tbody>\n",
       "</table>\n",
       "</div>"
      ],
      "text/plain": [
       "   Size_in_sqfeet  num_bed  house_price\n",
       "0            2104        3       399900\n",
       "1            1600        3       329900\n",
       "2            2400        3       369000\n",
       "3            1416        2       232000\n",
       "4            3000        4       539901"
      ]
     },
     "execution_count": 158,
     "metadata": {},
     "output_type": "execute_result"
    }
   ],
   "source": [
    "df2.head()"
   ]
  },
  {
   "cell_type": "code",
   "execution_count": 159,
   "id": "7ceb0367",
   "metadata": {},
   "outputs": [],
   "source": [
    "X= df2.drop('house_price',axis=1)\n",
    "y=df2.house_price"
   ]
  },
  {
   "cell_type": "code",
   "execution_count": 160,
   "id": "963b37b1",
   "metadata": {},
   "outputs": [
    {
     "name": "stdout",
     "output_type": "stream",
     "text": [
      "<class 'pandas.core.frame.DataFrame'>\n",
      "RangeIndex: 47 entries, 0 to 46\n",
      "Data columns (total 2 columns):\n",
      " #   Column          Non-Null Count  Dtype\n",
      "---  ------          --------------  -----\n",
      " 0   Size_in_sqfeet  47 non-null     int64\n",
      " 1   num_bed         47 non-null     int64\n",
      "dtypes: int64(2)\n",
      "memory usage: 880.0 bytes\n",
      "None\n"
     ]
    }
   ],
   "source": [
    "print(X.info())"
   ]
  },
  {
   "cell_type": "code",
   "execution_count": 161,
   "id": "1d922df2",
   "metadata": {},
   "outputs": [
    {
     "name": "stdout",
     "output_type": "stream",
     "text": [
      "<class 'pandas.core.series.Series'>\n",
      "RangeIndex: 47 entries, 0 to 46\n",
      "Series name: house_price\n",
      "Non-Null Count  Dtype\n",
      "--------------  -----\n",
      "47 non-null     int64\n",
      "dtypes: int64(1)\n",
      "memory usage: 504.0 bytes\n",
      "None\n"
     ]
    }
   ],
   "source": [
    "print(y.info())"
   ]
  },
  {
   "cell_type": "code",
   "execution_count": 162,
   "id": "50bf72e0",
   "metadata": {},
   "outputs": [],
   "source": [
    "X_intercept = pd.Series(1, index=X.index, name=\"X_intercept_term\")\n",
    "\n",
    "X = pd.concat([X_intercept, X], axis=1)"
   ]
  },
  {
   "cell_type": "markdown",
   "id": "63f389ff",
   "metadata": {},
   "source": [
    "### Using closed form solution:"
   ]
  },
  {
   "cell_type": "code",
   "execution_count": 163,
   "id": "ffd4ec16",
   "metadata": {},
   "outputs": [],
   "source": [
    "def lin_reg(X,y):\n",
    "    X_p = np.linalg.pinv(np.dot(X.T,X))#moore penrose pseudo inverse for transpose and multiply\n",
    "    \n",
    "    X_y = np.dot(X.T,y)\n",
    "    \n",
    "    theta = np.dot(X_p,X_y)\n",
    "    \n",
    "    return np.linalg.inv(X.T.dot( X )).dot( X.T ).dot( y )"
   ]
  },
  {
   "cell_type": "code",
   "execution_count": 164,
   "id": "a3eecf30",
   "metadata": {},
   "outputs": [
    {
     "name": "stdout",
     "output_type": "stream",
     "text": [
      "Values of theta:  [89597.82828239   139.2106998  -8738.00303701]\n"
     ]
    }
   ],
   "source": [
    "theta = lin_reg(X,y)\n",
    "print(\"Values of theta: \",theta)"
   ]
  },
  {
   "cell_type": "markdown",
   "id": "a09a2fd0",
   "metadata": {},
   "source": [
    "### Calculate price at 1650 size and 3 bedrooms"
   ]
  },
  {
   "cell_type": "code",
   "execution_count": 165,
   "id": "2188b6a3",
   "metadata": {},
   "outputs": [
    {
     "name": "stdout",
     "output_type": "stream",
     "text": [
      "THE PRICE OF HOUSE: size(sqft)=1650,beds=3 =>  293081.474\n"
     ]
    }
   ],
   "source": [
    "test_data= [1,1650,3]\n",
    "price = sum(test_data *theta)\n",
    "print(\"THE PRICE OF HOUSE: size(sqft)=1650,beds=3 => \",round(price,3))"
   ]
  },
  {
   "cell_type": "markdown",
   "id": "1dec145b",
   "metadata": {},
   "source": [
    "# Part 3: BTC EST"
   ]
  },
  {
   "cell_type": "code",
   "execution_count": 93,
   "id": "ab05af3f",
   "metadata": {},
   "outputs": [],
   "source": [
    "btc = pd.read_excel(\"coin_Bitcoin.xlsx\")"
   ]
  },
  {
   "cell_type": "code",
   "execution_count": 94,
   "id": "681dd0f5",
   "metadata": {},
   "outputs": [
    {
     "data": {
      "text/html": [
       "<div>\n",
       "<style scoped>\n",
       "    .dataframe tbody tr th:only-of-type {\n",
       "        vertical-align: middle;\n",
       "    }\n",
       "\n",
       "    .dataframe tbody tr th {\n",
       "        vertical-align: top;\n",
       "    }\n",
       "\n",
       "    .dataframe thead th {\n",
       "        text-align: right;\n",
       "    }\n",
       "</style>\n",
       "<table border=\"1\" class=\"dataframe\">\n",
       "  <thead>\n",
       "    <tr style=\"text-align: right;\">\n",
       "      <th></th>\n",
       "      <th>SNo</th>\n",
       "      <th>Name</th>\n",
       "      <th>Symbol</th>\n",
       "      <th>Date</th>\n",
       "      <th>High</th>\n",
       "      <th>Low</th>\n",
       "      <th>Open</th>\n",
       "      <th>Close</th>\n",
       "      <th>Volume</th>\n",
       "      <th>Marketcap</th>\n",
       "    </tr>\n",
       "  </thead>\n",
       "  <tbody>\n",
       "    <tr>\n",
       "      <th>0</th>\n",
       "      <td>1.0</td>\n",
       "      <td>Bitcoin</td>\n",
       "      <td>BTC</td>\n",
       "      <td>2013-04-29 23:59:59</td>\n",
       "      <td>147.488007</td>\n",
       "      <td>134.000000</td>\n",
       "      <td>134.444000</td>\n",
       "      <td>144.539993</td>\n",
       "      <td>0.0</td>\n",
       "      <td>1.603769e+09</td>\n",
       "    </tr>\n",
       "    <tr>\n",
       "      <th>1</th>\n",
       "      <td>2.0</td>\n",
       "      <td>Bitcoin</td>\n",
       "      <td>BTC</td>\n",
       "      <td>2013-04-30 23:59:59</td>\n",
       "      <td>146.929993</td>\n",
       "      <td>134.050003</td>\n",
       "      <td>144.000000</td>\n",
       "      <td>139.000000</td>\n",
       "      <td>0.0</td>\n",
       "      <td>1.542813e+09</td>\n",
       "    </tr>\n",
       "    <tr>\n",
       "      <th>2</th>\n",
       "      <td>3.0</td>\n",
       "      <td>Bitcoin</td>\n",
       "      <td>BTC</td>\n",
       "      <td>2013-05-01 23:59:59</td>\n",
       "      <td>139.889999</td>\n",
       "      <td>107.720001</td>\n",
       "      <td>139.000000</td>\n",
       "      <td>116.989998</td>\n",
       "      <td>0.0</td>\n",
       "      <td>1.298955e+09</td>\n",
       "    </tr>\n",
       "    <tr>\n",
       "      <th>3</th>\n",
       "      <td>4.0</td>\n",
       "      <td>Bitcoin</td>\n",
       "      <td>BTC</td>\n",
       "      <td>2013-05-02 23:59:59</td>\n",
       "      <td>125.599998</td>\n",
       "      <td>92.281898</td>\n",
       "      <td>116.379997</td>\n",
       "      <td>105.209999</td>\n",
       "      <td>0.0</td>\n",
       "      <td>1.168517e+09</td>\n",
       "    </tr>\n",
       "    <tr>\n",
       "      <th>4</th>\n",
       "      <td>5.0</td>\n",
       "      <td>Bitcoin</td>\n",
       "      <td>BTC</td>\n",
       "      <td>2013-05-03 23:59:59</td>\n",
       "      <td>108.127998</td>\n",
       "      <td>79.099998</td>\n",
       "      <td>106.250000</td>\n",
       "      <td>97.750000</td>\n",
       "      <td>0.0</td>\n",
       "      <td>1.085995e+09</td>\n",
       "    </tr>\n",
       "  </tbody>\n",
       "</table>\n",
       "</div>"
      ],
      "text/plain": [
       "   SNo     Name Symbol                Date        High         Low  \\\n",
       "0  1.0  Bitcoin    BTC 2013-04-29 23:59:59  147.488007  134.000000   \n",
       "1  2.0  Bitcoin    BTC 2013-04-30 23:59:59  146.929993  134.050003   \n",
       "2  3.0  Bitcoin    BTC 2013-05-01 23:59:59  139.889999  107.720001   \n",
       "3  4.0  Bitcoin    BTC 2013-05-02 23:59:59  125.599998   92.281898   \n",
       "4  5.0  Bitcoin    BTC 2013-05-03 23:59:59  108.127998   79.099998   \n",
       "\n",
       "         Open       Close  Volume     Marketcap  \n",
       "0  134.444000  144.539993     0.0  1.603769e+09  \n",
       "1  144.000000  139.000000     0.0  1.542813e+09  \n",
       "2  139.000000  116.989998     0.0  1.298955e+09  \n",
       "3  116.379997  105.209999     0.0  1.168517e+09  \n",
       "4  106.250000   97.750000     0.0  1.085995e+09  "
      ]
     },
     "execution_count": 94,
     "metadata": {},
     "output_type": "execute_result"
    }
   ],
   "source": [
    "btc.head(5)"
   ]
  },
  {
   "cell_type": "code",
   "execution_count": 99,
   "id": "803cf47c",
   "metadata": {},
   "outputs": [],
   "source": [
    "btc.drop(['Open','Close'],axis=1,inplace=True)"
   ]
  },
  {
   "cell_type": "code",
   "execution_count": 121,
   "id": "d6c2f6e0",
   "metadata": {},
   "outputs": [],
   "source": [
    "btc['Target'] = (btc.High + btc.Low)/2"
   ]
  },
  {
   "cell_type": "code",
   "execution_count": 122,
   "id": "ec129beb",
   "metadata": {},
   "outputs": [],
   "source": [
    "X = btc['Marketcap'].values\n",
    "y=btc['Target']"
   ]
  },
  {
   "cell_type": "code",
   "execution_count": 123,
   "id": "7e7468ec",
   "metadata": {},
   "outputs": [],
   "source": [
    "X_train, X_test, y_train, y_test = train_test_split(X, y, test_size=0.3, random_state=0)"
   ]
  },
  {
   "cell_type": "code",
   "execution_count": 147,
   "id": "8d540042",
   "metadata": {},
   "outputs": [],
   "source": [
    "def mylinear_reg(X,y):\n",
    "\n",
    "    mean_x = np.mean(X)\n",
    "    mean_y = np.mean(y)\n",
    "    \n",
    "    \n",
    "    above = np.sum((X - mean_x) * (y - mean_y))\n",
    "    \n",
    "    below = np.sum((X - mean_x) ** 2)\n",
    "    slope = above / below\n",
    "    \n",
    "    intercept_ = mean_y - m * mean_x\n",
    "    \n",
    "    return slope,intercept_"
   ]
  },
  {
   "cell_type": "code",
   "execution_count": 127,
   "id": "3929c48d",
   "metadata": {},
   "outputs": [
    {
     "name": "stdout",
     "output_type": "stream",
     "text": [
      "Slope :  5.3286465112832926e-08 \n",
      "Intercept :  250.49089105517123\n"
     ]
    }
   ],
   "source": [
    "slope,inter = mylinear_reg(X_train,y_train)\n",
    "print(\"Slope : \",slope,\"\\nIntercept : \",inter)"
   ]
  },
  {
   "cell_type": "code",
   "execution_count": 130,
   "id": "0a147a41",
   "metadata": {},
   "outputs": [],
   "source": [
    "y_pred = slope*X_test+inter"
   ]
  },
  {
   "cell_type": "code",
   "execution_count": 135,
   "id": "6e0de2fa",
   "metadata": {},
   "outputs": [],
   "source": [
    "def calculate_mean_abs_error(y, y_pred):\n",
    "    absolute_errors = np.abs(y - y_pred)\n",
    "    return np.sum(absolute_errors) / n"
   ]
  },
  {
   "cell_type": "code",
   "execution_count": 136,
   "id": "b2035299",
   "metadata": {},
   "outputs": [],
   "source": [
    "def calculate_mean_sq_error(y, y_pred):\n",
    "    squared_errors = (y - y_pred) ** 2\n",
    "    return np.sum(squared_errors) / n"
   ]
  },
  {
   "cell_type": "code",
   "execution_count": 146,
   "id": "c6db63ed",
   "metadata": {},
   "outputs": [
    {
     "name": "stdout",
     "output_type": "stream",
     "text": [
      "MAE:  75.3023\n",
      "MSE:  49264.5012\n"
     ]
    }
   ],
   "source": [
    "n = len(y)\n",
    "abs_eror = calculate_mean_abs_error(y_test, y_pred)\n",
    "sq_eror = calculate_mean_sq_error(y_test, y_pred)\n",
    "\n",
    "print(\"MAE: \", round(abs_eror,4))\n",
    "print(\"MSE: \", round(sq_eror,4))"
   ]
  },
  {
   "cell_type": "code",
   "execution_count": 144,
   "id": "29e5cf38",
   "metadata": {},
   "outputs": [
    {
     "data": {
      "image/png": "[encoded data removed]",
      "text/plain": [
       "<Figure size 432x288 with 1 Axes>"
      ]
     },
     "metadata": {
      "needs_background": "light"
     },
     "output_type": "display_data"
    }
   ],
   "source": [
    "plt.scatter(X_test, y_test, color='green', label='bitcoin')\n",
    "plt.plot(X_test, y_pred, color='black', label='Linear Regression Line')\n",
    "plt.xlabel('X-axis')\n",
    "plt.ylabel('Y-axis')\n",
    "plt.title('Linear Regression')\n",
    "plt.legend()\n",
    "plt.show()\n"
   ]
  },
  {
   "cell_type": "code",
   "execution_count": 153,
   "id": "fc4f70d0",
   "metadata": {},
   "outputs": [
    {
     "name": "stdout",
     "output_type": "stream",
     "text": [
      "=======================THE END=======================\n"
     ]
    }
   ],
   "source": [
    "print(\"=======================THE END=======================\")"
   ]
  }
 ],
 "metadata": {
  "kernelspec": {
   "display_name": "Python 3 (ipykernel)",
   "language": "python",
   "name": "python3"
  },
  "language_info": {
   "codemirror_mode": {
    "name": "ipython",
    "version": 3
   },
   "file_extension": ".py",
   "mimetype": "text/x-python",
   "name": "python",
   "nbconvert_exporter": "python",
   "pygments_lexer": "ipython3",
   "version": "3.9.12"
  }
 },
 "nbformat": 4,
 "nbformat_minor": 5
}
