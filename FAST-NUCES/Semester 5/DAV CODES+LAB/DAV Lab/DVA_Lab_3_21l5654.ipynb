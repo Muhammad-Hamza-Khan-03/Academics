{
 "cells": [
  {
   "cell_type": "markdown",
   "metadata": {
    "id": "sGRE14r2EL3A"
   },
   "source": [
    "<h1><center><b> DA&V (LAB_3), Data Wrangling </b></center></h1>\n",
    "\n",
    "***INSTRUCTIONS*** <br>\n",
    "You all are required to perform data wrangling and do all tasks, Every question has some sub-questions and all of them have designated code cell, Read the question carefully and write the code according to the number of question, Add comment in code section before writing code.\n",
    "\n",
    "The dataset/s required for the lab download from Kaggle, use them according to the task.\n",
    "\n",
    "<br>\n",
    "<h1><center>GOOD LUCK, Happy Labbing :D </center></h1>"
   ]
  },
  {
   "cell_type": "markdown",
   "metadata": {},
   "source": [
    "<h1>Muhammad Hamza khan</h1>\n",
    "<h3>Roll Number:<span>21l-5654</span></h3>"
   ]
  },
  {
   "cell_type": "markdown",
   "metadata": {},
   "source": [
    "<centre><h1>Import Libraries</h1></centre>"
   ]
  },
  {
   "cell_type": "code",
   "execution_count": 30,
   "metadata": {},
   "outputs": [],
   "source": [
    "import pandas as pd\n",
    "from sklearn.preprocessing import LabelEncoder as labelEncoder\n",
    "from sklearn.preprocessing import StandardScaler\n",
    "from sklearn.preprocessing import MinMaxScaler\n",
    "from sklearn.preprocessing import Normalizer\n"
   ]
  },
  {
   "cell_type": "markdown",
   "metadata": {
    "id": "8Ftz2QaW_EhZ"
   },
   "source": [
    "### **1. Load the dataset**\n",
    "\n"
   ]
  },
  {
   "cell_type": "code",
   "execution_count": 88,
   "metadata": {
    "id": "q6uFgJuYAUmZ"
   },
   "outputs": [
    {
     "name": "stderr",
     "output_type": "stream",
     "text": [
      "C:\\Users\\Hamza\\AppData\\Local\\Temp\\ipykernel_13616\\2421734235.py:1: DtypeWarning: Columns (7) have mixed types. Specify dtype option on import or set low_memory=False.\n",
      "  train_df = pd.read_csv(\"train.csv\")\n"
     ]
    }
   ],
   "source": [
    "train_df = pd.read_csv(\"train.csv\")\n",
    "store_df = pd.read_csv(\"store.csv\")"
   ]
  },
  {
   "cell_type": "code",
   "execution_count": 89,
   "metadata": {},
   "outputs": [
    {
     "data": {
      "text/html": [
       "<div>\n",
       "<style scoped>\n",
       "    .dataframe tbody tr th:only-of-type {\n",
       "        vertical-align: middle;\n",
       "    }\n",
       "\n",
       "    .dataframe tbody tr th {\n",
       "        vertical-align: top;\n",
       "    }\n",
       "\n",
       "    .dataframe thead th {\n",
       "        text-align: right;\n",
       "    }\n",
       "</style>\n",
       "<table border=\"1\" class=\"dataframe\">\n",
       "  <thead>\n",
       "    <tr style=\"text-align: right;\">\n",
       "      <th></th>\n",
       "      <th>Store</th>\n",
       "      <th>DayOfWeek</th>\n",
       "      <th>Date</th>\n",
       "      <th>Sales</th>\n",
       "      <th>Customers</th>\n",
       "      <th>Open</th>\n",
       "      <th>Promo</th>\n",
       "      <th>StateHoliday</th>\n",
       "      <th>SchoolHoliday</th>\n",
       "    </tr>\n",
       "  </thead>\n",
       "  <tbody>\n",
       "    <tr>\n",
       "      <th>0</th>\n",
       "      <td>1</td>\n",
       "      <td>5</td>\n",
       "      <td>2015-07-31</td>\n",
       "      <td>5263</td>\n",
       "      <td>555</td>\n",
       "      <td>1</td>\n",
       "      <td>1</td>\n",
       "      <td>0</td>\n",
       "      <td>1</td>\n",
       "    </tr>\n",
       "    <tr>\n",
       "      <th>1</th>\n",
       "      <td>2</td>\n",
       "      <td>5</td>\n",
       "      <td>2015-07-31</td>\n",
       "      <td>6064</td>\n",
       "      <td>625</td>\n",
       "      <td>1</td>\n",
       "      <td>1</td>\n",
       "      <td>0</td>\n",
       "      <td>1</td>\n",
       "    </tr>\n",
       "    <tr>\n",
       "      <th>2</th>\n",
       "      <td>3</td>\n",
       "      <td>5</td>\n",
       "      <td>2015-07-31</td>\n",
       "      <td>8314</td>\n",
       "      <td>821</td>\n",
       "      <td>1</td>\n",
       "      <td>1</td>\n",
       "      <td>0</td>\n",
       "      <td>1</td>\n",
       "    </tr>\n",
       "    <tr>\n",
       "      <th>3</th>\n",
       "      <td>4</td>\n",
       "      <td>5</td>\n",
       "      <td>2015-07-31</td>\n",
       "      <td>13995</td>\n",
       "      <td>1498</td>\n",
       "      <td>1</td>\n",
       "      <td>1</td>\n",
       "      <td>0</td>\n",
       "      <td>1</td>\n",
       "    </tr>\n",
       "    <tr>\n",
       "      <th>4</th>\n",
       "      <td>5</td>\n",
       "      <td>5</td>\n",
       "      <td>2015-07-31</td>\n",
       "      <td>4822</td>\n",
       "      <td>559</td>\n",
       "      <td>1</td>\n",
       "      <td>1</td>\n",
       "      <td>0</td>\n",
       "      <td>1</td>\n",
       "    </tr>\n",
       "  </tbody>\n",
       "</table>\n",
       "</div>"
      ],
      "text/plain": [
       "   Store  DayOfWeek        Date  Sales  Customers  Open  Promo StateHoliday  \\\n",
       "0      1          5  2015-07-31   5263        555     1      1            0   \n",
       "1      2          5  2015-07-31   6064        625     1      1            0   \n",
       "2      3          5  2015-07-31   8314        821     1      1            0   \n",
       "3      4          5  2015-07-31  13995       1498     1      1            0   \n",
       "4      5          5  2015-07-31   4822        559     1      1            0   \n",
       "\n",
       "   SchoolHoliday  \n",
       "0              1  \n",
       "1              1  \n",
       "2              1  \n",
       "3              1  \n",
       "4              1  "
      ]
     },
     "execution_count": 89,
     "metadata": {},
     "output_type": "execute_result"
    }
   ],
   "source": [
    "train_df.head()"
   ]
  },
  {
   "cell_type": "markdown",
   "metadata": {
    "id": "silPBCy5DXjo"
   },
   "source": [
    "### **2. Merge both datasets into 1 dataset.**\n",
    "*2.1. Show first and last 5 rows of the dataset.* <br>\n",
    "*2.2. Show description of the dataset.*"
   ]
  },
  {
   "cell_type": "code",
   "execution_count": 90,
   "metadata": {
    "id": "mrclJFNbDyv6"
   },
   "outputs": [],
   "source": [
    "merge_df = pd.merge(store_df,train_df,on='Store',how='inner')"
   ]
  },
  {
   "cell_type": "code",
   "execution_count": 91,
   "metadata": {},
   "outputs": [
    {
     "data": {
      "text/html": [
       "<div>\n",
       "<style scoped>\n",
       "    .dataframe tbody tr th:only-of-type {\n",
       "        vertical-align: middle;\n",
       "    }\n",
       "\n",
       "    .dataframe tbody tr th {\n",
       "        vertical-align: top;\n",
       "    }\n",
       "\n",
       "    .dataframe thead th {\n",
       "        text-align: right;\n",
       "    }\n",
       "</style>\n",
       "<table border=\"1\" class=\"dataframe\">\n",
       "  <thead>\n",
       "    <tr style=\"text-align: right;\">\n",
       "      <th></th>\n",
       "      <th>Store</th>\n",
       "      <th>StoreType</th>\n",
       "      <th>Assortment</th>\n",
       "      <th>CompetitionDistance</th>\n",
       "      <th>CompetitionOpenSinceMonth</th>\n",
       "      <th>CompetitionOpenSinceYear</th>\n",
       "      <th>Promo2</th>\n",
       "      <th>Promo2SinceWeek</th>\n",
       "      <th>Promo2SinceYear</th>\n",
       "      <th>PromoInterval</th>\n",
       "      <th>DayOfWeek</th>\n",
       "      <th>Date</th>\n",
       "      <th>Sales</th>\n",
       "      <th>Customers</th>\n",
       "      <th>Open</th>\n",
       "      <th>Promo</th>\n",
       "      <th>StateHoliday</th>\n",
       "      <th>SchoolHoliday</th>\n",
       "    </tr>\n",
       "  </thead>\n",
       "  <tbody>\n",
       "    <tr>\n",
       "      <th>0</th>\n",
       "      <td>1</td>\n",
       "      <td>c</td>\n",
       "      <td>a</td>\n",
       "      <td>1270.0</td>\n",
       "      <td>9.0</td>\n",
       "      <td>2008.0</td>\n",
       "      <td>0</td>\n",
       "      <td>NaN</td>\n",
       "      <td>NaN</td>\n",
       "      <td>NaN</td>\n",
       "      <td>5</td>\n",
       "      <td>2015-07-31</td>\n",
       "      <td>5263</td>\n",
       "      <td>555</td>\n",
       "      <td>1</td>\n",
       "      <td>1</td>\n",
       "      <td>0</td>\n",
       "      <td>1</td>\n",
       "    </tr>\n",
       "    <tr>\n",
       "      <th>1</th>\n",
       "      <td>1</td>\n",
       "      <td>c</td>\n",
       "      <td>a</td>\n",
       "      <td>1270.0</td>\n",
       "      <td>9.0</td>\n",
       "      <td>2008.0</td>\n",
       "      <td>0</td>\n",
       "      <td>NaN</td>\n",
       "      <td>NaN</td>\n",
       "      <td>NaN</td>\n",
       "      <td>4</td>\n",
       "      <td>2015-07-30</td>\n",
       "      <td>5020</td>\n",
       "      <td>546</td>\n",
       "      <td>1</td>\n",
       "      <td>1</td>\n",
       "      <td>0</td>\n",
       "      <td>1</td>\n",
       "    </tr>\n",
       "    <tr>\n",
       "      <th>2</th>\n",
       "      <td>1</td>\n",
       "      <td>c</td>\n",
       "      <td>a</td>\n",
       "      <td>1270.0</td>\n",
       "      <td>9.0</td>\n",
       "      <td>2008.0</td>\n",
       "      <td>0</td>\n",
       "      <td>NaN</td>\n",
       "      <td>NaN</td>\n",
       "      <td>NaN</td>\n",
       "      <td>3</td>\n",
       "      <td>2015-07-29</td>\n",
       "      <td>4782</td>\n",
       "      <td>523</td>\n",
       "      <td>1</td>\n",
       "      <td>1</td>\n",
       "      <td>0</td>\n",
       "      <td>1</td>\n",
       "    </tr>\n",
       "    <tr>\n",
       "      <th>3</th>\n",
       "      <td>1</td>\n",
       "      <td>c</td>\n",
       "      <td>a</td>\n",
       "      <td>1270.0</td>\n",
       "      <td>9.0</td>\n",
       "      <td>2008.0</td>\n",
       "      <td>0</td>\n",
       "      <td>NaN</td>\n",
       "      <td>NaN</td>\n",
       "      <td>NaN</td>\n",
       "      <td>2</td>\n",
       "      <td>2015-07-28</td>\n",
       "      <td>5011</td>\n",
       "      <td>560</td>\n",
       "      <td>1</td>\n",
       "      <td>1</td>\n",
       "      <td>0</td>\n",
       "      <td>1</td>\n",
       "    </tr>\n",
       "    <tr>\n",
       "      <th>4</th>\n",
       "      <td>1</td>\n",
       "      <td>c</td>\n",
       "      <td>a</td>\n",
       "      <td>1270.0</td>\n",
       "      <td>9.0</td>\n",
       "      <td>2008.0</td>\n",
       "      <td>0</td>\n",
       "      <td>NaN</td>\n",
       "      <td>NaN</td>\n",
       "      <td>NaN</td>\n",
       "      <td>1</td>\n",
       "      <td>2015-07-27</td>\n",
       "      <td>6102</td>\n",
       "      <td>612</td>\n",
       "      <td>1</td>\n",
       "      <td>1</td>\n",
       "      <td>0</td>\n",
       "      <td>1</td>\n",
       "    </tr>\n",
       "    <tr>\n",
       "      <th>...</th>\n",
       "      <td>...</td>\n",
       "      <td>...</td>\n",
       "      <td>...</td>\n",
       "      <td>...</td>\n",
       "      <td>...</td>\n",
       "      <td>...</td>\n",
       "      <td>...</td>\n",
       "      <td>...</td>\n",
       "      <td>...</td>\n",
       "      <td>...</td>\n",
       "      <td>...</td>\n",
       "      <td>...</td>\n",
       "      <td>...</td>\n",
       "      <td>...</td>\n",
       "      <td>...</td>\n",
       "      <td>...</td>\n",
       "      <td>...</td>\n",
       "      <td>...</td>\n",
       "    </tr>\n",
       "    <tr>\n",
       "      <th>1017199</th>\n",
       "      <td>1115</td>\n",
       "      <td>d</td>\n",
       "      <td>c</td>\n",
       "      <td>5350.0</td>\n",
       "      <td>NaN</td>\n",
       "      <td>NaN</td>\n",
       "      <td>1</td>\n",
       "      <td>22.0</td>\n",
       "      <td>2012.0</td>\n",
       "      <td>Mar,Jun,Sept,Dec</td>\n",
       "      <td>4</td>\n",
       "      <td>2013-01-10</td>\n",
       "      <td>5007</td>\n",
       "      <td>339</td>\n",
       "      <td>1</td>\n",
       "      <td>1</td>\n",
       "      <td>0</td>\n",
       "      <td>1</td>\n",
       "    </tr>\n",
       "    <tr>\n",
       "      <th>1017200</th>\n",
       "      <td>1115</td>\n",
       "      <td>d</td>\n",
       "      <td>c</td>\n",
       "      <td>5350.0</td>\n",
       "      <td>NaN</td>\n",
       "      <td>NaN</td>\n",
       "      <td>1</td>\n",
       "      <td>22.0</td>\n",
       "      <td>2012.0</td>\n",
       "      <td>Mar,Jun,Sept,Dec</td>\n",
       "      <td>3</td>\n",
       "      <td>2013-01-09</td>\n",
       "      <td>4649</td>\n",
       "      <td>324</td>\n",
       "      <td>1</td>\n",
       "      <td>1</td>\n",
       "      <td>0</td>\n",
       "      <td>1</td>\n",
       "    </tr>\n",
       "    <tr>\n",
       "      <th>1017201</th>\n",
       "      <td>1115</td>\n",
       "      <td>d</td>\n",
       "      <td>c</td>\n",
       "      <td>5350.0</td>\n",
       "      <td>NaN</td>\n",
       "      <td>NaN</td>\n",
       "      <td>1</td>\n",
       "      <td>22.0</td>\n",
       "      <td>2012.0</td>\n",
       "      <td>Mar,Jun,Sept,Dec</td>\n",
       "      <td>2</td>\n",
       "      <td>2013-01-08</td>\n",
       "      <td>5243</td>\n",
       "      <td>341</td>\n",
       "      <td>1</td>\n",
       "      <td>1</td>\n",
       "      <td>0</td>\n",
       "      <td>1</td>\n",
       "    </tr>\n",
       "    <tr>\n",
       "      <th>1017202</th>\n",
       "      <td>1115</td>\n",
       "      <td>d</td>\n",
       "      <td>c</td>\n",
       "      <td>5350.0</td>\n",
       "      <td>NaN</td>\n",
       "      <td>NaN</td>\n",
       "      <td>1</td>\n",
       "      <td>22.0</td>\n",
       "      <td>2012.0</td>\n",
       "      <td>Mar,Jun,Sept,Dec</td>\n",
       "      <td>1</td>\n",
       "      <td>2013-01-07</td>\n",
       "      <td>6905</td>\n",
       "      <td>471</td>\n",
       "      <td>1</td>\n",
       "      <td>1</td>\n",
       "      <td>0</td>\n",
       "      <td>1</td>\n",
       "    </tr>\n",
       "    <tr>\n",
       "      <th>1017203</th>\n",
       "      <td>1115</td>\n",
       "      <td>d</td>\n",
       "      <td>c</td>\n",
       "      <td>5350.0</td>\n",
       "      <td>NaN</td>\n",
       "      <td>NaN</td>\n",
       "      <td>1</td>\n",
       "      <td>22.0</td>\n",
       "      <td>2012.0</td>\n",
       "      <td>Mar,Jun,Sept,Dec</td>\n",
       "      <td>7</td>\n",
       "      <td>2013-01-06</td>\n",
       "      <td>0</td>\n",
       "      <td>0</td>\n",
       "      <td>0</td>\n",
       "      <td>0</td>\n",
       "      <td>0</td>\n",
       "      <td>1</td>\n",
       "    </tr>\n",
       "  </tbody>\n",
       "</table>\n",
       "<p>1017204 rows × 18 columns</p>\n",
       "</div>"
      ],
      "text/plain": [
       "         Store StoreType Assortment  CompetitionDistance  \\\n",
       "0            1         c          a               1270.0   \n",
       "1            1         c          a               1270.0   \n",
       "2            1         c          a               1270.0   \n",
       "3            1         c          a               1270.0   \n",
       "4            1         c          a               1270.0   \n",
       "...        ...       ...        ...                  ...   \n",
       "1017199   1115         d          c               5350.0   \n",
       "1017200   1115         d          c               5350.0   \n",
       "1017201   1115         d          c               5350.0   \n",
       "1017202   1115         d          c               5350.0   \n",
       "1017203   1115         d          c               5350.0   \n",
       "\n",
       "         CompetitionOpenSinceMonth  CompetitionOpenSinceYear  Promo2  \\\n",
       "0                              9.0                    2008.0       0   \n",
       "1                              9.0                    2008.0       0   \n",
       "2                              9.0                    2008.0       0   \n",
       "3                              9.0                    2008.0       0   \n",
       "4                              9.0                    2008.0       0   \n",
       "...                            ...                       ...     ...   \n",
       "1017199                        NaN                       NaN       1   \n",
       "1017200                        NaN                       NaN       1   \n",
       "1017201                        NaN                       NaN       1   \n",
       "1017202                        NaN                       NaN       1   \n",
       "1017203                        NaN                       NaN       1   \n",
       "\n",
       "         Promo2SinceWeek  Promo2SinceYear     PromoInterval  DayOfWeek  \\\n",
       "0                    NaN              NaN               NaN          5   \n",
       "1                    NaN              NaN               NaN          4   \n",
       "2                    NaN              NaN               NaN          3   \n",
       "3                    NaN              NaN               NaN          2   \n",
       "4                    NaN              NaN               NaN          1   \n",
       "...                  ...              ...               ...        ...   \n",
       "1017199             22.0           2012.0  Mar,Jun,Sept,Dec          4   \n",
       "1017200             22.0           2012.0  Mar,Jun,Sept,Dec          3   \n",
       "1017201             22.0           2012.0  Mar,Jun,Sept,Dec          2   \n",
       "1017202             22.0           2012.0  Mar,Jun,Sept,Dec          1   \n",
       "1017203             22.0           2012.0  Mar,Jun,Sept,Dec          7   \n",
       "\n",
       "               Date  Sales  Customers  Open  Promo StateHoliday  SchoolHoliday  \n",
       "0        2015-07-31   5263        555     1      1            0              1  \n",
       "1        2015-07-30   5020        546     1      1            0              1  \n",
       "2        2015-07-29   4782        523     1      1            0              1  \n",
       "3        2015-07-28   5011        560     1      1            0              1  \n",
       "4        2015-07-27   6102        612     1      1            0              1  \n",
       "...             ...    ...        ...   ...    ...          ...            ...  \n",
       "1017199  2013-01-10   5007        339     1      1            0              1  \n",
       "1017200  2013-01-09   4649        324     1      1            0              1  \n",
       "1017201  2013-01-08   5243        341     1      1            0              1  \n",
       "1017202  2013-01-07   6905        471     1      1            0              1  \n",
       "1017203  2013-01-06      0          0     0      0            0              1  \n",
       "\n",
       "[1017204 rows x 18 columns]"
      ]
     },
     "execution_count": 91,
     "metadata": {},
     "output_type": "execute_result"
    }
   ],
   "source": [
    "merge_df.head(-5)"
   ]
  },
  {
   "cell_type": "code",
   "execution_count": 92,
   "metadata": {},
   "outputs": [
    {
     "data": {
      "text/html": [
       "<div>\n",
       "<style scoped>\n",
       "    .dataframe tbody tr th:only-of-type {\n",
       "        vertical-align: middle;\n",
       "    }\n",
       "\n",
       "    .dataframe tbody tr th {\n",
       "        vertical-align: top;\n",
       "    }\n",
       "\n",
       "    .dataframe thead th {\n",
       "        text-align: right;\n",
       "    }\n",
       "</style>\n",
       "<table border=\"1\" class=\"dataframe\">\n",
       "  <thead>\n",
       "    <tr style=\"text-align: right;\">\n",
       "      <th></th>\n",
       "      <th>Store</th>\n",
       "      <th>CompetitionDistance</th>\n",
       "      <th>CompetitionOpenSinceMonth</th>\n",
       "      <th>CompetitionOpenSinceYear</th>\n",
       "      <th>Promo2</th>\n",
       "      <th>Promo2SinceWeek</th>\n",
       "      <th>Promo2SinceYear</th>\n",
       "      <th>DayOfWeek</th>\n",
       "      <th>Sales</th>\n",
       "      <th>Customers</th>\n",
       "      <th>Open</th>\n",
       "      <th>Promo</th>\n",
       "      <th>SchoolHoliday</th>\n",
       "    </tr>\n",
       "  </thead>\n",
       "  <tbody>\n",
       "    <tr>\n",
       "      <th>count</th>\n",
       "      <td>1.017209e+06</td>\n",
       "      <td>1.014567e+06</td>\n",
       "      <td>693861.000000</td>\n",
       "      <td>693861.000000</td>\n",
       "      <td>1.017209e+06</td>\n",
       "      <td>509178.000000</td>\n",
       "      <td>509178.000000</td>\n",
       "      <td>1.017209e+06</td>\n",
       "      <td>1.017209e+06</td>\n",
       "      <td>1.017209e+06</td>\n",
       "      <td>1.017209e+06</td>\n",
       "      <td>1.017209e+06</td>\n",
       "      <td>1.017209e+06</td>\n",
       "    </tr>\n",
       "    <tr>\n",
       "      <th>mean</th>\n",
       "      <td>5.584297e+02</td>\n",
       "      <td>5.430086e+03</td>\n",
       "      <td>7.222866</td>\n",
       "      <td>2008.690228</td>\n",
       "      <td>5.005638e-01</td>\n",
       "      <td>23.269093</td>\n",
       "      <td>2011.752774</td>\n",
       "      <td>3.998341e+00</td>\n",
       "      <td>5.773819e+03</td>\n",
       "      <td>6.331459e+02</td>\n",
       "      <td>8.301067e-01</td>\n",
       "      <td>3.815145e-01</td>\n",
       "      <td>1.786467e-01</td>\n",
       "    </tr>\n",
       "    <tr>\n",
       "      <th>std</th>\n",
       "      <td>3.219087e+02</td>\n",
       "      <td>7.715324e+03</td>\n",
       "      <td>3.211832</td>\n",
       "      <td>5.992644</td>\n",
       "      <td>4.999999e-01</td>\n",
       "      <td>14.095973</td>\n",
       "      <td>1.662870</td>\n",
       "      <td>1.997391e+00</td>\n",
       "      <td>3.849926e+03</td>\n",
       "      <td>4.644117e+02</td>\n",
       "      <td>3.755392e-01</td>\n",
       "      <td>4.857586e-01</td>\n",
       "      <td>3.830564e-01</td>\n",
       "    </tr>\n",
       "    <tr>\n",
       "      <th>min</th>\n",
       "      <td>1.000000e+00</td>\n",
       "      <td>2.000000e+01</td>\n",
       "      <td>1.000000</td>\n",
       "      <td>1900.000000</td>\n",
       "      <td>0.000000e+00</td>\n",
       "      <td>1.000000</td>\n",
       "      <td>2009.000000</td>\n",
       "      <td>1.000000e+00</td>\n",
       "      <td>0.000000e+00</td>\n",
       "      <td>0.000000e+00</td>\n",
       "      <td>0.000000e+00</td>\n",
       "      <td>0.000000e+00</td>\n",
       "      <td>0.000000e+00</td>\n",
       "    </tr>\n",
       "    <tr>\n",
       "      <th>25%</th>\n",
       "      <td>2.800000e+02</td>\n",
       "      <td>7.100000e+02</td>\n",
       "      <td>4.000000</td>\n",
       "      <td>2006.000000</td>\n",
       "      <td>0.000000e+00</td>\n",
       "      <td>13.000000</td>\n",
       "      <td>2011.000000</td>\n",
       "      <td>2.000000e+00</td>\n",
       "      <td>3.727000e+03</td>\n",
       "      <td>4.050000e+02</td>\n",
       "      <td>1.000000e+00</td>\n",
       "      <td>0.000000e+00</td>\n",
       "      <td>0.000000e+00</td>\n",
       "    </tr>\n",
       "    <tr>\n",
       "      <th>50%</th>\n",
       "      <td>5.580000e+02</td>\n",
       "      <td>2.330000e+03</td>\n",
       "      <td>8.000000</td>\n",
       "      <td>2010.000000</td>\n",
       "      <td>1.000000e+00</td>\n",
       "      <td>22.000000</td>\n",
       "      <td>2012.000000</td>\n",
       "      <td>4.000000e+00</td>\n",
       "      <td>5.744000e+03</td>\n",
       "      <td>6.090000e+02</td>\n",
       "      <td>1.000000e+00</td>\n",
       "      <td>0.000000e+00</td>\n",
       "      <td>0.000000e+00</td>\n",
       "    </tr>\n",
       "    <tr>\n",
       "      <th>75%</th>\n",
       "      <td>8.380000e+02</td>\n",
       "      <td>6.890000e+03</td>\n",
       "      <td>10.000000</td>\n",
       "      <td>2013.000000</td>\n",
       "      <td>1.000000e+00</td>\n",
       "      <td>37.000000</td>\n",
       "      <td>2013.000000</td>\n",
       "      <td>6.000000e+00</td>\n",
       "      <td>7.856000e+03</td>\n",
       "      <td>8.370000e+02</td>\n",
       "      <td>1.000000e+00</td>\n",
       "      <td>1.000000e+00</td>\n",
       "      <td>0.000000e+00</td>\n",
       "    </tr>\n",
       "    <tr>\n",
       "      <th>max</th>\n",
       "      <td>1.115000e+03</td>\n",
       "      <td>7.586000e+04</td>\n",
       "      <td>12.000000</td>\n",
       "      <td>2015.000000</td>\n",
       "      <td>1.000000e+00</td>\n",
       "      <td>50.000000</td>\n",
       "      <td>2015.000000</td>\n",
       "      <td>7.000000e+00</td>\n",
       "      <td>4.155100e+04</td>\n",
       "      <td>7.388000e+03</td>\n",
       "      <td>1.000000e+00</td>\n",
       "      <td>1.000000e+00</td>\n",
       "      <td>1.000000e+00</td>\n",
       "    </tr>\n",
       "  </tbody>\n",
       "</table>\n",
       "</div>"
      ],
      "text/plain": [
       "              Store  CompetitionDistance  CompetitionOpenSinceMonth  \\\n",
       "count  1.017209e+06         1.014567e+06              693861.000000   \n",
       "mean   5.584297e+02         5.430086e+03                   7.222866   \n",
       "std    3.219087e+02         7.715324e+03                   3.211832   \n",
       "min    1.000000e+00         2.000000e+01                   1.000000   \n",
       "25%    2.800000e+02         7.100000e+02                   4.000000   \n",
       "50%    5.580000e+02         2.330000e+03                   8.000000   \n",
       "75%    8.380000e+02         6.890000e+03                  10.000000   \n",
       "max    1.115000e+03         7.586000e+04                  12.000000   \n",
       "\n",
       "       CompetitionOpenSinceYear        Promo2  Promo2SinceWeek  \\\n",
       "count             693861.000000  1.017209e+06    509178.000000   \n",
       "mean                2008.690228  5.005638e-01        23.269093   \n",
       "std                    5.992644  4.999999e-01        14.095973   \n",
       "min                 1900.000000  0.000000e+00         1.000000   \n",
       "25%                 2006.000000  0.000000e+00        13.000000   \n",
       "50%                 2010.000000  1.000000e+00        22.000000   \n",
       "75%                 2013.000000  1.000000e+00        37.000000   \n",
       "max                 2015.000000  1.000000e+00        50.000000   \n",
       "\n",
       "       Promo2SinceYear     DayOfWeek         Sales     Customers  \\\n",
       "count    509178.000000  1.017209e+06  1.017209e+06  1.017209e+06   \n",
       "mean       2011.752774  3.998341e+00  5.773819e+03  6.331459e+02   \n",
       "std           1.662870  1.997391e+00  3.849926e+03  4.644117e+02   \n",
       "min        2009.000000  1.000000e+00  0.000000e+00  0.000000e+00   \n",
       "25%        2011.000000  2.000000e+00  3.727000e+03  4.050000e+02   \n",
       "50%        2012.000000  4.000000e+00  5.744000e+03  6.090000e+02   \n",
       "75%        2013.000000  6.000000e+00  7.856000e+03  8.370000e+02   \n",
       "max        2015.000000  7.000000e+00  4.155100e+04  7.388000e+03   \n",
       "\n",
       "               Open         Promo  SchoolHoliday  \n",
       "count  1.017209e+06  1.017209e+06   1.017209e+06  \n",
       "mean   8.301067e-01  3.815145e-01   1.786467e-01  \n",
       "std    3.755392e-01  4.857586e-01   3.830564e-01  \n",
       "min    0.000000e+00  0.000000e+00   0.000000e+00  \n",
       "25%    1.000000e+00  0.000000e+00   0.000000e+00  \n",
       "50%    1.000000e+00  0.000000e+00   0.000000e+00  \n",
       "75%    1.000000e+00  1.000000e+00   0.000000e+00  \n",
       "max    1.000000e+00  1.000000e+00   1.000000e+00  "
      ]
     },
     "execution_count": 92,
     "metadata": {},
     "output_type": "execute_result"
    }
   ],
   "source": [
    "merge_df.describe()"
   ]
  },
  {
   "cell_type": "markdown",
   "metadata": {
    "id": "VxSB0PhZ_VCr"
   },
   "source": [
    "### **3. Dealing with Missing values**\n",
    "\n",
    "1.   Check for the missing values\n",
    "2.   Count the missing values\n"
   ]
  },
  {
   "cell_type": "code",
   "execution_count": 93,
   "metadata": {
    "id": "BbmL2_Te_XVe"
   },
   "outputs": [
    {
     "name": "stdout",
     "output_type": "stream",
     "text": [
      "The dataset has missing values. The count is: 2173431\n"
     ]
    }
   ],
   "source": [
    "def check_missing(df):\n",
    "    return df.isna().sum().sum()\n",
    "if(check_missing(merge_df)): #it would result 0 in case of no missing values \n",
    "    print(\"The dataset has missing values. The count is:\",check_missing(merge_df))\n",
    "else:\n",
    "    print(\"No missing values found\")"
   ]
  },
  {
   "cell_type": "code",
   "execution_count": 94,
   "metadata": {},
   "outputs": [
    {
     "data": {
      "text/html": [
       "<div>\n",
       "<style scoped>\n",
       "    .dataframe tbody tr th:only-of-type {\n",
       "        vertical-align: middle;\n",
       "    }\n",
       "\n",
       "    .dataframe tbody tr th {\n",
       "        vertical-align: top;\n",
       "    }\n",
       "\n",
       "    .dataframe thead th {\n",
       "        text-align: right;\n",
       "    }\n",
       "</style>\n",
       "<table border=\"1\" class=\"dataframe\">\n",
       "  <thead>\n",
       "    <tr style=\"text-align: right;\">\n",
       "      <th></th>\n",
       "      <th>Column</th>\n",
       "      <th>Null values</th>\n",
       "    </tr>\n",
       "  </thead>\n",
       "  <tbody>\n",
       "    <tr>\n",
       "      <th>Store</th>\n",
       "      <td>Store</td>\n",
       "      <td>0</td>\n",
       "    </tr>\n",
       "    <tr>\n",
       "      <th>StoreType</th>\n",
       "      <td>StoreType</td>\n",
       "      <td>0</td>\n",
       "    </tr>\n",
       "    <tr>\n",
       "      <th>Assortment</th>\n",
       "      <td>Assortment</td>\n",
       "      <td>0</td>\n",
       "    </tr>\n",
       "    <tr>\n",
       "      <th>CompetitionDistance</th>\n",
       "      <td>CompetitionDistance</td>\n",
       "      <td>2642</td>\n",
       "    </tr>\n",
       "    <tr>\n",
       "      <th>CompetitionOpenSinceMonth</th>\n",
       "      <td>CompetitionOpenSinceMonth</td>\n",
       "      <td>323348</td>\n",
       "    </tr>\n",
       "  </tbody>\n",
       "</table>\n",
       "</div>"
      ],
      "text/plain": [
       "                                              Column  Null values\n",
       "Store                                          Store            0\n",
       "StoreType                                  StoreType            0\n",
       "Assortment                                Assortment            0\n",
       "CompetitionDistance              CompetitionDistance         2642\n",
       "CompetitionOpenSinceMonth  CompetitionOpenSinceMonth       323348"
      ]
     },
     "execution_count": 94,
     "metadata": {},
     "output_type": "execute_result"
    }
   ],
   "source": [
    "column_wise_ = pd.DataFrame({'Column':merge_df.columns,'Null values':merge_df.isna().sum()})\n",
    "column_wise_.head()"
   ]
  },
  {
   "cell_type": "markdown",
   "metadata": {
    "id": "Xp_Z_5grBD_B"
   },
   "source": [
    "### **4. Handle missing values (if any)**\n",
    "*4.1. Handle by mean or mode* <br>\n",
    "*4.2. Remove useless column* <br>\n",
    "*4.3. Check datatypes of the columns*"
   ]
  },
  {
   "cell_type": "markdown",
   "metadata": {},
   "source": [
    "Mean takes a lot time while executing so i did mode"
   ]
  },
  {
   "cell_type": "code",
   "execution_count": 95,
   "metadata": {
    "id": "QSe3vSyc_d-Y"
   },
   "outputs": [],
   "source": [
    "# handling with mean\n",
    "\n",
    "merge_df.fillna(merge_df.mean(),inplace=True)\n"
   ]
  },
  {
   "cell_type": "code",
   "execution_count": 96,
   "metadata": {},
   "outputs": [],
   "source": [
    "#handling with mode\n",
    "merge_df.fillna(merge_df.mode(),inplace=True)"
   ]
  },
  {
   "cell_type": "code",
   "execution_count": 97,
   "metadata": {},
   "outputs": [
    {
     "name": "stdout",
     "output_type": "stream",
     "text": [
      "[]\n"
     ]
    },
    {
     "data": {
      "text/html": [
       "<div>\n",
       "<style scoped>\n",
       "    .dataframe tbody tr th:only-of-type {\n",
       "        vertical-align: middle;\n",
       "    }\n",
       "\n",
       "    .dataframe tbody tr th {\n",
       "        vertical-align: top;\n",
       "    }\n",
       "\n",
       "    .dataframe thead th {\n",
       "        text-align: right;\n",
       "    }\n",
       "</style>\n",
       "<table border=\"1\" class=\"dataframe\">\n",
       "  <thead>\n",
       "    <tr style=\"text-align: right;\">\n",
       "      <th></th>\n",
       "      <th>Store</th>\n",
       "      <th>StoreType</th>\n",
       "      <th>Assortment</th>\n",
       "      <th>CompetitionDistance</th>\n",
       "      <th>CompetitionOpenSinceMonth</th>\n",
       "      <th>CompetitionOpenSinceYear</th>\n",
       "      <th>Promo2</th>\n",
       "      <th>Promo2SinceWeek</th>\n",
       "      <th>Promo2SinceYear</th>\n",
       "      <th>PromoInterval</th>\n",
       "      <th>DayOfWeek</th>\n",
       "      <th>Date</th>\n",
       "      <th>Sales</th>\n",
       "      <th>Customers</th>\n",
       "      <th>Open</th>\n",
       "      <th>Promo</th>\n",
       "      <th>StateHoliday</th>\n",
       "      <th>SchoolHoliday</th>\n",
       "    </tr>\n",
       "  </thead>\n",
       "  <tbody>\n",
       "    <tr>\n",
       "      <th>0</th>\n",
       "      <td>1</td>\n",
       "      <td>c</td>\n",
       "      <td>a</td>\n",
       "      <td>1270.0</td>\n",
       "      <td>9.0</td>\n",
       "      <td>2008.0</td>\n",
       "      <td>0</td>\n",
       "      <td>14.0</td>\n",
       "      <td>2011.0</td>\n",
       "      <td>Jan,Apr,Jul,Oct</td>\n",
       "      <td>5</td>\n",
       "      <td>2015-07-31</td>\n",
       "      <td>5263</td>\n",
       "      <td>555</td>\n",
       "      <td>1</td>\n",
       "      <td>1</td>\n",
       "      <td>0</td>\n",
       "      <td>1</td>\n",
       "    </tr>\n",
       "    <tr>\n",
       "      <th>1</th>\n",
       "      <td>1</td>\n",
       "      <td>c</td>\n",
       "      <td>a</td>\n",
       "      <td>1270.0</td>\n",
       "      <td>9.0</td>\n",
       "      <td>2008.0</td>\n",
       "      <td>0</td>\n",
       "      <td>NaN</td>\n",
       "      <td>NaN</td>\n",
       "      <td>NaN</td>\n",
       "      <td>4</td>\n",
       "      <td>2015-07-30</td>\n",
       "      <td>5020</td>\n",
       "      <td>546</td>\n",
       "      <td>1</td>\n",
       "      <td>1</td>\n",
       "      <td>0</td>\n",
       "      <td>1</td>\n",
       "    </tr>\n",
       "    <tr>\n",
       "      <th>2</th>\n",
       "      <td>1</td>\n",
       "      <td>c</td>\n",
       "      <td>a</td>\n",
       "      <td>1270.0</td>\n",
       "      <td>9.0</td>\n",
       "      <td>2008.0</td>\n",
       "      <td>0</td>\n",
       "      <td>NaN</td>\n",
       "      <td>NaN</td>\n",
       "      <td>NaN</td>\n",
       "      <td>3</td>\n",
       "      <td>2015-07-29</td>\n",
       "      <td>4782</td>\n",
       "      <td>523</td>\n",
       "      <td>1</td>\n",
       "      <td>1</td>\n",
       "      <td>0</td>\n",
       "      <td>1</td>\n",
       "    </tr>\n",
       "    <tr>\n",
       "      <th>3</th>\n",
       "      <td>1</td>\n",
       "      <td>c</td>\n",
       "      <td>a</td>\n",
       "      <td>1270.0</td>\n",
       "      <td>9.0</td>\n",
       "      <td>2008.0</td>\n",
       "      <td>0</td>\n",
       "      <td>NaN</td>\n",
       "      <td>NaN</td>\n",
       "      <td>NaN</td>\n",
       "      <td>2</td>\n",
       "      <td>2015-07-28</td>\n",
       "      <td>5011</td>\n",
       "      <td>560</td>\n",
       "      <td>1</td>\n",
       "      <td>1</td>\n",
       "      <td>0</td>\n",
       "      <td>1</td>\n",
       "    </tr>\n",
       "    <tr>\n",
       "      <th>4</th>\n",
       "      <td>1</td>\n",
       "      <td>c</td>\n",
       "      <td>a</td>\n",
       "      <td>1270.0</td>\n",
       "      <td>9.0</td>\n",
       "      <td>2008.0</td>\n",
       "      <td>0</td>\n",
       "      <td>NaN</td>\n",
       "      <td>NaN</td>\n",
       "      <td>NaN</td>\n",
       "      <td>1</td>\n",
       "      <td>2015-07-27</td>\n",
       "      <td>6102</td>\n",
       "      <td>612</td>\n",
       "      <td>1</td>\n",
       "      <td>1</td>\n",
       "      <td>0</td>\n",
       "      <td>1</td>\n",
       "    </tr>\n",
       "    <tr>\n",
       "      <th>...</th>\n",
       "      <td>...</td>\n",
       "      <td>...</td>\n",
       "      <td>...</td>\n",
       "      <td>...</td>\n",
       "      <td>...</td>\n",
       "      <td>...</td>\n",
       "      <td>...</td>\n",
       "      <td>...</td>\n",
       "      <td>...</td>\n",
       "      <td>...</td>\n",
       "      <td>...</td>\n",
       "      <td>...</td>\n",
       "      <td>...</td>\n",
       "      <td>...</td>\n",
       "      <td>...</td>\n",
       "      <td>...</td>\n",
       "      <td>...</td>\n",
       "      <td>...</td>\n",
       "    </tr>\n",
       "    <tr>\n",
       "      <th>1017204</th>\n",
       "      <td>1115</td>\n",
       "      <td>d</td>\n",
       "      <td>c</td>\n",
       "      <td>5350.0</td>\n",
       "      <td>NaN</td>\n",
       "      <td>NaN</td>\n",
       "      <td>1</td>\n",
       "      <td>22.0</td>\n",
       "      <td>2012.0</td>\n",
       "      <td>Mar,Jun,Sept,Dec</td>\n",
       "      <td>6</td>\n",
       "      <td>2013-01-05</td>\n",
       "      <td>4771</td>\n",
       "      <td>339</td>\n",
       "      <td>1</td>\n",
       "      <td>0</td>\n",
       "      <td>0</td>\n",
       "      <td>1</td>\n",
       "    </tr>\n",
       "    <tr>\n",
       "      <th>1017205</th>\n",
       "      <td>1115</td>\n",
       "      <td>d</td>\n",
       "      <td>c</td>\n",
       "      <td>5350.0</td>\n",
       "      <td>NaN</td>\n",
       "      <td>NaN</td>\n",
       "      <td>1</td>\n",
       "      <td>22.0</td>\n",
       "      <td>2012.0</td>\n",
       "      <td>Mar,Jun,Sept,Dec</td>\n",
       "      <td>5</td>\n",
       "      <td>2013-01-04</td>\n",
       "      <td>4540</td>\n",
       "      <td>326</td>\n",
       "      <td>1</td>\n",
       "      <td>0</td>\n",
       "      <td>0</td>\n",
       "      <td>1</td>\n",
       "    </tr>\n",
       "    <tr>\n",
       "      <th>1017206</th>\n",
       "      <td>1115</td>\n",
       "      <td>d</td>\n",
       "      <td>c</td>\n",
       "      <td>5350.0</td>\n",
       "      <td>NaN</td>\n",
       "      <td>NaN</td>\n",
       "      <td>1</td>\n",
       "      <td>22.0</td>\n",
       "      <td>2012.0</td>\n",
       "      <td>Mar,Jun,Sept,Dec</td>\n",
       "      <td>4</td>\n",
       "      <td>2013-01-03</td>\n",
       "      <td>4297</td>\n",
       "      <td>300</td>\n",
       "      <td>1</td>\n",
       "      <td>0</td>\n",
       "      <td>0</td>\n",
       "      <td>1</td>\n",
       "    </tr>\n",
       "    <tr>\n",
       "      <th>1017207</th>\n",
       "      <td>1115</td>\n",
       "      <td>d</td>\n",
       "      <td>c</td>\n",
       "      <td>5350.0</td>\n",
       "      <td>NaN</td>\n",
       "      <td>NaN</td>\n",
       "      <td>1</td>\n",
       "      <td>22.0</td>\n",
       "      <td>2012.0</td>\n",
       "      <td>Mar,Jun,Sept,Dec</td>\n",
       "      <td>3</td>\n",
       "      <td>2013-01-02</td>\n",
       "      <td>3697</td>\n",
       "      <td>305</td>\n",
       "      <td>1</td>\n",
       "      <td>0</td>\n",
       "      <td>0</td>\n",
       "      <td>1</td>\n",
       "    </tr>\n",
       "    <tr>\n",
       "      <th>1017208</th>\n",
       "      <td>1115</td>\n",
       "      <td>d</td>\n",
       "      <td>c</td>\n",
       "      <td>5350.0</td>\n",
       "      <td>NaN</td>\n",
       "      <td>NaN</td>\n",
       "      <td>1</td>\n",
       "      <td>22.0</td>\n",
       "      <td>2012.0</td>\n",
       "      <td>Mar,Jun,Sept,Dec</td>\n",
       "      <td>2</td>\n",
       "      <td>2013-01-01</td>\n",
       "      <td>0</td>\n",
       "      <td>0</td>\n",
       "      <td>0</td>\n",
       "      <td>0</td>\n",
       "      <td>a</td>\n",
       "      <td>1</td>\n",
       "    </tr>\n",
       "  </tbody>\n",
       "</table>\n",
       "<p>1017209 rows × 18 columns</p>\n",
       "</div>"
      ],
      "text/plain": [
       "         Store StoreType Assortment  CompetitionDistance  \\\n",
       "0            1         c          a               1270.0   \n",
       "1            1         c          a               1270.0   \n",
       "2            1         c          a               1270.0   \n",
       "3            1         c          a               1270.0   \n",
       "4            1         c          a               1270.0   \n",
       "...        ...       ...        ...                  ...   \n",
       "1017204   1115         d          c               5350.0   \n",
       "1017205   1115         d          c               5350.0   \n",
       "1017206   1115         d          c               5350.0   \n",
       "1017207   1115         d          c               5350.0   \n",
       "1017208   1115         d          c               5350.0   \n",
       "\n",
       "         CompetitionOpenSinceMonth  CompetitionOpenSinceYear  Promo2  \\\n",
       "0                              9.0                    2008.0       0   \n",
       "1                              9.0                    2008.0       0   \n",
       "2                              9.0                    2008.0       0   \n",
       "3                              9.0                    2008.0       0   \n",
       "4                              9.0                    2008.0       0   \n",
       "...                            ...                       ...     ...   \n",
       "1017204                        NaN                       NaN       1   \n",
       "1017205                        NaN                       NaN       1   \n",
       "1017206                        NaN                       NaN       1   \n",
       "1017207                        NaN                       NaN       1   \n",
       "1017208                        NaN                       NaN       1   \n",
       "\n",
       "         Promo2SinceWeek  Promo2SinceYear     PromoInterval  DayOfWeek  \\\n",
       "0                   14.0           2011.0   Jan,Apr,Jul,Oct          5   \n",
       "1                    NaN              NaN               NaN          4   \n",
       "2                    NaN              NaN               NaN          3   \n",
       "3                    NaN              NaN               NaN          2   \n",
       "4                    NaN              NaN               NaN          1   \n",
       "...                  ...              ...               ...        ...   \n",
       "1017204             22.0           2012.0  Mar,Jun,Sept,Dec          6   \n",
       "1017205             22.0           2012.0  Mar,Jun,Sept,Dec          5   \n",
       "1017206             22.0           2012.0  Mar,Jun,Sept,Dec          4   \n",
       "1017207             22.0           2012.0  Mar,Jun,Sept,Dec          3   \n",
       "1017208             22.0           2012.0  Mar,Jun,Sept,Dec          2   \n",
       "\n",
       "               Date  Sales  Customers  Open  Promo StateHoliday  SchoolHoliday  \n",
       "0        2015-07-31   5263        555     1      1            0              1  \n",
       "1        2015-07-30   5020        546     1      1            0              1  \n",
       "2        2015-07-29   4782        523     1      1            0              1  \n",
       "3        2015-07-28   5011        560     1      1            0              1  \n",
       "4        2015-07-27   6102        612     1      1            0              1  \n",
       "...             ...    ...        ...   ...    ...          ...            ...  \n",
       "1017204  2013-01-05   4771        339     1      0            0              1  \n",
       "1017205  2013-01-04   4540        326     1      0            0              1  \n",
       "1017206  2013-01-03   4297        300     1      0            0              1  \n",
       "1017207  2013-01-02   3697        305     1      0            0              1  \n",
       "1017208  2013-01-01      0          0     0      0            a              1  \n",
       "\n",
       "[1017209 rows x 18 columns]"
      ]
     },
     "execution_count": 97,
     "metadata": {},
     "output_type": "execute_result"
    }
   ],
   "source": [
    "def detect_useless_col(df):\n",
    "    null_percentage= (df.isna().sum() / len(df))*100\n",
    "    useless = null_percentage[null_percentage > 60].index.tolist()\n",
    "    return useless\n",
    "\n",
    "useless_list = detect_useless_col(merge_df)\n",
    "print(useless_list)\n",
    "merge_df.drop(columns=useless_list)"
   ]
  },
  {
   "cell_type": "code",
   "execution_count": 98,
   "metadata": {},
   "outputs": [
    {
     "name": "stdout",
     "output_type": "stream",
     "text": [
      "Store                          int64\n",
      "StoreType                     object\n",
      "Assortment                    object\n",
      "CompetitionDistance          float64\n",
      "CompetitionOpenSinceMonth    float64\n",
      "CompetitionOpenSinceYear     float64\n",
      "Promo2                         int64\n",
      "Promo2SinceWeek              float64\n",
      "Promo2SinceYear              float64\n",
      "PromoInterval                 object\n",
      "DayOfWeek                      int64\n",
      "Date                          object\n",
      "Sales                          int64\n",
      "Customers                      int64\n",
      "Open                           int64\n",
      "Promo                          int64\n",
      "StateHoliday                  object\n",
      "SchoolHoliday                  int64\n",
      "dtype: object\n"
     ]
    }
   ],
   "source": [
    "#Data types\n",
    "print(merge_df.dtypes)"
   ]
  },
  {
   "cell_type": "markdown",
   "metadata": {
    "id": "TnNjS9xR_eIl"
   },
   "source": [
    "### **5. Encode categorical features**\n",
    "\n",
    "\n",
    "\n",
    "1.   Label Encoding\n",
    "2.   OneHot Encoding\n",
    "3.   Target Encoding\n",
    "4.   Binary Transformation\n"
   ]
  },
  {
   "cell_type": "code",
   "execution_count": 99,
   "metadata": {
    "id": "0nC9pBBP_g_O"
   },
   "outputs": [],
   "source": [
    "lab_Enc=labelEncoder()\n",
    "merge_df[\"StoreType\"] = lab_Enc.fit_transform(merge_df[\"StoreType\"])\n",
    "merge_df[\"Assortment\"]=lab_Enc.fit_transform(merge_df.Assortment)\n",
    "merge_df[\"PromoInterval\"]=lab_Enc.fit_transform(merge_df.PromoInterval)\n",
    "merge_df[\"StateHoliday\"]=lab_Enc.fit_transform(merge_df.Date)"
   ]
  },
  {
   "cell_type": "code",
   "execution_count": 100,
   "metadata": {},
   "outputs": [
    {
     "data": {
      "text/plain": [
       "0          2015-07-31\n",
       "1          2015-07-30\n",
       "2          2015-07-29\n",
       "3          2015-07-28\n",
       "4          2015-07-27\n",
       "              ...    \n",
       "1017204    2013-01-05\n",
       "1017205    2013-01-04\n",
       "1017206    2013-01-03\n",
       "1017207    2013-01-02\n",
       "1017208    2013-01-01\n",
       "Name: Date, Length: 1017209, dtype: object"
      ]
     },
     "execution_count": 100,
     "metadata": {},
     "output_type": "execute_result"
    }
   ],
   "source": [
    "merge_df.Date"
   ]
  },
  {
   "cell_type": "markdown",
   "metadata": {},
   "source": [
    "OneHot Encoding"
   ]
  },
  {
   "cell_type": "code",
   "execution_count": 101,
   "metadata": {},
   "outputs": [],
   "source": [
    "hot_enc_df = pd.DataFrame()\n",
    "\n",
    "hot_enc_store = pd.get_dummies(merge_df, columns=['StoreType'], prefix=['StoreType'])\n",
    "hot_enc_assort = pd.get_dummies(merge_df,columns=['Assortment'])\n",
    "\n"
   ]
  },
  {
   "cell_type": "code",
   "execution_count": 102,
   "metadata": {},
   "outputs": [
    {
     "name": "stdout",
     "output_type": "stream",
     "text": [
      "         Store  StoreType  CompetitionDistance  CompetitionOpenSinceMonth  \\\n",
      "0            1          2               1270.0                        9.0   \n",
      "1            1          2               1270.0                        9.0   \n",
      "2            1          2               1270.0                        9.0   \n",
      "3            1          2               1270.0                        9.0   \n",
      "4            1          2               1270.0                        9.0   \n",
      "...        ...        ...                  ...                        ...   \n",
      "1017204   1115          3               5350.0                        NaN   \n",
      "1017205   1115          3               5350.0                        NaN   \n",
      "1017206   1115          3               5350.0                        NaN   \n",
      "1017207   1115          3               5350.0                        NaN   \n",
      "1017208   1115          3               5350.0                        NaN   \n",
      "\n",
      "         CompetitionOpenSinceYear  Promo2  Promo2SinceWeek  Promo2SinceYear  \\\n",
      "0                          2008.0       0             14.0           2011.0   \n",
      "1                          2008.0       0              NaN              NaN   \n",
      "2                          2008.0       0              NaN              NaN   \n",
      "3                          2008.0       0              NaN              NaN   \n",
      "4                          2008.0       0              NaN              NaN   \n",
      "...                           ...     ...              ...              ...   \n",
      "1017204                       NaN       1             22.0           2012.0   \n",
      "1017205                       NaN       1             22.0           2012.0   \n",
      "1017206                       NaN       1             22.0           2012.0   \n",
      "1017207                       NaN       1             22.0           2012.0   \n",
      "1017208                       NaN       1             22.0           2012.0   \n",
      "\n",
      "         PromoInterval  DayOfWeek        Date  Sales  Customers  Open  Promo  \\\n",
      "0                    1          5  2015-07-31   5263        555     1      1   \n",
      "1                    3          4  2015-07-30   5020        546     1      1   \n",
      "2                    3          3  2015-07-29   4782        523     1      1   \n",
      "3                    3          2  2015-07-28   5011        560     1      1   \n",
      "4                    3          1  2015-07-27   6102        612     1      1   \n",
      "...                ...        ...         ...    ...        ...   ...    ...   \n",
      "1017204              2          6  2013-01-05   4771        339     1      0   \n",
      "1017205              2          5  2013-01-04   4540        326     1      0   \n",
      "1017206              2          4  2013-01-03   4297        300     1      0   \n",
      "1017207              2          3  2013-01-02   3697        305     1      0   \n",
      "1017208              2          2  2013-01-01      0          0     0      0   \n",
      "\n",
      "         StateHoliday  SchoolHoliday  Assortment_0  Assortment_1  Assortment_2  \n",
      "0                 941              1             1             0             0  \n",
      "1                 940              1             1             0             0  \n",
      "2                 939              1             1             0             0  \n",
      "3                 938              1             1             0             0  \n",
      "4                 937              1             1             0             0  \n",
      "...               ...            ...           ...           ...           ...  \n",
      "1017204             4              1             0             0             1  \n",
      "1017205             3              1             0             0             1  \n",
      "1017206             2              1             0             0             1  \n",
      "1017207             1              1             0             0             1  \n",
      "1017208             0              1             0             0             1  \n",
      "\n",
      "[1017209 rows x 20 columns]\n"
     ]
    }
   ],
   "source": [
    "print(hot_enc_assort)"
   ]
  },
  {
   "cell_type": "code",
   "execution_count": 103,
   "metadata": {
    "id": "cEzARnFjATi4"
   },
   "outputs": [
    {
     "name": "stdout",
     "output_type": "stream",
     "text": [
      "         Store  StoreType  CompetitionDistance  CompetitionOpenSinceMonth  \\\n",
      "0            1          2               1270.0                        9.0   \n",
      "1            1          2               1270.0                        9.0   \n",
      "2            1          2               1270.0                        9.0   \n",
      "3            1          2               1270.0                        9.0   \n",
      "4            1          2               1270.0                        9.0   \n",
      "...        ...        ...                  ...                        ...   \n",
      "1017204   1115          3               5350.0                        NaN   \n",
      "1017205   1115          3               5350.0                        NaN   \n",
      "1017206   1115          3               5350.0                        NaN   \n",
      "1017207   1115          3               5350.0                        NaN   \n",
      "1017208   1115          3               5350.0                        NaN   \n",
      "\n",
      "         CompetitionOpenSinceYear  Promo2  Promo2SinceWeek  Promo2SinceYear  \\\n",
      "0                          2008.0       0             14.0           2011.0   \n",
      "1                          2008.0       0              NaN              NaN   \n",
      "2                          2008.0       0              NaN              NaN   \n",
      "3                          2008.0       0              NaN              NaN   \n",
      "4                          2008.0       0              NaN              NaN   \n",
      "...                           ...     ...              ...              ...   \n",
      "1017204                       NaN       1             22.0           2012.0   \n",
      "1017205                       NaN       1             22.0           2012.0   \n",
      "1017206                       NaN       1             22.0           2012.0   \n",
      "1017207                       NaN       1             22.0           2012.0   \n",
      "1017208                       NaN       1             22.0           2012.0   \n",
      "\n",
      "         PromoInterval  DayOfWeek        Date  Sales  Customers  Open  Promo  \\\n",
      "0                    1          5  2015-07-31   5263        555     1      1   \n",
      "1                    3          4  2015-07-30   5020        546     1      1   \n",
      "2                    3          3  2015-07-29   4782        523     1      1   \n",
      "3                    3          2  2015-07-28   5011        560     1      1   \n",
      "4                    3          1  2015-07-27   6102        612     1      1   \n",
      "...                ...        ...         ...    ...        ...   ...    ...   \n",
      "1017204              2          6  2013-01-05   4771        339     1      0   \n",
      "1017205              2          5  2013-01-04   4540        326     1      0   \n",
      "1017206              2          4  2013-01-03   4297        300     1      0   \n",
      "1017207              2          3  2013-01-02   3697        305     1      0   \n",
      "1017208              2          2  2013-01-01      0          0     0      0   \n",
      "\n",
      "         StateHoliday  SchoolHoliday  Assortment_0  Assortment_1  Assortment_2  \n",
      "0                 941              1             1             0             0  \n",
      "1                 940              1             1             0             0  \n",
      "2                 939              1             1             0             0  \n",
      "3                 938              1             1             0             0  \n",
      "4                 937              1             1             0             0  \n",
      "...               ...            ...           ...           ...           ...  \n",
      "1017204             4              1             0             0             1  \n",
      "1017205             3              1             0             0             1  \n",
      "1017206             2              1             0             0             1  \n",
      "1017207             1              1             0             0             1  \n",
      "1017208             0              1             0             0             1  \n",
      "\n",
      "[1017209 rows x 20 columns]\n"
     ]
    }
   ],
   "source": [
    "print(hot_enc_assort)"
   ]
  },
  {
   "cell_type": "markdown",
   "metadata": {
    "id": "jJUamfzvBb6f"
   },
   "source": [
    "Target Encoding"
   ]
  },
  {
   "cell_type": "markdown",
   "metadata": {},
   "source": [
    "# Showing Categorical Encoder and it is showing errors and even unable to install on anaconda prompt"
   ]
  },
  {
   "cell_type": "markdown",
   "metadata": {},
   "source": [
    "Binary "
   ]
  },
  {
   "cell_type": "code",
   "execution_count": 104,
   "metadata": {
    "id": "JdrQDGhHHw2J"
   },
   "outputs": [],
   "source": [
    "binary_columns = ['StoreType', 'Assortment']\n",
    "for i in binary_columns:\n",
    "    merge_df[i] = merge_df[i].astype('category')\n",
    "    merge_df = pd.get_dummies(merge_df, columns=[i], prefix=f'Binary_{i}')"
   ]
  },
  {
   "cell_type": "code",
   "execution_count": 105,
   "metadata": {},
   "outputs": [
    {
     "data": {
      "text/html": [
       "<div>\n",
       "<style scoped>\n",
       "    .dataframe tbody tr th:only-of-type {\n",
       "        vertical-align: middle;\n",
       "    }\n",
       "\n",
       "    .dataframe tbody tr th {\n",
       "        vertical-align: top;\n",
       "    }\n",
       "\n",
       "    .dataframe thead th {\n",
       "        text-align: right;\n",
       "    }\n",
       "</style>\n",
       "<table border=\"1\" class=\"dataframe\">\n",
       "  <thead>\n",
       "    <tr style=\"text-align: right;\">\n",
       "      <th></th>\n",
       "      <th>Store</th>\n",
       "      <th>CompetitionDistance</th>\n",
       "      <th>CompetitionOpenSinceMonth</th>\n",
       "      <th>CompetitionOpenSinceYear</th>\n",
       "      <th>Promo2</th>\n",
       "      <th>Promo2SinceWeek</th>\n",
       "      <th>Promo2SinceYear</th>\n",
       "      <th>PromoInterval</th>\n",
       "      <th>DayOfWeek</th>\n",
       "      <th>Date</th>\n",
       "      <th>...</th>\n",
       "      <th>Promo</th>\n",
       "      <th>StateHoliday</th>\n",
       "      <th>SchoolHoliday</th>\n",
       "      <th>Binary_StoreType_0</th>\n",
       "      <th>Binary_StoreType_1</th>\n",
       "      <th>Binary_StoreType_2</th>\n",
       "      <th>Binary_StoreType_3</th>\n",
       "      <th>Binary_Assortment_0</th>\n",
       "      <th>Binary_Assortment_1</th>\n",
       "      <th>Binary_Assortment_2</th>\n",
       "    </tr>\n",
       "  </thead>\n",
       "  <tbody>\n",
       "    <tr>\n",
       "      <th>0</th>\n",
       "      <td>1</td>\n",
       "      <td>1270.0</td>\n",
       "      <td>9.0</td>\n",
       "      <td>2008.0</td>\n",
       "      <td>0</td>\n",
       "      <td>14.0</td>\n",
       "      <td>2011.0</td>\n",
       "      <td>1</td>\n",
       "      <td>5</td>\n",
       "      <td>2015-07-31</td>\n",
       "      <td>...</td>\n",
       "      <td>1</td>\n",
       "      <td>941</td>\n",
       "      <td>1</td>\n",
       "      <td>0</td>\n",
       "      <td>0</td>\n",
       "      <td>1</td>\n",
       "      <td>0</td>\n",
       "      <td>1</td>\n",
       "      <td>0</td>\n",
       "      <td>0</td>\n",
       "    </tr>\n",
       "    <tr>\n",
       "      <th>1</th>\n",
       "      <td>1</td>\n",
       "      <td>1270.0</td>\n",
       "      <td>9.0</td>\n",
       "      <td>2008.0</td>\n",
       "      <td>0</td>\n",
       "      <td>NaN</td>\n",
       "      <td>NaN</td>\n",
       "      <td>3</td>\n",
       "      <td>4</td>\n",
       "      <td>2015-07-30</td>\n",
       "      <td>...</td>\n",
       "      <td>1</td>\n",
       "      <td>940</td>\n",
       "      <td>1</td>\n",
       "      <td>0</td>\n",
       "      <td>0</td>\n",
       "      <td>1</td>\n",
       "      <td>0</td>\n",
       "      <td>1</td>\n",
       "      <td>0</td>\n",
       "      <td>0</td>\n",
       "    </tr>\n",
       "    <tr>\n",
       "      <th>2</th>\n",
       "      <td>1</td>\n",
       "      <td>1270.0</td>\n",
       "      <td>9.0</td>\n",
       "      <td>2008.0</td>\n",
       "      <td>0</td>\n",
       "      <td>NaN</td>\n",
       "      <td>NaN</td>\n",
       "      <td>3</td>\n",
       "      <td>3</td>\n",
       "      <td>2015-07-29</td>\n",
       "      <td>...</td>\n",
       "      <td>1</td>\n",
       "      <td>939</td>\n",
       "      <td>1</td>\n",
       "      <td>0</td>\n",
       "      <td>0</td>\n",
       "      <td>1</td>\n",
       "      <td>0</td>\n",
       "      <td>1</td>\n",
       "      <td>0</td>\n",
       "      <td>0</td>\n",
       "    </tr>\n",
       "    <tr>\n",
       "      <th>3</th>\n",
       "      <td>1</td>\n",
       "      <td>1270.0</td>\n",
       "      <td>9.0</td>\n",
       "      <td>2008.0</td>\n",
       "      <td>0</td>\n",
       "      <td>NaN</td>\n",
       "      <td>NaN</td>\n",
       "      <td>3</td>\n",
       "      <td>2</td>\n",
       "      <td>2015-07-28</td>\n",
       "      <td>...</td>\n",
       "      <td>1</td>\n",
       "      <td>938</td>\n",
       "      <td>1</td>\n",
       "      <td>0</td>\n",
       "      <td>0</td>\n",
       "      <td>1</td>\n",
       "      <td>0</td>\n",
       "      <td>1</td>\n",
       "      <td>0</td>\n",
       "      <td>0</td>\n",
       "    </tr>\n",
       "    <tr>\n",
       "      <th>4</th>\n",
       "      <td>1</td>\n",
       "      <td>1270.0</td>\n",
       "      <td>9.0</td>\n",
       "      <td>2008.0</td>\n",
       "      <td>0</td>\n",
       "      <td>NaN</td>\n",
       "      <td>NaN</td>\n",
       "      <td>3</td>\n",
       "      <td>1</td>\n",
       "      <td>2015-07-27</td>\n",
       "      <td>...</td>\n",
       "      <td>1</td>\n",
       "      <td>937</td>\n",
       "      <td>1</td>\n",
       "      <td>0</td>\n",
       "      <td>0</td>\n",
       "      <td>1</td>\n",
       "      <td>0</td>\n",
       "      <td>1</td>\n",
       "      <td>0</td>\n",
       "      <td>0</td>\n",
       "    </tr>\n",
       "  </tbody>\n",
       "</table>\n",
       "<p>5 rows × 23 columns</p>\n",
       "</div>"
      ],
      "text/plain": [
       "   Store  CompetitionDistance  CompetitionOpenSinceMonth  \\\n",
       "0      1               1270.0                        9.0   \n",
       "1      1               1270.0                        9.0   \n",
       "2      1               1270.0                        9.0   \n",
       "3      1               1270.0                        9.0   \n",
       "4      1               1270.0                        9.0   \n",
       "\n",
       "   CompetitionOpenSinceYear  Promo2  Promo2SinceWeek  Promo2SinceYear  \\\n",
       "0                    2008.0       0             14.0           2011.0   \n",
       "1                    2008.0       0              NaN              NaN   \n",
       "2                    2008.0       0              NaN              NaN   \n",
       "3                    2008.0       0              NaN              NaN   \n",
       "4                    2008.0       0              NaN              NaN   \n",
       "\n",
       "   PromoInterval  DayOfWeek        Date  ...  Promo  StateHoliday  \\\n",
       "0              1          5  2015-07-31  ...      1           941   \n",
       "1              3          4  2015-07-30  ...      1           940   \n",
       "2              3          3  2015-07-29  ...      1           939   \n",
       "3              3          2  2015-07-28  ...      1           938   \n",
       "4              3          1  2015-07-27  ...      1           937   \n",
       "\n",
       "   SchoolHoliday  Binary_StoreType_0  Binary_StoreType_1  Binary_StoreType_2  \\\n",
       "0              1                   0                   0                   1   \n",
       "1              1                   0                   0                   1   \n",
       "2              1                   0                   0                   1   \n",
       "3              1                   0                   0                   1   \n",
       "4              1                   0                   0                   1   \n",
       "\n",
       "   Binary_StoreType_3  Binary_Assortment_0  Binary_Assortment_1  \\\n",
       "0                   0                    1                    0   \n",
       "1                   0                    1                    0   \n",
       "2                   0                    1                    0   \n",
       "3                   0                    1                    0   \n",
       "4                   0                    1                    0   \n",
       "\n",
       "   Binary_Assortment_2  \n",
       "0                    0  \n",
       "1                    0  \n",
       "2                    0  \n",
       "3                    0  \n",
       "4                    0  \n",
       "\n",
       "[5 rows x 23 columns]"
      ]
     },
     "execution_count": 105,
     "metadata": {},
     "output_type": "execute_result"
    }
   ],
   "source": [
    "merge_df.head()"
   ]
  },
  {
   "cell_type": "markdown",
   "metadata": {
    "id": "E_8r-tTd_hGt"
   },
   "source": [
    "### **6. Scale numerical features**\n",
    "\n",
    "\n",
    "1.   Standard scaller\n",
    "2.   Min Max scaller\n",
    "\n"
   ]
  },
  {
   "cell_type": "code",
   "execution_count": 106,
   "metadata": {
    "id": "QX9P9ng1_jfo"
   },
   "outputs": [
    {
     "name": "stdout",
     "output_type": "stream",
     "text": [
      "   Store  CompetitionDistance  CompetitionOpenSinceMonth  \\\n",
      "0      1            -0.539198                        9.0   \n",
      "1      1            -0.539198                        9.0   \n",
      "2      1            -0.539198                        9.0   \n",
      "3      1            -0.539198                        9.0   \n",
      "4      1            -0.539198                        9.0   \n",
      "\n",
      "   CompetitionOpenSinceYear  Promo2  Promo2SinceWeek  Promo2SinceYear  \\\n",
      "0                    2008.0       0             14.0           2011.0   \n",
      "1                    2008.0       0              NaN              NaN   \n",
      "2                    2008.0       0              NaN              NaN   \n",
      "3                    2008.0       0              NaN              NaN   \n",
      "4                    2008.0       0              NaN              NaN   \n",
      "\n",
      "   PromoInterval  DayOfWeek        Date  ...  Promo  StateHoliday  \\\n",
      "0              1          5  2015-07-31  ...      1           941   \n",
      "1              3          4  2015-07-30  ...      1           940   \n",
      "2              3          3  2015-07-29  ...      1           939   \n",
      "3              3          2  2015-07-28  ...      1           938   \n",
      "4              3          1  2015-07-27  ...      1           937   \n",
      "\n",
      "   SchoolHoliday  Binary_StoreType_0  Binary_StoreType_1  Binary_StoreType_2  \\\n",
      "0              1                   0                   0                   1   \n",
      "1              1                   0                   0                   1   \n",
      "2              1                   0                   0                   1   \n",
      "3              1                   0                   0                   1   \n",
      "4              1                   0                   0                   1   \n",
      "\n",
      "   Binary_StoreType_3  Binary_Assortment_0  Binary_Assortment_1  \\\n",
      "0                   0                    1                    0   \n",
      "1                   0                    1                    0   \n",
      "2                   0                    1                    0   \n",
      "3                   0                    1                    0   \n",
      "4                   0                    1                    0   \n",
      "\n",
      "   Binary_Assortment_2  \n",
      "0                    0  \n",
      "1                    0  \n",
      "2                    0  \n",
      "3                    0  \n",
      "4                    0  \n",
      "\n",
      "[5 rows x 23 columns]\n"
     ]
    }
   ],
   "source": [
    "standard_Scaler=StandardScaler()\n",
    "\n",
    "columns = ['Sales', 'Customers', 'CompetitionDistance']\n",
    "\n",
    "merge_df[columns] = standard_Scaler.fit_transform(merge_df[columns])\n",
    "\n",
    "print(merge_df.head())"
   ]
  },
  {
   "cell_type": "code",
   "execution_count": 111,
   "metadata": {
    "id": "8rBJcCi3ASx2"
   },
   "outputs": [
    {
     "name": "stdout",
     "output_type": "stream",
     "text": [
      "   Store  CompetitionDistance  CompetitionOpenSinceMonth  \\\n",
      "0      1             0.016482                        9.0   \n",
      "1      1             0.016482                        9.0   \n",
      "2      1             0.016482                        9.0   \n",
      "3      1             0.016482                        9.0   \n",
      "4      1             0.016482                        9.0   \n",
      "\n",
      "   CompetitionOpenSinceYear  Promo2  Promo2SinceWeek  Promo2SinceYear  \\\n",
      "0                    2008.0       0             14.0           2011.0   \n",
      "1                    2008.0       0              NaN              NaN   \n",
      "2                    2008.0       0              NaN              NaN   \n",
      "3                    2008.0       0              NaN              NaN   \n",
      "4                    2008.0       0              NaN              NaN   \n",
      "\n",
      "   PromoInterval  DayOfWeek        Date  ...  Promo  StateHoliday  \\\n",
      "0              1          5  2015-07-31  ...      1           941   \n",
      "1              3          4  2015-07-30  ...      1           940   \n",
      "2              3          3  2015-07-29  ...      1           939   \n",
      "3              3          2  2015-07-28  ...      1           938   \n",
      "4              3          1  2015-07-27  ...      1           937   \n",
      "\n",
      "   SchoolHoliday  Binary_StoreType_0  Binary_StoreType_1  Binary_StoreType_2  \\\n",
      "0              1                   0                   0                   1   \n",
      "1              1                   0                   0                   1   \n",
      "2              1                   0                   0                   1   \n",
      "3              1                   0                   0                   1   \n",
      "4              1                   0                   0                   1   \n",
      "\n",
      "   Binary_StoreType_3  Binary_Assortment_0  Binary_Assortment_1  \\\n",
      "0                   0                    1                    0   \n",
      "1                   0                    1                    0   \n",
      "2                   0                    1                    0   \n",
      "3                   0                    1                    0   \n",
      "4                   0                    1                    0   \n",
      "\n",
      "   Binary_Assortment_2  \n",
      "0                    0  \n",
      "1                    0  \n",
      "2                    0  \n",
      "3                    0  \n",
      "4                    0  \n",
      "\n",
      "[5 rows x 23 columns]\n"
     ]
    }
   ],
   "source": [
    "scaler = MinMaxScaler()\n",
    "\n",
    "columns = ['Sales', 'Customers', 'CompetitionDistance']\n",
    "\n",
    "merge_df[columns] = scaler.fit_transform(merge_df[columns])\n",
    "print(merge_df.head())\n"
   ]
  },
  {
   "cell_type": "markdown",
   "metadata": {
    "id": "Caq8GK2vAfnd"
   },
   "source": [
    "### **7. Normalize dataset using normalizer**"
   ]
  },
  {
   "cell_type": "code",
   "execution_count": 113,
   "metadata": {
    "id": "wpH1e5SjJbtT"
   },
   "outputs": [
    {
     "name": "stdout",
     "output_type": "stream",
     "text": [
      "   Store  CompetitionDistance  CompetitionOpenSinceMonth  \\\n",
      "0      1             0.016482                        9.0   \n",
      "1      1             0.016482                        9.0   \n",
      "2      1             0.016482                        9.0   \n",
      "3      1             0.016482                        9.0   \n",
      "4      1             0.016482                        9.0   \n",
      "\n",
      "   CompetitionOpenSinceYear  Promo2  Promo2SinceWeek  Promo2SinceYear  \\\n",
      "0                    2008.0       0             14.0           2011.0   \n",
      "1                    2008.0       0              NaN              NaN   \n",
      "2                    2008.0       0              NaN              NaN   \n",
      "3                    2008.0       0              NaN              NaN   \n",
      "4                    2008.0       0              NaN              NaN   \n",
      "\n",
      "   PromoInterval  DayOfWeek        Date  ...  Promo  StateHoliday  \\\n",
      "0              1          5  2015-07-31  ...      1           941   \n",
      "1              3          4  2015-07-30  ...      1           940   \n",
      "2              3          3  2015-07-29  ...      1           939   \n",
      "3              3          2  2015-07-28  ...      1           938   \n",
      "4              3          1  2015-07-27  ...      1           937   \n",
      "\n",
      "   SchoolHoliday  Binary_StoreType_0  Binary_StoreType_1  Binary_StoreType_2  \\\n",
      "0              1                   0                   0                   1   \n",
      "1              1                   0                   0                   1   \n",
      "2              1                   0                   0                   1   \n",
      "3              1                   0                   0                   1   \n",
      "4              1                   0                   0                   1   \n",
      "\n",
      "   Binary_StoreType_3  Binary_Assortment_0  Binary_Assortment_1  \\\n",
      "0                   0                    1                    0   \n",
      "1                   0                    1                    0   \n",
      "2                   0                    1                    0   \n",
      "3                   0                    1                    0   \n",
      "4                   0                    1                    0   \n",
      "\n",
      "   Binary_Assortment_2  \n",
      "0                    0  \n",
      "1                    0  \n",
      "2                    0  \n",
      "3                    0  \n",
      "4                    0  \n",
      "\n",
      "[5 rows x 23 columns]\n"
     ]
    }
   ],
   "source": [
    "columns = ['Sales', 'Customers', 'CompetitionDistance']\n",
    "\n",
    "normalizer = Normalizer()\n",
    "merge_df[columns] = normalizer.fit_transform(merge_df[columns])\n",
    "\n",
    "print(merge_df.head())"
   ]
  },
  {
   "cell_type": "markdown",
   "metadata": {
    "id": "USctlMYh_jnd"
   },
   "source": [
    "### **8. Outliers**\n",
    "\n",
    "1.   Check if there are any outlier\n",
    "2.   Handle outliers\n",
    "\n"
   ]
  },
  {
   "cell_type": "code",
   "execution_count": 77,
   "metadata": {
    "id": "eorpSnNjAXGO"
   },
   "outputs": [
    {
     "data": {
      "image/png": "[encoded data removed]",
      "text/plain": [
       "<Figure size 432x288 with 1 Axes>"
      ]
     },
     "metadata": {
      "needs_background": "light"
     },
     "output_type": "display_data"
    },
    {
     "data": {
      "text/plain": [
       "<Figure size 576x432 with 0 Axes>"
      ]
     },
     "metadata": {},
     "output_type": "display_data"
    }
   ],
   "source": [
    "import matplotlib.pyplot as plt\n",
    "import seaborn as sns\n",
    "\n",
    "sns.boxplot(data=merge_df)\n",
    "plt.figure(figsize = (8,6))\n",
    "plt.show()\n"
   ]
  },
  {
   "cell_type": "code",
   "execution_count": null,
   "metadata": {
    "id": "rYKtCp6iAXLz"
   },
   "outputs": [],
   "source": [
    "from scipy import stats\n",
    "\n",
    "z_scores = stats.zscore(merge_df)\n",
    "threshold = 3\n",
    "outliers = (z_scores > threshold).any(axis=1)\n",
    "\n",
    "df_cleaned = merge_df[outliers]\n"
   ]
  },
  {
   "cell_type": "markdown",
   "metadata": {
    "id": "8QDvZta21_4c"
   },
   "source": [
    "### **9. Check corelation of columns and show which were most relevant**\n",
    "1. Corelation matrix and answer your findings"
   ]
  },
  {
   "cell_type": "code",
   "execution_count": 78,
   "metadata": {},
   "outputs": [
    {
     "data": {
      "image/png": "[encoded data removed]",
      "text/plain": [
       "<Figure size 576x576 with 2 Axes>"
      ]
     },
     "metadata": {
      "needs_background": "light"
     },
     "output_type": "display_data"
    }
   ],
   "source": [
    "import seaborn as sns\n",
    "import matplotlib.pyplot as plt\n",
    "\n",
    "correlation_matrix =merge_df.corr()\n",
    "\n",
    "plt.figure(figsize=(8, 8))\n",
    "sns.heatmap(correlation_matrix, annot=True, cmap='coolwarm', fmt=\".2f\")\n",
    "plt.title('Correlation Matrix')\n",
    "plt.show()\n"
   ]
  },
  {
   "cell_type": "markdown",
   "metadata": {
    "id": "rizymDkWJgtx"
   },
   "source": [
    "### **Rest of the Lab Questions**"
   ]
  },
  {
   "cell_type": "markdown",
   "metadata": {
    "id": "_sGZCHTq4tG9"
   },
   "source": [
    "How many unique stores are in the train_store dataframe, and what are their IDs?"
   ]
  },
  {
   "cell_type": "code",
   "execution_count": 6,
   "metadata": {
    "id": "pyiNe6A1KC7I"
   },
   "outputs": [
    {
     "name": "stdout",
     "output_type": "stream",
     "text": [
      "   unique_store_count                                   unique_store_ids\n",
      "0                1115  1, 2, 3, 4, 5, 6, 7, 8, 9, 10, 11, 12, 13, 14,...\n"
     ]
    }
   ],
   "source": [
    "unique_store_count = merge_df['Store'].nunique()\n",
    "\n",
    "unique_store_ids = ', '.join(map(str, merge_df['Store'].unique()))\n",
    "\n",
    "#Dataframe\n",
    "result_df = pd.DataFrame({'unique_store_count': [unique_store_count], 'unique_store_ids': [unique_store_ids]})\n",
    "\n",
    "print(result_df)"
   ]
  },
  {
   "cell_type": "markdown",
   "metadata": {
    "id": "846pQY-p4usO"
   },
   "source": [
    "What is the average daily sales for each store in the train_store dataframe?"
   ]
  },
  {
   "cell_type": "code",
   "execution_count": 31,
   "metadata": {
    "id": "jgSZQKxsKqky"
   },
   "outputs": [
    {
     "name": "stdout",
     "output_type": "stream",
     "text": [
      "      Store         Sales\n",
      "0         1   3945.704883\n",
      "1         2   4122.991507\n",
      "2         3   5741.253715\n",
      "3         4   8021.769639\n",
      "4         5   3867.110403\n",
      "...     ...           ...\n",
      "1110   1111   4342.968153\n",
      "1111   1112   8465.280255\n",
      "1112   1113   5516.180467\n",
      "1113   1114  17200.196391\n",
      "1114   1115   5225.296178\n",
      "\n",
      "[1115 rows x 2 columns]\n"
     ]
    }
   ],
   "source": [
    "average_daily_sales_result = merge_df.groupby('Store', as_index=False)['Sales'].mean()\n",
    "\n",
    "# Print the result\n",
    "print(average_daily_sales_result)\n"
   ]
  },
  {
   "cell_type": "markdown",
   "metadata": {
    "id": "LEEfHFzK4xNn"
   },
   "source": [
    "How many days of data are included in the train_store dataframe, and what is the range of dates?"
   ]
  },
  {
   "cell_type": "code",
   "execution_count": 52,
   "metadata": {
    "id": "YRzYHpwWKqt2"
   },
   "outputs": [
    {
     "name": "stdout",
     "output_type": "stream",
     "text": [
      "               Date\n",
      "nunique         942\n",
      "min      2013-01-01\n",
      "max      2015-07-31\n"
     ]
    }
   ],
   "source": [
    "no_of_days = merge_df.agg({'Date':['nunique','min','max']}).rename(columns={'nunique':'NUMDAYS','min':'MINDATE','max':'MAXDATE'})\n",
    "print(no_of_days)"
   ]
  },
  {
   "cell_type": "markdown",
   "metadata": {
    "id": "ZrpoXAAS40U9"
   },
   "source": [
    "What is the average sales per customer for each store in the train_store dataframe?"
   ]
  },
  {
   "cell_type": "code",
   "execution_count": 54,
   "metadata": {
    "id": "xGm6QJ5cKrC8"
   },
   "outputs": [
    {
     "name": "stdout",
     "output_type": "stream",
     "text": [
      "      Store  AvgSalesPerCustomer\n",
      "0         1             8.437366\n",
      "1         2             8.482725\n",
      "2         3             9.255808\n",
      "3         4             7.292138\n",
      "4         5             8.702634\n",
      "...     ...                  ...\n",
      "1110   1111            11.626239\n",
      "1111   1112            12.206623\n",
      "1112   1113             9.243499\n",
      "1113   1114             6.456391\n",
      "1114   1115            14.567807\n",
      "\n",
      "[1115 rows x 2 columns]\n"
     ]
    }
   ],
   "source": [
    "average_sales_per_customer_result = merge_df.groupby('Store')['Sales'].sum() / merge_df.groupby('Store')['Customers'].sum()\n",
    "\n",
    "# Reset the index to get a DataFrame\n",
    "average_sales_per_customer_result = average_sales_per_customer_result.reset_index(name='AvgSalesPerCustomer')\n",
    "\n",
    "print(average_sales_per_customer_result)\n"
   ]
  },
  {
   "cell_type": "markdown",
   "metadata": {
    "id": "JvOzgcSB42yq"
   },
   "source": [
    "How many days of the week does each store in the train_store dataframe open and close?"
   ]
  },
  {
   "cell_type": "code",
   "execution_count": 55,
   "metadata": {},
   "outputs": [],
   "source": [
    "import pandasql as psql\n",
    "pysqldf = lambda q: psql.sqldf(q, globals())\n"
   ]
  },
  {
   "cell_type": "code",
   "execution_count": 59,
   "metadata": {
    "id": "igfqniKEK289"
   },
   "outputs": [
    {
     "name": "stdout",
     "output_type": "stream",
     "text": [
      "      Store  OpenDays  ClosedDays\n",
      "0         1       781         161\n",
      "1         2       784         158\n",
      "2         3       779         163\n",
      "3         4       784         158\n",
      "4         5       779         163\n",
      "...     ...       ...         ...\n",
      "1110   1111       779         163\n",
      "1111   1112       779         163\n",
      "1112   1113       784         158\n",
      "1113   1114       784         158\n",
      "1114   1115       781         161\n",
      "\n",
      "[1115 rows x 3 columns]\n"
     ]
    }
   ],
   "source": [
    "store_open_close = \"\"\"\n",
    "    SELECT Store,\n",
    "            SUM(\n",
    "                CASE WHEN Open = 1 THEN 1\n",
    "                ELSE 0\n",
    "                END) AS OpenDays,\n",
    "            SUM(\n",
    "                CASE \n",
    "                    WHEN Open = 0 THEN 1\n",
    "                    ELSE 0 \n",
    "                END) AS ClosedDays\n",
    "    FROM merge_df\n",
    "    GROUP BY Store;\n",
    "\"\"\"\n",
    "open_close_days = pysqldf(store_open_close)\n",
    "print(open_close_days)"
   ]
  },
  {
   "cell_type": "markdown",
   "metadata": {
    "id": "YFJ-RVtW46OW"
   },
   "source": [
    "What is the correlation between the Sales and Customers columns in the train_store dataframe?"
   ]
  },
  {
   "cell_type": "code",
   "execution_count": 63,
   "metadata": {
    "id": "xzi7xiS8K3Bt"
   },
   "outputs": [
    {
     "name": "stdout",
     "output_type": "stream",
     "text": [
      "Correlation between Sales and Customers:  0.8947107733017075\n"
     ]
    }
   ],
   "source": [
    "corr = merge_df['Sales'].corr(merge_df['Customers'])\n",
    "print(\"Correlation between Sales and Customers: \",corr)"
   ]
  },
  {
   "cell_type": "markdown",
   "metadata": {
    "id": "rYgt2gi5LGR-"
   },
   "source": [
    "## <CENTER><h1>CONGRATULATION YOU MADE IT! :D</h1></center>"
   ]
  }
 ],
 "metadata": {
  "colab": {
   "collapsed_sections": [
    "silPBCy5DXjo",
    "VxSB0PhZ_VCr",
    "TnNjS9xR_eIl",
    "E_8r-tTd_hGt",
    "Caq8GK2vAfnd",
    "USctlMYh_jnd",
    "rizymDkWJgtx",
    "gLqQwssgKDts"
   ],
   "provenance": []
  },
  "kernelspec": {
   "display_name": "Python 3 (ipykernel)",
   "language": "python",
   "name": "python3"
  },
  "language_info": {
   "codemirror_mode": {
    "name": "ipython",
    "version": 3
   },
   "file_extension": ".py",
   "mimetype": "text/x-python",
   "name": "python",
   "nbconvert_exporter": "python",
   "pygments_lexer": "ipython3",
   "version": "3.9.12"
  }
 },
 "nbformat": 4,
 "nbformat_minor": 1
}
