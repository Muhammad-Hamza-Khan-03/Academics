{
 "cells": [
  {
   "cell_type": "markdown",
   "id": "bc128df9",
   "metadata": {},
   "source": [
    "# Question 1"
   ]
  },
  {
   "cell_type": "code",
   "execution_count": 10,
   "id": "1619d3fe",
   "metadata": {},
   "outputs": [],
   "source": [
    "import cv2\n",
    "import matplotlib.pyplot as plt\n",
    "import numpy as np"
   ]
  },
  {
   "cell_type": "code",
   "execution_count": 23,
   "id": "a21a9df0",
   "metadata": {},
   "outputs": [],
   "source": [
    "image = cv2.imread('Lenna_(test_image).png',1)"
   ]
  },
  {
   "cell_type": "code",
   "execution_count": 3,
   "id": "b19f6c0e",
   "metadata": {},
   "outputs": [],
   "source": [
    "cv2.namedWindow(\"Input\")\n",
    "cv2.imshow(\"Input\",image)\n",
    "cv2.waitKey(0)\n",
    "cv2.destroyAllWindows()"
   ]
  },
  {
   "cell_type": "code",
   "execution_count": 25,
   "id": "48c95c0a",
   "metadata": {},
   "outputs": [
    {
     "name": "stdout",
     "output_type": "stream",
     "text": [
      "[ 78  68 178]\n"
     ]
    }
   ],
   "source": [
    "px=image[100,100]\n",
    "print(px)"
   ]
  },
  {
   "cell_type": "code",
   "execution_count": 29,
   "id": "0c73e644",
   "metadata": {},
   "outputs": [],
   "source": [
    "greyscaleimage = ((0.3*image[:,:,2])+(0.59*image[:,:,1])+(0.11*image[:,:,0])).astype('uint8')"
   ]
  },
  {
   "cell_type": "code",
   "execution_count": 30,
   "id": "7f8235a6",
   "metadata": {},
   "outputs": [
    {
     "data": {
      "text/plain": [
       "(512, 512, 3)"
      ]
     },
     "execution_count": 30,
     "metadata": {},
     "output_type": "execute_result"
    }
   ],
   "source": [
    "np.shape(image)"
   ]
  },
  {
   "cell_type": "code",
   "execution_count": 33,
   "id": "cbf35bb5",
   "metadata": {},
   "outputs": [
    {
     "data": {
      "text/plain": [
       "(512, 512)"
      ]
     },
     "execution_count": 33,
     "metadata": {},
     "output_type": "execute_result"
    }
   ],
   "source": [
    "np.shape(greyscaleimage)"
   ]
  },
  {
   "cell_type": "code",
   "execution_count": 32,
   "id": "7eab2ae4",
   "metadata": {},
   "outputs": [],
   "source": [
    "cv2.namedWindow(\"Input\")\n",
    "cv2.imshow(\"Input\",greyscaleimage)\n",
    "cv2.waitKey(0)\n",
    "cv2.destroyAllWindows()"
   ]
  },
  {
   "cell_type": "markdown",
   "id": "12e7063b",
   "metadata": {},
   "source": [
    "# Question 2"
   ]
  },
  {
   "cell_type": "code",
   "execution_count": 34,
   "id": "a77afb9e",
   "metadata": {},
   "outputs": [],
   "source": [
    "import json"
   ]
  },
  {
   "cell_type": "code",
   "execution_count": 39,
   "id": "7b4a7c1d",
   "metadata": {},
   "outputs": [],
   "source": [
    "json_save_img = greyscaleimage.tolist()\n",
    "json.dumps(json_save_img)\n",
    "with open(\"file.json\", \"w\") as outfile:\n",
    "    json.dump(json_save_img, outfile)"
   ]
  },
  {
   "cell_type": "markdown",
   "id": "d3eaadb4",
   "metadata": {},
   "source": [
    "# Question 3"
   ]
  },
  {
   "cell_type": "code",
   "execution_count": 60,
   "id": "762dde9b",
   "metadata": {},
   "outputs": [],
   "source": [
    "def make_histogram(image,size):\n",
    "    #np.array()\n",
    "    #my_array = np.zeros(size)\n",
    "    #for i in range(0,size[0]):\n",
    "    #    for j in range(0,size[0]-1):\n",
    "    #        if i == image[i][j]:\n",
    "    #            arr[i]+=1\n",
    "    \n",
    "    return size[0][0]\n"
   ]
  },
  {
   "cell_type": "code",
   "execution_count": null,
   "id": "4673732f",
   "metadata": {},
   "outputs": [],
   "source": [
    "image_path = 'einstein1.jpg'\n",
    "einstien_jpg = cv2.imread(image_path,1)\n",
    "print(einstien_jpg)\n",
    "#im = make_histogram(einstien_jpg,np.shape(einstien_jpg))"
   ]
  },
  {
   "cell_type": "code",
   "execution_count": null,
   "id": "aebc055b",
   "metadata": {},
   "outputs": [],
   "source": []
  }
 ],
 "metadata": {
  "kernelspec": {
   "display_name": "Python 3 (ipykernel)",
   "language": "python",
   "name": "python3"
  },
  "language_info": {
   "codemirror_mode": {
    "name": "ipython",
    "version": 3
   },
   "file_extension": ".py",
   "mimetype": "text/x-python",
   "name": "python",
   "nbconvert_exporter": "python",
   "pygments_lexer": "ipython3",
   "version": "3.9.12"
  }
 },
 "nbformat": 4,
 "nbformat_minor": 5
}
