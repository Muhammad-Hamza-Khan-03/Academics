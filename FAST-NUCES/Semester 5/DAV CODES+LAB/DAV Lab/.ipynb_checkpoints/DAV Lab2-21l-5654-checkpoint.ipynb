{
 "cells": [
  {
   "cell_type": "markdown",
   "id": "6b4ab0bb",
   "metadata": {},
   "source": [
    "# Roll Number: 21l-5654\n",
    "# LAB#2"
   ]
  },
  {
   "cell_type": "code",
   "execution_count": 2,
   "id": "95e6dffd",
   "metadata": {},
   "outputs": [],
   "source": [
    "import selenium\n",
    "from selenium import webdriver\n",
    "from selenium.webdriver.chrome.service import Service\n",
    "from selenium.webdriver.common.by import By\n",
    "from selenium.webdriver.common.keys import Keys\n",
    "from bs4 import BeautifulSoup\n",
    "import pandas as pd\n",
    "import time\n",
    "import requests\n",
    "import re\n",
    "from selenium.webdriver.support.ui import WebDriverWait\n",
    "from selenium.webdriver.support import expected_conditions as EC\n"
   ]
  },
  {
   "cell_type": "code",
   "execution_count": 3,
   "id": "457ffd8d",
   "metadata": {},
   "outputs": [],
   "source": [
    "s = Service(\"C:/Users/Hamza/Desktop/5th sem/DAV/chromedriver-win64/chromedriver.exe\")\n",
    "driver = webdriver.Chrome(service = s)"
   ]
  },
  {
   "cell_type": "markdown",
   "id": "c85c2e65",
   "metadata": {},
   "source": [
    "# URL PATH"
   ]
  },
  {
   "cell_type": "code",
   "execution_count": 32,
   "id": "37487747",
   "metadata": {},
   "outputs": [],
   "source": [
    "urlPath = 'https://www.youtube.com/channel/UCgyMIMxCZhZIZz6UzldPPFg/videos'\n",
    "driver.get(urlPath)"
   ]
  },
  {
   "cell_type": "markdown",
   "id": "1b52218e",
   "metadata": {},
   "source": [
    "# Processing"
   ]
  },
  {
   "cell_type": "markdown",
   "id": "06a8be91",
   "metadata": {},
   "source": [
    "## 1.scrolling the page"
   ]
  },
  {
   "cell_type": "code",
   "execution_count": 33,
   "id": "347fedb4",
   "metadata": {},
   "outputs": [
    {
     "name": "stdout",
     "output_type": "stream",
     "text": [
      "3047\n",
      "5662\n",
      "8257\n",
      "10791\n",
      "13306\n",
      "14999\n"
     ]
    }
   ],
   "source": [
    "while True:\n",
    "    height = driver.execute_script(\"return document.documentElement.scrollHeight\")\n",
    "    print(height)\n",
    "    driver.execute_script(\"window.scrollTo(0,document.documentElement.scrollHeight)\")\n",
    "    time.sleep(3)\n",
    "    h2 = driver.execute_script(\"return document.documentElement.scrollHeight\")\n",
    "\n",
    "    if height == h2:\n",
    "        break"
   ]
  },
  {
   "cell_type": "markdown",
   "id": "2298a7d2",
   "metadata": {},
   "source": [
    "## 2.Selecting all the videos"
   ]
  },
  {
   "cell_type": "code",
   "execution_count": 34,
   "id": "66c78f4a",
   "metadata": {},
   "outputs": [],
   "source": [
    "videos = driver.find_elements(By.ID,'contents')"
   ]
  },
  {
   "cell_type": "markdown",
   "id": "6a057001",
   "metadata": {},
   "source": [
    "## initialize lists to store data"
   ]
  },
  {
   "cell_type": "code",
   "execution_count": 136,
   "id": "2af65b28",
   "metadata": {},
   "outputs": [],
   "source": [
    "v_titles=[]\n",
    "views=[]\n",
    "post_time=[]\n",
    "vid_time=[]\n",
    "links=[]"
   ]
  },
  {
   "cell_type": "code",
   "execution_count": 137,
   "id": "0fea4f61",
   "metadata": {},
   "outputs": [],
   "source": [
    "video_titles = driver.find_elements(By.ID,'video-title-link')\n",
    "video_views = driver.find_elements(By.XPATH,'//*[@id=\"metadata-line\"]/span[1]')\n",
    "video_posted_time = driver.find_elements(By.XPATH,'//*[@id=\"metadata-line\"]/span[2]') \n",
    "video_time = driver.find_elements(By.XPATH,'//*[@id=\"time-status\"]')"
   ]
  },
  {
   "cell_type": "markdown",
   "id": "d250af33",
   "metadata": {},
   "source": [
    "## Append in lists"
   ]
  },
  {
   "cell_type": "code",
   "execution_count": 138,
   "id": "883c9be3",
   "metadata": {},
   "outputs": [],
   "source": [
    "for v in video_titles:\n",
    "    links.append(v.get_attribute('href'))\n",
    "for title in video_titles:\n",
    "    v_titles.append(title.text)"
   ]
  },
  {
   "cell_type": "code",
   "execution_count": 139,
   "id": "14e54b57",
   "metadata": {},
   "outputs": [],
   "source": [
    "for v in video_views:\n",
    "    views.append(v.text)"
   ]
  },
  {
   "cell_type": "code",
   "execution_count": 140,
   "id": "1c0a9e64",
   "metadata": {},
   "outputs": [],
   "source": [
    "for v in video_posted_time:\n",
    "    post_time.append(v.text)"
   ]
  },
  {
   "cell_type": "code",
   "execution_count": 141,
   "id": "cc18952b",
   "metadata": {},
   "outputs": [],
   "source": [
    "for v in video_time:\n",
    "    vid_time.append(v.text.strip())"
   ]
  },
  {
   "cell_type": "code",
   "execution_count": 142,
   "id": "be1d22d8",
   "metadata": {},
   "outputs": [
    {
     "name": "stdout",
     "output_type": "stream",
     "text": [
      "['5:05', '5:04', '5:06', '5:00', '5:01', '4:43', '10:00', '7:41', '9:16', '8:41', '9:56', '9:43', '9:11', '9:09', '9:41', '9:39', '9:46', '10:00', '5:54', '6:42', '1:08:26', '29:27', '2:23', '3:04', '3:53', '3:02', '3:22', '4:35', '3:35', '3:04', '3:20', '4:32', '4:28', '4:55', '3:49', '5:01', '4:35', '11:28', '5:47', '10:31', '10:58', '6:21', '5:21', '13:27', '5:47', '5:59', '7:13', '8:05', '6:10', '8:01', '7:47', '7:43', '20:18', '30:28', '34:26', '17:02', '1:13:53', '2:02', '3:14', '6:19', '1:20:23', '9:46', '10:00', '9:55', '9:26', '6:05', '6:40', '8:40', '9:49', '8:38', '6:52', '9:56', '9:58', '9:30', '9:39', '9:46', '10:00', '6:24', '8:16', '10:01', '10:00', '9:49', '9:30', '9:43', '8:44', '9:32', '6:37', '9:57', '9:49', '9:20', '5:46', '6:40', '10:00', '6:24', '9:08', '10:00', '9:54', '10:00', '16:50', '7:11', '16:50', '32:30', '15:11', '4:55', '10:00', '10:00', '8:34', '6:37', '7:35', '4:26', '7:15', '18:51', '7:48', '7:20', '7:52', '10:00', '4:56', '9:58', '9:17', '9:49', '9:37', '4:12', '5:50', '4:43', '6:32', '5:26', '10:00', '9:59', '4:15', '9:44', '9:56', '6:40', '10:00', '6:27', '5:05', '10:00', '10:00', '6:57', '23:09', '10:00', '6:48', '8:24', '5:33', '9:08', '9:31', '4:37', '9:59', '10:01', '6:38', '9:26', '9:59', '8:30', '3:32', '9:32', '10:45', '13:27', '17:25', '4:23', '4:22', '3:58', '4:14', '4:52', '7:56', '6:07', '4:56', '6:17', '4:45', '6:59', '9:05', '10:01', '10:00']\n"
     ]
    }
   ],
   "source": [
    "#vid_time_numeric = [item for item in vid_time if item != '']\n",
    "vid_time_numeric=[]\n",
    "for i in vid_time:\n",
    "    if i!='':\n",
    "        vid_time_numeric.append(i)\n",
    "print(vid_time_numeric)"
   ]
  },
  {
   "cell_type": "code",
   "execution_count": 143,
   "id": "b7ba5460",
   "metadata": {},
   "outputs": [
    {
     "data": {
      "text/plain": [
       "171"
      ]
     },
     "execution_count": 143,
     "metadata": {},
     "output_type": "execute_result"
    }
   ],
   "source": [
    "len(vid_time_numeric)"
   ]
  },
  {
   "cell_type": "code",
   "execution_count": 51,
   "id": "85b82b7f",
   "metadata": {},
   "outputs": [],
   "source": [
    "#search = driver.find_element(By.NAME,'query')"
   ]
  },
  {
   "cell_type": "code",
   "execution_count": 54,
   "id": "95a71556",
   "metadata": {},
   "outputs": [],
   "source": [
    "#search.send_keys(\"perceptron\")\n",
    "#search.send_keys(Keys.RETURN)"
   ]
  },
  {
   "cell_type": "markdown",
   "id": "8b8ea992",
   "metadata": {},
   "source": [
    "## DataFrame"
   ]
  },
  {
   "cell_type": "code",
   "execution_count": 144,
   "id": "d4077f00",
   "metadata": {},
   "outputs": [],
   "source": [
    "titles_dataframe=['Title','Views','Time_posted','Link','Video_time']\n",
    "df = pd.DataFrame(columns = titles_dataframe)"
   ]
  },
  {
   "cell_type": "code",
   "execution_count": 145,
   "id": "481ac609",
   "metadata": {},
   "outputs": [
    {
     "data": {
      "text/html": [
       "<div>\n",
       "<style scoped>\n",
       "    .dataframe tbody tr th:only-of-type {\n",
       "        vertical-align: middle;\n",
       "    }\n",
       "\n",
       "    .dataframe tbody tr th {\n",
       "        vertical-align: top;\n",
       "    }\n",
       "\n",
       "    .dataframe thead th {\n",
       "        text-align: right;\n",
       "    }\n",
       "</style>\n",
       "<table border=\"1\" class=\"dataframe\">\n",
       "  <thead>\n",
       "    <tr style=\"text-align: right;\">\n",
       "      <th></th>\n",
       "      <th>Title</th>\n",
       "      <th>Views</th>\n",
       "      <th>Time_posted</th>\n",
       "      <th>Link</th>\n",
       "      <th>Video_time</th>\n",
       "    </tr>\n",
       "  </thead>\n",
       "  <tbody>\n",
       "  </tbody>\n",
       "</table>\n",
       "</div>"
      ],
      "text/plain": [
       "Empty DataFrame\n",
       "Columns: [Title, Views, Time_posted, Link, Video_time]\n",
       "Index: []"
      ]
     },
     "execution_count": 145,
     "metadata": {},
     "output_type": "execute_result"
    }
   ],
   "source": [
    "df"
   ]
  },
  {
   "cell_type": "code",
   "execution_count": 147,
   "id": "28fb373d",
   "metadata": {},
   "outputs": [],
   "source": [
    "df['Title']=v_titles\n",
    "df['Views']=views\n",
    "df['Time_posted']=post_time\n",
    "df['Link']=links\n",
    "df['Video_time']=vid_time_numeric"
   ]
  },
  {
   "cell_type": "code",
   "execution_count": 148,
   "id": "03fb4355",
   "metadata": {},
   "outputs": [
    {
     "data": {
      "text/html": [
       "<div>\n",
       "<style scoped>\n",
       "    .dataframe tbody tr th:only-of-type {\n",
       "        vertical-align: middle;\n",
       "    }\n",
       "\n",
       "    .dataframe tbody tr th {\n",
       "        vertical-align: top;\n",
       "    }\n",
       "\n",
       "    .dataframe thead th {\n",
       "        text-align: right;\n",
       "    }\n",
       "</style>\n",
       "<table border=\"1\" class=\"dataframe\">\n",
       "  <thead>\n",
       "    <tr style=\"text-align: right;\">\n",
       "      <th></th>\n",
       "      <th>Title</th>\n",
       "      <th>Views</th>\n",
       "      <th>Time_posted</th>\n",
       "      <th>Link</th>\n",
       "      <th>Video_time</th>\n",
       "    </tr>\n",
       "  </thead>\n",
       "  <tbody>\n",
       "    <tr>\n",
       "      <th>0</th>\n",
       "      <td>Perceptron Learning Rule on a complete AND Gat...</td>\n",
       "      <td>15 views</td>\n",
       "      <td>2 months ago</td>\n",
       "      <td>https://www.youtube.com/watch?v=k6O6e4vMleg</td>\n",
       "      <td>5:05</td>\n",
       "    </tr>\n",
       "    <tr>\n",
       "      <th>1</th>\n",
       "      <td>Perceptron Learning Rule Part 2</td>\n",
       "      <td>6 views</td>\n",
       "      <td>2 months ago</td>\n",
       "      <td>https://www.youtube.com/watch?v=mO8nTYNeS9k</td>\n",
       "      <td>5:04</td>\n",
       "    </tr>\n",
       "    <tr>\n",
       "      <th>2</th>\n",
       "      <td>Perceptron Learning Rule Part 1</td>\n",
       "      <td>15 views</td>\n",
       "      <td>2 months ago</td>\n",
       "      <td>https://www.youtube.com/watch?v=Q_AkoUyR980</td>\n",
       "      <td>5:06</td>\n",
       "    </tr>\n",
       "    <tr>\n",
       "      <th>3</th>\n",
       "      <td>Guessing Weights and Bias on Simple Perceptron...</td>\n",
       "      <td>8 views</td>\n",
       "      <td>2 months ago</td>\n",
       "      <td>https://www.youtube.com/watch?v=ZWxpQ4mhZ_w</td>\n",
       "      <td>5:00</td>\n",
       "    </tr>\n",
       "    <tr>\n",
       "      <th>4</th>\n",
       "      <td>Guessing Weights and Bias on Simple Perceptron...</td>\n",
       "      <td>11 views</td>\n",
       "      <td>2 months ago</td>\n",
       "      <td>https://www.youtube.com/watch?v=Qa0oelon03c</td>\n",
       "      <td>5:01</td>\n",
       "    </tr>\n",
       "  </tbody>\n",
       "</table>\n",
       "</div>"
      ],
      "text/plain": [
       "                                               Title     Views   Time_posted  \\\n",
       "0  Perceptron Learning Rule on a complete AND Gat...  15 views  2 months ago   \n",
       "1                    Perceptron Learning Rule Part 2   6 views  2 months ago   \n",
       "2                    Perceptron Learning Rule Part 1  15 views  2 months ago   \n",
       "3  Guessing Weights and Bias on Simple Perceptron...   8 views  2 months ago   \n",
       "4  Guessing Weights and Bias on Simple Perceptron...  11 views  2 months ago   \n",
       "\n",
       "                                          Link Video_time  \n",
       "0  https://www.youtube.com/watch?v=k6O6e4vMleg       5:05  \n",
       "1  https://www.youtube.com/watch?v=mO8nTYNeS9k       5:04  \n",
       "2  https://www.youtube.com/watch?v=Q_AkoUyR980       5:06  \n",
       "3  https://www.youtube.com/watch?v=ZWxpQ4mhZ_w       5:00  \n",
       "4  https://www.youtube.com/watch?v=Qa0oelon03c       5:01  "
      ]
     },
     "execution_count": 148,
     "metadata": {},
     "output_type": "execute_result"
    }
   ],
   "source": [
    "df.head()"
   ]
  },
  {
   "cell_type": "code",
   "execution_count": 151,
   "id": "f073689b",
   "metadata": {},
   "outputs": [],
   "source": [
    "df.to_csv('Youtube_data 21l-5654.xlsx')"
   ]
  },
  {
   "cell_type": "code",
   "execution_count": 152,
   "id": "d19f9149",
   "metadata": {},
   "outputs": [],
   "source": [
    "driver.quit()"
   ]
  },
  {
   "cell_type": "code",
   "execution_count": null,
   "id": "e4fed79f",
   "metadata": {},
   "outputs": [],
   "source": []
  }
 ],
 "metadata": {
  "kernelspec": {
   "display_name": "Python 3 (ipykernel)",
   "language": "python",
   "name": "python3"
  },
  "language_info": {
   "codemirror_mode": {
    "name": "ipython",
    "version": 3
   },
   "file_extension": ".py",
   "mimetype": "text/x-python",
   "name": "python",
   "nbconvert_exporter": "python",
   "pygments_lexer": "ipython3",
   "version": "3.9.12"
  }
 },
 "nbformat": 4,
 "nbformat_minor": 5
}
