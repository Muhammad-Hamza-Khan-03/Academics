{
 "cells": [
  {
   "cell_type": "markdown",
   "metadata": {},
   "source": [
    "# Naive Baye from Scratch"
   ]
  },
  {
   "cell_type": "code",
   "execution_count": 17,
   "metadata": {
    "id": "QXOq9yWPhnwx",
    "tags": []
   },
   "outputs": [],
   "source": [
    "import re\n",
    "import string\n",
    "from math import log\n",
    "from functools import reduce\n",
    "from pathlib import Path\n",
    "import itertools\n",
    "import pandas as pd\n",
    "from collections import Counter\n",
    "import matplotlib.pyplot as plt\n",
    "from sklearn.metrics import accuracy_score, precision_score, recall_score, confusion_matrix\n",
    "from sklearn.model_selection import train_test_split\n",
    "from sklearn.preprocessing import LabelEncoder\n"
   ]
  },
  {
   "cell_type": "code",
   "execution_count": 2,
   "metadata": {
    "id": "2hqHaSiUp0zt",
    "scrolled": true
   },
   "outputs": [],
   "source": [
    "\n",
    "column_names = [\n",
    "    \"age\", \"workclass\", \"fnlwgt\", \"education\", \"education_num\", \"marital_status\",\n",
    "    \"occupation\", \"relationship\", \"race\", \"sex\", \"capital_gain\", \"capital_loss\",\n",
    "    \"hours_per_week\", \"native_country\", \"income\"\n",
    "]\n",
    "data = pd.read_csv(\"adult/adult.data\", names=column_names, na_values=\" ?\")\n",
    "data.dropna(inplace=True)\n",
    "\n",
    "with open(\"adult/adult.test\", \"r\") as test_file:\n",
    "    test_data = [line.strip() for line in test_file.readlines()]\n",
    "test_df = pd.DataFrame([line.split(\", \") for line in test_data], columns=column_names)\n",
    "test_df['income'] = test_df['income'].str.replace('.', '')\n"
   ]
  },
  {
   "cell_type": "code",
   "execution_count": 3,
   "metadata": {},
   "outputs": [
    {
     "name": "stdout",
     "output_type": "stream",
     "text": [
      "There are 9 categorical variables\n",
      "\n",
      "The categorical variables are :\n",
      "\n",
      " ['workclass', 'education', 'marital_status', 'occupation', 'relationship', 'race', 'sex', 'native_country', 'income']\n"
     ]
    }
   ],
   "source": [
    "categorical = [var for var in data.columns if data[var].dtype=='O']\n",
    "\n",
    "print('There are {} categorical variables\\n'.format(len(categorical)))\n",
    "\n",
    "print('The categorical variables are :\\n\\n', categorical)"
   ]
  },
  {
   "cell_type": "code",
   "execution_count": 4,
   "metadata": {},
   "outputs": [
    {
     "data": {
      "text/plain": [
       "workclass         0\n",
       "education         0\n",
       "marital_status    0\n",
       "occupation        0\n",
       "relationship      0\n",
       "race              0\n",
       "sex               0\n",
       "native_country    0\n",
       "income            0\n",
       "dtype: int64"
      ]
     },
     "execution_count": 4,
     "metadata": {},
     "output_type": "execute_result"
    }
   ],
   "source": [
    "data[categorical].isnull().sum()"
   ]
  },
  {
   "cell_type": "code",
   "execution_count": 5,
   "metadata": {},
   "outputs": [],
   "source": [
    "X = data.drop(['income'], axis=1)\n",
    "\n",
    "y = data['income']"
   ]
  },
  {
   "cell_type": "code",
   "execution_count": 6,
   "metadata": {},
   "outputs": [],
   "source": [
    "from sklearn.model_selection import train_test_split\n",
    "X_train, X_test, y_train, y_test = train_test_split(X, y, test_size = 0.2, random_state = 0)"
   ]
  },
  {
   "cell_type": "code",
   "execution_count": 7,
   "metadata": {},
   "outputs": [],
   "source": [
    "import category_encoders as ce"
   ]
  },
  {
   "cell_type": "code",
   "execution_count": 8,
   "metadata": {},
   "outputs": [],
   "source": [
    "encoder = ce.OneHotEncoder(cols=['workclass', 'education', 'marital_status', 'occupation', 'relationship', \n",
    "                                 'race', 'sex', 'native_country'])\n",
    "X_train = encoder.fit_transform(X_train)\n",
    "X_test = encoder.transform(X_test)"
   ]
  },
  {
   "cell_type": "code",
   "execution_count": 9,
   "metadata": {},
   "outputs": [
    {
     "name": "stdout",
     "output_type": "stream",
     "text": [
      "       age  workclass_1  workclass_2  workclass_3  workclass_4  workclass_5  \\\n",
      "30461   34            1            0            0            0            0   \n",
      "18186   51            1            0            0            0            0   \n",
      "24974   50            1            0            0            0            0   \n",
      "25659   52            0            1            0            0            0   \n",
      "13876   31            1            0            0            0            0   \n",
      "...    ...          ...          ...          ...          ...          ...   \n",
      "14169   66            0            0            1            0            0   \n",
      "21206   50            1            0            0            0            0   \n",
      "10646   50            1            0            0            0            0   \n",
      "11687   49            0            1            0            0            0   \n",
      "2976    34            1            0            0            0            0   \n",
      "\n",
      "       workclass_6  workclass_7  fnlwgt  education_1  ...  native_country_32  \\\n",
      "30461            0            0  185216            1  ...                  0   \n",
      "18186            0            0   95128            0  ...                  0   \n",
      "24974            0            0  280278            0  ...                  0   \n",
      "25659            0            0   40200            1  ...                  0   \n",
      "13876            0            0   49325            0  ...                  0   \n",
      "...            ...          ...     ...          ...  ...                ...   \n",
      "14169            0            0  376506            0  ...                  0   \n",
      "21206            0            0  158680            0  ...                  0   \n",
      "10646            0            0   72351            0  ...                  0   \n",
      "11687            0            0  263568            0  ...                  0   \n",
      "2976             0            0  182177            0  ...                  0   \n",
      "\n",
      "       native_country_33  native_country_34  native_country_35  \\\n",
      "30461                  0                  0                  0   \n",
      "18186                  0                  0                  0   \n",
      "24974                  0                  0                  0   \n",
      "25659                  0                  0                  0   \n",
      "13876                  0                  0                  0   \n",
      "...                  ...                ...                ...   \n",
      "14169                  0                  0                  0   \n",
      "21206                  0                  0                  0   \n",
      "10646                  0                  0                  0   \n",
      "11687                  0                  0                  0   \n",
      "2976                   0                  0                  0   \n",
      "\n",
      "       native_country_36  native_country_37  native_country_38  \\\n",
      "30461                  0                  0                  0   \n",
      "18186                  0                  0                  0   \n",
      "24974                  0                  0                  0   \n",
      "25659                  0                  0                  0   \n",
      "13876                  0                  0                  0   \n",
      "...                  ...                ...                ...   \n",
      "14169                  0                  0                  0   \n",
      "21206                  0                  0                  0   \n",
      "10646                  0                  0                  0   \n",
      "11687                  0                  0                  0   \n",
      "2976                   0                  0                  0   \n",
      "\n",
      "       native_country_39  native_country_40  native_country_41  \n",
      "30461                  0                  0                  0  \n",
      "18186                  0                  0                  0  \n",
      "24974                  0                  0                  0  \n",
      "25659                  0                  0                  0  \n",
      "13876                  0                  0                  0  \n",
      "...                  ...                ...                ...  \n",
      "14169                  0                  0                  0  \n",
      "21206                  0                  0                  0  \n",
      "10646                  0                  0                  0  \n",
      "11687                  0                  0                  0  \n",
      "2976                   0                  0                  0  \n",
      "\n",
      "[24129 rows x 104 columns]\n"
     ]
    }
   ],
   "source": [
    "print(X_train)"
   ]
  },
  {
   "cell_type": "code",
   "execution_count": 10,
   "metadata": {
    "scrolled": true
   },
   "outputs": [],
   "source": [
    "import numpy as np\n",
    "\n",
    "# Calculate prior probabilities for each class\n",
    "def calc_prior(y):\n",
    "    class_counts = y.value_counts()\n",
    "    prior_prob = class_counts / len(y)\n",
    "    return prior_prob\n",
    "\n"
   ]
  },
  {
   "cell_type": "code",
   "execution_count": 11,
   "metadata": {},
   "outputs": [],
   "source": [
    "# Calculate likelihood using Laplace smoothing\n",
    "def calc_likelihood(X, y, feature, value, alpha=1):\n",
    "    total_samples = len(y)\n",
    "    class_counts = y.value_counts()\n",
    "    feature_counts = X[y == value][feature].sum()\n",
    "    class_feature_counts = X[y == value][feature].sum()\n",
    "    likelihood = (feature_counts + alpha) / (class_feature_counts + alpha * 2)\n",
    "    \n",
    "    return likelihood\n"
   ]
  },
  {
   "cell_type": "code",
   "execution_count": 12,
   "metadata": {},
   "outputs": [],
   "source": [
    "\n",
    "# Calculate posterior probabilities for each class\n",
    "def calc_posterior(X, y, prior_prob, likelihoods):\n",
    "    unique_classes = y.unique()\n",
    "    posteriors = {}\n",
    "    \n",
    "    for class_label in unique_classes:\n",
    "        posterior = np.log(prior_prob[class_label])\n",
    "        \n",
    "        for feature in X.columns:\n",
    "            posterior += np.log(likelihoods[feature][class_label])\n",
    "        \n",
    "        posteriors[class_label] = posterior\n",
    "    \n",
    "    return posteriors\n"
   ]
  },
  {
   "cell_type": "code",
   "execution_count": 13,
   "metadata": {},
   "outputs": [],
   "source": [
    "def predict(X, y, prior_prob, likelihoods):\n",
    "    predicted_labels = []\n",
    "    \n",
    "    for idx, row in X.iterrows():\n",
    "        posteriors = calc_posterior(X, y, prior_prob, likelihoods)\n",
    "        predicted_label = max(posteriors, key=posteriors.get)\n",
    "        predicted_labels.append(predicted_label)\n",
    "    \n",
    "    return predicted_labels"
   ]
  },
  {
   "cell_type": "code",
   "execution_count": 14,
   "metadata": {},
   "outputs": [],
   "source": [
    "# Calculate accuracy score\n",
    "def accuracy(y_true, y_pred):\n",
    "    return accuracy_score(y_true, y_pred)"
   ]
  },
  {
   "cell_type": "code",
   "execution_count": 25,
   "metadata": {},
   "outputs": [
    {
     "name": "stdout",
     "output_type": "stream",
     "text": [
      "Accuracy: 0.7512017238521466\n",
      "Precision: 0.7512017238521466\n",
      "Recall: 1.0\n",
      "Confusion Matrix:\n",
      " [[4532    0]\n",
      " [1501    0]]\n"
     ]
    }
   ],
   "source": [
    "# Calculate prior probabilities and likelihoods\n",
    "prior_prob = calc_prior(y_train)\n",
    "likelihoods = {}\n",
    "\n",
    "for feature in X_train.columns:\n",
    "    likelihoods[feature] = {}\n",
    "    for class_label in y_train.unique():\n",
    "        likelihoods[feature][class_label] = calc_likelihood(X_train, y_train, feature, 1)\n",
    "\n",
    "# Make predictions\n",
    "y_pred = predict(X_test, y_train, prior_prob, likelihoods)\n",
    "\n",
    "accuracy_value = accuracy_score(y_test, y_pred)\n",
    "precision = precision_score(y_test, y_pred, pos_label=' <=50K',zero_division=1)\n",
    "recall = recall_score(y_test, y_pred, pos_label=' <=50K',zero_division=1)\n",
    "confusion_matrix_result = confusion_matrix(y_test, y_pred)\n",
    "\n",
    "print(\"Accuracy:\", accuracy_value)\n",
    "print(\"Precision:\", precision)\n",
    "print(\"Recall:\", recall)\n",
    "print(\"Confusion Matrix:\\n\", confusion_matrix_result)\n"
   ]
  },
  {
   "cell_type": "code",
   "execution_count": null,
   "metadata": {},
   "outputs": [],
   "source": []
  }
 ],
 "metadata": {
  "colab": {
   "provenance": []
  },
  "kernelspec": {
   "display_name": "Python 3 (ipykernel)",
   "language": "python",
   "name": "python3"
  },
  "language_info": {
   "codemirror_mode": {
    "name": "ipython",
    "version": 3
   },
   "file_extension": ".py",
   "mimetype": "text/x-python",
   "name": "python",
   "nbconvert_exporter": "python",
   "pygments_lexer": "ipython3",
   "version": "3.9.16"
  }
 },
 "nbformat": 4,
 "nbformat_minor": 4
}
