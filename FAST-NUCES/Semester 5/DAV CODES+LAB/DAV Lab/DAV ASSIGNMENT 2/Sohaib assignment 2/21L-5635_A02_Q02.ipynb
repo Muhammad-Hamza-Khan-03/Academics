{
 "cells": [
  {
   "cell_type": "code",
   "execution_count": 2,
   "id": "b1a98f85-2255-4f03-9a3a-99e9b4b04bd1",
   "metadata": {
    "tags": []
   },
   "outputs": [
    {
     "name": "stdout",
     "output_type": "stream",
     "text": [
      "Defaulting to user installation because normal site-packages is not writeable\n",
      "Requirement already satisfied: wordcloud in c:\\users\\hp\\appdata\\roaming\\python\\python39\\site-packages (1.9.2)\n",
      "Requirement already satisfied: numpy>=1.6.1 in c:\\programdata\\anaconda3\\lib\\site-packages (from wordcloud) (1.24.3)\n",
      "Requirement already satisfied: pillow in c:\\programdata\\anaconda3\\lib\\site-packages (from wordcloud) (9.4.0)\n",
      "Requirement already satisfied: matplotlib in c:\\programdata\\anaconda3\\lib\\site-packages (from wordcloud) (3.7.2)\n",
      "Requirement already satisfied: contourpy>=1.0.1 in c:\\programdata\\anaconda3\\lib\\site-packages (from matplotlib->wordcloud) (1.0.5)\n",
      "Requirement already satisfied: cycler>=0.10 in c:\\programdata\\anaconda3\\lib\\site-packages (from matplotlib->wordcloud) (0.11.0)\n",
      "Requirement already satisfied: fonttools>=4.22.0 in c:\\programdata\\anaconda3\\lib\\site-packages (from matplotlib->wordcloud) (4.25.0)\n",
      "Requirement already satisfied: kiwisolver>=1.0.1 in c:\\programdata\\anaconda3\\lib\\site-packages (from matplotlib->wordcloud) (1.4.4)\n",
      "Requirement already satisfied: packaging>=20.0 in c:\\programdata\\anaconda3\\lib\\site-packages (from matplotlib->wordcloud) (23.1)\n",
      "Requirement already satisfied: pyparsing<3.1,>=2.3.1 in c:\\programdata\\anaconda3\\lib\\site-packages (from matplotlib->wordcloud) (3.0.9)\n",
      "Requirement already satisfied: python-dateutil>=2.7 in c:\\programdata\\anaconda3\\lib\\site-packages (from matplotlib->wordcloud) (2.8.2)\n",
      "Requirement already satisfied: importlib-resources>=3.2.0 in c:\\programdata\\anaconda3\\lib\\site-packages (from matplotlib->wordcloud) (5.2.0)\n",
      "Requirement already satisfied: zipp>=3.1.0 in c:\\programdata\\anaconda3\\lib\\site-packages (from importlib-resources>=3.2.0->matplotlib->wordcloud) (3.11.0)\n",
      "Requirement already satisfied: six>=1.5 in c:\\programdata\\anaconda3\\lib\\site-packages (from python-dateutil>=2.7->matplotlib->wordcloud) (1.16.0)\n",
      "Note: you may need to restart the kernel to use updated packages.\n"
     ]
    }
   ],
   "source": [
    "pip install wordcloud"
   ]
  },
  {
   "cell_type": "code",
   "execution_count": 3,
   "id": "cb3e2970-e6c4-4789-b5aa-043b2d3f4a49",
   "metadata": {
    "tags": []
   },
   "outputs": [],
   "source": [
    "import re\n",
    "import string\n",
    "import numpy as np\n",
    "import pandas as pd\n",
    "import seaborn as sns\n",
    "from wordcloud import WordCloud\n",
    "import matplotlib.pyplot as plt\n",
    "from nltk.stem import WordNetLemmatizer\n",
    "from sklearn.svm import LinearSVC\n",
    "from sklearn.naive_bayes import BernoulliNB\n",
    "from sklearn.metrics import confusion_matrix\n",
    "from sklearn.linear_model import LogisticRegression\n",
    "from sklearn.model_selection import train_test_split\n",
    "from sklearn.feature_extraction.text import TfidfVectorizer\n",
    "from sklearn.metrics import confusion_matrix, classification_report\n",
    "from sklearn.model_selection import train_test_split\n",
    "from sklearn.feature_extraction.text import CountVectorizer\n",
    "from sklearn.linear_model import LogisticRegression\n",
    "from sklearn.metrics import classification_report"
   ]
  },
  {
   "cell_type": "code",
   "execution_count": 5,
   "id": "c5916414-50b2-40b4-9d8f-bd586985fe22",
   "metadata": {
    "tags": []
   },
   "outputs": [
    {
     "data": {
      "text/html": [
       "<div>\n",
       "<style scoped>\n",
       "    .dataframe tbody tr th:only-of-type {\n",
       "        vertical-align: middle;\n",
       "    }\n",
       "\n",
       "    .dataframe tbody tr th {\n",
       "        vertical-align: top;\n",
       "    }\n",
       "\n",
       "    .dataframe thead th {\n",
       "        text-align: right;\n",
       "    }\n",
       "</style>\n",
       "<table border=\"1\" class=\"dataframe\">\n",
       "  <thead>\n",
       "    <tr style=\"text-align: right;\">\n",
       "      <th></th>\n",
       "      <th>Class</th>\n",
       "      <th>Tweets</th>\n",
       "    </tr>\n",
       "  </thead>\n",
       "  <tbody>\n",
       "    <tr>\n",
       "      <th>0</th>\n",
       "      <td>1</td>\n",
       "      <td>!!! RT @mayasolovely: As a woman you shouldn't...</td>\n",
       "    </tr>\n",
       "    <tr>\n",
       "      <th>1</th>\n",
       "      <td>0</td>\n",
       "      <td>!!!!! RT @mleew17: boy dats cold...tyga dwn ba...</td>\n",
       "    </tr>\n",
       "    <tr>\n",
       "      <th>2</th>\n",
       "      <td>0</td>\n",
       "      <td>!!!!!!! RT @UrKindOfBrand Dawg!!!! RT @80sbaby...</td>\n",
       "    </tr>\n",
       "    <tr>\n",
       "      <th>3</th>\n",
       "      <td>0</td>\n",
       "      <td>!!!!!!!!! RT @C_G_Anderson: @viva_based she lo...</td>\n",
       "    </tr>\n",
       "    <tr>\n",
       "      <th>4</th>\n",
       "      <td>0</td>\n",
       "      <td>!!!!!!!!!!!!! RT @ShenikaRoberts: The shit you...</td>\n",
       "    </tr>\n",
       "  </tbody>\n",
       "</table>\n",
       "</div>"
      ],
      "text/plain": [
       "   Class                                             Tweets\n",
       "0      1  !!! RT @mayasolovely: As a woman you shouldn't...\n",
       "1      0  !!!!! RT @mleew17: boy dats cold...tyga dwn ba...\n",
       "2      0  !!!!!!! RT @UrKindOfBrand Dawg!!!! RT @80sbaby...\n",
       "3      0  !!!!!!!!! RT @C_G_Anderson: @viva_based she lo...\n",
       "4      0  !!!!!!!!!!!!! RT @ShenikaRoberts: The shit you..."
      ]
     },
     "execution_count": 5,
     "metadata": {},
     "output_type": "execute_result"
    }
   ],
   "source": [
    "data = pd.read_csv(\"Downloads/DAV Assignment 2/Labelled  Tweets.csv\")\n",
    "data.head()"
   ]
  },
  {
   "cell_type": "code",
   "execution_count": 6,
   "id": "7917f936-494c-4b52-a20c-d704326540e4",
   "metadata": {
    "tags": []
   },
   "outputs": [
    {
     "name": "stdout",
     "output_type": "stream",
     "text": [
      "Count of columns in the data is:   2\n",
      "Count of rows in the data is:   24783\n"
     ]
    }
   ],
   "source": [
    "print('Count of columns in the data is:  ', len(data.columns))\n",
    "print('Count of rows in the data is:  ', len(data))"
   ]
  },
  {
   "cell_type": "code",
   "execution_count": 7,
   "id": "36de8f42-68b8-486f-993a-ebaf9bb98072",
   "metadata": {},
   "outputs": [
    {
     "data": {
      "text/plain": [
       "array([1, 0], dtype=int64)"
      ]
     },
     "execution_count": 7,
     "metadata": {},
     "output_type": "execute_result"
    }
   ],
   "source": [
    "data['Class'].unique()"
   ]
  },
  {
   "cell_type": "code",
   "execution_count": 8,
   "id": "4da59569-64ff-4d23-a838-7501ce2fffc7",
   "metadata": {},
   "outputs": [
    {
     "data": {
      "text/plain": [
       "<Axes: xlabel='Class', ylabel='count'>"
      ]
     },
     "execution_count": 8,
     "metadata": {},
     "output_type": "execute_result"
    },
    {
     "data": {
      "image/png": "[encoded data removed]",
      "text/plain": [
       "<Figure size 640x480 with 1 Axes>"
      ]
     },
     "metadata": {},
     "output_type": "display_data"
    }
   ],
   "source": [
    "sns.countplot(x='Class', data=data)"
   ]
  },
  {
   "cell_type": "markdown",
   "id": "3270cf8b-4bc5-4da7-bbe6-1e58e69480c2",
   "metadata": {},
   "source": [
    "## Data Preprocessing "
   ]
  },
  {
   "cell_type": "code",
   "execution_count": 9,
   "id": "ab11c677-a3d3-4be4-98f5-709155de35ef",
   "metadata": {},
   "outputs": [
    {
     "data": {
      "text/plain": [
       "24778    you's a muthaf***in lie &#8220;@lifeasking: @2...\n",
       "24779    you've gone and broke the wrong heart baby, an...\n",
       "24780    young buck wanna eat!!.. dat nigguh like i ain...\n",
       "24781                youu got wild bitches tellin you lies\n",
       "24782    ~~ruffled | ntac eileen dahlia - beautiful col...\n",
       "Name: Tweets, dtype: object"
      ]
     },
     "execution_count": 9,
     "metadata": {},
     "output_type": "execute_result"
    }
   ],
   "source": [
    "data['Tweets']=data['Tweets'].str.lower()\n",
    "data['Tweets'].tail()"
   ]
  },
  {
   "cell_type": "code",
   "execution_count": 10,
   "id": "c575b75e-2379-4381-8df2-c68a1a286296",
   "metadata": {
    "tags": []
   },
   "outputs": [],
   "source": [
    "stopword = ['a', 'about', 'above', 'after', 'again', 'ain', 'all', 'am', 'an',\n",
    "             'and','any','are', 'as', 'at', 'be', 'because', 'been', 'before',\n",
    "             'being', 'below', 'between','both', 'by', 'can', 'd', 'did', 'do',\n",
    "             'does', 'doing', 'down', 'during', 'each','few', 'for', 'from',\n",
    "             'further', 'had', 'has', 'have', 'having', 'he', 'her', 'here',\n",
    "             'hers', 'herself', 'him', 'himself', 'his', 'how', 'i', 'if', 'in',\n",
    "             'into','is', 'it', 'its', 'itself', 'just', 'll', 'm', 'ma',\n",
    "             'me', 'more', 'most','my', 'myself', 'now', 'o', 'of', 'on', 'once',\n",
    "             'only', 'or', 'other', 'our', 'ours','ourselves', 'out', 'own', 're','s', 'same', 'she', \"shes\", 'should', \"shouldve\",'so', 'some', 'such',\n",
    "             't', 'than', 'that', \"thatll\", 'the', 'their', 'theirs', 'them',\n",
    "             'themselves', 'then', 'there', 'these', 'they', 'this', 'those',\n",
    "             'through', 'to', 'too','under', 'until', 'up', 've', 'very', 'was',\n",
    "             'we', 'were', 'what', 'when', 'where','which','while', 'who', 'whom',\n",
    "             'why', 'will', 'with', 'won', 'y', 'you', \"youd\",\"youll\", \"youre\",\n",
    "             \"youve\", 'your', 'yours', 'yourself', 'yourselves']"
   ]
  },
  {
   "cell_type": "code",
   "execution_count": 11,
   "id": "71ce6c1a-4309-44da-81c1-cf000f853963",
   "metadata": {
    "tags": []
   },
   "outputs": [
    {
     "data": {
      "text/plain": [
       "0     !!! rt @mayasolovely: woman shouldn't complain...\n",
       "1     !!!!! rt @mleew17: boy dats cold...tyga dwn ba...\n",
       "2     !!!!!!! rt @urkindofbrand dawg!!!! rt @80sbaby...\n",
       "3     !!!!!!!!! rt @c_g_anderson: @viva_based look l...\n",
       "4     !!!!!!!!!!!!! rt @shenikaroberts: shit hear mi...\n",
       "5     !!!!!!!!!!!!!!!!!!\"@t_madison_x: shit blows me...\n",
       "6     !!!!!!\"@__brighterdays: not sit hate another b...\n",
       "7     !!!!&#8220;@selfiequeenbri: cause i'm tired bi...\n",
       "8     \" &amp; might not get ya bitch back &amp; thats \"\n",
       "9     \" @rhythmixx_ :hobbies include: fighting maria...\n",
       "10    \" keeks bitch curves everyone \" lol walked con...\n",
       "11                       \" murda gang bitch gang land \"\n",
       "12                \" hoes smoke losers ? \" yea ... go ig\n",
       "13                           \" bad bitches thing like \"\n",
       "14                                    \" bitch get off \"\n",
       "15                                 \" bitch nigga miss \"\n",
       "16                               \" bitch plz whatever \"\n",
       "17                                       \" bitch love \"\n",
       "18                   \" bitches get cut off everyday b \"\n",
       "19                     \" black bottle &amp; bad bitch \"\n",
       "Name: Tweets, dtype: object"
      ]
     },
     "execution_count": 11,
     "metadata": {},
     "output_type": "execute_result"
    }
   ],
   "source": [
    "STOPWORDS = set(stopword)\n",
    "def cleaning_stopwords(text):\n",
    "    return \" \".join([word for word in str(text).split() if word not in STOPWORDS])\n",
    "data['Tweets'] = data['Tweets'].apply(lambda text: cleaning_stopwords(text))\n",
    "data['Tweets'].head(20)"
   ]
  },
  {
   "cell_type": "code",
   "execution_count": 12,
   "id": "7192bf16-d1ed-4d45-93bc-e9520360f11f",
   "metadata": {
    "tags": []
   },
   "outputs": [],
   "source": [
    "def remove_usernames(text):\n",
    "    return re.sub(r'^[^:;]+[:;]', '', text)\n",
    "data['Tweets'] = data['Tweets'].apply(remove_usernames)\n"
   ]
  },
  {
   "cell_type": "code",
   "execution_count": 13,
   "id": "386a30a7-2c1b-42d3-935e-60e0279be958",
   "metadata": {
    "tags": []
   },
   "outputs": [
    {
     "data": {
      "text/plain": [
       "0      woman shouldnt complain cleaning house amp ma...\n",
       "1      boy dats coldtyga dwn bad cuffin dat hoe 1st ...\n",
       "2               ever fuck bitch start cry confused shit\n",
       "3                            vivabased look like tranny\n",
       "4      shit hear might true might faker bitch told y...\n",
       "5      shit blows meclaim faithful somebody but stil...\n",
       "6      not sit hate another bitch  got much shit goi...\n",
       "7     selfiequeenbri cause im tired big bitches comi...\n",
       "8                might not get ya bitch back amp thats \n",
       "9                 hobbies include fighting mariam bitch\n",
       "10     keeks bitch curves everyone  lol walked conve...\n",
       "11                          murda gang bitch gang land \n",
       "12                       hoes smoke losers   yea  go ig\n",
       "13                              bad bitches thing like \n",
       "14                                       bitch get off \n",
       "15                                    bitch nigga miss \n",
       "16                                  bitch plz whatever \n",
       "17                                          bitch love \n",
       "18                      bitches get cut off everyday b \n",
       "19                                           bad bitch \n",
       "Name: Tweets, dtype: object"
      ]
     },
     "execution_count": 13,
     "metadata": {},
     "output_type": "execute_result"
    }
   ],
   "source": [
    "english_punctuations = string.punctuation\n",
    "punctuations_list = english_punctuations\n",
    "def cleaning_punctuations(text):\n",
    "    translator = str.maketrans('', '', punctuations_list)\n",
    "    return text.translate(translator)\n",
    "data['Tweets']= data['Tweets'].apply(lambda x: cleaning_punctuations(x))\n",
    "data['Tweets'].head(20)"
   ]
  },
  {
   "cell_type": "code",
   "execution_count": 14,
   "id": "ce3cd077-9ebf-46f3-b642-20c0091c7f5a",
   "metadata": {
    "tags": []
   },
   "outputs": [
    {
     "data": {
      "text/plain": [
       "0     woman shouldnt complain cleaning house amp ma...\n",
       "1     boy dats coldtyga dwn bad cuffin dat hoe1st p...\n",
       "2              ever fuck bitch start cry confused shit\n",
       "3                           vivabased look like tranny\n",
       "4     shit hear might true might faker bitch told y...\n",
       "Name: Tweets, dtype: object"
      ]
     },
     "execution_count": 14,
     "metadata": {},
     "output_type": "execute_result"
    }
   ],
   "source": [
    "def cleaning_repeating_char(text):\n",
    "    return re.sub(r'(.)1+', r'1', text)\n",
    "data['Tweets'] = data['Tweets'].apply(lambda x: cleaning_repeating_char(x))\n",
    "data['Tweets'].head()"
   ]
  },
  {
   "cell_type": "code",
   "execution_count": 15,
   "id": "c59583c6-a38b-462b-9eab-a41d39fcc62a",
   "metadata": {
    "tags": []
   },
   "outputs": [
    {
     "data": {
      "text/plain": [
       "24778    lifeasking 20pearls coreyemanuel right tl tras...\n",
       "24779    youve gone broke wrong heart baby drove rednec...\n",
       "24780    young buck wanna eat dat nigguh like aint fuck...\n",
       "24781                    youu got wild bitches tellin lies\n",
       "24782                         white coll httptcoh0dyebvnzb\n",
       "Name: Tweets, dtype: object"
      ]
     },
     "execution_count": 15,
     "metadata": {},
     "output_type": "execute_result"
    }
   ],
   "source": [
    "def cleaning_URLs(data):\n",
    "    return re.sub('((www.[^s]+)|(https?://[^s]+))',' ',data)\n",
    "data['Tweets'] = data['Tweets'].apply(lambda x: cleaning_URLs(x))\n",
    "data['Tweets'].tail()"
   ]
  },
  {
   "cell_type": "code",
   "execution_count": 16,
   "id": "09f0ef31-63f9-4b84-8394-1f2365547810",
   "metadata": {
    "tags": []
   },
   "outputs": [
    {
     "data": {
      "text/plain": [
       "0     woman shouldnt complain cleaning house amp ma...\n",
       "1     boy dats coldtyga dwn bad cuffin dat hoest place\n",
       "2              ever fuck bitch start cry confused shit\n",
       "3                           vivabased look like tranny\n",
       "4      shit hear might true might faker bitch told ya \n",
       "Name: Tweets, dtype: object"
      ]
     },
     "execution_count": 16,
     "metadata": {},
     "output_type": "execute_result"
    }
   ],
   "source": [
    "def cleaning_numbers(data):\n",
    "    return re.sub('[0-9]+', '', data)\n",
    "data['Tweets'] = data['Tweets'].apply(lambda x: cleaning_numbers(x))\n",
    "data['Tweets'].head()"
   ]
  },
  {
   "cell_type": "code",
   "execution_count": 17,
   "id": "caecdd02-648c-40fc-8aaf-9a4817707723",
   "metadata": {
    "tags": []
   },
   "outputs": [
    {
     "data": {
      "text/plain": [
       "0    [woman, shouldnt, complain, cleaning, house, a...\n",
       "1    [boy, dats, coldtyga, dwn, bad, cuffin, dat, h...\n",
       "2      [ever, fuck, bitch, start, cry, confused, shit]\n",
       "3                      [vivabased, look, like, tranny]\n",
       "4    [shit, hear, might, true, might, faker, bitch,...\n",
       "Name: Tweets, dtype: object"
      ]
     },
     "execution_count": 17,
     "metadata": {},
     "output_type": "execute_result"
    }
   ],
   "source": [
    "from nltk.tokenize import RegexpTokenizer\n",
    "\n",
    "tokenizer = RegexpTokenizer(r'\\w+')\n",
    "data['Tweets'] = data['Tweets'].apply(tokenizer.tokenize)\n",
    "data['Tweets'].head()\n"
   ]
  },
  {
   "cell_type": "code",
   "execution_count": 18,
   "id": "27a925ba-c917-4597-aad0-f21a7e5fc252",
   "metadata": {
    "tags": []
   },
   "outputs": [
    {
     "data": {
      "text/plain": [
       "0    [woman, shouldnt, complain, cleaning, house, a...\n",
       "1    [boy, dats, coldtyga, dwn, bad, cuffin, dat, h...\n",
       "2      [ever, fuck, bitch, start, cry, confused, shit]\n",
       "3                      [vivabased, look, like, tranny]\n",
       "4    [shit, hear, might, true, might, faker, bitch,...\n",
       "Name: Tweets, dtype: object"
      ]
     },
     "execution_count": 18,
     "metadata": {},
     "output_type": "execute_result"
    }
   ],
   "source": [
    "import nltk\n",
    "st = nltk.PorterStemmer()\n",
    "def stemming_on_text(data):\n",
    "    text = [st.stem(word) for word in data]\n",
    "    return data\n",
    "data['Tweets']= data['Tweets'].apply(lambda x: stemming_on_text(x))\n",
    "data['Tweets'].head()"
   ]
  },
  {
   "cell_type": "code",
   "execution_count": 19,
   "id": "12e9c4f4-366f-4ff4-ac5a-21d25e442b43",
   "metadata": {
    "tags": []
   },
   "outputs": [
    {
     "data": {
      "text/html": [
       "<div>\n",
       "<style scoped>\n",
       "    .dataframe tbody tr th:only-of-type {\n",
       "        vertical-align: middle;\n",
       "    }\n",
       "\n",
       "    .dataframe tbody tr th {\n",
       "        vertical-align: top;\n",
       "    }\n",
       "\n",
       "    .dataframe thead th {\n",
       "        text-align: right;\n",
       "    }\n",
       "</style>\n",
       "<table border=\"1\" class=\"dataframe\">\n",
       "  <thead>\n",
       "    <tr style=\"text-align: right;\">\n",
       "      <th></th>\n",
       "      <th>Class</th>\n",
       "      <th>Tweets</th>\n",
       "    </tr>\n",
       "  </thead>\n",
       "  <tbody>\n",
       "    <tr>\n",
       "      <th>0</th>\n",
       "      <td>1</td>\n",
       "      <td>[woman, shouldnt, complain, cleaning, house, a...</td>\n",
       "    </tr>\n",
       "    <tr>\n",
       "      <th>1</th>\n",
       "      <td>0</td>\n",
       "      <td>[boy, dats, coldtyga, dwn, bad, cuffin, dat, h...</td>\n",
       "    </tr>\n",
       "    <tr>\n",
       "      <th>2</th>\n",
       "      <td>0</td>\n",
       "      <td>[ever, fuck, bitch, start, cry, confused, shit]</td>\n",
       "    </tr>\n",
       "    <tr>\n",
       "      <th>3</th>\n",
       "      <td>0</td>\n",
       "      <td>[vivabased, look, like, tranny]</td>\n",
       "    </tr>\n",
       "    <tr>\n",
       "      <th>4</th>\n",
       "      <td>0</td>\n",
       "      <td>[shit, hear, might, true, might, faker, bitch,...</td>\n",
       "    </tr>\n",
       "  </tbody>\n",
       "</table>\n",
       "</div>"
      ],
      "text/plain": [
       "   Class                                             Tweets\n",
       "0      1  [woman, shouldnt, complain, cleaning, house, a...\n",
       "1      0  [boy, dats, coldtyga, dwn, bad, cuffin, dat, h...\n",
       "2      0    [ever, fuck, bitch, start, cry, confused, shit]\n",
       "3      0                    [vivabased, look, like, tranny]\n",
       "4      0  [shit, hear, might, true, might, faker, bitch,..."
      ]
     },
     "execution_count": 19,
     "metadata": {},
     "output_type": "execute_result"
    }
   ],
   "source": [
    "lm = nltk.WordNetLemmatizer()\n",
    "def lemmatizer_on_text(data):\n",
    "    text = [lm.lemmatize(word) for word in data]\n",
    "    return data\n",
    "data['Tweets'] = data['Tweets'].apply(lambda x: lemmatizer_on_text(x))\n",
    "data.head()"
   ]
  },
  {
   "cell_type": "code",
   "execution_count": 20,
   "id": "e19d5360-d4f6-4b60-8f2f-7166a93db868",
   "metadata": {
    "tags": []
   },
   "outputs": [],
   "source": [
    "data_exploded = data['Tweets'].explode().reset_index(drop=True)\n",
    "\n",
    "data_exploded = data_exploded.rename('Word')"
   ]
  },
  {
   "cell_type": "code",
   "execution_count": 21,
   "id": "7ddbc47c-9e8a-49b0-9539-cfd3ed5b3f10",
   "metadata": {
    "tags": []
   },
   "outputs": [
    {
     "name": "stdout",
     "output_type": "stream",
     "text": [
      "1                    woman\n",
      "2                 shouldnt\n",
      "3                 complain\n",
      "4                 cleaning\n",
      "5                    house\n",
      "                ...       \n",
      "191381              tellin\n",
      "191382                lies\n",
      "191383               white\n",
      "191384                coll\n",
      "191385    httptcohdyebvnzb\n",
      "Name: Word, Length: 191385, dtype: object\n"
     ]
    }
   ],
   "source": [
    "data_exploded = data_exploded.reset_index(drop=True)\n",
    "data_exploded.index = data_exploded.index + 1\n",
    "print(data_exploded)"
   ]
  },
  {
   "cell_type": "code",
   "execution_count": 22,
   "id": "1965e89e-c1d7-4f82-a4e7-858b2424dc89",
   "metadata": {
    "tags": []
   },
   "outputs": [
    {
     "data": {
      "text/plain": [
       "1                    woman\n",
       "2                 shouldnt\n",
       "3                 complain\n",
       "4                 cleaning\n",
       "5                    house\n",
       "                ...       \n",
       "191381              tellin\n",
       "191382                lies\n",
       "191383               white\n",
       "191384                coll\n",
       "191385    httptcohdyebvnzb\n",
       "Name: Word, Length: 191385, dtype: object"
      ]
     },
     "execution_count": 22,
     "metadata": {},
     "output_type": "execute_result"
    }
   ],
   "source": [
    "data_exploded"
   ]
  },
  {
   "cell_type": "code",
   "execution_count": 23,
   "id": "1ac10a12-d112-4655-ad5d-33d9b475af23",
   "metadata": {
    "tags": []
   },
   "outputs": [
    {
     "data": {
      "text/html": [
       "<div>\n",
       "<style scoped>\n",
       "    .dataframe tbody tr th:only-of-type {\n",
       "        vertical-align: middle;\n",
       "    }\n",
       "\n",
       "    .dataframe tbody tr th {\n",
       "        vertical-align: top;\n",
       "    }\n",
       "\n",
       "    .dataframe thead th {\n",
       "        text-align: right;\n",
       "    }\n",
       "</style>\n",
       "<table border=\"1\" class=\"dataframe\">\n",
       "  <thead>\n",
       "    <tr style=\"text-align: right;\">\n",
       "      <th></th>\n",
       "      <th>Class</th>\n",
       "      <th>Tweets</th>\n",
       "    </tr>\n",
       "  </thead>\n",
       "  <tbody>\n",
       "    <tr>\n",
       "      <th>0</th>\n",
       "      <td>1</td>\n",
       "      <td>[woman, shouldnt, complain, cleaning, house, a...</td>\n",
       "    </tr>\n",
       "    <tr>\n",
       "      <th>1</th>\n",
       "      <td>0</td>\n",
       "      <td>[boy, dats, coldtyga, dwn, bad, cuffin, dat, h...</td>\n",
       "    </tr>\n",
       "    <tr>\n",
       "      <th>2</th>\n",
       "      <td>0</td>\n",
       "      <td>[ever, fuck, bitch, start, cry, confused, shit]</td>\n",
       "    </tr>\n",
       "    <tr>\n",
       "      <th>3</th>\n",
       "      <td>0</td>\n",
       "      <td>[vivabased, look, like, tranny]</td>\n",
       "    </tr>\n",
       "    <tr>\n",
       "      <th>4</th>\n",
       "      <td>0</td>\n",
       "      <td>[shit, hear, might, true, might, faker, bitch,...</td>\n",
       "    </tr>\n",
       "  </tbody>\n",
       "</table>\n",
       "</div>"
      ],
      "text/plain": [
       "   Class                                             Tweets\n",
       "0      1  [woman, shouldnt, complain, cleaning, house, a...\n",
       "1      0  [boy, dats, coldtyga, dwn, bad, cuffin, dat, h...\n",
       "2      0    [ever, fuck, bitch, start, cry, confused, shit]\n",
       "3      0                    [vivabased, look, like, tranny]\n",
       "4      0  [shit, hear, might, true, might, faker, bitch,..."
      ]
     },
     "execution_count": 23,
     "metadata": {},
     "output_type": "execute_result"
    }
   ],
   "source": [
    "data.head()"
   ]
  },
  {
   "cell_type": "code",
   "execution_count": 24,
   "id": "8f194d30-c3e9-4424-9612-92d7b73f82b5",
   "metadata": {
    "tags": []
   },
   "outputs": [
    {
     "name": "stdout",
     "output_type": "stream",
     "text": [
      "1                    woman\n",
      "2                 shouldnt\n",
      "3                 complain\n",
      "4                 cleaning\n",
      "5                    house\n",
      "                ...       \n",
      "191381              tellin\n",
      "191382                lies\n",
      "191383               white\n",
      "191384                coll\n",
      "191385    httptcohdyebvnzb\n",
      "Name: Word, Length: 191385, dtype: object\n"
     ]
    }
   ],
   "source": [
    "data_exploded = data_exploded.apply(str)\n",
    "word_series = data_exploded\n",
    "print(word_series)"
   ]
  },
  {
   "cell_type": "code",
   "execution_count": 25,
   "id": "098a2e3b-a490-4959-bdf5-199df1a5cac3",
   "metadata": {
    "tags": []
   },
   "outputs": [
    {
     "name": "stderr",
     "output_type": "stream",
     "text": [
      "[nltk_data] Downloading package vader_lexicon to\n",
      "[nltk_data]     C:\\Users\\hp\\AppData\\Roaming\\nltk_data...\n",
      "[nltk_data]   Package vader_lexicon is already up-to-date!\n"
     ]
    },
    {
     "name": "stdout",
     "output_type": "stream",
     "text": [
      "                    Word  POS Sentiment\n",
      "1                  woman   NN   neutral\n",
      "2               shouldnt   NN   neutral\n",
      "3               complain   NN  negative\n",
      "4               cleaning   NN   neutral\n",
      "5                  house   NN   neutral\n",
      "...                  ...  ...       ...\n",
      "191381            tellin   NN   neutral\n",
      "191382              lies  NNS  negative\n",
      "191383             white   JJ   neutral\n",
      "191384              coll   NN   neutral\n",
      "191385  httptcohdyebvnzb   NN   neutral\n",
      "\n",
      "[191385 rows x 3 columns]\n"
     ]
    }
   ],
   "source": [
    "import pandas as pd\n",
    "import nltk\n",
    "from nltk.sentiment.vader import SentimentIntensityAnalyzer\n",
    "nltk.download('vader_lexicon')\n",
    "\n",
    "sia = SentimentIntensityAnalyzer()\n",
    "\n",
    "def get_sentiment(word):\n",
    "    sentiment = sia.polarity_scores(word)\n",
    "    compound_score = sentiment['compound']\n",
    "    if compound_score >= 0.05:\n",
    "        return 'positive'\n",
    "    elif compound_score <= -0.05:\n",
    "        return 'negative'\n",
    "    else:\n",
    "        return 'neutral'\n",
    "word_series = pd.DataFrame(word_series, columns=['Word'])\n",
    "word_series['POS'] = word_series['Word'].apply(lambda word: nltk.pos_tag([word])[0][1])\n",
    "word_series['Sentiment'] = word_series['Word'].apply(get_sentiment)\n",
    "print(word_series)\n"
   ]
  },
  {
   "cell_type": "code",
   "execution_count": 26,
   "id": "2c562006-f0cc-48a8-b26a-4c4401052870",
   "metadata": {
    "tags": []
   },
   "outputs": [
    {
     "name": "stdout",
     "output_type": "stream",
     "text": [
      "Sentiment\n",
      "neutral     149341\n",
      "negative     28443\n",
      "positive     13601\n",
      "Name: count, dtype: int64\n"
     ]
    }
   ],
   "source": [
    "sentiment_counts = word_series['Sentiment'].value_counts()\n",
    "print(sentiment_counts)\n"
   ]
  },
  {
   "cell_type": "code",
   "execution_count": 27,
   "id": "7a96ca17-94b8-4165-88d4-0f8ffc3b15b8",
   "metadata": {
    "tags": []
   },
   "outputs": [
    {
     "name": "stdout",
     "output_type": "stream",
     "text": [
      "Duplicate words in Positive sentiment: 12850\n"
     ]
    }
   ],
   "source": [
    "positive_duplicates = word_series[word_series['Sentiment'] == 'positive']['Word'].duplicated().sum()\n",
    "print(\"Duplicate words in Positive sentiment:\", positive_duplicates)\n"
   ]
  },
  {
   "cell_type": "code",
   "execution_count": 28,
   "id": "6bf761f9-1bd0-48b1-bae6-a7d70b94c29f",
   "metadata": {
    "tags": []
   },
   "outputs": [
    {
     "name": "stdout",
     "output_type": "stream",
     "text": [
      "Duplicate words in Negative sentiment: 27520\n"
     ]
    }
   ],
   "source": [
    "negative_duplicates = word_series[word_series['Sentiment'] == 'negative']['Word'].duplicated().sum()\n",
    "print(\"Duplicate words in Negative sentiment:\", negative_duplicates)\n"
   ]
  },
  {
   "cell_type": "code",
   "execution_count": 29,
   "id": "286a0801-9485-406b-98f6-ffda063f7890",
   "metadata": {
    "tags": []
   },
   "outputs": [
    {
     "name": "stdout",
     "output_type": "stream",
     "text": [
      "Duplicate words in Neutral sentiment: 121173\n"
     ]
    }
   ],
   "source": [
    "neutral_duplicates = word_series[word_series['Sentiment'] == 'neutral']['Word'].duplicated().sum()\n",
    "print(\"Duplicate words in Neutral sentiment:\", neutral_duplicates)\n"
   ]
  },
  {
   "cell_type": "code",
   "execution_count": 49,
   "id": "6d4adb3b-549a-4dfe-9f05-64d445872a44",
   "metadata": {
    "tags": []
   },
   "outputs": [
    {
     "name": "stdout",
     "output_type": "stream",
     "text": [
      "0\n"
     ]
    }
   ],
   "source": [
    "positive_unique_words = word_series[word_series['Sentiment'] == 'positive'].drop_duplicates(subset='Word')\n",
    "print(len(positive_unique_words))"
   ]
  },
  {
   "cell_type": "code",
   "execution_count": 31,
   "id": "8176e54d-87de-41aa-9fe6-233da39364f1",
   "metadata": {
    "tags": []
   },
   "outputs": [],
   "source": [
    "negative_unique_words = word_series[word_series['Sentiment'] == 'negative'].drop_duplicates(subset='Word')"
   ]
  },
  {
   "cell_type": "code",
   "execution_count": 32,
   "id": "d07252ac-ae06-4621-9f66-e26e15ac482a",
   "metadata": {
    "tags": []
   },
   "outputs": [],
   "source": [
    "neutral_unique_words = word_series[word_series['Sentiment'] == 'neutral'].drop_duplicates(subset='Word')"
   ]
  },
  {
   "cell_type": "code",
   "execution_count": 50,
   "id": "427d6f47-0185-4585-bb78-09a867a3ddc3",
   "metadata": {
    "tags": []
   },
   "outputs": [
    {
     "name": "stdout",
     "output_type": "stream",
     "text": [
      "                   Word  POS Sentiment\n",
      "0              complain   NN         0\n",
      "1                   bad   JJ         0\n",
      "2                  fuck   NN         0\n",
      "3                 bitch   NN         0\n",
      "4                   cry   NN         0\n",
      "...                 ...  ...       ...\n",
      "29837           dareilk   NN   neutral\n",
      "29838        scriptures  NNS   neutral\n",
      "29839             hymns   NN   neutral\n",
      "29840              coll   NN   neutral\n",
      "29841  httptcohdyebvnzb   NN   neutral\n",
      "\n",
      "[29842 rows x 3 columns]\n"
     ]
    }
   ],
   "source": [
    "# Concatenate the unique words for each sentiment category\n",
    "word_series = pd.concat([word_series, positive_unique_words, negative_unique_words, neutral_unique_words], ignore_index=True)\n",
    "\n",
    "# Drop the earlier word_series\n",
    "word_series = word_series.drop_duplicates(subset='Word')\n",
    "\n",
    "# Reset the index\n",
    "word_series.reset_index(drop=True, inplace=True)\n",
    "\n",
    "print(word_series)"
   ]
  },
  {
   "cell_type": "code",
   "execution_count": 51,
   "id": "5d444745-08ca-404d-8b7a-53af5af2e88d",
   "metadata": {
    "tags": []
   },
   "outputs": [
    {
     "name": "stdout",
     "output_type": "stream",
     "text": [
      "Sentiment\n",
      "neutral    28168\n",
      "0            923\n",
      "1            751\n",
      "Name: count, dtype: int64\n"
     ]
    }
   ],
   "source": [
    "# Count the number of words in each sentiment category\n",
    "sentiment_counts = word_series['Sentiment'].value_counts()\n",
    "\n",
    "# Print the counts\n",
    "print(sentiment_counts)\n"
   ]
  },
  {
   "cell_type": "code",
   "execution_count": 52,
   "id": "a7c6d724-9d88-4e90-9bbb-c1dded55b71e",
   "metadata": {
    "tags": []
   },
   "outputs": [
    {
     "name": "stdout",
     "output_type": "stream",
     "text": [
      "           Word  POS Sentiment\n",
      "0      complain   NN         0\n",
      "1           bad   JJ         0\n",
      "2          fuck   NN         0\n",
      "3         bitch   NN         0\n",
      "4           cry   NN         0\n",
      "...         ...  ...       ...\n",
      "1669   inspires  NNS         1\n",
      "1670    sadness   NN         0\n",
      "1671    talents  NNS         1\n",
      "1672  notorious   JJ         0\n",
      "1673     shocks  NNS         0\n",
      "\n",
      "[1674 rows x 3 columns]\n"
     ]
    }
   ],
   "source": [
    "# Filter out the neutral words\n",
    "word_series = word_series[word_series['Sentiment'] != 'neutral']\n",
    "\n",
    "# Reset the index\n",
    "word_series.reset_index(drop=True, inplace=True)\n",
    "print(word_series)"
   ]
  },
  {
   "cell_type": "code",
   "execution_count": 77,
   "id": "3e075c96-a05e-415c-9ee6-db1d7e470e8d",
   "metadata": {
    "tags": []
   },
   "outputs": [],
   "source": [
    "from sklearn.preprocessing import LabelEncoder\n",
    "label_encoder = LabelEncoder()\n",
    "word_series['Sentiment'] = label_encoder.fit_transform(word_series['Sentiment'])\n",
    "X = word_series['Word']\n",
    "y = word_series['Sentiment']\n"
   ]
  },
  {
   "cell_type": "code",
   "execution_count": 78,
   "id": "304aa220-be1f-43dc-a8c4-9cbe44667df6",
   "metadata": {
    "tags": []
   },
   "outputs": [
    {
     "name": "stdout",
     "output_type": "stream",
     "text": [
      "0        complain\n",
      "1             bad\n",
      "2            fuck\n",
      "3           bitch\n",
      "4             cry\n",
      "          ...    \n",
      "1669     inspires\n",
      "1670      sadness\n",
      "1671      talents\n",
      "1672    notorious\n",
      "1673       shocks\n",
      "Name: Word, Length: 1674, dtype: object\n",
      "0       0\n",
      "1       0\n",
      "2       0\n",
      "3       0\n",
      "4       0\n",
      "       ..\n",
      "1669    1\n",
      "1670    0\n",
      "1671    1\n",
      "1672    0\n",
      "1673    0\n",
      "Name: Sentiment, Length: 1674, dtype: int64\n"
     ]
    }
   ],
   "source": [
    "print(X)\n",
    "print(y)"
   ]
  },
  {
   "cell_type": "code",
   "execution_count": 79,
   "id": "f96e323c-0637-423d-ab0c-75b7f88abe90",
   "metadata": {
    "tags": []
   },
   "outputs": [],
   "source": [
    "X_train, X_test, y_train, y_test = train_test_split(X, y, test_size=0.2, random_state=42)\n"
   ]
  },
  {
   "cell_type": "code",
   "execution_count": 80,
   "id": "f89c903c-0723-4b59-9568-9be90e4ed58c",
   "metadata": {
    "tags": []
   },
   "outputs": [],
   "source": [
    "from sklearn.feature_extraction.text import TfidfVectorizer\n",
    "\n",
    "tfidf_vectorizer = TfidfVectorizer()\n",
    "X_train_tfidf = tfidf_vectorizer.fit_transform(X_train)\n",
    "X_test_tfidf = tfidf_vectorizer.transform(X_test)\n"
   ]
  },
  {
   "cell_type": "code",
   "execution_count": 81,
   "id": "7652a06f-b49d-4d0c-9c7e-479364782318",
   "metadata": {
    "tags": []
   },
   "outputs": [
    {
     "name": "stdout",
     "output_type": "stream",
     "text": [
      "(1339, 1339)\n",
      "(335, 1339)\n"
     ]
    }
   ],
   "source": [
    "print(X_train_tfidf.shape)\n",
    "print(X_test_tfidf.shape)"
   ]
  },
  {
   "cell_type": "code",
   "execution_count": 82,
   "id": "400afe6c-5b10-4c5e-9236-068c1a4ef33c",
   "metadata": {
    "tags": []
   },
   "outputs": [],
   "source": [
    "class TDFLogisticRegression:\n",
    "    def __init__(self, learning_rate, n_iterations):\n",
    "        self.learning_rate = learning_rate\n",
    "        self.n_iterations = n_iterations\n",
    "\n",
    "    def sigmoid(self, z):\n",
    "        return 1 / (1 + np.exp(-z))\n",
    "\n",
    "    def fit(self, X, y):\n",
    "        # Initialize weights and bias\n",
    "        self.theta = np.zeros(X.shape[1])\n",
    "        self.bias = 0\n",
    "\n",
    "        for _ in range(self.n_iterations):\n",
    "            z = X.dot(self.theta) + self.bias\n",
    "            y_pred = self.sigmoid(z)\n",
    "\n",
    "            # Update weights and bias using gradient descent\n",
    "            dw = (1 / len(y)) * X.T.dot(y_pred - y)\n",
    "            db = (1 / len(y)) * np.sum(y_pred - y)\n",
    "\n",
    "            self.theta -= self.learning_rate * dw\n",
    "            self.bias -= self.learning_rate * db\n",
    "\n",
    "    def predict(self, X):\n",
    "        z = X.dot(self.theta) + self.bias\n",
    "        y_pred = self.sigmoid(z)\n",
    "        return [1 if i > 0.5 else 0 for i in y_pred]\n",
    "lr_model = TDFLogisticRegression(learning_rate=0.01, n_iterations=1000)\n",
    "lr_model.fit(X_train_tfidf, y_train)\n",
    "y_pred = lr_model.predict(X_test_tfidf)\n"
   ]
  },
  {
   "cell_type": "code",
   "execution_count": 83,
   "id": "4f4658a4-b78a-4f07-88ea-bd8ee1806291",
   "metadata": {
    "tags": []
   },
   "outputs": [
    {
     "data": {
      "image/png": "[encoded data removed]",
      "text/plain": [
       "<Figure size 800x600 with 2 Axes>"
      ]
     },
     "metadata": {},
     "output_type": "display_data"
    }
   ],
   "source": [
    "confusion = confusion_matrix(y_test, y_pred)\n",
    "class_names = ['Negative', 'Positive']\n",
    "plt.figure(figsize=(8, 6))\n",
    "sns.heatmap(confusion, annot=True, fmt='d', cmap='Blues', xticklabels=class_names, yticklabels=class_names)\n",
    "plt.xlabel('Predicted')\n",
    "plt.ylabel('Actual')\n",
    "plt.title('Confusion Matrix')\n",
    "plt.show()\n"
   ]
  },
  {
   "cell_type": "markdown",
   "id": "a05f9a49-976c-4fb6-851f-6d7284bc328c",
   "metadata": {},
   "source": [
    "## Using the Bag Of Words"
   ]
  },
  {
   "cell_type": "code",
   "execution_count": 84,
   "id": "2422d30b-8876-456d-b534-eba2aebe2c33",
   "metadata": {
    "tags": []
   },
   "outputs": [],
   "source": [
    "X = word_series['Word']\n",
    "y = word_series['Sentiment']"
   ]
  },
  {
   "cell_type": "code",
   "execution_count": 85,
   "id": "8217accd-0d07-4fd8-86d8-9e18740680c3",
   "metadata": {
    "tags": []
   },
   "outputs": [],
   "source": [
    "X_train, X_test, y_train, y_test = train_test_split(X, y, test_size=0.2, random_state=42)\n",
    "vectorizer = CountVectorizer()\n",
    "X_train_bow = vectorizer.fit_transform(X_train)\n",
    "X_test_bow = vectorizer.transform(X_test)"
   ]
  },
  {
   "cell_type": "code",
   "execution_count": 86,
   "id": "c889b6a3-3328-4e0a-b5d1-eb99aa7a64f0",
   "metadata": {
    "tags": []
   },
   "outputs": [],
   "source": [
    "class BowLogisticRegression:\n",
    "    def __init__(self, learning_rate, n_iterations):\n",
    "        self.learning_rate = learning_rate\n",
    "        self.n_iterations = n_iterations\n",
    "\n",
    "    def sigmoid(self, z):\n",
    "        return 1 / (1 + np.exp(-z))\n",
    "\n",
    "    def fit(self, X, y):\n",
    "    \n",
    "        self.theta = np.zeros(X.shape[1])\n",
    "        self.bias = 0\n",
    "\n",
    "        for _ in range(self.n_iterations):\n",
    "            z = X.dot(self.theta) + self.bias\n",
    "            y_pred = self.sigmoid(z)\n",
    "            dw = (1 / len(y)) * X.T.dot(y_pred - y)\n",
    "            db = (1 / len(y)) * np.sum(y_pred - y)\n",
    "\n",
    "            self.theta -= self.learning_rate * dw\n",
    "            self.bias -= self.learning_rate * db\n",
    "\n",
    "    def predict(self, X):\n",
    "        z = X.dot(self.theta) + self.bias\n",
    "        y_pred = self.sigmoid(z)\n",
    "        return [1 if i > 0.5 else 0 for i in y_pred]\n",
    "lr_model = BowLogisticRegression(learning_rate=0.01, n_iterations=1000)\n",
    "lr_model.fit(X_train_bow, y_train)\n",
    "y_pred = lr_model.predict(X_test_bow)"
   ]
  },
  {
   "cell_type": "code",
   "execution_count": null,
   "id": "367f51db-dcd5-4e89-8303-e2151cf1d206",
   "metadata": {
    "tags": []
   },
   "outputs": [],
   "source": []
  },
  {
   "cell_type": "code",
   "execution_count": 87,
   "id": "22d73bd5-6da3-4f61-9407-8ce3fd9bf9f1",
   "metadata": {
    "tags": []
   },
   "outputs": [
    {
     "data": {
      "image/png": "[encoded data removed]",
      "text/plain": [
       "<Figure size 800x600 with 2 Axes>"
      ]
     },
     "metadata": {},
     "output_type": "display_data"
    }
   ],
   "source": [
    "confusion = confusion_matrix(y_test, y_pred)\n",
    "class_names = ['Negative', 'Positive']\n",
    "plt.figure(figsize=(8, 6))\n",
    "sns.heatmap(confusion, annot=True, fmt='d', cmap='Blues', xticklabels=class_names, yticklabels=class_names)\n",
    "plt.xlabel('Predicted')\n",
    "plt.ylabel('Actual')\n",
    "plt.title('Confusion Matrix')\n",
    "plt.show()\n"
   ]
  },
  {
   "cell_type": "code",
   "execution_count": 93,
   "id": "a88e2030-3ed1-421b-aa8b-f7369095aa61",
   "metadata": {
    "tags": []
   },
   "outputs": [],
   "source": [
    "def predict_sentiment_interactive(logistic_model, vectorizer):\n",
    "    while True:\n",
    "        sentence = input(\"Enter a sentence (or 'Q' to quit): \")\n",
    "        if sentence.lower() == 'q':\n",
    "            print(\"Thank you for using my model :)\")\n",
    "            break\n",
    "        sentence = ' '.join(sentence.split())\n",
    "\n",
    "        sentence_vectorized = vectorizer.transform([sentence])\n",
    "\n",
    "        prediction = logistic_model.predict(sentence_vectorized)[0]\n",
    "\n",
    "        if prediction == 1:\n",
    "            print(\"The sentence is positive.\")\n",
    "        else:\n",
    "            print(\"The sentence is negative.\")\n"
   ]
  },
  {
   "cell_type": "code",
   "execution_count": null,
   "id": "db0de3d4-c75e-4e35-abd6-f45ba62baf0c",
   "metadata": {},
   "outputs": [],
   "source": [
    "# Fit your logistic regression model\n",
    "lr_model = BowLogisticRegression(learning_rate=0.01, n_iterations=1000)\n",
    "lr_model.fit(X_train_bow, y_train)\n",
    "\n",
    "# Call the interactive prediction function\n",
    "predict_sentiment_interactive(lr_model, vectorizer)\n"
   ]
  }
 ],
 "metadata": {
  "kernelspec": {
   "display_name": "Python 3 (ipykernel)",
   "language": "python",
   "name": "python3"
  },
  "language_info": {
   "codemirror_mode": {
    "name": "ipython",
    "version": 3
   },
   "file_extension": ".py",
   "mimetype": "text/x-python",
   "name": "python",
   "nbconvert_exporter": "python",
   "pygments_lexer": "ipython3",
   "version": "3.9.16"
  }
 },
 "nbformat": 4,
 "nbformat_minor": 5
}
