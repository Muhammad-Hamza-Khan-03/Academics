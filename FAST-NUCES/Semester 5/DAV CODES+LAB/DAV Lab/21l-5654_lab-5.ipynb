{
 "cells": [
  {
   "cell_type": "code",
   "execution_count": 1,
   "id": "e1da2d53",
   "metadata": {},
   "outputs": [
    {
     "name": "stderr",
     "output_type": "stream",
     "text": [
      "C:\\ProgramData\\Anaconda3\\lib\\site-packages\\scipy\\__init__.py:146: UserWarning: A NumPy version >=1.16.5 and <1.23.0 is required for this version of SciPy (detected version 1.26.2\n",
      "  warnings.warn(f\"A NumPy version >={np_minversion} and <{np_maxversion}\"\n"
     ]
    }
   ],
   "source": [
    "import cv2\n",
    "from scipy.ndimage import gaussian_filter, laplace"
   ]
  },
  {
   "cell_type": "code",
   "execution_count": 2,
   "id": "8ee37c34",
   "metadata": {},
   "outputs": [],
   "source": [
    "image = cv2.imread('cat.jpg',0)"
   ]
  },
  {
   "cell_type": "code",
   "execution_count": 3,
   "id": "8e5bfea0",
   "metadata": {},
   "outputs": [],
   "source": [
    "def image_show(image): \n",
    "    cv2.namedWindow(\"Input\")\n",
    "    cv2.imshow(\"Input\",image)\n",
    "    cv2.waitKey(0)\n",
    "    cv2.destroyAllWindows()"
   ]
  },
  {
   "cell_type": "markdown",
   "id": "fefe4543",
   "metadata": {},
   "source": [
    "# for first order derivative we apply gausian filter and for second order derivative, we apply laplace"
   ]
  },
  {
   "cell_type": "code",
   "execution_count": 4,
   "id": "1cf9d22d",
   "metadata": {},
   "outputs": [],
   "source": [
    "first_derivative = gaussian_filter(image,sigma=4)"
   ]
  },
  {
   "cell_type": "code",
   "execution_count": 5,
   "id": "f5c8ad4e",
   "metadata": {},
   "outputs": [],
   "source": [
    "second_derivative = laplace(image)"
   ]
  },
  {
   "cell_type": "code",
   "execution_count": 6,
   "id": "15d440f7",
   "metadata": {},
   "outputs": [],
   "source": [
    "image_show(image)\n",
    "image_show(first_derivative)\n",
    "image_show(second_derivative)"
   ]
  },
  {
   "cell_type": "markdown",
   "id": "92663962",
   "metadata": {},
   "source": [
    "# It has salt and pepper noise so we apply median filter (non-linear filter)"
   ]
  },
  {
   "cell_type": "code",
   "execution_count": 7,
   "id": "a4efebd5",
   "metadata": {},
   "outputs": [],
   "source": [
    "img = cv2.medianBlur(second_derivative,3)\n",
    "image_show(img)"
   ]
  },
  {
   "cell_type": "code",
   "execution_count": null,
   "id": "61a4c6b2",
   "metadata": {},
   "outputs": [],
   "source": []
  }
 ],
 "metadata": {
  "kernelspec": {
   "display_name": "Python 3 (ipykernel)",
   "language": "python",
   "name": "python3"
  },
  "language_info": {
   "codemirror_mode": {
    "name": "ipython",
    "version": 3
   },
   "file_extension": ".py",
   "mimetype": "text/x-python",
   "name": "python",
   "nbconvert_exporter": "python",
   "pygments_lexer": "ipython3",
   "version": "3.9.12"
  }
 },
 "nbformat": 4,
 "nbformat_minor": 5
}
