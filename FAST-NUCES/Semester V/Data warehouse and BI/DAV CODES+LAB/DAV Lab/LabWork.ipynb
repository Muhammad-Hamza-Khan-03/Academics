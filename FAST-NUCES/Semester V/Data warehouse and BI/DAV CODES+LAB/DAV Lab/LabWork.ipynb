{
 "cells": [
  {
   "cell_type": "code",
   "execution_count": 1,
   "id": "d5e24ef9-e315-4ac2-b14f-32450b430970",
   "metadata": {
    "id": "d5e24ef9-e315-4ac2-b14f-32450b430970"
   },
   "outputs": [],
   "source": [
    "import selenium"
   ]
  },
  {
   "cell_type": "code",
   "execution_count": 2,
   "id": "fe948d6d-b51a-439c-af5f-f38ec3460834",
   "metadata": {
    "id": "fe948d6d-b51a-439c-af5f-f38ec3460834"
   },
   "outputs": [],
   "source": [
    "from selenium import webdriver"
   ]
  },
  {
   "cell_type": "code",
   "execution_count": 8,
   "id": "ed9bd88d-a06c-479e-9041-56bdfc14ba2a",
   "metadata": {
    "id": "ed9bd88d-a06c-479e-9041-56bdfc14ba2a"
   },
   "outputs": [],
   "source": [
    "Driver_path = 'C:/Users/Hamza/Desktop/5th sem/DAV/chromedriver-win64/chromedriver.exe'"
   ]
  },
  {
   "cell_type": "code",
   "execution_count": 10,
   "id": "d5d1f150-71ba-4a3e-bafb-31e2cbcf965d",
   "metadata": {
    "id": "d5d1f150-71ba-4a3e-bafb-31e2cbcf965d",
    "outputId": "6f51f663-66a0-43c9-82b1-79db4247b71e"
   },
   "outputs": [
    {
     "ename": "AttributeError",
     "evalue": "'str' object has no attribute 'capabilities'",
     "output_type": "error",
     "traceback": [
      "\u001b[1;31m---------------------------------------------------------------------------\u001b[0m",
      "\u001b[1;31mAttributeError\u001b[0m                            Traceback (most recent call last)",
      "File \u001b[1;32m~\\AppData\\Roaming\\Python\\Python39\\site-packages\\selenium\\webdriver\\common\\driver_finder.py:38\u001b[0m, in \u001b[0;36mDriverFinder.get_path\u001b[1;34m(service, options)\u001b[0m\n\u001b[0;32m     37\u001b[0m \u001b[38;5;28;01mtry\u001b[39;00m:\n\u001b[1;32m---> 38\u001b[0m     path \u001b[38;5;241m=\u001b[39m \u001b[43mSeleniumManager\u001b[49m\u001b[43m(\u001b[49m\u001b[43m)\u001b[49m\u001b[38;5;241;43m.\u001b[39;49m\u001b[43mdriver_location\u001b[49m\u001b[43m(\u001b[49m\u001b[43moptions\u001b[49m\u001b[43m)\u001b[49m \u001b[38;5;28;01mif\u001b[39;00m path \u001b[38;5;129;01mis\u001b[39;00m \u001b[38;5;28;01mNone\u001b[39;00m \u001b[38;5;28;01melse\u001b[39;00m path\n\u001b[0;32m     39\u001b[0m \u001b[38;5;28;01mexcept\u001b[39;00m \u001b[38;5;167;01mException\u001b[39;00m \u001b[38;5;28;01mas\u001b[39;00m err:\n",
      "File \u001b[1;32m~\\AppData\\Roaming\\Python\\Python39\\site-packages\\selenium\\webdriver\\common\\selenium_manager.py:76\u001b[0m, in \u001b[0;36mSeleniumManager.driver_location\u001b[1;34m(self, options)\u001b[0m\n\u001b[0;32m     69\u001b[0m \u001b[38;5;124;03m\"\"\"Determines the path of the correct driver.\u001b[39;00m\n\u001b[0;32m     70\u001b[0m \n\u001b[0;32m     71\u001b[0m \u001b[38;5;124;03m:Args:\u001b[39;00m\n\u001b[0;32m     72\u001b[0m \u001b[38;5;124;03m - browser: which browser to get the driver path for.\u001b[39;00m\n\u001b[0;32m     73\u001b[0m \u001b[38;5;124;03m:Returns: The driver path to use\u001b[39;00m\n\u001b[0;32m     74\u001b[0m \u001b[38;5;124;03m\"\"\"\u001b[39;00m\n\u001b[1;32m---> 76\u001b[0m browser \u001b[38;5;241m=\u001b[39m \u001b[43moptions\u001b[49m\u001b[38;5;241;43m.\u001b[39;49m\u001b[43mcapabilities\u001b[49m[\u001b[38;5;124m\"\u001b[39m\u001b[38;5;124mbrowserName\u001b[39m\u001b[38;5;124m\"\u001b[39m]\n\u001b[0;32m     78\u001b[0m args \u001b[38;5;241m=\u001b[39m [\u001b[38;5;28mstr\u001b[39m(\u001b[38;5;28mself\u001b[39m\u001b[38;5;241m.\u001b[39mget_binary()), \u001b[38;5;124m\"\u001b[39m\u001b[38;5;124m--browser\u001b[39m\u001b[38;5;124m\"\u001b[39m, browser]\n",
      "\u001b[1;31mAttributeError\u001b[0m: 'str' object has no attribute 'capabilities'",
      "\nDuring handling of the above exception, another exception occurred:\n",
      "\u001b[1;31mAttributeError\u001b[0m                            Traceback (most recent call last)",
      "Input \u001b[1;32mIn [10]\u001b[0m, in \u001b[0;36m<cell line: 1>\u001b[1;34m()\u001b[0m\n\u001b[1;32m----> 1\u001b[0m driver \u001b[38;5;241m=\u001b[39m \u001b[43mwebdriver\u001b[49m\u001b[38;5;241;43m.\u001b[39;49m\u001b[43mChrome\u001b[49m\u001b[43m(\u001b[49m\u001b[43mDriver_path\u001b[49m\u001b[43m)\u001b[49m\n",
      "File \u001b[1;32m~\\AppData\\Roaming\\Python\\Python39\\site-packages\\selenium\\webdriver\\chrome\\webdriver.py:45\u001b[0m, in \u001b[0;36mWebDriver.__init__\u001b[1;34m(self, options, service, keep_alive)\u001b[0m\n\u001b[0;32m     42\u001b[0m service \u001b[38;5;241m=\u001b[39m service \u001b[38;5;28;01mif\u001b[39;00m service \u001b[38;5;28;01melse\u001b[39;00m Service()\n\u001b[0;32m     43\u001b[0m options \u001b[38;5;241m=\u001b[39m options \u001b[38;5;28;01mif\u001b[39;00m options \u001b[38;5;28;01melse\u001b[39;00m Options()\n\u001b[1;32m---> 45\u001b[0m \u001b[38;5;28;43msuper\u001b[39;49m\u001b[43m(\u001b[49m\u001b[43m)\u001b[49m\u001b[38;5;241;43m.\u001b[39;49m\u001b[38;5;21;43m__init__\u001b[39;49m\u001b[43m(\u001b[49m\n\u001b[0;32m     46\u001b[0m \u001b[43m    \u001b[49m\u001b[43mDesiredCapabilities\u001b[49m\u001b[38;5;241;43m.\u001b[39;49m\u001b[43mCHROME\u001b[49m\u001b[43m[\u001b[49m\u001b[38;5;124;43m\"\u001b[39;49m\u001b[38;5;124;43mbrowserName\u001b[39;49m\u001b[38;5;124;43m\"\u001b[39;49m\u001b[43m]\u001b[49m\u001b[43m,\u001b[49m\n\u001b[0;32m     47\u001b[0m \u001b[43m    \u001b[49m\u001b[38;5;124;43m\"\u001b[39;49m\u001b[38;5;124;43mgoog\u001b[39;49m\u001b[38;5;124;43m\"\u001b[39;49m\u001b[43m,\u001b[49m\n\u001b[0;32m     48\u001b[0m \u001b[43m    \u001b[49m\u001b[43moptions\u001b[49m\u001b[43m,\u001b[49m\n\u001b[0;32m     49\u001b[0m \u001b[43m    \u001b[49m\u001b[43mservice\u001b[49m\u001b[43m,\u001b[49m\n\u001b[0;32m     50\u001b[0m \u001b[43m    \u001b[49m\u001b[43mkeep_alive\u001b[49m\u001b[43m,\u001b[49m\n\u001b[0;32m     51\u001b[0m \u001b[43m\u001b[49m\u001b[43m)\u001b[49m\n",
      "File \u001b[1;32m~\\AppData\\Roaming\\Python\\Python39\\site-packages\\selenium\\webdriver\\chromium\\webdriver.py:51\u001b[0m, in \u001b[0;36mChromiumDriver.__init__\u001b[1;34m(self, browser_name, vendor_prefix, options, service, keep_alive)\u001b[0m\n\u001b[0;32m     47\u001b[0m \u001b[38;5;28mself\u001b[39m\u001b[38;5;241m.\u001b[39mvendor_prefix \u001b[38;5;241m=\u001b[39m vendor_prefix\n\u001b[0;32m     49\u001b[0m \u001b[38;5;28mself\u001b[39m\u001b[38;5;241m.\u001b[39mservice \u001b[38;5;241m=\u001b[39m service\n\u001b[1;32m---> 51\u001b[0m \u001b[38;5;28mself\u001b[39m\u001b[38;5;241m.\u001b[39mservice\u001b[38;5;241m.\u001b[39mpath \u001b[38;5;241m=\u001b[39m \u001b[43mDriverFinder\u001b[49m\u001b[38;5;241;43m.\u001b[39;49m\u001b[43mget_path\u001b[49m\u001b[43m(\u001b[49m\u001b[38;5;28;43mself\u001b[39;49m\u001b[38;5;241;43m.\u001b[39;49m\u001b[43mservice\u001b[49m\u001b[43m,\u001b[49m\u001b[43m \u001b[49m\u001b[43moptions\u001b[49m\u001b[43m)\u001b[49m\n\u001b[0;32m     53\u001b[0m \u001b[38;5;28mself\u001b[39m\u001b[38;5;241m.\u001b[39mservice\u001b[38;5;241m.\u001b[39mstart()\n\u001b[0;32m     55\u001b[0m \u001b[38;5;28;01mtry\u001b[39;00m:\n",
      "File \u001b[1;32m~\\AppData\\Roaming\\Python\\Python39\\site-packages\\selenium\\webdriver\\common\\driver_finder.py:40\u001b[0m, in \u001b[0;36mDriverFinder.get_path\u001b[1;34m(service, options)\u001b[0m\n\u001b[0;32m     38\u001b[0m     path \u001b[38;5;241m=\u001b[39m SeleniumManager()\u001b[38;5;241m.\u001b[39mdriver_location(options) \u001b[38;5;28;01mif\u001b[39;00m path \u001b[38;5;129;01mis\u001b[39;00m \u001b[38;5;28;01mNone\u001b[39;00m \u001b[38;5;28;01melse\u001b[39;00m path\n\u001b[0;32m     39\u001b[0m \u001b[38;5;28;01mexcept\u001b[39;00m \u001b[38;5;167;01mException\u001b[39;00m \u001b[38;5;28;01mas\u001b[39;00m err:\n\u001b[1;32m---> 40\u001b[0m     msg \u001b[38;5;241m=\u001b[39m \u001b[38;5;124mf\u001b[39m\u001b[38;5;124m\"\u001b[39m\u001b[38;5;124mUnable to obtain driver for \u001b[39m\u001b[38;5;132;01m{\u001b[39;00moptions\u001b[38;5;241m.\u001b[39mcapabilities[\u001b[38;5;124m'\u001b[39m\u001b[38;5;124mbrowserName\u001b[39m\u001b[38;5;124m'\u001b[39m]\u001b[38;5;132;01m}\u001b[39;00m\u001b[38;5;124m using Selenium Manager.\u001b[39m\u001b[38;5;124m\"\u001b[39m\n\u001b[0;32m     41\u001b[0m     \u001b[38;5;28;01mraise\u001b[39;00m NoSuchDriverException(msg) \u001b[38;5;28;01mfrom\u001b[39;00m \u001b[38;5;21;01merr\u001b[39;00m\n\u001b[0;32m     43\u001b[0m \u001b[38;5;28;01mif\u001b[39;00m path \u001b[38;5;129;01mis\u001b[39;00m \u001b[38;5;28;01mNone\u001b[39;00m \u001b[38;5;129;01mor\u001b[39;00m \u001b[38;5;129;01mnot\u001b[39;00m Path(path)\u001b[38;5;241m.\u001b[39mis_file():\n",
      "\u001b[1;31mAttributeError\u001b[0m: 'str' object has no attribute 'capabilities'"
     ]
    }
   ],
   "source": [
    "driver = webdriver.Chrome(Driver_path)"
   ]
  },
  {
   "cell_type": "code",
   "execution_count": null,
   "id": "4114d566-3e58-4dbb-b353-e3b1d45a9265",
   "metadata": {
    "id": "4114d566-3e58-4dbb-b353-e3b1d45a9265"
   },
   "outputs": [],
   "source": [
    "urlPath = 'https://www.youtube.com/channel/UCgyMIMxCZhZIZz6UzldPPFg/videos?view=0&sort=p&flow=grid'"
   ]
  },
  {
   "cell_type": "code",
   "execution_count": null,
   "id": "f17eb117-b6bd-4dc6-9412-56b482297abb",
   "metadata": {
    "id": "f17eb117-b6bd-4dc6-9412-56b482297abb"
   },
   "outputs": [],
   "source": [
    "driver.get(urlPath)"
   ]
  },
  {
   "cell_type": "code",
   "execution_count": null,
   "id": "098aba93-86f7-496e-bef9-441e57f13102",
   "metadata": {
    "id": "098aba93-86f7-496e-bef9-441e57f13102"
   },
   "outputs": [],
   "source": [
    "from selenium.webdriver.common.by import By\n",
    "videos = driver.find_elements(By.CLASS_NAME, \"style-scope ytd-grid-video-renderer\")"
   ]
  },
  {
   "cell_type": "code",
   "execution_count": null,
   "id": "dd43e44d-de59-414c-8f85-bebf63816645",
   "metadata": {
    "id": "dd43e44d-de59-414c-8f85-bebf63816645"
   },
   "outputs": [],
   "source": [
    "for video in videos:\n",
    "    titles = driver.find_elements(By.XPATH,'.//*[@id=\"video-title\"]')\n",
    "    views  = driver.find_elements(By.XPATH,'.//*[@id=\"metadata-line\"]/span[1]')\n",
    "\n"
   ]
  },
  {
   "cell_type": "code",
   "execution_count": null,
   "id": "fc0a36b7-e0a8-4add-aa4e-acc67669b4cb",
   "metadata": {
    "id": "fc0a36b7-e0a8-4add-aa4e-acc67669b4cb",
    "outputId": "4b134373-4b7a-4737-de3e-5b58f059ea8d"
   },
   "outputs": [
    {
     "name": "stdout",
     "output_type": "stream",
     "text": [
      "Eliminating Indirect Left Recursion 1\n",
      "Introduction to Compiler\n",
      "Gray-scale Morphology Flat Structuring Element\n",
      "Linear & Bi-linear Interpolation\n",
      "Image Interpolation\n",
      "Nearest Neighborhood Interpolation\n",
      "Image Modalities\n",
      "Regular Expression\n",
      "Gray-scale Morphology Non-Flat Structuring Element\n",
      "Eliminating Indirect Left Recursion 2\n",
      "How to Construct a Parser Table for LL(1) Grammar\n",
      "How to Compute First Set\n",
      "Lexical Analysis Implementation\n",
      "Panic Mode\n",
      "Introduction to Theory of Automata\n",
      "How to Compute Follow Set\n",
      "Phases of Compiler\n",
      "Left Factor\n",
      "Eliminating Left Recursion\n",
      "Ambiguous Grammar\n",
      "Left Recursive vs Right Recursive Grammar\n",
      "Gray Level Slicing\n",
      "Finite Automata in CC\n",
      "Semantic Analysis Introduction P1\n",
      "Panic Mode Example\n",
      "Median Filter Example\n",
      "LL(1) Driver Simulation\n",
      "LL(1) Parsing in Table Format\n",
      "Eliminating Indirect Left Factoring\n",
      "Top Down Parser\n",
      "Wrting Rules for LL1 Grammar p1\n",
      "Three Address Code\n",
      "Propositional Logic Inference Mechanism on Wumpus World\n",
      "Semantic Analysis Introduction P2\n",
      "Three Address Code on Arrays\n",
      "Code Compilation\n",
      "Lexical Analysis Implementation 2\n",
      "S Attributed Grammar Translation\n",
      "Binary to Decimal Conversion Part 1\n",
      "Semantic Rules for Three Address Code\n",
      "Hough Transform in Polar Space\n",
      "Static Approach to Finite Automata\n",
      "Wrting Rules for LL1 Grammar p2\n",
      "Semantic Rule Creation for AST\n",
      "Wumpus World Solution Using Knowledge Base Agent\n",
      "Regular Expresson to NFA null using Kleene's Theorem\n",
      "Thresholding Example Octave\n",
      "Lexical Analysis Implementation 3\n",
      "L Attributed Grammar Translation\n",
      "Lexical Analysis Implementation 4\n",
      "In-Production Semantic Rules\n",
      "Recursive Decent Parser\n",
      "Binary to Decimal Conversion Part 2\n",
      "Connected Component Using 2 Pass Algorithm\n",
      "Depth First Search\n",
      "Image Padding\n",
      "Hough Transformation Line Segment\n",
      "Semantic Rules for Array Type Expression\n",
      "Histogram Equalization\n",
      "point processing\n",
      "Regular Expression for a language words as number divisible by 2\n",
      "CFG complex example\n",
      "Closure Property of DFA\n",
      "Morphological Image Processing\n",
      "Code Processing in Compiler with respect to lexical, syntax & semantic analysis phases\n",
      "How to construct a Deterministic Finite Automata (DFA)\n",
      "Morphological Opening & Closing Example Notes\n",
      "CFG an bn\n",
      "Regular Expression (RE) Examples\n",
      "Threshold Point Processing\n",
      "Bit Plane Slicing\n",
      "Contrast Stretching\n",
      "Neighbourhood Processing\n",
      "Image Gradient\n",
      "Iterative Deepening Search\n",
      "Cross Correlation\n",
      "Edge Detection in Action (Octave / Matlab)\n",
      "Cross Correlation vs Convolution 1\n",
      "Basics for Semantic Analysis\n",
      "Push Down Automata (PDA) Introductory\n",
      "Introduction to Language\n",
      "Morphological Opening & Closing\n",
      "Regular Expression for a language sum of digits in words divisible by 2\n",
      "Introduction to Finite Automata\n",
      "Point Processing Negative Image Example\n",
      "NFA Examples\n",
      "Subset Construction Method\n",
      "Erosion Dilation Examples on Octave\n",
      "Regular Expression\n",
      "Image Processing in Frequency Domain\n",
      "Genetic Algorithm\n",
      "CFG an bm and n is greater than m\n",
      "How to Detect Edge in a Noisy Image\n",
      "CFG an bm and m is greater than or equal to n\n",
      "Languages vs Set Operations\n",
      "Non Deterministic Finite Automata Explanation\n",
      "String Processing in Finite Automata\n",
      "Min Filter Example\n",
      "Null Elimination Method (NFA-null to NFA conversion)\n",
      "Cross Correlation vs Convolution 2\n",
      "DFA for language starting with \"aba\"\n",
      "How to Write a CFG | Complex Example\n",
      "Local Search in Action 1 (Python)\n",
      "PDA an bn\n",
      "How to Design a PDA | Complex Example | Part 1\n",
      "Conversion of CFG to CNF\n",
      "Noisy Images\n",
      "Taking complement of a DFA\n",
      "Deterministic Finite Automata to Regular Expression (DFA to RE)\n",
      "PDA Input Processing on an bn\n",
      "Types of Finite Automata\n",
      "Fundamentals of Image Processing\n",
      "How to Design a PDA | Complex Example | Part 2\n",
      "Designing a Filter From Equation\n",
      "PDA an bm n is greater than m\n",
      "Greedy Best First Search\n",
      "Image Formation\n",
      "Unsharp Masking\n",
      "Filter the Noisy 1\n",
      "PDA an b2n using multi push\n",
      "TSP GA\n",
      "Image Translation using Cross Correlation\n",
      "PDA an b2n using states\n",
      "Measuring Directional Changes\n",
      "GA Assignment Explanation\n",
      "ID A star Part 1\n",
      "Depth Limited Search\n",
      "A Star\n",
      "Gray-scale Morphology Discussion (Python)\n",
      "Filter the Noisy 2\n",
      "Max Filter Example\n",
      "K Mean Clustering Example\n",
      "Wumpus World Description\n",
      "Propositional Logic on KBA Solver 1\n",
      "Kmean Clustering Concept\n",
      "Morphology Examples (Octave)\n",
      "Knowledge Base Agent Idea\n",
      "Uniform Cost Search\n",
      "Basic Idea of Minimax Algorithm\n",
      "Pumping Lemma For Regular Language\n",
      "TM Example with Multi Tape wcw\n",
      "First Order Logic Examples\n",
      "Alpha Beta Pruning\n",
      "Breadth First Search\n",
      "BFS & DFS Implementation Part 1\n",
      "First Order Logic\n",
      "Basic Concept about Alpha Beta Pruning\n",
      "Minimax with Algorithmic Simulation\n",
      "Image Reading in Colab | Colab Introduction | Libraries Use in Colab | Drive utilization in Colab\n",
      "Heuristic\n",
      "Logic in KBA\n",
      "K Nearest Neighbor Algorithm\n",
      "ID A star Part 2\n",
      "Function Computation on TM Example x plus y\n",
      "Example of Pumping Lemma for CFL\n",
      "Introduction to Machine Learning\n",
      "TM Example with single tape an bn cn\n",
      "Pumping Lemma for Context-Free Language\n",
      "Introduction to Turing Machine\n",
      "Local Search in Action 2 (Python)\n",
      "CYK Algorithm\n",
      "Propositional Logic on KBA Solver 2\n",
      "Local Search in Action 3 (Python)\n",
      "Point Processing using COLAB | Visualization using Matplotlib | Code Practicing in Python\n",
      "BFS & DFS Implementation Part 2\n"
     ]
    }
   ],
   "source": [
    "for title in titles:\n",
    "    print(title.text)"
   ]
  },
  {
   "cell_type": "code",
   "execution_count": null,
   "id": "895f90f9-4878-4f4b-be2e-f1e28b26a6fa",
   "metadata": {
    "id": "895f90f9-4878-4f4b-be2e-f1e28b26a6fa",
    "outputId": "c387c6b8-ee2a-417e-8381-015c86a7398f"
   },
   "outputs": [
    {
     "name": "stdout",
     "output_type": "stream",
     "text": [
      "3.9K views\n",
      "3.3K views\n",
      "2.8K views\n",
      "2.8K views\n",
      "2K views\n",
      "1.5K views\n",
      "1.3K views\n",
      "1.2K views\n",
      "1.2K views\n",
      "1.2K views\n",
      "1.2K views\n",
      "1.1K views\n",
      "1.1K views\n",
      "1.1K views\n",
      "1.1K views\n",
      "1K views\n",
      "1K views\n",
      "1K views\n",
      "1K views\n",
      "982 views\n",
      "981 views\n",
      "969 views\n",
      "918 views\n",
      "916 views\n",
      "877 views\n",
      "868 views\n",
      "852 views\n",
      "820 views\n",
      "815 views\n",
      "813 views\n",
      "\n",
      "\n",
      "\n"
     ]
    }
   ],
   "source": [
    "for view in views:\n",
    "    print(view.text)"
   ]
  },
  {
   "cell_type": "code",
   "execution_count": null,
   "id": "07a2edb8-bbe2-454d-a107-fe67708aa82d",
   "metadata": {
    "id": "07a2edb8-bbe2-454d-a107-fe67708aa82d"
   },
   "outputs": [],
   "source": []
  }
 ],
 "metadata": {
  "colab": {
   "provenance": []
  },
  "kernelspec": {
   "display_name": "Python 3 (ipykernel)",
   "language": "python",
   "name": "python3"
  },
  "language_info": {
   "codemirror_mode": {
    "name": "ipython",
    "version": 3
   },
   "file_extension": ".py",
   "mimetype": "text/x-python",
   "name": "python",
   "nbconvert_exporter": "python",
   "pygments_lexer": "ipython3",
   "version": "3.9.12"
  }
 },
 "nbformat": 4,
 "nbformat_minor": 5
}
