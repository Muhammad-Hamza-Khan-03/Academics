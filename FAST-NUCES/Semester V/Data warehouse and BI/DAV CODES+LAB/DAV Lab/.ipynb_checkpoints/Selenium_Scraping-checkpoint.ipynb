{
 "cells": [
  {
   "cell_type": "code",
   "execution_count": 1,
   "metadata": {
    "id": "Bj-82BSD0vSq"
   },
   "outputs": [],
   "source": [
    "from selenium import webdriver\n",
    "from selenium.webdriver.chrome.service import Service\n",
    "from selenium.webdriver.common.by import By\n",
    "from selenium.webdriver.common.keys import Keys\n",
    "from bs4 import BeautifulSoup\n",
    "import pandas as pd\n",
    "import time"
   ]
  },
  {
   "cell_type": "code",
   "execution_count": 4,
   "metadata": {
    "id": "aYguujBv0vSz"
   },
   "outputs": [],
   "source": [
    "s = Service(\"C:/Users/Hamza/Desktop/5th sem/DAV/chromedriver-win64/chromedriver.exe\")"
   ]
  },
  {
   "cell_type": "code",
   "execution_count": 5,
   "metadata": {
    "id": "XixllA4a0vS1"
   },
   "outputs": [],
   "source": [
    "driver = webdriver.Chrome(service = s)"
   ]
  },
  {
   "cell_type": "code",
   "execution_count": 12,
   "metadata": {
    "id": "EpCMjgsX0vS4"
   },
   "outputs": [],
   "source": [
    "driver.get(\"https://www.youtube.com/@analogcourses1192/videos\")"
   ]
  },
  {
   "cell_type": "code",
   "execution_count": null,
   "metadata": {
    "id": "2pdmGfl20vS6"
   },
   "outputs": [],
   "source": []
  },
  {
   "cell_type": "code",
   "execution_count": 13,
   "metadata": {
    "id": "duKIaQxz0vS6"
   },
   "outputs": [],
   "source": [
    "videos = driver.find_elements(By.CLASS_NAME, \"style-scope ytd-rich-grid-media\")"
   ]
  },
  {
   "cell_type": "code",
   "execution_count": 8,
   "metadata": {
    "id": "_hodrvHW0vS7"
   },
   "outputs": [],
   "source": [
    "for video in videos:\n",
    "    titles = driver.find_elements(By.XPATH,'//*[@id=\"video-title\"]')\n",
    "    views = driver.find_elements(By.XPATH,'//*[@id=\"metadata-line\"]/span[1]')"
   ]
  },
  {
   "cell_type": "code",
   "execution_count": 9,
   "metadata": {
    "id": "I_JFVQ6E0vS9",
    "outputId": "90f0a2f3-c75c-4cc7-d69c-acd673651688"
   },
   "outputs": [
    {
     "data": {
      "text/plain": [
       "0"
      ]
     },
     "execution_count": 9,
     "metadata": {},
     "output_type": "execute_result"
    }
   ],
   "source": [
    "l = len(videos)\n",
    "l"
   ]
  },
  {
   "cell_type": "code",
   "execution_count": 11,
   "metadata": {
    "id": "UsA5GtlA0vTA",
    "outputId": "7521dcaf-8296-4035-8355-97a22c7f5e98"
   },
   "outputs": [],
   "source": [
    "for x in range(0,l):\n",
    "    print(titles[x].text.strip(), \" \", views[x].text.strip())"
   ]
  },
  {
   "cell_type": "code",
   "execution_count": null,
   "metadata": {
    "id": "VtMDT-kb0vTB",
    "scrolled": true
   },
   "outputs": [],
   "source": [
    "driver.get(\"https://www.google.com/\")"
   ]
  },
  {
   "cell_type": "code",
   "execution_count": null,
   "metadata": {
    "id": "0nEQfRQg0vTC"
   },
   "outputs": [],
   "source": [
    "search = driver.find_element(by=By.XPATH,value='//*[@id=\"APjFqb\"]')"
   ]
  },
  {
   "cell_type": "code",
   "execution_count": null,
   "metadata": {
    "id": "jAO3efPW0vTD"
   },
   "outputs": [],
   "source": [
    "search.send_keys(\"Selenium\")\n",
    "time.sleep(2)\n",
    "search.send_keys(Keys.ENTER)"
   ]
  },
  {
   "cell_type": "code",
   "execution_count": null,
   "metadata": {
    "id": "3cbeSkLF0vTD",
    "outputId": "8c52da7e-7244-45d1-b20e-8a20f762f659"
   },
   "outputs": [
    {
     "data": {
      "text/plain": [
       "True"
      ]
     },
     "execution_count": 193,
     "metadata": {},
     "output_type": "execute_result"
    }
   ],
   "source": [
    "driver.save_screenshot(\"article.png\")"
   ]
  },
  {
   "cell_type": "code",
   "execution_count": null,
   "metadata": {
    "id": "8h1Io1bZ0vTE"
   },
   "outputs": [],
   "source": [
    "driver.get(\"https://covid19.ncdc.gov.ng/\")"
   ]
  },
  {
   "cell_type": "code",
   "execution_count": null,
   "metadata": {
    "id": "SumlhmEp0vTE"
   },
   "outputs": [],
   "source": [
    "page = driver.find_element(By.XPATH, value= '/html/body/div[1]/div/div[1]/div[3]/div[1]/div/div[2]')"
   ]
  },
  {
   "cell_type": "code",
   "execution_count": null,
   "metadata": {
    "id": "wd-Gzcw80vTF"
   },
   "outputs": [],
   "source": []
  },
  {
   "cell_type": "code",
   "execution_count": null,
   "metadata": {
    "id": "j7JucJsU0vTF"
   },
   "outputs": [],
   "source": [
    "covid = BeautifulSoup(page.get_attribute(\"outerHTML\"), 'html.parser')"
   ]
  },
  {
   "cell_type": "code",
   "execution_count": null,
   "metadata": {
    "id": "IQzytzNJ0vTF"
   },
   "outputs": [],
   "source": [
    "table = covid.find('table')"
   ]
  },
  {
   "cell_type": "code",
   "execution_count": null,
   "metadata": {
    "id": "B6oJqBjC0vTH"
   },
   "outputs": [],
   "source": [
    "rows = table.find_all('tr')"
   ]
  },
  {
   "cell_type": "code",
   "execution_count": null,
   "metadata": {
    "id": "y8B5PUZ_0vTI"
   },
   "outputs": [],
   "source": [
    "headers = rows[0]"
   ]
  },
  {
   "cell_type": "code",
   "execution_count": null,
   "metadata": {
    "id": "ObPgd3Vv0vTJ"
   },
   "outputs": [],
   "source": [
    "head = headers.find_all('th')"
   ]
  },
  {
   "cell_type": "code",
   "execution_count": null,
   "metadata": {
    "id": "ed938XpJ0vTJ"
   },
   "outputs": [],
   "source": [
    "titles = []\n",
    "for i in head:\n",
    "    title = i.text.strip()\n",
    "    titles.append(title)"
   ]
  },
  {
   "cell_type": "code",
   "execution_count": null,
   "metadata": {
    "id": "P79IGo0V0vTJ",
    "outputId": "e4cf47a8-ec76-4a5c-b373-1af8a24ed9d2"
   },
   "outputs": [
    {
     "data": {
      "text/plain": [
       "['States Affected',\n",
       " 'No. of Cases (Lab Confirmed)',\n",
       " 'No. of Cases (on admission)',\n",
       " 'No. Discharged',\n",
       " 'No. of Deaths']"
      ]
     },
     "execution_count": 202,
     "metadata": {},
     "output_type": "execute_result"
    }
   ],
   "source": [
    "titles"
   ]
  },
  {
   "cell_type": "code",
   "execution_count": null,
   "metadata": {
    "id": "4pVoJXWi0vTK"
   },
   "outputs": [],
   "source": [
    "df = pd.DataFrame(columns = titles)"
   ]
  },
  {
   "cell_type": "code",
   "execution_count": null,
   "metadata": {
    "id": "1GSZ7OL30vTK",
    "outputId": "f7def189-eb38-4930-ac8a-e8671690c17a"
   },
   "outputs": [
    {
     "data": {
      "text/html": [
       "<div>\n",
       "<style scoped>\n",
       "    .dataframe tbody tr th:only-of-type {\n",
       "        vertical-align: middle;\n",
       "    }\n",
       "\n",
       "    .dataframe tbody tr th {\n",
       "        vertical-align: top;\n",
       "    }\n",
       "\n",
       "    .dataframe thead th {\n",
       "        text-align: right;\n",
       "    }\n",
       "</style>\n",
       "<table border=\"1\" class=\"dataframe\">\n",
       "  <thead>\n",
       "    <tr style=\"text-align: right;\">\n",
       "      <th></th>\n",
       "      <th>States Affected</th>\n",
       "      <th>No. of Cases (Lab Confirmed)</th>\n",
       "      <th>No. of Cases (on admission)</th>\n",
       "      <th>No. Discharged</th>\n",
       "      <th>No. of Deaths</th>\n",
       "    </tr>\n",
       "  </thead>\n",
       "  <tbody>\n",
       "  </tbody>\n",
       "</table>\n",
       "</div>"
      ],
      "text/plain": [
       "Empty DataFrame\n",
       "Columns: [States Affected, No. of Cases (Lab Confirmed), No. of Cases (on admission), No. Discharged, No. of Deaths]\n",
       "Index: []"
      ]
     },
     "execution_count": 204,
     "metadata": {},
     "output_type": "execute_result"
    }
   ],
   "source": [
    "df"
   ]
  },
  {
   "cell_type": "code",
   "execution_count": null,
   "metadata": {
    "id": "yQPwJVQT0vTL"
   },
   "outputs": [],
   "source": [
    "for i in rows[1:]:\n",
    "    data = i.find_all('td')\n",
    "    row = [tr.text.strip() for tr in data]\n",
    "    l = len(df)\n",
    "    df.loc[l] = row"
   ]
  },
  {
   "cell_type": "code",
   "execution_count": null,
   "metadata": {
    "id": "rF5qlnCe0vTL",
    "outputId": "783cf813-6834-4460-bbea-ee9aeb4f9aea"
   },
   "outputs": [
    {
     "data": {
      "text/html": [
       "<div>\n",
       "<style scoped>\n",
       "    .dataframe tbody tr th:only-of-type {\n",
       "        vertical-align: middle;\n",
       "    }\n",
       "\n",
       "    .dataframe tbody tr th {\n",
       "        vertical-align: top;\n",
       "    }\n",
       "\n",
       "    .dataframe thead th {\n",
       "        text-align: right;\n",
       "    }\n",
       "</style>\n",
       "<table border=\"1\" class=\"dataframe\">\n",
       "  <thead>\n",
       "    <tr style=\"text-align: right;\">\n",
       "      <th></th>\n",
       "      <th>States Affected</th>\n",
       "      <th>No. of Cases (Lab Confirmed)</th>\n",
       "      <th>No. of Cases (on admission)</th>\n",
       "      <th>No. Discharged</th>\n",
       "      <th>No. of Deaths</th>\n",
       "    </tr>\n",
       "  </thead>\n",
       "  <tbody>\n",
       "    <tr>\n",
       "      <th>0</th>\n",
       "      <td>Lagos</td>\n",
       "      <td>104,286</td>\n",
       "      <td>1,143</td>\n",
       "      <td>102,372</td>\n",
       "      <td>771</td>\n",
       "    </tr>\n",
       "    <tr>\n",
       "      <th>1</th>\n",
       "      <td>FCT</td>\n",
       "      <td>29,535</td>\n",
       "      <td>9</td>\n",
       "      <td>29,277</td>\n",
       "      <td>249</td>\n",
       "    </tr>\n",
       "    <tr>\n",
       "      <th>2</th>\n",
       "      <td>Rivers</td>\n",
       "      <td>18,112</td>\n",
       "      <td>-3</td>\n",
       "      <td>17,960</td>\n",
       "      <td>155</td>\n",
       "    </tr>\n",
       "    <tr>\n",
       "      <th>3</th>\n",
       "      <td>Kaduna</td>\n",
       "      <td>11,675</td>\n",
       "      <td>3</td>\n",
       "      <td>11,583</td>\n",
       "      <td>89</td>\n",
       "    </tr>\n",
       "    <tr>\n",
       "      <th>4</th>\n",
       "      <td>Plateau</td>\n",
       "      <td>10,365</td>\n",
       "      <td>4</td>\n",
       "      <td>10,286</td>\n",
       "      <td>75</td>\n",
       "    </tr>\n",
       "    <tr>\n",
       "      <th>5</th>\n",
       "      <td>Oyo</td>\n",
       "      <td>10,352</td>\n",
       "      <td>0</td>\n",
       "      <td>10,150</td>\n",
       "      <td>202</td>\n",
       "    </tr>\n",
       "    <tr>\n",
       "      <th>6</th>\n",
       "      <td>Edo</td>\n",
       "      <td>7,928</td>\n",
       "      <td>0</td>\n",
       "      <td>7,606</td>\n",
       "      <td>322</td>\n",
       "    </tr>\n",
       "    <tr>\n",
       "      <th>7</th>\n",
       "      <td>Delta</td>\n",
       "      <td>5,858</td>\n",
       "      <td>576</td>\n",
       "      <td>5,170</td>\n",
       "      <td>112</td>\n",
       "    </tr>\n",
       "    <tr>\n",
       "      <th>8</th>\n",
       "      <td>Ogun</td>\n",
       "      <td>5,810</td>\n",
       "      <td>11</td>\n",
       "      <td>5,717</td>\n",
       "      <td>82</td>\n",
       "    </tr>\n",
       "    <tr>\n",
       "      <th>9</th>\n",
       "      <td>Kano</td>\n",
       "      <td>5,429</td>\n",
       "      <td>11</td>\n",
       "      <td>5,291</td>\n",
       "      <td>127</td>\n",
       "    </tr>\n",
       "    <tr>\n",
       "      <th>10</th>\n",
       "      <td>Ondo</td>\n",
       "      <td>5,173</td>\n",
       "      <td>315</td>\n",
       "      <td>4,749</td>\n",
       "      <td>109</td>\n",
       "    </tr>\n",
       "    <tr>\n",
       "      <th>11</th>\n",
       "      <td>Akwa Ibom</td>\n",
       "      <td>5,010</td>\n",
       "      <td>6</td>\n",
       "      <td>4,960</td>\n",
       "      <td>44</td>\n",
       "    </tr>\n",
       "    <tr>\n",
       "      <th>12</th>\n",
       "      <td>Kwara</td>\n",
       "      <td>4,691</td>\n",
       "      <td>452</td>\n",
       "      <td>4,175</td>\n",
       "      <td>64</td>\n",
       "    </tr>\n",
       "    <tr>\n",
       "      <th>13</th>\n",
       "      <td>Gombe</td>\n",
       "      <td>3,313</td>\n",
       "      <td>8</td>\n",
       "      <td>3,239</td>\n",
       "      <td>66</td>\n",
       "    </tr>\n",
       "    <tr>\n",
       "      <th>14</th>\n",
       "      <td>Osun</td>\n",
       "      <td>3,311</td>\n",
       "      <td>29</td>\n",
       "      <td>3,190</td>\n",
       "      <td>92</td>\n",
       "    </tr>\n",
       "    <tr>\n",
       "      <th>15</th>\n",
       "      <td>Enugu</td>\n",
       "      <td>2,952</td>\n",
       "      <td>13</td>\n",
       "      <td>2,910</td>\n",
       "      <td>29</td>\n",
       "    </tr>\n",
       "    <tr>\n",
       "      <th>16</th>\n",
       "      <td>Nasarawa</td>\n",
       "      <td>2,853</td>\n",
       "      <td>469</td>\n",
       "      <td>2,345</td>\n",
       "      <td>39</td>\n",
       "    </tr>\n",
       "    <tr>\n",
       "      <th>17</th>\n",
       "      <td>Anambra</td>\n",
       "      <td>2,825</td>\n",
       "      <td>46</td>\n",
       "      <td>2,760</td>\n",
       "      <td>19</td>\n",
       "    </tr>\n",
       "    <tr>\n",
       "      <th>18</th>\n",
       "      <td>Imo</td>\n",
       "      <td>2,691</td>\n",
       "      <td>3</td>\n",
       "      <td>2,630</td>\n",
       "      <td>58</td>\n",
       "    </tr>\n",
       "    <tr>\n",
       "      <th>19</th>\n",
       "      <td>Ekiti</td>\n",
       "      <td>2,466</td>\n",
       "      <td>0</td>\n",
       "      <td>2,438</td>\n",
       "      <td>28</td>\n",
       "    </tr>\n",
       "    <tr>\n",
       "      <th>20</th>\n",
       "      <td>Katsina</td>\n",
       "      <td>2,418</td>\n",
       "      <td>0</td>\n",
       "      <td>2,381</td>\n",
       "      <td>37</td>\n",
       "    </tr>\n",
       "    <tr>\n",
       "      <th>21</th>\n",
       "      <td>Benue</td>\n",
       "      <td>2,317</td>\n",
       "      <td>88</td>\n",
       "      <td>2,204</td>\n",
       "      <td>25</td>\n",
       "    </tr>\n",
       "    <tr>\n",
       "      <th>22</th>\n",
       "      <td>Abia</td>\n",
       "      <td>2,263</td>\n",
       "      <td>0</td>\n",
       "      <td>2,229</td>\n",
       "      <td>34</td>\n",
       "    </tr>\n",
       "    <tr>\n",
       "      <th>23</th>\n",
       "      <td>Ebonyi</td>\n",
       "      <td>2,064</td>\n",
       "      <td>28</td>\n",
       "      <td>2,004</td>\n",
       "      <td>32</td>\n",
       "    </tr>\n",
       "    <tr>\n",
       "      <th>24</th>\n",
       "      <td>Bauchi</td>\n",
       "      <td>2,028</td>\n",
       "      <td>2</td>\n",
       "      <td>2,002</td>\n",
       "      <td>24</td>\n",
       "    </tr>\n",
       "    <tr>\n",
       "      <th>25</th>\n",
       "      <td>Borno</td>\n",
       "      <td>1,629</td>\n",
       "      <td>5</td>\n",
       "      <td>1,580</td>\n",
       "      <td>44</td>\n",
       "    </tr>\n",
       "    <tr>\n",
       "      <th>26</th>\n",
       "      <td>Taraba</td>\n",
       "      <td>1,517</td>\n",
       "      <td>32</td>\n",
       "      <td>1,451</td>\n",
       "      <td>34</td>\n",
       "    </tr>\n",
       "    <tr>\n",
       "      <th>27</th>\n",
       "      <td>Bayelsa</td>\n",
       "      <td>1,373</td>\n",
       "      <td>2</td>\n",
       "      <td>1,343</td>\n",
       "      <td>28</td>\n",
       "    </tr>\n",
       "    <tr>\n",
       "      <th>28</th>\n",
       "      <td>Adamawa</td>\n",
       "      <td>1,312</td>\n",
       "      <td>134</td>\n",
       "      <td>1,140</td>\n",
       "      <td>38</td>\n",
       "    </tr>\n",
       "    <tr>\n",
       "      <th>29</th>\n",
       "      <td>Niger</td>\n",
       "      <td>1,183</td>\n",
       "      <td>165</td>\n",
       "      <td>998</td>\n",
       "      <td>20</td>\n",
       "    </tr>\n",
       "    <tr>\n",
       "      <th>30</th>\n",
       "      <td>Cross River</td>\n",
       "      <td>947</td>\n",
       "      <td>0</td>\n",
       "      <td>922</td>\n",
       "      <td>25</td>\n",
       "    </tr>\n",
       "    <tr>\n",
       "      <th>31</th>\n",
       "      <td>Sokoto</td>\n",
       "      <td>822</td>\n",
       "      <td>0</td>\n",
       "      <td>794</td>\n",
       "      <td>28</td>\n",
       "    </tr>\n",
       "    <tr>\n",
       "      <th>32</th>\n",
       "      <td>Jigawa</td>\n",
       "      <td>669</td>\n",
       "      <td>2</td>\n",
       "      <td>649</td>\n",
       "      <td>18</td>\n",
       "    </tr>\n",
       "    <tr>\n",
       "      <th>33</th>\n",
       "      <td>Yobe</td>\n",
       "      <td>638</td>\n",
       "      <td>4</td>\n",
       "      <td>625</td>\n",
       "      <td>9</td>\n",
       "    </tr>\n",
       "    <tr>\n",
       "      <th>34</th>\n",
       "      <td>Kebbi</td>\n",
       "      <td>480</td>\n",
       "      <td>10</td>\n",
       "      <td>454</td>\n",
       "      <td>16</td>\n",
       "    </tr>\n",
       "    <tr>\n",
       "      <th>35</th>\n",
       "      <td>Zamfara</td>\n",
       "      <td>375</td>\n",
       "      <td>0</td>\n",
       "      <td>366</td>\n",
       "      <td>9</td>\n",
       "    </tr>\n",
       "    <tr>\n",
       "      <th>36</th>\n",
       "      <td>Kogi</td>\n",
       "      <td>5</td>\n",
       "      <td>0</td>\n",
       "      <td>3</td>\n",
       "      <td>2</td>\n",
       "    </tr>\n",
       "  </tbody>\n",
       "</table>\n",
       "</div>"
      ],
      "text/plain": [
       "   States Affected No. of Cases (Lab Confirmed) No. of Cases (on admission)  \\\n",
       "0            Lagos                      104,286                       1,143   \n",
       "1              FCT                       29,535                           9   \n",
       "2           Rivers                       18,112                          -3   \n",
       "3           Kaduna                       11,675                           3   \n",
       "4          Plateau                       10,365                           4   \n",
       "5              Oyo                       10,352                           0   \n",
       "6              Edo                        7,928                           0   \n",
       "7            Delta                        5,858                         576   \n",
       "8             Ogun                        5,810                          11   \n",
       "9             Kano                        5,429                          11   \n",
       "10            Ondo                        5,173                         315   \n",
       "11       Akwa Ibom                        5,010                           6   \n",
       "12           Kwara                        4,691                         452   \n",
       "13           Gombe                        3,313                           8   \n",
       "14            Osun                        3,311                          29   \n",
       "15           Enugu                        2,952                          13   \n",
       "16        Nasarawa                        2,853                         469   \n",
       "17         Anambra                        2,825                          46   \n",
       "18             Imo                        2,691                           3   \n",
       "19           Ekiti                        2,466                           0   \n",
       "20         Katsina                        2,418                           0   \n",
       "21           Benue                        2,317                          88   \n",
       "22            Abia                        2,263                           0   \n",
       "23          Ebonyi                        2,064                          28   \n",
       "24          Bauchi                        2,028                           2   \n",
       "25           Borno                        1,629                           5   \n",
       "26          Taraba                        1,517                          32   \n",
       "27         Bayelsa                        1,373                           2   \n",
       "28         Adamawa                        1,312                         134   \n",
       "29           Niger                        1,183                         165   \n",
       "30     Cross River                          947                           0   \n",
       "31          Sokoto                          822                           0   \n",
       "32          Jigawa                          669                           2   \n",
       "33            Yobe                          638                           4   \n",
       "34           Kebbi                          480                          10   \n",
       "35         Zamfara                          375                           0   \n",
       "36            Kogi                            5                           0   \n",
       "\n",
       "   No. Discharged No. of Deaths  \n",
       "0         102,372           771  \n",
       "1          29,277           249  \n",
       "2          17,960           155  \n",
       "3          11,583            89  \n",
       "4          10,286            75  \n",
       "5          10,150           202  \n",
       "6           7,606           322  \n",
       "7           5,170           112  \n",
       "8           5,717            82  \n",
       "9           5,291           127  \n",
       "10          4,749           109  \n",
       "11          4,960            44  \n",
       "12          4,175            64  \n",
       "13          3,239            66  \n",
       "14          3,190            92  \n",
       "15          2,910            29  \n",
       "16          2,345            39  \n",
       "17          2,760            19  \n",
       "18          2,630            58  \n",
       "19          2,438            28  \n",
       "20          2,381            37  \n",
       "21          2,204            25  \n",
       "22          2,229            34  \n",
       "23          2,004            32  \n",
       "24          2,002            24  \n",
       "25          1,580            44  \n",
       "26          1,451            34  \n",
       "27          1,343            28  \n",
       "28          1,140            38  \n",
       "29            998            20  \n",
       "30            922            25  \n",
       "31            794            28  \n",
       "32            649            18  \n",
       "33            625             9  \n",
       "34            454            16  \n",
       "35            366             9  \n",
       "36              3             2  "
      ]
     },
     "execution_count": 206,
     "metadata": {},
     "output_type": "execute_result"
    }
   ],
   "source": [
    "df"
   ]
  },
  {
   "cell_type": "code",
   "execution_count": null,
   "metadata": {
    "id": "92Eb67W00vTM"
   },
   "outputs": [],
   "source": [
    "df.to_csv('covid.csv')"
   ]
  },
  {
   "cell_type": "code",
   "execution_count": null,
   "metadata": {
    "id": "G8rO7k8c0vTM"
   },
   "outputs": [],
   "source": [
    "driver.get(\"https://www.google.com/\")\n",
    "search = driver.find_element(by=By.XPATH,value='//*[@id=\"APjFqb\"]')\n",
    "time.sleep(2)\n",
    "search.send_keys(\"Nike\")\n",
    "time.sleep(3)\n",
    "search.send_keys(Keys.ENTER)"
   ]
  },
  {
   "cell_type": "code",
   "execution_count": null,
   "metadata": {
    "id": "UuiPUBuL0vTM"
   },
   "outputs": [],
   "source": [
    "driver.find_element(by=By.XPATH, value = '/html/body/div[6]/div/div[10]/div[1]/div[2]/div[2]/div/div/div[1]/div/div/div/div/div/div/div/div[1]/div/a/h3').click()"
   ]
  },
  {
   "cell_type": "code",
   "execution_count": null,
   "metadata": {
    "id": "YKBQy_eX0vTN"
   },
   "outputs": [],
   "source": [
    "driver.get(\"https://www.nike.com/w/baby-toddler-kids-shoes-2j488zv4dhzy7ok\")"
   ]
  },
  {
   "cell_type": "code",
   "execution_count": null,
   "metadata": {
    "id": "xQrZINjP0vTN",
    "outputId": "9e143cfa-6942-4a75-ed36-445ef8890242"
   },
   "outputs": [
    {
     "name": "stdout",
     "output_type": "stream",
     "text": [
      "5663\n",
      "15454\n",
      "25112\n",
      "30467\n"
     ]
    }
   ],
   "source": [
    "while True:\n",
    "    height = driver.execute_script(\"return document.body.scrollHeight\")\n",
    "    print(height)\n",
    "    driver.execute_script(\"window.scrollTo(0,document.body.scrollHeight)\")\n",
    "    time.sleep(3)\n",
    "    h2 = driver.execute_script(\"return document.body.scrollHeight\")\n",
    "\n",
    "    if height == h2:\n",
    "        break"
   ]
  },
  {
   "cell_type": "code",
   "execution_count": null,
   "metadata": {
    "id": "6XTr5DFI0vTO"
   },
   "outputs": [],
   "source": [
    "content = driver.find_element(by=By.XPATH, value='/html/body/div[4]/div/div/div[2]/div[4]/div/div[5]/div[2]/main/section/div')"
   ]
  },
  {
   "cell_type": "code",
   "execution_count": null,
   "metadata": {
    "id": "DC36VBx40vTO"
   },
   "outputs": [],
   "source": [
    "html = BeautifulSoup(content.get_attribute(\"outerHTML\"), 'html.parser')"
   ]
  },
  {
   "cell_type": "code",
   "execution_count": null,
   "metadata": {
    "id": "zZqr5vs-0vTO"
   },
   "outputs": [],
   "source": [
    "all_products = html.find_all(\"div\", class_=\"product-card__info disable-animations\")"
   ]
  },
  {
   "cell_type": "code",
   "execution_count": null,
   "metadata": {
    "id": "rylgWdGn0vTO"
   },
   "outputs": [],
   "source": [
    "names = []\n",
    "colors = []\n",
    "for product in all_products:\n",
    "    name = product.find(\"div\", class_=\"product-card__title\")\n",
    "    color = product.find(\"div\", class_=\"product-card__product-count font-override__body1\")\n",
    "    names.append(name.text.strip())\n",
    "    colors.append(color.text.strip())"
   ]
  },
  {
   "cell_type": "code",
   "execution_count": null,
   "metadata": {
    "id": "5rUGtg-e0vTP"
   },
   "outputs": [],
   "source": [
    "df2 = pd.DataFrame()"
   ]
  },
  {
   "cell_type": "code",
   "execution_count": null,
   "metadata": {
    "id": "eiDtwgDS0vTP"
   },
   "outputs": [],
   "source": [
    "df2[\"Product Name\"] = names\n",
    "df2[\"Color Options\"] = colors"
   ]
  },
  {
   "cell_type": "code",
   "execution_count": null,
   "metadata": {
    "id": "vh6A1iHG0vTQ",
    "outputId": "64b177ff-7497-4104-9313-f74bc6edf847"
   },
   "outputs": [
    {
     "data": {
      "text/html": [
       "<div>\n",
       "<style scoped>\n",
       "    .dataframe tbody tr th:only-of-type {\n",
       "        vertical-align: middle;\n",
       "    }\n",
       "\n",
       "    .dataframe tbody tr th {\n",
       "        vertical-align: top;\n",
       "    }\n",
       "\n",
       "    .dataframe thead th {\n",
       "        text-align: right;\n",
       "    }\n",
       "</style>\n",
       "<table border=\"1\" class=\"dataframe\">\n",
       "  <thead>\n",
       "    <tr style=\"text-align: right;\">\n",
       "      <th></th>\n",
       "      <th>Product Name</th>\n",
       "      <th>Color Options</th>\n",
       "    </tr>\n",
       "  </thead>\n",
       "  <tbody>\n",
       "    <tr>\n",
       "      <th>0</th>\n",
       "      <td>Nike Blazer Mid '77</td>\n",
       "      <td>1 Color</td>\n",
       "    </tr>\n",
       "    <tr>\n",
       "      <th>1</th>\n",
       "      <td>Nike Air Max 270</td>\n",
       "      <td>7 Colors</td>\n",
       "    </tr>\n",
       "    <tr>\n",
       "      <th>2</th>\n",
       "      <td>Nike Air Max 270</td>\n",
       "      <td>3 Colors</td>\n",
       "    </tr>\n",
       "    <tr>\n",
       "      <th>3</th>\n",
       "      <td>Nike Force 1 Low</td>\n",
       "      <td>5 Colors</td>\n",
       "    </tr>\n",
       "    <tr>\n",
       "      <th>4</th>\n",
       "      <td>Nike Force 1 LE</td>\n",
       "      <td>2 Colors</td>\n",
       "    </tr>\n",
       "    <tr>\n",
       "      <th>...</th>\n",
       "      <td>...</td>\n",
       "      <td>...</td>\n",
       "    </tr>\n",
       "    <tr>\n",
       "      <th>84</th>\n",
       "      <td>Jordan Max Aura 5</td>\n",
       "      <td>1 Color</td>\n",
       "    </tr>\n",
       "    <tr>\n",
       "      <th>85</th>\n",
       "      <td>Nike Sunray Protect 2</td>\n",
       "      <td>2 Colors</td>\n",
       "    </tr>\n",
       "    <tr>\n",
       "      <th>86</th>\n",
       "      <td>Tatum 1</td>\n",
       "      <td>1 Color</td>\n",
       "    </tr>\n",
       "    <tr>\n",
       "      <th>87</th>\n",
       "      <td>Nike Flex Advance SE</td>\n",
       "      <td>1 Color</td>\n",
       "    </tr>\n",
       "    <tr>\n",
       "      <th>88</th>\n",
       "      <td>Nike Air Max 97 SE</td>\n",
       "      <td>1 Color</td>\n",
       "    </tr>\n",
       "  </tbody>\n",
       "</table>\n",
       "<p>89 rows × 2 columns</p>\n",
       "</div>"
      ],
      "text/plain": [
       "             Product Name Color Options\n",
       "0     Nike Blazer Mid '77       1 Color\n",
       "1        Nike Air Max 270      7 Colors\n",
       "2        Nike Air Max 270      3 Colors\n",
       "3        Nike Force 1 Low      5 Colors\n",
       "4         Nike Force 1 LE      2 Colors\n",
       "..                    ...           ...\n",
       "84      Jordan Max Aura 5       1 Color\n",
       "85  Nike Sunray Protect 2      2 Colors\n",
       "86                Tatum 1       1 Color\n",
       "87   Nike Flex Advance SE       1 Color\n",
       "88     Nike Air Max 97 SE       1 Color\n",
       "\n",
       "[89 rows x 2 columns]"
      ]
     },
     "execution_count": 129,
     "metadata": {},
     "output_type": "execute_result"
    }
   ],
   "source": [
    "df2"
   ]
  },
  {
   "cell_type": "code",
   "execution_count": null,
   "metadata": {
    "id": "4u_F54bl0vTS"
   },
   "outputs": [],
   "source": [
    "df2.to_csv(\"nike.csv\")"
   ]
  },
  {
   "cell_type": "code",
   "execution_count": null,
   "metadata": {
    "id": "66bjA4nk0vTT"
   },
   "outputs": [],
   "source": []
  }
 ],
 "metadata": {
  "colab": {
   "provenance": []
  },
  "kernelspec": {
   "display_name": "Python 3 (ipykernel)",
   "language": "python",
   "name": "python3"
  },
  "language_info": {
   "codemirror_mode": {
    "name": "ipython",
    "version": 3
   },
   "file_extension": ".py",
   "mimetype": "text/x-python",
   "name": "python",
   "nbconvert_exporter": "python",
   "pygments_lexer": "ipython3",
   "version": "3.9.12"
  }
 },
 "nbformat": 4,
 "nbformat_minor": 1
}
