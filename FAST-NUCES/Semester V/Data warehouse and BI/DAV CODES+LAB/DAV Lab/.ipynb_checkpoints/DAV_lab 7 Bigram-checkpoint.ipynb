{
 "cells": [
  {
   "cell_type": "code",
   "execution_count": 7,
   "metadata": {
    "id": "QXOq9yWPhnwx"
   },
   "outputs": [],
   "source": [
    "import re\n",
    "from pathlib import Path\n",
    "import string\n",
    "from functools import reduce\n",
    "from math import log\n",
    "import itertools\n",
    "import pandas as pd\n",
    "from nltk.tokenize import sent_tokenize,word_tokenize\n",
    "import nltk"
   ]
  },
  {
   "cell_type": "code",
   "execution_count": 15,
   "metadata": {
    "id": "dDlHZx25hnwy"
   },
   "outputs": [],
   "source": [
    "# Enter smoothing or no smoothing.\n",
    "smoothing = 1\n",
    "filename = \"textfile.txt\""
   ]
  },
  {
   "cell_type": "code",
   "execution_count": 16,
   "metadata": {
    "id": "2eJi8DWxhnwy"
   },
   "outputs": [],
   "source": [
    "# Loads file\n",
    "# input - filename.txt\n",
    "# returns a list of sentences seperated by newline in the textfile.\n",
    "def load_file(filename):\n",
    "    with open(filename,\"r\") as reading_file:\n",
    "        lines = sent_tokenize(reading_file.read())\n",
    "    return lines"
   ]
  },
  {
   "cell_type": "code",
   "execution_count": 17,
   "metadata": {
    "id": "iijgEDLThnwy"
   },
   "outputs": [],
   "source": [
    "# Tokenizes the sentences meaning split the sentences into words seperated by the \"white sapce\".\n",
    "# input - List of sentences\n",
    "# returns a list of lists of each sentence being tokenized.\n",
    "def tokenize_sentence(lines):\n",
    "    tokens=[]\n",
    "    for i in lines:\n",
    "        tokens = word_tokenize(i)\n",
    "    return tokens"
   ]
  },
  {
   "cell_type": "code",
   "execution_count": 18,
   "metadata": {
    "id": "w2Wm5_anhnwy"
   },
   "outputs": [],
   "source": [
    "# Prepare the data for training the bigram model.\n",
    "# remove punctuations -print(string.punctuation) ---- !\"#$%&'()*+,-./:;<=>?@[\\]^_`{|}~ ----\n",
    "# remove empty strings.\n",
    "# lower case all the words\n",
    "# add <s> at the beginning and </s> at the end of every sentence in the corpus.\n",
    "# input - list of lists of words obtained from \"tokenize_sentence\" function.\n",
    "# returns - list of lists\n",
    "import string\n",
    "import nltk\n",
    "from nltk.stem import WordNetLemmatizer, PorterStemmer\n",
    "def prep_data(lines):\n",
    "    lines_new = []\n",
    "    lemmatizer = WordNetLemmatizer()\n",
    "    stemmer = PorterStemmer()\n",
    "    for sentence in lines:\n",
    "\n",
    "        sent = []\n",
    "        for word in sentence:\n",
    "            cleaned_word = ''.join(c for c in word if c not in string.punctuation)\n",
    "            if cleaned_word:\n",
    "                cleaned_word = cleaned_word.lower()\n",
    "                lemma = lemmatizer.lemmatize(cleaned_word)\n",
    "                stemmed_word = stemmer.stem(lemma)\n",
    "                sent.append(stemmed_word)\n",
    "        sent.insert(0, '<s>')\n",
    "        sent.append('</s>')\n",
    "        lines_new.append(sent)\n",
    "    print(\"No of sentences in Corpus: \" + str(len(lines_new)))\n",
    "    return lines_new"
   ]
  },
  {
   "cell_type": "code",
   "execution_count": 19,
   "metadata": {
    "id": "ZtPsFd7Qhnwz",
    "outputId": "abf8fed5-bd01-4ba4-d4e7-d7520e006f45"
   },
   "outputs": [
    {
     "ename": "FileNotFoundError",
     "evalue": "[Errno 2] No such file or directory: 'input.txt'",
     "output_type": "error",
     "traceback": [
      "\u001b[1;31m---------------------------------------------------------------------------\u001b[0m",
      "\u001b[1;31mFileNotFoundError\u001b[0m                         Traceback (most recent call last)",
      "Input \u001b[1;32mIn [19]\u001b[0m, in \u001b[0;36m<cell line: 1>\u001b[1;34m()\u001b[0m\n\u001b[1;32m----> 1\u001b[0m dataset \u001b[38;5;241m=\u001b[39m \u001b[43mload_file\u001b[49m\u001b[43m(\u001b[49m\u001b[43mfilename\u001b[49m\u001b[43m)\u001b[49m\n\u001b[0;32m      2\u001b[0m dataset \u001b[38;5;241m=\u001b[39m tokenize_sentence(dataset)\n\u001b[0;32m      3\u001b[0m dataset \u001b[38;5;241m=\u001b[39m prep_data(dataset)\n",
      "Input \u001b[1;32mIn [16]\u001b[0m, in \u001b[0;36mload_file\u001b[1;34m(filename)\u001b[0m\n\u001b[0;32m      4\u001b[0m \u001b[38;5;28;01mdef\u001b[39;00m \u001b[38;5;21mload_file\u001b[39m(filename):\n\u001b[1;32m----> 5\u001b[0m     \u001b[38;5;28;01mwith\u001b[39;00m \u001b[38;5;28;43mopen\u001b[39;49m\u001b[43m(\u001b[49m\u001b[43mfilename\u001b[49m\u001b[43m,\u001b[49m\u001b[38;5;124;43m\"\u001b[39;49m\u001b[38;5;124;43mr\u001b[39;49m\u001b[38;5;124;43m\"\u001b[39;49m\u001b[43m)\u001b[49m \u001b[38;5;28;01mas\u001b[39;00m reading_file:\n\u001b[0;32m      6\u001b[0m         lines \u001b[38;5;241m=\u001b[39m sent_tokenize(reading_file\u001b[38;5;241m.\u001b[39mread())\n\u001b[0;32m      7\u001b[0m     \u001b[38;5;28;01mreturn\u001b[39;00m lines\n",
      "\u001b[1;31mFileNotFoundError\u001b[0m: [Errno 2] No such file or directory: 'input.txt'"
     ]
    }
   ],
   "source": [
    "dataset = load_file(filename)\n",
    "dataset = tokenize_sentence(dataset)\n",
    "dataset = prep_data(dataset)"
   ]
  },
  {
   "cell_type": "code",
   "execution_count": 13,
   "metadata": {
    "id": "Hl6UacQqhnwz"
   },
   "outputs": [
    {
     "ename": "NameError",
     "evalue": "name 'dataset' is not defined",
     "output_type": "error",
     "traceback": [
      "\u001b[1;31m---------------------------------------------------------------------------\u001b[0m",
      "\u001b[1;31mNameError\u001b[0m                                 Traceback (most recent call last)",
      "Input \u001b[1;32mIn [13]\u001b[0m, in \u001b[0;36m<cell line: 12>\u001b[1;34m()\u001b[0m\n\u001b[0;32m      9\u001b[0m     dataset_vocab\u001b[38;5;241m.\u001b[39mappend(\u001b[38;5;124m'\u001b[39m\u001b[38;5;124m</s>\u001b[39m\u001b[38;5;124m'\u001b[39m)\n\u001b[0;32m     10\u001b[0m     \u001b[38;5;28;01mreturn\u001b[39;00m dataset_vocab\n\u001b[1;32m---> 12\u001b[0m dataset_vocab \u001b[38;5;241m=\u001b[39m vocabulary(\u001b[43mdataset\u001b[49m)\n",
      "\u001b[1;31mNameError\u001b[0m: name 'dataset' is not defined"
     ]
    }
   ],
   "source": [
    "# Creates the vocabulary file of the dataset.\n",
    "def vocabulary(dataset):\n",
    "    dataset_vocab = set(itertools.chain.from_iterable(dataset))\n",
    "    # remove <s> and </s> from the vocabulary of the dataset\n",
    "    dataset_vocab.remove('<s>')\n",
    "    dataset_vocab.remove('</s>')\n",
    "    dataset_vocab = list(dataset_vocab)\n",
    "    dataset_vocab.append('<s>')\n",
    "    dataset_vocab.append('</s>')\n",
    "    return dataset_vocab\n",
    "\n",
    "dataset_vocab = vocabulary(dataset)"
   ]
  },
  {
   "cell_type": "code",
   "execution_count": null,
   "metadata": {
    "id": "1OY6xr1Ehnwz"
   },
   "outputs": [],
   "source": [
    "len(dataset_vocab)"
   ]
  },
  {
   "cell_type": "code",
   "execution_count": null,
   "metadata": {
    "id": "ELlg1pKIhnwz"
   },
   "outputs": [],
   "source": [
    "# Counts the no. of times a word repeats (frequency of each word) in the corpus.\n",
    "# input - list of lists of words obtained from \"prep_data\"\n",
    "# returns - a dictionary defined as {word:frequency} for words of the corpus including <s> and </s>.\n",
    "def freq_of_unique_words(lines):\n",
    "   ### Write your Code here\n",
    "    print(\"No of unique words in corpus : \"+ str(unique_word_count))\n",
    "    return count"
   ]
  },
  {
   "cell_type": "code",
   "execution_count": null,
   "metadata": {
    "id": "M-d5bPzphnw0",
    "outputId": "127820e3-1dc0-4292-a523-251d06a89ea3"
   },
   "outputs": [
    {
     "name": "stdout",
     "output_type": "stream",
     "text": [
      "No of unique words in corpus : 17139\n",
      "No of words in corpus: 218619\n"
     ]
    }
   ],
   "source": [
    "unique_word_frequency = freq_of_unique_words(dataset)\n",
    "#len(unique_word_frequency)"
   ]
  },
  {
   "cell_type": "markdown",
   "metadata": {
    "id": "q_VoPvrY3JL7"
   },
   "source": [
    "QUESTION 1A (5)"
   ]
  },
  {
   "cell_type": "code",
   "execution_count": null,
   "metadata": {
    "id": "rMKMX-sGhnw0"
   },
   "outputs": [],
   "source": [
    "# Computes the bigram frequncies\n",
    "# Bigram frequncies means the number of times a word appears after a given word in the corpus.\n",
    "# inputs:\n",
    "# lines - list of lists obtained from \"prep_data\".\n",
    "# count - dictionary obtained from \"freq_of_unique_words\".\n",
    "# returns - dictionary of bigram frequencies {(word|given word): count(word|given word)} --- count(word|given word)~int.\n",
    "def compute_bigram_frequencies(lines):\n",
    "   ### Write your Code here\n",
    "\n",
    "    #The number of bigram_frquencies in the corpus\n",
    "    #print(len(bigram_frequencies))\n",
    "    return bigram_frequencies"
   ]
  },
  {
   "cell_type": "code",
   "execution_count": null,
   "metadata": {
    "id": "gEUfoTn3hnw0"
   },
   "outputs": [],
   "source": [
    "bigram_frequencies = compute_bigram_frequencies(dataset)\n",
    "#print(bigram_frequencies)\n",
    "bigram_unique_word_count = len(unique_word_frequency)\n",
    "# print(\"\\n\"+\"No of words in bigram: \"+str(bigram_unique_word_count))"
   ]
  },
  {
   "cell_type": "markdown",
   "metadata": {
    "id": "FxdFJ_Bu3UJl"
   },
   "source": [
    "QUESTION 1B (5)"
   ]
  },
  {
   "cell_type": "code",
   "execution_count": null,
   "metadata": {
    "id": "cTjCSWNghnw0"
   },
   "outputs": [],
   "source": [
    "# Calculating bigram probability\n",
    "# bigram probability means P(word|given word) = count(word|given word)/ count(given word).\n",
    "# if count(word|given word) or count(given word) is 0 then probability is 0.\n",
    "# input bigram_frquencies and count obtained from \"freq_of_unique_words\".\n",
    "# returns dictionary of bigram probabilities {(word|given word): probabilty} --- probability is a float value.\n",
    "def compute_bigram_probabilities(bigram_frequencies,count):\n",
    "  ### Write your Code here\n",
    "    return bigram_probabilities"
   ]
  },
  {
   "cell_type": "code",
   "execution_count": null,
   "metadata": {
    "id": "CCAaKf9whnw0",
    "scrolled": true
   },
   "outputs": [],
   "source": [
    "bigram_probabilities = compute_bigram_probabilities(bigram_frequencies,unique_word_frequency)\n",
    "#bigram_probabilities"
   ]
  },
  {
   "cell_type": "code",
   "execution_count": null,
   "metadata": {
    "id": "0Ktatodxhnw0"
   },
   "outputs": [],
   "source": [
    "# Bigram frequncies of the test sentence computed using the bigram frequencies of the training data.\n",
    "# add-one smoothing if 1, no smoothing if 0 ----- smoothing\n",
    "def compute_bigram_count_test_sentence(given_word,word,smoothing):\n",
    "    if smoothing==0:\n",
    "        return 0 if bigram_frequencies.get((given_word,word))==None else bigram_frequencies.get((given_word,word))\n",
    "    elif smoothing == 1:\n",
    "        return 1 if bigram_frequencies.get((given_word,word))==None else bigram_frequencies.get((given_word,word))+1"
   ]
  },
  {
   "cell_type": "code",
   "execution_count": null,
   "metadata": {
    "id": "WnULw6nVhnw0"
   },
   "outputs": [],
   "source": [
    "# A table showing the bigram counts for test sentence.\n",
    "def print_bigram_freq_test_sentence(test_sentence_vocab,smoothing):\n",
    "    print(\"A table showing the bigram counts for test sentence.\"+\"\\nsmoothing =\"+str(smoothing))\n",
    "    print(\"\\t\\t\\t\", end=\"\")\n",
    "    for word in test_sentence_vocab:\n",
    "        if word != '<s>':\n",
    "            print(word, end=\"\\t\\t\")\n",
    "    print(\"\")\n",
    "    for given_word in test_sentence_vocab:\n",
    "        if given_word != '</s>':\n",
    "            if(smoothing==1):\n",
    "                print(unique_word_frequency.get(given_word)+bigram_unique_word_count, end =\"\\t\")\n",
    "            elif(smoothing==0):\n",
    "                print(unique_word_frequency.get(given_word), end =\"\\t\")\n",
    "            print(given_word, end=\"\\t\\t\")\n",
    "            for word in test_sentence_vocab:\n",
    "                if word !='<s>':\n",
    "                    print(\"{0:}\".format(compute_bigram_count_test_sentence(given_word,word,smoothing)), end=\"\\t\\t\")\n",
    "            print(\"\")\n",
    "    print(\"\")"
   ]
  },
  {
   "cell_type": "code",
   "execution_count": null,
   "metadata": {
    "id": "OhgGndbGhnw0"
   },
   "outputs": [],
   "source": [
    "# Bigram probabilities of the test sentence computed using the bigram probabilities of the training data.\n",
    "# add-one smoothing if 1, no smoothing if 0 ---- smoothing\n",
    "def compute_bigram_prob_test_sentence(given_word,word,smoothing):\n",
    "    bigram_freq = 0 if bigram_frequencies.get((given_word,word))==None else bigram_frequencies.get((given_word,word))\n",
    "    uni_freq = 0 if unique_word_frequency.get((given_word))==None else unique_word_frequency.get((given_word))\n",
    "    if smoothing==0:\n",
    "        return 0 if bigram_probabilities.get((given_word,word))==None else bigram_probabilities.get((given_word,word))\n",
    "    elif smoothing == 1:\n",
    "        numerator = bigram_freq+1\n",
    "        denominator = uni_freq+bigram_unique_word_count\n",
    "        return 0.0 if numerator == 0 or denominator == 0 else float(numerator) / float(denominator)"
   ]
  },
  {
   "cell_type": "markdown",
   "metadata": {
    "id": "3IEMzKl-3eYN"
   },
   "source": [
    "QUESTION 1C (5)"
   ]
  },
  {
   "cell_type": "code",
   "execution_count": null,
   "metadata": {
    "id": "84YSukVthnw0"
   },
   "outputs": [],
   "source": [
    "# A table showing the bigram probabilities for test sentence.\n",
    "def print_bigram_probabilities_test_sentence(test_sentence_vocab,smoothing):\n",
    "   ### Write your Code here"
   ]
  },
  {
   "cell_type": "code",
   "execution_count": null,
   "metadata": {
    "id": "Q6bQwsWAhnw1"
   },
   "outputs": [],
   "source": [
    "# Print the probability of the test sentence\n",
    "# for add-one smoothing if 1, no smoothing if 0\n",
    "def compute_prob_test_sentence(sentence,smoothing):\n",
    "   ### Write your Code here"
   ]
  },
  {
   "cell_type": "code",
   "execution_count": null,
   "metadata": {
    "id": "yC1pAcLNhnw1"
   },
   "outputs": [],
   "source": [
    "# Test sentence here\n",
    "test_sentences = [['upon this the captain started , and eagerly desired to know more .'],['thus , because no man can follow another into these halls .']]"
   ]
  },
  {
   "cell_type": "code",
   "execution_count": null,
   "metadata": {
    "id": "LglN1Gm7hnw1"
   },
   "outputs": [],
   "source": [
    "for i in range (len(test_sentences)):\n",
    "    test_sentence = test_sentences[i]\n",
    "    print(\"!!!!!!!!!!The test Sentence is!!!!!!!!!!\")\n",
    "    print(test_sentence)\n",
    "    test_sentence = tokenize_sentence(test_sentence)\n",
    "    test_sentence = prep_data(test_sentence)\n",
    "\n",
    "    # Vocabulary of test sentence\n",
    "    test_sentence_vocab = vocabulary(test_sentence)\n",
    "\n",
    "    test_sentence = list(itertools.chain.from_iterable(test_sentence))\n",
    "    #test_sentence\n",
    "\n",
    "    # A table showing the bigram counts for test sentence.\n",
    "    print_bigram_freq_test_sentence(test_sentence_vocab,smoothing)\n",
    "\n",
    "    # A table showing the bigram probabilities for test sentence.\n",
    "    print_bigram_probabilities_test_sentence(test_sentence_vocab,smoothing)\n",
    "\n",
    "    # The probability of the sentence under the trained model\n",
    "    print(\"The probability of the sentence under the trained model\"+\"\\nsmoothing =\"+str(smoothing))\n",
    "    print(compute_prob_test_sentence(test_sentence,0))"
   ]
  }
 ],
 "metadata": {
  "colab": {
   "provenance": []
  },
  "kernelspec": {
   "display_name": "Python 3 (ipykernel)",
   "language": "python",
   "name": "python3"
  },
  "language_info": {
   "codemirror_mode": {
    "name": "ipython",
    "version": 3
   },
   "file_extension": ".py",
   "mimetype": "text/x-python",
   "name": "python",
   "nbconvert_exporter": "python",
   "pygments_lexer": "ipython3",
   "version": "3.9.12"
  }
 },
 "nbformat": 4,
 "nbformat_minor": 1
}
