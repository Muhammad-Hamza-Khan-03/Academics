{
 "cells": [
  {
   "cell_type": "markdown",
   "id": "96b4c4f9",
   "metadata": {},
   "source": [
    "# Assignment 3\n",
    "## Roll Number:21l-5654\n",
    "## Name: Muhammad Hamza Khan"
   ]
  },
  {
   "cell_type": "markdown",
   "id": "2f8a3039",
   "metadata": {},
   "source": [
    "## Question 1"
   ]
  },
  {
   "cell_type": "markdown",
   "id": "c8096921",
   "metadata": {},
   "source": [
    "## Part A"
   ]
  },
  {
   "cell_type": "code",
   "execution_count": 174,
   "id": "ced95b54",
   "metadata": {},
   "outputs": [],
   "source": [
    "import selenium\n",
    "from selenium import webdriver\n",
    "from selenium.webdriver.chrome.service import Service\n",
    "from selenium.webdriver.common.by import By\n",
    "from selenium.webdriver.common.keys import Keys\n",
    "from bs4 import BeautifulSoup\n",
    "import pandas as pd\n",
    "import time\n",
    "import requests\n",
    "import re\n",
    "from selenium.webdriver.support.ui import WebDriverWait\n",
    "from selenium.webdriver.support import expected_conditions as EC"
   ]
  },
  {
   "cell_type": "code",
   "execution_count": 175,
   "id": "b26d1240",
   "metadata": {},
   "outputs": [],
   "source": [
    "s = Service(\"C:/Users/Hamza/Desktop/5th sem/DAV/chromedriver-win64/chromedriver.exe\")\n",
    "driver = webdriver.Chrome(service = s)"
   ]
  },
  {
   "cell_type": "code",
   "execution_count": 176,
   "id": "ae7419c0",
   "metadata": {},
   "outputs": [],
   "source": [
    "urlPath = 'https://www.youtube.com/@UnfoldDataScience'\n",
    "driver.get(urlPath+\"/videos\")"
   ]
  },
  {
   "cell_type": "code",
   "execution_count": 177,
   "id": "8c2d0c0c",
   "metadata": {},
   "outputs": [],
   "source": [
    "def scroll_the_page():\n",
    "    while True:\n",
    "        height = driver.execute_script(\"return document.documentElement.scrollHeight\")\n",
    "        print(height)\n",
    "        driver.execute_script(\"window.scrollTo(0,document.documentElement.scrollHeight)\")\n",
    "        time.sleep(3)\n",
    "        h2 = driver.execute_script(\"return document.documentElement.scrollHeight\")\n",
    "\n",
    "        if height == h2:\n",
    "            break\n",
    "        h2=height \n"
   ]
  },
  {
   "cell_type": "code",
   "execution_count": 181,
   "id": "158f69ce",
   "metadata": {},
   "outputs": [
    {
     "name": "stdout",
     "output_type": "stream",
     "text": [
      "56612\n",
      "59695\n"
     ]
    }
   ],
   "source": [
    "i=0\n",
    "while(i<10)\n",
    "    scroll_the_page()\n",
    "    i++"
   ]
  },
  {
   "cell_type": "code",
   "execution_count": 182,
   "id": "1ff0cad0",
   "metadata": {},
   "outputs": [
    {
     "name": "stdout",
     "output_type": "stream",
     "text": [
      "411\n"
     ]
    }
   ],
   "source": [
    "links = driver.find_elements(By.ID , 'video-title-link')\n",
    "links = [element.get_attribute('href') for element in links]\n",
    "print(len(links))\n"
   ]
  },
  {
   "cell_type": "code",
   "execution_count": 183,
   "id": "63961297",
   "metadata": {},
   "outputs": [],
   "source": [
    "youtube_list = []\n",
    "for link in WebDriverWait(driver, 20).until(EC.presence_of_all_elements_located((By.CSS_SELECTOR, 'div#details'))):\n",
    "    title = link.find_element(By.CSS_SELECTOR, 'a#video-title-link').get_attribute('title')\n",
    "    video_url = link.find_element(By.CSS_SELECTOR, 'a#video-title-link').get_attribute('href')\n",
    "    views = link.find_element(By.XPATH, './/*[@id=\"metadata\"]//span[@class=\"inline-metadata-item style-scope ytd-video-meta-block\"][1]').text\n",
    "    date_time = link.find_element(By.XPATH, './/*[@id=\"metadata\"]//span[@class=\"inline-metadata-item style-scope ytd-video-meta-block\"][2]').text\n",
    "    youtube_list.append({'video_title': title,'Views_count': views,'Upload date': date_time,'url': video_url})"
   ]
  },
  {
   "cell_type": "code",
   "execution_count": 188,
   "id": "016055d7",
   "metadata": {},
   "outputs": [],
   "source": [
    "youtube_dataframe = pd.DataFrame(youtube_list)"
   ]
  },
  {
   "cell_type": "code",
   "execution_count": 190,
   "id": "e2f4da7b",
   "metadata": {},
   "outputs": [
    {
     "name": "stdout",
     "output_type": "stream",
     "text": [
      "Error extracting video info: Message: \n",
      "Stacktrace:\n",
      "\tGetHandleVerifier [0x00007FF715A452A2+57122]\n",
      "\t(No symbol) [0x00007FF7159BEA92]\n",
      "\t(No symbol) [0x00007FF71588E3AB]\n",
      "\t(No symbol) [0x00007FF7158C7D3E]\n",
      "\t(No symbol) [0x00007FF7158C7E2C]\n",
      "\t(No symbol) [0x00007FF715900B67]\n",
      "\t(No symbol) [0x00007FF7158E701F]\n",
      "\t(No symbol) [0x00007FF7158FEB82]\n",
      "\t(No symbol) [0x00007FF7158E6DB3]\n",
      "\t(No symbol) [0x00007FF7158BD2B1]\n",
      "\t(No symbol) [0x00007FF7158BE494]\n",
      "\tGetHandleVerifier [0x00007FF715CEEF82+2849794]\n",
      "\tGetHandleVerifier [0x00007FF715D41D24+3189156]\n",
      "\tGetHandleVerifier [0x00007FF715D3ACAF+3160367]\n",
      "\tGetHandleVerifier [0x00007FF715AD6D06+653702]\n",
      "\t(No symbol) [0x00007FF7159CA208]\n",
      "\t(No symbol) [0x00007FF7159C62C4]\n",
      "\t(No symbol) [0x00007FF7159C63F6]\n",
      "\t(No symbol) [0x00007FF7159B67A3]\n",
      "\tBaseThreadInitThunk [0x00007FFFBD427344+20]\n",
      "\tRtlUserThreadStart [0x00007FFFBE5C26B1+33]\n",
      "\n",
      "Error while scrolling: Message: no such window: target window already closed\n",
      "from unknown error: web view not found\n",
      "  (Session info: chrome=117.0.5938.89)\n",
      "Stacktrace:\n",
      "\tGetHandleVerifier [0x00007FF715A452A2+57122]\n",
      "\t(No symbol) [0x00007FF7159BEA92]\n",
      "\t(No symbol) [0x00007FF71588E3AB]\n",
      "\t(No symbol) [0x00007FF71586E1B9]\n",
      "\t(No symbol) [0x00007FF7158EB417]\n",
      "\t(No symbol) [0x00007FF7158FE24F]\n",
      "\t(No symbol) [0x00007FF7158E6DB3]\n",
      "\t(No symbol) [0x00007FF7158BD2B1]\n",
      "\t(No symbol) [0x00007FF7158BE494]\n",
      "\tGetHandleVerifier [0x00007FF715CEEF82+2849794]\n",
      "\tGetHandleVerifier [0x00007FF715D41D24+3189156]\n",
      "\tGetHandleVerifier [0x00007FF715D3ACAF+3160367]\n",
      "\tGetHandleVerifier [0x00007FF715AD6D06+653702]\n",
      "\t(No symbol) [0x00007FF7159CA208]\n",
      "\t(No symbol) [0x00007FF7159C62C4]\n",
      "\t(No symbol) [0x00007FF7159C63F6]\n",
      "\t(No symbol) [0x00007FF7159B67A3]\n",
      "\tBaseThreadInitThunk [0x00007FFFBD427344+20]\n",
      "\tRtlUserThreadStart [0x00007FFFBE5C26B1+33]\n",
      "\n"
     ]
    },
    {
     "ename": "NoSuchWindowException",
     "evalue": "Message: no such window: target window already closed\nfrom unknown error: web view not found\n  (Session info: chrome=117.0.5938.89)\nStacktrace:\n\tGetHandleVerifier [0x00007FF715A452A2+57122]\n\t(No symbol) [0x00007FF7159BEA92]\n\t(No symbol) [0x00007FF71588E3AB]\n\t(No symbol) [0x00007FF71586E1B9]\n\t(No symbol) [0x00007FF7158EB417]\n\t(No symbol) [0x00007FF7158FE24F]\n\t(No symbol) [0x00007FF7158E6DB3]\n\t(No symbol) [0x00007FF7158BD2B1]\n\t(No symbol) [0x00007FF7158BE494]\n\tGetHandleVerifier [0x00007FF715CEEF82+2849794]\n\tGetHandleVerifier [0x00007FF715D41D24+3189156]\n\tGetHandleVerifier [0x00007FF715D3ACAF+3160367]\n\tGetHandleVerifier [0x00007FF715AD6D06+653702]\n\t(No symbol) [0x00007FF7159CA208]\n\t(No symbol) [0x00007FF7159C62C4]\n\t(No symbol) [0x00007FF7159C63F6]\n\t(No symbol) [0x00007FF7159B67A3]\n\tBaseThreadInitThunk [0x00007FFFBD427344+20]\n\tRtlUserThreadStart [0x00007FFFBE5C26B1+33]\n",
     "output_type": "error",
     "traceback": [
      "\u001b[1;31m---------------------------------------------------------------------------\u001b[0m",
      "\u001b[1;31mNoSuchWindowException\u001b[0m                     Traceback (most recent call last)",
      "Input \u001b[1;32mIn [190]\u001b[0m, in \u001b[0;36m<cell line: 56>\u001b[1;34m()\u001b[0m\n\u001b[0;32m     55\u001b[0m start_row_index \u001b[38;5;241m=\u001b[39m \u001b[38;5;241m0\u001b[39m\n\u001b[0;32m     56\u001b[0m \u001b[38;5;28;01mfor\u001b[39;00m index, row \u001b[38;5;129;01min\u001b[39;00m youtube_dataframe\u001b[38;5;241m.\u001b[39miloc[start_row_index:]\u001b[38;5;241m.\u001b[39miterrows():\n\u001b[1;32m---> 57\u001b[0m     video_info \u001b[38;5;241m=\u001b[39m \u001b[43mextract_video_info\u001b[49m\u001b[43m(\u001b[49m\u001b[43mdriver\u001b[49m\u001b[43m,\u001b[49m\u001b[43m \u001b[49m\u001b[43mrow\u001b[49m\u001b[43m[\u001b[49m\u001b[38;5;124;43m'\u001b[39;49m\u001b[38;5;124;43murl\u001b[39;49m\u001b[38;5;124;43m'\u001b[39;49m\u001b[43m]\u001b[49m\u001b[43m)\u001b[49m\n\u001b[0;32m     58\u001b[0m     video_info_list\u001b[38;5;241m.\u001b[39mappend(video_info)\n\u001b[0;32m     59\u001b[0m driver\u001b[38;5;241m.\u001b[39mquit()\n",
      "Input \u001b[1;32mIn [190]\u001b[0m, in \u001b[0;36mextract_video_info\u001b[1;34m(driver, video_url)\u001b[0m\n\u001b[0;32m     24\u001b[0m \u001b[38;5;28;01mdef\u001b[39;00m \u001b[38;5;21mextract_video_info\u001b[39m(driver, video_url):\n\u001b[1;32m---> 25\u001b[0m     \u001b[43mdriver\u001b[49m\u001b[38;5;241;43m.\u001b[39;49m\u001b[43mget\u001b[49m\u001b[43m(\u001b[49m\u001b[43mvideo_url\u001b[49m\u001b[43m)\u001b[49m\n\u001b[0;32m     27\u001b[0m     video_info \u001b[38;5;241m=\u001b[39m {}\n\u001b[0;32m     29\u001b[0m     \u001b[38;5;28;01mtry\u001b[39;00m:\n",
      "File \u001b[1;32m~\\AppData\\Roaming\\Python\\Python39\\site-packages\\selenium\\webdriver\\remote\\webdriver.py:353\u001b[0m, in \u001b[0;36mWebDriver.get\u001b[1;34m(self, url)\u001b[0m\n\u001b[0;32m    351\u001b[0m \u001b[38;5;28;01mdef\u001b[39;00m \u001b[38;5;21mget\u001b[39m(\u001b[38;5;28mself\u001b[39m, url: \u001b[38;5;28mstr\u001b[39m) \u001b[38;5;241m-\u001b[39m\u001b[38;5;241m>\u001b[39m \u001b[38;5;28;01mNone\u001b[39;00m:\n\u001b[0;32m    352\u001b[0m     \u001b[38;5;124;03m\"\"\"Loads a web page in the current browser session.\"\"\"\u001b[39;00m\n\u001b[1;32m--> 353\u001b[0m     \u001b[38;5;28;43mself\u001b[39;49m\u001b[38;5;241;43m.\u001b[39;49m\u001b[43mexecute\u001b[49m\u001b[43m(\u001b[49m\u001b[43mCommand\u001b[49m\u001b[38;5;241;43m.\u001b[39;49m\u001b[43mGET\u001b[49m\u001b[43m,\u001b[49m\u001b[43m \u001b[49m\u001b[43m{\u001b[49m\u001b[38;5;124;43m\"\u001b[39;49m\u001b[38;5;124;43murl\u001b[39;49m\u001b[38;5;124;43m\"\u001b[39;49m\u001b[43m:\u001b[49m\u001b[43m \u001b[49m\u001b[43murl\u001b[49m\u001b[43m}\u001b[49m\u001b[43m)\u001b[49m\n",
      "File \u001b[1;32m~\\AppData\\Roaming\\Python\\Python39\\site-packages\\selenium\\webdriver\\remote\\webdriver.py:344\u001b[0m, in \u001b[0;36mWebDriver.execute\u001b[1;34m(self, driver_command, params)\u001b[0m\n\u001b[0;32m    342\u001b[0m response \u001b[38;5;241m=\u001b[39m \u001b[38;5;28mself\u001b[39m\u001b[38;5;241m.\u001b[39mcommand_executor\u001b[38;5;241m.\u001b[39mexecute(driver_command, params)\n\u001b[0;32m    343\u001b[0m \u001b[38;5;28;01mif\u001b[39;00m response:\n\u001b[1;32m--> 344\u001b[0m     \u001b[38;5;28;43mself\u001b[39;49m\u001b[38;5;241;43m.\u001b[39;49m\u001b[43merror_handler\u001b[49m\u001b[38;5;241;43m.\u001b[39;49m\u001b[43mcheck_response\u001b[49m\u001b[43m(\u001b[49m\u001b[43mresponse\u001b[49m\u001b[43m)\u001b[49m\n\u001b[0;32m    345\u001b[0m     response[\u001b[38;5;124m\"\u001b[39m\u001b[38;5;124mvalue\u001b[39m\u001b[38;5;124m\"\u001b[39m] \u001b[38;5;241m=\u001b[39m \u001b[38;5;28mself\u001b[39m\u001b[38;5;241m.\u001b[39m_unwrap_value(response\u001b[38;5;241m.\u001b[39mget(\u001b[38;5;124m\"\u001b[39m\u001b[38;5;124mvalue\u001b[39m\u001b[38;5;124m\"\u001b[39m, \u001b[38;5;28;01mNone\u001b[39;00m))\n\u001b[0;32m    346\u001b[0m     \u001b[38;5;28;01mreturn\u001b[39;00m response\n",
      "File \u001b[1;32m~\\AppData\\Roaming\\Python\\Python39\\site-packages\\selenium\\webdriver\\remote\\errorhandler.py:229\u001b[0m, in \u001b[0;36mErrorHandler.check_response\u001b[1;34m(self, response)\u001b[0m\n\u001b[0;32m    227\u001b[0m         alert_text \u001b[38;5;241m=\u001b[39m value[\u001b[38;5;124m\"\u001b[39m\u001b[38;5;124malert\u001b[39m\u001b[38;5;124m\"\u001b[39m]\u001b[38;5;241m.\u001b[39mget(\u001b[38;5;124m\"\u001b[39m\u001b[38;5;124mtext\u001b[39m\u001b[38;5;124m\"\u001b[39m)\n\u001b[0;32m    228\u001b[0m     \u001b[38;5;28;01mraise\u001b[39;00m exception_class(message, screen, stacktrace, alert_text)  \u001b[38;5;66;03m# type: ignore[call-arg]  # mypy is not smart enough here\u001b[39;00m\n\u001b[1;32m--> 229\u001b[0m \u001b[38;5;28;01mraise\u001b[39;00m exception_class(message, screen, stacktrace)\n",
      "\u001b[1;31mNoSuchWindowException\u001b[0m: Message: no such window: target window already closed\nfrom unknown error: web view not found\n  (Session info: chrome=117.0.5938.89)\nStacktrace:\n\tGetHandleVerifier [0x00007FF715A452A2+57122]\n\t(No symbol) [0x00007FF7159BEA92]\n\t(No symbol) [0x00007FF71588E3AB]\n\t(No symbol) [0x00007FF71586E1B9]\n\t(No symbol) [0x00007FF7158EB417]\n\t(No symbol) [0x00007FF7158FE24F]\n\t(No symbol) [0x00007FF7158E6DB3]\n\t(No symbol) [0x00007FF7158BD2B1]\n\t(No symbol) [0x00007FF7158BE494]\n\tGetHandleVerifier [0x00007FF715CEEF82+2849794]\n\tGetHandleVerifier [0x00007FF715D41D24+3189156]\n\tGetHandleVerifier [0x00007FF715D3ACAF+3160367]\n\tGetHandleVerifier [0x00007FF715AD6D06+653702]\n\t(No symbol) [0x00007FF7159CA208]\n\t(No symbol) [0x00007FF7159C62C4]\n\t(No symbol) [0x00007FF7159C63F6]\n\t(No symbol) [0x00007FF7159B67A3]\n\tBaseThreadInitThunk [0x00007FFFBD427344+20]\n\tRtlUserThreadStart [0x00007FFFBE5C26B1+33]\n"
     ]
    }
   ],
   "source": [
    "\n",
    "SCROLL_PAUSE_TIME = 1\n",
    "video_info_list = []\n",
    "def scroll_to_bottom(driver):\n",
    "    last_height = driver.execute_script(\"return document.documentElement.scrollHeight\")\n",
    "    while True:\n",
    "        try:\n",
    "            driver.execute_script(\"window.scrollTo(0, document.documentElement.scrollHeight);\")\n",
    "            time.sleep(SCROLL_PAUSE_TIME)\n",
    "            new_height = driver.execute_script(\"return document.documentElement.scrollHeight\")\n",
    "            if new_height == last_height:\n",
    "                break\n",
    "            last_height = new_height\n",
    "        except Exception as e:\n",
    "            print(f\"Error while scrolling: {e}\")\n",
    "            break\n",
    "\n",
    "def extract_video_info(driver, video_url):\n",
    "    driver.get(video_url)\n",
    "    \n",
    "    video_info = {}\n",
    "\n",
    "    try:\n",
    "        wait = WebDriverWait(driver, 20)\n",
    "        wait.until(EC.presence_of_element_located((By.XPATH, '//*[@id=\"description\"]/yt-formatted-string')))\n",
    "        description = driver.find_element(By.XPATH, '//*[@id=\"description\"]/yt-formatted-string')\n",
    "        driver.execute_script(\"arguments[0].click();\", description)\n",
    "        wait.until(EC.presence_of_element_located((By.XPATH, '//*[@id=\"segmented-like-button\"]/ytd-toggle-button-renderer/yt-button-shape/button')))\n",
    "        wait.until(EC.presence_of_element_located((By.XPATH, '//div[@id=\"info-container\"]')))\n",
    "        \n",
    "        likes = driver.find_element(By.XPATH, '//*[@id=\"segmented-like-button\"]/ytd-toggle-button-renderer/yt-button-shape/button').text.strip()\n",
    "        scroll_to_bottom(driver)\n",
    "       \n",
    "        comments_xpath = \"//div[@id='title']//*[@id='count']//span[1]\"\n",
    "        try:\n",
    "            v_comm_cnt = wait.until(EC.visibility_of_element_located((By.XPATH, comments_xpath)))\n",
    "            comments = v_comm_cnt.text\n",
    "        except Exception as e:\n",
    "            comments = \"Not found\"\n",
    "\n",
    "        video_info['Likes'] = likes\n",
    "        video_info['Comments'] = comments\n",
    "\n",
    "    except Exception as e:\n",
    "        print(f\"Error extracting video info: {e}\")\n",
    "\n",
    "    return video_info\n",
    "\n",
    "start_row_index = 0\n",
    "for index, row in youtube_dataframe.iloc[start_row_index:].iterrows():\n",
    "    video_info = extract_video_info(driver, row['url'])\n",
    "    video_info_list.append(video_info)\n",
    "driver.quit()"
   ]
  },
  {
   "cell_type": "code",
   "execution_count": 65,
   "id": "4f669805",
   "metadata": {
    "scrolled": true
   },
   "outputs": [
    {
     "data": {
      "text/html": [
       "<div>\n",
       "<style scoped>\n",
       "    .dataframe tbody tr th:only-of-type {\n",
       "        vertical-align: middle;\n",
       "    }\n",
       "\n",
       "    .dataframe tbody tr th {\n",
       "        vertical-align: top;\n",
       "    }\n",
       "\n",
       "    .dataframe thead th {\n",
       "        text-align: right;\n",
       "    }\n",
       "</style>\n",
       "<table border=\"1\" class=\"dataframe\">\n",
       "  <thead>\n",
       "    <tr style=\"text-align: right;\">\n",
       "      <th></th>\n",
       "      <th>video_title</th>\n",
       "      <th>Views_count</th>\n",
       "      <th>Upload date</th>\n",
       "      <th>url</th>\n",
       "    </tr>\n",
       "  </thead>\n",
       "  <tbody>\n",
       "    <tr>\n",
       "      <th>0</th>\n",
       "      <td>Simplifying Confidence Intervals | confidence ...</td>\n",
       "      <td>1K views</td>\n",
       "      <td>10 days ago</td>\n",
       "      <td>https://www.youtube.com/watch?v=xrijJoRGP1w</td>\n",
       "    </tr>\n",
       "    <tr>\n",
       "      <th>1</th>\n",
       "      <td>Cost of Living in London | data scientist sala...</td>\n",
       "      <td>1.5K views</td>\n",
       "      <td>2 weeks ago</td>\n",
       "      <td>https://www.youtube.com/watch?v=EiR3xYJ5RFM</td>\n",
       "    </tr>\n",
       "    <tr>\n",
       "      <th>2</th>\n",
       "      <td>6 Activation functions for deep learning | act...</td>\n",
       "      <td>1.3K views</td>\n",
       "      <td>3 weeks ago</td>\n",
       "      <td>https://www.youtube.com/watch?v=OxWU56hmfaA</td>\n",
       "    </tr>\n",
       "    <tr>\n",
       "      <th>3</th>\n",
       "      <td>5 python packages to wow your client | Python ...</td>\n",
       "      <td>1.5K views</td>\n",
       "      <td>1 month ago</td>\n",
       "      <td>https://www.youtube.com/watch?v=pLNR0Ch5BPA</td>\n",
       "    </tr>\n",
       "    <tr>\n",
       "      <th>4</th>\n",
       "      <td>Junior data scientist to Senior Data Scientist...</td>\n",
       "      <td>1.2K views</td>\n",
       "      <td>1 month ago</td>\n",
       "      <td>https://www.youtube.com/watch?v=jyWLCtmQtNQ</td>\n",
       "    </tr>\n",
       "  </tbody>\n",
       "</table>\n",
       "</div>"
      ],
      "text/plain": [
       "                                         video_title Views_count  Upload date  \\\n",
       "0  Simplifying Confidence Intervals | confidence ...    1K views  10 days ago   \n",
       "1  Cost of Living in London | data scientist sala...  1.5K views  2 weeks ago   \n",
       "2  6 Activation functions for deep learning | act...  1.3K views  3 weeks ago   \n",
       "3  5 python packages to wow your client | Python ...  1.5K views  1 month ago   \n",
       "4  Junior data scientist to Senior Data Scientist...  1.2K views  1 month ago   \n",
       "\n",
       "                                           url  \n",
       "0  https://www.youtube.com/watch?v=xrijJoRGP1w  \n",
       "1  https://www.youtube.com/watch?v=EiR3xYJ5RFM  \n",
       "2  https://www.youtube.com/watch?v=OxWU56hmfaA  \n",
       "3  https://www.youtube.com/watch?v=pLNR0Ch5BPA  \n",
       "4  https://www.youtube.com/watch?v=jyWLCtmQtNQ  "
      ]
     },
     "execution_count": 65,
     "metadata": {},
     "output_type": "execute_result"
    }
   ],
   "source": [
    "youtube_dataframe.head()"
   ]
  },
  {
   "cell_type": "code",
   "execution_count": 66,
   "id": "4a64d98a",
   "metadata": {},
   "outputs": [],
   "source": [
    "youtube_dataframe.to_csv('Youtube_scraping.csv')"
   ]
  },
  {
   "cell_type": "markdown",
   "id": "bb062b48",
   "metadata": {},
   "source": [
    "## Data frame saved as csv file Youtube_scraping for further processing"
   ]
  },
  {
   "cell_type": "markdown",
   "id": "9812e2c5",
   "metadata": {},
   "source": [
    "### Average views in 30 days"
   ]
  },
  {
   "cell_type": "code",
   "execution_count": 1,
   "id": "126d9d4c",
   "metadata": {
    "scrolled": true
   },
   "outputs": [
    {
     "name": "stdout",
     "output_type": "stream",
     "text": [
      "Average views per video over last 30 days: 1266.6666666666667\n"
     ]
    }
   ],
   "source": [
    "\n",
    "import pandas as pd \n",
    "from datetime import datetime, timedelta\n",
    "\n",
    "youtube_dataframe = pd.read_csv(\"Youtube_scraping.csv\")\n",
    "\n",
    "def calculate_average_views(df):\n",
    "    \n",
    "    youtube_dataframe['upload'] = pd.to_datetime(youtube_dataframe['upload'])\n",
    "    thirty_days_ago = datetime.now() - timedelta(days=30)\n",
    "    filtered_df = youtube_dataframe[youtube_dataframe['upload'] >= thirty_days_ago]\n",
    "    average_views = filtered_df['views'].mean()\n",
    "    \n",
    "    return average_views\n",
    "print(\"Average views per video over last 30 days:\" , calculate_average_views(youtube_dataframe))\n"
   ]
  },
  {
   "cell_type": "markdown",
   "id": "f8d44bcd",
   "metadata": {},
   "source": [
    "### Identify the video with the highest likes-to-views ratio"
   ]
  },
  {
   "cell_type": "code",
   "execution_count": 2,
   "id": "9cfc79fd",
   "metadata": {},
   "outputs": [
    {
     "name": "stdout",
     "output_type": "stream",
     "text": [
      "Title:\t\t Lets Celebrate 15k Milestone | Thank you for the wonderful journey together| Unfold Data Science\n",
      "Likes:\t\t 39\n",
      "Views:\t\t 295\n",
      "Likes-to-Views Ratio:\t 0.13220338983050847\n"
     ]
    }
   ],
   "source": [
    "youtube_dataframe['likes_to_views_ratio'] = youtube_dataframe['likes'] / youtube_dataframe['views']\n",
    "\n",
    "\n",
    "highest_ratio_video = youtube_dataframe[youtube_dataframe['likes_to_views_ratio'] == youtube_dataframe['likes_to_views_ratio'].max()]\n",
    "\n",
    "\n",
    "print(\"Title:\\t\\t\", highest_ratio_video['title'].values[0])\n",
    "print(\"Likes:\\t\\t\", highest_ratio_video['likes'].values[0])\n",
    "print(\"Views:\\t\\t\", highest_ratio_video['views'].values[0])\n",
    "print(\"Likes-to-Views Ratio:\\t\", highest_ratio_video['likes_to_views_ratio'].values[0])\n",
    "\n"
   ]
  },
  {
   "cell_type": "markdown",
   "id": "e93bbebb",
   "metadata": {},
   "source": [
    "### Correlation b/w no. of likes and number of comments"
   ]
  },
  {
   "cell_type": "code",
   "execution_count": 3,
   "id": "da926e3f",
   "metadata": {},
   "outputs": [
    {
     "name": "stdout",
     "output_type": "stream",
     "text": [
      "Correlation between number of likes and comments: 0.869956867751643\n"
     ]
    }
   ],
   "source": [
    "\n",
    "\n",
    "correlation = youtube_dataframe['likes'].corr(youtube_dataframe['comments'])\n",
    "print(\"Correlation between number of likes and comments:\", correlation)\n",
    "\n"
   ]
  },
  {
   "cell_type": "markdown",
   "id": "888ca36f",
   "metadata": {},
   "source": [
    "### #Most common day for upload"
   ]
  },
  {
   "cell_type": "code",
   "execution_count": 4,
   "id": "b0a635a8",
   "metadata": {},
   "outputs": [
    {
     "name": "stdout",
     "output_type": "stream",
     "text": [
      "Most common day for video uploads: Tuesday\n"
     ]
    }
   ],
   "source": [
    "youtube_dataframe['upload'] = pd.to_datetime(youtube_dataframe['upload'])\n",
    "\n",
    "youtube_dataframe['day_of_week'] = youtube_dataframe['upload'].dt.day_name()\n",
    "\n",
    "day = youtube_dataframe['day_of_week']\n",
    "most_common = day.mode().values[0]\n",
    "\n",
    "print(\"Most common day for video uploads:\", most_common)\n",
    "\n",
    "\n"
   ]
  },
  {
   "cell_type": "markdown",
   "id": "f57e601c",
   "metadata": {},
   "source": [
    "### Outliers in views"
   ]
  },
  {
   "cell_type": "code",
   "execution_count": 5,
   "id": "48102d5f",
   "metadata": {},
   "outputs": [
    {
     "name": "stdout",
     "output_type": "stream",
     "text": [
      "Outliers are:  15      29000\n",
      "53      40000\n",
      "55     117000\n",
      "115     29000\n",
      "118     53000\n",
      "189     36000\n",
      "203     31000\n",
      "206     34000\n",
      "223     35000\n",
      "224     28000\n",
      "233     64000\n",
      "236     38000\n",
      "243     26000\n",
      "247     96000\n",
      "260     38000\n",
      "268     36000\n",
      "277     44000\n",
      "280     70000\n",
      "282    104000\n",
      "283    101000\n",
      "293     36000\n",
      "294     39000\n",
      "295     34000\n",
      "306     32000\n",
      "308    146000\n",
      "309     85000\n",
      "313     43000\n",
      "320     30000\n",
      "332    172000\n",
      "335     36000\n",
      "340     44000\n",
      "341     37000\n",
      "344     26000\n",
      "355     29000\n",
      "358     48000\n",
      "363     54000\n",
      "365     34000\n",
      "368     44000\n",
      "369     26000\n",
      "372     34000\n",
      "373    110000\n",
      "383     30000\n",
      "387     54000\n",
      "Name: views, dtype: int64\n"
     ]
    }
   ],
   "source": [
    "\n",
    "views_column = youtube_dataframe['views']\n",
    "\n",
    "Q1,Q3 = views_column.quantile(0.25),views_column.quantile(0.75)\n",
    "\n",
    "IQR = Q3 - Q1\n",
    "\n",
    "lower_bound,upper_bound = Q1 - 1.5 * IQR,Q3 + 1.5 * IQR\n",
    "\n",
    "out = views_column[(views_column < lower_bound) | (views_column > upper_bound)]\n",
    "\n",
    "print(\"Outliers are: \",out)\n"
   ]
  },
  {
   "cell_type": "markdown",
   "id": "dcbac1b5",
   "metadata": {},
   "source": [
    "# Part B"
   ]
  },
  {
   "cell_type": "code",
   "execution_count": 148,
   "id": "b4e92d78",
   "metadata": {},
   "outputs": [],
   "source": [
    "import requests\n",
    "from bs4 import BeautifulSoup\n",
    "import re\n",
    "import pandas as pd\n",
    "import numpy as np"
   ]
  },
  {
   "cell_type": "code",
   "execution_count": 149,
   "id": "a9176c37",
   "metadata": {},
   "outputs": [],
   "source": [
    "URL = \"https://www.imdb.com/search/title/?groups=top_1000&ref_=adv_prv\"\n",
    "page = requests.get(URL)\n"
   ]
  },
  {
   "cell_type": "code",
   "execution_count": 150,
   "id": "b25ea0d2",
   "metadata": {},
   "outputs": [],
   "source": [
    "soup = BeautifulSoup(page.content, \"html.parser\")"
   ]
  },
  {
   "cell_type": "code",
   "execution_count": 5,
   "id": "719bd7d7",
   "metadata": {},
   "outputs": [],
   "source": [
    "#We need to find the following information\n",
    "#⮚ Release Year\n",
    "#⮚ IMDb Rating\n",
    "#⮚ Director\n",
    "#⮚ Genre"
   ]
  },
  {
   "cell_type": "code",
   "execution_count": 6,
   "id": "7c967075",
   "metadata": {},
   "outputs": [],
   "source": [
    "# remove movies of date earlier than 2013"
   ]
  },
  {
   "cell_type": "code",
   "execution_count": 151,
   "id": "1e06613e",
   "metadata": {},
   "outputs": [],
   "source": [
    "results = soup.find(id=\"main\")"
   ]
  },
  {
   "cell_type": "code",
   "execution_count": 152,
   "id": "df8f4e78",
   "metadata": {},
   "outputs": [],
   "source": [
    "movies = results.find_all(\"div\",class_=\"lister-item-content\")"
   ]
  },
  {
   "cell_type": "code",
   "execution_count": 153,
   "id": "a54bd899",
   "metadata": {},
   "outputs": [],
   "source": [
    "#lists\n",
    "Movie_titles=[]\n",
    "Release_Year=[]\n",
    "Imdb_rating=[]\n",
    "Director=[]\n",
    "Genre=[]"
   ]
  },
  {
   "cell_type": "code",
   "execution_count": 154,
   "id": "abc98024",
   "metadata": {},
   "outputs": [],
   "source": [
    "for i in movies:\n",
    "    m = i.find(\"h3\",class_=\"lister-item-header\")\n",
    "    movie_title = m.a\n",
    "    Movie_titles.append(movie_title.text.strip())\n",
    "    \n",
    "#for i in movies:\n",
    "    release_year = i.find(\"span\",class_=\"lister-item-year text-muted unbold\")\n",
    "    Release_Year.append(release_year.text.strip())\n",
    "    \n",
    "#for i in movies:\n",
    "    imdb_rating=i.find(\"div\",class_=\"inline-block ratings-imdb-rating\")\n",
    "    Imdb_rating.append(imdb_rating.text.strip())\n",
    "    \n",
    "#for i in movies:\n",
    "    director = i.find(\"p\",class_=\"\")\n",
    "    dire = director.find(\"a\",class_=\"\")\n",
    "    Director.append(dire.text.strip())\n",
    "\n",
    "#for i in movies:\n",
    "    genre =i.find(\"span\",class_=\"genre\")\n",
    "    Genre.append(genre.text.strip())"
   ]
  },
  {
   "cell_type": "code",
   "execution_count": 155,
   "id": "7093c9fc",
   "metadata": {},
   "outputs": [
    {
     "data": {
      "text/plain": [
       "50"
      ]
     },
     "execution_count": 155,
     "metadata": {},
     "output_type": "execute_result"
    }
   ],
   "source": [
    "#release date to be 2013 to 2023\n",
    "for i in Release_Year:\n",
    "    a =i.replace(\"(\",\" \")\n",
    "    a=a.replace(\")\",\" \")\n",
    "    a=a.replace(\"I\",\" \")\n",
    "    a=a.replace(\" \",\"\")\n",
    "\n",
    "year=[]\n",
    "for a in Release_Year:\n",
    "    a=int(re.findall('\\d+', a)[0])\n",
    "    year.append(a)\n",
    "\n",
    "len(year) "
   ]
  },
  {
   "cell_type": "code",
   "execution_count": 156,
   "id": "a604c650",
   "metadata": {},
   "outputs": [],
   "source": [
    "rat=[]\n",
    "for i in Imdb_rating:\n",
    "    if i!='':\n",
    "        rat.append(i)"
   ]
  },
  {
   "cell_type": "code",
   "execution_count": 157,
   "id": "b7b0227c",
   "metadata": {},
   "outputs": [
    {
     "name": "stdout",
     "output_type": "stream",
     "text": [
      "50 50 50 50 50\n"
     ]
    }
   ],
   "source": [
    "print(len(Movie_titles),len(year),len(rat),len(Director),len(Genre))"
   ]
  },
  {
   "cell_type": "code",
   "execution_count": 158,
   "id": "9f9f9c70",
   "metadata": {},
   "outputs": [],
   "source": [
    "req_attributes = ['Movie_Title','Release_Year' , 'IMDb_Rating', 'Director','Genre']\n",
    "data = pd.DataFrame(columns=req_attributes)\n",
    "\n",
    "data['Movie_Title']=Movie_titles\n",
    "data['Release_Year']=year\n",
    "data['IMDb_Rating']=rat\n",
    "data['Director']=Director\n",
    "data['Genre']=Genre"
   ]
  },
  {
   "cell_type": "code",
   "execution_count": 159,
   "id": "5d92e1dc",
   "metadata": {},
   "outputs": [
    {
     "data": {
      "text/html": [
       "<div>\n",
       "<style scoped>\n",
       "    .dataframe tbody tr th:only-of-type {\n",
       "        vertical-align: middle;\n",
       "    }\n",
       "\n",
       "    .dataframe tbody tr th {\n",
       "        vertical-align: top;\n",
       "    }\n",
       "\n",
       "    .dataframe thead th {\n",
       "        text-align: right;\n",
       "    }\n",
       "</style>\n",
       "<table border=\"1\" class=\"dataframe\">\n",
       "  <thead>\n",
       "    <tr style=\"text-align: right;\">\n",
       "      <th></th>\n",
       "      <th>Movie_Title</th>\n",
       "      <th>Release_Year</th>\n",
       "      <th>IMDb_Rating</th>\n",
       "      <th>Director</th>\n",
       "      <th>Genre</th>\n",
       "    </tr>\n",
       "  </thead>\n",
       "  <tbody>\n",
       "    <tr>\n",
       "      <th>0</th>\n",
       "      <td>Oppenheimer</td>\n",
       "      <td>2023</td>\n",
       "      <td>8.6</td>\n",
       "      <td>Christopher Nolan</td>\n",
       "      <td>Biography, Drama, History</td>\n",
       "    </tr>\n",
       "    <tr>\n",
       "      <th>1</th>\n",
       "      <td>Spider-Man: Across the Spider-Verse</td>\n",
       "      <td>2023</td>\n",
       "      <td>8.7</td>\n",
       "      <td>Joaquim Dos Santos</td>\n",
       "      <td>Animation, Action, Adventure</td>\n",
       "    </tr>\n",
       "    <tr>\n",
       "      <th>2</th>\n",
       "      <td>Guardians of the Galaxy Vol. 3</td>\n",
       "      <td>2023</td>\n",
       "      <td>7.9</td>\n",
       "      <td>James Gunn</td>\n",
       "      <td>Action, Adventure, Comedy</td>\n",
       "    </tr>\n",
       "    <tr>\n",
       "      <th>3</th>\n",
       "      <td>Mission: Impossible - Dead Reckoning Part One</td>\n",
       "      <td>2023</td>\n",
       "      <td>7.9</td>\n",
       "      <td>Christopher McQuarrie</td>\n",
       "      <td>Action, Adventure, Thriller</td>\n",
       "    </tr>\n",
       "    <tr>\n",
       "      <th>4</th>\n",
       "      <td>The Batman</td>\n",
       "      <td>2022</td>\n",
       "      <td>7.8</td>\n",
       "      <td>Matt Reeves</td>\n",
       "      <td>Action, Crime, Drama</td>\n",
       "    </tr>\n",
       "  </tbody>\n",
       "</table>\n",
       "</div>"
      ],
      "text/plain": [
       "                                     Movie_Title  Release_Year IMDb_Rating  \\\n",
       "0                                    Oppenheimer          2023         8.6   \n",
       "1            Spider-Man: Across the Spider-Verse          2023         8.7   \n",
       "2                 Guardians of the Galaxy Vol. 3          2023         7.9   \n",
       "3  Mission: Impossible - Dead Reckoning Part One          2023         7.9   \n",
       "4                                     The Batman          2022         7.8   \n",
       "\n",
       "                Director                         Genre  \n",
       "0      Christopher Nolan     Biography, Drama, History  \n",
       "1     Joaquim Dos Santos  Animation, Action, Adventure  \n",
       "2             James Gunn     Action, Adventure, Comedy  \n",
       "3  Christopher McQuarrie   Action, Adventure, Thriller  \n",
       "4            Matt Reeves          Action, Crime, Drama  "
      ]
     },
     "execution_count": 159,
     "metadata": {},
     "output_type": "execute_result"
    }
   ],
   "source": [
    "data.head()"
   ]
  },
  {
   "cell_type": "code",
   "execution_count": 160,
   "id": "6f484376",
   "metadata": {},
   "outputs": [],
   "source": [
    "new_df = data[(data['Release_Year']>=2013) & (data['Release_Year']<=2023)] "
   ]
  },
  {
   "cell_type": "code",
   "execution_count": 161,
   "id": "d2271b41",
   "metadata": {},
   "outputs": [
    {
     "data": {
      "text/html": [
       "<div>\n",
       "<style scoped>\n",
       "    .dataframe tbody tr th:only-of-type {\n",
       "        vertical-align: middle;\n",
       "    }\n",
       "\n",
       "    .dataframe tbody tr th {\n",
       "        vertical-align: top;\n",
       "    }\n",
       "\n",
       "    .dataframe thead th {\n",
       "        text-align: right;\n",
       "    }\n",
       "</style>\n",
       "<table border=\"1\" class=\"dataframe\">\n",
       "  <thead>\n",
       "    <tr style=\"text-align: right;\">\n",
       "      <th></th>\n",
       "      <th>Movie_Title</th>\n",
       "      <th>Release_Year</th>\n",
       "      <th>IMDb_Rating</th>\n",
       "      <th>Director</th>\n",
       "      <th>Genre</th>\n",
       "    </tr>\n",
       "  </thead>\n",
       "  <tbody>\n",
       "    <tr>\n",
       "      <th>0</th>\n",
       "      <td>Oppenheimer</td>\n",
       "      <td>2023</td>\n",
       "      <td>8.6</td>\n",
       "      <td>Christopher Nolan</td>\n",
       "      <td>Biography, Drama, History</td>\n",
       "    </tr>\n",
       "    <tr>\n",
       "      <th>1</th>\n",
       "      <td>Spider-Man: Across the Spider-Verse</td>\n",
       "      <td>2023</td>\n",
       "      <td>8.7</td>\n",
       "      <td>Joaquim Dos Santos</td>\n",
       "      <td>Animation, Action, Adventure</td>\n",
       "    </tr>\n",
       "    <tr>\n",
       "      <th>2</th>\n",
       "      <td>Guardians of the Galaxy Vol. 3</td>\n",
       "      <td>2023</td>\n",
       "      <td>7.9</td>\n",
       "      <td>James Gunn</td>\n",
       "      <td>Action, Adventure, Comedy</td>\n",
       "    </tr>\n",
       "    <tr>\n",
       "      <th>3</th>\n",
       "      <td>Mission: Impossible - Dead Reckoning Part One</td>\n",
       "      <td>2023</td>\n",
       "      <td>7.9</td>\n",
       "      <td>Christopher McQuarrie</td>\n",
       "      <td>Action, Adventure, Thriller</td>\n",
       "    </tr>\n",
       "    <tr>\n",
       "      <th>4</th>\n",
       "      <td>The Batman</td>\n",
       "      <td>2022</td>\n",
       "      <td>7.8</td>\n",
       "      <td>Matt Reeves</td>\n",
       "      <td>Action, Crime, Drama</td>\n",
       "    </tr>\n",
       "  </tbody>\n",
       "</table>\n",
       "</div>"
      ],
      "text/plain": [
       "                                     Movie_Title  Release_Year IMDb_Rating  \\\n",
       "0                                    Oppenheimer          2023         8.6   \n",
       "1            Spider-Man: Across the Spider-Verse          2023         8.7   \n",
       "2                 Guardians of the Galaxy Vol. 3          2023         7.9   \n",
       "3  Mission: Impossible - Dead Reckoning Part One          2023         7.9   \n",
       "4                                     The Batman          2022         7.8   \n",
       "\n",
       "                Director                         Genre  \n",
       "0      Christopher Nolan     Biography, Drama, History  \n",
       "1     Joaquim Dos Santos  Animation, Action, Adventure  \n",
       "2             James Gunn     Action, Adventure, Comedy  \n",
       "3  Christopher McQuarrie   Action, Adventure, Thriller  \n",
       "4            Matt Reeves          Action, Crime, Drama  "
      ]
     },
     "execution_count": 161,
     "metadata": {},
     "output_type": "execute_result"
    }
   ],
   "source": [
    "new_df.head()"
   ]
  },
  {
   "cell_type": "code",
   "execution_count": 162,
   "id": "f76300d2",
   "metadata": {},
   "outputs": [],
   "source": [
    "new_df.to_csv('Movies.csv',index=False)"
   ]
  },
  {
   "cell_type": "markdown",
   "id": "2e87c1a4",
   "metadata": {},
   "source": [
    "### Movies with dates 2013 to 2023 stored in new_df"
   ]
  },
  {
   "cell_type": "markdown",
   "id": "f4994d92",
   "metadata": {},
   "source": [
    "### Functions"
   ]
  },
  {
   "cell_type": "code",
   "execution_count": 163,
   "id": "074f8e82",
   "metadata": {},
   "outputs": [],
   "source": [
    "movies = pd.read_csv('Movies.csv')"
   ]
  },
  {
   "cell_type": "code",
   "execution_count": 164,
   "id": "6d9acfa6",
   "metadata": {},
   "outputs": [
    {
     "name": "stdout",
     "output_type": "stream",
     "text": [
      "<class 'pandas.core.frame.DataFrame'>\n",
      "RangeIndex: 23 entries, 0 to 22\n",
      "Data columns (total 5 columns):\n",
      " #   Column        Non-Null Count  Dtype  \n",
      "---  ------        --------------  -----  \n",
      " 0   Movie_Title   23 non-null     object \n",
      " 1   Release_Year  23 non-null     int64  \n",
      " 2   IMDb_Rating   23 non-null     float64\n",
      " 3   Director      23 non-null     object \n",
      " 4   Genre         23 non-null     object \n",
      "dtypes: float64(1), int64(1), object(3)\n",
      "memory usage: 1.0+ KB\n"
     ]
    }
   ],
   "source": [
    "movies.info()"
   ]
  },
  {
   "cell_type": "markdown",
   "id": "e75f6e73",
   "metadata": {},
   "source": [
    "#### Average IMDb rating for the top-rated movies."
   ]
  },
  {
   "cell_type": "code",
   "execution_count": 165,
   "id": "75b45c13",
   "metadata": {},
   "outputs": [
    {
     "name": "stdout",
     "output_type": "stream",
     "text": [
      "Average IMDB rating for top rated movies is:  8.07\n"
     ]
    }
   ],
   "source": [
    "def average_imdb_rating(dataframe):\n",
    "    return dataframe['IMDb_Rating'].mean()\n",
    "\n",
    "avg_rat = average_imdb_rating(movies)\n",
    "print(\"Average IMDB rating for top rated movies is: \",round(avg_rat,2))"
   ]
  },
  {
   "cell_type": "markdown",
   "id": "cbd9b239",
   "metadata": {},
   "source": [
    "### The most common genre among the top-rated movies"
   ]
  },
  {
   "cell_type": "code",
   "execution_count": 166,
   "id": "cc92e047",
   "metadata": {},
   "outputs": [
    {
     "name": "stdout",
     "output_type": "stream",
     "text": [
      "Genre\n",
      "Count\n",
      "['Drama', 16]\n",
      "['Action', 10]\n",
      "['Adventure', 7]\n",
      "['Crime', 6]\n",
      "['Comedy', 5]\n"
     ]
    }
   ],
   "source": [
    "from tabulate import tabulate\n",
    "def most_common_genres(dataframe,count_of_movies):\n",
    "    genre = dataframe['Genre'].str.split(', ').explode()\n",
    "    \n",
    "    count_of_genre = genre.value_counts()\n",
    "    \n",
    "    most_common_genre = count_of_genre.head(count_of_movies)  \n",
    "    return most_common_genre\n",
    "\n",
    "top_genres = most_common_genres(movies,5)\n",
    "\n",
    "data=[]\n",
    "for genre, count in top_genres.items():\n",
    "    data.append([genre, count])\n",
    "for i in table:\n",
    "    print(i)\n"
   ]
  },
  {
   "cell_type": "markdown",
   "id": "a020cecc",
   "metadata": {},
   "source": [
    "### Identify the director with the highest average IMDb rating.\n"
   ]
  },
  {
   "cell_type": "code",
   "execution_count": 167,
   "id": "87c817f8",
   "metadata": {},
   "outputs": [
    {
     "name": "stdout",
     "output_type": "stream",
     "text": [
      "Director with the highest average IMDb rating: Joaquim Dos Santos\n"
     ]
    }
   ],
   "source": [
    "def director_rated(dataframe):\n",
    "    director_ratings = dataframe.groupby('Director')['IMDb_Rating'].mean()\n",
    "    return director_ratings.idxmax()\n",
    "\n",
    "top_rated_dir = director_rated(movies)\n",
    "\n",
    "average_rating = average_imdb_rating(movies)\n",
    "print(\"Director with the highest average IMDb rating:\",top_rated_dir)\n"
   ]
  },
  {
   "cell_type": "markdown",
   "id": "27f3f83c",
   "metadata": {},
   "source": [
    "### Determine the year with the highest number of top-rated movies"
   ]
  },
  {
   "cell_type": "code",
   "execution_count": 168,
   "id": "329746f6",
   "metadata": {},
   "outputs": [
    {
     "name": "stdout",
     "output_type": "stream",
     "text": [
      "Year with heighest number of top rated movies is  2023\n",
      "Oppenheimer\n",
      "Spider-Man: Across the Spider-Verse\n",
      "Guardians of the Galaxy Vol. 3\n",
      "Mission: Impossible - Dead Reckoning Part One\n",
      "John Wick: Chapter 4\n"
     ]
    }
   ],
   "source": [
    "def top_year(dataframe):\n",
    "    count = dataframe['Release_Year'].value_counts()\n",
    "    year = count.idxmax()\n",
    "    \n",
    "    movies = dataframe[dataframe['Release_Year'] == year]['Movie_Title'].tolist()\n",
    "    \n",
    "    return year, movies\n",
    "\n",
    "year_,movies_ = top_year(movies)\n",
    "\n",
    "print(\"Year with heighest number of top rated movies is \",year_)\n",
    "for title in movies_:\n",
    "    print(title)\n"
   ]
  },
  {
   "cell_type": "markdown",
   "id": "3f91c892",
   "metadata": {},
   "source": [
    "# Question 2 "
   ]
  },
  {
   "cell_type": "markdown",
   "id": "2f87fe0f",
   "metadata": {},
   "source": [
    "### Load Dataset->"
   ]
  },
  {
   "cell_type": "code",
   "execution_count": 169,
   "id": "84305c21",
   "metadata": {},
   "outputs": [],
   "source": [
    "import pandas as pd\n",
    "import numpy as np\n",
    "import seaborn as sns\n",
    "import matplotlib.pyplot as plt\n",
    "from sklearn.preprocessing import MinMaxScaler\n",
    "from sklearn.linear_model import LinearRegression\n",
    "from sklearn.model_selection import train_test_split"
   ]
  },
  {
   "cell_type": "code",
   "execution_count": 94,
   "id": "960c318a",
   "metadata": {},
   "outputs": [],
   "source": [
    "house_df = pd.read_csv('House Pricing.csv')"
   ]
  },
  {
   "cell_type": "code",
   "execution_count": 3,
   "id": "3ddad540",
   "metadata": {},
   "outputs": [
    {
     "data": {
      "text/html": [
       "<div>\n",
       "<style scoped>\n",
       "    .dataframe tbody tr th:only-of-type {\n",
       "        vertical-align: middle;\n",
       "    }\n",
       "\n",
       "    .dataframe tbody tr th {\n",
       "        vertical-align: top;\n",
       "    }\n",
       "\n",
       "    .dataframe thead th {\n",
       "        text-align: right;\n",
       "    }\n",
       "</style>\n",
       "<table border=\"1\" class=\"dataframe\">\n",
       "  <thead>\n",
       "    <tr style=\"text-align: right;\">\n",
       "      <th></th>\n",
       "      <th>crim</th>\n",
       "      <th>zn</th>\n",
       "      <th>indus</th>\n",
       "      <th>chas</th>\n",
       "      <th>nox</th>\n",
       "      <th>rm</th>\n",
       "      <th>age</th>\n",
       "      <th>dis</th>\n",
       "      <th>rad</th>\n",
       "      <th>tax</th>\n",
       "      <th>ptratio</th>\n",
       "      <th>b</th>\n",
       "      <th>lstat</th>\n",
       "      <th>medv</th>\n",
       "    </tr>\n",
       "  </thead>\n",
       "  <tbody>\n",
       "    <tr>\n",
       "      <th>0</th>\n",
       "      <td>0.00632</td>\n",
       "      <td>18.0</td>\n",
       "      <td>2.31</td>\n",
       "      <td>0</td>\n",
       "      <td>0.538</td>\n",
       "      <td>6.575</td>\n",
       "      <td>65.2</td>\n",
       "      <td>4.0900</td>\n",
       "      <td>1</td>\n",
       "      <td>296</td>\n",
       "      <td>15.3</td>\n",
       "      <td>396.90</td>\n",
       "      <td>4.98</td>\n",
       "      <td>24.0</td>\n",
       "    </tr>\n",
       "    <tr>\n",
       "      <th>1</th>\n",
       "      <td>0.02731</td>\n",
       "      <td>0.0</td>\n",
       "      <td>7.07</td>\n",
       "      <td>0</td>\n",
       "      <td>0.469</td>\n",
       "      <td>6.421</td>\n",
       "      <td>78.9</td>\n",
       "      <td>4.9671</td>\n",
       "      <td>2</td>\n",
       "      <td>242</td>\n",
       "      <td>17.8</td>\n",
       "      <td>396.90</td>\n",
       "      <td>9.14</td>\n",
       "      <td>21.6</td>\n",
       "    </tr>\n",
       "    <tr>\n",
       "      <th>2</th>\n",
       "      <td>0.02729</td>\n",
       "      <td>0.0</td>\n",
       "      <td>7.07</td>\n",
       "      <td>0</td>\n",
       "      <td>0.469</td>\n",
       "      <td>7.185</td>\n",
       "      <td>61.1</td>\n",
       "      <td>4.9671</td>\n",
       "      <td>2</td>\n",
       "      <td>242</td>\n",
       "      <td>17.8</td>\n",
       "      <td>392.83</td>\n",
       "      <td>4.03</td>\n",
       "      <td>34.7</td>\n",
       "    </tr>\n",
       "    <tr>\n",
       "      <th>3</th>\n",
       "      <td>0.03237</td>\n",
       "      <td>0.0</td>\n",
       "      <td>2.18</td>\n",
       "      <td>0</td>\n",
       "      <td>0.458</td>\n",
       "      <td>6.998</td>\n",
       "      <td>45.8</td>\n",
       "      <td>6.0622</td>\n",
       "      <td>3</td>\n",
       "      <td>222</td>\n",
       "      <td>18.7</td>\n",
       "      <td>394.63</td>\n",
       "      <td>2.94</td>\n",
       "      <td>33.4</td>\n",
       "    </tr>\n",
       "    <tr>\n",
       "      <th>4</th>\n",
       "      <td>0.06905</td>\n",
       "      <td>0.0</td>\n",
       "      <td>2.18</td>\n",
       "      <td>0</td>\n",
       "      <td>0.458</td>\n",
       "      <td>7.147</td>\n",
       "      <td>54.2</td>\n",
       "      <td>6.0622</td>\n",
       "      <td>3</td>\n",
       "      <td>222</td>\n",
       "      <td>18.7</td>\n",
       "      <td>396.90</td>\n",
       "      <td>5.33</td>\n",
       "      <td>36.2</td>\n",
       "    </tr>\n",
       "  </tbody>\n",
       "</table>\n",
       "</div>"
      ],
      "text/plain": [
       "      crim    zn  indus  chas    nox     rm   age     dis  rad  tax  ptratio  \\\n",
       "0  0.00632  18.0   2.31     0  0.538  6.575  65.2  4.0900    1  296     15.3   \n",
       "1  0.02731   0.0   7.07     0  0.469  6.421  78.9  4.9671    2  242     17.8   \n",
       "2  0.02729   0.0   7.07     0  0.469  7.185  61.1  4.9671    2  242     17.8   \n",
       "3  0.03237   0.0   2.18     0  0.458  6.998  45.8  6.0622    3  222     18.7   \n",
       "4  0.06905   0.0   2.18     0  0.458  7.147  54.2  6.0622    3  222     18.7   \n",
       "\n",
       "        b  lstat  medv  \n",
       "0  396.90   4.98  24.0  \n",
       "1  396.90   9.14  21.6  \n",
       "2  392.83   4.03  34.7  \n",
       "3  394.63   2.94  33.4  \n",
       "4  396.90   5.33  36.2  "
      ]
     },
     "execution_count": 3,
     "metadata": {},
     "output_type": "execute_result"
    }
   ],
   "source": [
    "house_df.head()"
   ]
  },
  {
   "cell_type": "markdown",
   "id": "782c201d",
   "metadata": {},
   "source": [
    "### Discretize into bins->"
   ]
  },
  {
   "cell_type": "code",
   "execution_count": 4,
   "id": "be038639",
   "metadata": {},
   "outputs": [
    {
     "data": {
      "text/plain": [
       "0    Middle\n",
       "1    Middle\n",
       "2    Middle\n",
       "3     Young\n",
       "4     Young\n",
       "Name: age, dtype: category\n",
       "Categories (3, object): ['Young' < 'Middle' < 'Old']"
      ]
     },
     "execution_count": 4,
     "metadata": {},
     "output_type": "execute_result"
    }
   ],
   "source": [
    "pd.qcut(house_df['age'],q=3,labels=['Young','Middle',\"Old\"]).head()"
   ]
  },
  {
   "cell_type": "code",
   "execution_count": 5,
   "id": "1f13260a",
   "metadata": {},
   "outputs": [
    {
     "data": {
      "text/plain": [
       "0           O\n",
       "1           O\n",
       "2           O\n",
       "3      Middle\n",
       "4           O\n",
       "        ...  \n",
       "501         O\n",
       "502         O\n",
       "503         O\n",
       "504         O\n",
       "505         O\n",
       "Name: age, Length: 506, dtype: category\n",
       "Categories (3, object): ['Y' < 'Middle' < 'O']"
      ]
     },
     "execution_count": 5,
     "metadata": {},
     "output_type": "execute_result"
    }
   ],
   "source": [
    "pd.cut(house_df['age'],bins=[0,20,50,100],labels=['Y','Middle','O'])"
   ]
  },
  {
   "cell_type": "markdown",
   "id": "a40aee9b",
   "metadata": {},
   "source": [
    "### \"is_charles_river\" based on the \"chas\" column."
   ]
  },
  {
   "cell_type": "code",
   "execution_count": 6,
   "id": "95ded342",
   "metadata": {},
   "outputs": [],
   "source": [
    "house_df['is_charls_river']=house_df['chas']"
   ]
  },
  {
   "cell_type": "code",
   "execution_count": 7,
   "id": "feccdf9f",
   "metadata": {},
   "outputs": [
    {
     "data": {
      "text/plain": [
       "0    471\n",
       "1     35\n",
       "Name: is_charls_river, dtype: int64"
      ]
     },
     "execution_count": 7,
     "metadata": {},
     "output_type": "execute_result"
    }
   ],
   "source": [
    "house_df.is_charls_river.value_counts()"
   ]
  },
  {
   "cell_type": "markdown",
   "id": "26fbd580",
   "metadata": {},
   "source": [
    "### IQR->"
   ]
  },
  {
   "cell_type": "code",
   "execution_count": 8,
   "id": "64bc7c9f",
   "metadata": {},
   "outputs": [
    {
     "name": "stdout",
     "output_type": "stream",
     "text": [
      "<class 'pandas.core.frame.DataFrame'>\n",
      "RangeIndex: 506 entries, 0 to 505\n",
      "Data columns (total 15 columns):\n",
      " #   Column           Non-Null Count  Dtype  \n",
      "---  ------           --------------  -----  \n",
      " 0   crim             506 non-null    float64\n",
      " 1   zn               506 non-null    float64\n",
      " 2   indus            506 non-null    float64\n",
      " 3   chas             506 non-null    int64  \n",
      " 4   nox              506 non-null    float64\n",
      " 5   rm               506 non-null    float64\n",
      " 6   age              506 non-null    float64\n",
      " 7   dis              506 non-null    float64\n",
      " 8   rad              506 non-null    int64  \n",
      " 9   tax              506 non-null    int64  \n",
      " 10  ptratio          506 non-null    float64\n",
      " 11  b                506 non-null    float64\n",
      " 12  lstat            506 non-null    float64\n",
      " 13  medv             506 non-null    float64\n",
      " 14  is_charls_river  506 non-null    int64  \n",
      "dtypes: float64(11), int64(4)\n",
      "memory usage: 59.4 KB\n"
     ]
    }
   ],
   "source": [
    "house_df.info()"
   ]
  },
  {
   "cell_type": "code",
   "execution_count": 9,
   "id": "21881230",
   "metadata": {},
   "outputs": [
    {
     "name": "stdout",
     "output_type": "stream",
     "text": [
      "23.451\n"
     ]
    }
   ],
   "source": [
    "dataset = np.sort(house_df)\n",
    "q1,q3 = np.percentile(dataset,[25,75])\n",
    "iqr = q3 - q1\n",
    "lower_fence,higher_fence = q1-(1.5*iqr),q3+(1.5*iqr)\n",
    "print(iqr)"
   ]
  },
  {
   "cell_type": "code",
   "execution_count": 10,
   "id": "3ebad667",
   "metadata": {},
   "outputs": [],
   "source": [
    "def outliers(dataset,higher_fence,lower_fence):\n",
    "    outlier = []\n",
    "    \n",
    "    for i in dataset:\n",
    "        if i<lower_fence or i>higher_fence:\n",
    "            outlier.append(i)\n",
    "    return outlier"
   ]
  },
  {
   "cell_type": "code",
   "execution_count": 11,
   "id": "06cb91cc",
   "metadata": {},
   "outputs": [],
   "source": [
    "numerical_columns = ['crim', 'zn', 'indus', 'nox', 'rm', 'age', 'dis','rad', 'tax', 'ptratio', 'b', 'lstat', 'medv']      "
   ]
  },
  {
   "cell_type": "code",
   "execution_count": 12,
   "id": "a1380b48",
   "metadata": {},
   "outputs": [
    {
     "data": {
      "image/png": "[encoded data removed]",
      "text/plain": [
       "<Figure size 432x288 with 1 Axes>"
      ]
     },
     "metadata": {
      "needs_background": "light"
     },
     "output_type": "display_data"
    },
    {
     "data": {
      "image/png": "[encoded data removed]",
      "text/plain": [
       "<Figure size 432x288 with 1 Axes>"
      ]
     },
     "metadata": {
      "needs_background": "light"
     },
     "output_type": "display_data"
    },
    {
     "data": {
      "image/png": "[encoded data removed]",
      "text/plain": [
       "<Figure size 432x288 with 1 Axes>"
      ]
     },
     "metadata": {
      "needs_background": "light"
     },
     "output_type": "display_data"
    },
    {
     "data": {
      "image/png": "[encoded data removed]",
      "text/plain": [
       "<Figure size 432x288 with 1 Axes>"
      ]
     },
     "metadata": {
      "needs_background": "light"
     },
     "output_type": "display_data"
    },
    {
     "data": {
      "image/png": "[encoded data removed]",
      "text/plain": [
       "<Figure size 432x288 with 1 Axes>"
      ]
     },
     "metadata": {
      "needs_background": "light"
     },
     "output_type": "display_data"
    },
    {
     "data": {
      "image/png": "[encoded data removed]",
      "text/plain": [
       "<Figure size 432x288 with 1 Axes>"
      ]
     },
     "metadata": {
      "needs_background": "light"
     },
     "output_type": "display_data"
    },
    {
     "data": {
      "image/png": "[encoded data removed]",
      "text/plain": [
       "<Figure size 432x288 with 1 Axes>"
      ]
     },
     "metadata": {
      "needs_background": "light"
     },
     "output_type": "display_data"
    },
    {
     "data": {
      "image/png": "[encoded data removed]",
      "text/plain": [
       "<Figure size 432x288 with 1 Axes>"
      ]
     },
     "metadata": {
      "needs_background": "light"
     },
     "output_type": "display_data"
    },
    {
     "data": {
      "image/png": "[encoded data removed]",
      "text/plain": [
       "<Figure size 432x288 with 1 Axes>"
      ]
     },
     "metadata": {
      "needs_background": "light"
     },
     "output_type": "display_data"
    },
    {
     "data": {
      "image/png": "[encoded data removed]",
      "text/plain": [
       "<Figure size 432x288 with 1 Axes>"
      ]
     },
     "metadata": {
      "needs_background": "light"
     },
     "output_type": "display_data"
    },
    {
     "data": {
      "image/png": "[encoded data removed]",
      "text/plain": [
       "<Figure size 432x288 with 1 Axes>"
      ]
     },
     "metadata": {
      "needs_background": "light"
     },
     "output_type": "display_data"
    },
    {
     "data": {
      "image/png": "[encoded data removed]",
      "text/plain": [
       "<Figure size 432x288 with 1 Axes>"
      ]
     },
     "metadata": {
      "needs_background": "light"
     },
     "output_type": "display_data"
    },
    {
     "data": {
      "image/png": "[encoded data removed]",
      "text/plain": [
       "<Figure size 432x288 with 1 Axes>"
      ]
     },
     "metadata": {
      "needs_background": "light"
     },
     "output_type": "display_data"
    }
   ],
   "source": [
    "for i in numerical_columns:\n",
    "    sns.boxplot(data=house_df[i],orient='horizontal')\n",
    "    plt.title(i)\n",
    "    plt.show()"
   ]
  },
  {
   "cell_type": "code",
   "execution_count": 13,
   "id": "378723d7",
   "metadata": {},
   "outputs": [],
   "source": [
    "outlier={}\n",
    "for i in numerical_columns:\n",
    "    outlier[i] = outliers(house_df[i],higher_fence,lower_fence)  \n",
    "    df = house_df[~house_df[i].isin(outlier[i])]"
   ]
  },
  {
   "cell_type": "code",
   "execution_count": 14,
   "id": "2e6a587f",
   "metadata": {},
   "outputs": [
    {
     "data": {
      "text/html": [
       "<div>\n",
       "<style scoped>\n",
       "    .dataframe tbody tr th:only-of-type {\n",
       "        vertical-align: middle;\n",
       "    }\n",
       "\n",
       "    .dataframe tbody tr th {\n",
       "        vertical-align: top;\n",
       "    }\n",
       "\n",
       "    .dataframe thead th {\n",
       "        text-align: right;\n",
       "    }\n",
       "</style>\n",
       "<table border=\"1\" class=\"dataframe\">\n",
       "  <thead>\n",
       "    <tr style=\"text-align: right;\">\n",
       "      <th></th>\n",
       "      <th>crim</th>\n",
       "      <th>zn</th>\n",
       "      <th>indus</th>\n",
       "      <th>chas</th>\n",
       "      <th>nox</th>\n",
       "      <th>rm</th>\n",
       "      <th>age</th>\n",
       "      <th>dis</th>\n",
       "      <th>rad</th>\n",
       "      <th>tax</th>\n",
       "      <th>ptratio</th>\n",
       "      <th>b</th>\n",
       "      <th>lstat</th>\n",
       "      <th>medv</th>\n",
       "      <th>is_charls_river</th>\n",
       "    </tr>\n",
       "  </thead>\n",
       "  <tbody>\n",
       "    <tr>\n",
       "      <th>0</th>\n",
       "      <td>0.00632</td>\n",
       "      <td>18.0</td>\n",
       "      <td>2.31</td>\n",
       "      <td>0</td>\n",
       "      <td>0.538</td>\n",
       "      <td>6.575</td>\n",
       "      <td>65.2</td>\n",
       "      <td>4.0900</td>\n",
       "      <td>1</td>\n",
       "      <td>296</td>\n",
       "      <td>15.3</td>\n",
       "      <td>396.90</td>\n",
       "      <td>4.98</td>\n",
       "      <td>24.0</td>\n",
       "      <td>0</td>\n",
       "    </tr>\n",
       "    <tr>\n",
       "      <th>1</th>\n",
       "      <td>0.02731</td>\n",
       "      <td>0.0</td>\n",
       "      <td>7.07</td>\n",
       "      <td>0</td>\n",
       "      <td>0.469</td>\n",
       "      <td>6.421</td>\n",
       "      <td>78.9</td>\n",
       "      <td>4.9671</td>\n",
       "      <td>2</td>\n",
       "      <td>242</td>\n",
       "      <td>17.8</td>\n",
       "      <td>396.90</td>\n",
       "      <td>9.14</td>\n",
       "      <td>21.6</td>\n",
       "      <td>0</td>\n",
       "    </tr>\n",
       "    <tr>\n",
       "      <th>2</th>\n",
       "      <td>0.02729</td>\n",
       "      <td>0.0</td>\n",
       "      <td>7.07</td>\n",
       "      <td>0</td>\n",
       "      <td>0.469</td>\n",
       "      <td>7.185</td>\n",
       "      <td>61.1</td>\n",
       "      <td>4.9671</td>\n",
       "      <td>2</td>\n",
       "      <td>242</td>\n",
       "      <td>17.8</td>\n",
       "      <td>392.83</td>\n",
       "      <td>4.03</td>\n",
       "      <td>34.7</td>\n",
       "      <td>0</td>\n",
       "    </tr>\n",
       "    <tr>\n",
       "      <th>3</th>\n",
       "      <td>0.03237</td>\n",
       "      <td>0.0</td>\n",
       "      <td>2.18</td>\n",
       "      <td>0</td>\n",
       "      <td>0.458</td>\n",
       "      <td>6.998</td>\n",
       "      <td>45.8</td>\n",
       "      <td>6.0622</td>\n",
       "      <td>3</td>\n",
       "      <td>222</td>\n",
       "      <td>18.7</td>\n",
       "      <td>394.63</td>\n",
       "      <td>2.94</td>\n",
       "      <td>33.4</td>\n",
       "      <td>0</td>\n",
       "    </tr>\n",
       "    <tr>\n",
       "      <th>4</th>\n",
       "      <td>0.06905</td>\n",
       "      <td>0.0</td>\n",
       "      <td>2.18</td>\n",
       "      <td>0</td>\n",
       "      <td>0.458</td>\n",
       "      <td>7.147</td>\n",
       "      <td>54.2</td>\n",
       "      <td>6.0622</td>\n",
       "      <td>3</td>\n",
       "      <td>222</td>\n",
       "      <td>18.7</td>\n",
       "      <td>396.90</td>\n",
       "      <td>5.33</td>\n",
       "      <td>36.2</td>\n",
       "      <td>0</td>\n",
       "    </tr>\n",
       "  </tbody>\n",
       "</table>\n",
       "</div>"
      ],
      "text/plain": [
       "      crim    zn  indus  chas    nox     rm   age     dis  rad  tax  ptratio  \\\n",
       "0  0.00632  18.0   2.31     0  0.538  6.575  65.2  4.0900    1  296     15.3   \n",
       "1  0.02731   0.0   7.07     0  0.469  6.421  78.9  4.9671    2  242     17.8   \n",
       "2  0.02729   0.0   7.07     0  0.469  7.185  61.1  4.9671    2  242     17.8   \n",
       "3  0.03237   0.0   2.18     0  0.458  6.998  45.8  6.0622    3  222     18.7   \n",
       "4  0.06905   0.0   2.18     0  0.458  7.147  54.2  6.0622    3  222     18.7   \n",
       "\n",
       "        b  lstat  medv  is_charls_river  \n",
       "0  396.90   4.98  24.0                0  \n",
       "1  396.90   9.14  21.6                0  \n",
       "2  392.83   4.03  34.7                0  \n",
       "3  394.63   2.94  33.4                0  \n",
       "4  396.90   5.33  36.2                0  "
      ]
     },
     "execution_count": 14,
     "metadata": {},
     "output_type": "execute_result"
    }
   ],
   "source": [
    "df.head()"
   ]
  },
  {
   "cell_type": "code",
   "execution_count": 15,
   "id": "0201503c",
   "metadata": {},
   "outputs": [
    {
     "data": {
      "image/png": "[encoded data removed]",
      "text/plain": [
       "<Figure size 432x288 with 1 Axes>"
      ]
     },
     "metadata": {
      "needs_background": "light"
     },
     "output_type": "display_data"
    },
    {
     "data": {
      "image/png": "[encoded data removed]",
      "text/plain": [
       "<Figure size 432x288 with 1 Axes>"
      ]
     },
     "metadata": {
      "needs_background": "light"
     },
     "output_type": "display_data"
    },
    {
     "data": {
      "image/png": "[encoded data removed]",
      "text/plain": [
       "<Figure size 432x288 with 1 Axes>"
      ]
     },
     "metadata": {
      "needs_background": "light"
     },
     "output_type": "display_data"
    },
    {
     "data": {
      "image/png": "[encoded data removed]",
      "text/plain": [
       "<Figure size 432x288 with 1 Axes>"
      ]
     },
     "metadata": {
      "needs_background": "light"
     },
     "output_type": "display_data"
    },
    {
     "data": {
      "image/png": "[encoded data removed]",
      "text/plain": [
       "<Figure size 432x288 with 1 Axes>"
      ]
     },
     "metadata": {
      "needs_background": "light"
     },
     "output_type": "display_data"
    },
    {
     "data": {
      "image/png": "[encoded data removed]",
      "text/plain": [
       "<Figure size 432x288 with 1 Axes>"
      ]
     },
     "metadata": {
      "needs_background": "light"
     },
     "output_type": "display_data"
    },
    {
     "data": {
      "image/png": "[encoded data removed]",
      "text/plain": [
       "<Figure size 432x288 with 1 Axes>"
      ]
     },
     "metadata": {
      "needs_background": "light"
     },
     "output_type": "display_data"
    },
    {
     "data": {
      "image/png": "[encoded data removed]",
      "text/plain": [
       "<Figure size 432x288 with 1 Axes>"
      ]
     },
     "metadata": {
      "needs_background": "light"
     },
     "output_type": "display_data"
    },
    {
     "data": {
      "image/png": "[encoded data removed]",
      "text/plain": [
       "<Figure size 432x288 with 1 Axes>"
      ]
     },
     "metadata": {
      "needs_background": "light"
     },
     "output_type": "display_data"
    },
    {
     "data": {
      "image/png": "[encoded data removed]",
      "text/plain": [
       "<Figure size 432x288 with 1 Axes>"
      ]
     },
     "metadata": {
      "needs_background": "light"
     },
     "output_type": "display_data"
    },
    {
     "data": {
      "image/png": "[encoded data removed]",
      "text/plain": [
       "<Figure size 432x288 with 1 Axes>"
      ]
     },
     "metadata": {
      "needs_background": "light"
     },
     "output_type": "display_data"
    },
    {
     "data": {
      "image/png": "[encoded data removed]",
      "text/plain": [
       "<Figure size 432x288 with 1 Axes>"
      ]
     },
     "metadata": {
      "needs_background": "light"
     },
     "output_type": "display_data"
    },
    {
     "data": {
      "image/png": "[encoded data removed]",
      "text/plain": [
       "<Figure size 432x288 with 1 Axes>"
      ]
     },
     "metadata": {
      "needs_background": "light"
     },
     "output_type": "display_data"
    }
   ],
   "source": [
    "for i in numerical_columns:\n",
    "    sns.boxplot(data=df[i],orient='horizontal')\n",
    "    plt.title(i)\n",
    "    plt.show()"
   ]
  },
  {
   "cell_type": "markdown",
   "id": "eb7d8b70",
   "metadata": {},
   "source": [
    "### smoothing to 'rm' column->"
   ]
  },
  {
   "cell_type": "code",
   "execution_count": 45,
   "id": "7332d1af",
   "metadata": {},
   "outputs": [
    {
     "data": {
      "text/plain": [
       "5.713    3\n",
       "6.167    3\n",
       "6.127    3\n",
       "6.229    3\n",
       "6.405    3\n",
       "        ..\n",
       "5.859    1\n",
       "6.416    1\n",
       "5.572    1\n",
       "5.880    1\n",
       "6.976    1\n",
       "Name: rm, Length: 446, dtype: int64"
      ]
     },
     "execution_count": 45,
     "metadata": {},
     "output_type": "execute_result"
    }
   ],
   "source": [
    "df['rm'].value_counts()"
   ]
  },
  {
   "cell_type": "code",
   "execution_count": 46,
   "id": "53eb3421",
   "metadata": {},
   "outputs": [],
   "source": [
    "df['smoothed_rm'] = df['rm'].rolling(window=3, min_periods=1).median()"
   ]
  },
  {
   "cell_type": "code",
   "execution_count": 47,
   "id": "55bbb762",
   "metadata": {},
   "outputs": [
    {
     "data": {
      "text/plain": [
       "6.376    5\n",
       "6.229    5\n",
       "6.127    5\n",
       "5.935    4\n",
       "6.251    4\n",
       "        ..\n",
       "5.468    1\n",
       "6.630    1\n",
       "6.565    1\n",
       "5.709    1\n",
       "6.593    1\n",
       "Name: smoothed_rm, Length: 286, dtype: int64"
      ]
     },
     "execution_count": 47,
     "metadata": {},
     "output_type": "execute_result"
    }
   ],
   "source": [
    "df['smoothed_rm'].value_counts()"
   ]
  },
  {
   "cell_type": "markdown",
   "id": "d6c39816",
   "metadata": {},
   "source": [
    "### min-max scaler->"
   ]
  },
  {
   "cell_type": "code",
   "execution_count": 48,
   "id": "933c0886",
   "metadata": {},
   "outputs": [],
   "source": [
    "columns_to_normalize=['tax','lstat']\n",
    "\n",
    "min_max_scaler = MinMaxScaler()\n",
    "df[columns_to_normalize] = min_max_scaler.fit_transform(df[columns_to_normalize])\n"
   ]
  },
  {
   "cell_type": "markdown",
   "id": "f6f17043",
   "metadata": {},
   "source": [
    "### Linear Regression->"
   ]
  },
  {
   "cell_type": "code",
   "execution_count": 50,
   "id": "10e9c355",
   "metadata": {},
   "outputs": [
    {
     "data": {
      "image/png": "[encoded data removed]",
      "text/plain": [
       "<Figure size 432x288 with 1 Axes>"
      ]
     },
     "metadata": {
      "needs_background": "light"
     },
     "output_type": "display_data"
    }
   ],
   "source": [
    "linear_reg = LinearRegression()\n",
    "\n",
    "X=df[\"rm\"].values.reshape(-1,1)\n",
    "y=df[\"medv\"]\n",
    "r =linear_reg.fit(X,y)\n",
    "y_pred = r.predict(X)\n",
    "\n",
    "plt.scatter(X, y, label='house data')\n",
    "plt.plot(X, y_pred, color='red', label='Best fit')\n",
    "plt.title(\"Linear Regression\")\n",
    "plt.xlabel('rm')\n",
    "plt.ylabel('medv')\n",
    "plt.legend()\n",
    "plt.show()\n"
   ]
  },
  {
   "cell_type": "code",
   "execution_count": 260,
   "id": "933a7736",
   "metadata": {},
   "outputs": [
    {
     "name": "stdout",
     "output_type": "stream",
     "text": [
      "Linear Regression equation:  9.102 -34.671\n"
     ]
    }
   ],
   "source": [
    "print(\"Linear Regression equation: \",round(linear_reg.coef_[0],3),round(linear_reg.intercept_,3))"
   ]
  },
  {
   "cell_type": "markdown",
   "id": "4d608dcb",
   "metadata": {},
   "source": [
    "# Medv and rm relation\n",
    "### According to the figure above, the scatter plot shows linear relation between both rm and medv columns. Both columns depend meaning that as medv increases , so does rm\n"
   ]
  }
 ],
 "metadata": {
  "kernelspec": {
   "display_name": "Python 3 (ipykernel)",
   "language": "python",
   "name": "python3"
  },
  "language_info": {
   "codemirror_mode": {
    "name": "ipython",
    "version": 3
   },
   "file_extension": ".py",
   "mimetype": "text/x-python",
   "name": "python",
   "nbconvert_exporter": "python",
   "pygments_lexer": "ipython3",
   "version": "3.9.12"
  }
 },
 "nbformat": 4,
 "nbformat_minor": 5
}
