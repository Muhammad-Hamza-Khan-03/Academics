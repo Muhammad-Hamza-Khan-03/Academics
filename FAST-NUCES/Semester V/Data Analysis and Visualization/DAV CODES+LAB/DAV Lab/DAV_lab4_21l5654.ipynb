{
 "cells": [
  {
   "cell_type": "markdown",
   "id": "bc128df9",
   "metadata": {},
   "source": [
    "# Question 1"
   ]
  },
  {
   "cell_type": "code",
   "execution_count": 65,
   "id": "1619d3fe",
   "metadata": {},
   "outputs": [],
   "source": [
    "import cv2\n",
    "import matplotlib.pyplot as plt\n",
    "import numpy as np"
   ]
  },
  {
   "cell_type": "code",
   "execution_count": 66,
   "id": "a21a9df0",
   "metadata": {},
   "outputs": [],
   "source": [
    "image = cv2.imread('Lenna_(test_image).png',1)"
   ]
  },
  {
   "cell_type": "code",
   "execution_count": 67,
   "id": "b19f6c0e",
   "metadata": {},
   "outputs": [],
   "source": [
    "cv2.namedWindow(\"Input\")\n",
    "cv2.imshow(\"Input\",image)\n",
    "cv2.waitKey(0)\n",
    "cv2.destroyAllWindows()"
   ]
  },
  {
   "cell_type": "code",
   "execution_count": 4,
   "id": "48c95c0a",
   "metadata": {},
   "outputs": [
    {
     "name": "stdout",
     "output_type": "stream",
     "text": [
      "[ 78  68 178]\n"
     ]
    }
   ],
   "source": [
    "px=image[100,100]\n",
    "print(px)"
   ]
  },
  {
   "cell_type": "code",
   "execution_count": 5,
   "id": "0c73e644",
   "metadata": {},
   "outputs": [],
   "source": [
    "greyscaleimage = ((0.3*image[:,:,2])+(0.59*image[:,:,1])+(0.11*image[:,:,0])).astype('uint8')"
   ]
  },
  {
   "cell_type": "code",
   "execution_count": 6,
   "id": "7f8235a6",
   "metadata": {},
   "outputs": [
    {
     "data": {
      "text/plain": [
       "(512, 512, 3)"
      ]
     },
     "execution_count": 6,
     "metadata": {},
     "output_type": "execute_result"
    }
   ],
   "source": [
    "np.shape(image)"
   ]
  },
  {
   "cell_type": "code",
   "execution_count": 7,
   "id": "cbf35bb5",
   "metadata": {},
   "outputs": [
    {
     "data": {
      "text/plain": [
       "(512, 512)"
      ]
     },
     "execution_count": 7,
     "metadata": {},
     "output_type": "execute_result"
    }
   ],
   "source": [
    "np.shape(greyscaleimage)"
   ]
  },
  {
   "cell_type": "code",
   "execution_count": 8,
   "id": "7eab2ae4",
   "metadata": {},
   "outputs": [],
   "source": [
    "cv2.namedWindow(\"Input\")\n",
    "cv2.imshow(\"Input\",greyscaleimage)\n",
    "cv2.waitKey(0)\n",
    "cv2.destroyAllWindows()"
   ]
  },
  {
   "cell_type": "markdown",
   "id": "12e7063b",
   "metadata": {},
   "source": [
    "# Question 2"
   ]
  },
  {
   "cell_type": "code",
   "execution_count": 9,
   "id": "a77afb9e",
   "metadata": {},
   "outputs": [],
   "source": [
    "import json"
   ]
  },
  {
   "cell_type": "code",
   "execution_count": 10,
   "id": "7b4a7c1d",
   "metadata": {},
   "outputs": [],
   "source": [
    "json_save_img = greyscaleimage.tolist()\n",
    "json.dumps(json_save_img)\n",
    "with open(\"file.json\", \"w\") as outfile:\n",
    "    json.dump(json_save_img, outfile)"
   ]
  },
  {
   "cell_type": "markdown",
   "id": "d3eaadb4",
   "metadata": {},
   "source": [
    "# Question 3"
   ]
  },
  {
   "cell_type": "code",
   "execution_count": 21,
   "id": "762dde9b",
   "metadata": {},
   "outputs": [],
   "source": [
    "def make_histogram(image,size):\n",
    "    my_array = np.zeros(256)\n",
    "    \n",
    "    for i in range(size[0]):\n",
    "        for j in range(size[1]):\n",
    "            pixel_value = image[i][j]\n",
    "            my_array[pixel_value] += 1\n",
    "    return my_array            "
   ]
  },
  {
   "cell_type": "code",
   "execution_count": 13,
   "id": "4673732f",
   "metadata": {},
   "outputs": [],
   "source": [
    "image_path = 'einstein1.jpg'\n",
    "einstien_jpg = cv2.imread(image_path,0)"
   ]
  },
  {
   "cell_type": "code",
   "execution_count": 14,
   "id": "157a2013",
   "metadata": {},
   "outputs": [
    {
     "data": {
      "image/png": "[encoded data removed]",
      "text/plain": [
       "<Figure size 432x288 with 1 Axes>"
      ]
     },
     "metadata": {
      "needs_background": "light"
     },
     "output_type": "display_data"
    }
   ],
   "source": [
    "my_array = make_histogram(einstien_jpg,np.shape(einstien_jpg))\n",
    "plt.hist(np.arange(256),bins=256, weights=my_array)\n",
    "plt.xlabel('Grayscale Value')\n",
    "plt.ylabel('Count')\n",
    "plt.title('Grayscale Histogram')\n",
    "plt.show()"
   ]
  },
  {
   "cell_type": "code",
   "execution_count": 15,
   "id": "cf92760c",
   "metadata": {},
   "outputs": [
    {
     "data": {
      "text/plain": [
       "(625, 640)"
      ]
     },
     "execution_count": 15,
     "metadata": {},
     "output_type": "execute_result"
    }
   ],
   "source": [
    "np.shape(einstien_jpg)"
   ]
  },
  {
   "cell_type": "code",
   "execution_count": 61,
   "id": "90b310b1",
   "metadata": {},
   "outputs": [],
   "source": [
    "cv2.namedWindow(\"Input\")\n",
    "cv2.imshow(\"Input\",einstien_jpg)\n",
    "cv2.waitKey(0)\n",
    "cv2.destroyAllWindows()"
   ]
  },
  {
   "cell_type": "markdown",
   "id": "5c9471df",
   "metadata": {},
   "source": [
    "# Question 4"
   ]
  },
  {
   "cell_type": "code",
   "execution_count": 32,
   "id": "ed18a73a",
   "metadata": {},
   "outputs": [],
   "source": [
    "def cumulative_sum(histogram):\n",
    "    return np.cumsum(histogram)"
   ]
  },
  {
   "cell_type": "code",
   "execution_count": 49,
   "id": "540c4983",
   "metadata": {},
   "outputs": [],
   "source": [
    "def histogram_equalization(image):\n",
    "    histogram = make_histogram(image, image.shape)\n",
    "    cumulative = cumulative_sum(histogram)\n",
    "    \n",
    "    min_c = np.min(cumulative)\n",
    "    max_c = np.max(cumulative)\n",
    "    \n",
    "    equalized = ((cumulative - min_c) * 255) / (max_c - min_c)\n",
    "    \n",
    "    return equalized"
   ]
  },
  {
   "cell_type": "code",
   "execution_count": 50,
   "id": "5dc73cd8",
   "metadata": {},
   "outputs": [],
   "source": [
    "equalize = histogram_equalization(einstien_jpg)"
   ]
  },
  {
   "cell_type": "code",
   "execution_count": 70,
   "id": "3794440a",
   "metadata": {},
   "outputs": [
    {
     "data": {
      "image/png": "[encoded data removed]",
      "text/plain": [
       "<Figure size 576x432 with 1 Axes>"
      ]
     },
     "metadata": {
      "needs_background": "light"
     },
     "output_type": "display_data"
    }
   ],
   "source": [
    "plt.figure(figsize=(8,6))\n",
    "plt.hist(equalize.ravel(),256,[0, 256])\n",
    "plt.xlabel('Grayscale Value')\n",
    "plt.ylabel('Frequency')\n",
    "plt.title('Histogram')\n",
    "plt.show()\n"
   ]
  },
  {
   "cell_type": "code",
   "execution_count": 64,
   "id": "e0a4aa04",
   "metadata": {
    "scrolled": true
   },
   "outputs": [],
   "source": [
    "cv2.namedWindow(\"Einstien\")\n",
    "cv2.imshow(\"Einstien\",equalize.astype('uint8'))\n",
    "cv2.waitKey(0)\n",
    "cv2.destroyAllWindows()"
   ]
  },
  {
   "cell_type": "markdown",
   "id": "4f7840fa",
   "metadata": {},
   "source": [
    "# Question 5"
   ]
  },
  {
   "cell_type": "code",
   "execution_count": 53,
   "id": "77720bbf",
   "metadata": {},
   "outputs": [],
   "source": [
    "q5_image = cv2.imread('Lenna_(test_image).png',1)"
   ]
  },
  {
   "cell_type": "code",
   "execution_count": 54,
   "id": "9cd45a8e",
   "metadata": {},
   "outputs": [
    {
     "data": {
      "text/plain": [
       "(512, 512, 3)"
      ]
     },
     "execution_count": 54,
     "metadata": {},
     "output_type": "execute_result"
    }
   ],
   "source": [
    "np.shape(q5_image)"
   ]
  },
  {
   "cell_type": "code",
   "execution_count": 55,
   "id": "e2ce9536",
   "metadata": {},
   "outputs": [],
   "source": [
    "resized_image = cv2.resize(q5_image, (16, 16))"
   ]
  },
  {
   "cell_type": "code",
   "execution_count": 56,
   "id": "c99c036e",
   "metadata": {},
   "outputs": [],
   "source": [
    "kernel = np.array([[3,0,3],[1,0,1],[3,0,3]])"
   ]
  },
  {
   "cell_type": "code",
   "execution_count": 57,
   "id": "1d2f59eb",
   "metadata": {},
   "outputs": [],
   "source": [
    "filtered_image = cv2.filter2D(resized_image, -1, kernel)"
   ]
  },
  {
   "cell_type": "code",
   "execution_count": 58,
   "id": "83a35bb8",
   "metadata": {},
   "outputs": [],
   "source": [
    "cv2.imshow('Image', filtered_image)\n",
    "cv2.waitKey(0)\n",
    "cv2.destroyAllWindows()\n"
   ]
  },
  {
   "cell_type": "code",
   "execution_count": null,
   "id": "ccc81ff6",
   "metadata": {},
   "outputs": [],
   "source": []
  }
 ],
 "metadata": {
  "kernelspec": {
   "display_name": "Python 3 (ipykernel)",
   "language": "python",
   "name": "python3"
  },
  "language_info": {
   "codemirror_mode": {
    "name": "ipython",
    "version": 3
   },
   "file_extension": ".py",
   "mimetype": "text/x-python",
   "name": "python",
   "nbconvert_exporter": "python",
   "pygments_lexer": "ipython3",
   "version": "3.9.12"
  }
 },
 "nbformat": 4,
 "nbformat_minor": 5
}
