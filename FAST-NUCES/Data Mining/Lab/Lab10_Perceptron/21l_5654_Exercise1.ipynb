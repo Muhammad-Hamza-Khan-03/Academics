{
 "cells": [
  {
   "cell_type": "markdown",
   "metadata": {},
   "source": [
    "| Objective: AND OR gates implementation using Perceptron Model"
   ]
  },
  {
   "cell_type": "code",
   "execution_count": 20,
   "metadata": {},
   "outputs": [
    {
     "name": "stdout",
     "output_type": "stream",
     "text": [
      "1\n"
     ]
    }
   ],
   "source": [
    "import numpy as np\n",
    "\n",
    "#only forward pass\n",
    "class ANN:\n",
    "    def __init__(self,learning_rate,weight,bias):\n",
    "        self.learning_rate = learning_rate\n",
    "        self.weight = weight\n",
    "        self.bias = bias\n",
    "    \n",
    "    def activation(self,value):\n",
    "        return 1 if value>=0 else 0\n",
    "\n",
    "    def hidden_layer(self,input):\n",
    "        act = np.dot(self.weight,input)+self.bias\n",
    "        return self.activation(act)\n",
    "    def backpropogation(self,)\n",
    "learning_rate=0.01\n",
    "weight=np.array([1,1])\n",
    "bias = -1.5\n",
    "\n",
    "input1 =np.array([1,0])\n",
    "input2 =np.array([0,0])\n",
    "input3 =np.array([0,1])\n",
    "input4 =np.array([1,1])\n",
    "\n",
    "NeuralNetwork = ANN(learning_rate,weight,bias)  \n",
    "\n",
    "output1 = NeuralNetwork.hidden_layer(input4)\n",
    "print(output1)  "
   ]
  },
  {
   "cell_type": "code",
   "execution_count": null,
   "metadata": {},
   "outputs": [],
   "source": []
  }
 ],
 "metadata": {
  "kernelspec": {
   "display_name": "Python 3 (ipykernel)",
   "language": "python",
   "name": "python3"
  }
 },
 "nbformat": 4,
 "nbformat_minor": 2
}
