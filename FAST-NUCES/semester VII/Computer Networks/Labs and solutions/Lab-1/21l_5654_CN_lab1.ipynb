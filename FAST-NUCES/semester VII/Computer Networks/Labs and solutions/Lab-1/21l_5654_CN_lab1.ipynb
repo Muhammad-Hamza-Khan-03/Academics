{
  "cells": [
    {
      "cell_type": "markdown",
      "metadata": {
        "id": "Ef61t41oZZRy"
      },
      "source": [
        "# Q1 Upper to lower"
      ]
    },
    {
      "cell_type": "code",
      "execution_count": 275,
      "metadata": {
        "id": "8UXlYfkbY1MF"
      },
      "outputs": [],
      "source": [
        "def Upper_to_lower(string):\n",
        "\n",
        "  '''\n",
        "    Upper to lower conversion of string by creating a new string and checking caps\n",
        "  '''\n",
        "\n",
        "  newstring=\"\"\n",
        "  for char in string:\n",
        "    # check for caps and alpha\n",
        "    if char.isupper() and char.isalpha():\n",
        "\n",
        "      char= char.lower()\n",
        "      newstring+=char\n",
        "    elif char.islower() and char.isalpha():\n",
        "      char = char.upper()\n",
        "      newstring+=char\n",
        "    else:\n",
        "      newstring += char\n",
        "  return newstring"
      ]
    },
    {
      "cell_type": "code",
      "execution_count": 276,
      "metadata": {
        "id": "38d9pM_o30vh"
      },
      "outputs": [],
      "source": [
        "def print_screen():\n",
        "  print(\"File content\")\n",
        "\n",
        "\n",
        "  f1 = open(\"text1.txt\", \"r\")\n",
        "  txt1 = f1.read()\n",
        "\n",
        "\n",
        "\n",
        "  f2 = open(\"text2.txt\", \"r\")\n",
        "  txt2 = f2.read()\n",
        "\n",
        "\n",
        "\n",
        "  f3 = open(\"text3.txt\", \"r\")\n",
        "  txt3 = f3.read()\n",
        "\n",
        "\n",
        "  print(\"FILE 1:\",txt1,\"\\n\",\"FILE 2:\",txt2,\"\\n\",\"FILE 3:\",txt3,\"\\n\")\n",
        "  return txt1,txt2,txt3"
      ]
    },
    {
      "cell_type": "code",
      "execution_count": 277,
      "metadata": {
        "colab": {
          "base_uri": "https://localhost:8080/"
        },
        "id": "DFClenJUb14c",
        "outputId": "70f65b65-9f12-40dd-be53-edade8c7e0b8"
      },
      "outputs": [
        {
          "name": "stdout",
          "output_type": "stream",
          "text": [
            "File content\n",
            "FILE 1: \"I like apple\"  \n",
            " FILE 2: johndoe@gmail.com  \n",
            " FILE 3: APPS123    \n",
            "\n"
          ]
        }
      ],
      "source": [
        "txt1,txt2,txt3 = print_screen()"
      ]
    },
    {
      "cell_type": "code",
      "execution_count": 278,
      "metadata": {
        "id": "TFoK7d-beMU6"
      },
      "outputs": [],
      "source": [
        "f1 = open(\"text1.txt\", \"a\")\n",
        "f1.write((\" \\n\"+Upper_to_lower(txt3)))\n",
        "f1.close()\n",
        "\n",
        "f2 = open(\"text2.txt\", \"a\")\n",
        "f2.write((\" \\n\"+Upper_to_lower(txt1)))\n",
        "f2.close()\n",
        "\n",
        "f3 = open(\"text3.txt\", \"a\")\n",
        "f3.write((\" \\n\"+Upper_to_lower(txt2)))\n",
        "f3.close()"
      ]
    },
    {
      "cell_type": "code",
      "execution_count": 279,
      "metadata": {
        "colab": {
          "base_uri": "https://localhost:8080/"
        },
        "id": "PYp8Q3NRf3AK",
        "outputId": "d67dd051-084c-415d-c103-93a37ae14d7a"
      },
      "outputs": [
        {
          "name": "stdout",
          "output_type": "stream",
          "text": [
            "File content\n",
            "FILE 1: \"I like apple\"  \n",
            "apps123    \n",
            " FILE 2: johndoe@gmail.com  \n",
            "\"i LIKE APPLE\"  \n",
            " FILE 3: APPS123    \n",
            "JOHNDOE@GMAIL.COM  \n",
            "\n"
          ]
        }
      ],
      "source": [
        "o1,o2,o3 = print_screen()"
      ]
    },
    {
      "cell_type": "markdown",
      "metadata": {
        "id": "AeK5uyg-jo_S"
      },
      "source": [
        "# Q2 : Encryption"
      ]
    },
    {
      "cell_type": "code",
      "execution_count": 233,
      "metadata": {
        "id": "ojNyrjf7ha30"
      },
      "outputs": [],
      "source": [
        "def encrypt(string):\n",
        "\n",
        "  '''\n",
        "    Encrypt message by string by add index in the position of the letter in the string\n",
        "  '''\n",
        "  encrypted_string = \"\"\n",
        "  for i in range(0,len(string)):\n",
        "    if string[i].islower():\n",
        "      encrypted_string+=chr((ord(string[i])-ord('a')+(i+1))%26 +ord('a'))\n",
        "    elif string[i].isupper():\n",
        "      encrypted_string+=chr((ord(string[i])-ord('A')+(i+1))%26 +ord('A'))\n",
        "    else:\n",
        "      encrypted_string+=string[i]\n",
        "\n",
        "  return encrypted_string\n",
        "\n",
        "def decrypt(string):\n",
        "\n",
        "  '''\n",
        "    Decrypt message by string by subtract index in the position in the string\n",
        "  '''\n",
        "\n",
        "  decrypted_string = \"\"\n",
        "  for i in range(0,len(string)):\n",
        "    if string[i].islower():\n",
        "      decrypted_string+=chr((ord(string[i])-ord('a')-(i+1))%26 +ord('a'))\n",
        "    elif string[i].isupper():\n",
        "      decrypted_string+=chr((ord(string[i])-ord('A')-(i+1))%26 +ord('A'))\n",
        "    else:\n",
        "      decrypted_string+=string[i]\n",
        "\n",
        "  return decrypted_string\n"
      ]
    },
    {
      "cell_type": "code",
      "execution_count": 234,
      "metadata": {
        "colab": {
          "base_uri": "https://localhost:8080/"
        },
        "id": "RDuQtYiuk76q",
        "outputId": "ee92ddce-3d14-489c-9e16-bd9d0259fb15"
      },
      "outputs": [
        {
          "name": "stdout",
          "output_type": "stream",
          "text": [
            "J ompk iyzwq\n",
            "I like apple\n"
          ]
        }
      ],
      "source": [
        "string = encrypt(\"I like apple\")\n",
        "print(string)\n",
        "print(decrypt(string))"
      ]
    },
    {
      "cell_type": "markdown",
      "metadata": {
        "id": "SsjXC5MJ1bU5"
      },
      "source": [
        "# Q3 : IP"
      ]
    },
    {
      "cell_type": "code",
      "execution_count": 257,
      "metadata": {
        "id": "oMIV2shZtd0p"
      },
      "outputs": [],
      "source": [
        "def check_ip(IP_ADDRESS):\n",
        "\n",
        "  '''\n",
        "    IP ADDRESS splits IPV4 and IPV6 parameters and evaluates it by type checking,length and ranges.\n",
        "  '''\n",
        "\n",
        "  if '.' in IP_ADDRESS:\n",
        "    IP = IP_ADDRESS.split('.')\n",
        "\n",
        "    if(len(IP)!=4):\n",
        "      return IP_ADDRESS+\" Invalid\"\n",
        "\n",
        "    for ip in IP:\n",
        "      if not (0 <= int(ip) <= 255) and ip.isdigit():\n",
        "        return IP_ADDRESS+\" Neither\"\n",
        "    return IP_ADDRESS+ \" Valid IPV4\"\n",
        "  elif ':' in IP_ADDRESS:\n",
        "    IP = IP_ADDRESS.split(':')\n",
        "\n",
        "    if(len(IP)!=6):\n",
        "      return IP_ADDRESS+\" Invalid\"\n",
        "\n",
        "\n",
        "    for ip in IP:\n",
        "      if not (0 <= int(ip, 16) <= 0xffff) and (not ip.islower()) and (not ip.isupper()):\n",
        "        return IP_ADDRESS+ \" Neither\"\n",
        "    return IP_ADDRESS+\" Valid IPV6\""
      ]
    },
    {
      "cell_type": "code",
      "execution_count": 260,
      "metadata": {
        "colab": {
          "base_uri": "https://localhost:8080/"
        },
        "id": "9puV0L3Hul34",
        "outputId": "0e0a3977-b963-46b3-b7e1-64948e92acdd"
      },
      "outputs": [
        {
          "name": "stdout",
          "output_type": "stream",
          "text": [
            "198.16.23.4 Valid IPV4\n",
            "198.256.23.4 Neither\n",
            "190.01.23.2 Valid IPV4\n",
            "23ed:0045:45:23FA:4EEB:ADAB Invalid\n"
          ]
        }
      ],
      "source": [
        "\n",
        "print(check_ip(\"198.16.23.4\"))\n",
        "\n",
        "print(check_ip(\"198.256.23.4\"))\n",
        "\n",
        "print(check_ip(\"190.01.23.2\"))\n",
        "\n",
        "print(check_ip(\"23ed:0045:45:23FA:4EEB:ADAB\"))\n"
      ]
    },
    {
      "cell_type": "code",
      "execution_count": 255,
      "metadata": {
        "colab": {
          "base_uri": "https://localhost:8080/",
          "height": 35
        },
        "id": "_dLgcW6wxkM4",
        "outputId": "21e851d2-c5ec-4be8-e8cd-ef945001bc5b"
      },
      "outputs": [
        {
          "data": {
            "application/vnd.google.colaboratory.intrinsic+json": {
              "type": "string"
            },
            "text/plain": [
              "'23ej:2345:45edf:23fa:4aab:edab Invalid'"
            ]
          },
          "execution_count": 255,
          "metadata": {},
          "output_type": "execute_result"
        }
      ],
      "source": [
        "check_ip(\"23ej:2345:45edf:23fa:4aab:edab\")"
      ]
    },
    {
      "cell_type": "code",
      "execution_count": 4,
      "metadata": {
        "id": "IlDZ1Rt92lEp"
      },
      "outputs": [
        {
          "data": {
            "text/plain": [
              "('computer', 'retupmoc')"
            ]
          },
          "execution_count": 4,
          "metadata": {},
          "output_type": "execute_result"
        }
      ],
      "source": [
        "def inverted_string(string):\n",
        "\n",
        "    return string[::-1]\n",
        "def checkvowel(string):\n",
        "    if 'a' in string or 'e' in string or 'i' in string or 'o' in string or 'u' in string:\n",
        "        return True\n",
        "    return False\n",
        "def invert(string):\n",
        "   \n",
        "    if(checkvowel(string)==False):\n",
        "        return \" \"\n",
        "    return string,inverted_string(string)\n",
        "\n",
        "inp_string = \"computer\"\n",
        "invert(inp_string)"
      ]
    },
    {
      "cell_type": "code",
      "execution_count": null,
      "metadata": {},
      "outputs": [],
      "source": []
    }
  ],
  "metadata": {
    "colab": {
      "provenance": []
    },
    "kernelspec": {
      "display_name": "Python 3",
      "name": "python3"
    },
    "language_info": {
      "codemirror_mode": {
        "name": "ipython",
        "version": 3
      },
      "file_extension": ".py",
      "mimetype": "text/x-python",
      "name": "python",
      "nbconvert_exporter": "python",
      "pygments_lexer": "ipython3",
      "version": "3.12.6"
    }
  },
  "nbformat": 4,
  "nbformat_minor": 0
}
