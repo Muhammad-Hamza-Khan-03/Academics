{
  "nbformat": 4,
  "nbformat_minor": 0,
  "metadata": {
    "colab": {
      "provenance": []
    },
    "kernelspec": {
      "name": "python3",
      "display_name": "Python 3"
    },
    "language_info": {
      "name": "python"
    }
  },
  "cells": [
    {
      "cell_type": "markdown",
      "source": [
        "## LAB STATEMENT 2\n",
        "> Muhammad Hamza Khan\n",
        "> 21L-5654"
      ],
      "metadata": {
        "id": "WfDyORhX93qz"
      }
    },
    {
      "cell_type": "markdown",
      "source": [
        "TASK 1"
      ],
      "metadata": {
        "id": "QXHkv266sNPn"
      }
    },
    {
      "cell_type": "code",
      "source": [
        "import requests\n",
        "\n",
        "# Connect to the API\n",
        "url = 'https://jsonplaceholder.typicode.com/users' # Get data from the website\n",
        "response = requests.get(url)\n",
        "\n",
        "# Display the following information:\n",
        "\n",
        "print(\"Status Code:\", response.status_code)\n",
        "\n",
        "print(\"Content-Type:\", response.headers['Content-Type'])\n",
        "\n",
        "# Turn the data into a list we can use\n",
        "users = response.json()\n",
        "\n",
        "# Count how many users there are\n",
        "print(\"Number of users:\", len(users))\n",
        "\n",
        "# Show the first user's name\n",
        "print(\"First user:\", users[0]['name'])"
      ],
      "metadata": {
        "colab": {
          "base_uri": "https://localhost:8080/"
        },
        "id": "O1BVaDPf9DgW",
        "outputId": "f9401446-c180-4e4f-9965-565f7d8ddaa1"
      },
      "execution_count": null,
      "outputs": [
        {
          "output_type": "stream",
          "name": "stdout",
          "text": [
            "HTTP Status Code: 200\n",
            "Content-Type: application/json; charset=utf-8\n",
            "Total number of users: 10\n",
            "Name of the first user: Leanne Graham\n"
          ]
        }
      ]
    },
    {
      "cell_type": "markdown",
      "source": [
        "Task 2"
      ],
      "metadata": {
        "id": "gLdKC8mJ90dL"
      }
    },
    {
      "cell_type": "code",
      "source": [
        "import requests\n",
        "\n",
        "# API\n",
        "url = 'https://jsonplaceholder.typicode.com/photos'\n",
        "response = requests.get(url)\n",
        "\n",
        "# Check if it worked\n",
        "print(\"Status Code:\", response.status_code)\n",
        "\n",
        "# Turn the data into a list we can use\n",
        "photos = response.json()\n",
        "\n",
        "# Show the title of the first photo\n",
        "print(\"First photo title:\", photos[0]['title'])\n",
        "\n",
        "# Show the web address of the first photo\n",
        "print(\"First photo URL:\", photos[0]['url'])"
      ],
      "metadata": {
        "colab": {
          "base_uri": "https://localhost:8080/"
        },
        "id": "q74-LniR9Ewd",
        "outputId": "9e866922-4b86-4e04-f78f-c951d42a6344"
      },
      "execution_count": null,
      "outputs": [
        {
          "output_type": "stream",
          "name": "stdout",
          "text": [
            "HTTP Status Code: 200\n",
            "Title of the first photo: accusamus beatae ad facilis cum similique qui sunt\n",
            "URL of the first photo: https://via.placeholder.com/600/92c952\n"
          ]
        }
      ]
    },
    {
      "cell_type": "markdown",
      "source": [
        "Task 3"
      ],
      "metadata": {
        "id": "ZluR51Cr92Xv"
      }
    },
    {
      "cell_type": "code",
      "source": [
        "import requests\n",
        "import threading\n",
        "import json\n",
        "\n",
        "# Website where we'll send comments\n",
        "post_url = 'https://jsonplaceholder.typicode.com/comments'\n",
        "\n",
        "# Function to send a comment\n",
        "def post_comment(comment, thread_id):\n",
        "    # Send the comment to the website\n",
        "    response = requests.post(post_url, json=comment)\n",
        "\n",
        "    # Print info about the response\n",
        "    print(f\"\\n[Thread {thread_id}]\")\n",
        "    print(f\"Status Code: {response.status_code}\")\n",
        "    print(\"Response Body:\")\n",
        "    print(json.dumps(response.json(), indent=4))\n",
        "\n",
        "# Our comment details\n",
        "comment_data = {\n",
        "    \"name\": \"Hamza\",\n",
        "    \"email\": \"hamza@hamza.com\",\n",
        "    \"body\": \"Anonymous\",\n",
        "    \"postId\": 1\n",
        "}\n",
        "\n",
        "# Set up multiple threads to send comments\n",
        "num_threads = 5\n",
        "threads = []\n",
        "\n",
        "# Start each thread\n",
        "for i in range(num_threads):\n",
        "    comment_data[\"postId\"] = i+1\n",
        "    thread = threading.Thread(target=post_comment, args=(comment_data, i+1,))\n",
        "    threads.append(thread)\n",
        "    thread.start()\n",
        "\n",
        "# Wait for all threads to finish\n",
        "for thread in threads:\n",
        "    thread.join()"
      ],
      "metadata": {
        "colab": {
          "base_uri": "https://localhost:8080/"
        },
        "id": "2WLQxn0I9oEW",
        "outputId": "f019422c-d657-4bb3-97f8-a4301f452245"
      },
      "execution_count": null,
      "outputs": [
        {
          "output_type": "stream",
          "name": "stdout",
          "text": [
            "\n",
            "[Thread 1]\n",
            "Status Code: 201\n",
            "Response Body:\n",
            "{\n",
            "    \"name\": \"Hamza\",\n",
            "    \"email\": \"hamza@hamza.com\",\n",
            "    \"body\": \"Anonymous\",\n",
            "    \"postId\": 1,\n",
            "    \"id\": 501\n",
            "}\n",
            "\n",
            "[Thread 4]\n",
            "Status Code: 201\n",
            "Response Body:\n",
            "{\n",
            "    \"name\": \"Hamza\",\n",
            "    \"email\": \"hamza@hamza.com\",\n",
            "    \"body\": \"Anonymous\",\n",
            "    \"postId\": 5,\n",
            "    \"id\": 501\n",
            "}\n",
            "\n",
            "[Thread 5]\n",
            "[Thread 3]\n",
            "Status Code: 201\n",
            "Response Body:\n",
            "{\n",
            "    \"name\": \"Hamza\",\n",
            "    \"email\": \"hamza@hamza.com\",\n",
            "    \"body\": \"Anonymous\",\n",
            "    \"postId\": 3,\n",
            "    \"id\": 501\n",
            "}\n",
            "\n",
            "Status Code: 201\n",
            "Response Body:\n",
            "{\n",
            "    \"name\": \"Hamza\",\n",
            "    \"email\": \"hamza@hamza.com\",\n",
            "    \"body\": \"Anonymous\",\n",
            "    \"postId\": 5,\n",
            "    \"id\": 501\n",
            "}\n",
            "\n",
            "[Thread 2]\n",
            "Status Code: 201\n",
            "Response Body:\n",
            "{\n",
            "    \"name\": \"Hamza\",\n",
            "    \"email\": \"hamza@hamza.com\",\n",
            "    \"body\": \"Anonymous\",\n",
            "    \"postId\": 3,\n",
            "    \"id\": 501\n",
            "}\n"
          ]
        }
      ]
    },
    {
      "cell_type": "code",
      "source": [],
      "metadata": {
        "id": "PfzM6xOrFa4Y"
      },
      "execution_count": null,
      "outputs": []
    }
  ]
}