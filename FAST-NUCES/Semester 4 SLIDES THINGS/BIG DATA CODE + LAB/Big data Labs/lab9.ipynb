{
 "cells": [
  {
   "cell_type": "code",
   "execution_count": 6,
   "id": "74e01db4",
   "metadata": {},
   "outputs": [
    {
     "name": "stderr",
     "output_type": "stream",
     "text": [
      "usage: ipykernel_launcher.py [options] [input files]\n",
      "ipykernel_launcher.py: error: unrecognized arguments: -f\n"
     ]
    },
    {
     "ename": "SystemExit",
     "evalue": "2",
     "output_type": "error",
     "traceback": [
      "An exception has occurred, use %tb to see the full traceback.\n",
      "\u001b[1;31mSystemExit\u001b[0m\u001b[1;31m:\u001b[0m 2\n"
     ]
    }
   ],
   "source": [
    "from mrjob.job import MRJob\n",
    "from datetime import datetime\n",
    "\n",
    "\n",
    "class timesStudentAccess(MRJob):\n",
    "    def mapper(self,_,lines):\n",
    "        roll, course, login, logout, accessed = lines.split(' ')\n",
    "        \n",
    "        if int(login_info.split(':')[3].split('-')[2]) == 2020 and int(logout_info.split(':')[1].split('-')[2]) == 2020:\n",
    "            yield((roll_no, course_info.split(':')[1], course_info.split(':')[3]), 1)\n",
    "    \n",
    "    def reducer(self,key,value):\n",
    "        yield (key,sum(value))\n",
    "\n",
    "if '__main__' == __name__:\n",
    "    timesStudentAccess.run()"
   ]
  },
  {
   "cell_type": "code",
   "execution_count": 12,
   "id": "07f30a6a",
   "metadata": {},
   "outputs": [
    {
     "name": "stderr",
     "output_type": "stream",
     "text": [
      "usage: ipykernel_launcher.py [options] [input files]\n",
      "ipykernel_launcher.py: error: unrecognized arguments: -f\n"
     ]
    },
    {
     "ename": "SystemExit",
     "evalue": "2",
     "output_type": "error",
     "traceback": [
      "An exception has occurred, use %tb to see the full traceback.\n",
      "\u001b[1;31mSystemExit\u001b[0m\u001b[1;31m:\u001b[0m 2\n"
     ]
    },
    {
     "name": "stderr",
     "output_type": "stream",
     "text": [
      "C:\\ProgramData\\Anaconda3\\lib\\site-packages\\IPython\\core\\interactiveshell.py:3377: UserWarning: To exit: use 'exit', 'quit', or Ctrl-D.\n",
      "  warn(\"To exit: use 'exit', 'quit', or Ctrl-D.\", stacklevel=1)\n"
     ]
    }
   ],
   "source": [
    "from mrjob.job import MRJob\n",
    "\n",
    "class DistinctStudents(MRJob):\n",
    "    def mapper(self,_,lines):\n",
    "        roll, course, login, logout, accessed = lines.split(' ')\n",
    "        \n",
    "        courses=course_info.split(':')[1]\n",
    "        yield(courses,roll)\n",
    "    \n",
    "    def reducer(key, values):\n",
    "        \n",
    "        dist_st = len(set(values))\n",
    "        yield((key,dist_st))\n",
    "        \n",
    "if '__main__' == __name__:\n",
    "    DistinctStudents.run()        "
   ]
  },
  {
   "cell_type": "code",
   "execution_count": null,
   "id": "89849560",
   "metadata": {},
   "outputs": [],
   "source": [
    "from mrjob.job import MRJob\n",
    "\n",
    "class percentage(MRJob):\n",
    "    def mapper(self,_,line):\n",
    "        data = line.split()\n",
    "        student_id,course,semester = data[0],data[1].split(':')[1],data[2].split(':')[1]\n",
    "        \n",
    "        login_time = datetime.strptime(data[3].split(':')[1], '%m-%d-%y-%H:%M')\n",
    "        logout_time = datetime.strptime(data[4].split(':')[1], '%m-%d-%y-%H:%M')\n",
    "        sp_time = (logout_time - login_time).total_seconds() / 3600\n",
    "        \n",
    "        if semester == 'Spring2020':\n",
    "            yield (course, student_id), sp_time\n",
    "\n",
    "    def reducer(self, key, values):\n",
    "        course, student_id = key\n",
    "        yield (student_id, course), sum(values)\n",
    "\n",
    "if '__main__'==__name__:\n",
    "    percentage.run()"
   ]
  },
  {
   "cell_type": "code",
   "execution_count": null,
   "id": "b84d5b1c",
   "metadata": {},
   "outputs": [],
   "source": [
    "    def mapper(self, _, line):\n",
    "        data = line.split()\n",
    "        student_id = data[0]\n",
    "        course = data[1].split(':')[1]\n",
    "        semester = data[2].split(':')[1]\n",
    "        login_time = datetime.strptime(data[3].split(':')[1], '%m-%d-%y-%H:%M')\n",
    "        logout_time = datetime.strptime(data[4].split(':')[1], '%m-%d-%y-%H:%M')\n",
    "        time_spent = (logout_time - login_time).total_seconds() / 3600\n",
    "        if semester == 'Spring2020':\n",
    "            yield (course, student_id), time_spent\n",
    "\n",
    "    def reducer(self, key, values):\n",
    "        course, student_id = key\n",
    "        total_time_spent = sum(values)\n",
    "        yield (student_id, course), total_time_spent\n"
   ]
  }
 ],
 "metadata": {
  "kernelspec": {
   "display_name": "Python 3 (ipykernel)",
   "language": "python",
   "name": "python3"
  },
  "language_info": {
   "codemirror_mode": {
    "name": "ipython",
    "version": 3
   },
   "file_extension": ".py",
   "mimetype": "text/x-python",
   "name": "python",
   "nbconvert_exporter": "python",
   "pygments_lexer": "ipython3",
   "version": "3.9.12"
  }
 },
 "nbformat": 4,
 "nbformat_minor": 5
}
