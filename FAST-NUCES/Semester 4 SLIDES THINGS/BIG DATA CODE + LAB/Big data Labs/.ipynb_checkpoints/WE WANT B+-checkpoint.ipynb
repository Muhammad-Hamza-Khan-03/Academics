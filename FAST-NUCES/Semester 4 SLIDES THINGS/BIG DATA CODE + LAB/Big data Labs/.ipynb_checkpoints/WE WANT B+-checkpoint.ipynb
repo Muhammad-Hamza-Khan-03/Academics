{
 "cells": [
  {
   "cell_type": "code",
   "execution_count": 39,
   "id": "6e236986",
   "metadata": {},
   "outputs": [],
   "source": [
    "import pandas as pd\n",
    "import matplotlib.pyplot as plt"
   ]
  },
  {
   "cell_type": "code",
   "execution_count": 5,
   "id": "f5660467",
   "metadata": {},
   "outputs": [],
   "source": [
    "dataset = pd.read_csv(\"Mall_Customers.csv\")"
   ]
  },
  {
   "cell_type": "code",
   "execution_count": 9,
   "id": "0f2a6ce0",
   "metadata": {},
   "outputs": [
    {
     "data": {
      "text/html": [
       "<div>\n",
       "<style scoped>\n",
       "    .dataframe tbody tr th:only-of-type {\n",
       "        vertical-align: middle;\n",
       "    }\n",
       "\n",
       "    .dataframe tbody tr th {\n",
       "        vertical-align: top;\n",
       "    }\n",
       "\n",
       "    .dataframe thead th {\n",
       "        text-align: right;\n",
       "    }\n",
       "</style>\n",
       "<table border=\"1\" class=\"dataframe\">\n",
       "  <thead>\n",
       "    <tr style=\"text-align: right;\">\n",
       "      <th></th>\n",
       "      <th>CustomerID</th>\n",
       "      <th>Genre</th>\n",
       "      <th>Age</th>\n",
       "      <th>Annual Income (k$)</th>\n",
       "      <th>Spending Score (1-100)</th>\n",
       "    </tr>\n",
       "  </thead>\n",
       "  <tbody>\n",
       "    <tr>\n",
       "      <th>0</th>\n",
       "      <td>1</td>\n",
       "      <td>Male</td>\n",
       "      <td>19</td>\n",
       "      <td>15</td>\n",
       "      <td>39</td>\n",
       "    </tr>\n",
       "    <tr>\n",
       "      <th>1</th>\n",
       "      <td>2</td>\n",
       "      <td>Male</td>\n",
       "      <td>21</td>\n",
       "      <td>15</td>\n",
       "      <td>81</td>\n",
       "    </tr>\n",
       "    <tr>\n",
       "      <th>2</th>\n",
       "      <td>3</td>\n",
       "      <td>Female</td>\n",
       "      <td>20</td>\n",
       "      <td>16</td>\n",
       "      <td>6</td>\n",
       "    </tr>\n",
       "    <tr>\n",
       "      <th>3</th>\n",
       "      <td>4</td>\n",
       "      <td>Female</td>\n",
       "      <td>23</td>\n",
       "      <td>16</td>\n",
       "      <td>77</td>\n",
       "    </tr>\n",
       "    <tr>\n",
       "      <th>4</th>\n",
       "      <td>5</td>\n",
       "      <td>Female</td>\n",
       "      <td>31</td>\n",
       "      <td>17</td>\n",
       "      <td>40</td>\n",
       "    </tr>\n",
       "  </tbody>\n",
       "</table>\n",
       "</div>"
      ],
      "text/plain": [
       "   CustomerID   Genre  Age  Annual Income (k$)  Spending Score (1-100)\n",
       "0           1    Male   19                  15                      39\n",
       "1           2    Male   21                  15                      81\n",
       "2           3  Female   20                  16                       6\n",
       "3           4  Female   23                  16                      77\n",
       "4           5  Female   31                  17                      40"
      ]
     },
     "execution_count": 9,
     "metadata": {},
     "output_type": "execute_result"
    }
   ],
   "source": [
    "dataset.head(5)"
   ]
  },
  {
   "cell_type": "code",
   "execution_count": 69,
   "id": "a6fa6f5c",
   "metadata": {},
   "outputs": [],
   "source": [
    "temp = dataset.iloc[:,[3,4]].values"
   ]
  },
  {
   "cell_type": "code",
   "execution_count": 70,
   "id": "9b02dc87",
   "metadata": {},
   "outputs": [],
   "source": [
    "from sklearn.model_selection import train_test_split\n"
   ]
  },
  {
   "cell_type": "code",
   "execution_count": 72,
   "id": "09d5b839",
   "metadata": {},
   "outputs": [],
   "source": [
    "x = dataset.iloc[:,[3,4]].values"
   ]
  },
  {
   "cell_type": "code",
   "execution_count": 73,
   "id": "dc8f5224",
   "metadata": {},
   "outputs": [],
   "source": [
    "X_train, X_test = train_test_split(x, test_size=0.33, random_state=42)"
   ]
  },
  {
   "cell_type": "code",
   "execution_count": 74,
   "id": "2cf6fd6c",
   "metadata": {},
   "outputs": [],
   "source": [
    "from sklearn.cluster import KMeans"
   ]
  },
  {
   "cell_type": "code",
   "execution_count": 79,
   "id": "1034a830",
   "metadata": {},
   "outputs": [],
   "source": [
    "kmeans = KMeans(n_clusters=5, random_state=0).fit(X_train)"
   ]
  },
  {
   "cell_type": "code",
   "execution_count": 80,
   "id": "af961714",
   "metadata": {},
   "outputs": [],
   "source": [
    "train_labels = kmeans.predict(X_train)\n",
    "test_labels = kmeans.predict(X_test)"
   ]
  },
  {
   "cell_type": "code",
   "execution_count": 84,
   "id": "8d08590f",
   "metadata": {},
   "outputs": [
    {
     "name": "stdout",
     "output_type": "stream",
     "text": [
      "Cluster Centers:\n",
      "[[85.86206897 83.65517241]\n",
      " [54.28301887 48.98113208]\n",
      " [25.42857143 79.64285714]\n",
      " [91.5        17.86363636]\n",
      " [25.4375     20.125     ]]\n",
      "Inertia: 31900.15711529037\n",
      "Train Score: -31900.15711529037\n",
      "Test Score: -13165.802401476256\n"
     ]
    }
   ],
   "source": [
    "print(\"Cluster Centers:\")\n",
    "print(kmeans.cluster_centers_)\n",
    "\n",
    "# Print the inertia (sum of squared distances of samples to their closest cluster center)\n",
    "print(\"Inertia:\", kmeans.inertia_)\n",
    "\n",
    "# Evaluate the model\n",
    "train_score = kmeans.score(X_train)\n",
    "test_score = kmeans.score(X_test)\n",
    "print(\"Train Score:\", train_score)\n",
    "print(\"Test Score:\", test_score)"
   ]
  },
  {
   "cell_type": "code",
   "execution_count": 83,
   "id": "2b72110a",
   "metadata": {},
   "outputs": [
    {
     "data": {
      "image/png": "[encoded data removed]",
      "text/plain": [
       "<Figure size 432x288 with 1 Axes>"
      ]
     },
     "metadata": {
      "needs_background": "light"
     },
     "output_type": "display_data"
    }
   ],
   "source": [
    "plt.scatter(x[:, 0], x[:, 1], c=kmeans.predict(x), cmap='viridis')\n",
    "plt.scatter(kmeans.cluster_centers_[:, 0], kmeans.cluster_centers_[:, 1], marker='X', color='red', s=100)\n",
    "plt.xlabel('Annual Income')\n",
    "plt.ylabel('Spending Score')\n",
    "plt.title('K-means Clustering')\n",
    "plt.show()"
   ]
  },
  {
   "cell_type": "code",
   "execution_count": 86,
   "id": "c1a20d5e",
   "metadata": {},
   "outputs": [],
   "source": [
    "from sklearn.cluster import AgglomerativeClustering as agg"
   ]
  },
  {
   "cell_type": "code",
   "execution_count": 88,
   "id": "8a4fc9b3",
   "metadata": {},
   "outputs": [],
   "source": [
    "X = agg(n_clusters=5,affinity='euclidean',linkage = 'ward')"
   ]
  },
  {
   "cell_type": "code",
   "execution_count": 91,
   "id": "c2a318cc",
   "metadata": {},
   "outputs": [],
   "source": [
    "y = X.fit_predict(x)"
   ]
  },
  {
   "cell_type": "code",
   "execution_count": 112,
   "id": "6a5809a6",
   "metadata": {},
   "outputs": [
    {
     "data": {
      "text/plain": [
       "<matplotlib.collections.PathCollection at 0x1fba33c6490>"
      ]
     },
     "execution_count": 112,
     "metadata": {},
     "output_type": "execute_result"
    },
    {
     "data": {
      "image/png": "[encoded data removed]",
      "text/plain": [
       "<Figure size 432x288 with 1 Axes>"
      ]
     },
     "metadata": {
      "needs_background": "light"
     },
     "output_type": "display_data"
    }
   ],
   "source": [
    "plt.scatter(x [y==0,0],x[y==0,1],c='pink',label =  '1',s = 100)\n",
    "plt.scatter(x[y==1,0],x[y==1,1],c= 'r',label = '1')\n",
    "plt.scatter(x[y==2,0],x[y==2,1],c= 'b',label = '1')\n",
    "plt.scatter(x[y==3,0],x[y==3,1],c= 'black',label = '1')\n",
    "plt.scatter(x[y==4,0],x[y==4,1],c= 'y',label = '1')"
   ]
  },
  {
   "cell_type": "code",
   "execution_count": 120,
   "id": "357e183d",
   "metadata": {},
   "outputs": [],
   "source": [
    "from sklearn.cluster import DBSCAN "
   ]
  },
  {
   "cell_type": "code",
   "execution_count": 130,
   "id": "59335131",
   "metadata": {},
   "outputs": [],
   "source": [
    "X = DBSCAN(eps=0.5,min_samples=5).fit(x)"
   ]
  },
  {
   "cell_type": "code",
   "execution_count": 131,
   "id": "9b8b27fd",
   "metadata": {},
   "outputs": [],
   "source": [
    "labels = X.fit_predict(x)"
   ]
  },
  {
   "cell_type": "code",
   "execution_count": 132,
   "id": "5eb4c190",
   "metadata": {},
   "outputs": [
    {
     "data": {
      "text/plain": [
       "<matplotlib.collections.PathCollection at 0x1fba369f460>"
      ]
     },
     "execution_count": 132,
     "metadata": {},
     "output_type": "execute_result"
    },
    {
     "data": {
      "image/png": "[encoded data removed]",
      "text/plain": [
       "<Figure size 432x288 with 1 Axes>"
      ]
     },
     "metadata": {
      "needs_background": "light"
     },
     "output_type": "display_data"
    }
   ],
   "source": [
    "plt.scatter(x[:,0],x[:,1],c=labels,cmap='rainbow')"
   ]
  },
  {
   "cell_type": "code",
   "execution_count": 2,
   "id": "e9d6f7da",
   "metadata": {},
   "outputs": [
    {
     "name": "stdout",
     "output_type": "stream",
     "text": [
      "Defaulting to user installation because normal site-packages is not writeable\n",
      "Collecting pyspark\n",
      "  Downloading pyspark-3.4.0.tar.gz (310.8 MB)\n",
      "Collecting py4j==0.10.9.7\n",
      "  Downloading py4j-0.10.9.7-py2.py3-none-any.whl (200 kB)\n",
      "Building wheels for collected packages: pyspark\n",
      "  Building wheel for pyspark (setup.py): started\n",
      "  Building wheel for pyspark (setup.py): finished with status 'done'\n",
      "  Created wheel for pyspark: filename=pyspark-3.4.0-py2.py3-none-any.whl size=311317161 sha256=0dae2bf18ace7f7a61a97f52c3772abb9e0cc294458d6f481fdd02e8ecdbb0c9\n",
      "  Stored in directory: c:\\users\\hamza\\appdata\\local\\pip\\cache\\wheels\\9f\\34\\a4\\159aa12d0a510d5ff7c8f0220abbea42e5d81ecf588c4fd884\n",
      "Successfully built pyspark\n",
      "Installing collected packages: py4j, pyspark\n",
      "Successfully installed py4j-0.10.9.7 pyspark-3.4.0\n"
     ]
    }
   ],
   "source": [
    "!pip install pyspark\n"
   ]
  },
  {
   "cell_type": "code",
   "execution_count": 3,
   "id": "e56af710",
   "metadata": {},
   "outputs": [
    {
     "name": "stdout",
     "output_type": "stream",
     "text": [
      "Defaulting to user installation because normal site-packages is not writeable\n",
      "Requirement already satisfied: mrjob in c:\\users\\hamza\\appdata\\roaming\\python\\python39\\site-packages (0.7.4)\n",
      "Requirement already satisfied: PyYAML>=3.10 in c:\\programdata\\anaconda3\\lib\\site-packages (from mrjob) (6.0)\n"
     ]
    }
   ],
   "source": [
    "!pip install mrjob"
   ]
  },
  {
   "cell_type": "code",
   "execution_count": 32,
   "id": "88ed1549",
   "metadata": {},
   "outputs": [
    {
     "name": "stdout",
     "output_type": "stream",
     "text": [
      "Overwriting T1.py\n"
     ]
    }
   ],
   "source": [
    "%%file T1.py\n",
    "from mrjob.job import MRJob\n",
    "\n",
    "class Temp(MRJob):\n",
    "    def mapper(self,_,lines):\n",
    "        cust,price=lines.split(\",\")\n",
    "        yield cust,int(price)\n",
    "    def reducer(self,key,value):\n",
    "        maxi=0\n",
    "        \n",
    "        if value>maxi:\n",
    "            maxi=v\n",
    "            \n",
    "        yield key,maxi\n",
    "        \n",
    "if __name__ == \"__main__\":\n",
    "    Temp.run()"
   ]
  },
  {
   "cell_type": "code",
   "execution_count": 28,
   "id": "902414f9",
   "metadata": {},
   "outputs": [
    {
     "name": "stderr",
     "output_type": "stream",
     "text": [
      "UsageError: %%file is a cell magic, but the cell body is empty.\n"
     ]
    }
   ],
   "source": [
    "%%file T1.py\n"
   ]
  },
  {
   "cell_type": "code",
   "execution_count": 33,
   "id": "589b2de1",
   "metadata": {},
   "outputs": [
    {
     "name": "stderr",
     "output_type": "stream",
     "text": [
      "No configs found; falling back on auto-configuration\n",
      "No configs specified for inline runner\n",
      "Creating temp directory C:\\Users\\Hamza\\AppData\\Local\\Temp\\T1.Hamza.20230606.042355.853938\n",
      "Running step 1 of 1...\n",
      "\n",
      "Error while reading from C:\\Users\\Hamza\\AppData\\Local\\Temp\\T1.Hamza.20230606.042355.853938\\step\\000\\reducer\\00000\\input:\n",
      "\n",
      "Traceback (most recent call last):\n",
      "  File \"C:\\Users\\Hamza\\Big data Labs\\T1.py\", line 16, in <module>\n",
      "    Temp.run()\n",
      "  File \"C:\\Users\\Hamza\\AppData\\Roaming\\Python\\Python39\\site-packages\\mrjob\\job.py\", line 616, in run\n",
      "    cls().execute()\n",
      "  File \"C:\\Users\\Hamza\\AppData\\Roaming\\Python\\Python39\\site-packages\\mrjob\\job.py\", line 687, in execute\n",
      "    self.run_job()\n",
      "  File \"C:\\Users\\Hamza\\AppData\\Roaming\\Python\\Python39\\site-packages\\mrjob\\job.py\", line 636, in run_job\n",
      "    runner.run()\n",
      "  File \"C:\\Users\\Hamza\\AppData\\Roaming\\Python\\Python39\\site-packages\\mrjob\\runner.py\", line 503, in run\n",
      "    self._run()\n",
      "  File \"C:\\Users\\Hamza\\AppData\\Roaming\\Python\\Python39\\site-packages\\mrjob\\sim.py\", line 161, in _run\n",
      "    self._run_step(step, step_num)\n",
      "  File \"C:\\Users\\Hamza\\AppData\\Roaming\\Python\\Python39\\site-packages\\mrjob\\sim.py\", line 170, in _run_step\n",
      "    self._run_streaming_step(step, step_num)\n",
      "  File \"C:\\Users\\Hamza\\AppData\\Roaming\\Python\\Python39\\site-packages\\mrjob\\sim.py\", line 187, in _run_streaming_step\n",
      "    self._run_reducers(step_num, num_reducer_tasks)\n",
      "  File \"C:\\Users\\Hamza\\AppData\\Roaming\\Python\\Python39\\site-packages\\mrjob\\sim.py\", line 289, in _run_reducers\n",
      "    self._run_multiple(\n",
      "  File \"C:\\Users\\Hamza\\AppData\\Roaming\\Python\\Python39\\site-packages\\mrjob\\sim.py\", line 130, in _run_multiple\n",
      "    func()\n",
      "  File \"C:\\Users\\Hamza\\AppData\\Roaming\\Python\\Python39\\site-packages\\mrjob\\sim.py\", line 746, in _run_task\n",
      "    invoke_task(\n",
      "  File \"C:\\Users\\Hamza\\AppData\\Roaming\\Python\\Python39\\site-packages\\mrjob\\inline.py\", line 133, in invoke_task\n",
      "    task.execute()\n",
      "  File \"C:\\Users\\Hamza\\AppData\\Roaming\\Python\\Python39\\site-packages\\mrjob\\job.py\", line 681, in execute\n",
      "    self.run_reducer(self.options.step_num)\n",
      "  File \"C:\\Users\\Hamza\\AppData\\Roaming\\Python\\Python39\\site-packages\\mrjob\\job.py\", line 795, in run_reducer\n",
      "    for k, v in self.reduce_pairs(read_lines(), step_num=step_num):\n",
      "  File \"C:\\Users\\Hamza\\AppData\\Roaming\\Python\\Python39\\site-packages\\mrjob\\job.py\", line 866, in reduce_pairs\n",
      "    for k, v in self._combine_or_reduce_pairs(pairs, 'reducer', step_num):\n",
      "  File \"C:\\Users\\Hamza\\AppData\\Roaming\\Python\\Python39\\site-packages\\mrjob\\job.py\", line 889, in _combine_or_reduce_pairs\n",
      "    for k, v in task(key, values) or ():\n",
      "  File \"C:\\Users\\Hamza\\Big data Labs\\T1.py\", line 10, in reducer\n",
      "    if value>=maxi:\n",
      "TypeError: '>=' not supported between instances of 'generator' and 'int'\n"
     ]
    }
   ],
   "source": [
    "!python T1.py Fp.txt"
   ]
  },
  {
   "cell_type": "code",
   "execution_count": null,
   "id": "361444f5",
   "metadata": {},
   "outputs": [],
   "source": []
  }
 ],
 "metadata": {
  "kernelspec": {
   "display_name": "Python 3 (ipykernel)",
   "language": "python",
   "name": "python3"
  },
  "language_info": {
   "codemirror_mode": {
    "name": "ipython",
    "version": 3
   },
   "file_extension": ".py",
   "mimetype": "text/x-python",
   "name": "python",
   "nbconvert_exporter": "python",
   "pygments_lexer": "ipython3",
   "version": "3.9.12"
  }
 },
 "nbformat": 4,
 "nbformat_minor": 5
}
