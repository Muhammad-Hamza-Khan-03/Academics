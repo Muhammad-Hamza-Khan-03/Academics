{
 "cells": [
  {
   "cell_type": "code",
   "execution_count": 15,
   "metadata": {},
   "outputs": [
    {
     "name": "stdout",
     "output_type": "stream",
     "text": [
      "[0 0] 0\n",
      "[1 0] 0\n",
      "[0 1] 0\n",
      "[1 1] 1\n",
      "For OR GATE:\n",
      "[0 0] 0\n",
      "[1 0] 1\n",
      "[0 1] 1\n",
      "[1 1] 1\n"
     ]
    }
   ],
   "source": [
    "import numpy as np\n",
    "\n",
    "#only forward pass\n",
    "class ANN:\n",
    "    def __init__(self,learning_rate,weight,bias):\n",
    "        self.learning_rate = learning_rate\n",
    "        self.weight = weight\n",
    "        self.bias = bias\n",
    "    \n",
    "    def activation(self,value):\n",
    "        return 1 if value>=0 else 0\n",
    "\n",
    "    def hidden_layer(self,input):\n",
    "        act = np.dot(self.weight,input)+self.bias\n",
    "        return self.activation(act)\n",
    "\n",
    "learning_rate=0.01\n",
    "weight=np.array([1,1])\n",
    "bias = -1.5\n",
    "\n",
    "input2 =np.array([1,0])\n",
    "input1 =np.array([0,0])\n",
    "input3 =np.array([0,1])\n",
    "input4 =np.array([1,1])\n",
    "\n",
    "NeuralNetwork = ANN(learning_rate,weight,bias)  \n",
    "\n",
    "output1 = NeuralNetwork.hidden_layer(input1)\n",
    "print(input1,output1)  \n",
    "output2 = NeuralNetwork.hidden_layer(input2)\n",
    "print(input2,output2)\n",
    "output3 = NeuralNetwork.hidden_layer(input3)\n",
    "print(input3,output3)\n",
    "output4 = NeuralNetwork.hidden_layer(input4)\n",
    "print(input4,output4)\n",
    "\n",
    "print(\"For OR GATE:\")\n",
    "bias = -0.5\n",
    "\n",
    "NeuralNetwork = ANN(learning_rate, weight, bias) \n",
    "output1 = NeuralNetwork.hidden_layer(input1)\n",
    "print(input1, output1)  \n",
    "output2 = NeuralNetwork.hidden_layer(input2)\n",
    "print(input2, output2)\n",
    "output3 = NeuralNetwork.hidden_layer(input3)\n",
    "print(input3, output3)\n",
    "output4 = NeuralNetwork.hidden_layer(input4)\n",
    "print(input4, output4)\n"
   ]
  },
  {
   "cell_type": "code",
   "execution_count": null,
   "metadata": {},
   "outputs": [],
   "source": []
  }
 ],
 "metadata": {
  "kernelspec": {
   "display_name": "Python 3 (ipykernel)",
   "language": "python",
   "name": "python3"
  },
  "language_info": {
   "codemirror_mode": {
    "name": "ipython",
    "version": 3
   },
   "file_extension": ".py",
   "mimetype": "text/x-python",
   "name": "python",
   "nbconvert_exporter": "python",
   "pygments_lexer": "ipython3",
   "version": "3.9.12"
  }
 },
 "nbformat": 4,
 "nbformat_minor": 2
}
