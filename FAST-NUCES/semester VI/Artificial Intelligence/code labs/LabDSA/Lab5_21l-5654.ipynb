{
 "cells": [
  {
   "cell_type": "code",
   "execution_count": 8,
   "metadata": {},
   "outputs": [
    {
     "name": "stdout",
     "output_type": "stream",
     "text": [
      "Square:  [1, 4, 9, 16, 25, 36]\n",
      "Cube:  [1, 8, 27, 64, 125, 216]\n"
     ]
    }
   ],
   "source": [
    "list_of_nums = [1,2,3,4,5,6]\n",
    "square = lambda i:i*i\n",
    "cube = lambda c:c*c*c\n",
    "square_list = []\n",
    "for i in list_of_nums:\n",
    "    square_list.append(square(i)) \n",
    "\n",
    "cube_list = []\n",
    "\n",
    "for i in list_of_nums:\n",
    "    cube_list.append(cube(i))\n",
    "print(\"Square: \",square_list)\n",
    "print(\"Cube: \",cube_list)\n"
   ]
  },
  {
   "cell_type": "code",
   "execution_count": 9,
   "metadata": {},
   "outputs": [
    {
     "name": "stdout",
     "output_type": "stream",
     "text": [
      "20\n"
     ]
    }
   ],
   "source": [
    "class RectangleShape:\n",
    "    def __init__(self,length,width):\n",
    "        self.length = length\n",
    "        self.width = width\n",
    "    def get_area(self):\n",
    "        return self.length*self.width\n",
    "\n",
    "length = 5\n",
    "width  = 4\n",
    "rectangle = RectangleShape(length,width)\n",
    "print(rectangle.get_area())"
   ]
  },
  {
   "cell_type": "markdown",
   "metadata": {},
   "source": [
    "Queue in LIFO order"
   ]
  },
  {
   "cell_type": "code",
   "execution_count": 12,
   "metadata": {},
   "outputs": [
    {
     "name": "stdout",
     "output_type": "stream",
     "text": [
      "c\n",
      "b\n",
      "a\n"
     ]
    }
   ],
   "source": [
    "from queue import LifoQueue\n",
    "myStack = LifoQueue()\n",
    "myStack.put('a')\n",
    "myStack.put('b')\n",
    "myStack.put('c')\n",
    "myStack # <queue.LifoQueue object at 0x7f408885e2b0>\n",
    "print(myStack.get())\n",
    "print(myStack.get())\n",
    "print(myStack.get())\n",
    "# ‘c’\n",
    "# ‘b’\n",
    "# ‘a’"
   ]
  },
  {
   "cell_type": "code",
   "execution_count": 14,
   "metadata": {},
   "outputs": [],
   "source": [
    "class MyLifoQueue:\n",
    "    def __init__(self):\n",
    "        self.top=0\n",
    "        self.list=[]\n",
    "        self.index=0\n",
    "    def put(self,element):\n",
    "        self.list[self.index] = element\n",
    "        self.top+=1\n",
    "        self.index+=1\n",
    "    def get(self):\n",
    "        if len(self.list)<=0:\n",
    "            return \"Waiting for an element Stack Error\" \n",
    "        get_ele_out = self.list[self.index]\n",
    "        self.top-=1\n",
    "        self.index-=1\n",
    "        return get_ele_out\n",
    "    "
   ]
  },
  {
   "cell_type": "code",
   "execution_count": 15,
   "metadata": {},
   "outputs": [
    {
     "name": "stdout",
     "output_type": "stream",
     "text": [
      "c\n",
      "b\n",
      "a\n"
     ]
    }
   ],
   "source": [
    "LQ = MyLifoQueue()\n",
    "myStack.put('a')\n",
    "myStack.put('b')\n",
    "myStack.put('c')\n",
    "\n",
    "print(myStack.get())\n",
    "print(myStack.get())\n",
    "print(myStack.get())"
   ]
  },
  {
   "cell_type": "code",
   "execution_count": null,
   "metadata": {},
   "outputs": [],
   "source": [
    "# LIFO works for threads I just implemented how queue works. Lifo basically works in threads\n",
    "# and it checks if element is present or not and \n",
    "# if there is no element then it waits after calling get method and get_no_wait method prints Stack error"
   ]
  }
 ],
 "metadata": {
  "kernelspec": {
   "display_name": "Python 3",
   "language": "python",
   "name": "python3"
  },
  "language_info": {
   "codemirror_mode": {
    "name": "ipython",
    "version": 3
   },
   "file_extension": ".py",
   "mimetype": "text/x-python",
   "name": "python",
   "nbconvert_exporter": "python",
   "pygments_lexer": "ipython3",
   "version": "3.7.5"
  }
 },
 "nbformat": 4,
 "nbformat_minor": 2
}
