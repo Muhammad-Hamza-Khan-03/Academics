{
  "cells": [
    {
      "cell_type": "markdown",
      "metadata": {
        "id": "U6k7lYnZ3clC"
      },
      "source": [
        "Genetic Algorithm"
      ]
    },
    {
      "cell_type": "code",
      "execution_count": 1,
      "metadata": {
        "id": "tGVaJS0W3ayk"
      },
      "outputs": [],
      "source": [
        "import random"
      ]
    },
    {
      "cell_type": "markdown",
      "metadata": {
        "id": "QxWWUHUx3sM4"
      },
      "source": [
        "Let say we have fucntion that evaluates the expression to 0 if the answer of expression \" 6 * x ** 3 + 9 * y ** 2 + 90 * z \" is 25.\n",
        "So That's mean we need the most suitable values of x, y and z so that we could achive our target value whichis 25 in this case."
      ]
    },
    {
      "cell_type": "code",
      "execution_count": 2,
      "metadata": {
        "id": "a7BY0jfW3k0_"
      },
      "outputs": [],
      "source": [
        "def evaluateExpression(x, y, z):\n",
        "\treturn 6 * x ** 3 + 9 * y ** 2 + 90 * z - 25"
      ]
    },
    {
      "cell_type": "markdown",
      "metadata": {
        "id": "wFSAohyg4s_Y"
      },
      "source": [
        "Let's write the solution based on Genetic Algorithm technique to find the most suitable values of x, y and z."
      ]
    },
    {
      "cell_type": "markdown",
      "metadata": {
        "id": "Kqovna8D5HOH"
      },
      "source": [
        "*Step1* : Population of Solutions:\n",
        "Population is generated entirely from random numbers let say upto 1000 indivuduals."
      ]
    },
    {
      "cell_type": "code",
      "execution_count": 3,
      "metadata": {
        "id": "ujH6YRGj45L1"
      },
      "outputs": [],
      "source": [
        "# generate solutions\n",
        "solutions = []\n",
        "for counter in range(1000):\n",
        "\tsolutions.append((random.uniform(0, 1000), random.uniform(0, 1000), random.uniform(0, 1000)))\n"
      ]
    },
    {
      "cell_type": "markdown",
      "metadata": {
        "id": "WaGcxE1g5XDe"
      },
      "source": [
        "Step2: Fitness fucntion:\n",
        "So the most fittest solution will be the one which evalutes the expression to \"0\". Otherwise the best solution will be closest to zero.\n",
        "So the fittness in this case can be seen if the solution is closest to zero. Hnece we can return highest fitness value to those solution which are closest to zero."
      ]
    },
    {
      "cell_type": "code",
      "execution_count": null,
      "metadata": {
        "id": "13HwHogg5eYF"
      },
      "outputs": [],
      "source": [
        "def fitness(x, y, z):\n",
        "\tans = evaluateExpression(x, y, z)\n",
        "\n",
        "\tif ans == 0:\n",
        "\t\treturn 99999\n",
        "\telse:\n",
        "\t\treturn abs(1 / ans)\n"
      ]
    },
    {
      "cell_type": "markdown",
      "metadata": {
        "id": "301_DByz6mIG"
      },
      "source": [
        "Step3: Mating, Crossover or Generating the Genrations:\n",
        "During each generations further sub steps are performed like :\n",
        "Step 3.1: Selection of top ranked solutions\n",
        "Step 3.2: Mutation or slight changes or variation in values of solution.\n",
        "P.S(Here for the sake of anology if solution can be considered as chromosome then vatiable values can be considered as genes)\n"
      ]
    },
    {
      "cell_type": "code",
      "execution_count": null,
      "metadata": {
        "colab": {
          "base_uri": "https://localhost:8080/"
        },
        "id": "naXvB6VE7_-7",
        "outputId": "d58e7c33-9bcb-4f47-9e02-270c4c14ca7f"
      },
      "outputs": [
        {
          "name": "stdout",
          "output_type": "stream",
          "text": [
            "=== Generation 0 best solutions ====\n",
            "(1.7933942416913668e-05, (2.43447985057188, 39.18068160600497, 465.36094647401984))\n",
            "=== Generation 1 best solutions ====\n",
            "(0.0001850088991167796, (1.3188166496967701, 12.375181807793668, 44.86751721442568))\n",
            "=== Generation 2 best solutions ====\n",
            "(0.0010581622833128806, (0.2434065266544436, 1.3132374498625825, 10.604741872897176))\n",
            "=== Generation 3 best solutions ====\n",
            "(0.007232099530510929, (1.5308941460559375, 0.2454636845249698, 1.5689222398159217))\n",
            "=== Generation 4 best solutions ====\n",
            "(0.05288631600612145, (0.24019028920737234, 1.5594525896043556, 0.24375900004186157))\n",
            "=== Generation 5 best solutions ====\n",
            "(0.509608327535255, (0.23654612666533964, 0.24088982515870522, 0.24928936881677774))\n",
            "=== Generation 6 best solutions ====\n",
            "(0.5625277216386337, (0.23941801003143867, 0.2449352490013093, 0.25111142545874743))\n",
            "=== Generation 7 best solutions ====\n",
            "(0.630310965305211, (0.23714695773693104, 0.24762075445800433, 0.25312906864998513))\n",
            "=== Generation 8 best solutions ====\n",
            "(0.71776250781684, (0.24335483353116197, 0.24863268428091495, 0.2551549606874737))\n",
            "=== Generation 9 best solutions ====\n",
            "(0.8539353772559932, (0.24777169164506543, 0.25327881662988855, 0.25733704819114533))\n",
            "=== Generation 10 best solutions ====\n",
            "(1.061321737204649, (0.24982291031124454, 0.2533140587418889, 0.2598523958179522))\n",
            "=== Generation 11 best solutions ====\n",
            "(1.4055483028699283, (0.2587536214202937, 0.2583525756829082, 0.2620430303650735))\n",
            "=== Generation 12 best solutions ====\n",
            "(1.996083603982361, (0.2578008959832694, 0.25793832621544294, 0.2644158517734506))\n",
            "=== Generation 13 best solutions ====\n",
            "(3.082096171988628, (0.26132475851989867, 0.2577556700082806, 0.26633919365351605))\n",
            "=== Generation 14 best solutions ====\n",
            "(6.637763711735917, (0.2634318480892751, 0.2618560654302092, 0.2680282469606128))\n",
            "=== Generation 15 best solutions ====\n",
            "(763.9478643901582, (0.25345454732186773, 0.2683159870963059, 0.2694784386015065))\n",
            "=== Generation 16 best solutions ====\n",
            "(930.1538021760441, (0.2689710890795373, 0.2715277839135432, 0.26911973391617944))\n",
            "=== Generation 17 best solutions ====\n",
            "(3382.062370811335, (0.2690559227168092, 0.2668004466849974, 0.26935776120991983))\n"
          ]
        }
      ],
      "source": [
        "for generation_count in range(10000):\n",
        "\trankedSolutions = []\n",
        "  # fitness step\n",
        "\tfor solution in solutions:\n",
        "\t\trankedSolutions.append((fitness(solution[0], solution[1], solution[2]), solution))\n",
        "\trankedSolutions.sort()\n",
        "\trankedSolutions.reverse()\n",
        "\tprint(f\"=== Generation {generation_count} best solutions ====\")\n",
        "\tprint(rankedSolutions[0])\n",
        "\n",
        "\tif rankedSolutions[0][0] > 999:\n",
        "\t\tbreak\n",
        "\n",
        "\tbestSolution = rankedSolutions[:100]\n",
        "\t# print(bestSolution)\n",
        "\n",
        "  # selection step\n",
        "\tvariables = []\n",
        "\tfor solution in bestSolution:\n",
        "\t\tvariables.append(solution[1][0])  # variable x\n",
        "\t\tvariables.append(solution[1][1])  # variable y\n",
        "\t\tvariables.append(solution[1][2])  # variable z\n",
        "\n",
        "\tnewGeneration = []\n",
        "  # mutation step\n",
        "\tfor counter in range(1000):\n",
        "\t\tx = random.choice(variables) * random.uniform(0.99, 1.01)\n",
        "\t\ty = random.choice(variables) * random.uniform(0.99, 1.01)\n",
        "\t\tz = random.choice(variables) * random.uniform(0.99, 1.01)\n",
        "\n",
        "\t\tnewGeneration.append((x, y, z))\n",
        "\n",
        "\tsolutions = newGeneration\n"
      ]
    },
    {
      "cell_type": "markdown",
      "metadata": {
        "id": "AI4WqsD-w4G3"
      },
      "source": [
        "# Knapsack problem by genetic Alogrithm"
      ]
    },
    {
      "cell_type": "code",
      "execution_count": 4,
      "metadata": {
        "id": "nlNNprkW6-hx"
      },
      "outputs": [],
      "source": [
        "import numpy as np"
      ]
    },
    {
      "cell_type": "code",
      "execution_count": 37,
      "metadata": {
        "id": "lThZSWLIvx_0"
      },
      "outputs": [],
      "source": [
        "#1 3 266\n",
        "#2 13 442\n",
        "#3 10 671\n",
        "#4 9 526\n",
        "#5 7 388\n",
        "#6 1 245\n",
        "#7 8 210\n",
        "#8 8 145\n",
        "#9 2 126\n",
        "#10 9 322\n",
        "ci = [i for i in range(1,10)]\n",
        "wi = [3,13,10,9,7,1,8,8,2,9]\n",
        "vi = [266,442,671,526,388,245,210,145,126,322]\n",
        "\n",
        "initial_population =[[0,1,0,1 ,1 ,0 ,0 ,1 ,1 ,1],\n",
        "  [1, 1, 1, 1 ,0 ,1 ,1 ,1 ,0 ,0],\n",
        "  [0 ,1 ,0 ,0 ,0 ,0 ,1 ,1 ,0 ,1],\n",
        "  [0, 0, 1 ,0 ,1 ,1 ,0 ,0 ,0 ,0],\n",
        "  [0 ,0 ,1 ,1 ,0 ,0 ,0 ,0 ,0 ,1],\n",
        "  [0 ,1 ,0 ,1 ,1 ,0 ,1 ,0, 0, 0],\n",
        "  [1, 1, 1, 0 ,0 ,0 ,1 ,0 ,1 ,0],\n",
        "  [0, 0 ,0 ,0 ,1 ,1 ,1 ,0 ,0 ,0]]\n",
        "\n",
        "\n",
        "n= 10\n",
        "kw =35\n"
      ]
    },
    {
      "cell_type": "code",
      "execution_count": 45,
      "metadata": {
        "id": "oLFIJm9NyHkZ"
      },
      "outputs": [],
      "source": [
        "\n",
        "def fitness_function(chromosome):\n",
        "  '''\n",
        "  where, n = chromosome length \n",
        "  ci = ith gene \n",
        "  vi = ith value \n",
        "  wi = ith weight \n",
        "  kw = allowed weight\n",
        "  '''\n",
        "  fitness =0\n",
        "  total_value =0\n",
        "  total_weight=0\n",
        "\n",
        "  total_value =sum(chromosome[i]*vi[i] for i in range(10))\n",
        "  total_weight =sum(chromosome[i]*wi[i] for i in range(10))\n",
        "  if total_weight<=kw:\n",
        "    return total_value\n",
        "  else:\n",
        "    return 0\n",
        "\n"
      ]
    },
    {
      "cell_type": "code",
      "execution_count": 39,
      "metadata": {
        "colab": {
          "base_uri": "https://localhost:8080/"
        },
        "id": "dH_d315975oS",
        "outputId": "0f31a75e-91be-4837-fe6a-37268127d6f3"
      },
      "outputs": [],
      "source": [
        "def crossover_function(chromosome1,chromosome2): #both list\n",
        "   '''Two Point Cross over is done'''\n",
        "   chromosome2[3:6],chromosome1[3:6]  = chromosome1[3:6],chromosome2[3:6]\n",
        "   return chromosome1,chromosome2\n",
        "\n",
        "def mutation_function(chromosome):\n",
        "  '''Mutating the chromosome at 2 random points for better results'''\n",
        "  point1 = random.randint(0,len(chromosome)-1)\n",
        "  point2 = random.randint(0,len(chromosome)-1)\n",
        "\n",
        "  point1=1 if point1==0 else 1\n",
        "  point2=1 if point2==0 else 0\n",
        "\n",
        "  return chromosome  \n",
        "# print(initial_population)\n",
        "# print()\n",
        "# crossover_function(initial_population[0],initial_population[1])"
      ]
    },
    {
      "cell_type": "code",
      "execution_count": 41,
      "metadata": {},
      "outputs": [],
      "source": [
        "def selection_function(initial_population, fitness_scores_list):\n",
        "    selected_parents = []\n",
        "    population_size = len(initial_population)\n",
        "    \n",
        "    for _ in range(population_size):\n",
        "        index1, index2 = random.sample(range(population_size), 2)\n",
        "        \n",
        "        parent1 = initial_population[index1] if fitness_scores_list[index1] > fitness_scores_list[index2] else initial_population[index2]\n",
        "        \n",
        "        index1, index2 = random.sample(range(population_size), 2)\n",
        "        parent2 = initial_population[index1] if fitness_scores_list[index1] > fitness_scores_list[index2] else initial_population[index2]\n",
        "        \n",
        "        selected_parents.append((parent1, parent2))\n",
        "    \n",
        "    return selected_parents"
      ]
    },
    {
      "cell_type": "code",
      "execution_count": 46,
      "metadata": {},
      "outputs": [
        {
          "name": "stdout",
          "output_type": "stream",
          "text": [
            "Fitness scores are: [1035, 0, 0, 1304, 1626, 0, 0, 981]\n"
          ]
        },
        {
          "ename": "TypeError",
          "evalue": "unsupported operand type(s) for +: 'int' and 'list'",
          "output_type": "error",
          "traceback": [
            "\u001b[1;31m---------------------------------------------------------------------------\u001b[0m",
            "\u001b[1;31mTypeError\u001b[0m                                 Traceback (most recent call last)",
            "\u001b[1;32m~\\AppData\\Local\\Temp\\ipykernel_7316\\2926054762.py\u001b[0m in \u001b[0;36m<module>\u001b[1;34m\u001b[0m\n\u001b[0;32m     10\u001b[0m     \u001b[0mcombined_population\u001b[0m \u001b[1;33m=\u001b[0m \u001b[0minitial_population\u001b[0m \u001b[1;33m+\u001b[0m \u001b[0mmutated_generation\u001b[0m\u001b[1;33m\u001b[0m\u001b[1;33m\u001b[0m\u001b[0m\n\u001b[0;32m     11\u001b[0m \u001b[1;33m\u001b[0m\u001b[0m\n\u001b[1;32m---> 12\u001b[1;33m     \u001b[0mcombined_population\u001b[0m\u001b[1;33m.\u001b[0m\u001b[0msort\u001b[0m\u001b[1;33m(\u001b[0m\u001b[0mkey\u001b[0m\u001b[1;33m=\u001b[0m\u001b[0mfitness_function\u001b[0m\u001b[1;33m,\u001b[0m \u001b[0mreverse\u001b[0m\u001b[1;33m=\u001b[0m\u001b[1;32mTrue\u001b[0m\u001b[1;33m)\u001b[0m\u001b[1;33m\u001b[0m\u001b[1;33m\u001b[0m\u001b[0m\n\u001b[0m\u001b[0;32m     13\u001b[0m     \u001b[0mtop_chromosomes\u001b[0m \u001b[1;33m=\u001b[0m \u001b[0mcombined_population\u001b[0m\u001b[1;33m[\u001b[0m\u001b[1;33m:\u001b[0m\u001b[1;36m8\u001b[0m\u001b[1;33m]\u001b[0m  \u001b[1;31m# Keep the top 8 chromosomes\u001b[0m\u001b[1;33m\u001b[0m\u001b[1;33m\u001b[0m\u001b[0m\n\u001b[0;32m     14\u001b[0m \u001b[1;33m\u001b[0m\u001b[0m\n",
            "\u001b[1;32m~\\AppData\\Local\\Temp\\ipykernel_7316\\481939112.py\u001b[0m in \u001b[0;36mfitness_function\u001b[1;34m(chromosome)\u001b[0m\n\u001b[0;32m     11\u001b[0m   \u001b[0mtotal_weight\u001b[0m\u001b[1;33m=\u001b[0m\u001b[1;36m0\u001b[0m\u001b[1;33m\u001b[0m\u001b[1;33m\u001b[0m\u001b[0m\n\u001b[0;32m     12\u001b[0m \u001b[1;33m\u001b[0m\u001b[0m\n\u001b[1;32m---> 13\u001b[1;33m   \u001b[0mtotal_value\u001b[0m \u001b[1;33m=\u001b[0m\u001b[0msum\u001b[0m\u001b[1;33m(\u001b[0m\u001b[0mchromosome\u001b[0m\u001b[1;33m[\u001b[0m\u001b[0mi\u001b[0m\u001b[1;33m]\u001b[0m\u001b[1;33m*\u001b[0m\u001b[0mvi\u001b[0m\u001b[1;33m[\u001b[0m\u001b[0mi\u001b[0m\u001b[1;33m]\u001b[0m \u001b[1;32mfor\u001b[0m \u001b[0mi\u001b[0m \u001b[1;32min\u001b[0m \u001b[0mrange\u001b[0m\u001b[1;33m(\u001b[0m\u001b[1;36m10\u001b[0m\u001b[1;33m)\u001b[0m\u001b[1;33m)\u001b[0m\u001b[1;33m\u001b[0m\u001b[1;33m\u001b[0m\u001b[0m\n\u001b[0m\u001b[0;32m     14\u001b[0m   \u001b[0mtotal_weight\u001b[0m \u001b[1;33m=\u001b[0m\u001b[0msum\u001b[0m\u001b[1;33m(\u001b[0m\u001b[0mchromosome\u001b[0m\u001b[1;33m[\u001b[0m\u001b[0mi\u001b[0m\u001b[1;33m]\u001b[0m\u001b[1;33m*\u001b[0m\u001b[0mwi\u001b[0m\u001b[1;33m[\u001b[0m\u001b[0mi\u001b[0m\u001b[1;33m]\u001b[0m \u001b[1;32mfor\u001b[0m \u001b[0mi\u001b[0m \u001b[1;32min\u001b[0m \u001b[0mrange\u001b[0m\u001b[1;33m(\u001b[0m\u001b[1;36m10\u001b[0m\u001b[1;33m)\u001b[0m\u001b[1;33m)\u001b[0m\u001b[1;33m\u001b[0m\u001b[1;33m\u001b[0m\u001b[0m\n\u001b[0;32m     15\u001b[0m   \u001b[1;32mif\u001b[0m \u001b[0mtotal_weight\u001b[0m\u001b[1;33m<=\u001b[0m\u001b[0mkw\u001b[0m\u001b[1;33m:\u001b[0m\u001b[1;33m\u001b[0m\u001b[1;33m\u001b[0m\u001b[0m\n",
            "\u001b[1;31mTypeError\u001b[0m: unsupported operand type(s) for +: 'int' and 'list'"
          ]
        }
      ],
      "source": [
        "best_chromosomes = []\n",
        "for iteration in range(15):\n",
        "    fitness_scores_list = [fitness_function(chromosome) for chromosome in initial_population]\n",
        "    print(\"Fitness scores are:\", fitness_scores_list)\n",
        "    selected_parents = selection_function(initial_population, fitness_scores_list)\n",
        "    new_generation = [crossover_function(parent1, parent2) for parent1, parent2 in selected_parents]\n",
        "\n",
        "    mutated_generation = [mutation_function(chromosome) for chromosome in new_generation]\n",
        "\n",
        "    combined_population = initial_population + mutated_generation\n",
        "\n",
        "    combined_population.sort(key=fitness_function, reverse=True)\n",
        "    top_chromosomes = combined_population[:8]  # Keep the top 8 chromosomes\n",
        "\n",
        "    initial_population = top_chromosomes\n",
        "    best_chromosomes.append(max(initial_population, key=fitness_function))\n",
        "\n",
        "best_chromosome = max(best_chromosomes, key=fitness_function)\n",
        "print(\"Best Chromosome:\", best_chromosome)"
      ]
    },
    {
      "cell_type": "code",
      "execution_count": 19,
      "metadata": {},
      "outputs": [
        {
          "data": {
            "text/plain": [
              "[0, 0, 0, 1304, 1519, 0, 1449, 843]"
            ]
          },
          "execution_count": 19,
          "metadata": {},
          "output_type": "execute_result"
        }
      ],
      "source": [
        "fitness_scores_list"
      ]
    },
    {
      "cell_type": "code",
      "execution_count": null,
      "metadata": {},
      "outputs": [],
      "source": []
    }
  ],
  "metadata": {
    "colab": {
      "provenance": []
    },
    "kernelspec": {
      "display_name": "Python 3",
      "name": "python3"
    },
    "language_info": {
      "codemirror_mode": {
        "name": "ipython",
        "version": 3
      },
      "file_extension": ".py",
      "mimetype": "text/x-python",
      "name": "python",
      "nbconvert_exporter": "python",
      "pygments_lexer": "ipython3",
      "version": "3.7.5"
    }
  },
  "nbformat": 4,
  "nbformat_minor": 0
}
