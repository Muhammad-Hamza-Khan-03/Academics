{
  "cells": [
    {
      "cell_type": "code",
      "execution_count": 38,
      "metadata": {
        "id": "d1wiR1clVx0z"
      },
      "outputs": [],
      "source": [
        "#Q1 Functions\n",
        "\n",
        "def loadfile(filename):\n",
        "  contact =[]\n",
        "  # if filename not found\n",
        "  if not os.path.exists(filename):\n",
        "    print(\"File miss error\")\n",
        "  fileopen = open(filename,\"r\")\n",
        "  # filetxt = fileopen.read()\n",
        "  for e in fileopen:\n",
        "    entry = e.strip().split(',')\n",
        "    contact.append(entry)\n",
        "  return contact\n",
        "def Add_contact(contacts):\n",
        "    name = str(input(\"Enter name\"))\n",
        "    phone = str(input(\"Phone Number\"))\n",
        "    email = str(input(\"Enter Email\"))\n",
        "\n",
        "    for i in contacts:\n",
        "      if name.lower() in i:\n",
        "        print(\"Found in list\")\n",
        "        return\n",
        "    contacts.append([name,phone,email])\n",
        "\n",
        "    print(\"Entry Inserted\")\n",
        "\n",
        "def search_contact(contacts,name):\n",
        "  for n in contacts:\n",
        "      if name.lower() == n[0].lower():\n",
        "        return (n)\n",
        "        print(\"FOund\")\n",
        "  print(\"No entry found\")\n",
        "\n",
        "def delete_contact(contacts,name):\n",
        "  for n in contacts:\n",
        "    if name.lower() in n:\n",
        "      contacts.remove(n)\n",
        "      print(\"Entry deleted\")\n",
        "      return\n",
        "  print(\"No entry found\")\n",
        "\n",
        "def list_contact(contacts):\n",
        "  sorted(contacts,key=lambda entry:entry[0])\n",
        "  print(contacts,end=\"\\n\")\n",
        "\n",
        "def save_contact(contacts,filename):\n",
        "  with open(filename,'w') as file:\n",
        "    for contact in contacts:\n",
        "      file.write(', '.join(contact) + '\\n')"
      ]
    },
    {
      "cell_type": "code",
      "execution_count": 15,
      "metadata": {
        "id": "jYgQtH3Mj1oc"
      },
      "outputs": [],
      "source": [
        "file_contacts = \"contacts.txt\""
      ]
    },
    {
      "cell_type": "code",
      "execution_count": 40,
      "metadata": {
        "colab": {
          "base_uri": "https://localhost:8080/"
        },
        "id": "JyAEAtvEWFZM",
        "outputId": "53c54cfe-1c09-4ace-c289-f9dc3954c182"
      },
      "outputs": [
        {
          "data": {
            "text/plain": [
              "[['John Doe', ' 1234567890', ' johndoe@example.com'],\n",
              " ['Jane Smith', ' 2345678901', ' janesmith@example.com'],\n",
              " ['Alex Johnson', ' 3456789012', ' alexjohnson@example.com'],\n",
              " ['hamza', ' 131342', ' khan@.com']]"
            ]
          },
          "execution_count": 40,
          "metadata": {},
          "output_type": "execute_result"
        }
      ],
      "source": [
        "contacts = loadfile(file_contacts)\n",
        "contacts"
      ]
    },
    {
      "cell_type": "code",
      "execution_count": 17,
      "metadata": {
        "colab": {
          "base_uri": "https://localhost:8080/",
          "height": 287
        },
        "id": "74kU_TAzZCJL",
        "outputId": "b02b45e3-f608-4789-c862-68a1cc9676d0"
      },
      "outputs": [
        {
          "name": "stdout",
          "output_type": "stream",
          "text": [
            "Entry Inserted\n"
          ]
        }
      ],
      "source": [
        "Add_contact(contacts)"
      ]
    },
    {
      "cell_type": "code",
      "execution_count": 18,
      "metadata": {
        "colab": {
          "base_uri": "https://localhost:8080/"
        },
        "id": "kPV3zTK1aVm7",
        "outputId": "919f6898-1a0e-4a29-81c3-9db174389322"
      },
      "outputs": [
        {
          "data": {
            "text/plain": [
              "[['John Doe', '1234567890', 'johndoe@example.com'],\n",
              " ['Jane Smith', '2345678901', 'janesmith@example.com'],\n",
              " ['Alex Johnson', '3456789012', 'alexjohnson@example.com'],\n",
              " ['hamza', '131342', 'khan@.com']]"
            ]
          },
          "execution_count": 18,
          "metadata": {},
          "output_type": "execute_result"
        }
      ],
      "source": [
        "contacts"
      ]
    },
    {
      "cell_type": "code",
      "execution_count": 27,
      "metadata": {
        "colab": {
          "base_uri": "https://localhost:8080/"
        },
        "id": "8bB_k2ENaZH8",
        "outputId": "17aa7487-0f44-4377-cc7d-00f1a09a2439"
      },
      "outputs": [
        {
          "name": "stdout",
          "output_type": "stream",
          "text": [
            "['hamza', '131342', 'khan@.com']\n"
          ]
        }
      ],
      "source": [
        "print(search_contact(contacts,\"hamza\"))"
      ]
    },
    {
      "cell_type": "code",
      "execution_count": null,
      "metadata": {
        "id": "2UHUs3msa6IL"
      },
      "outputs": [],
      "source": [
        "delete_contact(contacts,\"hamza\")"
      ]
    },
    {
      "cell_type": "code",
      "execution_count": null,
      "metadata": {
        "colab": {
          "base_uri": "https://localhost:8080/"
        },
        "id": "XmnRM1yVdbjM",
        "outputId": "ffae6b33-1a27-4106-9298-e45a498674fb"
      },
      "outputs": [
        {
          "data": {
            "text/plain": [
              "[['John Doe', '1234567890', 'johndoe@example.com'],\n",
              " ['Jane Smith', '2345678901', 'janesmith@example.com'],\n",
              " ['Alex Johnson', '3456789012', 'alexjohnson@example.com']]"
            ]
          },
          "execution_count": 116,
          "metadata": {},
          "output_type": "execute_result"
        }
      ],
      "source": [
        "contacts"
      ]
    },
    {
      "cell_type": "code",
      "execution_count": 37,
      "metadata": {
        "colab": {
          "base_uri": "https://localhost:8080/",
          "height": 478
        },
        "id": "APFBdsXYddDb",
        "outputId": "85bf6290-b513-4bdc-db22-4560e6c538b1"
      },
      "outputs": [
        {
          "name": "stdout",
          "output_type": "stream",
          "text": [
            "[['John Doe', '1234567890', 'johndoe@example.com'], ['Jane Smith', '2345678901', 'janesmith@example.com'], ['Alex Johnson', '3456789012', 'alexjohnson@example.com'], ['hamza', '131342', 'khan@.com']]\n"
          ]
        }
      ],
      "source": [
        "list_contact(contacts)"
      ]
    },
    {
      "cell_type": "code",
      "execution_count": 39,
      "metadata": {
        "id": "OHWWYidnd5U7"
      },
      "outputs": [],
      "source": [
        "save_contact(contacts,file_contacts)"
      ]
    },
    {
      "cell_type": "code",
      "execution_count": 44,
      "metadata": {
        "id": "FfdK4m2zjMF0"
      },
      "outputs": [],
      "source": [
        "import pandas as pd\n",
        "contacts_df = pd.DataFrame(contacts,columns=['Name','Phone','Email'])"
      ]
    },
    {
      "cell_type": "code",
      "execution_count": 45,
      "metadata": {
        "colab": {
          "base_uri": "https://localhost:8080/",
          "height": 143
        },
        "id": "1mL_YZPnjSsF",
        "outputId": "a34deb73-b7fe-4038-9b59-55f10ddae8b9"
      },
      "outputs": [
        {
          "data": {
            "text/html": [
              "<div>\n",
              "<style scoped>\n",
              "    .dataframe tbody tr th:only-of-type {\n",
              "        vertical-align: middle;\n",
              "    }\n",
              "\n",
              "    .dataframe tbody tr th {\n",
              "        vertical-align: top;\n",
              "    }\n",
              "\n",
              "    .dataframe thead th {\n",
              "        text-align: right;\n",
              "    }\n",
              "</style>\n",
              "<table border=\"1\" class=\"dataframe\">\n",
              "  <thead>\n",
              "    <tr style=\"text-align: right;\">\n",
              "      <th></th>\n",
              "      <th>Name</th>\n",
              "      <th>Phone</th>\n",
              "      <th>Email</th>\n",
              "    </tr>\n",
              "  </thead>\n",
              "  <tbody>\n",
              "    <tr>\n",
              "      <th>0</th>\n",
              "      <td>John Doe</td>\n",
              "      <td>1234567890</td>\n",
              "      <td>johndoe@example.com</td>\n",
              "    </tr>\n",
              "    <tr>\n",
              "      <th>1</th>\n",
              "      <td>Jane Smith</td>\n",
              "      <td>2345678901</td>\n",
              "      <td>janesmith@example.com</td>\n",
              "    </tr>\n",
              "    <tr>\n",
              "      <th>2</th>\n",
              "      <td>Alex Johnson</td>\n",
              "      <td>3456789012</td>\n",
              "      <td>alexjohnson@example.com</td>\n",
              "    </tr>\n",
              "    <tr>\n",
              "      <th>3</th>\n",
              "      <td>hamza</td>\n",
              "      <td>131342</td>\n",
              "      <td>khan@.com</td>\n",
              "    </tr>\n",
              "  </tbody>\n",
              "</table>\n",
              "</div>"
            ],
            "text/plain": [
              "           Name        Phone                     Email\n",
              "0      John Doe   1234567890       johndoe@example.com\n",
              "1    Jane Smith   2345678901     janesmith@example.com\n",
              "2  Alex Johnson   3456789012   alexjohnson@example.com\n",
              "3         hamza       131342                 khan@.com"
            ]
          },
          "execution_count": 45,
          "metadata": {},
          "output_type": "execute_result"
        }
      ],
      "source": [
        "contacts_df"
      ]
    },
    {
      "cell_type": "code",
      "execution_count": 46,
      "metadata": {
        "id": "NzvKzfTJjlfd"
      },
      "outputs": [],
      "source": [
        "contacts_df.to_csv('Contacts_upated.csv')"
      ]
    },
    {
      "cell_type": "markdown",
      "metadata": {},
      "source": [
        "## Q2"
      ]
    },
    {
      "cell_type": "code",
      "execution_count": 80,
      "metadata": {},
      "outputs": [
        {
          "name": "stdout",
          "output_type": "stream",
          "text": [
            "['hello', 'to', '3v3ry', 'body.', 'yoursâ€™s', 'sincerely.', 'hello', 'i', 'am', 'ali.', 'i', 'am', 'no', 'body.']\n",
            "Number of English alphabetic characters: {'hello': 2, 'to': 1, 'i': 2, 'am': 2, 'no': 1}  with prob  {'hello': 0.25, 'to': 0.125, 'i': 0.25, 'am': 0.25, 'no': 0.125} 8\n"
          ]
        }
      ],
      "source": [
        "def eng_alpha(filename):\n",
        "    counter = {}\n",
        "    total_count=0\n",
        "    with open(filename, 'r',encoding='cp1252',errors=\"ignore\") as file:\n",
        "        data = file.read().lower().split()\n",
        "        print(data)\n",
        "        new_data=[]\n",
        "        \n",
        "        for word in data:\n",
        "            for w in word:\n",
        "                if w in [0,1,2,3,4,5,6,7,8,9]:\n",
        "                    continue\n",
        "            \n",
        "            if word.isalpha() and word not in counter:\n",
        "                counter[word] = 1\n",
        "                total_count+=1\n",
        "            elif word in counter:\n",
        "                counter[word]+=1\n",
        "                total_count+=1\n",
        "            \n",
        "            else:\n",
        "                continue\n",
        "    probability={}\n",
        "    for word in data:\n",
        "        if word in counter:\n",
        "            probability[word] = counter[word]/total_count\n",
        "    return counter,probability,total_count\n",
        "\n",
        "eng_file = \"data.txt\"\n",
        "alphabet_count,probability,tc = eng_alpha(eng_file)\n",
        "print(\"Number of English alphabetic characters:\", alphabet_count,\" with prob \",probability,tc)\n"
      ]
    },
    {
      "cell_type": "code",
      "execution_count": 123,
      "metadata": {},
      "outputs": [
        {
          "name": "stdout",
          "output_type": "stream",
          "text": [
            "Word: hello, Count: 10, Probability: 0.2\n",
            "Word: sincerely., Count: 9, Probability: 0.18\n",
            "Word: body., Count: 8, Probability: 0.16\n",
            "Word: yoursâ€™s, Count: 7, Probability: 0.14\n",
            "Word: am, Count: 4, Probability: 0.08\n",
            "Word: 3v3ry, Count: 3, Probability: 0.06\n",
            "Word: ali., Count: 3, Probability: 0.06\n",
            "Word: to, Count: 2, Probability: 0.04\n",
            "Word: i, Count: 2, Probability: 0.04\n",
            "Word: no, Count: 2, Probability: 0.04\n",
            "['hello', 'hello', 'hello', 'hello', 'hello', 'to', 'to', '3v3ry', '3v3ry', '3v3ry', 'body.', 'body.', 'body.', 'body.', 'yoursâ€™s', 'yoursâ€™s', 'yoursâ€™s', 'yoursâ€™s', 'yoursâ€™s', 'yoursâ€™s', 'yoursâ€™s', 'sincerely.', 'sincerely.', 'sincerely.', 'sincerely.', 'sincerely.', 'sincerely.', 'sincerely.', 'sincerely.', 'sincerely.', 'hello', 'hello', 'hello', 'hello', 'hello', 'i', 'am', 'am', 'ali.', 'ali.', 'ali.', 'i', 'am', 'am', 'no', 'no', 'body.', 'body.', 'body.', 'body.']\n"
          ]
        }
      ],
      "source": [
        "import string\n",
        "\n",
        "def getWordsList(filename):\n",
        "    words_list = []\n",
        "    size=0\n",
        "    with open(filename, 'r', encoding='cp1252', errors=\"ignore\") as file:\n",
        "        data = file.read().lower().split()\n",
        "        for word in data:\n",
        "            for i in word:\n",
        "                if i.isdigit() or i in [' ','.','`','^','™'] or i in[0,1,2,3,4,5,6,7,8,9] or i in string.punctuation:\n",
        "                    continue\n",
        "                \n",
        "                elif i.isalpha():\n",
        "                    words_list.append(word)\n",
        "                    size+=1\n",
        "    return words_list,size\n",
        "\n",
        "def printWord(words_list,size):\n",
        "    count_word={}\n",
        "    for w in words_list:\n",
        "        if w not in count_word:\n",
        "            count_word[w]=1\n",
        "        elif w in count_word:\n",
        "            count_word[w]+=1\n",
        "    \n",
        "    total_count= size\n",
        "    sorted_words = sorted(count_word.items(), key=lambda x: x[1], reverse=True)\n",
        "    top_100_words = sorted_words[:100]\n",
        "    \n",
        "    for word, count in top_100_words:\n",
        "        probability = count_word[word] / total_count\n",
        "        print(f\"Word: {word}, Count: {count}, Probability: {probability}\")\n",
        "\n",
        "eng_file = \"data.txt\"\n",
        "words_list,size = getWordsList(eng_file)\n",
        "printWord(words_list,size)\n"
      ]
    },
    {
      "cell_type": "code",
      "execution_count": null,
      "metadata": {},
      "outputs": [],
      "source": []
    }
  ],
  "metadata": {
    "colab": {
      "provenance": []
    },
    "kernelspec": {
      "display_name": "Python 3",
      "name": "python3"
    },
    "language_info": {
      "codemirror_mode": {
        "name": "ipython",
        "version": 3
      },
      "file_extension": ".py",
      "mimetype": "text/x-python",
      "name": "python",
      "nbconvert_exporter": "python",
      "pygments_lexer": "ipython3",
      "version": "3.7.5"
    }
  },
  "nbformat": 4,
  "nbformat_minor": 0
}
