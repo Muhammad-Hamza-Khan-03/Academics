{
 "cells": [
  {
   "cell_type": "markdown",
   "id": "55ea59de",
   "metadata": {},
   "source": [
    "> # Name:Muhammad Hamza Khan\n",
    "> ## Roll Number: 21l-5654"
   ]
  },
  {
   "cell_type": "code",
   "execution_count": 85,
   "id": "65b27e90",
   "metadata": {},
   "outputs": [
    {
     "name": "stderr",
     "output_type": "stream",
     "text": [
      "C:\\ProgramData\\Anaconda3\\lib\\site-packages\\scipy\\__init__.py:146: UserWarning: A NumPy version >=1.16.5 and <1.23.0 is required for this version of SciPy (detected version 1.26.2\n",
      "  warnings.warn(f\"A NumPy version >={np_minversion} and <{np_maxversion}\"\n"
     ]
    }
   ],
   "source": [
    "import nltk\n",
    "import re\n",
    "import pprint\n",
    "from nltk.stem import PorterStemmer, LancasterStemmer\n",
    "from nltk.tokenize import word_tokenize\n"
   ]
  },
  {
   "cell_type": "markdown",
   "id": "61963f17",
   "metadata": {},
   "source": [
    "# Part 1"
   ]
  },
  {
   "cell_type": "markdown",
   "id": "9df3e70d",
   "metadata": {},
   "source": [
    "> # Question 1"
   ]
  },
  {
   "cell_type": "code",
   "execution_count": 39,
   "id": "a3aecd7b",
   "metadata": {},
   "outputs": [],
   "source": [
    "string = \"My name is Hamza Khan,roll number:21l5654. parrot paat puut \""
   ]
  },
  {
   "cell_type": "code",
   "execution_count": 46,
   "id": "8df22330",
   "metadata": {},
   "outputs": [
    {
     "name": "stdout",
     "output_type": "stream",
     "text": [
      "\n",
      "a: \n",
      "{My} {name} {is} {Hamza} {Khan},{roll} {number}:21{l}5654. {parrot} {paat} {puut}\n",
      "\n",
      "b: \n",
      "{My}{} {name}{} {is}{} {Hamza}{} {Khan}{},{roll}{} {number}{}:{}2{}1{l}{}5{}6{}5{}4{}.{} {parrot}{} {paat}{} {puut}{}\n",
      "\n",
      "c: \n",
      "My name is Hamza Khan,roll number:21l5654. parrot {paat} {puut}\n",
      "\n",
      "d: \n",
      "My name is Hamza Khan,roll number:{21l5654}. parrot paat puut\n",
      "\n",
      "e: \n",
      "{}M{}y{} {nam}{}e{ is}{} {Hamza }{}K{han}{},{rol}{}l{} {number}{}:{}2{}1{}l{}5{}6{}5{}4{}.{} {parrot}{} {}p{}a{}a{}t{} {}p{}u{}u{}t{}\n",
      "\n",
      "f: \n",
      "{My} {name} {is} {Hamza} {Khan}{,}{roll} {number}{:}{21l5654}{.} {parrot} {paat} {puut}\n"
     ]
    }
   ],
   "source": [
    "print(\"\\na: \")\n",
    "a= nltk.re_show(r'[a-zA-Z]+',string)#alphabets one or more\n",
    "\n",
    "print(\"\\nb: \")\n",
    "b= nltk.re_show(r'[a-zA-Z]*',string) \n",
    "\n",
    "print(\"\\nc: \")\n",
    "c= nltk.re_show(r'p[aeiou]{,2}t',string)#start with p and end with t having aeiou in between with 0 to 2 occurances\n",
    "\n",
    "print(\"\\nd: \")\n",
    "d = nltk.re_show('\\d+(.\\d+)?',string)\n",
    "\n",
    "print(\"\\ne: \")\n",
    "e= nltk.re_show('([^aeiou][aeiou][^aeiou])*',string) #starts with letter other than 'aeiou' followed by 'aeiou'\n",
    "# and a letter not in 'aeiou' with zero or more condition\n",
    "\n",
    "print(\"\\nf: \")\n",
    "f=nltk.re_show('\\w+|[^\\w\\s]+',string)# Either one or more alpha numeric or not of alphanumeric and space\n"
   ]
  },
  {
   "cell_type": "markdown",
   "id": "0934bedb",
   "metadata": {},
   "source": [
    "> # Question 2"
   ]
  },
  {
   "cell_type": "code",
   "execution_count": 48,
   "id": "32df0f8a",
   "metadata": {},
   "outputs": [
    {
     "name": "stdout",
     "output_type": "stream",
     "text": [
      "\n",
      "a:  ['a', 'a', 'a', 'an', 'a', 'a', 'a']\n",
      "\n",
      "b:  ['4*3/0', '2+3/8']\n"
     ]
    }
   ],
   "source": [
    "# part a\n",
    "a = re.findall(r'an?|the',string)\n",
    "print(\"\\na: \",a)\n",
    "\n",
    "#part b\n",
    "math_string= '2 2 4*3/0 2+3/8'\n",
    "b = re.findall(r'\\d+[\\+\\-\\*\\/]\\d+[\\+\\-\\*\\/]\\d+',math_string)\n",
    "print(\"\\nb: \", b)"
   ]
  },
  {
   "cell_type": "code",
   "execution_count": null,
   "id": "bdc9c96b",
   "metadata": {},
   "outputs": [],
   "source": []
  },
  {
   "cell_type": "markdown",
   "id": "1530cafa",
   "metadata": {},
   "source": [
    "> # Question 3"
   ]
  },
  {
   "cell_type": "markdown",
   "id": "4b1a441d",
   "metadata": {},
   "source": [
    "### I tried with Beautiful Soup but got no phone numbers or email ,so next to beautiful soup ,i used selenium"
   ]
  },
  {
   "cell_type": "code",
   "execution_count": 88,
   "id": "56f41520",
   "metadata": {},
   "outputs": [],
   "source": [
    "import requests\n",
    "from urllib import request\n",
    "from bs4 import BeautifulSoup"
   ]
  },
  {
   "cell_type": "code",
   "execution_count": 89,
   "id": "2d7f9040",
   "metadata": {},
   "outputs": [],
   "source": [
    "def content_extractor(url):\n",
    "    html = request.urlopen(url).read().decode('utf8')\n",
    "#     results = html.find(_class=\"cs-people__container\")\n",
    "    return BeautifulSoup(html,'html.parser').get_text()\n",
    "    "
   ]
  },
  {
   "cell_type": "code",
   "execution_count": 90,
   "id": "23ee81d7",
   "metadata": {},
   "outputs": [
    {
     "name": "stdout",
     "output_type": "stream",
     "text": [
      "\n",
      "\n",
      "\n",
      "\n",
      "\n",
      "\n",
      "\n",
      "\n",
      "\n",
      "\n",
      "\n",
      "\n",
      "People | MIT CSAIL\n",
      "\n",
      "\n",
      "\n",
      "\n",
      "\n",
      "\n",
      "    Skip to main content\n",
      "  \n",
      "\n",
      "\n",
      "\n",
      "\n",
      "\n",
      "\n",
      "\n",
      "\n",
      "\n",
      "For Students\n",
      "\n",
      "\n",
      "For Industry\n",
      "\n",
      "\n",
      "For Members\n",
      "\n",
      "\n",
      "Accessibility\n",
      "\n",
      "\n",
      "Login\n",
      "\n",
      "\n",
      "\n",
      "\n",
      "\n",
      "\n",
      "\n",
      "\n",
      "\n",
      "\n",
      "\n",
      "\n",
      "\n",
      "\n",
      "\n",
      "\n",
      "\n",
      "\n",
      "\n",
      "\n",
      "\n",
      "\n",
      "\n",
      "\n",
      "\n",
      "MIT CSAIL\n",
      "\n",
      "\n",
      "\n",
      "\n",
      "\n",
      "Research\n",
      "\n",
      "\n",
      "People\n",
      "\n",
      "\n",
      "News\n",
      "\n",
      "\n",
      "Events\n",
      "\n",
      "\n",
      "Symposia\n",
      "\n",
      "\n",
      "About\n",
      "\n",
      "\n",
      "\n",
      "\n",
      "\n",
      "\n",
      "\n",
      "\n",
      "\n",
      "\n",
      "\n",
      "\n",
      "\n",
      "\n",
      "MIT LOGO\n",
      "Created with Sketch.\n",
      "\n",
      "\n",
      "\n",
      "\n",
      "\n",
      "\n",
      "\n",
      "\n",
      "\n",
      "\n",
      "\n",
      "\n",
      "\n",
      "\n",
      "\n",
      "\n",
      "\n",
      "\n",
      "\n",
      "\n",
      "\n",
      "\n",
      "\n",
      "\n",
      "Research\n",
      "\n",
      "\n",
      "People\n",
      "\n",
      "\n",
      "News\n",
      "\n",
      "\n",
      "Events\n",
      "\n",
      "\n",
      "Symposia\n",
      "\n",
      "\n",
      "About\n",
      "\n",
      "\n",
      "\n",
      "\n",
      "\n",
      "\n",
      "\n",
      "\n",
      "For Students\n",
      "\n",
      "\n",
      "For Industry\n",
      "\n",
      "\n",
      "For Members\n",
      "\n",
      "\n",
      "Accessibility\n",
      "\n",
      "\n",
      "Login\n",
      "\n",
      "\n",
      "\n",
      "\n",
      "\n",
      "\n",
      "\n",
      "\n",
      "Contact\n",
      "\n",
      "\n",
      "Press Requests\n",
      "\n",
      "\n",
      "Accessibility\n",
      "\n",
      "\n",
      "\n",
      "\n",
      "\n",
      "\n",
      "\n",
      "\n",
      "\n",
      "\n",
      "\n",
      "Search\n",
      "\n",
      "\n",
      "\n",
      "\n",
      "\n",
      "\n",
      "\n",
      "\n",
      "\n",
      "\n",
      "\n",
      "\n",
      "\n",
      "\n",
      "\n",
      "\n",
      "\n",
      "\n",
      "\n",
      "\n",
      "\n",
      "\n",
      "\n",
      "\n",
      "\n",
      "\n",
      "\n",
      "\n",
      "\n",
      "\n",
      "MIT CSAIL\n",
      "\n",
      "\n",
      "Massachusetts Institute of Technology\n",
      "Computer Science & Artificial Intelligence Laboratory\n",
      "32 Vassar St, Cambridge MA 02139\n",
      "\n",
      "\n",
      "\n",
      "\n",
      "Contact\n",
      "\n",
      "\n",
      "Press Requests\n",
      "\n",
      "\n",
      "Accessibility\n",
      "\n",
      "\n",
      "\n",
      "\n",
      "\n",
      "\n",
      "\n",
      "\n",
      "\n",
      "\n",
      "\n",
      "\n",
      "\n",
      "\n",
      "\n",
      "\n",
      "\n",
      "\n",
      "\n",
      "\n",
      "\n",
      "\n",
      "\n",
      "\n",
      "\n"
     ]
    }
   ],
   "source": [
    "url = \"https://www.csail.mit.edu/people/?roleFacets=Grad%20Students,Associates,Associates\"\n",
    "page = content_extractor(url)\n",
    "print(page)"
   ]
  },
  {
   "cell_type": "code",
   "execution_count": 81,
   "id": "05ab7ecc",
   "metadata": {},
   "outputs": [
    {
     "name": "stdout",
     "output_type": "stream",
     "text": [
      "Phone Numbers: []\n",
      "Email Addresses: []\n"
     ]
    }
   ],
   "source": [
    "def extract_phone_numbers(text):\n",
    "    phone_pattern = r\"\\d{3}-\\d{4}\"\n",
    "    return re.findall(phone_pattern, text)\n",
    "\n",
    "def extract_email_addresses(text):\n",
    "    email_pattern = r\"[\\w\\.-]+@[\\w\\.-]+\\.\\w+\"\n",
    "    return re.findall(email_pattern, text)\n",
    "\n",
    "tokens = nltk.word_tokenize(page)\n",
    "\n",
    "phone_numbers = extract_phone_numbers(page)\n",
    "email_addresses = extract_email_addresses(page)\n",
    "\n",
    "print(\"Phone Numbers:\", phone_numbers)\n",
    "print(\"Email Addresses:\", email_addresses)\n"
   ]
  },
  {
   "cell_type": "markdown",
   "id": "cbff754c",
   "metadata": {},
   "source": [
    "# By Selinium"
   ]
  },
  {
   "cell_type": "code",
   "execution_count": 15,
   "id": "88964b4e",
   "metadata": {},
   "outputs": [],
   "source": [
    "import selenium\n",
    "from selenium import webdriver\n",
    "from selenium.webdriver.chrome.service import Service\n",
    "from selenium.webdriver.common.by import By\n",
    "from selenium.webdriver.common.keys import Keys\n",
    "from bs4 import BeautifulSoup\n",
    "import requests\n",
    "import re\n",
    "import time\n",
    "from selenium.webdriver.support.ui import WebDriverWait\n",
    "from selenium.webdriver.support import expected_conditions as EC"
   ]
  },
  {
   "cell_type": "code",
   "execution_count": 63,
   "id": "fd19d878",
   "metadata": {},
   "outputs": [],
   "source": [
    "email_rgx = r\"[\\w\\.-]+@[\\w\\.-]+\\.\\w+\"\n",
    "phone_rgx = r\"\\d{3}-\\d{4}\"\n",
    "\n",
    "email = []\n",
    "phone_numbers = []"
   ]
  },
  {
   "cell_type": "code",
   "execution_count": 65,
   "id": "d8067f82",
   "metadata": {},
   "outputs": [],
   "source": [
    "import pandas as pd\n",
    "df = pd.DataFrame(columns=['Email', 'Phone_number'])"
   ]
  },
  {
   "cell_type": "code",
   "execution_count": 66,
   "id": "5a28e3ce",
   "metadata": {},
   "outputs": [],
   "source": [
    "s = Service(\"C:/Users/Hamza/Desktop/SEMESTER MATERIAL/Semester 5/5th sem/DAV/chromedriver-win64/chromedriver.exe\")\n",
    "driver = webdriver.Chrome(service = s)"
   ]
  },
  {
   "cell_type": "code",
   "execution_count": 67,
   "id": "54f5061c",
   "metadata": {},
   "outputs": [],
   "source": [
    "driver.get('https://www.csail.mit.edu/people/?roleFacets=Grad%20Students,Principal%20Investigators,Researchers,Principal%20Investigators,Core%2FDual,Associates,Emeritus,Core%2FDual,Associates,Emeritus,UROPS,Principal%20Investigators,Core%2FDual,Associates,Emeritus')\n"
   ]
  },
  {
   "cell_type": "code",
   "execution_count": 68,
   "id": "33177f13",
   "metadata": {},
   "outputs": [
    {
     "name": "stdout",
     "output_type": "stream",
     "text": [
      "['utkarsh5@csail.mit.edu'] []  has been extracted at iteration  1\n"
     ]
    },
    {
     "name": "stderr",
     "output_type": "stream",
     "text": [
      "C:\\Users\\Hamza\\AppData\\Local\\Temp\\ipykernel_11596\\2871599656.py:26: FutureWarning: The frame.append method is deprecated and will be removed from pandas in a future version. Use pandas.concat instead.\n",
      "  df = df.append({'Email': email_current, 'Phone_number': phone_number_current}, ignore_index=True)\n",
      "C:\\Users\\Hamza\\AppData\\Local\\Temp\\ipykernel_11596\\2871599656.py:26: FutureWarning: The frame.append method is deprecated and will be removed from pandas in a future version. Use pandas.concat instead.\n",
      "  df = df.append({'Email': email_current, 'Phone_number': phone_number_current}, ignore_index=True)\n",
      "C:\\Users\\Hamza\\AppData\\Local\\Temp\\ipykernel_11596\\2871599656.py:26: FutureWarning: The frame.append method is deprecated and will be removed from pandas in a future version. Use pandas.concat instead.\n",
      "  df = df.append({'Email': email_current, 'Phone_number': phone_number_current}, ignore_index=True)\n"
     ]
    },
    {
     "name": "stdout",
     "output_type": "stream",
     "text": [
      "['andersaamanda@gmail.com'] []  has been extracted at iteration  1\n",
      "['erfanaasi@csail.mit.edu'] []  has been extracted at iteration  1\n",
      "['hal@mit.edu'] ['253-5856']  has been extracted at iteration  1\n"
     ]
    },
    {
     "name": "stderr",
     "output_type": "stream",
     "text": [
      "C:\\Users\\Hamza\\AppData\\Local\\Temp\\ipykernel_11596\\2871599656.py:26: FutureWarning: The frame.append method is deprecated and will be removed from pandas in a future version. Use pandas.concat instead.\n",
      "  df = df.append({'Email': email_current, 'Phone_number': phone_number_current}, ignore_index=True)\n",
      "C:\\Users\\Hamza\\AppData\\Local\\Temp\\ipykernel_11596\\2871599656.py:26: FutureWarning: The frame.append method is deprecated and will be removed from pandas in a future version. Use pandas.concat instead.\n",
      "  df = df.append({'Email': email_current, 'Phone_number': phone_number_current}, ignore_index=True)\n",
      "C:\\Users\\Hamza\\AppData\\Local\\Temp\\ipykernel_11596\\2871599656.py:26: FutureWarning: The frame.append method is deprecated and will be removed from pandas in a future version. Use pandas.concat instead.\n",
      "  df = df.append({'Email': email_current, 'Phone_number': phone_number_current}, ignore_index=True)\n"
     ]
    },
    {
     "name": "stdout",
     "output_type": "stream",
     "text": [
      "['abulnaga@mit.edu'] []  has been extracted at iteration  1\n",
      "['pedroa@mit.edu'] []  has been extracted at iteration  1\n",
      "['hadam@mit.edu'] []  has been extracted at iteration  1\n"
     ]
    },
    {
     "name": "stderr",
     "output_type": "stream",
     "text": [
      "C:\\Users\\Hamza\\AppData\\Local\\Temp\\ipykernel_11596\\2871599656.py:26: FutureWarning: The frame.append method is deprecated and will be removed from pandas in a future version. Use pandas.concat instead.\n",
      "  df = df.append({'Email': email_current, 'Phone_number': phone_number_current}, ignore_index=True)\n",
      "C:\\Users\\Hamza\\AppData\\Local\\Temp\\ipykernel_11596\\2871599656.py:26: FutureWarning: The frame.append method is deprecated and will be removed from pandas in a future version. Use pandas.concat instead.\n",
      "  df = df.append({'Email': email_current, 'Phone_number': phone_number_current}, ignore_index=True)\n",
      "C:\\Users\\Hamza\\AppData\\Local\\Temp\\ipykernel_11596\\2871599656.py:26: FutureWarning: The frame.append method is deprecated and will be removed from pandas in a future version. Use pandas.concat instead.\n",
      "  df = df.append({'Email': email_current, 'Phone_number': phone_number_current}, ignore_index=True)\n"
     ]
    },
    {
     "name": "stdout",
     "output_type": "stream",
     "text": [
      "['juliusad@MIT.EDU'] []  has been extracted at iteration  1\n",
      "['ikadebi@csail.mit.edu'] []  has been extracted at iteration  1\n",
      "['adelson@csail.mit.edu'] ['253-0645']  has been extracted at iteration  1\n"
     ]
    },
    {
     "name": "stderr",
     "output_type": "stream",
     "text": [
      "C:\\Users\\Hamza\\AppData\\Local\\Temp\\ipykernel_11596\\2871599656.py:26: FutureWarning: The frame.append method is deprecated and will be removed from pandas in a future version. Use pandas.concat instead.\n",
      "  df = df.append({'Email': email_current, 'Phone_number': phone_number_current}, ignore_index=True)\n",
      "C:\\Users\\Hamza\\AppData\\Local\\Temp\\ipykernel_11596\\2871599656.py:26: FutureWarning: The frame.append method is deprecated and will be removed from pandas in a future version. Use pandas.concat instead.\n",
      "  df = df.append({'Email': email_current, 'Phone_number': phone_number_current}, ignore_index=True)\n",
      "C:\\Users\\Hamza\\AppData\\Local\\Temp\\ipykernel_11596\\2871599656.py:26: FutureWarning: The frame.append method is deprecated and will be removed from pandas in a future version. Use pandas.concat instead.\n",
      "  df = df.append({'Email': email_current, 'Phone_number': phone_number_current}, ignore_index=True)\n"
     ]
    },
    {
     "name": "stdout",
     "output_type": "stream",
     "text": [
      "['adityaag@csail.mit.edu'] []  has been extracted at iteration  1\n",
      "['agarwal@edx.org'] ['253-1448']  has been extracted at iteration  1\n",
      "['magrawal@mit.edu'] []  has been extracted at iteration  1\n"
     ]
    },
    {
     "name": "stderr",
     "output_type": "stream",
     "text": [
      "C:\\Users\\Hamza\\AppData\\Local\\Temp\\ipykernel_11596\\2871599656.py:26: FutureWarning: The frame.append method is deprecated and will be removed from pandas in a future version. Use pandas.concat instead.\n",
      "  df = df.append({'Email': email_current, 'Phone_number': phone_number_current}, ignore_index=True)\n",
      "C:\\Users\\Hamza\\AppData\\Local\\Temp\\ipykernel_11596\\2871599656.py:26: FutureWarning: The frame.append method is deprecated and will be removed from pandas in a future version. Use pandas.concat instead.\n",
      "  df = df.append({'Email': email_current, 'Phone_number': phone_number_current}, ignore_index=True)\n",
      "C:\\Users\\Hamza\\AppData\\Local\\Temp\\ipykernel_11596\\2871599656.py:26: FutureWarning: The frame.append method is deprecated and will be removed from pandas in a future version. Use pandas.concat instead.\n",
      "  df = df.append({'Email': email_current, 'Phone_number': phone_number_current}, ignore_index=True)\n"
     ]
    },
    {
     "name": "stdout",
     "output_type": "stream",
     "text": [
      "['PULKITAG@MIT.EDU'] []  has been extracted at iteration  1\n",
      "['lagudelo@csail.mit.edu'] []  has been extracted at iteration  1\n",
      "['nurahmed@mit.edu'] []  has been extracted at iteration  1\n"
     ]
    },
    {
     "name": "stderr",
     "output_type": "stream",
     "text": [
      "C:\\Users\\Hamza\\AppData\\Local\\Temp\\ipykernel_11596\\2871599656.py:26: FutureWarning: The frame.append method is deprecated and will be removed from pandas in a future version. Use pandas.concat instead.\n",
      "  df = df.append({'Email': email_current, 'Phone_number': phone_number_current}, ignore_index=True)\n",
      "C:\\Users\\Hamza\\AppData\\Local\\Temp\\ipykernel_11596\\2871599656.py:26: FutureWarning: The frame.append method is deprecated and will be removed from pandas in a future version. Use pandas.concat instead.\n",
      "  df = df.append({'Email': email_current, 'Phone_number': phone_number_current}, ignore_index=True)\n",
      "C:\\Users\\Hamza\\AppData\\Local\\Temp\\ipykernel_11596\\2871599656.py:26: FutureWarning: The frame.append method is deprecated and will be removed from pandas in a future version. Use pandas.concat instead.\n",
      "  df = df.append({'Email': email_current, 'Phone_number': phone_number_current}, ignore_index=True)\n"
     ]
    },
    {
     "name": "stdout",
     "output_type": "stream",
     "text": [
      "['willow@csail.mit.edu'] []  has been extracted at iteration  1\n",
      "['Aidinoff@mit.edu'] []  has been extracted at iteration  1\n",
      "['aajay@mit.edu'] []  has been extracted at iteration  1\n"
     ]
    },
    {
     "name": "stderr",
     "output_type": "stream",
     "text": [
      "C:\\Users\\Hamza\\AppData\\Local\\Temp\\ipykernel_11596\\2871599656.py:26: FutureWarning: The frame.append method is deprecated and will be removed from pandas in a future version. Use pandas.concat instead.\n",
      "  df = df.append({'Email': email_current, 'Phone_number': phone_number_current}, ignore_index=True)\n",
      "C:\\Users\\Hamza\\AppData\\Local\\Temp\\ipykernel_11596\\2871599656.py:26: FutureWarning: The frame.append method is deprecated and will be removed from pandas in a future version. Use pandas.concat instead.\n",
      "  df = df.append({'Email': email_current, 'Phone_number': phone_number_current}, ignore_index=True)\n"
     ]
    },
    {
     "name": "stdout",
     "output_type": "stream",
     "text": [
      "['naysh@mit.edu'] []  has been extracted at iteration  1\n",
      "['akyurek@mit.edu'] []  has been extracted at iteration  1\n"
     ]
    },
    {
     "name": "stderr",
     "output_type": "stream",
     "text": [
      "C:\\Users\\Hamza\\AppData\\Local\\Temp\\ipykernel_11596\\2871599656.py:26: FutureWarning: The frame.append method is deprecated and will be removed from pandas in a future version. Use pandas.concat instead.\n",
      "  df = df.append({'Email': email_current, 'Phone_number': phone_number_current}, ignore_index=True)\n",
      "C:\\Users\\Hamza\\AppData\\Local\\Temp\\ipykernel_11596\\2871599656.py:26: FutureWarning: The frame.append method is deprecated and will be removed from pandas in a future version. Use pandas.concat instead.\n",
      "  df = df.append({'Email': email_current, 'Phone_number': phone_number_current}, ignore_index=True)\n",
      "C:\\Users\\Hamza\\AppData\\Local\\Temp\\ipykernel_11596\\2871599656.py:26: FutureWarning: The frame.append method is deprecated and will be removed from pandas in a future version. Use pandas.concat instead.\n",
      "  df = df.append({'Email': email_current, 'Phone_number': phone_number_current}, ignore_index=True)\n"
     ]
    },
    {
     "name": "stdout",
     "output_type": "stream",
     "text": [
      "['malalawi@mit.edu'] []  has been extracted at iteration  1\n",
      "['alet@mit.edu'] []  has been extracted at iteration  1\n",
      "['calexiev@mit.edu'] []  has been extracted at iteration  1\n"
     ]
    },
    {
     "name": "stderr",
     "output_type": "stream",
     "text": [
      "C:\\Users\\Hamza\\AppData\\Local\\Temp\\ipykernel_11596\\2871599656.py:26: FutureWarning: The frame.append method is deprecated and will be removed from pandas in a future version. Use pandas.concat instead.\n",
      "  df = df.append({'Email': email_current, 'Phone_number': phone_number_current}, ignore_index=True)\n"
     ]
    },
    {
     "name": "stdout",
     "output_type": "stream",
     "text": [
      "['alizadeh@csail.mit.edu'] []  has been extracted at iteration  1\n",
      "['obada@mit.edu'] []  has been extracted at iteration  1\n"
     ]
    },
    {
     "name": "stderr",
     "output_type": "stream",
     "text": [
      "C:\\Users\\Hamza\\AppData\\Local\\Temp\\ipykernel_11596\\2871599656.py:26: FutureWarning: The frame.append method is deprecated and will be removed from pandas in a future version. Use pandas.concat instead.\n",
      "  df = df.append({'Email': email_current, 'Phone_number': phone_number_current}, ignore_index=True)\n",
      "C:\\Users\\Hamza\\AppData\\Local\\Temp\\ipykernel_11596\\2871599656.py:26: FutureWarning: The frame.append method is deprecated and will be removed from pandas in a future version. Use pandas.concat instead.\n",
      "  df = df.append({'Email': email_current, 'Phone_number': phone_number_current}, ignore_index=True)\n"
     ]
    },
    {
     "name": "stdout",
     "output_type": "stream",
     "text": [
      "['jumanam@mit.edu'] []  has been extracted at iteration  1\n",
      "['RABABALOMAIRY@csail.mit.edu'] []  has been extracted at iteration  1\n",
      "['alotaibi@csail.mit.edu'] []  has been extracted at iteration  1\n"
     ]
    },
    {
     "name": "stderr",
     "output_type": "stream",
     "text": [
      "C:\\Users\\Hamza\\AppData\\Local\\Temp\\ipykernel_11596\\2871599656.py:26: FutureWarning: The frame.append method is deprecated and will be removed from pandas in a future version. Use pandas.concat instead.\n",
      "  df = df.append({'Email': email_current, 'Phone_number': phone_number_current}, ignore_index=True)\n",
      "C:\\Users\\Hamza\\AppData\\Local\\Temp\\ipykernel_11596\\2871599656.py:26: FutureWarning: The frame.append method is deprecated and will be removed from pandas in a future version. Use pandas.concat instead.\n",
      "  df = df.append({'Email': email_current, 'Phone_number': phone_number_current}, ignore_index=True)\n",
      "C:\\Users\\Hamza\\AppData\\Local\\Temp\\ipykernel_11596\\2871599656.py:26: FutureWarning: The frame.append method is deprecated and will be removed from pandas in a future version. Use pandas.concat instead.\n",
      "  df = df.append({'Email': email_current, 'Phone_number': phone_number_current}, ignore_index=True)\n"
     ]
    },
    {
     "name": "stdout",
     "output_type": "stream",
     "text": [
      "['emilya@mit.edu'] []  has been extracted at iteration  1\n",
      "['saman@csail.mit.edu'] ['253-8879']  has been extracted at iteration  1\n",
      "['amice@mit.edu'] [] "
     ]
    },
    {
     "name": "stderr",
     "output_type": "stream",
     "text": [
      "C:\\Users\\Hamza\\AppData\\Local\\Temp\\ipykernel_11596\\2871599656.py:26: FutureWarning: The frame.append method is deprecated and will be removed from pandas in a future version. Use pandas.concat instead.\n",
      "  df = df.append({'Email': email_current, 'Phone_number': phone_number_current}, ignore_index=True)\n",
      "C:\\Users\\Hamza\\AppData\\Local\\Temp\\ipykernel_11596\\2871599656.py:26: FutureWarning: The frame.append method is deprecated and will be removed from pandas in a future version. Use pandas.concat instead.\n",
      "  df = df.append({'Email': email_current, 'Phone_number': phone_number_current}, ignore_index=True)\n"
     ]
    },
    {
     "name": "stdout",
     "output_type": "stream",
     "text": [
      " has been extracted at iteration  1\n",
      "['Amini@mit.edu'] []  has been extracted at iteration  1\n",
      "['ranjanan@mit.edu'] []  has been extracted at iteration  1\n"
     ]
    },
    {
     "name": "stderr",
     "output_type": "stream",
     "text": [
      "C:\\Users\\Hamza\\AppData\\Local\\Temp\\ipykernel_11596\\2871599656.py:26: FutureWarning: The frame.append method is deprecated and will be removed from pandas in a future version. Use pandas.concat instead.\n",
      "  df = df.append({'Email': email_current, 'Phone_number': phone_number_current}, ignore_index=True)\n",
      "C:\\Users\\Hamza\\AppData\\Local\\Temp\\ipykernel_11596\\2871599656.py:26: FutureWarning: The frame.append method is deprecated and will be removed from pandas in a future version. Use pandas.concat instead.\n",
      "  df = df.append({'Email': email_current, 'Phone_number': phone_number_current}, ignore_index=True)\n",
      "C:\\Users\\Hamza\\AppData\\Local\\Temp\\ipykernel_11596\\2871599656.py:26: FutureWarning: The frame.append method is deprecated and will be removed from pandas in a future version. Use pandas.concat instead.\n",
      "  df = df.append({'Email': email_current, 'Phone_number': phone_number_current}, ignore_index=True)\n"
     ]
    },
    {
     "name": "stdout",
     "output_type": "stream",
     "text": [
      "['sancha@mit.edu'] []  has been extracted at iteration  1\n",
      "['paanders@csail.mit.edu'] []  has been extracted at iteration  1\n",
      "['andonian@csail.mit.edu'] []  has been extracted at iteration  1\n"
     ]
    },
    {
     "name": "stderr",
     "output_type": "stream",
     "text": [
      "C:\\Users\\Hamza\\AppData\\Local\\Temp\\ipykernel_11596\\2871599656.py:26: FutureWarning: The frame.append method is deprecated and will be removed from pandas in a future version. Use pandas.concat instead.\n",
      "  df = df.append({'Email': email_current, 'Phone_number': phone_number_current}, ignore_index=True)\n",
      "C:\\Users\\Hamza\\AppData\\Local\\Temp\\ipykernel_11596\\2871599656.py:26: FutureWarning: The frame.append method is deprecated and will be removed from pandas in a future version. Use pandas.concat instead.\n",
      "  df = df.append({'Email': email_current, 'Phone_number': phone_number_current}, ignore_index=True)\n",
      "C:\\Users\\Hamza\\AppData\\Local\\Temp\\ipykernel_11596\\2871599656.py:26: FutureWarning: The frame.append method is deprecated and will be removed from pandas in a future version. Use pandas.concat instead.\n",
      "  df = df.append({'Email': email_current, 'Phone_number': phone_number_current}, ignore_index=True)\n"
     ]
    },
    {
     "name": "stdout",
     "output_type": "stream",
     "text": [
      "['jda@csail.mit.edu'] []  has been extracted at iteration  1\n",
      "['andrulis@mit.edu'] []  has been extracted at iteration  1\n",
      "['cmarnold@csail.mit.edu'] []  has been extracted at iteration  1\n"
     ]
    },
    {
     "name": "stderr",
     "output_type": "stream",
     "text": [
      "C:\\Users\\Hamza\\AppData\\Local\\Temp\\ipykernel_11596\\2871599656.py:26: FutureWarning: The frame.append method is deprecated and will be removed from pandas in a future version. Use pandas.concat instead.\n",
      "  df = df.append({'Email': email_current, 'Phone_number': phone_number_current}, ignore_index=True)\n",
      "C:\\Users\\Hamza\\AppData\\Local\\Temp\\ipykernel_11596\\2871599656.py:26: FutureWarning: The frame.append method is deprecated and will be removed from pandas in a future version. Use pandas.concat instead.\n",
      "  df = df.append({'Email': email_current, 'Phone_number': phone_number_current}, ignore_index=True)\n",
      "C:\\Users\\Hamza\\AppData\\Local\\Temp\\ipykernel_11596\\2871599656.py:26: FutureWarning: The frame.append method is deprecated and will be removed from pandas in a future version. Use pandas.concat instead.\n",
      "  df = df.append({'Email': email_current, 'Phone_number': phone_number_current}, ignore_index=True)\n"
     ]
    },
    {
     "name": "stdout",
     "output_type": "stream",
     "text": [
      "['farto@csail.mit.edu'] []  has been extracted at iteration  1\n",
      "['venkatar@MIT.EDU'] []  has been extracted at iteration  1\n",
      "['aathalye@mit.edu'] []  has been extracted at iteration  1\n"
     ]
    },
    {
     "name": "stderr",
     "output_type": "stream",
     "text": [
      "C:\\Users\\Hamza\\AppData\\Local\\Temp\\ipykernel_11596\\2871599656.py:26: FutureWarning: The frame.append method is deprecated and will be removed from pandas in a future version. Use pandas.concat instead.\n",
      "  df = df.append({'Email': email_current, 'Phone_number': phone_number_current}, ignore_index=True)\n",
      "C:\\Users\\Hamza\\AppData\\Local\\Temp\\ipykernel_11596\\2871599656.py:26: FutureWarning: The frame.append method is deprecated and will be removed from pandas in a future version. Use pandas.concat instead.\n",
      "  df = df.append({'Email': email_current, 'Phone_number': phone_number_current}, ignore_index=True)\n",
      "C:\\Users\\Hamza\\AppData\\Local\\Temp\\ipykernel_11596\\2871599656.py:26: FutureWarning: The frame.append method is deprecated and will be removed from pandas in a future version. Use pandas.concat instead.\n",
      "  df = df.append({'Email': email_current, 'Phone_number': phone_number_current}, ignore_index=True)\n"
     ]
    },
    {
     "name": "stdout",
     "output_type": "stream",
     "text": [
      "['ashay@mit.edu'] []  has been extracted at iteration  1\n",
      "['eatkinson@csail.mit.edu'] []  has been extracted at iteration  1\n",
      "['MAXIMNA@csail.mit.edu'] []  has been extracted at iteration  1\n"
     ]
    },
    {
     "name": "stderr",
     "output_type": "stream",
     "text": [
      "C:\\Users\\Hamza\\AppData\\Local\\Temp\\ipykernel_11596\\2871599656.py:26: FutureWarning: The frame.append method is deprecated and will be removed from pandas in a future version. Use pandas.concat instead.\n",
      "  df = df.append({'Email': email_current, 'Phone_number': phone_number_current}, ignore_index=True)\n",
      "C:\\Users\\Hamza\\AppData\\Local\\Temp\\ipykernel_11596\\2871599656.py:26: FutureWarning: The frame.append method is deprecated and will be removed from pandas in a future version. Use pandas.concat instead.\n",
      "  df = df.append({'Email': email_current, 'Phone_number': phone_number_current}, ignore_index=True)\n",
      "C:\\Users\\Hamza\\AppData\\Local\\Temp\\ipykernel_11596\\2871599656.py:26: FutureWarning: The frame.append method is deprecated and will be removed from pandas in a future version. Use pandas.concat instead.\n",
      "  df = df.append({'Email': email_current, 'Phone_number': phone_number_current}, ignore_index=True)\n"
     ]
    },
    {
     "name": "stdout",
     "output_type": "stream",
     "text": [
      "['azizayed@csail.mit.edu'] []  has been extracted at iteration  1\n",
      "['abackour@csail.mit.edu'] []  has been extracted at iteration  1\n",
      "['bahng@MIT.EDU'] []  has been extracted at iteration  1\n"
     ]
    },
    {
     "name": "stderr",
     "output_type": "stream",
     "text": [
      "C:\\Users\\Hamza\\AppData\\Local\\Temp\\ipykernel_11596\\2871599656.py:26: FutureWarning: The frame.append method is deprecated and will be removed from pandas in a future version. Use pandas.concat instead.\n",
      "  df = df.append({'Email': email_current, 'Phone_number': phone_number_current}, ignore_index=True)\n",
      "C:\\Users\\Hamza\\AppData\\Local\\Temp\\ipykernel_11596\\2871599656.py:26: FutureWarning: The frame.append method is deprecated and will be removed from pandas in a future version. Use pandas.concat instead.\n",
      "  df = df.append({'Email': email_current, 'Phone_number': phone_number_current}, ignore_index=True)\n",
      "C:\\Users\\Hamza\\AppData\\Local\\Temp\\ipykernel_11596\\2871599656.py:26: FutureWarning: The frame.append method is deprecated and will be removed from pandas in a future version. Use pandas.concat instead.\n",
      "  df = df.append({'Email': email_current, 'Phone_number': phone_number_current}, ignore_index=True)\n"
     ]
    },
    {
     "name": "stdout",
     "output_type": "stream",
     "text": [
      "['ainesh@csail.mit.edu'] []  has been extracted at iteration  1\n",
      "['aparnab@mit.edu'] []  has been extracted at iteration  1\n",
      "['hari@csail.mit.edu'] ['253-8713']  has been extracted at iteration  1\n"
     ]
    },
    {
     "name": "stderr",
     "output_type": "stream",
     "text": [
      "C:\\Users\\Hamza\\AppData\\Local\\Temp\\ipykernel_11596\\2871599656.py:26: FutureWarning: The frame.append method is deprecated and will be removed from pandas in a future version. Use pandas.concat instead.\n",
      "  df = df.append({'Email': email_current, 'Phone_number': phone_number_current}, ignore_index=True)\n",
      "C:\\Users\\Hamza\\AppData\\Local\\Temp\\ipykernel_11596\\2871599656.py:26: FutureWarning: The frame.append method is deprecated and will be removed from pandas in a future version. Use pandas.concat instead.\n",
      "  df = df.append({'Email': email_current, 'Phone_number': phone_number_current}, ignore_index=True)\n",
      "C:\\Users\\Hamza\\AppData\\Local\\Temp\\ipykernel_11596\\2871599656.py:26: FutureWarning: The frame.append method is deprecated and will be removed from pandas in a future version. Use pandas.concat instead.\n",
      "  df = df.append({'Email': email_current, 'Phone_number': phone_number_current}, ignore_index=True)\n"
     ]
    },
    {
     "name": "stdout",
     "output_type": "stream",
     "text": [
      "['arjunvb@csail.mit.edu'] []  has been extracted at iteration  1\n",
      "['jballa@csail.mit.edu'] []  has been extracted at iteration  1\n",
      "['hbang@mit.edu'] []  has been extracted at iteration  1\n"
     ]
    },
    {
     "name": "stderr",
     "output_type": "stream",
     "text": [
      "C:\\Users\\Hamza\\AppData\\Local\\Temp\\ipykernel_11596\\2871599656.py:26: FutureWarning: The frame.append method is deprecated and will be removed from pandas in a future version. Use pandas.concat instead.\n",
      "  df = df.append({'Email': email_current, 'Phone_number': phone_number_current}, ignore_index=True)\n",
      "C:\\Users\\Hamza\\AppData\\Local\\Temp\\ipykernel_11596\\2871599656.py:26: FutureWarning: The frame.append method is deprecated and will be removed from pandas in a future version. Use pandas.concat instead.\n",
      "  df = df.append({'Email': email_current, 'Phone_number': phone_number_current}, ignore_index=True)\n",
      "C:\\Users\\Hamza\\AppData\\Local\\Temp\\ipykernel_11596\\2871599656.py:26: FutureWarning: The frame.append method is deprecated and will be removed from pandas in a future version. Use pandas.concat instead.\n",
      "  df = df.append({'Email': email_current, 'Phone_number': phone_number_current}, ignore_index=True)\n"
     ]
    },
    {
     "name": "stdout",
     "output_type": "stream",
     "text": [
      "['brishika@csail.mit.edu'] []  has been extracted at iteration  1\n",
      "['abarbu@mit.edu'] []  has been extracted at iteration  1\n",
      "['arjunjb@csail.mit.edu'] []  has been extracted at iteration  1\n"
     ]
    },
    {
     "name": "stderr",
     "output_type": "stream",
     "text": [
      "C:\\Users\\Hamza\\AppData\\Local\\Temp\\ipykernel_11596\\2871599656.py:26: FutureWarning: The frame.append method is deprecated and will be removed from pandas in a future version. Use pandas.concat instead.\n",
      "  df = df.append({'Email': email_current, 'Phone_number': phone_number_current}, ignore_index=True)\n",
      "C:\\Users\\Hamza\\AppData\\Local\\Temp\\ipykernel_11596\\2871599656.py:26: FutureWarning: The frame.append method is deprecated and will be removed from pandas in a future version. Use pandas.concat instead.\n",
      "  df = df.append({'Email': email_current, 'Phone_number': phone_number_current}, ignore_index=True)\n",
      "C:\\Users\\Hamza\\AppData\\Local\\Temp\\ipykernel_11596\\2871599656.py:26: FutureWarning: The frame.append method is deprecated and will be removed from pandas in a future version. Use pandas.concat instead.\n",
      "  df = df.append({'Email': email_current, 'Phone_number': phone_number_current}, ignore_index=True)\n"
     ]
    },
    {
     "name": "stdout",
     "output_type": "stream",
     "text": [
      "['regina@csail.mit.edu'] ['258-5706']  has been extracted at iteration  1\n",
      "['RBEATTIE@csail.mit.edu'] []  has been extracted at iteration  1\n",
      "['beery@csail.mit.edu'] []  has been extracted at iteration  1\n"
     ]
    },
    {
     "name": "stderr",
     "output_type": "stream",
     "text": [
      "C:\\Users\\Hamza\\AppData\\Local\\Temp\\ipykernel_11596\\2871599656.py:26: FutureWarning: The frame.append method is deprecated and will be removed from pandas in a future version. Use pandas.concat instead.\n",
      "  df = df.append({'Email': email_current, 'Phone_number': phone_number_current}, ignore_index=True)\n",
      "C:\\Users\\Hamza\\AppData\\Local\\Temp\\ipykernel_11596\\2871599656.py:26: FutureWarning: The frame.append method is deprecated and will be removed from pandas in a future version. Use pandas.concat instead.\n",
      "  df = df.append({'Email': email_current, 'Phone_number': phone_number_current}, ignore_index=True)\n",
      "C:\\Users\\Hamza\\AppData\\Local\\Temp\\ipykernel_11596\\2871599656.py:26: FutureWarning: The frame.append method is deprecated and will be removed from pandas in a future version. Use pandas.concat instead.\n",
      "  df = df.append({'Email': email_current, 'Phone_number': phone_number_current}, ignore_index=True)\n"
     ]
    },
    {
     "name": "stdout",
     "output_type": "stream",
     "text": [
      "['abelay@CSAIL.MIT.EDU'] ['253-0004']  has been extracted at iteration  1\n",
      "['alexberg@mit.edu'] []  has been extracted at iteration  1\n",
      "['awberger@csail.mit.edu'] ['253-6079']  has been extracted at iteration  1\n"
     ]
    },
    {
     "name": "stderr",
     "output_type": "stream",
     "text": [
      "C:\\Users\\Hamza\\AppData\\Local\\Temp\\ipykernel_11596\\2871599656.py:26: FutureWarning: The frame.append method is deprecated and will be removed from pandas in a future version. Use pandas.concat instead.\n",
      "  df = df.append({'Email': email_current, 'Phone_number': phone_number_current}, ignore_index=True)\n",
      "C:\\Users\\Hamza\\AppData\\Local\\Temp\\ipykernel_11596\\2871599656.py:26: FutureWarning: The frame.append method is deprecated and will be removed from pandas in a future version. Use pandas.concat instead.\n",
      "  df = df.append({'Email': email_current, 'Phone_number': phone_number_current}, ignore_index=True)\n",
      "C:\\Users\\Hamza\\AppData\\Local\\Temp\\ipykernel_11596\\2871599656.py:26: FutureWarning: The frame.append method is deprecated and will be removed from pandas in a future version. Use pandas.concat instead.\n",
      "  df = df.append({'Email': email_current, 'Phone_number': phone_number_current}, ignore_index=True)\n"
     ]
    },
    {
     "name": "stdout",
     "output_type": "stream",
     "text": [
      "['bab@csail.mit.edu'] ['253-1827']  has been extracted at iteration  1\n",
      "['timbl@w3.org'] ['253-5702']  has been extracted at iteration  1\n",
      "['JB866@csail.mit.edu'] []  has been extracted at iteration  1\n"
     ]
    },
    {
     "name": "stderr",
     "output_type": "stream",
     "text": [
      "C:\\Users\\Hamza\\AppData\\Local\\Temp\\ipykernel_11596\\2871599656.py:26: FutureWarning: The frame.append method is deprecated and will be removed from pandas in a future version. Use pandas.concat instead.\n",
      "  df = df.append({'Email': email_current, 'Phone_number': phone_number_current}, ignore_index=True)\n",
      "C:\\Users\\Hamza\\AppData\\Local\\Temp\\ipykernel_11596\\2871599656.py:26: FutureWarning: The frame.append method is deprecated and will be removed from pandas in a future version. Use pandas.concat instead.\n",
      "  df = df.append({'Email': email_current, 'Phone_number': phone_number_current}, ignore_index=True)\n",
      "C:\\Users\\Hamza\\AppData\\Local\\Temp\\ipykernel_11596\\2871599656.py:26: FutureWarning: The frame.append method is deprecated and will be removed from pandas in a future version. Use pandas.concat instead.\n",
      "  df = df.append({'Email': email_current, 'Phone_number': phone_number_current}, ignore_index=True)\n"
     ]
    },
    {
     "name": "stdout",
     "output_type": "stream",
     "text": [
      "['ANTONIOB@csail.mit.edu'] []  has been extracted at iteration  1\n",
      "['sanjit-bhat@csail.mit.edu'] []  has been extracted at iteration  1\n",
      "['bbillot@csail.mit.edu'] []  has been extracted at iteration  1\n"
     ]
    },
    {
     "name": "stderr",
     "output_type": "stream",
     "text": [
      "C:\\Users\\Hamza\\AppData\\Local\\Temp\\ipykernel_11596\\2871599656.py:26: FutureWarning: The frame.append method is deprecated and will be removed from pandas in a future version. Use pandas.concat instead.\n",
      "  df = df.append({'Email': email_current, 'Phone_number': phone_number_current}, ignore_index=True)\n",
      "C:\\Users\\Hamza\\AppData\\Local\\Temp\\ipykernel_11596\\2871599656.py:26: FutureWarning: The frame.append method is deprecated and will be removed from pandas in a future version. Use pandas.concat instead.\n",
      "  df = df.append({'Email': email_current, 'Phone_number': phone_number_current}, ignore_index=True)\n",
      "C:\\Users\\Hamza\\AppData\\Local\\Temp\\ipykernel_11596\\2871599656.py:26: FutureWarning: The frame.append method is deprecated and will be removed from pandas in a future version. Use pandas.concat instead.\n",
      "  df = df.append({'Email': email_current, 'Phone_number': phone_number_current}, ignore_index=True)\n"
     ]
    },
    {
     "name": "stdout",
     "output_type": "stream",
     "text": [
      "['cjbisc@mit.edu'] []  has been extracted at iteration  1\n",
      "['jxn@csail.mit.edu'] []  has been extracted at iteration  1\n",
      "['aboggust@mit.edu'] []  has been extracted at iteration  1\n"
     ]
    },
    {
     "name": "stderr",
     "output_type": "stream",
     "text": [
      "C:\\Users\\Hamza\\AppData\\Local\\Temp\\ipykernel_11596\\2871599656.py:26: FutureWarning: The frame.append method is deprecated and will be removed from pandas in a future version. Use pandas.concat instead.\n",
      "  df = df.append({'Email': email_current, 'Phone_number': phone_number_current}, ignore_index=True)\n",
      "C:\\Users\\Hamza\\AppData\\Local\\Temp\\ipykernel_11596\\2871599656.py:26: FutureWarning: The frame.append method is deprecated and will be removed from pandas in a future version. Use pandas.concat instead.\n",
      "  df = df.append({'Email': email_current, 'Phone_number': phone_number_current}, ignore_index=True)\n",
      "C:\\Users\\Hamza\\AppData\\Local\\Temp\\ipykernel_11596\\2871599656.py:26: FutureWarning: The frame.append method is deprecated and will be removed from pandas in a future version. Use pandas.concat instead.\n",
      "  df = df.append({'Email': email_current, 'Phone_number': phone_number_current}, ignore_index=True)\n"
     ]
    },
    {
     "name": "stdout",
     "output_type": "stream",
     "text": [
      "['rboiar@mit.edu'] []  has been extracted at iteration  1\n",
      "['sbooth@mit.edu'] []  has been extracted at iteration  1\n",
      "['borch@csail.mit.edu'] ['253-5867']  has been extracted at iteration  1\n"
     ]
    },
    {
     "name": "stderr",
     "output_type": "stream",
     "text": [
      "C:\\Users\\Hamza\\AppData\\Local\\Temp\\ipykernel_11596\\2871599656.py:26: FutureWarning: The frame.append method is deprecated and will be removed from pandas in a future version. Use pandas.concat instead.\n",
      "  df = df.append({'Email': email_current, 'Phone_number': phone_number_current}, ignore_index=True)\n",
      "C:\\Users\\Hamza\\AppData\\Local\\Temp\\ipykernel_11596\\2871599656.py:26: FutureWarning: The frame.append method is deprecated and will be removed from pandas in a future version. Use pandas.concat instead.\n",
      "  df = df.append({'Email': email_current, 'Phone_number': phone_number_current}, ignore_index=True)\n",
      "C:\\Users\\Hamza\\AppData\\Local\\Temp\\ipykernel_11596\\2871599656.py:26: FutureWarning: The frame.append method is deprecated and will be removed from pandas in a future version. Use pandas.concat instead.\n",
      "  df = df.append({'Email': email_current, 'Phone_number': phone_number_current}, ignore_index=True)\n"
     ]
    },
    {
     "name": "stdout",
     "output_type": "stream",
     "text": [
      "['bthom@csail.mit.edu'] []  has been extracted at iteration  1\n",
      "['mlbowers@mit.edu'] []  has been extracted at iteration  1\n",
      "['ajaybr@mit.edu'] []  has been extracted at iteration  1\n"
     ]
    },
    {
     "name": "stderr",
     "output_type": "stream",
     "text": [
      "C:\\Users\\Hamza\\AppData\\Local\\Temp\\ipykernel_11596\\2871599656.py:26: FutureWarning: The frame.append method is deprecated and will be removed from pandas in a future version. Use pandas.concat instead.\n",
      "  df = df.append({'Email': email_current, 'Phone_number': phone_number_current}, ignore_index=True)\n",
      "C:\\Users\\Hamza\\AppData\\Local\\Temp\\ipykernel_11596\\2871599656.py:26: FutureWarning: The frame.append method is deprecated and will be removed from pandas in a future version. Use pandas.concat instead.\n",
      "  df = df.append({'Email': email_current, 'Phone_number': phone_number_current}, ignore_index=True)\n",
      "C:\\Users\\Hamza\\AppData\\Local\\Temp\\ipykernel_11596\\2871599656.py:26: FutureWarning: The frame.append method is deprecated and will be removed from pandas in a future version. Use pandas.concat instead.\n",
      "  df = df.append({'Email': email_current, 'Phone_number': phone_number_current}, ignore_index=True)\n"
     ]
    },
    {
     "name": "stdout",
     "output_type": "stream",
     "text": [
      "['wbrandon@mit.edu'] []  has been extracted at iteration  1\n",
      "['lebrandt@csail.mit.edu'] []  has been extracted at iteration  1\n",
      "['brew@csail.mit.edu'] []  has been extracted at iteration  1\n"
     ]
    },
    {
     "name": "stderr",
     "output_type": "stream",
     "text": [
      "C:\\Users\\Hamza\\AppData\\Local\\Temp\\ipykernel_11596\\2871599656.py:26: FutureWarning: The frame.append method is deprecated and will be removed from pandas in a future version. Use pandas.concat instead.\n",
      "  df = df.append({'Email': email_current, 'Phone_number': phone_number_current}, ignore_index=True)\n",
      "C:\\Users\\Hamza\\AppData\\Local\\Temp\\ipykernel_11596\\2871599656.py:26: FutureWarning: The frame.append method is deprecated and will be removed from pandas in a future version. Use pandas.concat instead.\n",
      "  df = df.append({'Email': email_current, 'Phone_number': phone_number_current}, ignore_index=True)\n",
      "C:\\Users\\Hamza\\AppData\\Local\\Temp\\ipykernel_11596\\2871599656.py:26: FutureWarning: The frame.append method is deprecated and will be removed from pandas in a future version. Use pandas.concat instead.\n",
      "  df = df.append({'Email': email_current, 'Phone_number': phone_number_current}, ignore_index=True)\n"
     ]
    },
    {
     "name": "stdout",
     "output_type": "stream",
     "text": [
      "['nibr@mit.edu'] []  has been extracted at iteration  1\n",
      "['tbroderick@csail.mit.edu'] ['324-6749']  has been extracted at iteration  1\n",
      "['bronars@mit.edu'] []  has been extracted at iteration  1\n"
     ]
    },
    {
     "name": "stderr",
     "output_type": "stream",
     "text": [
      "C:\\Users\\Hamza\\AppData\\Local\\Temp\\ipykernel_11596\\2871599656.py:26: FutureWarning: The frame.append method is deprecated and will be removed from pandas in a future version. Use pandas.concat instead.\n",
      "  df = df.append({'Email': email_current, 'Phone_number': phone_number_current}, ignore_index=True)\n",
      "C:\\Users\\Hamza\\AppData\\Local\\Temp\\ipykernel_11596\\2871599656.py:26: FutureWarning: The frame.append method is deprecated and will be removed from pandas in a future version. Use pandas.concat instead.\n",
      "  df = df.append({'Email': email_current, 'Phone_number': phone_number_current}, ignore_index=True)\n",
      "C:\\Users\\Hamza\\AppData\\Local\\Temp\\ipykernel_11596\\2871599656.py:26: FutureWarning: The frame.append method is deprecated and will be removed from pandas in a future version. Use pandas.concat instead.\n",
      "  df = df.append({'Email': email_current, 'Phone_number': phone_number_current}, ignore_index=True)\n"
     ]
    },
    {
     "name": "stdout",
     "output_type": "stream",
     "text": [
      "['brooks@csail.mit.edu'] []  has been extracted at iteration  1\n",
      "['brunnerj@mit.edu'] []  has been extracted at iteration  1\n",
      "['nbuckman@mit.edu'] []  has been extracted at iteration  1\n"
     ]
    },
    {
     "name": "stderr",
     "output_type": "stream",
     "text": [
      "C:\\Users\\Hamza\\AppData\\Local\\Temp\\ipykernel_11596\\2871599656.py:26: FutureWarning: The frame.append method is deprecated and will be removed from pandas in a future version. Use pandas.concat instead.\n",
      "  df = df.append({'Email': email_current, 'Phone_number': phone_number_current}, ignore_index=True)\n",
      "C:\\Users\\Hamza\\AppData\\Local\\Temp\\ipykernel_11596\\2871599656.py:26: FutureWarning: The frame.append method is deprecated and will be removed from pandas in a future version. Use pandas.concat instead.\n",
      "  df = df.append({'Email': email_current, 'Phone_number': phone_number_current}, ignore_index=True)\n",
      "C:\\Users\\Hamza\\AppData\\Local\\Temp\\ipykernel_11596\\2871599656.py:26: FutureWarning: The frame.append method is deprecated and will be removed from pandas in a future version. Use pandas.concat instead.\n",
      "  df = df.append({'Email': email_current, 'Phone_number': phone_number_current}, ignore_index=True)\n"
     ]
    },
    {
     "name": "stdout",
     "output_type": "stream",
     "text": [
      "['jbuckwal@csail.mit.edu'] []  has been extracted at iteration  1\n",
      "['mburgjr@csail.mit.edu'] []  has been extracted at iteration  1\n",
      "['vbutoi@mit.edu'] []  has been extracted at iteration  1\n"
     ]
    },
    {
     "name": "stderr",
     "output_type": "stream",
     "text": [
      "C:\\Users\\Hamza\\AppData\\Local\\Temp\\ipykernel_11596\\2871599656.py:26: FutureWarning: The frame.append method is deprecated and will be removed from pandas in a future version. Use pandas.concat instead.\n",
      "  df = df.append({'Email': email_current, 'Phone_number': phone_number_current}, ignore_index=True)\n",
      "C:\\Users\\Hamza\\AppData\\Local\\Temp\\ipykernel_11596\\2871599656.py:26: FutureWarning: The frame.append method is deprecated and will be removed from pandas in a future version. Use pandas.concat instead.\n",
      "  df = df.append({'Email': email_current, 'Phone_number': phone_number_current}, ignore_index=True)\n",
      "C:\\Users\\Hamza\\AppData\\Local\\Temp\\ipykernel_11596\\2871599656.py:26: FutureWarning: The frame.append method is deprecated and will be removed from pandas in a future version. Use pandas.concat instead.\n",
      "  df = df.append({'Email': email_current, 'Phone_number': phone_number_current}, ignore_index=True)\n"
     ]
    },
    {
     "name": "stdout",
     "output_type": "stream",
     "text": [
      "['michjc@csail.mit.edu'] []  has been extracted at iteration  1\n",
      "['FCAI@csail.mit.edu'] []  has been extracted at iteration  1\n"
     ]
    },
    {
     "name": "stderr",
     "output_type": "stream",
     "text": [
      "C:\\Users\\Hamza\\AppData\\Local\\Temp\\ipykernel_11596\\2871599656.py:26: FutureWarning: The frame.append method is deprecated and will be removed from pandas in a future version. Use pandas.concat instead.\n",
      "  df = df.append({'Email': email_current, 'Phone_number': phone_number_current}, ignore_index=True)\n",
      "C:\\Users\\Hamza\\AppData\\Local\\Temp\\ipykernel_11596\\2871599656.py:26: FutureWarning: The frame.append method is deprecated and will be removed from pandas in a future version. Use pandas.concat instead.\n",
      "  df = df.append({'Email': email_current, 'Phone_number': phone_number_current}, ignore_index=True)\n"
     ]
    },
    {
     "name": "stdout",
     "output_type": "stream",
     "text": [
      "['cail@mit.edu'] []  has been extracted at iteration  1\n",
      "['rcalef@csail.mit.edu'] []  has been extracted at iteration  1\n",
      "['jlucas16@mit.edu'] []  has been extracted at iteration  1\n"
     ]
    },
    {
     "name": "stderr",
     "output_type": "stream",
     "text": [
      "C:\\Users\\Hamza\\AppData\\Local\\Temp\\ipykernel_11596\\2871599656.py:26: FutureWarning: The frame.append method is deprecated and will be removed from pandas in a future version. Use pandas.concat instead.\n",
      "  df = df.append({'Email': email_current, 'Phone_number': phone_number_current}, ignore_index=True)\n",
      "C:\\Users\\Hamza\\AppData\\Local\\Temp\\ipykernel_11596\\2871599656.py:26: FutureWarning: The frame.append method is deprecated and will be removed from pandas in a future version. Use pandas.concat instead.\n",
      "  df = df.append({'Email': email_current, 'Phone_number': phone_number_current}, ignore_index=True)\n",
      "C:\\Users\\Hamza\\AppData\\Local\\Temp\\ipykernel_11596\\2871599656.py:26: FutureWarning: The frame.append method is deprecated and will be removed from pandas in a future version. Use pandas.concat instead.\n",
      "  df = df.append({'Email': email_current, 'Phone_number': phone_number_current}, ignore_index=True)\n"
     ]
    },
    {
     "name": "stdout",
     "output_type": "stream",
     "text": [
      "['spruce@mit.edu'] []  has been extracted at iteration  1\n",
      "['frankc@mit.edu'] []  has been extracted at iteration  1\n",
      "['tomascr@mit.edu'] []  has been extracted at iteration  1\n"
     ]
    },
    {
     "name": "stderr",
     "output_type": "stream",
     "text": [
      "C:\\Users\\Hamza\\AppData\\Local\\Temp\\ipykernel_11596\\2871599656.py:26: FutureWarning: The frame.append method is deprecated and will be removed from pandas in a future version. Use pandas.concat instead.\n",
      "  df = df.append({'Email': email_current, 'Phone_number': phone_number_current}, ignore_index=True)\n",
      "C:\\Users\\Hamza\\AppData\\Local\\Temp\\ipykernel_11596\\2871599656.py:26: FutureWarning: The frame.append method is deprecated and will be removed from pandas in a future version. Use pandas.concat instead.\n",
      "  df = df.append({'Email': email_current, 'Phone_number': phone_number_current}, ignore_index=True)\n",
      "C:\\Users\\Hamza\\AppData\\Local\\Temp\\ipykernel_11596\\2871599656.py:26: FutureWarning: The frame.append method is deprecated and will be removed from pandas in a future version. Use pandas.concat instead.\n",
      "  df = df.append({'Email': email_current, 'Phone_number': phone_number_current}, ignore_index=True)\n"
     ]
    },
    {
     "name": "stdout",
     "output_type": "stream",
     "text": [
      "['jingcao@mit.edu'] []  has been extracted at iteration  1\n",
      "['pengcao@csail.mit.edu'] []  has been extracted at iteration  1\n",
      "['ymcao@mit.edu'] []  has been extracted at iteration  1\n",
      "['caragay@mit.edu'] []  has been extracted at iteration  1"
     ]
    },
    {
     "name": "stderr",
     "output_type": "stream",
     "text": [
      "C:\\Users\\Hamza\\AppData\\Local\\Temp\\ipykernel_11596\\2871599656.py:26: FutureWarning: The frame.append method is deprecated and will be removed from pandas in a future version. Use pandas.concat instead.\n",
      "  df = df.append({'Email': email_current, 'Phone_number': phone_number_current}, ignore_index=True)\n",
      "C:\\Users\\Hamza\\AppData\\Local\\Temp\\ipykernel_11596\\2871599656.py:26: FutureWarning: The frame.append method is deprecated and will be removed from pandas in a future version. Use pandas.concat instead.\n",
      "  df = df.append({'Email': email_current, 'Phone_number': phone_number_current}, ignore_index=True)\n",
      "C:\\Users\\Hamza\\AppData\\Local\\Temp\\ipykernel_11596\\2871599656.py:26: FutureWarning: The frame.append method is deprecated and will be removed from pandas in a future version. Use pandas.concat instead.\n",
      "  df = df.append({'Email': email_current, 'Phone_number': phone_number_current}, ignore_index=True)\n",
      "C:\\Users\\Hamza\\AppData\\Local\\Temp\\ipykernel_11596\\2871599656.py:26: FutureWarning: The frame.append method is deprecated and will be removed from pandas in a future version. Use pandas.concat instead.\n",
      "  df = df.append({'Email': email_current, 'Phone_number': phone_number_current}, ignore_index=True)\n"
     ]
    },
    {
     "name": "stdout",
     "output_type": "stream",
     "text": [
      "\n",
      "['mcarbin@csail.mit.edu'] ['253-5881']  has been extracted at iteration  1\n",
      "['Lcarlone@mit.edu'] []  has been extracted at iteration  1\n"
     ]
    },
    {
     "name": "stderr",
     "output_type": "stream",
     "text": [
      "C:\\Users\\Hamza\\AppData\\Local\\Temp\\ipykernel_11596\\2871599656.py:26: FutureWarning: The frame.append method is deprecated and will be removed from pandas in a future version. Use pandas.concat instead.\n",
      "  df = df.append({'Email': email_current, 'Phone_number': phone_number_current}, ignore_index=True)\n",
      "C:\\Users\\Hamza\\AppData\\Local\\Temp\\ipykernel_11596\\2871599656.py:26: FutureWarning: The frame.append method is deprecated and will be removed from pandas in a future version. Use pandas.concat instead.\n",
      "  df = df.append({'Email': email_current, 'Phone_number': phone_number_current}, ignore_index=True)\n",
      "C:\\Users\\Hamza\\AppData\\Local\\Temp\\ipykernel_11596\\2871599656.py:26: FutureWarning: The frame.append method is deprecated and will be removed from pandas in a future version. Use pandas.concat instead.\n",
      "  df = df.append({'Email': email_current, 'Phone_number': phone_number_current}, ignore_index=True)\n"
     ]
    },
    {
     "name": "stdout",
     "output_type": "stream",
     "text": [
      "['bcarter@csail.mit.edu'] []  has been extracted at iteration  1\n",
      "['rcastro@mit.edu'] []  has been extracted at iteration  1\n",
      "['gcaz@mit.edu'] []  has been extracted at iteration  1\n"
     ]
    },
    {
     "name": "stderr",
     "output_type": "stream",
     "text": [
      "C:\\Users\\Hamza\\AppData\\Local\\Temp\\ipykernel_11596\\2871599656.py:26: FutureWarning: The frame.append method is deprecated and will be removed from pandas in a future version. Use pandas.concat instead.\n",
      "  df = df.append({'Email': email_current, 'Phone_number': phone_number_current}, ignore_index=True)\n",
      "C:\\Users\\Hamza\\AppData\\Local\\Temp\\ipykernel_11596\\2871599656.py:26: FutureWarning: The frame.append method is deprecated and will be removed from pandas in a future version. Use pandas.concat instead.\n",
      "  df = df.append({'Email': email_current, 'Phone_number': phone_number_current}, ignore_index=True)\n",
      "C:\\Users\\Hamza\\AppData\\Local\\Temp\\ipykernel_11596\\2871599656.py:26: FutureWarning: The frame.append method is deprecated and will be removed from pandas in a future version. Use pandas.concat instead.\n",
      "  df = df.append({'Email': email_current, 'Phone_number': phone_number_current}, ignore_index=True)\n"
     ]
    },
    {
     "name": "stdout",
     "output_type": "stream",
     "text": [
      "['shcen@mit.edu'] []  has been extracted at iteration  1\n",
      "['SCERON@mit.edu'] []  has been extracted at iteration  1\n",
      "['echabane@mit.edu'] []  has been extracted at iteration  1\n"
     ]
    },
    {
     "name": "stderr",
     "output_type": "stream",
     "text": [
      "C:\\Users\\Hamza\\AppData\\Local\\Temp\\ipykernel_11596\\2871599656.py:26: FutureWarning: The frame.append method is deprecated and will be removed from pandas in a future version. Use pandas.concat instead.\n",
      "  df = df.append({'Email': email_current, 'Phone_number': phone_number_current}, ignore_index=True)\n",
      "C:\\Users\\Hamza\\AppData\\Local\\Temp\\ipykernel_11596\\2871599656.py:26: FutureWarning: The frame.append method is deprecated and will be removed from pandas in a future version. Use pandas.concat instead.\n",
      "  df = df.append({'Email': email_current, 'Phone_number': phone_number_current}, ignore_index=True)\n",
      "C:\\Users\\Hamza\\AppData\\Local\\Temp\\ipykernel_11596\\2871599656.py:26: FutureWarning: The frame.append method is deprecated and will be removed from pandas in a future version. Use pandas.concat instead.\n",
      "  df = df.append({'Email': email_current, 'Phone_number': phone_number_current}, ignore_index=True)\n"
     ]
    },
    {
     "name": "stdout",
     "output_type": "stream",
     "text": [
      "['CHAENAYO@csail.mit.edu'] []  has been extracted at iteration  1\n",
      "['chahine@mit.edu'] []  has been extracted at iteration  1\n",
      "['lrchai@mit.edu'] []  has been extracted at iteration  1\n"
     ]
    },
    {
     "name": "stderr",
     "output_type": "stream",
     "text": [
      "C:\\Users\\Hamza\\AppData\\Local\\Temp\\ipykernel_11596\\2871599656.py:26: FutureWarning: The frame.append method is deprecated and will be removed from pandas in a future version. Use pandas.concat instead.\n",
      "  df = df.append({'Email': email_current, 'Phone_number': phone_number_current}, ignore_index=True)\n",
      "C:\\Users\\Hamza\\AppData\\Local\\Temp\\ipykernel_11596\\2871599656.py:26: FutureWarning: The frame.append method is deprecated and will be removed from pandas in a future version. Use pandas.concat instead.\n",
      "  df = df.append({'Email': email_current, 'Phone_number': phone_number_current}, ignore_index=True)\n",
      "C:\\Users\\Hamza\\AppData\\Local\\Temp\\ipykernel_11596\\2871599656.py:26: FutureWarning: The frame.append method is deprecated and will be removed from pandas in a future version. Use pandas.concat instead.\n",
      "  df = df.append({'Email': email_current, 'Phone_number': phone_number_current}, ignore_index=True)\n"
     ]
    },
    {
     "name": "stdout",
     "output_type": "stream",
     "text": [
      "['harshalc@csail.mit.edu'] []  has been extracted at iteration  1\n",
      "['ADELENE@csail.mit.edu'] []  has been extracted at iteration  1\n",
      "['cmchan@mit.edu'] []  has been extracted at iteration  1\n"
     ]
    },
    {
     "name": "stderr",
     "output_type": "stream",
     "text": [
      "C:\\Users\\Hamza\\AppData\\Local\\Temp\\ipykernel_11596\\2871599656.py:26: FutureWarning: The frame.append method is deprecated and will be removed from pandas in a future version. Use pandas.concat instead.\n",
      "  df = df.append({'Email': email_current, 'Phone_number': phone_number_current}, ignore_index=True)\n",
      "C:\\Users\\Hamza\\AppData\\Local\\Temp\\ipykernel_11596\\2871599656.py:26: FutureWarning: The frame.append method is deprecated and will be removed from pandas in a future version. Use pandas.concat instead.\n",
      "  df = df.append({'Email': email_current, 'Phone_number': phone_number_current}, ignore_index=True)\n",
      "C:\\Users\\Hamza\\AppData\\Local\\Temp\\ipykernel_11596\\2871599656.py:26: FutureWarning: The frame.append method is deprecated and will be removed from pandas in a future version. Use pandas.concat instead.\n",
      "  df = df.append({'Email': email_current, 'Phone_number': phone_number_current}, ignore_index=True)\n"
     ]
    },
    {
     "name": "stdout",
     "output_type": "stream",
     "text": [
      "['martinch@mit.edu'] []  has been extracted at iteration  1\n",
      "['jchand@csail.mit.edu'] []  has been extracted at iteration  1\n",
      "['kach@mit.edu'] []  has been extracted at iteration  1\n"
     ]
    },
    {
     "name": "stderr",
     "output_type": "stream",
     "text": [
      "C:\\Users\\Hamza\\AppData\\Local\\Temp\\ipykernel_11596\\2871599656.py:26: FutureWarning: The frame.append method is deprecated and will be removed from pandas in a future version. Use pandas.concat instead.\n",
      "  df = df.append({'Email': email_current, 'Phone_number': phone_number_current}, ignore_index=True)\n",
      "C:\\Users\\Hamza\\AppData\\Local\\Temp\\ipykernel_11596\\2871599656.py:26: FutureWarning: The frame.append method is deprecated and will be removed from pandas in a future version. Use pandas.concat instead.\n",
      "  df = df.append({'Email': email_current, 'Phone_number': phone_number_current}, ignore_index=True)\n",
      "C:\\Users\\Hamza\\AppData\\Local\\Temp\\ipykernel_11596\\2871599656.py:26: FutureWarning: The frame.append method is deprecated and will be removed from pandas in a future version. Use pandas.concat instead.\n",
      "  df = df.append({'Email': email_current, 'Phone_number': phone_number_current}, ignore_index=True)\n"
     ]
    },
    {
     "name": "stdout",
     "output_type": "stream",
     "text": [
      "['deanofengineering@mit.edu'] []  has been extracted at iteration  1\n",
      "['chandratreya@csail.mit.edu'] []  has been extracted at iteration  1\n",
      "['cwchang@mit.edu'] []  has been extracted at iteration  1\n"
     ]
    },
    {
     "name": "stderr",
     "output_type": "stream",
     "text": [
      "C:\\Users\\Hamza\\AppData\\Local\\Temp\\ipykernel_11596\\2871599656.py:26: FutureWarning: The frame.append method is deprecated and will be removed from pandas in a future version. Use pandas.concat instead.\n",
      "  df = df.append({'Email': email_current, 'Phone_number': phone_number_current}, ignore_index=True)\n",
      "C:\\Users\\Hamza\\AppData\\Local\\Temp\\ipykernel_11596\\2871599656.py:26: FutureWarning: The frame.append method is deprecated and will be removed from pandas in a future version. Use pandas.concat instead.\n",
      "  df = df.append({'Email': email_current, 'Phone_number': phone_number_current}, ignore_index=True)\n",
      "C:\\Users\\Hamza\\AppData\\Local\\Temp\\ipykernel_11596\\2871599656.py:26: FutureWarning: The frame.append method is deprecated and will be removed from pandas in a future version. Use pandas.concat instead.\n",
      "  df = df.append({'Email': email_current, 'Phone_number': phone_number_current}, ignore_index=True)\n"
     ]
    },
    {
     "name": "stdout",
     "output_type": "stream",
     "text": [
      "['ckchang@mit.edu'] []  has been extracted at iteration  1\n",
      "['hengjui@mit.edu'] []  has been extracted at iteration  1\n",
      "['rychang@csail.mit.edu'] []  has been extracted at iteration  1\n"
     ]
    },
    {
     "name": "stderr",
     "output_type": "stream",
     "text": [
      "C:\\Users\\Hamza\\AppData\\Local\\Temp\\ipykernel_11596\\2871599656.py:26: FutureWarning: The frame.append method is deprecated and will be removed from pandas in a future version. Use pandas.concat instead.\n",
      "  df = df.append({'Email': email_current, 'Phone_number': phone_number_current}, ignore_index=True)\n",
      "C:\\Users\\Hamza\\AppData\\Local\\Temp\\ipykernel_11596\\2871599656.py:26: FutureWarning: The frame.append method is deprecated and will be removed from pandas in a future version. Use pandas.concat instead.\n",
      "  df = df.append({'Email': email_current, 'Phone_number': phone_number_current}, ignore_index=True)\n",
      "C:\\Users\\Hamza\\AppData\\Local\\Temp\\ipykernel_11596\\2871599656.py:26: FutureWarning: The frame.append method is deprecated and will be removed from pandas in a future version. Use pandas.concat instead.\n",
      "  df = df.append({'Email': email_current, 'Phone_number': phone_number_current}, ignore_index=True)\n"
     ]
    },
    {
     "name": "stdout",
     "output_type": "stream",
     "text": [
      "['yschang@mit.edu'] []  has been extracted at iteration  1\n",
      "['alecchap@mit.edu'] []  has been extracted at iteration  1\n",
      "['charatan@mit.edu'] []  has been extracted at iteration  1\n"
     ]
    },
    {
     "name": "stderr",
     "output_type": "stream",
     "text": [
      "C:\\Users\\Hamza\\AppData\\Local\\Temp\\ipykernel_11596\\2871599656.py:26: FutureWarning: The frame.append method is deprecated and will be removed from pandas in a future version. Use pandas.concat instead.\n",
      "  df = df.append({'Email': email_current, 'Phone_number': phone_number_current}, ignore_index=True)\n",
      "C:\\Users\\Hamza\\AppData\\Local\\Temp\\ipykernel_11596\\2871599656.py:26: FutureWarning: The frame.append method is deprecated and will be removed from pandas in a future version. Use pandas.concat instead.\n",
      "  df = df.append({'Email': email_current, 'Phone_number': phone_number_current}, ignore_index=True)\n",
      "C:\\Users\\Hamza\\AppData\\Local\\Temp\\ipykernel_11596\\2871599656.py:26: FutureWarning: The frame.append method is deprecated and will be removed from pandas in a future version. Use pandas.concat instead.\n",
      "  df = df.append({'Email': email_current, 'Phone_number': phone_number_current}, ignore_index=True)\n"
     ]
    },
    {
     "name": "stdout",
     "output_type": "stream",
     "text": [
      "['echau@mit.edu'] []  has been extracted at iteration  1\n",
      "['geeticka@mit.edu'] []  has been extracted at iteration  1\n",
      "['anbochen@mit.edu'] []  has been extracted at iteration  1\n"
     ]
    },
    {
     "name": "stderr",
     "output_type": "stream",
     "text": [
      "C:\\Users\\Hamza\\AppData\\Local\\Temp\\ipykernel_11596\\2871599656.py:26: FutureWarning: The frame.append method is deprecated and will be removed from pandas in a future version. Use pandas.concat instead.\n",
      "  df = df.append({'Email': email_current, 'Phone_number': phone_number_current}, ignore_index=True)\n",
      "C:\\Users\\Hamza\\AppData\\Local\\Temp\\ipykernel_11596\\2871599656.py:26: FutureWarning: The frame.append method is deprecated and will be removed from pandas in a future version. Use pandas.concat instead.\n",
      "  df = df.append({'Email': email_current, 'Phone_number': phone_number_current}, ignore_index=True)\n",
      "C:\\Users\\Hamza\\AppData\\Local\\Temp\\ipykernel_11596\\2871599656.py:26: FutureWarning: The frame.append method is deprecated and will be removed from pandas in a future version. Use pandas.concat instead.\n",
      "  df = df.append({'Email': email_current, 'Phone_number': phone_number_current}, ignore_index=True)\n"
     ]
    },
    {
     "name": "stdout",
     "output_type": "stream",
     "text": [
      "['boyuanc@mit.edu'] []  has been extracted at iteration  1\n",
      "['emichen@mit.edu'] []  has been extracted at iteration  1\n",
      "['ERIC25@csail.mit.edu'] []  has been extracted at iteration  1\n"
     ]
    },
    {
     "name": "stderr",
     "output_type": "stream",
     "text": [
      "C:\\Users\\Hamza\\AppData\\Local\\Temp\\ipykernel_11596\\2871599656.py:26: FutureWarning: The frame.append method is deprecated and will be removed from pandas in a future version. Use pandas.concat instead.\n",
      "  df = df.append({'Email': email_current, 'Phone_number': phone_number_current}, ignore_index=True)\n",
      "C:\\Users\\Hamza\\AppData\\Local\\Temp\\ipykernel_11596\\2871599656.py:26: FutureWarning: The frame.append method is deprecated and will be removed from pandas in a future version. Use pandas.concat instead.\n",
      "  df = df.append({'Email': email_current, 'Phone_number': phone_number_current}, ignore_index=True)\n",
      "C:\\Users\\Hamza\\AppData\\Local\\Temp\\ipykernel_11596\\2871599656.py:26: FutureWarning: The frame.append method is deprecated and will be removed from pandas in a future version. Use pandas.concat instead.\n",
      "  df = df.append({'Email': email_current, 'Phone_number': phone_number_current}, ignore_index=True)\n"
     ]
    },
    {
     "name": "stdout",
     "output_type": "stream",
     "text": [
      "['jackyc@mit.edu'] []  has been extracted at iteration  1\n",
      "['ceff@mit.edu'] []  has been extracted at iteration  1\n"
     ]
    },
    {
     "name": "stderr",
     "output_type": "stream",
     "text": [
      "C:\\Users\\Hamza\\AppData\\Local\\Temp\\ipykernel_11596\\2871599656.py:26: FutureWarning: The frame.append method is deprecated and will be removed from pandas in a future version. Use pandas.concat instead.\n",
      "  df = df.append({'Email': email_current, 'Phone_number': phone_number_current}, ignore_index=True)\n",
      "C:\\Users\\Hamza\\AppData\\Local\\Temp\\ipykernel_11596\\2871599656.py:26: FutureWarning: The frame.append method is deprecated and will be removed from pandas in a future version. Use pandas.concat instead.\n",
      "  df = df.append({'Email': email_current, 'Phone_number': phone_number_current}, ignore_index=True)\n",
      "C:\\Users\\Hamza\\AppData\\Local\\Temp\\ipykernel_11596\\2871599656.py:26: FutureWarning: The frame.append method is deprecated and will be removed from pandas in a future version. Use pandas.concat instead.\n",
      "  df = df.append({'Email': email_current, 'Phone_number': phone_number_current}, ignore_index=True)\n"
     ]
    },
    {
     "name": "stdout",
     "output_type": "stream",
     "text": [
      "['justc@mit.edu'] []  has been extracted at iteration  1\n",
      "['chenl9@mit.edu'] []  has been extracted at iteration  1\n",
      "['l1ly@mit.edu'] []  has been extracted at iteration  1\n",
      "['peterbc@mit.edu'] []  has been extracted at iteration  1\n"
     ]
    },
    {
     "name": "stderr",
     "output_type": "stream",
     "text": [
      "C:\\Users\\Hamza\\AppData\\Local\\Temp\\ipykernel_11596\\2871599656.py:26: FutureWarning: The frame.append method is deprecated and will be removed from pandas in a future version. Use pandas.concat instead.\n",
      "  df = df.append({'Email': email_current, 'Phone_number': phone_number_current}, ignore_index=True)\n",
      "C:\\Users\\Hamza\\AppData\\Local\\Temp\\ipykernel_11596\\2871599656.py:26: FutureWarning: The frame.append method is deprecated and will be removed from pandas in a future version. Use pandas.concat instead.\n",
      "  df = df.append({'Email': email_current, 'Phone_number': phone_number_current}, ignore_index=True)\n",
      "C:\\Users\\Hamza\\AppData\\Local\\Temp\\ipykernel_11596\\2871599656.py:26: FutureWarning: The frame.append method is deprecated and will be removed from pandas in a future version. Use pandas.concat instead.\n",
      "  df = df.append({'Email': email_current, 'Phone_number': phone_number_current}, ignore_index=True)\n"
     ]
    },
    {
     "name": "stdout",
     "output_type": "stream",
     "text": [
      "['pyc@csail.mit.edu'] []  has been extracted at iteration  1\n",
      "['CHENQH23@csail.mit.edu'] []  has been extracted at iteration  1\n",
      "['RICHEN@csail.mit.edu'] []  has been extracted at iteration  1\n"
     ]
    },
    {
     "name": "stderr",
     "output_type": "stream",
     "text": [
      "C:\\Users\\Hamza\\AppData\\Local\\Temp\\ipykernel_11596\\2871599656.py:26: FutureWarning: The frame.append method is deprecated and will be removed from pandas in a future version. Use pandas.concat instead.\n",
      "  df = df.append({'Email': email_current, 'Phone_number': phone_number_current}, ignore_index=True)\n",
      "C:\\Users\\Hamza\\AppData\\Local\\Temp\\ipykernel_11596\\2871599656.py:26: FutureWarning: The frame.append method is deprecated and will be removed from pandas in a future version. Use pandas.concat instead.\n",
      "  df = df.append({'Email': email_current, 'Phone_number': phone_number_current}, ignore_index=True)\n",
      "C:\\Users\\Hamza\\AppData\\Local\\Temp\\ipykernel_11596\\2871599656.py:26: FutureWarning: The frame.append method is deprecated and will be removed from pandas in a future version. Use pandas.concat instead.\n",
      "  df = df.append({'Email': email_current, 'Phone_number': phone_number_current}, ignore_index=True)\n"
     ]
    },
    {
     "name": "stdout",
     "output_type": "stream",
     "text": [
      "['taochen@mit.edu'] []  has been extracted at iteration  1\n",
      "['tianlong@csail.mit.edu'] []  has been extracted at iteration  1\n",
      "['ychen306@mit.edu'] []  has been extracted at iteration  1\n"
     ]
    },
    {
     "name": "stderr",
     "output_type": "stream",
     "text": [
      "C:\\Users\\Hamza\\AppData\\Local\\Temp\\ipykernel_11596\\2871599656.py:26: FutureWarning: The frame.append method is deprecated and will be removed from pandas in a future version. Use pandas.concat instead.\n",
      "  df = df.append({'Email': email_current, 'Phone_number': phone_number_current}, ignore_index=True)\n",
      "C:\\Users\\Hamza\\AppData\\Local\\Temp\\ipykernel_11596\\2871599656.py:26: FutureWarning: The frame.append method is deprecated and will be removed from pandas in a future version. Use pandas.concat instead.\n",
      "  df = df.append({'Email': email_current, 'Phone_number': phone_number_current}, ignore_index=True)\n",
      "C:\\Users\\Hamza\\AppData\\Local\\Temp\\ipykernel_11596\\2871599656.py:26: FutureWarning: The frame.append method is deprecated and will be removed from pandas in a future version. Use pandas.concat instead.\n",
      "  df = df.append({'Email': email_current, 'Phone_number': phone_number_current}, ignore_index=True)\n"
     ]
    },
    {
     "name": "stdout",
     "output_type": "stream",
     "text": [
      "['vkchen@mit.edu'] []  has been extracted at iteration  1\n",
      "['wenqiang@mit.edu'] []  has been extracted at iteration  1\n",
      "['cxh@mit.edu'] []  has been extracted at iteration  1\n"
     ]
    },
    {
     "name": "stderr",
     "output_type": "stream",
     "text": [
      "C:\\Users\\Hamza\\AppData\\Local\\Temp\\ipykernel_11596\\2871599656.py:26: FutureWarning: The frame.append method is deprecated and will be removed from pandas in a future version. Use pandas.concat instead.\n",
      "  df = df.append({'Email': email_current, 'Phone_number': phone_number_current}, ignore_index=True)\n",
      "C:\\Users\\Hamza\\AppData\\Local\\Temp\\ipykernel_11596\\2871599656.py:26: FutureWarning: The frame.append method is deprecated and will be removed from pandas in a future version. Use pandas.concat instead.\n",
      "  df = df.append({'Email': email_current, 'Phone_number': phone_number_current}, ignore_index=True)\n",
      "C:\\Users\\Hamza\\AppData\\Local\\Temp\\ipykernel_11596\\2871599656.py:26: FutureWarning: The frame.append method is deprecated and will be removed from pandas in a future version. Use pandas.concat instead.\n",
      "  df = df.append({'Email': email_current, 'Phone_number': phone_number_current}, ignore_index=True)\n"
     ]
    },
    {
     "name": "stdout",
     "output_type": "stream",
     "text": [
      "['cyzzz@mit.edu'] []  has been extracted at iteration  1\n",
      "['ellieyhc@mit.edu'] []  has been extracted at iteration  1\n",
      "['nadiia@mit.edu'] []  has been extracted at iteration  1\n"
     ]
    },
    {
     "name": "stderr",
     "output_type": "stream",
     "text": [
      "C:\\Users\\Hamza\\AppData\\Local\\Temp\\ipykernel_11596\\2871599656.py:26: FutureWarning: The frame.append method is deprecated and will be removed from pandas in a future version. Use pandas.concat instead.\n",
      "  df = df.append({'Email': email_current, 'Phone_number': phone_number_current}, ignore_index=True)\n",
      "C:\\Users\\Hamza\\AppData\\Local\\Temp\\ipykernel_11596\\2871599656.py:26: FutureWarning: The frame.append method is deprecated and will be removed from pandas in a future version. Use pandas.concat instead.\n",
      "  df = df.append({'Email': email_current, 'Phone_number': phone_number_current}, ignore_index=True)\n",
      "C:\\Users\\Hamza\\AppData\\Local\\Temp\\ipykernel_11596\\2871599656.py:26: FutureWarning: The frame.append method is deprecated and will be removed from pandas in a future version. Use pandas.concat instead.\n",
      "  df = df.append({'Email': email_current, 'Phone_number': phone_number_current}, ignore_index=True)\n"
     ]
    },
    {
     "name": "stdout",
     "output_type": "stream",
     "text": [
      "['YC@csail.mit.edu'] []  has been extracted at iteration  1\n",
      "['dchheda@mit.edu'] []  has been extracted at iteration  1\n",
      "['AACHIN@csail.mit.edu'] []  has been extracted at iteration  1\n",
      "['ltchin@mit.edu'] []  has been extracted at iteration  1\n"
     ]
    },
    {
     "name": "stderr",
     "output_type": "stream",
     "text": [
      "C:\\Users\\Hamza\\AppData\\Local\\Temp\\ipykernel_11596\\2871599656.py:26: FutureWarning: The frame.append method is deprecated and will be removed from pandas in a future version. Use pandas.concat instead.\n",
      "  df = df.append({'Email': email_current, 'Phone_number': phone_number_current}, ignore_index=True)\n",
      "C:\\Users\\Hamza\\AppData\\Local\\Temp\\ipykernel_11596\\2871599656.py:26: FutureWarning: The frame.append method is deprecated and will be removed from pandas in a future version. Use pandas.concat instead.\n",
      "  df = df.append({'Email': email_current, 'Phone_number': phone_number_current}, ignore_index=True)\n",
      "C:\\Users\\Hamza\\AppData\\Local\\Temp\\ipykernel_11596\\2871599656.py:26: FutureWarning: The frame.append method is deprecated and will be removed from pandas in a future version. Use pandas.concat instead.\n",
      "  df = df.append({'Email': email_current, 'Phone_number': phone_number_current}, ignore_index=True)\n"
     ]
    },
    {
     "name": "stdout",
     "output_type": "stream",
     "text": [
      "['itamarc@csail.mit.edu'] []  has been extracted at iteration  1\n",
      "['premc@mit.edu'] []  has been extracted at iteration  1\n",
      "['sahit@mit.edu'] []  has been extracted at iteration  1\n"
     ]
    },
    {
     "name": "stderr",
     "output_type": "stream",
     "text": [
      "C:\\Users\\Hamza\\AppData\\Local\\Temp\\ipykernel_11596\\2871599656.py:26: FutureWarning: The frame.append method is deprecated and will be removed from pandas in a future version. Use pandas.concat instead.\n",
      "  df = df.append({'Email': email_current, 'Phone_number': phone_number_current}, ignore_index=True)\n",
      "C:\\Users\\Hamza\\AppData\\Local\\Temp\\ipykernel_11596\\2871599656.py:26: FutureWarning: The frame.append method is deprecated and will be removed from pandas in a future version. Use pandas.concat instead.\n",
      "  df = df.append({'Email': email_current, 'Phone_number': phone_number_current}, ignore_index=True)\n",
      "C:\\Users\\Hamza\\AppData\\Local\\Temp\\ipykernel_11596\\2871599656.py:26: FutureWarning: The frame.append method is deprecated and will be removed from pandas in a future version. Use pandas.concat instead.\n",
      "  df = df.append({'Email': email_current, 'Phone_number': phone_number_current}, ignore_index=True)\n"
     ]
    },
    {
     "name": "stdout",
     "output_type": "stream",
     "text": [
      "['adamc@csail.mit.edu'] ['324-8439']  has been extracted at iteration  1\n",
      "['inhocho@csail.mit.edu'] []  has been extracted at iteration  1\n",
      "['joonhyuk@mit.edu'] []  has been extracted at iteration  1\n"
     ]
    },
    {
     "name": "stderr",
     "output_type": "stream",
     "text": [
      "C:\\Users\\Hamza\\AppData\\Local\\Temp\\ipykernel_11596\\2871599656.py:26: FutureWarning: The frame.append method is deprecated and will be removed from pandas in a future version. Use pandas.concat instead.\n",
      "  df = df.append({'Email': email_current, 'Phone_number': phone_number_current}, ignore_index=True)\n",
      "C:\\Users\\Hamza\\AppData\\Local\\Temp\\ipykernel_11596\\2871599656.py:26: FutureWarning: The frame.append method is deprecated and will be removed from pandas in a future version. Use pandas.concat instead.\n",
      "  df = df.append({'Email': email_current, 'Phone_number': phone_number_current}, ignore_index=True)\n",
      "C:\\Users\\Hamza\\AppData\\Local\\Temp\\ipykernel_11596\\2871599656.py:26: FutureWarning: The frame.append method is deprecated and will be removed from pandas in a future version. Use pandas.concat instead.\n",
      "  df = df.append({'Email': email_current, 'Phone_number': phone_number_current}, ignore_index=True)\n"
     ]
    },
    {
     "name": "stdout",
     "output_type": "stream",
     "text": [
      "['EUNICEC@csail.mit.edu'] []  has been extracted at iteration  1\n",
      "['choie@csail.mit.edu'] []  has been extracted at iteration  1\n"
     ]
    },
    {
     "name": "stderr",
     "output_type": "stream",
     "text": [
      "C:\\Users\\Hamza\\AppData\\Local\\Temp\\ipykernel_11596\\2871599656.py:26: FutureWarning: The frame.append method is deprecated and will be removed from pandas in a future version. Use pandas.concat instead.\n",
      "  df = df.append({'Email': email_current, 'Phone_number': phone_number_current}, ignore_index=True)\n",
      "C:\\Users\\Hamza\\AppData\\Local\\Temp\\ipykernel_11596\\2871599656.py:26: FutureWarning: The frame.append method is deprecated and will be removed from pandas in a future version. Use pandas.concat instead.\n",
      "  df = df.append({'Email': email_current, 'Phone_number': phone_number_current}, ignore_index=True)\n",
      "C:\\Users\\Hamza\\AppData\\Local\\Temp\\ipykernel_11596\\2871599656.py:26: FutureWarning: The frame.append method is deprecated and will be removed from pandas in a future version. Use pandas.concat instead.\n",
      "  df = df.append({'Email': email_current, 'Phone_number': phone_number_current}, ignore_index=True)\n"
     ]
    },
    {
     "name": "stdout",
     "output_type": "stream",
     "text": [
      "['joonwonc@mit.edu'] []  has been extracted at iteration  1\n",
      "['chemgyu@csail.mit.edu'] []  has been extracted at iteration  1\n",
      "['RANCH0@csail.mit.edu'] []  has been extracted at iteration  1\n",
      "['sukwoong@mit.edu'] []  has been extracted at iteration  1\n"
     ]
    },
    {
     "name": "stderr",
     "output_type": "stream",
     "text": [
      "C:\\Users\\Hamza\\AppData\\Local\\Temp\\ipykernel_11596\\2871599656.py:26: FutureWarning: The frame.append method is deprecated and will be removed from pandas in a future version. Use pandas.concat instead.\n",
      "  df = df.append({'Email': email_current, 'Phone_number': phone_number_current}, ignore_index=True)\n",
      "C:\\Users\\Hamza\\AppData\\Local\\Temp\\ipykernel_11596\\2871599656.py:26: FutureWarning: The frame.append method is deprecated and will be removed from pandas in a future version. Use pandas.concat instead.\n",
      "  df = df.append({'Email': email_current, 'Phone_number': phone_number_current}, ignore_index=True)\n",
      "C:\\Users\\Hamza\\AppData\\Local\\Temp\\ipykernel_11596\\2871599656.py:26: FutureWarning: The frame.append method is deprecated and will be removed from pandas in a future version. Use pandas.concat instead.\n",
      "  df = df.append({'Email': email_current, 'Phone_number': phone_number_current}, ignore_index=True)\n"
     ]
    },
    {
     "name": "stdout",
     "output_type": "stream",
     "text": [
      "['GCHOU@mit.edu'] []  has been extracted at iteration  1\n",
      "['nchow@mit.edu'] []  has been extracted at iteration  1\n",
      "['philljkc@mit.edu'] []  has been extracted at iteration  1\n"
     ]
    },
    {
     "name": "stderr",
     "output_type": "stream",
     "text": [
      "C:\\Users\\Hamza\\AppData\\Local\\Temp\\ipykernel_11596\\2871599656.py:26: FutureWarning: The frame.append method is deprecated and will be removed from pandas in a future version. Use pandas.concat instead.\n",
      "  df = df.append({'Email': email_current, 'Phone_number': phone_number_current}, ignore_index=True)\n",
      "C:\\Users\\Hamza\\AppData\\Local\\Temp\\ipykernel_11596\\2871599656.py:26: FutureWarning: The frame.append method is deprecated and will be removed from pandas in a future version. Use pandas.concat instead.\n",
      "  df = df.append({'Email': email_current, 'Phone_number': phone_number_current}, ignore_index=True)\n",
      "C:\\Users\\Hamza\\AppData\\Local\\Temp\\ipykernel_11596\\2871599656.py:26: FutureWarning: The frame.append method is deprecated and will be removed from pandas in a future version. Use pandas.concat instead.\n",
      "  df = df.append({'Email': email_current, 'Phone_number': phone_number_current}, ignore_index=True)\n"
     ]
    },
    {
     "name": "stdout",
     "output_type": "stream",
     "text": [
      "['jschu99@mit.edu'] []  has been extracted at iteration  1\n",
      "['cychuang@MIT.EDU'] []  has been extracted at iteration  1\n",
      "['yungsung@mit.edu'] [] "
     ]
    },
    {
     "name": "stderr",
     "output_type": "stream",
     "text": [
      "C:\\Users\\Hamza\\AppData\\Local\\Temp\\ipykernel_11596\\2871599656.py:26: FutureWarning: The frame.append method is deprecated and will be removed from pandas in a future version. Use pandas.concat instead.\n",
      "  df = df.append({'Email': email_current, 'Phone_number': phone_number_current}, ignore_index=True)\n",
      "C:\\Users\\Hamza\\AppData\\Local\\Temp\\ipykernel_11596\\2871599656.py:26: FutureWarning: The frame.append method is deprecated and will be removed from pandas in a future version. Use pandas.concat instead.\n",
      "  df = df.append({'Email': email_current, 'Phone_number': phone_number_current}, ignore_index=True)\n",
      "C:\\Users\\Hamza\\AppData\\Local\\Temp\\ipykernel_11596\\2871599656.py:26: FutureWarning: The frame.append method is deprecated and will be removed from pandas in a future version. Use pandas.concat instead.\n",
      "  df = df.append({'Email': email_current, 'Phone_number': phone_number_current}, ignore_index=True)\n"
     ]
    },
    {
     "name": "stdout",
     "output_type": "stream",
     "text": [
      " has been extracted at iteration  1\n",
      "['ikdc@mit.edu'] []  has been extracted at iteration  1\n",
      "['vchuravy@MIT.EDU'] []  has been extracted at iteration  1\n"
     ]
    },
    {
     "name": "stderr",
     "output_type": "stream",
     "text": [
      "C:\\Users\\Hamza\\AppData\\Local\\Temp\\ipykernel_11596\\2871599656.py:26: FutureWarning: The frame.append method is deprecated and will be removed from pandas in a future version. Use pandas.concat instead.\n",
      "  df = df.append({'Email': email_current, 'Phone_number': phone_number_current}, ignore_index=True)\n",
      "C:\\Users\\Hamza\\AppData\\Local\\Temp\\ipykernel_11596\\2871599656.py:26: FutureWarning: The frame.append method is deprecated and will be removed from pandas in a future version. Use pandas.concat instead.\n",
      "  df = df.append({'Email': email_current, 'Phone_number': phone_number_current}, ignore_index=True)\n",
      "C:\\Users\\Hamza\\AppData\\Local\\Temp\\ipykernel_11596\\2871599656.py:26: FutureWarning: The frame.append method is deprecated and will be removed from pandas in a future version. Use pandas.concat instead.\n",
      "  df = df.append({'Email': email_current, 'Phone_number': phone_number_current}, ignore_index=True)\n"
     ]
    },
    {
     "name": "stdout",
     "output_type": "stream",
     "text": [
      "['bcieslar@csail.mit.edu'] []  has been extracted at iteration  1\n",
      "['ddc@csail.mit.edu'] ['253-6003']  has been extracted at iteration  1\n",
      "['bencw@csail.mit.edu'] []  has been extracted at iteration  1\n"
     ]
    },
    {
     "name": "stderr",
     "output_type": "stream",
     "text": [
      "C:\\Users\\Hamza\\AppData\\Local\\Temp\\ipykernel_11596\\2871599656.py:26: FutureWarning: The frame.append method is deprecated and will be removed from pandas in a future version. Use pandas.concat instead.\n",
      "  df = df.append({'Email': email_current, 'Phone_number': phone_number_current}, ignore_index=True)\n",
      "C:\\Users\\Hamza\\AppData\\Local\\Temp\\ipykernel_11596\\2871599656.py:26: FutureWarning: The frame.append method is deprecated and will be removed from pandas in a future version. Use pandas.concat instead.\n",
      "  df = df.append({'Email': email_current, 'Phone_number': phone_number_current}, ignore_index=True)\n"
     ]
    },
    {
     "name": "stdout",
     "output_type": "stream",
     "text": [
      "['tcohn@mit.edu'] []  has been extracted at iteration  1\n",
      "['teoc@MIT.EDU'] []  has been extracted at iteration  1\n",
      "['aidcol@mit.edu'] []  has been extracted at iteration  1\n"
     ]
    },
    {
     "name": "stderr",
     "output_type": "stream",
     "text": [
      "C:\\Users\\Hamza\\AppData\\Local\\Temp\\ipykernel_11596\\2871599656.py:26: FutureWarning: The frame.append method is deprecated and will be removed from pandas in a future version. Use pandas.concat instead.\n",
      "  df = df.append({'Email': email_current, 'Phone_number': phone_number_current}, ignore_index=True)\n",
      "C:\\Users\\Hamza\\AppData\\Local\\Temp\\ipykernel_11596\\2871599656.py:26: FutureWarning: The frame.append method is deprecated and will be removed from pandas in a future version. Use pandas.concat instead.\n",
      "  df = df.append({'Email': email_current, 'Phone_number': phone_number_current}, ignore_index=True)\n",
      "C:\\Users\\Hamza\\AppData\\Local\\Temp\\ipykernel_11596\\2871599656.py:26: FutureWarning: The frame.append method is deprecated and will be removed from pandas in a future version. Use pandas.concat instead.\n",
      "  df = df.append({'Email': email_current, 'Phone_number': phone_number_current}, ignore_index=True)\n"
     ]
    },
    {
     "name": "stdout",
     "output_type": "stream",
     "text": [
      "['cfcon10@mit.edu'] []  has been extracted at iteration  1\n",
      "['owenc@mit.edu'] []  has been extracted at iteration  1\n",
      "['cookj@mit.edu'] []  has been extracted at iteration  1\n"
     ]
    },
    {
     "name": "stderr",
     "output_type": "stream",
     "text": [
      "C:\\Users\\Hamza\\AppData\\Local\\Temp\\ipykernel_11596\\2871599656.py:26: FutureWarning: The frame.append method is deprecated and will be removed from pandas in a future version. Use pandas.concat instead.\n",
      "  df = df.append({'Email': email_current, 'Phone_number': phone_number_current}, ignore_index=True)\n",
      "C:\\Users\\Hamza\\AppData\\Local\\Temp\\ipykernel_11596\\2871599656.py:26: FutureWarning: The frame.append method is deprecated and will be removed from pandas in a future version. Use pandas.concat instead.\n",
      "  df = df.append({'Email': email_current, 'Phone_number': phone_number_current}, ignore_index=True)\n",
      "C:\\Users\\Hamza\\AppData\\Local\\Temp\\ipykernel_11596\\2871599656.py:26: FutureWarning: The frame.append method is deprecated and will be removed from pandas in a future version. Use pandas.concat instead.\n",
      "  df = df.append({'Email': email_current, 'Phone_number': phone_number_current}, ignore_index=True)\n"
     ]
    },
    {
     "name": "stdout",
     "output_type": "stream",
     "text": [
      "['j8675309@csail.mit.edu'] []  has been extracted at iteration  1\n",
      "['henrycg@csail.mit.edu'] ['253-0301']  has been extracted at iteration  1\n",
      "['gcorso@mit.edu'] []  has been extracted at iteration  1\n"
     ]
    },
    {
     "name": "stderr",
     "output_type": "stream",
     "text": [
      "C:\\Users\\Hamza\\AppData\\Local\\Temp\\ipykernel_11596\\2871599656.py:26: FutureWarning: The frame.append method is deprecated and will be removed from pandas in a future version. Use pandas.concat instead.\n",
      "  df = df.append({'Email': email_current, 'Phone_number': phone_number_current}, ignore_index=True)\n",
      "C:\\Users\\Hamza\\AppData\\Local\\Temp\\ipykernel_11596\\2871599656.py:26: FutureWarning: The frame.append method is deprecated and will be removed from pandas in a future version. Use pandas.concat instead.\n",
      "  df = df.append({'Email': email_current, 'Phone_number': phone_number_current}, ignore_index=True)\n",
      "C:\\Users\\Hamza\\AppData\\Local\\Temp\\ipykernel_11596\\2871599656.py:26: FutureWarning: The frame.append method is deprecated and will be removed from pandas in a future version. Use pandas.concat instead.\n",
      "  df = df.append({'Email': email_current, 'Phone_number': phone_number_current}, ignore_index=True)\n"
     ]
    },
    {
     "name": "stdout",
     "output_type": "stream",
     "text": [
      "['JDUITAMA@csail.mit.edu'] []  has been extracted at iteration  1\n",
      "['costilla@mit.edu'] []  has been extracted at iteration  1\n",
      "['mcoulomb@mit.edu'] []  has been extracted at iteration  1\n"
     ]
    },
    {
     "name": "stderr",
     "output_type": "stream",
     "text": [
      "C:\\Users\\Hamza\\AppData\\Local\\Temp\\ipykernel_11596\\2871599656.py:26: FutureWarning: The frame.append method is deprecated and will be removed from pandas in a future version. Use pandas.concat instead.\n",
      "  df = df.append({'Email': email_current, 'Phone_number': phone_number_current}, ignore_index=True)\n",
      "C:\\Users\\Hamza\\AppData\\Local\\Temp\\ipykernel_11596\\2871599656.py:26: FutureWarning: The frame.append method is deprecated and will be removed from pandas in a future version. Use pandas.concat instead.\n",
      "  df = df.append({'Email': email_current, 'Phone_number': phone_number_current}, ignore_index=True)\n",
      "C:\\Users\\Hamza\\AppData\\Local\\Temp\\ipykernel_11596\\2871599656.py:26: FutureWarning: The frame.append method is deprecated and will be removed from pandas in a future version. Use pandas.concat instead.\n",
      "  df = df.append({'Email': email_current, 'Phone_number': phone_number_current}, ignore_index=True)\n"
     ]
    },
    {
     "name": "stdout",
     "output_type": "stream",
     "text": [
      "['jrch@mit.edu'] []  has been extracted at iteration  1\n",
      "['wcrosby@mit.edu'] []  has been extracted at iteration  1\n",
      "['ELIEC@csail.mit.edu'] []  has been extracted at iteration  1\n"
     ]
    },
    {
     "name": "stderr",
     "output_type": "stream",
     "text": [
      "C:\\Users\\Hamza\\AppData\\Local\\Temp\\ipykernel_11596\\2871599656.py:26: FutureWarning: The frame.append method is deprecated and will be removed from pandas in a future version. Use pandas.concat instead.\n",
      "  df = df.append({'Email': email_current, 'Phone_number': phone_number_current}, ignore_index=True)\n",
      "C:\\Users\\Hamza\\AppData\\Local\\Temp\\ipykernel_11596\\2871599656.py:26: FutureWarning: The frame.append method is deprecated and will be removed from pandas in a future version. Use pandas.concat instead.\n",
      "  df = df.append({'Email': email_current, 'Phone_number': phone_number_current}, ignore_index=True)\n",
      "C:\\Users\\Hamza\\AppData\\Local\\Temp\\ipykernel_11596\\2871599656.py:26: FutureWarning: The frame.append method is deprecated and will be removed from pandas in a future version. Use pandas.concat instead.\n",
      "  df = df.append({'Email': email_current, 'Phone_number': phone_number_current}, ignore_index=True)\n"
     ]
    },
    {
     "name": "stdout",
     "output_type": "stream",
     "text": [
      "['jecummin@mit.edu'] []  has been extracted at iteration  1\n",
      "['curtisa@mit.edu'] []  has been extracted at iteration  1\n",
      "['tlcurtis@mit.edu'] []  has been extracted at iteration  1\n"
     ]
    },
    {
     "name": "stderr",
     "output_type": "stream",
     "text": [
      "C:\\Users\\Hamza\\AppData\\Local\\Temp\\ipykernel_11596\\2871599656.py:26: FutureWarning: The frame.append method is deprecated and will be removed from pandas in a future version. Use pandas.concat instead.\n",
      "  df = df.append({'Email': email_current, 'Phone_number': phone_number_current}, ignore_index=True)\n",
      "C:\\Users\\Hamza\\AppData\\Local\\Temp\\ipykernel_11596\\2871599656.py:26: FutureWarning: The frame.append method is deprecated and will be removed from pandas in a future version. Use pandas.concat instead.\n",
      "  df = df.append({'Email': email_current, 'Phone_number': phone_number_current}, ignore_index=True)\n",
      "C:\\Users\\Hamza\\AppData\\Local\\Temp\\ipykernel_11596\\2871599656.py:26: FutureWarning: The frame.append method is deprecated and will be removed from pandas in a future version. Use pandas.concat instead.\n",
      "  df = df.append({'Email': email_current, 'Phone_number': phone_number_current}, ignore_index=True)\n"
     ]
    },
    {
     "name": "stdout",
     "output_type": "stream",
     "text": [
      "['califyn@mit.edu'] []  has been extracted at iteration  1\n",
      "['dagan@mit.edu'] []  has been extracted at iteration  1\n",
      "['JQDAI@csail.mit.edu'] []  has been extracted at iteration  1\n"
     ]
    },
    {
     "name": "stderr",
     "output_type": "stream",
     "text": [
      "C:\\Users\\Hamza\\AppData\\Local\\Temp\\ipykernel_11596\\2871599656.py:26: FutureWarning: The frame.append method is deprecated and will be removed from pandas in a future version. Use pandas.concat instead.\n",
      "  df = df.append({'Email': email_current, 'Phone_number': phone_number_current}, ignore_index=True)\n",
      "C:\\Users\\Hamza\\AppData\\Local\\Temp\\ipykernel_11596\\2871599656.py:26: FutureWarning: The frame.append method is deprecated and will be removed from pandas in a future version. Use pandas.concat instead.\n",
      "  df = df.append({'Email': email_current, 'Phone_number': phone_number_current}, ignore_index=True)\n",
      "C:\\Users\\Hamza\\AppData\\Local\\Temp\\ipykernel_11596\\2871599656.py:26: FutureWarning: The frame.append method is deprecated and will be removed from pandas in a future version. Use pandas.concat instead.\n",
      "  df = df.append({'Email': email_current, 'Phone_number': phone_number_current}, ignore_index=True)\n",
      "C:\\Users\\Hamza\\AppData\\Local\\Temp\\ipykernel_11596\\2871599656.py:26: FutureWarning: The frame.append method is deprecated and will be removed from pandas in a future version. Use pandas.concat instead.\n",
      "  df = df.append({'Email': email_current, 'Phone_number': phone_number_current}, ignore_index=True)\n"
     ]
    },
    {
     "name": "stdout",
     "output_type": "stream",
     "text": [
      "['zhengdai@mit.edu'] []  has been extracted at iteration  1\n",
      "['adalca@csail.mit.edu'] []  has been extracted at iteration  1\n",
      "['mehul42@csail.mit.edu'] []  has been extracted at iteration  1\n"
     ]
    },
    {
     "name": "stderr",
     "output_type": "stream",
     "text": [
      "C:\\Users\\Hamza\\AppData\\Local\\Temp\\ipykernel_11596\\2871599656.py:26: FutureWarning: The frame.append method is deprecated and will be removed from pandas in a future version. Use pandas.concat instead.\n",
      "  df = df.append({'Email': email_current, 'Phone_number': phone_number_current}, ignore_index=True)\n",
      "C:\\Users\\Hamza\\AppData\\Local\\Temp\\ipykernel_11596\\2871599656.py:26: FutureWarning: The frame.append method is deprecated and will be removed from pandas in a future version. Use pandas.concat instead.\n",
      "  df = df.append({'Email': email_current, 'Phone_number': phone_number_current}, ignore_index=True)\n",
      "C:\\Users\\Hamza\\AppData\\Local\\Temp\\ipykernel_11596\\2871599656.py:26: FutureWarning: The frame.append method is deprecated and will be removed from pandas in a future version. Use pandas.concat instead.\n",
      "  df = df.append({'Email': email_current, 'Phone_number': phone_number_current}, ignore_index=True)\n"
     ]
    },
    {
     "name": "stdout",
     "output_type": "stream",
     "text": [
      "['hoped@csail.mit.edu'] []  has been extracted at iteration  1\n",
      "['haimo@mit.edu'] []  has been extracted at iteration  1\n",
      "['costis@csail.mit.edu'] ['253-9643']  has been extracted at iteration  1\n"
     ]
    },
    {
     "name": "stderr",
     "output_type": "stream",
     "text": [
      "C:\\Users\\Hamza\\AppData\\Local\\Temp\\ipykernel_11596\\2871599656.py:26: FutureWarning: The frame.append method is deprecated and will be removed from pandas in a future version. Use pandas.concat instead.\n",
      "  df = df.append({'Email': email_current, 'Phone_number': phone_number_current}, ignore_index=True)\n",
      "C:\\Users\\Hamza\\AppData\\Local\\Temp\\ipykernel_11596\\2871599656.py:26: FutureWarning: The frame.append method is deprecated and will be removed from pandas in a future version. Use pandas.concat instead.\n",
      "  df = df.append({'Email': email_current, 'Phone_number': phone_number_current}, ignore_index=True)\n",
      "C:\\Users\\Hamza\\AppData\\Local\\Temp\\ipykernel_11596\\2871599656.py:26: FutureWarning: The frame.append method is deprecated and will be removed from pandas in a future version. Use pandas.concat instead.\n",
      "  df = df.append({'Email': email_current, 'Phone_number': phone_number_current}, ignore_index=True)\n"
     ]
    },
    {
     "name": "stdout",
     "output_type": "stream",
     "text": [
      "['jcob@csail.mit.edu'] []  has been extracted at iteration  1\n",
      "['davis@csail.mit.edu'] ['253-5879']  has been extracted at iteration  1\n",
      "['nauman@csail.mit.edu'] []  has been extracted at iteration  1\n"
     ]
    },
    {
     "name": "stderr",
     "output_type": "stream",
     "text": [
      "C:\\Users\\Hamza\\AppData\\Local\\Temp\\ipykernel_11596\\2871599656.py:26: FutureWarning: The frame.append method is deprecated and will be removed from pandas in a future version. Use pandas.concat instead.\n",
      "  df = df.append({'Email': email_current, 'Phone_number': phone_number_current}, ignore_index=True)\n",
      "C:\\Users\\Hamza\\AppData\\Local\\Temp\\ipykernel_11596\\2871599656.py:26: FutureWarning: The frame.append method is deprecated and will be removed from pandas in a future version. Use pandas.concat instead.\n",
      "  df = df.append({'Email': email_current, 'Phone_number': phone_number_current}, ignore_index=True)\n",
      "C:\\Users\\Hamza\\AppData\\Local\\Temp\\ipykernel_11596\\2871599656.py:26: FutureWarning: The frame.append method is deprecated and will be removed from pandas in a future version. Use pandas.concat instead.\n",
      "  df = df.append({'Email': email_current, 'Phone_number': phone_number_current}, ignore_index=True)\n"
     ]
    },
    {
     "name": "stdout",
     "output_type": "stream",
     "text": [
      "['ldecastr@mit.edu'] []  has been extracted at iteration  1\n",
      "['erikad@mit.edu'] []  has been extracted at iteration  1\n",
      "['DELSOZZO@csail.mit.edu'] []  has been extracted at iteration  1\n"
     ]
    },
    {
     "name": "stderr",
     "output_type": "stream",
     "text": [
      "C:\\Users\\Hamza\\AppData\\Local\\Temp\\ipykernel_11596\\2871599656.py:26: FutureWarning: The frame.append method is deprecated and will be removed from pandas in a future version. Use pandas.concat instead.\n",
      "  df = df.append({'Email': email_current, 'Phone_number': phone_number_current}, ignore_index=True)\n",
      "C:\\Users\\Hamza\\AppData\\Local\\Temp\\ipykernel_11596\\2871599656.py:26: FutureWarning: The frame.append method is deprecated and will be removed from pandas in a future version. Use pandas.concat instead.\n",
      "  df = df.append({'Email': email_current, 'Phone_number': phone_number_current}, ignore_index=True)\n",
      "C:\\Users\\Hamza\\AppData\\Local\\Temp\\ipykernel_11596\\2871599656.py:26: FutureWarning: The frame.append method is deprecated and will be removed from pandas in a future version. Use pandas.concat instead.\n",
      "  df = df.append({'Email': email_current, 'Phone_number': phone_number_current}, ignore_index=True)\n"
     ]
    },
    {
     "name": "stdout",
     "output_type": "stream",
     "text": [
      "['samd@mit.edu'] []  has been extracted at iteration  1\n",
      "['yonatand@mit.edu'] []  has been extracted at iteration  1\n",
      "['delimitrou@csail.mit.edu'] []  has been extracted at iteration  1\n"
     ]
    },
    {
     "name": "stderr",
     "output_type": "stream",
     "text": [
      "C:\\Users\\Hamza\\AppData\\Local\\Temp\\ipykernel_11596\\2871599656.py:26: FutureWarning: The frame.append method is deprecated and will be removed from pandas in a future version. Use pandas.concat instead.\n",
      "  df = df.append({'Email': email_current, 'Phone_number': phone_number_current}, ignore_index=True)\n",
      "C:\\Users\\Hamza\\AppData\\Local\\Temp\\ipykernel_11596\\2871599656.py:26: FutureWarning: The frame.append method is deprecated and will be removed from pandas in a future version. Use pandas.concat instead.\n",
      "  df = df.append({'Email': email_current, 'Phone_number': phone_number_current}, ignore_index=True)\n"
     ]
    },
    {
     "name": "stdout",
     "output_type": "stream",
     "text": [
      "['delpreto@csail.mit.edu'] []  has been extracted at iteration  217\n",
      "['edemaine@mit.edu'] ['253-6871']  has been extracted at iteration  217\n",
      "['demirel@csail.mit.edu'] []  has been extracted at iteration  217\n"
     ]
    },
    {
     "name": "stderr",
     "output_type": "stream",
     "text": [
      "C:\\Users\\Hamza\\AppData\\Local\\Temp\\ipykernel_11596\\2871599656.py:26: FutureWarning: The frame.append method is deprecated and will be removed from pandas in a future version. Use pandas.concat instead.\n",
      "  df = df.append({'Email': email_current, 'Phone_number': phone_number_current}, ignore_index=True)\n",
      "C:\\Users\\Hamza\\AppData\\Local\\Temp\\ipykernel_11596\\2871599656.py:26: FutureWarning: The frame.append method is deprecated and will be removed from pandas in a future version. Use pandas.concat instead.\n",
      "  df = df.append({'Email': email_current, 'Phone_number': phone_number_current}, ignore_index=True)\n",
      "C:\\Users\\Hamza\\AppData\\Local\\Temp\\ipykernel_11596\\2871599656.py:26: FutureWarning: The frame.append method is deprecated and will be removed from pandas in a future version. Use pandas.concat instead.\n",
      "  df = df.append({'Email': email_current, 'Phone_number': phone_number_current}, ignore_index=True)\n"
     ]
    },
    {
     "name": "stdout",
     "output_type": "stream",
     "text": [
      "['adamdeng@mit.edu'] []  has been extracted at iteration  217\n",
      "['boleideng@csail.mit.edu'] []  has been extracted at iteration  217\n",
      "['dengm@mit.edu'] []  has been extracted at iteration  217\n"
     ]
    },
    {
     "name": "stderr",
     "output_type": "stream",
     "text": [
      "C:\\Users\\Hamza\\AppData\\Local\\Temp\\ipykernel_11596\\2871599656.py:26: FutureWarning: The frame.append method is deprecated and will be removed from pandas in a future version. Use pandas.concat instead.\n",
      "  df = df.append({'Email': email_current, 'Phone_number': phone_number_current}, ignore_index=True)\n",
      "C:\\Users\\Hamza\\AppData\\Local\\Temp\\ipykernel_11596\\2871599656.py:26: FutureWarning: The frame.append method is deprecated and will be removed from pandas in a future version. Use pandas.concat instead.\n",
      "  df = df.append({'Email': email_current, 'Phone_number': phone_number_current}, ignore_index=True)\n",
      "C:\\Users\\Hamza\\AppData\\Local\\Temp\\ipykernel_11596\\2871599656.py:26: FutureWarning: The frame.append method is deprecated and will be removed from pandas in a future version. Use pandas.concat instead.\n",
      "  df = df.append({'Email': email_current, 'Phone_number': phone_number_current}, ignore_index=True)\n"
     ]
    },
    {
     "name": "stdout",
     "output_type": "stream",
     "text": [
      "['ryandeng@mit.edu'] []  has been extracted at iteration  217\n",
      "['dennis@csail.mit.edu'] ['253-6856']  has been extracted at iteration  217\n",
      "['pwd@mit.edu'] []  has been extracted at iteration  217\n"
     ]
    },
    {
     "name": "stderr",
     "output_type": "stream",
     "text": [
      "C:\\Users\\Hamza\\AppData\\Local\\Temp\\ipykernel_11596\\2871599656.py:26: FutureWarning: The frame.append method is deprecated and will be removed from pandas in a future version. Use pandas.concat instead.\n",
      "  df = df.append({'Email': email_current, 'Phone_number': phone_number_current}, ignore_index=True)\n",
      "C:\\Users\\Hamza\\AppData\\Local\\Temp\\ipykernel_11596\\2871599656.py:26: FutureWarning: The frame.append method is deprecated and will be removed from pandas in a future version. Use pandas.concat instead.\n",
      "  df = df.append({'Email': email_current, 'Phone_number': phone_number_current}, ignore_index=True)\n",
      "C:\\Users\\Hamza\\AppData\\Local\\Temp\\ipykernel_11596\\2871599656.py:26: FutureWarning: The frame.append method is deprecated and will be removed from pandas in a future version. Use pandas.concat instead.\n",
      "  df = df.append({'Email': email_current, 'Phone_number': phone_number_current}, ignore_index=True)\n"
     ]
    },
    {
     "name": "stdout",
     "output_type": "stream",
     "text": [
      "['lali@mit.edu'] []  has been extracted at iteration  217\n",
      "['devadas@csail.mit.edu'] ['253-0454']  has been extracted at iteration  217\n"
     ]
    },
    {
     "name": "stderr",
     "output_type": "stream",
     "text": [
      "C:\\Users\\Hamza\\AppData\\Local\\Temp\\ipykernel_11596\\2871599656.py:26: FutureWarning: The frame.append method is deprecated and will be removed from pandas in a future version. Use pandas.concat instead.\n",
      "  df = df.append({'Email': email_current, 'Phone_number': phone_number_current}, ignore_index=True)\n",
      "C:\\Users\\Hamza\\AppData\\Local\\Temp\\ipykernel_11596\\2871599656.py:26: FutureWarning: The frame.append method is deprecated and will be removed from pandas in a future version. Use pandas.concat instead.\n",
      "  df = df.append({'Email': email_current, 'Phone_number': phone_number_current}, ignore_index=True)\n"
     ]
    },
    {
     "name": "stdout",
     "output_type": "stream",
     "text": [
      "['dey@csail.mit.edu'] []  has been extracted at iteration  217\n",
      "['ndharia@mit.edu'] []  has been extracted at iteration  217\n",
      "['tdiamand@mit.edu'] []  has been extracted at iteration  217\n"
     ]
    },
    {
     "name": "stderr",
     "output_type": "stream",
     "text": [
      "C:\\Users\\Hamza\\AppData\\Local\\Temp\\ipykernel_11596\\2871599656.py:26: FutureWarning: The frame.append method is deprecated and will be removed from pandas in a future version. Use pandas.concat instead.\n",
      "  df = df.append({'Email': email_current, 'Phone_number': phone_number_current}, ignore_index=True)\n",
      "C:\\Users\\Hamza\\AppData\\Local\\Temp\\ipykernel_11596\\2871599656.py:26: FutureWarning: The frame.append method is deprecated and will be removed from pandas in a future version. Use pandas.concat instead.\n",
      "  df = df.append({'Email': email_current, 'Phone_number': phone_number_current}, ignore_index=True)\n",
      "C:\\Users\\Hamza\\AppData\\Local\\Temp\\ipykernel_11596\\2871599656.py:26: FutureWarning: The frame.append method is deprecated and will be removed from pandas in a future version. Use pandas.concat instead.\n",
      "  df = df.append({'Email': email_current, 'Phone_number': phone_number_current}, ignore_index=True)\n"
     ]
    },
    {
     "name": "stdout",
     "output_type": "stream",
     "text": [
      "['diaoc@mit.edu'] []  has been extracted at iteration  217\n",
      "['kdighe@csail.mit.edu'] []  has been extracted at iteration  217\n",
      "['adadima@mit.edu'] []  has been extracted at iteration  217\n"
     ]
    },
    {
     "name": "stderr",
     "output_type": "stream",
     "text": [
      "C:\\Users\\Hamza\\AppData\\Local\\Temp\\ipykernel_11596\\2871599656.py:26: FutureWarning: The frame.append method is deprecated and will be removed from pandas in a future version. Use pandas.concat instead.\n",
      "  df = df.append({'Email': email_current, 'Phone_number': phone_number_current}, ignore_index=True)\n",
      "C:\\Users\\Hamza\\AppData\\Local\\Temp\\ipykernel_11596\\2871599656.py:26: FutureWarning: The frame.append method is deprecated and will be removed from pandas in a future version. Use pandas.concat instead.\n",
      "  df = df.append({'Email': email_current, 'Phone_number': phone_number_current}, ignore_index=True)\n",
      "C:\\Users\\Hamza\\AppData\\Local\\Temp\\ipykernel_11596\\2871599656.py:26: FutureWarning: The frame.append method is deprecated and will be removed from pandas in a future version. Use pandas.concat instead.\n",
      "  df = df.append({'Email': email_current, 'Phone_number': phone_number_current}, ignore_index=True)\n",
      "C:\\Users\\Hamza\\AppData\\Local\\Temp\\ipykernel_11596\\2871599656.py:26: FutureWarning: The frame.append method is deprecated and will be removed from pandas in a future version. Use pandas.concat instead.\n",
      "  df = df.append({'Email': email_current, 'Phone_number': phone_number_current}, ignore_index=True)\n"
     ]
    },
    {
     "name": "stdout",
     "output_type": "stream",
     "text": [
      "['jialind@mit.edu'] []  has been extracted at iteration  217\n",
      "['bsdinis@mit.edu'] []  has been extracted at iteration  217\n"
     ]
    },
    {
     "name": "stderr",
     "output_type": "stream",
     "text": [
      "C:\\Users\\Hamza\\AppData\\Local\\Temp\\ipykernel_11596\\2871599656.py:26: FutureWarning: The frame.append method is deprecated and will be removed from pandas in a future version. Use pandas.concat instead.\n",
      "  df = df.append({'Email': email_current, 'Phone_number': phone_number_current}, ignore_index=True)\n",
      "C:\\Users\\Hamza\\AppData\\Local\\Temp\\ipykernel_11596\\2871599656.py:26: FutureWarning: The frame.append method is deprecated and will be removed from pandas in a future version. Use pandas.concat instead.\n",
      "  df = df.append({'Email': email_current, 'Phone_number': phone_number_current}, ignore_index=True)\n",
      "C:\\Users\\Hamza\\AppData\\Local\\Temp\\ipykernel_11596\\2871599656.py:26: FutureWarning: The frame.append method is deprecated and will be removed from pandas in a future version. Use pandas.concat instead.\n",
      "  df = df.append({'Email': email_current, 'Phone_number': phone_number_current}, ignore_index=True)\n"
     ]
    },
    {
     "name": "stdout",
     "output_type": "stream",
     "text": [
      "['diomidov@mit.edu'] []  has been extracted at iteration  217\n",
      "['vkdixit@mit.edu'] []  has been extracted at iteration  217\n",
      "['anadodik@mit.edu'] []  has been extracted at iteration  217\n"
     ]
    },
    {
     "name": "stderr",
     "output_type": "stream",
     "text": [
      "C:\\Users\\Hamza\\AppData\\Local\\Temp\\ipykernel_11596\\2871599656.py:26: FutureWarning: The frame.append method is deprecated and will be removed from pandas in a future version. Use pandas.concat instead.\n",
      "  df = df.append({'Email': email_current, 'Phone_number': phone_number_current}, ignore_index=True)\n",
      "C:\\Users\\Hamza\\AppData\\Local\\Temp\\ipykernel_11596\\2871599656.py:26: FutureWarning: The frame.append method is deprecated and will be removed from pandas in a future version. Use pandas.concat instead.\n",
      "  df = df.append({'Email': email_current, 'Phone_number': phone_number_current}, ignore_index=True)\n",
      "C:\\Users\\Hamza\\AppData\\Local\\Temp\\ipykernel_11596\\2871599656.py:26: FutureWarning: The frame.append method is deprecated and will be removed from pandas in a future version. Use pandas.concat instead.\n",
      "  df = df.append({'Email': email_current, 'Phone_number': phone_number_current}, ignore_index=True)\n"
     ]
    },
    {
     "name": "stdout",
     "output_type": "stream",
     "text": [
      "['doga@mit.edu'] []  has been extracted at iteration  217\n",
      "['danielbd@mit.edu'] []  has been extracted at iteration  217\n",
      "['vdoroban@csail.mit.edu'] []  has been extracted at iteration  217\n"
     ]
    },
    {
     "name": "stderr",
     "output_type": "stream",
     "text": [
      "C:\\Users\\Hamza\\AppData\\Local\\Temp\\ipykernel_11596\\2871599656.py:26: FutureWarning: The frame.append method is deprecated and will be removed from pandas in a future version. Use pandas.concat instead.\n",
      "  df = df.append({'Email': email_current, 'Phone_number': phone_number_current}, ignore_index=True)\n",
      "C:\\Users\\Hamza\\AppData\\Local\\Temp\\ipykernel_11596\\2871599656.py:26: FutureWarning: The frame.append method is deprecated and will be removed from pandas in a future version. Use pandas.concat instead.\n",
      "  df = df.append({'Email': email_current, 'Phone_number': phone_number_current}, ignore_index=True)\n",
      "C:\\Users\\Hamza\\AppData\\Local\\Temp\\ipykernel_11596\\2871599656.py:26: FutureWarning: The frame.append method is deprecated and will be removed from pandas in a future version. Use pandas.concat instead.\n",
      "  df = df.append({'Email': email_current, 'Phone_number': phone_number_current}, ignore_index=True)\n"
     ]
    },
    {
     "name": "stdout",
     "output_type": "stream",
     "text": [
      "['sdrammis@mit.edu'] []  has been extracted at iteration  217\n",
      "['drean@mit.edu'] []  has been extracted at iteration  217\n",
      "['samirdr@mit.edu'] []  has been extracted at iteration  217\n"
     ]
    },
    {
     "name": "stderr",
     "output_type": "stream",
     "text": [
      "C:\\Users\\Hamza\\AppData\\Local\\Temp\\ipykernel_11596\\2871599656.py:26: FutureWarning: The frame.append method is deprecated and will be removed from pandas in a future version. Use pandas.concat instead.\n",
      "  df = df.append({'Email': email_current, 'Phone_number': phone_number_current}, ignore_index=True)\n",
      "C:\\Users\\Hamza\\AppData\\Local\\Temp\\ipykernel_11596\\2871599656.py:26: FutureWarning: The frame.append method is deprecated and will be removed from pandas in a future version. Use pandas.concat instead.\n",
      "  df = df.append({'Email': email_current, 'Phone_number': phone_number_current}, ignore_index=True)\n",
      "C:\\Users\\Hamza\\AppData\\Local\\Temp\\ipykernel_11596\\2871599656.py:26: FutureWarning: The frame.append method is deprecated and will be removed from pandas in a future version. Use pandas.concat instead.\n",
      "  df = df.append({'Email': email_current, 'Phone_number': phone_number_current}, ignore_index=True)\n"
     ]
    },
    {
     "name": "stdout",
     "output_type": "stream",
     "text": [
      "['yilundu@mit.edu'] []  has been extracted at iteration  217\n",
      "['xingrand@mit.edu'] []  has been extracted at iteration  217\n",
      "['yiqing@csail.mit.edu'] []  has been extracted at iteration  217\n"
     ]
    },
    {
     "name": "stderr",
     "output_type": "stream",
     "text": [
      "C:\\Users\\Hamza\\AppData\\Local\\Temp\\ipykernel_11596\\2871599656.py:26: FutureWarning: The frame.append method is deprecated and will be removed from pandas in a future version. Use pandas.concat instead.\n",
      "  df = df.append({'Email': email_current, 'Phone_number': phone_number_current}, ignore_index=True)\n",
      "C:\\Users\\Hamza\\AppData\\Local\\Temp\\ipykernel_11596\\2871599656.py:26: FutureWarning: The frame.append method is deprecated and will be removed from pandas in a future version. Use pandas.concat instead.\n",
      "  df = df.append({'Email': email_current, 'Phone_number': phone_number_current}, ignore_index=True)\n",
      "C:\\Users\\Hamza\\AppData\\Local\\Temp\\ipykernel_11596\\2871599656.py:26: FutureWarning: The frame.append method is deprecated and will be removed from pandas in a future version. Use pandas.concat instead.\n",
      "  df = df.append({'Email': email_current, 'Phone_number': phone_number_current}, ignore_index=True)\n"
     ]
    },
    {
     "name": "stdout",
     "output_type": "stream",
     "text": [
      "['IDUAN329@csail.mit.edu'] []  has been extracted at iteration  217\n",
      "['Konnie@csail.mit.edu'] []  has been extracted at iteration  217\n",
      "['SDUGGAL@csail.mit.edu'] []  has been extracted at iteration  217\n"
     ]
    },
    {
     "name": "stderr",
     "output_type": "stream",
     "text": [
      "C:\\Users\\Hamza\\AppData\\Local\\Temp\\ipykernel_11596\\2871599656.py:26: FutureWarning: The frame.append method is deprecated and will be removed from pandas in a future version. Use pandas.concat instead.\n",
      "  df = df.append({'Email': email_current, 'Phone_number': phone_number_current}, ignore_index=True)\n",
      "C:\\Users\\Hamza\\AppData\\Local\\Temp\\ipykernel_11596\\2871599656.py:26: FutureWarning: The frame.append method is deprecated and will be removed from pandas in a future version. Use pandas.concat instead.\n",
      "  df = df.append({'Email': email_current, 'Phone_number': phone_number_current}, ignore_index=True)\n",
      "C:\\Users\\Hamza\\AppData\\Local\\Temp\\ipykernel_11596\\2871599656.py:26: FutureWarning: The frame.append method is deprecated and will be removed from pandas in a future version. Use pandas.concat instead.\n",
      "  df = df.append({'Email': email_current, 'Phone_number': phone_number_current}, ignore_index=True)\n"
     ]
    },
    {
     "name": "stdout",
     "output_type": "stream",
     "text": [
      "['fredo@csail.mit.edu'] ['253-7223']  has been extracted at iteration  217\n",
      "['durra@csail.mit.edu'] []  has been extracted at iteration  217\n",
      "['vasha@csail.mit.edu'] []  has been extracted at iteration  217\n"
     ]
    },
    {
     "name": "stderr",
     "output_type": "stream",
     "text": [
      "C:\\Users\\Hamza\\AppData\\Local\\Temp\\ipykernel_11596\\2871599656.py:26: FutureWarning: The frame.append method is deprecated and will be removed from pandas in a future version. Use pandas.concat instead.\n",
      "  df = df.append({'Email': email_current, 'Phone_number': phone_number_current}, ignore_index=True)\n",
      "C:\\Users\\Hamza\\AppData\\Local\\Temp\\ipykernel_11596\\2871599656.py:26: FutureWarning: The frame.append method is deprecated and will be removed from pandas in a future version. Use pandas.concat instead.\n",
      "  df = df.append({'Email': email_current, 'Phone_number': phone_number_current}, ignore_index=True)\n",
      "C:\\Users\\Hamza\\AppData\\Local\\Temp\\ipykernel_11596\\2871599656.py:26: FutureWarning: The frame.append method is deprecated and will be removed from pandas in a future version. Use pandas.concat instead.\n",
      "  df = df.append({'Email': email_current, 'Phone_number': phone_number_current}, ignore_index=True)\n"
     ]
    },
    {
     "name": "stdout",
     "output_type": "stream",
     "text": [
      "['echezona@csail.mit.edu'] []  has been extracted at iteration  217\n",
      "['mit.edelman@gmail.com'] ['253-1355']  has been extracted at iteration  217\n",
      "['danieled@mit.edu'] []  has been extracted at iteration  217\n",
      "['ekim@csail.mit.edu'] []  has been extracted at iteration  217\n",
      "['farese@mit.edu'] []  has been extracted at iteration  217\n"
     ]
    },
    {
     "name": "stderr",
     "output_type": "stream",
     "text": [
      "C:\\Users\\Hamza\\AppData\\Local\\Temp\\ipykernel_11596\\2871599656.py:26: FutureWarning: The frame.append method is deprecated and will be removed from pandas in a future version. Use pandas.concat instead.\n",
      "  df = df.append({'Email': email_current, 'Phone_number': phone_number_current}, ignore_index=True)\n",
      "C:\\Users\\Hamza\\AppData\\Local\\Temp\\ipykernel_11596\\2871599656.py:26: FutureWarning: The frame.append method is deprecated and will be removed from pandas in a future version. Use pandas.concat instead.\n",
      "  df = df.append({'Email': email_current, 'Phone_number': phone_number_current}, ignore_index=True)\n",
      "C:\\Users\\Hamza\\AppData\\Local\\Temp\\ipykernel_11596\\2871599656.py:26: FutureWarning: The frame.append method is deprecated and will be removed from pandas in a future version. Use pandas.concat instead.\n",
      "  df = df.append({'Email': email_current, 'Phone_number': phone_number_current}, ignore_index=True)\n"
     ]
    },
    {
     "name": "stdout",
     "output_type": "stream",
     "text": [
      "['emer@csail.mit.edu'] ['258-9190']  has been extracted at iteration  217\n",
      "['yosefmih@mit.edu'] []  has been extracted at iteration  217\n",
      "['jae@csail.mit.edu'] []  has been extracted at iteration  217"
     ]
    },
    {
     "name": "stderr",
     "output_type": "stream",
     "text": [
      "C:\\Users\\Hamza\\AppData\\Local\\Temp\\ipykernel_11596\\2871599656.py:26: FutureWarning: The frame.append method is deprecated and will be removed from pandas in a future version. Use pandas.concat instead.\n",
      "  df = df.append({'Email': email_current, 'Phone_number': phone_number_current}, ignore_index=True)\n",
      "C:\\Users\\Hamza\\AppData\\Local\\Temp\\ipykernel_11596\\2871599656.py:26: FutureWarning: The frame.append method is deprecated and will be removed from pandas in a future version. Use pandas.concat instead.\n",
      "  df = df.append({'Email': email_current, 'Phone_number': phone_number_current}, ignore_index=True)\n"
     ]
    },
    {
     "name": "stdout",
     "output_type": "stream",
     "text": [
      "\n",
      "['engstrom@MIT.edu'] []  has been extracted at iteration  217\n",
      "['andreser@mit.edu'] []  has been extracted at iteration  217\n"
     ]
    },
    {
     "name": "stderr",
     "output_type": "stream",
     "text": [
      "C:\\Users\\Hamza\\AppData\\Local\\Temp\\ipykernel_11596\\2871599656.py:26: FutureWarning: The frame.append method is deprecated and will be removed from pandas in a future version. Use pandas.concat instead.\n",
      "  df = df.append({'Email': email_current, 'Phone_number': phone_number_current}, ignore_index=True)\n",
      "C:\\Users\\Hamza\\AppData\\Local\\Temp\\ipykernel_11596\\2871599656.py:26: FutureWarning: The frame.append method is deprecated and will be removed from pandas in a future version. Use pandas.concat instead.\n",
      "  df = df.append({'Email': email_current, 'Phone_number': phone_number_current}, ignore_index=True)\n",
      "C:\\Users\\Hamza\\AppData\\Local\\Temp\\ipykernel_11596\\2871599656.py:26: FutureWarning: The frame.append method is deprecated and will be removed from pandas in a future version. Use pandas.concat instead.\n",
      "  df = df.append({'Email': email_current, 'Phone_number': phone_number_current}, ignore_index=True)\n"
     ]
    },
    {
     "name": "stdout",
     "output_type": "stream",
     "text": [
      "['erives@mit.edu'] []  has been extracted at iteration  217\n",
      "['diegoesc@mit.edu'] []  has been extracted at iteration  217\n",
      "['katieev@mit.edu'] []  has been extracted at iteration  217\n"
     ]
    },
    {
     "name": "stderr",
     "output_type": "stream",
     "text": [
      "C:\\Users\\Hamza\\AppData\\Local\\Temp\\ipykernel_11596\\2871599656.py:26: FutureWarning: The frame.append method is deprecated and will be removed from pandas in a future version. Use pandas.concat instead.\n",
      "  df = df.append({'Email': email_current, 'Phone_number': phone_number_current}, ignore_index=True)\n",
      "C:\\Users\\Hamza\\AppData\\Local\\Temp\\ipykernel_11596\\2871599656.py:26: FutureWarning: The frame.append method is deprecated and will be removed from pandas in a future version. Use pandas.concat instead.\n",
      "  df = df.append({'Email': email_current, 'Phone_number': phone_number_current}, ignore_index=True)\n",
      "C:\\Users\\Hamza\\AppData\\Local\\Temp\\ipykernel_11596\\2871599656.py:26: FutureWarning: The frame.append method is deprecated and will be removed from pandas in a future version. Use pandas.concat instead.\n",
      "  df = df.append({'Email': email_current, 'Phone_number': phone_number_current}, ignore_index=True)\n"
     ]
    },
    {
     "name": "stdout",
     "output_type": "stream",
     "text": [
      "['ekf@csail.mit.edu'] []  has been extracted at iteration  217\n",
      "['faltings@mit.edu'] []  has been extracted at iteration  217\n",
      "['lijiefan@mit.edu'] []  has been extracted at iteration  217\n"
     ]
    },
    {
     "name": "stderr",
     "output_type": "stream",
     "text": [
      "C:\\Users\\Hamza\\AppData\\Local\\Temp\\ipykernel_11596\\2871599656.py:26: FutureWarning: The frame.append method is deprecated and will be removed from pandas in a future version. Use pandas.concat instead.\n",
      "  df = df.append({'Email': email_current, 'Phone_number': phone_number_current}, ignore_index=True)\n",
      "C:\\Users\\Hamza\\AppData\\Local\\Temp\\ipykernel_11596\\2871599656.py:26: FutureWarning: The frame.append method is deprecated and will be removed from pandas in a future version. Use pandas.concat instead.\n",
      "  df = df.append({'Email': email_current, 'Phone_number': phone_number_current}, ignore_index=True)\n",
      "C:\\Users\\Hamza\\AppData\\Local\\Temp\\ipykernel_11596\\2871599656.py:26: FutureWarning: The frame.append method is deprecated and will be removed from pandas in a future version. Use pandas.concat instead.\n",
      "  df = df.append({'Email': email_current, 'Phone_number': phone_number_current}, ignore_index=True)\n"
     ]
    },
    {
     "name": "stdout",
     "output_type": "stream",
     "text": [
      "['linglingfan@csail.mit.edu'] []  has been extracted at iteration  217\n",
      "['vincentf@mit.edu'] []  has been extracted at iteration  217\n",
      "['FHS@csail.mit.edu'] []  has been extracted at iteration  217\n"
     ]
    },
    {
     "name": "stderr",
     "output_type": "stream",
     "text": [
      "C:\\Users\\Hamza\\AppData\\Local\\Temp\\ipykernel_11596\\2871599656.py:26: FutureWarning: The frame.append method is deprecated and will be removed from pandas in a future version. Use pandas.concat instead.\n",
      "  df = df.append({'Email': email_current, 'Phone_number': phone_number_current}, ignore_index=True)\n",
      "C:\\Users\\Hamza\\AppData\\Local\\Temp\\ipykernel_11596\\2871599656.py:26: FutureWarning: The frame.append method is deprecated and will be removed from pandas in a future version. Use pandas.concat instead.\n",
      "  df = df.append({'Email': email_current, 'Phone_number': phone_number_current}, ignore_index=True)\n",
      "C:\\Users\\Hamza\\AppData\\Local\\Temp\\ipykernel_11596\\2871599656.py:26: FutureWarning: The frame.append method is deprecated and will be removed from pandas in a future version. Use pandas.concat instead.\n",
      "  df = df.append({'Email': email_current, 'Phone_number': phone_number_current}, ignore_index=True)\n"
     ]
    },
    {
     "name": "stdout",
     "output_type": "stream",
     "text": [
      "['weifang@mit.edu'] []  has been extracted at iteration  217\n",
      "['xiaolinf@mit.edu'] []  has been extracted at iteration  217\n",
      "['adfarrar@mit.edu'] []  has been extracted at iteration  217\n"
     ]
    },
    {
     "name": "stderr",
     "output_type": "stream",
     "text": [
      "C:\\Users\\Hamza\\AppData\\Local\\Temp\\ipykernel_11596\\2871599656.py:26: FutureWarning: The frame.append method is deprecated and will be removed from pandas in a future version. Use pandas.concat instead.\n",
      "  df = df.append({'Email': email_current, 'Phone_number': phone_number_current}, ignore_index=True)\n",
      "C:\\Users\\Hamza\\AppData\\Local\\Temp\\ipykernel_11596\\2871599656.py:26: FutureWarning: The frame.append method is deprecated and will be removed from pandas in a future version. Use pandas.concat instead.\n",
      "  df = df.append({'Email': email_current, 'Phone_number': phone_number_current}, ignore_index=True)\n",
      "C:\\Users\\Hamza\\AppData\\Local\\Temp\\ipykernel_11596\\2871599656.py:26: FutureWarning: The frame.append method is deprecated and will be removed from pandas in a future version. Use pandas.concat instead.\n",
      "  df = df.append({'Email': email_current, 'Phone_number': phone_number_current}, ignore_index=True)\n"
     ]
    },
    {
     "name": "stdout",
     "output_type": "stream",
     "text": [
      "['ffaruqi@mit.edu'] []  has been extracted at iteration  217\n",
      "['mfavela@MIT.EDU'] []  has been extracted at iteration  217\n",
      "['fefelova@csail.mit.edu'] []  has been extracted at iteration  217\n"
     ]
    },
    {
     "name": "stderr",
     "output_type": "stream",
     "text": [
      "C:\\Users\\Hamza\\AppData\\Local\\Temp\\ipykernel_11596\\2871599656.py:26: FutureWarning: The frame.append method is deprecated and will be removed from pandas in a future version. Use pandas.concat instead.\n",
      "  df = df.append({'Email': email_current, 'Phone_number': phone_number_current}, ignore_index=True)\n",
      "C:\\Users\\Hamza\\AppData\\Local\\Temp\\ipykernel_11596\\2871599656.py:26: FutureWarning: The frame.append method is deprecated and will be removed from pandas in a future version. Use pandas.concat instead.\n",
      "  df = df.append({'Email': email_current, 'Phone_number': phone_number_current}, ignore_index=True)\n",
      "C:\\Users\\Hamza\\AppData\\Local\\Temp\\ipykernel_11596\\2871599656.py:26: FutureWarning: The frame.append method is deprecated and will be removed from pandas in a future version. Use pandas.concat instead.\n",
      "  df = df.append({'Email': email_current, 'Phone_number': phone_number_current}, ignore_index=True)\n"
     ]
    },
    {
     "name": "stdout",
     "output_type": "stream",
     "text": [
      "['axelf@MIT.EDU'] []  has been extracted at iteration  217\n",
      "['azf@mit.edu'] []  has been extracted at iteration  217\n",
      "['fengm@mit.edu'] []  has been extracted at iteration  217\n"
     ]
    },
    {
     "name": "stderr",
     "output_type": "stream",
     "text": [
      "C:\\Users\\Hamza\\AppData\\Local\\Temp\\ipykernel_11596\\2871599656.py:26: FutureWarning: The frame.append method is deprecated and will be removed from pandas in a future version. Use pandas.concat instead.\n",
      "  df = df.append({'Email': email_current, 'Phone_number': phone_number_current}, ignore_index=True)\n",
      "C:\\Users\\Hamza\\AppData\\Local\\Temp\\ipykernel_11596\\2871599656.py:26: FutureWarning: The frame.append method is deprecated and will be removed from pandas in a future version. Use pandas.concat instead.\n",
      "  df = df.append({'Email': email_current, 'Phone_number': phone_number_current}, ignore_index=True)\n",
      "C:\\Users\\Hamza\\AppData\\Local\\Temp\\ipykernel_11596\\2871599656.py:26: FutureWarning: The frame.append method is deprecated and will be removed from pandas in a future version. Use pandas.concat instead.\n",
      "  df = df.append({'Email': email_current, 'Phone_number': phone_number_current}, ignore_index=True)\n",
      "C:\\Users\\Hamza\\AppData\\Local\\Temp\\ipykernel_11596\\2871599656.py:26: FutureWarning: The frame.append method is deprecated and will be removed from pandas in a future version. Use pandas.concat instead.\n",
      "  df = df.append({'Email': email_current, 'Phone_number': phone_number_current}, ignore_index=True)\n",
      "C:\\Users\\Hamza\\AppData\\Local\\Temp\\ipykernel_11596\\2871599656.py:26: FutureWarning: The frame.append method is deprecated and will be removed from pandas in a future version. Use pandas.concat instead.\n",
      "  df = df.append({'Email': email_current, 'Phone_number': phone_number_current}, ignore_index=True)\n"
     ]
    },
    {
     "name": "stdout",
     "output_type": "stream",
     "text": [
      "['branfeng@mit.edu'] []  has been extracted at iteration  217\n",
      "['zfergus@csail.mit.edu'] []  has been extracted at iteration  217\n",
      "['feser@mit.edu'] []  has been extracted at iteration  217\n"
     ]
    },
    {
     "name": "stderr",
     "output_type": "stream",
     "text": [
      "C:\\Users\\Hamza\\AppData\\Local\\Temp\\ipykernel_11596\\2871599656.py:26: FutureWarning: The frame.append method is deprecated and will be removed from pandas in a future version. Use pandas.concat instead.\n",
      "  df = df.append({'Email': email_current, 'Phone_number': phone_number_current}, ignore_index=True)\n",
      "C:\\Users\\Hamza\\AppData\\Local\\Temp\\ipykernel_11596\\2871599656.py:26: FutureWarning: The frame.append method is deprecated and will be removed from pandas in a future version. Use pandas.concat instead.\n",
      "  df = df.append({'Email': email_current, 'Phone_number': phone_number_current}, ignore_index=True)\n",
      "C:\\Users\\Hamza\\AppData\\Local\\Temp\\ipykernel_11596\\2871599656.py:26: FutureWarning: The frame.append method is deprecated and will be removed from pandas in a future version. Use pandas.concat instead.\n",
      "  df = df.append({'Email': email_current, 'Phone_number': phone_number_current}, ignore_index=True)\n"
     ]
    },
    {
     "name": "stdout",
     "output_type": "stream",
     "text": [
      "['nolanfey@mit.edu'] []  has been extracted at iteration  217\n",
      "['gmanso@mit.edu'] []  has been extracted at iteration  217\n",
      "['mfirenze@mit.edu'] []  has been extracted at iteration  217\n"
     ]
    },
    {
     "name": "stderr",
     "output_type": "stream",
     "text": [
      "C:\\Users\\Hamza\\AppData\\Local\\Temp\\ipykernel_11596\\2871599656.py:26: FutureWarning: The frame.append method is deprecated and will be removed from pandas in a future version. Use pandas.concat instead.\n",
      "  df = df.append({'Email': email_current, 'Phone_number': phone_number_current}, ignore_index=True)\n",
      "C:\\Users\\Hamza\\AppData\\Local\\Temp\\ipykernel_11596\\2871599656.py:26: FutureWarning: The frame.append method is deprecated and will be removed from pandas in a future version. Use pandas.concat instead.\n",
      "  df = df.append({'Email': email_current, 'Phone_number': phone_number_current}, ignore_index=True)\n",
      "C:\\Users\\Hamza\\AppData\\Local\\Temp\\ipykernel_11596\\2871599656.py:26: FutureWarning: The frame.append method is deprecated and will be removed from pandas in a future version. Use pandas.concat instead.\n",
      "  df = df.append({'Email': email_current, 'Phone_number': phone_number_current}, ignore_index=True)\n"
     ]
    },
    {
     "name": "stdout",
     "output_type": "stream",
     "text": [
      "['fisch@mit.edu'] []  has been extracted at iteration  217\n",
      "['maxfish@mit.edu'] []  has been extracted at iteration  217\n",
      "['fisher@csail.mit.edu'] ['253-0788']  has been extracted at iteration  217\n",
      "['geflaspo@mit.edu'] []  has been extracted at iteration  217\n",
      "['megflynn@mit.edu'] []  has been extracted at iteration  217\n"
     ]
    },
    {
     "name": "stderr",
     "output_type": "stream",
     "text": [
      "C:\\Users\\Hamza\\AppData\\Local\\Temp\\ipykernel_11596\\2871599656.py:26: FutureWarning: The frame.append method is deprecated and will be removed from pandas in a future version. Use pandas.concat instead.\n",
      "  df = df.append({'Email': email_current, 'Phone_number': phone_number_current}, ignore_index=True)\n",
      "C:\\Users\\Hamza\\AppData\\Local\\Temp\\ipykernel_11596\\2871599656.py:26: FutureWarning: The frame.append method is deprecated and will be removed from pandas in a future version. Use pandas.concat instead.\n",
      "  df = df.append({'Email': email_current, 'Phone_number': phone_number_current}, ignore_index=True)\n",
      "C:\\Users\\Hamza\\AppData\\Local\\Temp\\ipykernel_11596\\2871599656.py:26: FutureWarning: The frame.append method is deprecated and will be removed from pandas in a future version. Use pandas.concat instead.\n",
      "  df = df.append({'Email': email_current, 'Phone_number': phone_number_current}, ignore_index=True)\n"
     ]
    },
    {
     "name": "stdout",
     "output_type": "stream",
     "text": [
      "['camilolu@mit.edu'] []  has been extracted at iteration  217\n",
      "['ckfourie@mit.edu'] []  has been extracted at iteration  217\n",
      "['AMYFOX@csail.mit.edu'] []  has been extracted at iteration  217\n"
     ]
    },
    {
     "name": "stderr",
     "output_type": "stream",
     "text": [
      "C:\\Users\\Hamza\\AppData\\Local\\Temp\\ipykernel_11596\\2871599656.py:26: FutureWarning: The frame.append method is deprecated and will be removed from pandas in a future version. Use pandas.concat instead.\n",
      "  df = df.append({'Email': email_current, 'Phone_number': phone_number_current}, ignore_index=True)\n",
      "C:\\Users\\Hamza\\AppData\\Local\\Temp\\ipykernel_11596\\2871599656.py:26: FutureWarning: The frame.append method is deprecated and will be removed from pandas in a future version. Use pandas.concat instead.\n",
      "  df = df.append({'Email': email_current, 'Phone_number': phone_number_current}, ignore_index=True)\n",
      "C:\\Users\\Hamza\\AppData\\Local\\Temp\\ipykernel_11596\\2871599656.py:26: FutureWarning: The frame.append method is deprecated and will be removed from pandas in a future version. Use pandas.concat instead.\n",
      "  df = df.append({'Email': email_current, 'Phone_number': phone_number_current}, ignore_index=True)\n"
     ]
    },
    {
     "name": "stdout",
     "output_type": "stream",
     "text": [
      "['jfrankle@mit.edu'] []  has been extracted at iteration  217\n",
      "['billf@csail.mit.edu'] ['253-8828']  has been extracted at iteration  217\n",
      "['friedj@mit.edu'] []  has been extracted at iteration  217\n"
     ]
    },
    {
     "name": "stderr",
     "output_type": "stream",
     "text": [
      "C:\\Users\\Hamza\\AppData\\Local\\Temp\\ipykernel_11596\\2871599656.py:26: FutureWarning: The frame.append method is deprecated and will be removed from pandas in a future version. Use pandas.concat instead.\n",
      "  df = df.append({'Email': email_current, 'Phone_number': phone_number_current}, ignore_index=True)\n",
      "C:\\Users\\Hamza\\AppData\\Local\\Temp\\ipykernel_11596\\2871599656.py:26: FutureWarning: The frame.append method is deprecated and will be removed from pandas in a future version. Use pandas.concat instead.\n",
      "  df = df.append({'Email': email_current, 'Phone_number': phone_number_current}, ignore_index=True)\n",
      "C:\\Users\\Hamza\\AppData\\Local\\Temp\\ipykernel_11596\\2871599656.py:26: FutureWarning: The frame.append method is deprecated and will be removed from pandas in a future version. Use pandas.concat instead.\n",
      "  df = df.append({'Email': email_current, 'Phone_number': phone_number_current}, ignore_index=True)\n"
     ]
    },
    {
     "name": "stdout",
     "output_type": "stream",
     "text": [
      "['DFROELIC@csail.mit.edu'] []  has been extracted at iteration  217\n",
      "['honghaof@mit.edu'] []  has been extracted at iteration  217\n",
      "['jiahuifu@csail.mit.edu'] []  has been extracted at iteration  217\n"
     ]
    },
    {
     "name": "stderr",
     "output_type": "stream",
     "text": [
      "C:\\Users\\Hamza\\AppData\\Local\\Temp\\ipykernel_11596\\2871599656.py:26: FutureWarning: The frame.append method is deprecated and will be removed from pandas in a future version. Use pandas.concat instead.\n",
      "  df = df.append({'Email': email_current, 'Phone_number': phone_number_current}, ignore_index=True)\n",
      "C:\\Users\\Hamza\\AppData\\Local\\Temp\\ipykernel_11596\\2871599656.py:26: FutureWarning: The frame.append method is deprecated and will be removed from pandas in a future version. Use pandas.concat instead.\n",
      "  df = df.append({'Email': email_current, 'Phone_number': phone_number_current}, ignore_index=True)\n",
      "C:\\Users\\Hamza\\AppData\\Local\\Temp\\ipykernel_11596\\2871599656.py:26: FutureWarning: The frame.append method is deprecated and will be removed from pandas in a future version. Use pandas.concat instead.\n",
      "  df = df.append({'Email': email_current, 'Phone_number': phone_number_current}, ignore_index=True)\n"
     ]
    },
    {
     "name": "stdout",
     "output_type": "stream",
     "text": [
      "['fus@mit.edu'] []  has been extracted at iteration  217\n",
      "['xiangfu@csail.mit.edu'] []  has been extracted at iteration  217\n",
      "['efuentes@mit.edu'] []  has been extracted at iteration  217\n"
     ]
    },
    {
     "name": "stderr",
     "output_type": "stream",
     "text": [
      "C:\\Users\\Hamza\\AppData\\Local\\Temp\\ipykernel_11596\\2871599656.py:26: FutureWarning: The frame.append method is deprecated and will be removed from pandas in a future version. Use pandas.concat instead.\n",
      "  df = df.append({'Email': email_current, 'Phone_number': phone_number_current}, ignore_index=True)\n",
      "C:\\Users\\Hamza\\AppData\\Local\\Temp\\ipykernel_11596\\2871599656.py:26: FutureWarning: The frame.append method is deprecated and will be removed from pandas in a future version. Use pandas.concat instead.\n",
      "  df = df.append({'Email': email_current, 'Phone_number': phone_number_current}, ignore_index=True)\n",
      "C:\\Users\\Hamza\\AppData\\Local\\Temp\\ipykernel_11596\\2871599656.py:26: FutureWarning: The frame.append method is deprecated and will be removed from pandas in a future version. Use pandas.concat instead.\n",
      "  df = df.append({'Email': email_current, 'Phone_number': phone_number_current}, ignore_index=True)\n"
     ]
    },
    {
     "name": "stdout",
     "output_type": "stream",
     "text": [
      "['VFUKALA@csail.mit.edu'] []  has been extracted at iteration  217\n",
      "['brg@mit.edu'] []  has been extracted at iteration  217\n",
      "['leognon@mit.edu'] []  has been extracted at iteration  217\n",
      "['kgalani@MIT.EDU'] []  has been extracted at iteration  217\n"
     ]
    },
    {
     "name": "stderr",
     "output_type": "stream",
     "text": [
      "C:\\Users\\Hamza\\AppData\\Local\\Temp\\ipykernel_11596\\2871599656.py:26: FutureWarning: The frame.append method is deprecated and will be removed from pandas in a future version. Use pandas.concat instead.\n",
      "  df = df.append({'Email': email_current, 'Phone_number': phone_number_current}, ignore_index=True)\n",
      "C:\\Users\\Hamza\\AppData\\Local\\Temp\\ipykernel_11596\\2871599656.py:26: FutureWarning: The frame.append method is deprecated and will be removed from pandas in a future version. Use pandas.concat instead.\n",
      "  df = df.append({'Email': email_current, 'Phone_number': phone_number_current}, ignore_index=True)\n",
      "C:\\Users\\Hamza\\AppData\\Local\\Temp\\ipykernel_11596\\2871599656.py:26: FutureWarning: The frame.append method is deprecated and will be removed from pandas in a future version. Use pandas.concat instead.\n",
      "  df = df.append({'Email': email_current, 'Phone_number': phone_number_current}, ignore_index=True)\n",
      "C:\\Users\\Hamza\\AppData\\Local\\Temp\\ipykernel_11596\\2871599656.py:26: FutureWarning: The frame.append method is deprecated and will be removed from pandas in a future version. Use pandas.concat instead.\n",
      "  df = df.append({'Email': email_current, 'Phone_number': phone_number_current}, ignore_index=True)\n",
      "C:\\Users\\Hamza\\AppData\\Local\\Temp\\ipykernel_11596\\2871599656.py:26: FutureWarning: The frame.append method is deprecated and will be removed from pandas in a future version. Use pandas.concat instead.\n",
      "  df = df.append({'Email': email_current, 'Phone_number': phone_number_current}, ignore_index=True)\n",
      "C:\\Users\\Hamza\\AppData\\Local\\Temp\\ipykernel_11596\\2871599656.py:26: FutureWarning: The frame.append method is deprecated and will be removed from pandas in a future version. Use pandas.concat instead.\n",
      "  df = df.append({'Email': email_current, 'Phone_number': phone_number_current}, ignore_index=True)\n"
     ]
    },
    {
     "name": "stdout",
     "output_type": "stream",
     "text": [
      "['tfg@mit.edu'] []  has been extracted at iteration  217\n",
      "['HANNGAO@csail.mit.edu'] []  has been extracted at iteration  217\n",
      "['TRINITYG@csail.mit.edu'] []  has been extracted at iteration  217\n"
     ]
    },
    {
     "name": "stderr",
     "output_type": "stream",
     "text": [
      "C:\\Users\\Hamza\\AppData\\Local\\Temp\\ipykernel_11596\\2871599656.py:26: FutureWarning: The frame.append method is deprecated and will be removed from pandas in a future version. Use pandas.concat instead.\n",
      "  df = df.append({'Email': email_current, 'Phone_number': phone_number_current}, ignore_index=True)\n",
      "C:\\Users\\Hamza\\AppData\\Local\\Temp\\ipykernel_11596\\2871599656.py:26: FutureWarning: The frame.append method is deprecated and will be removed from pandas in a future version. Use pandas.concat instead.\n",
      "  df = df.append({'Email': email_current, 'Phone_number': phone_number_current}, ignore_index=True)\n",
      "C:\\Users\\Hamza\\AppData\\Local\\Temp\\ipykernel_11596\\2871599656.py:26: FutureWarning: The frame.append method is deprecated and will be removed from pandas in a future version. Use pandas.concat instead.\n",
      "  df = df.append({'Email': email_current, 'Phone_number': phone_number_current}, ignore_index=True)\n"
     ]
    },
    {
     "name": "stdout",
     "output_type": "stream",
     "text": [
      "['razgaon@mit.edu'] []  has been extracted at iteration  217\n",
      "['timur@csail.mit.edu'] []  has been extracted at iteration  217\n",
      "['iagatlin@csail.mit.edu'] []  has been extracted at iteration  217\n"
     ]
    },
    {
     "name": "stderr",
     "output_type": "stream",
     "text": [
      "C:\\Users\\Hamza\\AppData\\Local\\Temp\\ipykernel_11596\\2871599656.py:26: FutureWarning: The frame.append method is deprecated and will be removed from pandas in a future version. Use pandas.concat instead.\n",
      "  df = df.append({'Email': email_current, 'Phone_number': phone_number_current}, ignore_index=True)\n",
      "C:\\Users\\Hamza\\AppData\\Local\\Temp\\ipykernel_11596\\2871599656.py:26: FutureWarning: The frame.append method is deprecated and will be removed from pandas in a future version. Use pandas.concat instead.\n",
      "  df = df.append({'Email': email_current, 'Phone_number': phone_number_current}, ignore_index=True)\n",
      "C:\\Users\\Hamza\\AppData\\Local\\Temp\\ipykernel_11596\\2871599656.py:26: FutureWarning: The frame.append method is deprecated and will be removed from pandas in a future version. Use pandas.concat instead.\n",
      "  df = df.append({'Email': email_current, 'Phone_number': phone_number_current}, ignore_index=True)\n"
     ]
    },
    {
     "name": "stdout",
     "output_type": "stream",
     "text": [
      "['gatmiry@mit.edu'] []  has been extracted at iteration  217\n",
      "['krisgrg@mit.edu'] []  has been extracted at iteration  217\n",
      "['ghaffari@mit.edu'] []  has been extracted at iteration  217\n"
     ]
    },
    {
     "name": "stderr",
     "output_type": "stream",
     "text": [
      "C:\\Users\\Hamza\\AppData\\Local\\Temp\\ipykernel_11596\\2871599656.py:26: FutureWarning: The frame.append method is deprecated and will be removed from pandas in a future version. Use pandas.concat instead.\n",
      "  df = df.append({'Email': email_current, 'Phone_number': phone_number_current}, ignore_index=True)\n",
      "C:\\Users\\Hamza\\AppData\\Local\\Temp\\ipykernel_11596\\2871599656.py:26: FutureWarning: The frame.append method is deprecated and will be removed from pandas in a future version. Use pandas.concat instead.\n",
      "  df = df.append({'Email': email_current, 'Phone_number': phone_number_current}, ignore_index=True)\n",
      "C:\\Users\\Hamza\\AppData\\Local\\Temp\\ipykernel_11596\\2871599656.py:26: FutureWarning: The frame.append method is deprecated and will be removed from pandas in a future version. Use pandas.concat instead.\n",
      "  df = df.append({'Email': email_current, 'Phone_number': phone_number_current}, ignore_index=True)\n"
     ]
    },
    {
     "name": "stdout",
     "output_type": "stream",
     "text": [
      "['mghassem@MIT.EDU'] []  has been extracted at iteration  217\n",
      "['ghobadi@mit.edu'] []  has been extracted at iteration  217\n",
      "['shinghos@MIT.EDU'] []  has been extracted at iteration  217\n"
     ]
    },
    {
     "name": "stderr",
     "output_type": "stream",
     "text": [
      "C:\\Users\\Hamza\\AppData\\Local\\Temp\\ipykernel_11596\\2871599656.py:26: FutureWarning: The frame.append method is deprecated and will be removed from pandas in a future version. Use pandas.concat instead.\n",
      "  df = df.append({'Email': email_current, 'Phone_number': phone_number_current}, ignore_index=True)\n",
      "C:\\Users\\Hamza\\AppData\\Local\\Temp\\ipykernel_11596\\2871599656.py:26: FutureWarning: The frame.append method is deprecated and will be removed from pandas in a future version. Use pandas.concat instead.\n",
      "  df = df.append({'Email': email_current, 'Phone_number': phone_number_current}, ignore_index=True)\n",
      "C:\\Users\\Hamza\\AppData\\Local\\Temp\\ipykernel_11596\\2871599656.py:26: FutureWarning: The frame.append method is deprecated and will be removed from pandas in a future version. Use pandas.concat instead.\n",
      "  df = df.append({'Email': email_current, 'Phone_number': phone_number_current}, ignore_index=True)\n"
     ]
    },
    {
     "name": "stdout",
     "output_type": "stream",
     "text": [
      "['yoshigho@mit.edu'] []  has been extracted at iteration  217\n",
      "['gifford@csail.mit.edu'] ['253-6039']  has been extracted at iteration  217\n",
      "['jricpow@csail.mit.edu'] []  has been extracted at iteration  217\n",
      "['bilkitg@mit.edu'] []  has been extracted at iteration  217\n",
      "['glass@mit.edu'] ['253-1640']  has been extracted at iteration  217\n"
     ]
    },
    {
     "name": "stderr",
     "output_type": "stream",
     "text": [
      "C:\\Users\\Hamza\\AppData\\Local\\Temp\\ipykernel_11596\\2871599656.py:26: FutureWarning: The frame.append method is deprecated and will be removed from pandas in a future version. Use pandas.concat instead.\n",
      "  df = df.append({'Email': email_current, 'Phone_number': phone_number_current}, ignore_index=True)\n",
      "C:\\Users\\Hamza\\AppData\\Local\\Temp\\ipykernel_11596\\2871599656.py:26: FutureWarning: The frame.append method is deprecated and will be removed from pandas in a future version. Use pandas.concat instead.\n",
      "  df = df.append({'Email': email_current, 'Phone_number': phone_number_current}, ignore_index=True)\n",
      "C:\\Users\\Hamza\\AppData\\Local\\Temp\\ipykernel_11596\\2871599656.py:26: FutureWarning: The frame.append method is deprecated and will be removed from pandas in a future version. Use pandas.concat instead.\n",
      "  df = df.append({'Email': email_current, 'Phone_number': phone_number_current}, ignore_index=True)\n"
     ]
    },
    {
     "name": "stdout",
     "output_type": "stream",
     "text": [
      "['gnadt@csail.MIT.EDU'] []  has been extracted at iteration  217\n",
      "['samay@csail.mit.edu'] []  has been extracted at iteration  217\n",
      "['agoehler@mit.edu'] []  has been extracted at iteration  217\n"
     ]
    },
    {
     "name": "stderr",
     "output_type": "stream",
     "text": [
      "C:\\Users\\Hamza\\AppData\\Local\\Temp\\ipykernel_11596\\2871599656.py:26: FutureWarning: The frame.append method is deprecated and will be removed from pandas in a future version. Use pandas.concat instead.\n",
      "  df = df.append({'Email': email_current, 'Phone_number': phone_number_current}, ignore_index=True)\n",
      "C:\\Users\\Hamza\\AppData\\Local\\Temp\\ipykernel_11596\\2871599656.py:26: FutureWarning: The frame.append method is deprecated and will be removed from pandas in a future version. Use pandas.concat instead.\n",
      "  df = df.append({'Email': email_current, 'Phone_number': phone_number_current}, ignore_index=True)\n",
      "C:\\Users\\Hamza\\AppData\\Local\\Temp\\ipykernel_11596\\2871599656.py:26: FutureWarning: The frame.append method is deprecated and will be removed from pandas in a future version. Use pandas.concat instead.\n",
      "  df = df.append({'Email': email_current, 'Phone_number': phone_number_current}, ignore_index=True)\n"
     ]
    },
    {
     "name": "stdout",
     "output_type": "stream",
     "text": [
      "['goemans@csail.mit.edu'] ['253-2688']  has been extracted at iteration  217\n",
      "['VARUNCG@csail.mit.edu'] []  has been extracted at iteration  217\n",
      "['DAKOTA@csail.mit.edu'] []  has been extracted at iteration  217\n"
     ]
    },
    {
     "name": "stderr",
     "output_type": "stream",
     "text": [
      "C:\\Users\\Hamza\\AppData\\Local\\Temp\\ipykernel_11596\\2871599656.py:26: FutureWarning: The frame.append method is deprecated and will be removed from pandas in a future version. Use pandas.concat instead.\n",
      "  df = df.append({'Email': email_current, 'Phone_number': phone_number_current}, ignore_index=True)\n",
      "C:\\Users\\Hamza\\AppData\\Local\\Temp\\ipykernel_11596\\2871599656.py:26: FutureWarning: The frame.append method is deprecated and will be removed from pandas in a future version. Use pandas.concat instead.\n",
      "  df = df.append({'Email': email_current, 'Phone_number': phone_number_current}, ignore_index=True)\n",
      "C:\\Users\\Hamza\\AppData\\Local\\Temp\\ipykernel_11596\\2871599656.py:26: FutureWarning: The frame.append method is deprecated and will be removed from pandas in a future version. Use pandas.concat instead.\n",
      "  df = df.append({'Email': email_current, 'Phone_number': phone_number_current}, ignore_index=True)\n"
     ]
    },
    {
     "name": "stdout",
     "output_type": "stream",
     "text": [
      "['cgolden@mit.edu'] []  has been extracted at iteration  217\n",
      "['shafi@csail.mit.edu'] ['253-5914']  has been extracted at iteration  217\n",
      "['polina@csail.mit.edu'] ['253-8005']  has been extracted at iteration  217\n"
     ]
    },
    {
     "name": "stderr",
     "output_type": "stream",
     "text": [
      "C:\\Users\\Hamza\\AppData\\Local\\Temp\\ipykernel_11596\\2871599656.py:26: FutureWarning: The frame.append method is deprecated and will be removed from pandas in a future version. Use pandas.concat instead.\n",
      "  df = df.append({'Email': email_current, 'Phone_number': phone_number_current}, ignore_index=True)\n",
      "C:\\Users\\Hamza\\AppData\\Local\\Temp\\ipykernel_11596\\2871599656.py:26: FutureWarning: The frame.append method is deprecated and will be removed from pandas in a future version. Use pandas.concat instead.\n",
      "  df = df.append({'Email': email_current, 'Phone_number': phone_number_current}, ignore_index=True)\n",
      "C:\\Users\\Hamza\\AppData\\Local\\Temp\\ipykernel_11596\\2871599656.py:26: FutureWarning: The frame.append method is deprecated and will be removed from pandas in a future version. Use pandas.concat instead.\n",
      "  df = df.append({'Email': email_current, 'Phone_number': phone_number_current}, ignore_index=True)\n"
     ]
    },
    {
     "name": "stdout",
     "output_type": "stream",
     "text": [
      "['nzg@mit.edu'] []  has been extracted at iteration  217\n",
      "['tagomez7@mit.edu'] []  has been extracted at iteration  217\n",
      "['yuangong@csail.mit.edu'] []  has been extracted at iteration  217\n"
     ]
    },
    {
     "name": "stderr",
     "output_type": "stream",
     "text": [
      "C:\\Users\\Hamza\\AppData\\Local\\Temp\\ipykernel_11596\\2871599656.py:26: FutureWarning: The frame.append method is deprecated and will be removed from pandas in a future version. Use pandas.concat instead.\n",
      "  df = df.append({'Email': email_current, 'Phone_number': phone_number_current}, ignore_index=True)\n",
      "C:\\Users\\Hamza\\AppData\\Local\\Temp\\ipykernel_11596\\2871599656.py:26: FutureWarning: The frame.append method is deprecated and will be removed from pandas in a future version. Use pandas.concat instead.\n",
      "  df = df.append({'Email': email_current, 'Phone_number': phone_number_current}, ignore_index=True)\n",
      "C:\\Users\\Hamza\\AppData\\Local\\Temp\\ipykernel_11596\\2871599656.py:26: FutureWarning: The frame.append method is deprecated and will be removed from pandas in a future version. Use pandas.concat instead.\n",
      "  df = df.append({'Email': email_current, 'Phone_number': phone_number_current}, ignore_index=True)\n"
     ]
    },
    {
     "name": "stdout",
     "output_type": "stream",
     "text": [
      "['mariarg@mit.edu'] []  has been extracted at iteration  217\n",
      "['jjgo@mit.edu'] []  has been extracted at iteration  217\n",
      "['vivekg@mit.edu'] []  has been extracted at iteration  217\n"
     ]
    },
    {
     "name": "stderr",
     "output_type": "stream",
     "text": [
      "C:\\Users\\Hamza\\AppData\\Local\\Temp\\ipykernel_11596\\2871599656.py:26: FutureWarning: The frame.append method is deprecated and will be removed from pandas in a future version. Use pandas.concat instead.\n",
      "  df = df.append({'Email': email_current, 'Phone_number': phone_number_current}, ignore_index=True)\n",
      "C:\\Users\\Hamza\\AppData\\Local\\Temp\\ipykernel_11596\\2871599656.py:26: FutureWarning: The frame.append method is deprecated and will be removed from pandas in a future version. Use pandas.concat instead.\n",
      "  df = df.append({'Email': email_current, 'Phone_number': phone_number_current}, ignore_index=True)\n",
      "C:\\Users\\Hamza\\AppData\\Local\\Temp\\ipykernel_11596\\2871599656.py:26: FutureWarning: The frame.append method is deprecated and will be removed from pandas in a future version. Use pandas.concat instead.\n",
      "  df = df.append({'Email': email_current, 'Phone_number': phone_number_current}, ignore_index=True)\n"
     ]
    },
    {
     "name": "stdout",
     "output_type": "stream",
     "text": [
      "['nishadg@csail.mit.edu'] []  has been extracted at iteration  217\n",
      "['lgovedic@mit.edu'] []  has been extracted at iteration  217\n",
      "['gowda@MIT.EDU'] []  has been extracted at iteration  217\n"
     ]
    },
    {
     "name": "stderr",
     "output_type": "stream",
     "text": [
      "C:\\Users\\Hamza\\AppData\\Local\\Temp\\ipykernel_11596\\2871599656.py:26: FutureWarning: The frame.append method is deprecated and will be removed from pandas in a future version. Use pandas.concat instead.\n",
      "  df = df.append({'Email': email_current, 'Phone_number': phone_number_current}, ignore_index=True)\n",
      "C:\\Users\\Hamza\\AppData\\Local\\Temp\\ipykernel_11596\\2871599656.py:26: FutureWarning: The frame.append method is deprecated and will be removed from pandas in a future version. Use pandas.concat instead.\n",
      "  df = df.append({'Email': email_current, 'Phone_number': phone_number_current}, ignore_index=True)\n",
      "C:\\Users\\Hamza\\AppData\\Local\\Temp\\ipykernel_11596\\2871599656.py:26: FutureWarning: The frame.append method is deprecated and will be removed from pandas in a future version. Use pandas.concat instead.\n",
      "  df = df.append({'Email': email_current, 'Phone_number': phone_number_current}, ignore_index=True)\n"
     ]
    },
    {
     "name": "stdout",
     "output_type": "stream",
     "text": [
      "['scmgowda@mit.edu'] []  has been extracted at iteration  217\n",
      "['graesdal@mit.edu'] []  has been extracted at iteration  217\n",
      "['grandg@mit.edu'] []  has been extracted at iteration  217\n"
     ]
    },
    {
     "name": "stderr",
     "output_type": "stream",
     "text": [
      "C:\\Users\\Hamza\\AppData\\Local\\Temp\\ipykernel_11596\\2871599656.py:26: FutureWarning: The frame.append method is deprecated and will be removed from pandas in a future version. Use pandas.concat instead.\n",
      "  df = df.append({'Email': email_current, 'Phone_number': phone_number_current}, ignore_index=True)\n",
      "C:\\Users\\Hamza\\AppData\\Local\\Temp\\ipykernel_11596\\2871599656.py:26: FutureWarning: The frame.append method is deprecated and will be removed from pandas in a future version. Use pandas.concat instead.\n",
      "  df = df.append({'Email': email_current, 'Phone_number': phone_number_current}, ignore_index=True)\n",
      "C:\\Users\\Hamza\\AppData\\Local\\Temp\\ipykernel_11596\\2871599656.py:26: FutureWarning: The frame.append method is deprecated and will be removed from pandas in a future version. Use pandas.concat instead.\n",
      "  df = df.append({'Email': email_current, 'Phone_number': phone_number_current}, ignore_index=True)\n"
     ]
    },
    {
     "name": "stdout",
     "output_type": "stream",
     "text": [
      "['agrayson@csail.mit.edu'] []  has been extracted at iteration  217\n",
      "['wng@csail.mit.edu'] []  has been extracted at iteration  217\n",
      "['egrimson@mit.edu'] ['253-5415']  has been extracted at iteration  217\n"
     ]
    },
    {
     "name": "stderr",
     "output_type": "stream",
     "text": [
      "C:\\Users\\Hamza\\AppData\\Local\\Temp\\ipykernel_11596\\2871599656.py:26: FutureWarning: The frame.append method is deprecated and will be removed from pandas in a future version. Use pandas.concat instead.\n",
      "  df = df.append({'Email': email_current, 'Phone_number': phone_number_current}, ignore_index=True)\n",
      "C:\\Users\\Hamza\\AppData\\Local\\Temp\\ipykernel_11596\\2871599656.py:26: FutureWarning: The frame.append method is deprecated and will be removed from pandas in a future version. Use pandas.concat instead.\n",
      "  df = df.append({'Email': email_current, 'Phone_number': phone_number_current}, ignore_index=True)\n",
      "C:\\Users\\Hamza\\AppData\\Local\\Temp\\ipykernel_11596\\2871599656.py:26: FutureWarning: The frame.append method is deprecated and will be removed from pandas in a future version. Use pandas.concat instead.\n",
      "  df = df.append({'Email': email_current, 'Phone_number': phone_number_current}, ignore_index=True)\n"
     ]
    },
    {
     "name": "stdout",
     "output_type": "stream",
     "text": [
      "['hannah@csail.mit.edu'] []  has been extracted at iteration  217\n",
      "['jgross@mit.edu'] []  has been extracted at iteration  217\n"
     ]
    },
    {
     "name": "stderr",
     "output_type": "stream",
     "text": [
      "C:\\Users\\Hamza\\AppData\\Local\\Temp\\ipykernel_11596\\2871599656.py:26: FutureWarning: The frame.append method is deprecated and will be removed from pandas in a future version. Use pandas.concat instead.\n",
      "  df = df.append({'Email': email_current, 'Phone_number': phone_number_current}, ignore_index=True)\n",
      "C:\\Users\\Hamza\\AppData\\Local\\Temp\\ipykernel_11596\\2871599656.py:26: FutureWarning: The frame.append method is deprecated and will be removed from pandas in a future version. Use pandas.concat instead.\n",
      "  df = df.append({'Email': email_current, 'Phone_number': phone_number_current}, ignore_index=True)\n",
      "C:\\Users\\Hamza\\AppData\\Local\\Temp\\ipykernel_11596\\2871599656.py:26: FutureWarning: The frame.append method is deprecated and will be removed from pandas in a future version. Use pandas.concat instead.\n",
      "  df = df.append({'Email': email_current, 'Phone_number': phone_number_current}, ignore_index=True)\n"
     ]
    },
    {
     "name": "stdout",
     "output_type": "stream",
     "text": [
      "['ogrossma@mit.edu'] []  has been extracted at iteration  217\n",
      "['gruetter@mit.edu'] []  has been extracted at iteration  217\n"
     ]
    },
    {
     "name": "stderr",
     "output_type": "stream",
     "text": [
      "C:\\Users\\Hamza\\AppData\\Local\\Temp\\ipykernel_11596\\2871599656.py:26: FutureWarning: The frame.append method is deprecated and will be removed from pandas in a future version. Use pandas.concat instead.\n",
      "  df = df.append({'Email': email_current, 'Phone_number': phone_number_current}, ignore_index=True)\n",
      "C:\\Users\\Hamza\\AppData\\Local\\Temp\\ipykernel_11596\\2871599656.py:26: FutureWarning: The frame.append method is deprecated and will be removed from pandas in a future version. Use pandas.concat instead.\n",
      "  df = df.append({'Email': email_current, 'Phone_number': phone_number_current}, ignore_index=True)\n"
     ]
    },
    {
     "name": "stdout",
     "output_type": "stream",
     "text": [
      "['gua@mit.edu'] []  has been extracted at iteration  217\n",
      "['GUR1@csail.mit.edu'] []  has been extracted at iteration  217\n"
     ]
    },
    {
     "name": "stderr",
     "output_type": "stream",
     "text": [
      "C:\\Users\\Hamza\\AppData\\Local\\Temp\\ipykernel_11596\\2871599656.py:26: FutureWarning: The frame.append method is deprecated and will be removed from pandas in a future version. Use pandas.concat instead.\n",
      "  df = df.append({'Email': email_current, 'Phone_number': phone_number_current}, ignore_index=True)\n",
      "C:\\Users\\Hamza\\AppData\\Local\\Temp\\ipykernel_11596\\2871599656.py:26: FutureWarning: The frame.append method is deprecated and will be removed from pandas in a future version. Use pandas.concat instead.\n",
      "  df = df.append({'Email': email_current, 'Phone_number': phone_number_current}, ignore_index=True)\n"
     ]
    },
    {
     "name": "stdout",
     "output_type": "stream",
     "text": [
      "['sgulati@mit.edu'] []  has been extracted at iteration  217\n",
      "['carlguo@mit.edu'] []  has been extracted at iteration  217\n"
     ]
    },
    {
     "name": "stderr",
     "output_type": "stream",
     "text": [
      "C:\\Users\\Hamza\\AppData\\Local\\Temp\\ipykernel_11596\\2871599656.py:26: FutureWarning: The frame.append method is deprecated and will be removed from pandas in a future version. Use pandas.concat instead.\n",
      "  df = df.append({'Email': email_current, 'Phone_number': phone_number_current}, ignore_index=True)\n",
      "C:\\Users\\Hamza\\AppData\\Local\\Temp\\ipykernel_11596\\2871599656.py:26: FutureWarning: The frame.append method is deprecated and will be removed from pandas in a future version. Use pandas.concat instead.\n",
      "  df = df.append({'Email': email_current, 'Phone_number': phone_number_current}, ignore_index=True)\n"
     ]
    },
    {
     "name": "stdout",
     "output_type": "stream",
     "text": [
      "['minghaog@mit.edu'] []  has been extracted at iteration  217\n",
      "['abhig@mit.edu'] []  has been extracted at iteration  217\n",
      "['agupta@MIT.EDU'] ['253-0418']  has been extracted at iteration  217\n"
     ]
    },
    {
     "name": "stderr",
     "output_type": "stream",
     "text": [
      "C:\\Users\\Hamza\\AppData\\Local\\Temp\\ipykernel_11596\\2871599656.py:26: FutureWarning: The frame.append method is deprecated and will be removed from pandas in a future version. Use pandas.concat instead.\n",
      "  df = df.append({'Email': email_current, 'Phone_number': phone_number_current}, ignore_index=True)\n",
      "C:\\Users\\Hamza\\AppData\\Local\\Temp\\ipykernel_11596\\2871599656.py:26: FutureWarning: The frame.append method is deprecated and will be removed from pandas in a future version. Use pandas.concat instead.\n",
      "  df = df.append({'Email': email_current, 'Phone_number': phone_number_current}, ignore_index=True)\n"
     ]
    },
    {
     "name": "stdout",
     "output_type": "stream",
     "text": [
      "['kavig@MIT.EDU'] []  has been extracted at iteration  217\n",
      "['sejalg@mit.edu'] []  has been extracted at iteration  217\n",
      "['sharut@mit.edu'] []  has been extracted at iteration  217\n"
     ]
    },
    {
     "name": "stderr",
     "output_type": "stream",
     "text": [
      "C:\\Users\\Hamza\\AppData\\Local\\Temp\\ipykernel_11596\\2871599656.py:26: FutureWarning: The frame.append method is deprecated and will be removed from pandas in a future version. Use pandas.concat instead.\n",
      "  df = df.append({'Email': email_current, 'Phone_number': phone_number_current}, ignore_index=True)\n",
      "C:\\Users\\Hamza\\AppData\\Local\\Temp\\ipykernel_11596\\2871599656.py:26: FutureWarning: The frame.append method is deprecated and will be removed from pandas in a future version. Use pandas.concat instead.\n",
      "  df = df.append({'Email': email_current, 'Phone_number': phone_number_current}, ignore_index=True)\n",
      "C:\\Users\\Hamza\\AppData\\Local\\Temp\\ipykernel_11596\\2871599656.py:26: FutureWarning: The frame.append method is deprecated and will be removed from pandas in a future version. Use pandas.concat instead.\n",
      "  df = df.append({'Email': email_current, 'Phone_number': phone_number_current}, ignore_index=True)\n"
     ]
    },
    {
     "name": "stdout",
     "output_type": "stream",
     "text": [
      "['sgurev@mit.edu'] []  has been extracted at iteration  217\n",
      "['valmg@csail.mit.edu'] []  has been extracted at iteration  217\n",
      "['guttag@csail.mit.edu'] ['253-6022']  has been extracted at iteration  217\n"
     ]
    },
    {
     "name": "stderr",
     "output_type": "stream",
     "text": [
      "C:\\Users\\Hamza\\AppData\\Local\\Temp\\ipykernel_11596\\2871599656.py:26: FutureWarning: The frame.append method is deprecated and will be removed from pandas in a future version. Use pandas.concat instead.\n",
      "  df = df.append({'Email': email_current, 'Phone_number': phone_number_current}, ignore_index=True)\n",
      "C:\\Users\\Hamza\\AppData\\Local\\Temp\\ipykernel_11596\\2871599656.py:26: FutureWarning: The frame.append method is deprecated and will be removed from pandas in a future version. Use pandas.concat instead.\n",
      "  df = df.append({'Email': email_current, 'Phone_number': phone_number_current}, ignore_index=True)\n",
      "C:\\Users\\Hamza\\AppData\\Local\\Temp\\ipykernel_11596\\2871599656.py:26: FutureWarning: The frame.append method is deprecated and will be removed from pandas in a future version. Use pandas.concat instead.\n",
      "  df = df.append({'Email': email_current, 'Phone_number': phone_number_current}, ignore_index=True)\n",
      "C:\\Users\\Hamza\\AppData\\Local\\Temp\\ipykernel_11596\\2871599656.py:26: FutureWarning: The frame.append method is deprecated and will be removed from pandas in a future version. Use pandas.concat instead.\n",
      "  df = df.append({'Email': email_current, 'Phone_number': phone_number_current}, ignore_index=True)\n",
      "C:\\Users\\Hamza\\AppData\\Local\\Temp\\ipykernel_11596\\2871599656.py:26: FutureWarning: The frame.append method is deprecated and will be removed from pandas in a future version. Use pandas.concat instead.\n",
      "  df = df.append({'Email': email_current, 'Phone_number': phone_number_current}, ignore_index=True)\n"
     ]
    },
    {
     "name": "stdout",
     "output_type": "stream",
     "text": [
      "['dhm@csail.mit.edu'] ['258-0672']  has been extracted at iteration  217\n",
      "['hagemann@csail.mit.edu'] []  has been extracted at iteration  217\n",
      "['hagenow@mit.edu'] []  has been extracted at iteration  217\n"
     ]
    },
    {
     "name": "stderr",
     "output_type": "stream",
     "text": [
      "C:\\Users\\Hamza\\AppData\\Local\\Temp\\ipykernel_11596\\2871599656.py:26: FutureWarning: The frame.append method is deprecated and will be removed from pandas in a future version. Use pandas.concat instead.\n",
      "  df = df.append({'Email': email_current, 'Phone_number': phone_number_current}, ignore_index=True)\n",
      "C:\\Users\\Hamza\\AppData\\Local\\Temp\\ipykernel_11596\\2871599656.py:26: FutureWarning: The frame.append method is deprecated and will be removed from pandas in a future version. Use pandas.concat instead.\n",
      "  df = df.append({'Email': email_current, 'Phone_number': phone_number_current}, ignore_index=True)\n"
     ]
    },
    {
     "name": "stdout",
     "output_type": "stream",
     "text": [
      "['pouyah@MIT.EDU'] []  has been extracted at iteration  217\n",
      "['markth@mit.edu'] []  has been extracted at iteration  217\n",
      "['clariseh@csail.mit.edu'] []  has been extracted at iteration  217\n"
     ]
    },
    {
     "name": "stderr",
     "output_type": "stream",
     "text": [
      "C:\\Users\\Hamza\\AppData\\Local\\Temp\\ipykernel_11596\\2871599656.py:26: FutureWarning: The frame.append method is deprecated and will be removed from pandas in a future version. Use pandas.concat instead.\n",
      "  df = df.append({'Email': email_current, 'Phone_number': phone_number_current}, ignore_index=True)\n",
      "C:\\Users\\Hamza\\AppData\\Local\\Temp\\ipykernel_11596\\2871599656.py:26: FutureWarning: The frame.append method is deprecated and will be removed from pandas in a future version. Use pandas.concat instead.\n",
      "  df = df.append({'Email': email_current, 'Phone_number': phone_number_current}, ignore_index=True)\n",
      "C:\\Users\\Hamza\\AppData\\Local\\Temp\\ipykernel_11596\\2871599656.py:26: FutureWarning: The frame.append method is deprecated and will be removed from pandas in a future version. Use pandas.concat instead.\n",
      "  df = df.append({'Email': email_current, 'Phone_number': phone_number_current}, ignore_index=True)\n"
     ]
    },
    {
     "name": "stdout",
     "output_type": "stream",
     "text": [
      "['swhan@mit.edu'] []  has been extracted at iteration  217\n",
      "['weiqiaoh@mit.edu'] []  has been extracted at iteration  217\n",
      "['xikun@csail.mit.edu'] []  has been extracted at iteration  217\n"
     ]
    },
    {
     "name": "stderr",
     "output_type": "stream",
     "text": [
      "C:\\Users\\Hamza\\AppData\\Local\\Temp\\ipykernel_11596\\2871599656.py:26: FutureWarning: The frame.append method is deprecated and will be removed from pandas in a future version. Use pandas.concat instead.\n",
      "  df = df.append({'Email': email_current, 'Phone_number': phone_number_current}, ignore_index=True)\n",
      "C:\\Users\\Hamza\\AppData\\Local\\Temp\\ipykernel_11596\\2871599656.py:26: FutureWarning: The frame.append method is deprecated and will be removed from pandas in a future version. Use pandas.concat instead.\n",
      "  df = df.append({'Email': email_current, 'Phone_number': phone_number_current}, ignore_index=True)\n",
      "C:\\Users\\Hamza\\AppData\\Local\\Temp\\ipykernel_11596\\2871599656.py:26: FutureWarning: The frame.append method is deprecated and will be removed from pandas in a future version. Use pandas.concat instead.\n",
      "  df = df.append({'Email': email_current, 'Phone_number': phone_number_current}, ignore_index=True)\n"
     ]
    },
    {
     "name": "stdout",
     "output_type": "stream",
     "text": [
      "['silvina@MIT.EDU'] []  has been extracted at iteration  217\n",
      "['hansena@mit.edu'] []  has been extracted at iteration  217\n",
      "['nharasha@mit.edu'] []  has been extracted at iteration  217\n"
     ]
    },
    {
     "name": "stderr",
     "output_type": "stream",
     "text": [
      "C:\\Users\\Hamza\\AppData\\Local\\Temp\\ipykernel_11596\\2871599656.py:26: FutureWarning: The frame.append method is deprecated and will be removed from pandas in a future version. Use pandas.concat instead.\n",
      "  df = df.append({'Email': email_current, 'Phone_number': phone_number_current}, ignore_index=True)\n",
      "C:\\Users\\Hamza\\AppData\\Local\\Temp\\ipykernel_11596\\2871599656.py:26: FutureWarning: The frame.append method is deprecated and will be removed from pandas in a future version. Use pandas.concat instead.\n",
      "  df = df.append({'Email': email_current, 'Phone_number': phone_number_current}, ignore_index=True)\n",
      "C:\\Users\\Hamza\\AppData\\Local\\Temp\\ipykernel_11596\\2871599656.py:26: FutureWarning: The frame.append method is deprecated and will be removed from pandas in a future version. Use pandas.concat instead.\n",
      "  df = df.append({'Email': email_current, 'Phone_number': phone_number_current}, ignore_index=True)\n"
     ]
    },
    {
     "name": "stdout",
     "output_type": "stream",
     "text": [
      "['fox@csail.mit.edu'] ['324-4278']  has been extracted at iteration  217\n",
      "['annekh@mit.edu'] []  has been extracted at iteration  217\n"
     ]
    },
    {
     "name": "stderr",
     "output_type": "stream",
     "text": [
      "C:\\Users\\Hamza\\AppData\\Local\\Temp\\ipykernel_11596\\2871599656.py:26: FutureWarning: The frame.append method is deprecated and will be removed from pandas in a future version. Use pandas.concat instead.\n",
      "  df = df.append({'Email': email_current, 'Phone_number': phone_number_current}, ignore_index=True)\n",
      "C:\\Users\\Hamza\\AppData\\Local\\Temp\\ipykernel_11596\\2871599656.py:26: FutureWarning: The frame.append method is deprecated and will be removed from pandas in a future version. Use pandas.concat instead.\n",
      "  df = df.append({'Email': email_current, 'Phone_number': phone_number_current}, ignore_index=True)\n"
     ]
    },
    {
     "name": "stdout",
     "output_type": "stream",
     "text": [
      "['BSHARRIS@csail.mit.edu'] []  has been extracted at iteration  217\n",
      "['charshaw@csail.mit.edu'] []  has been extracted at iteration  217\n",
      "['rhasani@csail.mit.edu'] [] "
     ]
    },
    {
     "name": "stderr",
     "output_type": "stream",
     "text": [
      "C:\\Users\\Hamza\\AppData\\Local\\Temp\\ipykernel_11596\\2871599656.py:26: FutureWarning: The frame.append method is deprecated and will be removed from pandas in a future version. Use pandas.concat instead.\n",
      "  df = df.append({'Email': email_current, 'Phone_number': phone_number_current}, ignore_index=True)\n",
      "C:\\Users\\Hamza\\AppData\\Local\\Temp\\ipykernel_11596\\2871599656.py:26: FutureWarning: The frame.append method is deprecated and will be removed from pandas in a future version. Use pandas.concat instead.\n",
      "  df = df.append({'Email': email_current, 'Phone_number': phone_number_current}, ignore_index=True)\n",
      "C:\\Users\\Hamza\\AppData\\Local\\Temp\\ipykernel_11596\\2871599656.py:26: FutureWarning: The frame.append method is deprecated and will be removed from pandas in a future version. Use pandas.concat instead.\n",
      "  df = df.append({'Email': email_current, 'Phone_number': phone_number_current}, ignore_index=True)\n"
     ]
    },
    {
     "name": "stdout",
     "output_type": "stream",
     "text": [
      " has been extracted at iteration  217\n",
      "['T-HASIC@csail.mit.edu'] []  has been extracted at iteration  217\n",
      "['willhath@mit.edu'] []  has been extracted at iteration  217\n"
     ]
    },
    {
     "name": "stderr",
     "output_type": "stream",
     "text": [
      "C:\\Users\\Hamza\\AppData\\Local\\Temp\\ipykernel_11596\\2871599656.py:26: FutureWarning: The frame.append method is deprecated and will be removed from pandas in a future version. Use pandas.concat instead.\n",
      "  df = df.append({'Email': email_current, 'Phone_number': phone_number_current}, ignore_index=True)\n",
      "C:\\Users\\Hamza\\AppData\\Local\\Temp\\ipykernel_11596\\2871599656.py:26: FutureWarning: The frame.append method is deprecated and will be removed from pandas in a future version. Use pandas.concat instead.\n",
      "  df = df.append({'Email': email_current, 'Phone_number': phone_number_current}, ignore_index=True)\n",
      "C:\\Users\\Hamza\\AppData\\Local\\Temp\\ipykernel_11596\\2871599656.py:26: FutureWarning: The frame.append method is deprecated and will be removed from pandas in a future version. Use pandas.concat instead.\n",
      "  df = df.append({'Email': email_current, 'Phone_number': phone_number_current}, ignore_index=True)\n"
     ]
    },
    {
     "name": "stdout",
     "output_type": "stream",
     "text": [
      "['HAUCKE@csail.mit.edu'] []  has been extracted at iteration  217\n",
      "['rhaulcy@mit.edu'] []  has been extracted at iteration  217\n",
      "['haupt@mit.edu'] []  has been extracted at iteration  217\n"
     ]
    },
    {
     "name": "stderr",
     "output_type": "stream",
     "text": [
      "C:\\Users\\Hamza\\AppData\\Local\\Temp\\ipykernel_11596\\2871599656.py:26: FutureWarning: The frame.append method is deprecated and will be removed from pandas in a future version. Use pandas.concat instead.\n",
      "  df = df.append({'Email': email_current, 'Phone_number': phone_number_current}, ignore_index=True)\n",
      "C:\\Users\\Hamza\\AppData\\Local\\Temp\\ipykernel_11596\\2871599656.py:26: FutureWarning: The frame.append method is deprecated and will be removed from pandas in a future version. Use pandas.concat instead.\n",
      "  df = df.append({'Email': email_current, 'Phone_number': phone_number_current}, ignore_index=True)\n"
     ]
    },
    {
     "name": "stdout",
     "output_type": "stream",
     "text": [
      "['haohe@mit.edu'] []  has been extracted at iteration  217\n",
      "['KHE01@csail.mit.edu'] []  has been extracted at iteration  217\n"
     ]
    },
    {
     "name": "stderr",
     "output_type": "stream",
     "text": [
      "C:\\Users\\Hamza\\AppData\\Local\\Temp\\ipykernel_11596\\2871599656.py:26: FutureWarning: The frame.append method is deprecated and will be removed from pandas in a future version. Use pandas.concat instead.\n",
      "  df = df.append({'Email': email_current, 'Phone_number': phone_number_current}, ignore_index=True)\n",
      "C:\\Users\\Hamza\\AppData\\Local\\Temp\\ipykernel_11596\\2871599656.py:26: FutureWarning: The frame.append method is deprecated and will be removed from pandas in a future version. Use pandas.concat instead.\n",
      "  df = df.append({'Email': email_current, 'Phone_number': phone_number_current}, ignore_index=True)\n"
     ]
    },
    {
     "name": "stdout",
     "output_type": "stream",
     "text": [
      "['lianghe@csail.mit.edu'] []  has been extracted at iteration  217\n",
      "['hecher@csail.mit.edu'] []  has been extracted at iteration  217\n"
     ]
    },
    {
     "name": "stderr",
     "output_type": "stream",
     "text": [
      "C:\\Users\\Hamza\\AppData\\Local\\Temp\\ipykernel_11596\\2871599656.py:26: FutureWarning: The frame.append method is deprecated and will be removed from pandas in a future version. Use pandas.concat instead.\n",
      "  df = df.append({'Email': email_current, 'Phone_number': phone_number_current}, ignore_index=True)\n",
      "C:\\Users\\Hamza\\AppData\\Local\\Temp\\ipykernel_11596\\2871599656.py:26: FutureWarning: The frame.append method is deprecated and will be removed from pandas in a future version. Use pandas.concat instead.\n",
      "  df = df.append({'Email': email_current, 'Phone_number': phone_number_current}, ignore_index=True)\n"
     ]
    },
    {
     "name": "stdout",
     "output_type": "stream",
     "text": [
      "['chem@mit.edu'] []  has been extracted at iteration  217\n",
      "['hembergerik@CSAIL.MIT.EDU'] []  has been extracted at iteration  217\n"
     ]
    },
    {
     "name": "stderr",
     "output_type": "stream",
     "text": [
      "C:\\Users\\Hamza\\AppData\\Local\\Temp\\ipykernel_11596\\2871599656.py:26: FutureWarning: The frame.append method is deprecated and will be removed from pandas in a future version. Use pandas.concat instead.\n",
      "  df = df.append({'Email': email_current, 'Phone_number': phone_number_current}, ignore_index=True)\n",
      "C:\\Users\\Hamza\\AppData\\Local\\Temp\\ipykernel_11596\\2871599656.py:26: FutureWarning: The frame.append method is deprecated and will be removed from pandas in a future version. Use pandas.concat instead.\n",
      "  df = df.append({'Email': email_current, 'Phone_number': phone_number_current}, ignore_index=True)\n"
     ]
    },
    {
     "name": "stdout",
     "output_type": "stream",
     "text": [
      "['tfh@mit.edu'] []  has been extracted at iteration  217\n",
      "['dylanhen@mit.edu'] []  has been extracted at iteration  217\n",
      "['ahenz@MIT.EDU'] []  has been extracted at iteration  217\n"
     ]
    },
    {
     "name": "stderr",
     "output_type": "stream",
     "text": [
      "C:\\Users\\Hamza\\AppData\\Local\\Temp\\ipykernel_11596\\2871599656.py:26: FutureWarning: The frame.append method is deprecated and will be removed from pandas in a future version. Use pandas.concat instead.\n",
      "  df = df.append({'Email': email_current, 'Phone_number': phone_number_current}, ignore_index=True)\n",
      "C:\\Users\\Hamza\\AppData\\Local\\Temp\\ipykernel_11596\\2871599656.py:26: FutureWarning: The frame.append method is deprecated and will be removed from pandas in a future version. Use pandas.concat instead.\n",
      "  df = df.append({'Email': email_current, 'Phone_number': phone_number_current}, ignore_index=True)\n"
     ]
    },
    {
     "name": "stdout",
     "output_type": "stream",
     "text": [
      "['dez@mit.edu'] []  has been extracted at iteration  217\n",
      "['leohc@mit.edu'] []  has been extracted at iteration  217\n"
     ]
    },
    {
     "name": "stderr",
     "output_type": "stream",
     "text": [
      "C:\\Users\\Hamza\\AppData\\Local\\Temp\\ipykernel_11596\\2871599656.py:26: FutureWarning: The frame.append method is deprecated and will be removed from pandas in a future version. Use pandas.concat instead.\n",
      "  df = df.append({'Email': email_current, 'Phone_number': phone_number_current}, ignore_index=True)\n",
      "C:\\Users\\Hamza\\AppData\\Local\\Temp\\ipykernel_11596\\2871599656.py:26: FutureWarning: The frame.append method is deprecated and will be removed from pandas in a future version. Use pandas.concat instead.\n",
      "  df = df.append({'Email': email_current, 'Phone_number': phone_number_current}, ignore_index=True)\n"
     ]
    },
    {
     "name": "stdout",
     "output_type": "stream",
     "text": [
      "['pyaesone@mit.edu'] []  has been extracted at iteration  217\n",
      "['darry140@mit.edu'] []  has been extracted at iteration  217\n"
     ]
    },
    {
     "name": "stderr",
     "output_type": "stream",
     "text": [
      "C:\\Users\\Hamza\\AppData\\Local\\Temp\\ipykernel_11596\\2871599656.py:26: FutureWarning: The frame.append method is deprecated and will be removed from pandas in a future version. Use pandas.concat instead.\n",
      "  df = df.append({'Email': email_current, 'Phone_number': phone_number_current}, ignore_index=True)\n",
      "C:\\Users\\Hamza\\AppData\\Local\\Temp\\ipykernel_11596\\2871599656.py:26: FutureWarning: The frame.append method is deprecated and will be removed from pandas in a future version. Use pandas.concat instead.\n",
      "  df = df.append({'Email': email_current, 'Phone_number': phone_number_current}, ignore_index=True)\n"
     ]
    },
    {
     "name": "stdout",
     "output_type": "stream",
     "text": [
      "['lilunho@csail.mit.edu'] []  has been extracted at iteration  217\n",
      "['klhogan@mit.edu'] []  has been extracted at iteration  217\n"
     ]
    },
    {
     "name": "stderr",
     "output_type": "stream",
     "text": [
      "C:\\Users\\Hamza\\AppData\\Local\\Temp\\ipykernel_11596\\2871599656.py:26: FutureWarning: The frame.append method is deprecated and will be removed from pandas in a future version. Use pandas.concat instead.\n",
      "  df = df.append({'Email': email_current, 'Phone_number': phone_number_current}, ignore_index=True)\n",
      "C:\\Users\\Hamza\\AppData\\Local\\Temp\\ipykernel_11596\\2871599656.py:26: FutureWarning: The frame.append method is deprecated and will be removed from pandas in a future version. Use pandas.concat instead.\n",
      "  df = df.append({'Email': email_current, 'Phone_number': phone_number_current}, ignore_index=True)\n"
     ]
    },
    {
     "name": "stdout",
     "output_type": "stream",
     "text": [
      "['phold@mit.edu'] []  has been extracted at iteration  217\n",
      "['sgholla@mit.edu'] []  has been extracted at iteration  217\n"
     ]
    },
    {
     "name": "stderr",
     "output_type": "stream",
     "text": [
      "C:\\Users\\Hamza\\AppData\\Local\\Temp\\ipykernel_11596\\2871599656.py:26: FutureWarning: The frame.append method is deprecated and will be removed from pandas in a future version. Use pandas.concat instead.\n",
      "  df = df.append({'Email': email_current, 'Phone_number': phone_number_current}, ignore_index=True)\n",
      "C:\\Users\\Hamza\\AppData\\Local\\Temp\\ipykernel_11596\\2871599656.py:26: FutureWarning: The frame.append method is deprecated and will be removed from pandas in a future version. Use pandas.concat instead.\n",
      "  df = df.append({'Email': email_current, 'Phone_number': phone_number_current}, ignore_index=True)\n"
     ]
    },
    {
     "name": "stdout",
     "output_type": "stream",
     "text": [
      "['Rhollada@mit.edu'] []  has been extracted at iteration  217\n",
      "['bcwh@csail.mit.edu'] []  has been extracted at iteration  217\n"
     ]
    },
    {
     "name": "stderr",
     "output_type": "stream",
     "text": [
      "C:\\Users\\Hamza\\AppData\\Local\\Temp\\ipykernel_11596\\2871599656.py:26: FutureWarning: The frame.append method is deprecated and will be removed from pandas in a future version. Use pandas.concat instead.\n",
      "  df = df.append({'Email': email_current, 'Phone_number': phone_number_current}, ignore_index=True)\n",
      "C:\\Users\\Hamza\\AppData\\Local\\Temp\\ipykernel_11596\\2871599656.py:26: FutureWarning: The frame.append method is deprecated and will be removed from pandas in a future version. Use pandas.concat instead.\n",
      "  df = df.append({'Email': email_current, 'Phone_number': phone_number_current}, ignore_index=True)\n"
     ]
    },
    {
     "name": "stdout",
     "output_type": "stream",
     "text": [
      "['holtorf@mit.edu'] []  has been extracted at iteration  217\n",
      "['changwan@csail.mit.edu'] []  has been extracted at iteration  217\n"
     ]
    },
    {
     "name": "stderr",
     "output_type": "stream",
     "text": [
      "C:\\Users\\Hamza\\AppData\\Local\\Temp\\ipykernel_11596\\2871599656.py:26: FutureWarning: The frame.append method is deprecated and will be removed from pandas in a future version. Use pandas.concat instead.\n",
      "  df = df.append({'Email': email_current, 'Phone_number': phone_number_current}, ignore_index=True)\n",
      "C:\\Users\\Hamza\\AppData\\Local\\Temp\\ipykernel_11596\\2871599656.py:26: FutureWarning: The frame.append method is deprecated and will be removed from pandas in a future version. Use pandas.concat instead.\n",
      "  df = df.append({'Email': email_current, 'Phone_number': phone_number_current}, ignore_index=True)\n"
     ]
    },
    {
     "name": "stdout",
     "output_type": "stream",
     "text": [
      "['jungseok@csail.mit.edu'] []  has been extracted at iteration  217\n",
      "['matthong@mit.edu'] []  has been extracted at iteration  217\n"
     ]
    },
    {
     "name": "stderr",
     "output_type": "stream",
     "text": [
      "C:\\Users\\Hamza\\AppData\\Local\\Temp\\ipykernel_11596\\2871599656.py:26: FutureWarning: The frame.append method is deprecated and will be removed from pandas in a future version. Use pandas.concat instead.\n",
      "  df = df.append({'Email': email_current, 'Phone_number': phone_number_current}, ignore_index=True)\n",
      "C:\\Users\\Hamza\\AppData\\Local\\Temp\\ipykernel_11596\\2871599656.py:26: FutureWarning: The frame.append method is deprecated and will be removed from pandas in a future version. Use pandas.concat instead.\n",
      "  df = df.append({'Email': email_current, 'Phone_number': phone_number_current}, ignore_index=True)\n"
     ]
    },
    {
     "name": "stdout",
     "output_type": "stream",
     "text": [
      "['sk5050@mit.edu'] []  has been extracted at iteration  217\n",
      "['zwhong@mit.edu'] []  has been extracted at iteration  217\n"
     ]
    },
    {
     "name": "stderr",
     "output_type": "stream",
     "text": [
      "C:\\Users\\Hamza\\AppData\\Local\\Temp\\ipykernel_11596\\2871599656.py:26: FutureWarning: The frame.append method is deprecated and will be removed from pandas in a future version. Use pandas.concat instead.\n",
      "  df = df.append({'Email': email_current, 'Phone_number': phone_number_current}, ignore_index=True)\n",
      "C:\\Users\\Hamza\\AppData\\Local\\Temp\\ipykernel_11596\\2871599656.py:26: FutureWarning: The frame.append method is deprecated and will be removed from pandas in a future version. Use pandas.concat instead.\n",
      "  df = df.append({'Email': email_current, 'Phone_number': phone_number_current}, ignore_index=True)\n"
     ]
    },
    {
     "name": "stdout",
     "output_type": "stream",
     "text": [
      "['honnet@csail.mit.edu'] []  has been extracted at iteration  217\n",
      "['hoopes@mit.edu'] []  has been extracted at iteration  217\n"
     ]
    },
    {
     "name": "stderr",
     "output_type": "stream",
     "text": [
      "C:\\Users\\Hamza\\AppData\\Local\\Temp\\ipykernel_11596\\2871599656.py:26: FutureWarning: The frame.append method is deprecated and will be removed from pandas in a future version. Use pandas.concat instead.\n",
      "  df = df.append({'Email': email_current, 'Phone_number': phone_number_current}, ignore_index=True)\n",
      "C:\\Users\\Hamza\\AppData\\Local\\Temp\\ipykernel_11596\\2871599656.py:26: FutureWarning: The frame.append method is deprecated and will be removed from pandas in a future version. Use pandas.concat instead.\n",
      "  df = df.append({'Email': email_current, 'Phone_number': phone_number_current}, ignore_index=True)\n"
     ]
    },
    {
     "name": "stdout",
     "output_type": "stream",
     "text": [
      "['dataspen@mit.edu'] []  has been extracted at iteration  217\n",
      "['samhop@mit.edu'] []  has been extracted at iteration  217\n"
     ]
    },
    {
     "name": "stderr",
     "output_type": "stream",
     "text": [
      "C:\\Users\\Hamza\\AppData\\Local\\Temp\\ipykernel_11596\\2871599656.py:26: FutureWarning: The frame.append method is deprecated and will be removed from pandas in a future version. Use pandas.concat instead.\n",
      "  df = df.append({'Email': email_current, 'Phone_number': phone_number_current}, ignore_index=True)\n",
      "C:\\Users\\Hamza\\AppData\\Local\\Temp\\ipykernel_11596\\2871599656.py:26: FutureWarning: The frame.append method is deprecated and will be removed from pandas in a future version. Use pandas.concat instead.\n",
      "  df = df.append({'Email': email_current, 'Phone_number': phone_number_current}, ignore_index=True)\n"
     ]
    },
    {
     "name": "stdout",
     "output_type": "stream",
     "text": [
      "['bkph@csail.mit.edu'] ['253-5863']  has been extracted at iteration  217\n",
      "['jhow@mit.edu'] []  has been extracted at iteration  217\n"
     ]
    },
    {
     "name": "stderr",
     "output_type": "stream",
     "text": [
      "C:\\Users\\Hamza\\AppData\\Local\\Temp\\ipykernel_11596\\2871599656.py:26: FutureWarning: The frame.append method is deprecated and will be removed from pandas in a future version. Use pandas.concat instead.\n",
      "  df = df.append({'Email': email_current, 'Phone_number': phone_number_current}, ignore_index=True)\n",
      "C:\\Users\\Hamza\\AppData\\Local\\Temp\\ipykernel_11596\\2871599656.py:26: FutureWarning: The frame.append method is deprecated and will be removed from pandas in a future version. Use pandas.concat instead.\n",
      "  df = df.append({'Email': email_current, 'Phone_number': phone_number_current}, ignore_index=True)\n"
     ]
    },
    {
     "name": "stdout",
     "output_type": "stream",
     "text": [
      "['spkhowe@mit.edu'] []  has been extracted at iteration  217\n",
      "['stmharry@mit.edu'] []  has been extracted at iteration  217\n"
     ]
    },
    {
     "name": "stderr",
     "output_type": "stream",
     "text": [
      "C:\\Users\\Hamza\\AppData\\Local\\Temp\\ipykernel_11596\\2871599656.py:26: FutureWarning: The frame.append method is deprecated and will be removed from pandas in a future version. Use pandas.concat instead.\n",
      "  df = df.append({'Email': email_current, 'Phone_number': phone_number_current}, ignore_index=True)\n",
      "C:\\Users\\Hamza\\AppData\\Local\\Temp\\ipykernel_11596\\2871599656.py:26: FutureWarning: The frame.append method is deprecated and will be removed from pandas in a future version. Use pandas.concat instead.\n",
      "  df = df.append({'Email': email_current, 'Phone_number': phone_number_current}, ignore_index=True)\n"
     ]
    },
    {
     "name": "stdout",
     "output_type": "stream",
     "text": [
      "['alexhu@mit.edu'] []  has been extracted at iteration  217\n",
      "['ireneyh@mit.edu'] []  has been extracted at iteration  217\n",
      "['kwhuang@mit.edu'] []  has been extracted at iteration  217\n"
     ]
    },
    {
     "name": "stderr",
     "output_type": "stream",
     "text": [
      "C:\\Users\\Hamza\\AppData\\Local\\Temp\\ipykernel_11596\\2871599656.py:26: FutureWarning: The frame.append method is deprecated and will be removed from pandas in a future version. Use pandas.concat instead.\n",
      "  df = df.append({'Email': email_current, 'Phone_number': phone_number_current}, ignore_index=True)\n",
      "C:\\Users\\Hamza\\AppData\\Local\\Temp\\ipykernel_11596\\2871599656.py:26: FutureWarning: The frame.append method is deprecated and will be removed from pandas in a future version. Use pandas.concat instead.\n",
      "  df = df.append({'Email': email_current, 'Phone_number': phone_number_current}, ignore_index=True)\n",
      "C:\\Users\\Hamza\\AppData\\Local\\Temp\\ipykernel_11596\\2871599656.py:26: FutureWarning: The frame.append method is deprecated and will be removed from pandas in a future version. Use pandas.concat instead.\n",
      "  df = df.append({'Email': email_current, 'Phone_number': phone_number_current}, ignore_index=True)\n"
     ]
    },
    {
     "name": "stdout",
     "output_type": "stream",
     "text": [
      "['hqq@mit.edu'] []  has been extracted at iteration  217\n",
      "['RWXHUANG@csail.mit.edu'] []  has been extracted at iteration  217\n"
     ]
    },
    {
     "name": "stderr",
     "output_type": "stream",
     "text": [
      "C:\\Users\\Hamza\\AppData\\Local\\Temp\\ipykernel_11596\\2871599656.py:26: FutureWarning: The frame.append method is deprecated and will be removed from pandas in a future version. Use pandas.concat instead.\n",
      "  df = df.append({'Email': email_current, 'Phone_number': phone_number_current}, ignore_index=True)\n",
      "C:\\Users\\Hamza\\AppData\\Local\\Temp\\ipykernel_11596\\2871599656.py:26: FutureWarning: The frame.append method is deprecated and will be removed from pandas in a future version. Use pandas.concat instead.\n",
      "  df = df.append({'Email': email_current, 'Phone_number': phone_number_current}, ignore_index=True)\n"
     ]
    },
    {
     "name": "stdout",
     "output_type": "stream",
     "text": [
      "['tianhaoh@mit.edu'] []  has been extracted at iteration  217\n",
      "['rhuffman@mit.edu'] []  has been extracted at iteration  217\n"
     ]
    },
    {
     "name": "stderr",
     "output_type": "stream",
     "text": [
      "C:\\Users\\Hamza\\AppData\\Local\\Temp\\ipykernel_11596\\2871599656.py:26: FutureWarning: The frame.append method is deprecated and will be removed from pandas in a future version. Use pandas.concat instead.\n",
      "  df = df.append({'Email': email_current, 'Phone_number': phone_number_current}, ignore_index=True)\n",
      "C:\\Users\\Hamza\\AppData\\Local\\Temp\\ipykernel_11596\\2871599656.py:26: FutureWarning: The frame.append method is deprecated and will be removed from pandas in a future version. Use pandas.concat instead.\n",
      "  df = df.append({'Email': email_current, 'Phone_number': phone_number_current}, ignore_index=True)\n"
     ]
    },
    {
     "name": "stdout",
     "output_type": "stream",
     "text": [
      "['minhuh@mit.edu'] []  has been extracted at iteration  217\n",
      "['nhulkund@mit.edu'] []  has been extracted at iteration  217\n"
     ]
    },
    {
     "name": "stderr",
     "output_type": "stream",
     "text": [
      "C:\\Users\\Hamza\\AppData\\Local\\Temp\\ipykernel_11596\\2871599656.py:26: FutureWarning: The frame.append method is deprecated and will be removed from pandas in a future version. Use pandas.concat instead.\n",
      "  df = df.append({'Email': email_current, 'Phone_number': phone_number_current}, ignore_index=True)\n",
      "C:\\Users\\Hamza\\AppData\\Local\\Temp\\ipykernel_11596\\2871599656.py:26: FutureWarning: The frame.append method is deprecated and will be removed from pandas in a future version. Use pandas.concat instead.\n",
      "  df = df.append({'Email': email_current, 'Phone_number': phone_number_current}, ignore_index=True)\n"
     ]
    },
    {
     "name": "stdout",
     "output_type": "stream",
     "text": [
      "['nhunt@mit.edu'] []  has been extracted at iteration  217\n",
      "['hilal_h@mit.edu'] []  has been extracted at iteration  217\n"
     ]
    },
    {
     "name": "stderr",
     "output_type": "stream",
     "text": [
      "C:\\Users\\Hamza\\AppData\\Local\\Temp\\ipykernel_11596\\2871599656.py:26: FutureWarning: The frame.append method is deprecated and will be removed from pandas in a future version. Use pandas.concat instead.\n",
      "  df = df.append({'Email': email_current, 'Phone_number': phone_number_current}, ignore_index=True)\n",
      "C:\\Users\\Hamza\\AppData\\Local\\Temp\\ipykernel_11596\\2871599656.py:26: FutureWarning: The frame.append method is deprecated and will be removed from pandas in a future version. Use pandas.concat instead.\n",
      "  df = df.append({'Email': email_current, 'Phone_number': phone_number_current}, ignore_index=True)\n"
     ]
    },
    {
     "name": "stdout",
     "output_type": "stream",
     "text": [
      "['zeshanmh@mit.edu'] []  has been extracted at iteration  433\n",
      "['huttenlocher@MIT.EDU'] []  has been extracted at iteration  433\n",
      "['jei@csail.mit.edu'] []  has been extracted at iteration  433\n"
     ]
    },
    {
     "name": "stderr",
     "output_type": "stream",
     "text": [
      "C:\\Users\\Hamza\\AppData\\Local\\Temp\\ipykernel_11596\\2871599656.py:26: FutureWarning: The frame.append method is deprecated and will be removed from pandas in a future version. Use pandas.concat instead.\n",
      "  df = df.append({'Email': email_current, 'Phone_number': phone_number_current}, ignore_index=True)\n",
      "C:\\Users\\Hamza\\AppData\\Local\\Temp\\ipykernel_11596\\2871599656.py:26: FutureWarning: The frame.append method is deprecated and will be removed from pandas in a future version. Use pandas.concat instead.\n",
      "  df = df.append({'Email': email_current, 'Phone_number': phone_number_current}, ignore_index=True)\n",
      "C:\\Users\\Hamza\\AppData\\Local\\Temp\\ipykernel_11596\\2871599656.py:26: FutureWarning: The frame.append method is deprecated and will be removed from pandas in a future version. Use pandas.concat instead.\n",
      "  df = df.append({'Email': email_current, 'Phone_number': phone_number_current}, ignore_index=True)\n"
     ]
    },
    {
     "name": "stdout",
     "output_type": "stream",
     "text": [
      "['yuka@csail.mit.edu'] []  has been extracted at iteration  433\n",
      "['rilango@mit.edu'] []  has been extracted at iteration  433\n",
      "['atalay@mit.edu'] []  has been extracted at iteration  433\n"
     ]
    },
    {
     "name": "stderr",
     "output_type": "stream",
     "text": [
      "C:\\Users\\Hamza\\AppData\\Local\\Temp\\ipykernel_11596\\2871599656.py:26: FutureWarning: The frame.append method is deprecated and will be removed from pandas in a future version. Use pandas.concat instead.\n",
      "  df = df.append({'Email': email_current, 'Phone_number': phone_number_current}, ignore_index=True)\n",
      "C:\\Users\\Hamza\\AppData\\Local\\Temp\\ipykernel_11596\\2871599656.py:26: FutureWarning: The frame.append method is deprecated and will be removed from pandas in a future version. Use pandas.concat instead.\n",
      "  df = df.append({'Email': email_current, 'Phone_number': phone_number_current}, ignore_index=True)\n",
      "C:\\Users\\Hamza\\AppData\\Local\\Temp\\ipykernel_11596\\2871599656.py:26: FutureWarning: The frame.append method is deprecated and will be removed from pandas in a future version. Use pandas.concat instead.\n",
      "  df = df.append({'Email': email_current, 'Phone_number': phone_number_current}, ignore_index=True)\n"
     ]
    },
    {
     "name": "stdout",
     "output_type": "stream",
     "text": [
      "['ilic@mit.edu'] []  has been extracted at iteration  433\n",
      "['thavishi@mit.edu'] []  has been extracted at iteration  433\n"
     ]
    },
    {
     "name": "stderr",
     "output_type": "stream",
     "text": [
      "C:\\Users\\Hamza\\AppData\\Local\\Temp\\ipykernel_11596\\2871599656.py:26: FutureWarning: The frame.append method is deprecated and will be removed from pandas in a future version. Use pandas.concat instead.\n",
      "  df = df.append({'Email': email_current, 'Phone_number': phone_number_current}, ignore_index=True)\n",
      "C:\\Users\\Hamza\\AppData\\Local\\Temp\\ipykernel_11596\\2871599656.py:26: FutureWarning: The frame.append method is deprecated and will be removed from pandas in a future version. Use pandas.concat instead.\n",
      "  df = df.append({'Email': email_current, 'Phone_number': phone_number_current}, ignore_index=True)\n"
     ]
    },
    {
     "name": "stdout",
     "output_type": "stream",
     "text": [
      "['ailyas@mit.edu'] []  has been extracted at iteration  433\n",
      "['indyk@mit.edu'] ['452-3402']  has been extracted at iteration  433\n"
     ]
    },
    {
     "name": "stderr",
     "output_type": "stream",
     "text": [
      "C:\\Users\\Hamza\\AppData\\Local\\Temp\\ipykernel_11596\\2871599656.py:26: FutureWarning: The frame.append method is deprecated and will be removed from pandas in a future version. Use pandas.concat instead.\n",
      "  df = df.append({'Email': email_current, 'Phone_number': phone_number_current}, ignore_index=True)\n",
      "C:\\Users\\Hamza\\AppData\\Local\\Temp\\ipykernel_11596\\2871599656.py:26: FutureWarning: The frame.append method is deprecated and will be removed from pandas in a future version. Use pandas.concat instead.\n",
      "  df = df.append({'Email': email_current, 'Phone_number': phone_number_current}, ignore_index=True)\n"
     ]
    },
    {
     "name": "stdout",
     "output_type": "stream",
     "text": [
      "['girfan@mit.edu'] []  has been extracted at iteration  433\n",
      "['phillipi@MIT.EDU'] []  has been extracted at iteration  433\n"
     ]
    },
    {
     "name": "stderr",
     "output_type": "stream",
     "text": [
      "C:\\Users\\Hamza\\AppData\\Local\\Temp\\ipykernel_11596\\2871599656.py:26: FutureWarning: The frame.append method is deprecated and will be removed from pandas in a future version. Use pandas.concat instead.\n",
      "  df = df.append({'Email': email_current, 'Phone_number': phone_number_current}, ignore_index=True)\n",
      "C:\\Users\\Hamza\\AppData\\Local\\Temp\\ipykernel_11596\\2871599656.py:26: FutureWarning: The frame.append method is deprecated and will be removed from pandas in a future version. Use pandas.concat instead.\n",
      "  df = df.append({'Email': email_current, 'Phone_number': phone_number_current}, ignore_index=True)\n"
     ]
    },
    {
     "name": "stdout",
     "output_type": "stream",
     "text": [
      "['tommi@csail.mit.edu'] ['253-0440']  has been extracted at iteration  433\n",
      "['dnj@csail.mit.edu'] ['258-8471']  has been extracted at iteration  433\n",
      "['apjacob@mit.edu'] "
     ]
    },
    {
     "name": "stderr",
     "output_type": "stream",
     "text": [
      "C:\\Users\\Hamza\\AppData\\Local\\Temp\\ipykernel_11596\\2871599656.py:26: FutureWarning: The frame.append method is deprecated and will be removed from pandas in a future version. Use pandas.concat instead.\n",
      "  df = df.append({'Email': email_current, 'Phone_number': phone_number_current}, ignore_index=True)\n",
      "C:\\Users\\Hamza\\AppData\\Local\\Temp\\ipykernel_11596\\2871599656.py:26: FutureWarning: The frame.append method is deprecated and will be removed from pandas in a future version. Use pandas.concat instead.\n",
      "  df = df.append({'Email': email_current, 'Phone_number': phone_number_current}, ignore_index=True)\n",
      "C:\\Users\\Hamza\\AppData\\Local\\Temp\\ipykernel_11596\\2871599656.py:26: FutureWarning: The frame.append method is deprecated and will be removed from pandas in a future version. Use pandas.concat instead.\n",
      "  df = df.append({'Email': email_current, 'Phone_number': phone_number_current}, ignore_index=True)\n"
     ]
    },
    {
     "name": "stdout",
     "output_type": "stream",
     "text": [
      "[]  has been extracted at iteration  433\n",
      "['farnazj@mit.edu'] []  has been extracted at iteration  433\n"
     ]
    },
    {
     "name": "stderr",
     "output_type": "stream",
     "text": [
      "C:\\Users\\Hamza\\AppData\\Local\\Temp\\ipykernel_11596\\2871599656.py:26: FutureWarning: The frame.append method is deprecated and will be removed from pandas in a future version. Use pandas.concat instead.\n",
      "  df = df.append({'Email': email_current, 'Phone_number': phone_number_current}, ignore_index=True)\n",
      "C:\\Users\\Hamza\\AppData\\Local\\Temp\\ipykernel_11596\\2871599656.py:26: FutureWarning: The frame.append method is deprecated and will be removed from pandas in a future version. Use pandas.concat instead.\n",
      "  df = df.append({'Email': email_current, 'Phone_number': phone_number_current}, ignore_index=True)\n"
     ]
    },
    {
     "name": "stdout",
     "output_type": "stream",
     "text": [
      "['layjain@mit.edu'] []  has been extracted at iteration  433\n",
      "['saachij@mit.edu'] []  has been extracted at iteration  433\n",
      "['benjames@MIT.EDU'] []  has been extracted at iteration  433\n"
     ]
    },
    {
     "name": "stderr",
     "output_type": "stream",
     "text": [
      "C:\\Users\\Hamza\\AppData\\Local\\Temp\\ipykernel_11596\\2871599656.py:26: FutureWarning: The frame.append method is deprecated and will be removed from pandas in a future version. Use pandas.concat instead.\n",
      "  df = df.append({'Email': email_current, 'Phone_number': phone_number_current}, ignore_index=True)\n",
      "C:\\Users\\Hamza\\AppData\\Local\\Temp\\ipykernel_11596\\2871599656.py:26: FutureWarning: The frame.append method is deprecated and will be removed from pandas in a future version. Use pandas.concat instead.\n",
      "  df = df.append({'Email': email_current, 'Phone_number': phone_number_current}, ignore_index=True)\n",
      "C:\\Users\\Hamza\\AppData\\Local\\Temp\\ipykernel_11596\\2871599656.py:26: FutureWarning: The frame.append method is deprecated and will be removed from pandas in a future version. Use pandas.concat instead.\n",
      "  df = df.append({'Email': email_current, 'Phone_number': phone_number_current}, ignore_index=True)\n"
     ]
    },
    {
     "name": "stdout",
     "output_type": "stream",
     "text": [
      "['dijamner@MIT.EDU'] []  has been extracted at iteration  433\n",
      "['jkrishna@csail.mit.edu'] []  has been extracted at iteration  433\n"
     ]
    },
    {
     "name": "stderr",
     "output_type": "stream",
     "text": [
      "C:\\Users\\Hamza\\AppData\\Local\\Temp\\ipykernel_11596\\2871599656.py:26: FutureWarning: The frame.append method is deprecated and will be removed from pandas in a future version. Use pandas.concat instead.\n",
      "  df = df.append({'Email': email_current, 'Phone_number': phone_number_current}, ignore_index=True)\n",
      "C:\\Users\\Hamza\\AppData\\Local\\Temp\\ipykernel_11596\\2871599656.py:26: FutureWarning: The frame.append method is deprecated and will be removed from pandas in a future version. Use pandas.concat instead.\n",
      "  df = df.append({'Email': email_current, 'Phone_number': phone_number_current}, ignore_index=True)\n",
      "C:\\Users\\Hamza\\AppData\\Local\\Temp\\ipykernel_11596\\2871599656.py:26: FutureWarning: The frame.append method is deprecated and will be removed from pandas in a future version. Use pandas.concat instead.\n",
      "  df = df.append({'Email': email_current, 'Phone_number': phone_number_current}, ignore_index=True)\n"
     ]
    },
    {
     "name": "stdout",
     "output_type": "stream",
     "text": [
      "['siddhartha@csail.mit.edu'] []  has been extracted at iteration  433\n",
      "['stefje@mit.edu'] []  has been extracted at iteration  433\n",
      "['hyewonj@mit.edu'] []  has been extracted at iteration  433\n"
     ]
    },
    {
     "name": "stderr",
     "output_type": "stream",
     "text": [
      "C:\\Users\\Hamza\\AppData\\Local\\Temp\\ipykernel_11596\\2871599656.py:26: FutureWarning: The frame.append method is deprecated and will be removed from pandas in a future version. Use pandas.concat instead.\n",
      "  df = df.append({'Email': email_current, 'Phone_number': phone_number_current}, ignore_index=True)\n",
      "C:\\Users\\Hamza\\AppData\\Local\\Temp\\ipykernel_11596\\2871599656.py:26: FutureWarning: The frame.append method is deprecated and will be removed from pandas in a future version. Use pandas.concat instead.\n",
      "  df = df.append({'Email': email_current, 'Phone_number': phone_number_current}, ignore_index=True)\n",
      "C:\\Users\\Hamza\\AppData\\Local\\Temp\\ipykernel_11596\\2871599656.py:26: FutureWarning: The frame.append method is deprecated and will be removed from pandas in a future version. Use pandas.concat instead.\n",
      "  df = df.append({'Email': email_current, 'Phone_number': phone_number_current}, ignore_index=True)\n"
     ]
    },
    {
     "name": "stdout",
     "output_type": "stream",
     "text": [
      "['cji@mit.edu'] []  has been extracted at iteration  433\n",
      "['yandong@mit.edu'] []  has been extracted at iteration  433\n",
      "['jiakai@mit.edu'] []  has been extracted at iteration  433\n"
     ]
    },
    {
     "name": "stderr",
     "output_type": "stream",
     "text": [
      "C:\\Users\\Hamza\\AppData\\Local\\Temp\\ipykernel_11596\\2871599656.py:26: FutureWarning: The frame.append method is deprecated and will be removed from pandas in a future version. Use pandas.concat instead.\n",
      "  df = df.append({'Email': email_current, 'Phone_number': phone_number_current}, ignore_index=True)\n",
      "C:\\Users\\Hamza\\AppData\\Local\\Temp\\ipykernel_11596\\2871599656.py:26: FutureWarning: The frame.append method is deprecated and will be removed from pandas in a future version. Use pandas.concat instead.\n",
      "  df = df.append({'Email': email_current, 'Phone_number': phone_number_current}, ignore_index=True)\n",
      "C:\\Users\\Hamza\\AppData\\Local\\Temp\\ipykernel_11596\\2871599656.py:26: FutureWarning: The frame.append method is deprecated and will be removed from pandas in a future version. Use pandas.concat instead.\n",
      "  df = df.append({'Email': email_current, 'Phone_number': phone_number_current}, ignore_index=True)\n"
     ]
    },
    {
     "name": "stdout",
     "output_type": "stream",
     "text": [
      "['rhjiang@mit.edu'] []  has been extracted at iteration  433\n",
      "['jiangs@mit.edu'] []  has been extracted at iteration  433\n",
      "['cejin@csail.mit.edu'] []  has been extracted at iteration  433\n"
     ]
    },
    {
     "name": "stderr",
     "output_type": "stream",
     "text": [
      "C:\\Users\\Hamza\\AppData\\Local\\Temp\\ipykernel_11596\\2871599656.py:26: FutureWarning: The frame.append method is deprecated and will be removed from pandas in a future version. Use pandas.concat instead.\n",
      "  df = df.append({'Email': email_current, 'Phone_number': phone_number_current}, ignore_index=True)\n",
      "C:\\Users\\Hamza\\AppData\\Local\\Temp\\ipykernel_11596\\2871599656.py:26: FutureWarning: The frame.append method is deprecated and will be removed from pandas in a future version. Use pandas.concat instead.\n",
      "  df = df.append({'Email': email_current, 'Phone_number': phone_number_current}, ignore_index=True)\n",
      "C:\\Users\\Hamza\\AppData\\Local\\Temp\\ipykernel_11596\\2871599656.py:26: FutureWarning: The frame.append method is deprecated and will be removed from pandas in a future version. Use pandas.concat instead.\n",
      "  df = df.append({'Email': email_current, 'Phone_number': phone_number_current}, ignore_index=True)\n"
     ]
    },
    {
     "name": "stdout",
     "output_type": "stream",
     "text": [
      "['ehjin@mit.edu'] []  has been extracted at iteration  433\n",
      "['kjin@mit.edu'] []  has been extracted at iteration  433\n",
      "['qixuanj@mit.edu'] []  has been extracted at iteration  433\n"
     ]
    },
    {
     "name": "stderr",
     "output_type": "stream",
     "text": [
      "C:\\Users\\Hamza\\AppData\\Local\\Temp\\ipykernel_11596\\2871599656.py:26: FutureWarning: The frame.append method is deprecated and will be removed from pandas in a future version. Use pandas.concat instead.\n",
      "  df = df.append({'Email': email_current, 'Phone_number': phone_number_current}, ignore_index=True)\n",
      "C:\\Users\\Hamza\\AppData\\Local\\Temp\\ipykernel_11596\\2871599656.py:26: FutureWarning: The frame.append method is deprecated and will be removed from pandas in a future version. Use pandas.concat instead.\n",
      "  df = df.append({'Email': email_current, 'Phone_number': phone_number_current}, ignore_index=True)\n"
     ]
    },
    {
     "name": "stdout",
     "output_type": "stream",
     "text": [
      "['tianjin@MIT.EDU'] []  has been extracted at iteration  433\n",
      "['ZZJIN@csail.mit.edu'] []  has been extracted at iteration  433\n"
     ]
    },
    {
     "name": "stderr",
     "output_type": "stream",
     "text": [
      "C:\\Users\\Hamza\\AppData\\Local\\Temp\\ipykernel_11596\\2871599656.py:26: FutureWarning: The frame.append method is deprecated and will be removed from pandas in a future version. Use pandas.concat instead.\n",
      "  df = df.append({'Email': email_current, 'Phone_number': phone_number_current}, ignore_index=True)\n",
      "C:\\Users\\Hamza\\AppData\\Local\\Temp\\ipykernel_11596\\2871599656.py:26: FutureWarning: The frame.append method is deprecated and will be removed from pandas in a future version. Use pandas.concat instead.\n",
      "  df = df.append({'Email': email_current, 'Phone_number': phone_number_current}, ignore_index=True)\n"
     ]
    },
    {
     "name": "stdout",
     "output_type": "stream",
     "text": [
      "['charles.jin@mit.edu'] []  has been extracted at iteration  433\n",
      "['bjing@csail.mit.edu'] []  has been extracted at iteration  433\n"
     ]
    },
    {
     "name": "stderr",
     "output_type": "stream",
     "text": [
      "C:\\Users\\Hamza\\AppData\\Local\\Temp\\ipykernel_11596\\2871599656.py:26: FutureWarning: The frame.append method is deprecated and will be removed from pandas in a future version. Use pandas.concat instead.\n",
      "  df = df.append({'Email': email_current, 'Phone_number': phone_number_current}, ignore_index=True)\n",
      "C:\\Users\\Hamza\\AppData\\Local\\Temp\\ipykernel_11596\\2871599656.py:26: FutureWarning: The frame.append method is deprecated and will be removed from pandas in a future version. Use pandas.concat instead.\n",
      "  df = df.append({'Email': email_current, 'Phone_number': phone_number_current}, ignore_index=True)\n"
     ]
    },
    {
     "name": "stdout",
     "output_type": "stream",
     "text": [
      "['sjiwani@mit.edu'] []  has been extracted at iteration  433\n",
      "['ERINJ@csail.mit.edu'] []  has been extracted at iteration  433\n",
      "['zjohnson@csail.mit.edu'] []  has been extracted at iteration  433\n"
     ]
    },
    {
     "name": "stderr",
     "output_type": "stream",
     "text": [
      "C:\\Users\\Hamza\\AppData\\Local\\Temp\\ipykernel_11596\\2871599656.py:26: FutureWarning: The frame.append method is deprecated and will be removed from pandas in a future version. Use pandas.concat instead.\n",
      "  df = df.append({'Email': email_current, 'Phone_number': phone_number_current}, ignore_index=True)\n",
      "C:\\Users\\Hamza\\AppData\\Local\\Temp\\ipykernel_11596\\2871599656.py:26: FutureWarning: The frame.append method is deprecated and will be removed from pandas in a future version. Use pandas.concat instead.\n",
      "  df = df.append({'Email': email_current, 'Phone_number': phone_number_current}, ignore_index=True)\n",
      "C:\\Users\\Hamza\\AppData\\Local\\Temp\\ipykernel_11596\\2871599656.py:26: FutureWarning: The frame.append method is deprecated and will be removed from pandas in a future version. Use pandas.concat instead.\n",
      "  df = df.append({'Email': email_current, 'Phone_number': phone_number_current}, ignore_index=True)\n"
     ]
    },
    {
     "name": "stdout",
     "output_type": "stream",
     "text": [
      "['stevenj@csail.mit.edu'] []  has been extracted at iteration  433\n",
      "['jmjoseph@mit.edu'] []  has been extracted at iteration  433\n"
     ]
    },
    {
     "name": "stderr",
     "output_type": "stream",
     "text": [
      "C:\\Users\\Hamza\\AppData\\Local\\Temp\\ipykernel_11596\\2871599656.py:26: FutureWarning: The frame.append method is deprecated and will be removed from pandas in a future version. Use pandas.concat instead.\n",
      "  df = df.append({'Email': email_current, 'Phone_number': phone_number_current}, ignore_index=True)\n"
     ]
    },
    {
     "name": "stdout",
     "output_type": "stream",
     "text": [
      "['ejosephs@mit.edu'] []  has been extracted at iteration  433\n",
      "['msjung@csail.mit.edu'] []  has been extracted at iteration  433\n"
     ]
    },
    {
     "name": "stderr",
     "output_type": "stream",
     "text": [
      "C:\\Users\\Hamza\\AppData\\Local\\Temp\\ipykernel_11596\\2871599656.py:26: FutureWarning: The frame.append method is deprecated and will be removed from pandas in a future version. Use pandas.concat instead.\n",
      "  df = df.append({'Email': email_current, 'Phone_number': phone_number_current}, ignore_index=True)\n",
      "C:\\Users\\Hamza\\AppData\\Local\\Temp\\ipykernel_11596\\2871599656.py:26: FutureWarning: The frame.append method is deprecated and will be removed from pandas in a future version. Use pandas.concat instead.\n",
      "  df = df.append({'Email': email_current, 'Phone_number': phone_number_current}, ignore_index=True)\n"
     ]
    },
    {
     "name": "stdout",
     "output_type": "stream",
     "text": [
      "['iljungr@csail.mit.edu'] []  has been extracted at iteration  433\n",
      "['kaashoek@csail.mit.edu'] ['253-7149']  has been extracted at iteration  433\n"
     ]
    },
    {
     "name": "stderr",
     "output_type": "stream",
     "text": [
      "C:\\Users\\Hamza\\AppData\\Local\\Temp\\ipykernel_11596\\2871599656.py:26: FutureWarning: The frame.append method is deprecated and will be removed from pandas in a future version. Use pandas.concat instead.\n",
      "  df = df.append({'Email': email_current, 'Phone_number': phone_number_current}, ignore_index=True)\n",
      "C:\\Users\\Hamza\\AppData\\Local\\Temp\\ipykernel_11596\\2871599656.py:26: FutureWarning: The frame.append method is deprecated and will be removed from pandas in a future version. Use pandas.concat instead.\n",
      "  df = df.append({'Email': email_current, 'Phone_number': phone_number_current}, ignore_index=True)\n"
     ]
    },
    {
     "name": "stdout",
     "output_type": "stream",
     "text": [
      "['EGEKABAS@csail.mit.edu'] []  has been extracted at iteration  433\n",
      "['lpk@csail.mit.edu'] ['258-9695']  has been extracted at iteration  433\n"
     ]
    },
    {
     "name": "stderr",
     "output_type": "stream",
     "text": [
      "C:\\Users\\Hamza\\AppData\\Local\\Temp\\ipykernel_11596\\2871599656.py:26: FutureWarning: The frame.append method is deprecated and will be removed from pandas in a future version. Use pandas.concat instead.\n",
      "  df = df.append({'Email': email_current, 'Phone_number': phone_number_current}, ignore_index=True)\n",
      "C:\\Users\\Hamza\\AppData\\Local\\Temp\\ipykernel_11596\\2871599656.py:26: FutureWarning: The frame.append method is deprecated and will be removed from pandas in a future version. Use pandas.concat instead.\n",
      "  df = df.append({'Email': email_current, 'Phone_number': phone_number_current}, ignore_index=True)\n"
     ]
    },
    {
     "name": "stdout",
     "output_type": "stream",
     "text": [
      "['pkafle@mit.edu'] []  has been extracted at iteration  433\n",
      "['lkagal@csail.mit.edu'] ['253-5845']  has been extracted at iteration  433\n",
      "['endrias@mit.edu'] []  has been extracted at iteration  433\n"
     ]
    },
    {
     "name": "stderr",
     "output_type": "stream",
     "text": [
      "C:\\Users\\Hamza\\AppData\\Local\\Temp\\ipykernel_11596\\2871599656.py:26: FutureWarning: The frame.append method is deprecated and will be removed from pandas in a future version. Use pandas.concat instead.\n",
      "  df = df.append({'Email': email_current, 'Phone_number': phone_number_current}, ignore_index=True)\n",
      "C:\\Users\\Hamza\\AppData\\Local\\Temp\\ipykernel_11596\\2871599656.py:26: FutureWarning: The frame.append method is deprecated and will be removed from pandas in a future version. Use pandas.concat instead.\n",
      "  df = df.append({'Email': email_current, 'Phone_number': phone_number_current}, ignore_index=True)\n",
      "C:\\Users\\Hamza\\AppData\\Local\\Temp\\ipykernel_11596\\2871599656.py:26: FutureWarning: The frame.append method is deprecated and will be removed from pandas in a future version. Use pandas.concat instead.\n",
      "  df = df.append({'Email': email_current, 'Phone_number': phone_number_current}, ignore_index=True)\n"
     ]
    },
    {
     "name": "stdout",
     "output_type": "stream",
     "text": [
      "['jkaklam@mit.edu'] []  has been extracted at iteration  433\n",
      "['tfk@mit.edu'] []  has been extracted at iteration  433\n",
      "['gkammer@mit.edu'] []  has been extracted at iteration  433\n"
     ]
    },
    {
     "name": "stderr",
     "output_type": "stream",
     "text": [
      "C:\\Users\\Hamza\\AppData\\Local\\Temp\\ipykernel_11596\\2871599656.py:26: FutureWarning: The frame.append method is deprecated and will be removed from pandas in a future version. Use pandas.concat instead.\n",
      "  df = df.append({'Email': email_current, 'Phone_number': phone_number_current}, ignore_index=True)\n",
      "C:\\Users\\Hamza\\AppData\\Local\\Temp\\ipykernel_11596\\2871599656.py:26: FutureWarning: The frame.append method is deprecated and will be removed from pandas in a future version. Use pandas.concat instead.\n",
      "  df = df.append({'Email': email_current, 'Phone_number': phone_number_current}, ignore_index=True)\n",
      "C:\\Users\\Hamza\\AppData\\Local\\Temp\\ipykernel_11596\\2871599656.py:26: FutureWarning: The frame.append method is deprecated and will be removed from pandas in a future version. Use pandas.concat instead.\n",
      "  df = df.append({'Email': email_current, 'Phone_number': phone_number_current}, ignore_index=True)\n"
     ]
    },
    {
     "name": "stdout",
     "output_type": "stream",
     "text": [
      "['kandiros@csail.mit.edu'] []  has been extracted at iteration  433\n",
      "['kaikang@csail.mit.edu'] []  has been extracted at iteration  433\n",
      "['STALENCE@csail.mit.edu'] []  has been extracted at iteration  433\n"
     ]
    },
    {
     "name": "stderr",
     "output_type": "stream",
     "text": [
      "C:\\Users\\Hamza\\AppData\\Local\\Temp\\ipykernel_11596\\2871599656.py:26: FutureWarning: The frame.append method is deprecated and will be removed from pandas in a future version. Use pandas.concat instead.\n",
      "  df = df.append({'Email': email_current, 'Phone_number': phone_number_current}, ignore_index=True)\n",
      "C:\\Users\\Hamza\\AppData\\Local\\Temp\\ipykernel_11596\\2871599656.py:26: FutureWarning: The frame.append method is deprecated and will be removed from pandas in a future version. Use pandas.concat instead.\n",
      "  df = df.append({'Email': email_current, 'Phone_number': phone_number_current}, ignore_index=True)\n",
      "C:\\Users\\Hamza\\AppData\\Local\\Temp\\ipykernel_11596\\2871599656.py:26: FutureWarning: The frame.append method is deprecated and will be removed from pandas in a future version. Use pandas.concat instead.\n",
      "  df = df.append({'Email': email_current, 'Phone_number': phone_number_current}, ignore_index=True)\n"
     ]
    },
    {
     "name": "stdout",
     "output_type": "stream",
     "text": [
      "['nkarani@csail.mit.edu'] []  has been extracted at iteration  433\n",
      "['karger@csail.mit.edu'] ['258-6167']  has been extracted at iteration  433\n",
      "['pkarimib@mit.edu'] []  has been extracted at iteration  433\n"
     ]
    },
    {
     "name": "stderr",
     "output_type": "stream",
     "text": [
      "C:\\Users\\Hamza\\AppData\\Local\\Temp\\ipykernel_11596\\2871599656.py:26: FutureWarning: The frame.append method is deprecated and will be removed from pandas in a future version. Use pandas.concat instead.\n",
      "  df = df.append({'Email': email_current, 'Phone_number': phone_number_current}, ignore_index=True)\n",
      "C:\\Users\\Hamza\\AppData\\Local\\Temp\\ipykernel_11596\\2871599656.py:26: FutureWarning: The frame.append method is deprecated and will be removed from pandas in a future version. Use pandas.concat instead.\n",
      "  df = df.append({'Email': email_current, 'Phone_number': phone_number_current}, ignore_index=True)\n",
      "C:\\Users\\Hamza\\AppData\\Local\\Temp\\ipykernel_11596\\2871599656.py:26: FutureWarning: The frame.append method is deprecated and will be removed from pandas in a future version. Use pandas.concat instead.\n",
      "  df = df.append({'Email': email_current, 'Phone_number': phone_number_current}, ignore_index=True)\n"
     ]
    },
    {
     "name": "stdout",
     "output_type": "stream",
     "text": [
      "['skarpoor@csail.mit.edu'] []  has been extracted at iteration  433\n",
      "['karvels2@mit.edu'] []  has been extracted at iteration  433\n"
     ]
    },
    {
     "name": "stderr",
     "output_type": "stream",
     "text": [
      "C:\\Users\\Hamza\\AppData\\Local\\Temp\\ipykernel_11596\\2871599656.py:26: FutureWarning: The frame.append method is deprecated and will be removed from pandas in a future version. Use pandas.concat instead.\n",
      "  df = df.append({'Email': email_current, 'Phone_number': phone_number_current}, ignore_index=True)\n",
      "C:\\Users\\Hamza\\AppData\\Local\\Temp\\ipykernel_11596\\2871599656.py:26: FutureWarning: The frame.append method is deprecated and will be removed from pandas in a future version. Use pandas.concat instead.\n",
      "  df = df.append({'Email': email_current, 'Phone_number': phone_number_current}, ignore_index=True)\n"
     ]
    },
    {
     "name": "stdout",
     "output_type": "stream",
     "text": [
      "['dina@csail.mit.edu'] ['324-6027']  has been extracted at iteration  433\n",
      "['boris@csail.mit.edu'] ['253-6032']  has been extracted at iteration  433\n"
     ]
    },
    {
     "name": "stderr",
     "output_type": "stream",
     "text": [
      "C:\\Users\\Hamza\\AppData\\Local\\Temp\\ipykernel_11596\\2871599656.py:26: FutureWarning: The frame.append method is deprecated and will be removed from pandas in a future version. Use pandas.concat instead.\n",
      "  df = df.append({'Email': email_current, 'Phone_number': phone_number_current}, ignore_index=True)\n",
      "C:\\Users\\Hamza\\AppData\\Local\\Temp\\ipykernel_11596\\2871599656.py:26: FutureWarning: The frame.append method is deprecated and will be removed from pandas in a future version. Use pandas.concat instead.\n",
      "  df = df.append({'Email': email_current, 'Phone_number': phone_number_current}, ignore_index=True)\n"
     ]
    },
    {
     "name": "stdout",
     "output_type": "stream",
     "text": [
      "['kayj@csail.mit.edu'] []  has been extracted at iteration  433\n",
      "['AMIRKA@csail.mit.edu'] []  has been extracted at iteration  433\n"
     ]
    },
    {
     "name": "stderr",
     "output_type": "stream",
     "text": [
      "C:\\Users\\Hamza\\AppData\\Local\\Temp\\ipykernel_11596\\2871599656.py:26: FutureWarning: The frame.append method is deprecated and will be removed from pandas in a future version. Use pandas.concat instead.\n",
      "  df = df.append({'Email': email_current, 'Phone_number': phone_number_current}, ignore_index=True)\n",
      "C:\\Users\\Hamza\\AppData\\Local\\Temp\\ipykernel_11596\\2871599656.py:26: FutureWarning: The frame.append method is deprecated and will be removed from pandas in a future version. Use pandas.concat instead.\n",
      "  df = df.append({'Email': email_current, 'Phone_number': phone_number_current}, ignore_index=True)\n"
     ]
    },
    {
     "name": "stdout",
     "output_type": "stream",
     "text": [
      "['mattk22@mit.edu'] []  has been extracted at iteration  433\n",
      "['keel@mit.edu'] ['252-1866']  has been extracted at iteration  433\n"
     ]
    },
    {
     "name": "stderr",
     "output_type": "stream",
     "text": [
      "C:\\Users\\Hamza\\AppData\\Local\\Temp\\ipykernel_11596\\2871599656.py:26: FutureWarning: The frame.append method is deprecated and will be removed from pandas in a future version. Use pandas.concat instead.\n",
      "  df = df.append({'Email': email_current, 'Phone_number': phone_number_current}, ignore_index=True)\n",
      "C:\\Users\\Hamza\\AppData\\Local\\Temp\\ipykernel_11596\\2871599656.py:26: FutureWarning: The frame.append method is deprecated and will be removed from pandas in a future version. Use pandas.concat instead.\n",
      "  df = df.append({'Email': email_current, 'Phone_number': phone_number_current}, ignore_index=True)\n"
     ]
    },
    {
     "name": "stdout",
     "output_type": "stream",
     "text": [
      "['manoli@mit.edu'] ['253-2419']  has been extracted at iteration  433\n",
      "['SYDNEY-KELLY@csail.mit.edu'] []  has been extracted at iteration  433\n"
     ]
    },
    {
     "name": "stderr",
     "output_type": "stream",
     "text": [
      "C:\\Users\\Hamza\\AppData\\Local\\Temp\\ipykernel_11596\\2871599656.py:26: FutureWarning: The frame.append method is deprecated and will be removed from pandas in a future version. Use pandas.concat instead.\n",
      "  df = df.append({'Email': email_current, 'Phone_number': phone_number_current}, ignore_index=True)\n",
      "C:\\Users\\Hamza\\AppData\\Local\\Temp\\ipykernel_11596\\2871599656.py:26: FutureWarning: The frame.append method is deprecated and will be removed from pandas in a future version. Use pandas.concat instead.\n",
      "  df = df.append({'Email': email_current, 'Phone_number': phone_number_current}, ignore_index=True)\n"
     ]
    },
    {
     "name": "stdout",
     "output_type": "stream",
     "text": [
      "['ekelman@csail.mit.edu'] []  has been extracted at iteration  433\n",
      "['kelner@mit.edu'] ['253-4344']  has been extracted at iteration  433\n"
     ]
    },
    {
     "name": "stderr",
     "output_type": "stream",
     "text": [
      "C:\\Users\\Hamza\\AppData\\Local\\Temp\\ipykernel_11596\\2871599656.py:26: FutureWarning: The frame.append method is deprecated and will be removed from pandas in a future version. Use pandas.concat instead.\n",
      "  df = df.append({'Email': email_current, 'Phone_number': phone_number_current}, ignore_index=True)\n",
      "C:\\Users\\Hamza\\AppData\\Local\\Temp\\ipykernel_11596\\2871599656.py:26: FutureWarning: The frame.append method is deprecated and will be removed from pandas in a future version. Use pandas.concat instead.\n",
      "  df = df.append({'Email': email_current, 'Phone_number': phone_number_current}, ignore_index=True)\n"
     ]
    },
    {
     "name": "stdout",
     "output_type": "stream",
     "text": [
      "['ekenny@mit.edu'] []  has been extracted at iteration  433\n",
      "['bkettle@mit.edu'] []  has been extracted at iteration  433\n"
     ]
    },
    {
     "name": "stderr",
     "output_type": "stream",
     "text": [
      "C:\\Users\\Hamza\\AppData\\Local\\Temp\\ipykernel_11596\\2871599656.py:26: FutureWarning: The frame.append method is deprecated and will be removed from pandas in a future version. Use pandas.concat instead.\n",
      "  df = df.append({'Email': email_current, 'Phone_number': phone_number_current}, ignore_index=True)\n",
      "C:\\Users\\Hamza\\AppData\\Local\\Temp\\ipykernel_11596\\2871599656.py:26: FutureWarning: The frame.append method is deprecated and will be removed from pandas in a future version. Use pandas.concat instead.\n",
      "  df = df.append({'Email': email_current, 'Phone_number': phone_number_current}, ignore_index=True)\n"
     ]
    },
    {
     "name": "stdout",
     "output_type": "stream",
     "text": [
      "['alaakh@MIT.EDU'] []  has been extracted at iteration  433\n",
      "['fkhalif@mit.edu'] []  has been extracted at iteration  433\n"
     ]
    },
    {
     "name": "stderr",
     "output_type": "stream",
     "text": [
      "C:\\Users\\Hamza\\AppData\\Local\\Temp\\ipykernel_11596\\2871599656.py:26: FutureWarning: The frame.append method is deprecated and will be removed from pandas in a future version. Use pandas.concat instead.\n",
      "  df = df.append({'Email': email_current, 'Phone_number': phone_number_current}, ignore_index=True)\n",
      "C:\\Users\\Hamza\\AppData\\Local\\Temp\\ipykernel_11596\\2871599656.py:26: FutureWarning: The frame.append method is deprecated and will be removed from pandas in a future version. Use pandas.concat instead.\n",
      "  df = df.append({'Email': email_current, 'Phone_number': phone_number_current}, ignore_index=True)\n"
     ]
    },
    {
     "name": "stdout",
     "output_type": "stream",
     "text": [
      "['akhan02@mit.edu'] []  has been extracted at iteration  433\n",
      "['khani@mit.edu'] []  has been extracted at iteration  433\n"
     ]
    },
    {
     "name": "stderr",
     "output_type": "stream",
     "text": [
      "C:\\Users\\Hamza\\AppData\\Local\\Temp\\ipykernel_11596\\2871599656.py:26: FutureWarning: The frame.append method is deprecated and will be removed from pandas in a future version. Use pandas.concat instead.\n",
      "  df = df.append({'Email': email_current, 'Phone_number': phone_number_current}, ignore_index=True)\n",
      "C:\\Users\\Hamza\\AppData\\Local\\Temp\\ipykernel_11596\\2871599656.py:26: FutureWarning: The frame.append method is deprecated and will be removed from pandas in a future version. Use pandas.concat instead.\n",
      "  df = df.append({'Email': email_current, 'Phone_number': phone_number_current}, ignore_index=True)\n"
     ]
    },
    {
     "name": "stdout",
     "output_type": "stream",
     "text": [
      "['skhurana@mit.edu'] []  has been extracted at iteration  433\n",
      "['kikinis@csail.mit.edu'] ['258-6183']  has been extracted at iteration  433\n",
      "['violetk@mit.edu'] []  has been extracted at iteration  433\n"
     ]
    },
    {
     "name": "stderr",
     "output_type": "stream",
     "text": [
      "C:\\Users\\Hamza\\AppData\\Local\\Temp\\ipykernel_11596\\2871599656.py:26: FutureWarning: The frame.append method is deprecated and will be removed from pandas in a future version. Use pandas.concat instead.\n",
      "  df = df.append({'Email': email_current, 'Phone_number': phone_number_current}, ignore_index=True)\n",
      "C:\\Users\\Hamza\\AppData\\Local\\Temp\\ipykernel_11596\\2871599656.py:26: FutureWarning: The frame.append method is deprecated and will be removed from pandas in a future version. Use pandas.concat instead.\n",
      "  df = df.append({'Email': email_current, 'Phone_number': phone_number_current}, ignore_index=True)\n",
      "C:\\Users\\Hamza\\AppData\\Local\\Temp\\ipykernel_11596\\2871599656.py:26: FutureWarning: The frame.append method is deprecated and will be removed from pandas in a future version. Use pandas.concat instead.\n",
      "  df = df.append({'Email': email_current, 'Phone_number': phone_number_current}, ignore_index=True)\n"
     ]
    },
    {
     "name": "stdout",
     "output_type": "stream",
     "text": [
      "['alkim@mit.edu'] []  has been extracted at iteration  433\n",
      "['bckim@csail.mit.edu'] []  has been extracted at iteration  433\n"
     ]
    },
    {
     "name": "stderr",
     "output_type": "stream",
     "text": [
      "C:\\Users\\Hamza\\AppData\\Local\\Temp\\ipykernel_11596\\2871599656.py:26: FutureWarning: The frame.append method is deprecated and will be removed from pandas in a future version. Use pandas.concat instead.\n",
      "  df = df.append({'Email': email_current, 'Phone_number': phone_number_current}, ignore_index=True)\n",
      "C:\\Users\\Hamza\\AppData\\Local\\Temp\\ipykernel_11596\\2871599656.py:26: FutureWarning: The frame.append method is deprecated and will be removed from pandas in a future version. Use pandas.concat instead.\n",
      "  df = df.append({'Email': email_current, 'Phone_number': phone_number_current}, ignore_index=True)\n"
     ]
    },
    {
     "name": "stdout",
     "output_type": "stream",
     "text": [
      "['dyjkim@csail.mit.edu'] []  has been extracted at iteration  433\n",
      "['LUCYKIM@csail.mit.edu'] []  has been extracted at iteration  433\n",
      "['evan_kim@mit.edu'] []  has been extracted at iteration  433\n"
     ]
    },
    {
     "name": "stderr",
     "output_type": "stream",
     "text": [
      "C:\\Users\\Hamza\\AppData\\Local\\Temp\\ipykernel_11596\\2871599656.py:26: FutureWarning: The frame.append method is deprecated and will be removed from pandas in a future version. Use pandas.concat instead.\n",
      "  df = df.append({'Email': email_current, 'Phone_number': phone_number_current}, ignore_index=True)\n",
      "C:\\Users\\Hamza\\AppData\\Local\\Temp\\ipykernel_11596\\2871599656.py:26: FutureWarning: The frame.append method is deprecated and will be removed from pandas in a future version. Use pandas.concat instead.\n",
      "  df = df.append({'Email': email_current, 'Phone_number': phone_number_current}, ignore_index=True)\n",
      "C:\\Users\\Hamza\\AppData\\Local\\Temp\\ipykernel_11596\\2871599656.py:26: FutureWarning: The frame.append method is deprecated and will be removed from pandas in a future version. Use pandas.concat instead.\n",
      "  df = df.append({'Email': email_current, 'Phone_number': phone_number_current}, ignore_index=True)\n",
      "C:\\Users\\Hamza\\AppData\\Local\\Temp\\ipykernel_11596\\2871599656.py:26: FutureWarning: The frame.append method is deprecated and will be removed from pandas in a future version. Use pandas.concat instead.\n",
      "  df = df.append({'Email': email_current, 'Phone_number': phone_number_current}, ignore_index=True)\n"
     ]
    },
    {
     "name": "stdout",
     "output_type": "stream",
     "text": [
      "['joekim02@csail.mit.edu'] []  has been extracted at iteration  433\n",
      "['ksiyoung@csail.mit.edu'] []  has been extracted at iteration  433\n"
     ]
    },
    {
     "name": "stderr",
     "output_type": "stream",
     "text": [
      "C:\\Users\\Hamza\\AppData\\Local\\Temp\\ipykernel_11596\\2871599656.py:26: FutureWarning: The frame.append method is deprecated and will be removed from pandas in a future version. Use pandas.concat instead.\n",
      "  df = df.append({'Email': email_current, 'Phone_number': phone_number_current}, ignore_index=True)\n",
      "C:\\Users\\Hamza\\AppData\\Local\\Temp\\ipykernel_11596\\2871599656.py:26: FutureWarning: The frame.append method is deprecated and will be removed from pandas in a future version. Use pandas.concat instead.\n",
      "  df = df.append({'Email': email_current, 'Phone_number': phone_number_current}, ignore_index=True)\n",
      "C:\\Users\\Hamza\\AppData\\Local\\Temp\\ipykernel_11596\\2871599656.py:26: FutureWarning: The frame.append method is deprecated and will be removed from pandas in a future version. Use pandas.concat instead.\n",
      "  df = df.append({'Email': email_current, 'Phone_number': phone_number_current}, ignore_index=True)\n"
     ]
    },
    {
     "name": "stdout",
     "output_type": "stream",
     "text": [
      "['sunghyun@csail.mit.edu'] []  has been extracted at iteration  433\n",
      "['yoonkim@mit.edu'] []  has been extracted at iteration  433\n",
      "['younhun@mit.edu'] []  has been extracted at iteration  433\n",
      "['kimmerer@mit.edu'] []  has been extracted at iteration  433\n"
     ]
    },
    {
     "name": "stderr",
     "output_type": "stream",
     "text": [
      "C:\\Users\\Hamza\\AppData\\Local\\Temp\\ipykernel_11596\\2871599656.py:26: FutureWarning: The frame.append method is deprecated and will be removed from pandas in a future version. Use pandas.concat instead.\n",
      "  df = df.append({'Email': email_current, 'Phone_number': phone_number_current}, ignore_index=True)\n",
      "C:\\Users\\Hamza\\AppData\\Local\\Temp\\ipykernel_11596\\2871599656.py:26: FutureWarning: The frame.append method is deprecated and will be removed from pandas in a future version. Use pandas.concat instead.\n",
      "  df = df.append({'Email': email_current, 'Phone_number': phone_number_current}, ignore_index=True)\n"
     ]
    },
    {
     "name": "stdout",
     "output_type": "stream",
     "text": [
      "['elvira@mit.edu'] []  has been extracted at iteration  433\n",
      "['yaelkirk@mit.edu'] []  has been extracted at iteration  433\n"
     ]
    },
    {
     "name": "stderr",
     "output_type": "stream",
     "text": [
      "C:\\Users\\Hamza\\AppData\\Local\\Temp\\ipykernel_11596\\2871599656.py:26: FutureWarning: The frame.append method is deprecated and will be removed from pandas in a future version. Use pandas.concat instead.\n",
      "  df = df.append({'Email': email_current, 'Phone_number': phone_number_current}, ignore_index=True)\n",
      "C:\\Users\\Hamza\\AppData\\Local\\Temp\\ipykernel_11596\\2871599656.py:26: FutureWarning: The frame.append method is deprecated and will be removed from pandas in a future version. Use pandas.concat instead.\n",
      "  df = df.append({'Email': email_current, 'Phone_number': phone_number_current}, ignore_index=True)\n"
     ]
    },
    {
     "name": "stdout",
     "output_type": "stream",
     "text": [
      "['nklugman@mit.edu'] []  has been extracted at iteration  433\n",
      "['YOGESH11@csail.mit.edu'] []  has been extracted at iteration  433\n"
     ]
    },
    {
     "name": "stderr",
     "output_type": "stream",
     "text": [
      "C:\\Users\\Hamza\\AppData\\Local\\Temp\\ipykernel_11596\\2871599656.py:26: FutureWarning: The frame.append method is deprecated and will be removed from pandas in a future version. Use pandas.concat instead.\n",
      "  df = df.append({'Email': email_current, 'Phone_number': phone_number_current}, ignore_index=True)\n",
      "C:\\Users\\Hamza\\AppData\\Local\\Temp\\ipykernel_11596\\2871599656.py:26: FutureWarning: The frame.append method is deprecated and will be removed from pandas in a future version. Use pandas.concat instead.\n",
      "  df = df.append({'Email': email_current, 'Phone_number': phone_number_current}, ignore_index=True)\n"
     ]
    },
    {
     "name": "stdout",
     "output_type": "stream",
     "text": [
      "['minakl@mit.edu'] []  has been extracted at iteration  433\n",
      "['jkondic@mit.edu'] []  has been extracted at iteration  433\n"
     ]
    },
    {
     "name": "stderr",
     "output_type": "stream",
     "text": [
      "C:\\Users\\Hamza\\AppData\\Local\\Temp\\ipykernel_11596\\2871599656.py:26: FutureWarning: The frame.append method is deprecated and will be removed from pandas in a future version. Use pandas.concat instead.\n",
      "  df = df.append({'Email': email_current, 'Phone_number': phone_number_current}, ignore_index=True)\n",
      "C:\\Users\\Hamza\\AppData\\Local\\Temp\\ipykernel_11596\\2871599656.py:26: FutureWarning: The frame.append method is deprecated and will be removed from pandas in a future version. Use pandas.concat instead.\n",
      "  df = df.append({'Email': email_current, 'Phone_number': phone_number_current}, ignore_index=True)\n"
     ]
    },
    {
     "name": "stdout",
     "output_type": "stream",
     "text": [
      "['kondrich@mit.edu'] []  has been extracted at iteration  433\n",
      "['LINGHAO@csail.mit.edu'] []  has been extracted at iteration  433\n"
     ]
    },
    {
     "name": "stderr",
     "output_type": "stream",
     "text": [
      "C:\\Users\\Hamza\\AppData\\Local\\Temp\\ipykernel_11596\\2871599656.py:26: FutureWarning: The frame.append method is deprecated and will be removed from pandas in a future version. Use pandas.concat instead.\n",
      "  df = df.append({'Email': email_current, 'Phone_number': phone_number_current}, ignore_index=True)\n",
      "C:\\Users\\Hamza\\AppData\\Local\\Temp\\ipykernel_11596\\2871599656.py:26: FutureWarning: The frame.append method is deprecated and will be removed from pandas in a future version. Use pandas.concat instead.\n",
      "  df = df.append({'Email': email_current, 'Phone_number': phone_number_current}, ignore_index=True)\n"
     ]
    },
    {
     "name": "stdout",
     "output_type": "stream",
     "text": [
      "['rileyis@mit.edu'] []  has been extracted at iteration  433\n",
      "['DIMOS@csail.mit.edu'] []  has been extracted at iteration  433\n"
     ]
    },
    {
     "name": "stderr",
     "output_type": "stream",
     "text": [
      "C:\\Users\\Hamza\\AppData\\Local\\Temp\\ipykernel_11596\\2871599656.py:26: FutureWarning: The frame.append method is deprecated and will be removed from pandas in a future version. Use pandas.concat instead.\n",
      "  df = df.append({'Email': email_current, 'Phone_number': phone_number_current}, ignore_index=True)\n",
      "C:\\Users\\Hamza\\AppData\\Local\\Temp\\ipykernel_11596\\2871599656.py:26: FutureWarning: The frame.append method is deprecated and will be removed from pandas in a future version. Use pandas.concat instead.\n",
      "  df = df.append({'Email': email_current, 'Phone_number': phone_number_current}, ignore_index=True)\n"
     ]
    },
    {
     "name": "stdout",
     "output_type": "stream",
     "text": [
      "['KOOSAGA@csail.mit.edu'] []  has been extracted at iteration  433\n",
      "['dkoplow@mit.edu'] []  has been extracted at iteration  433\n"
     ]
    },
    {
     "name": "stderr",
     "output_type": "stream",
     "text": [
      "C:\\Users\\Hamza\\AppData\\Local\\Temp\\ipykernel_11596\\2871599656.py:26: FutureWarning: The frame.append method is deprecated and will be removed from pandas in a future version. Use pandas.concat instead.\n",
      "  df = df.append({'Email': email_current, 'Phone_number': phone_number_current}, ignore_index=True)\n",
      "C:\\Users\\Hamza\\AppData\\Local\\Temp\\ipykernel_11596\\2871599656.py:26: FutureWarning: The frame.append method is deprecated and will be removed from pandas in a future version. Use pandas.concat instead.\n",
      "  df = df.append({'Email': email_current, 'Phone_number': phone_number_current}, ignore_index=True)\n"
     ]
    },
    {
     "name": "stdout",
     "output_type": "stream",
     "text": [
      "['Kossmann@mit.edu'] []  has been extracted at iteration  433\n",
      "['TIMOTHY@csail.mit.edu'] []  has been extracted at iteration  433\n"
     ]
    },
    {
     "name": "stderr",
     "output_type": "stream",
     "text": [
      "C:\\Users\\Hamza\\AppData\\Local\\Temp\\ipykernel_11596\\2871599656.py:26: FutureWarning: The frame.append method is deprecated and will be removed from pandas in a future version. Use pandas.concat instead.\n",
      "  df = df.append({'Email': email_current, 'Phone_number': phone_number_current}, ignore_index=True)\n",
      "C:\\Users\\Hamza\\AppData\\Local\\Temp\\ipykernel_11596\\2871599656.py:26: FutureWarning: The frame.append method is deprecated and will be removed from pandas in a future version. Use pandas.concat instead.\n",
      "  df = df.append({'Email': email_current, 'Phone_number': phone_number_current}, ignore_index=True)\n"
     ]
    },
    {
     "name": "stdout",
     "output_type": "stream",
     "text": [
      "['mkotak@csail.mit.edu'] []  has been extracted at iteration  433\n",
      "['kraska@mit.edu'] []  has been extracted at iteration  433\n"
     ]
    },
    {
     "name": "stderr",
     "output_type": "stream",
     "text": [
      "C:\\Users\\Hamza\\AppData\\Local\\Temp\\ipykernel_11596\\2871599656.py:26: FutureWarning: The frame.append method is deprecated and will be removed from pandas in a future version. Use pandas.concat instead.\n",
      "  df = df.append({'Email': email_current, 'Phone_number': phone_number_current}, ignore_index=True)\n",
      "C:\\Users\\Hamza\\AppData\\Local\\Temp\\ipykernel_11596\\2871599656.py:26: FutureWarning: The frame.append method is deprecated and will be removed from pandas in a future version. Use pandas.concat instead.\n",
      "  df = df.append({'Email': email_current, 'Phone_number': phone_number_current}, ignore_index=True)\n"
     ]
    },
    {
     "name": "stdout",
     "output_type": "stream",
     "text": [
      "['alexalex@mit.edu'] []  has been extracted at iteration  433\n",
      "['jkrog@mit.edu'] []  has been extracted at iteration  433\n"
     ]
    },
    {
     "name": "stderr",
     "output_type": "stream",
     "text": [
      "C:\\Users\\Hamza\\AppData\\Local\\Temp\\ipykernel_11596\\2871599656.py:26: FutureWarning: The frame.append method is deprecated and will be removed from pandas in a future version. Use pandas.concat instead.\n",
      "  df = df.append({'Email': email_current, 'Phone_number': phone_number_current}, ignore_index=True)\n",
      "C:\\Users\\Hamza\\AppData\\Local\\Temp\\ipykernel_11596\\2871599656.py:26: FutureWarning: The frame.append method is deprecated and will be removed from pandas in a future version. Use pandas.concat instead.\n",
      "  df = df.append({'Email': email_current, 'Phone_number': phone_number_current}, ignore_index=True)\n"
     ]
    },
    {
     "name": "stdout",
     "output_type": "stream",
     "text": [
      "['KRONMAN@csail.mit.edu'] []  has been extracted at iteration  433\n",
      "['akumar01@csail.mit.edu'] []  has been extracted at iteration  433\n"
     ]
    },
    {
     "name": "stderr",
     "output_type": "stream",
     "text": [
      "C:\\Users\\Hamza\\AppData\\Local\\Temp\\ipykernel_11596\\2871599656.py:26: FutureWarning: The frame.append method is deprecated and will be removed from pandas in a future version. Use pandas.concat instead.\n",
      "  df = df.append({'Email': email_current, 'Phone_number': phone_number_current}, ignore_index=True)\n",
      "C:\\Users\\Hamza\\AppData\\Local\\Temp\\ipykernel_11596\\2871599656.py:26: FutureWarning: The frame.append method is deprecated and will be removed from pandas in a future version. Use pandas.concat instead.\n",
      "  df = df.append({'Email': email_current, 'Phone_number': phone_number_current}, ignore_index=True)\n"
     ]
    },
    {
     "name": "stdout",
     "output_type": "stream",
     "text": [
      "['njk@mit.edu'] []  has been extracted at iteration  433\n",
      "['ivanko@csail.mit.edu'] []  has been extracted at iteration  433\n"
     ]
    },
    {
     "name": "stderr",
     "output_type": "stream",
     "text": [
      "C:\\Users\\Hamza\\AppData\\Local\\Temp\\ipykernel_11596\\2871599656.py:26: FutureWarning: The frame.append method is deprecated and will be removed from pandas in a future version. Use pandas.concat instead.\n",
      "  df = df.append({'Email': email_current, 'Phone_number': phone_number_current}, ignore_index=True)\n",
      "C:\\Users\\Hamza\\AppData\\Local\\Temp\\ipykernel_11596\\2871599656.py:26: FutureWarning: The frame.append method is deprecated and will be removed from pandas in a future version. Use pandas.concat instead.\n",
      "  df = df.append({'Email': email_current, 'Phone_number': phone_number_current}, ignore_index=True)\n"
     ]
    },
    {
     "name": "stdout",
     "output_type": "stream",
     "text": [
      "['kuszmaul@mit.edu'] []  has been extracted at iteration  433\n",
      "['blahner@mit.edu'] []  has been extracted at iteration  433\n"
     ]
    },
    {
     "name": "stderr",
     "output_type": "stream",
     "text": [
      "C:\\Users\\Hamza\\AppData\\Local\\Temp\\ipykernel_11596\\2871599656.py:26: FutureWarning: The frame.append method is deprecated and will be removed from pandas in a future version. Use pandas.concat instead.\n",
      "  df = df.append({'Email': email_current, 'Phone_number': phone_number_current}, ignore_index=True)\n",
      "C:\\Users\\Hamza\\AppData\\Local\\Temp\\ipykernel_11596\\2871599656.py:26: FutureWarning: The frame.append method is deprecated and will be removed from pandas in a future version. Use pandas.concat instead.\n",
      "  df = df.append({'Email': email_current, 'Phone_number': phone_number_current}, ignore_index=True)\n"
     ]
    },
    {
     "name": "stdout",
     "output_type": "stream",
     "text": [
      "['clai24@csail.mit.edu'] []  has been extracted at iteration  433\n",
      "['eylai@mit.edu'] []  has been extracted at iteration  433\n"
     ]
    },
    {
     "name": "stderr",
     "output_type": "stream",
     "text": [
      "C:\\Users\\Hamza\\AppData\\Local\\Temp\\ipykernel_11596\\2871599656.py:26: FutureWarning: The frame.append method is deprecated and will be removed from pandas in a future version. Use pandas.concat instead.\n",
      "  df = df.append({'Email': email_current, 'Phone_number': phone_number_current}, ignore_index=True)\n",
      "C:\\Users\\Hamza\\AppData\\Local\\Temp\\ipykernel_11596\\2871599656.py:26: FutureWarning: The frame.append method is deprecated and will be removed from pandas in a future version. Use pandas.concat instead.\n",
      "  df = df.append({'Email': email_current, 'Phone_number': phone_number_current}, ignore_index=True)\n"
     ]
    },
    {
     "name": "stdout",
     "output_type": "stream",
     "text": [
      "['aalamber@mit.edu'] []  has been extracted at iteration  433\n",
      "['blampson@mit.edu'] ['253-6004']  has been extracted at iteration  433\n"
     ]
    },
    {
     "name": "stderr",
     "output_type": "stream",
     "text": [
      "C:\\Users\\Hamza\\AppData\\Local\\Temp\\ipykernel_11596\\2871599656.py:26: FutureWarning: The frame.append method is deprecated and will be removed from pandas in a future version. Use pandas.concat instead.\n",
      "  df = df.append({'Email': email_current, 'Phone_number': phone_number_current}, ignore_index=True)\n",
      "C:\\Users\\Hamza\\AppData\\Local\\Temp\\ipykernel_11596\\2871599656.py:26: FutureWarning: The frame.append method is deprecated and will be removed from pandas in a future version. Use pandas.concat instead.\n",
      "  df = df.append({'Email': email_current, 'Phone_number': phone_number_current}, ignore_index=True)\n"
     ]
    },
    {
     "name": "stdout",
     "output_type": "stream",
     "text": [
      "['srlane@csail.mit.edu'] []  has been extracted at iteration  433\n",
      "['hjl@mit.edu'] []  has been extracted at iteration  433\n",
      "['jlange@MIT.EDU'] []  has been extracted at iteration  433\n"
     ]
    },
    {
     "name": "stderr",
     "output_type": "stream",
     "text": [
      "C:\\Users\\Hamza\\AppData\\Local\\Temp\\ipykernel_11596\\2871599656.py:26: FutureWarning: The frame.append method is deprecated and will be removed from pandas in a future version. Use pandas.concat instead.\n",
      "  df = df.append({'Email': email_current, 'Phone_number': phone_number_current}, ignore_index=True)\n",
      "C:\\Users\\Hamza\\AppData\\Local\\Temp\\ipykernel_11596\\2871599656.py:26: FutureWarning: The frame.append method is deprecated and will be removed from pandas in a future version. Use pandas.concat instead.\n",
      "  df = df.append({'Email': email_current, 'Phone_number': phone_number_current}, ignore_index=True)\n",
      "C:\\Users\\Hamza\\AppData\\Local\\Temp\\ipykernel_11596\\2871599656.py:26: FutureWarning: The frame.append method is deprecated and will be removed from pandas in a future version. Use pandas.concat instead.\n",
      "  df = df.append({'Email': email_current, 'Phone_number': phone_number_current}, ignore_index=True)\n"
     ]
    },
    {
     "name": "stdout",
     "output_type": "stream",
     "text": [
      "['slangows@mit.edu'] []  has been extracted at iteration  433\n",
      "['ngom@mit.edu'] []  has been extracted at iteration  433\n",
      "['marylau@mit.edu'] []  has been extracted at iteration  433\n"
     ]
    },
    {
     "name": "stderr",
     "output_type": "stream",
     "text": [
      "C:\\Users\\Hamza\\AppData\\Local\\Temp\\ipykernel_11596\\2871599656.py:26: FutureWarning: The frame.append method is deprecated and will be removed from pandas in a future version. Use pandas.concat instead.\n",
      "  df = df.append({'Email': email_current, 'Phone_number': phone_number_current}, ignore_index=True)\n",
      "C:\\Users\\Hamza\\AppData\\Local\\Temp\\ipykernel_11596\\2871599656.py:26: FutureWarning: The frame.append method is deprecated and will be removed from pandas in a future version. Use pandas.concat instead.\n",
      "  df = df.append({'Email': email_current, 'Phone_number': phone_number_current}, ignore_index=True)\n",
      "C:\\Users\\Hamza\\AppData\\Local\\Temp\\ipykernel_11596\\2871599656.py:26: FutureWarning: The frame.append method is deprecated and will be removed from pandas in a future version. Use pandas.concat instead.\n",
      "  df = df.append({'Email': email_current, 'Phone_number': phone_number_current}, ignore_index=True)\n"
     ]
    },
    {
     "name": "stdout",
     "output_type": "stream",
     "text": [
      "['stellal@mit.edu'] []  has been extracted at iteration  433\n",
      "['nlawford@mit.edu'] []  has been extracted at iteration  433\n",
      "['hanlaw@mit.edu'] []  has been extracted at iteration  433\n"
     ]
    },
    {
     "name": "stderr",
     "output_type": "stream",
     "text": [
      "C:\\Users\\Hamza\\AppData\\Local\\Temp\\ipykernel_11596\\2871599656.py:26: FutureWarning: The frame.append method is deprecated and will be removed from pandas in a future version. Use pandas.concat instead.\n",
      "  df = df.append({'Email': email_current, 'Phone_number': phone_number_current}, ignore_index=True)\n",
      "C:\\Users\\Hamza\\AppData\\Local\\Temp\\ipykernel_11596\\2871599656.py:26: FutureWarning: The frame.append method is deprecated and will be removed from pandas in a future version. Use pandas.concat instead.\n",
      "  df = df.append({'Email': email_current, 'Phone_number': phone_number_current}, ignore_index=True)\n",
      "C:\\Users\\Hamza\\AppData\\Local\\Temp\\ipykernel_11596\\2871599656.py:26: FutureWarning: The frame.append method is deprecated and will be removed from pandas in a future version. Use pandas.concat instead.\n",
      "  df = df.append({'Email': email_current, 'Phone_number': phone_number_current}, ignore_index=True)\n"
     ]
    },
    {
     "name": "stdout",
     "output_type": "stream",
     "text": [
      "['NIKLZ@csail.mit.edu'] []  has been extracted at iteration  433\n",
      "['KALE404@csail.mit.edu'] []  has been extracted at iteration  433\n",
      "['thienle@mit.edu'] []  has been extracted at iteration  433\n"
     ]
    },
    {
     "name": "stderr",
     "output_type": "stream",
     "text": [
      "C:\\Users\\Hamza\\AppData\\Local\\Temp\\ipykernel_11596\\2871599656.py:26: FutureWarning: The frame.append method is deprecated and will be removed from pandas in a future version. Use pandas.concat instead.\n",
      "  df = df.append({'Email': email_current, 'Phone_number': phone_number_current}, ignore_index=True)\n",
      "C:\\Users\\Hamza\\AppData\\Local\\Temp\\ipykernel_11596\\2871599656.py:26: FutureWarning: The frame.append method is deprecated and will be removed from pandas in a future version. Use pandas.concat instead.\n",
      "  df = df.append({'Email': email_current, 'Phone_number': phone_number_current}, ignore_index=True)\n",
      "C:\\Users\\Hamza\\AppData\\Local\\Temp\\ipykernel_11596\\2871599656.py:26: FutureWarning: The frame.append method is deprecated and will be removed from pandas in a future version. Use pandas.concat instead.\n",
      "  df = df.append({'Email': email_current, 'Phone_number': phone_number_current}, ignore_index=True)\n"
     ]
    },
    {
     "name": "stdout",
     "output_type": "stream",
     "text": [
      "['leclerc@mit.edu'] []  has been extracted at iteration  433\n",
      "['crystall@mit.edu'] []  has been extracted at iteration  433\n",
      "['lee_d@mit.edu'] []  has been extracted at iteration  433\n"
     ]
    },
    {
     "name": "stderr",
     "output_type": "stream",
     "text": [
      "C:\\Users\\Hamza\\AppData\\Local\\Temp\\ipykernel_11596\\2871599656.py:26: FutureWarning: The frame.append method is deprecated and will be removed from pandas in a future version. Use pandas.concat instead.\n",
      "  df = df.append({'Email': email_current, 'Phone_number': phone_number_current}, ignore_index=True)\n",
      "C:\\Users\\Hamza\\AppData\\Local\\Temp\\ipykernel_11596\\2871599656.py:26: FutureWarning: The frame.append method is deprecated and will be removed from pandas in a future version. Use pandas.concat instead.\n",
      "  df = df.append({'Email': email_current, 'Phone_number': phone_number_current}, ignore_index=True)\n",
      "C:\\Users\\Hamza\\AppData\\Local\\Temp\\ipykernel_11596\\2871599656.py:26: FutureWarning: The frame.append method is deprecated and will be removed from pandas in a future version. Use pandas.concat instead.\n",
      "  df = df.append({'Email': email_current, 'Phone_number': phone_number_current}, ignore_index=True)\n"
     ]
    },
    {
     "name": "stdout",
     "output_type": "stream",
     "text": [
      "['hrlee@csail.mit.edu'] []  has been extracted at iteration  433\n",
      "['jiwon25@mit.edu'] []  has been extracted at iteration  433\n",
      "['jlee2022@mit.edu'] []  has been extracted at iteration  433\n"
     ]
    },
    {
     "name": "stderr",
     "output_type": "stream",
     "text": [
      "C:\\Users\\Hamza\\AppData\\Local\\Temp\\ipykernel_11596\\2871599656.py:26: FutureWarning: The frame.append method is deprecated and will be removed from pandas in a future version. Use pandas.concat instead.\n",
      "  df = df.append({'Email': email_current, 'Phone_number': phone_number_current}, ignore_index=True)\n",
      "C:\\Users\\Hamza\\AppData\\Local\\Temp\\ipykernel_11596\\2871599656.py:26: FutureWarning: The frame.append method is deprecated and will be removed from pandas in a future version. Use pandas.concat instead.\n",
      "  df = df.append({'Email': email_current, 'Phone_number': phone_number_current}, ignore_index=True)\n",
      "C:\\Users\\Hamza\\AppData\\Local\\Temp\\ipykernel_11596\\2871599656.py:26: FutureWarning: The frame.append method is deprecated and will be removed from pandas in a future version. Use pandas.concat instead.\n",
      "  df = df.append({'Email': email_current, 'Phone_number': phone_number_current}, ignore_index=True)\n"
     ]
    },
    {
     "name": "stdout",
     "output_type": "stream",
     "text": [
      "['samslee@mit.edu'] []  has been extracted at iteration  433\n",
      "['yerimlee@csail.mit.edu'] []  has been extracted at iteration  433\n",
      "['lehmer16@mit.edu'] []  has been extracted at iteration  433\n"
     ]
    },
    {
     "name": "stderr",
     "output_type": "stream",
     "text": [
      "C:\\Users\\Hamza\\AppData\\Local\\Temp\\ipykernel_11596\\2871599656.py:26: FutureWarning: The frame.append method is deprecated and will be removed from pandas in a future version. Use pandas.concat instead.\n",
      "  df = df.append({'Email': email_current, 'Phone_number': phone_number_current}, ignore_index=True)\n",
      "C:\\Users\\Hamza\\AppData\\Local\\Temp\\ipykernel_11596\\2871599656.py:26: FutureWarning: The frame.append method is deprecated and will be removed from pandas in a future version. Use pandas.concat instead.\n",
      "  df = df.append({'Email': email_current, 'Phone_number': phone_number_current}, ignore_index=True)\n",
      "C:\\Users\\Hamza\\AppData\\Local\\Temp\\ipykernel_11596\\2871599656.py:26: FutureWarning: The frame.append method is deprecated and will be removed from pandas in a future version. Use pandas.concat instead.\n",
      "  df = df.append({'Email': email_current, 'Phone_number': phone_number_current}, ignore_index=True)\n"
     ]
    },
    {
     "name": "stdout",
     "output_type": "stream",
     "text": [
      "['ryanleh@csail.mit.edu'] []  has been extracted at iteration  433\n",
      "['wlehr@mit.edu'] ['258-0630']  has been extracted at iteration  433\n",
      "['ftl@csail.mit.edu'] ['253-5876']  has been extracted at iteration  433\n"
     ]
    },
    {
     "name": "stderr",
     "output_type": "stream",
     "text": [
      "C:\\Users\\Hamza\\AppData\\Local\\Temp\\ipykernel_11596\\2871599656.py:26: FutureWarning: The frame.append method is deprecated and will be removed from pandas in a future version. Use pandas.concat instead.\n",
      "  df = df.append({'Email': email_current, 'Phone_number': phone_number_current}, ignore_index=True)\n",
      "C:\\Users\\Hamza\\AppData\\Local\\Temp\\ipykernel_11596\\2871599656.py:26: FutureWarning: The frame.append method is deprecated and will be removed from pandas in a future version. Use pandas.concat instead.\n",
      "  df = df.append({'Email': email_current, 'Phone_number': phone_number_current}, ignore_index=True)\n",
      "C:\\Users\\Hamza\\AppData\\Local\\Temp\\ipykernel_11596\\2871599656.py:26: FutureWarning: The frame.append method is deprecated and will be removed from pandas in a future version. Use pandas.concat instead.\n",
      "  df = df.append({'Email': email_current, 'Phone_number': phone_number_current}, ignore_index=True)\n"
     ]
    },
    {
     "name": "stdout",
     "output_type": "stream",
     "text": [
      "['cel@csail.mit.edu'] ['253-5833']  has been extracted at iteration  433\n",
      "['lenail@csail.mit.edu'] []  has been extracted at iteration  433\n",
      "['blengeri@mit.edu'] []  has been extracted at iteration  433\n"
     ]
    },
    {
     "name": "stderr",
     "output_type": "stream",
     "text": [
      "C:\\Users\\Hamza\\AppData\\Local\\Temp\\ipykernel_11596\\2871599656.py:26: FutureWarning: The frame.append method is deprecated and will be removed from pandas in a future version. Use pandas.concat instead.\n",
      "  df = df.append({'Email': email_current, 'Phone_number': phone_number_current}, ignore_index=True)\n",
      "C:\\Users\\Hamza\\AppData\\Local\\Temp\\ipykernel_11596\\2871599656.py:26: FutureWarning: The frame.append method is deprecated and will be removed from pandas in a future version. Use pandas.concat instead.\n",
      "  df = df.append({'Email': email_current, 'Phone_number': phone_number_current}, ignore_index=True)\n",
      "C:\\Users\\Hamza\\AppData\\Local\\Temp\\ipykernel_11596\\2871599656.py:26: FutureWarning: The frame.append method is deprecated and will be removed from pandas in a future version. Use pandas.concat instead.\n",
      "  df = df.append({'Email': email_current, 'Phone_number': phone_number_current}, ignore_index=True)\n"
     ]
    },
    {
     "name": "stdout",
     "output_type": "stream",
     "text": [
      "['jleonard@csail.mit.edu'] ['253-5305']  has been extracted at iteration  433\n",
      "['dtl@mit.edu'] []  has been extracted at iteration  433\n",
      "['alexlew@mit.edu'] []  has been extracted at iteration  433\n"
     ]
    },
    {
     "name": "stderr",
     "output_type": "stream",
     "text": [
      "C:\\Users\\Hamza\\AppData\\Local\\Temp\\ipykernel_11596\\2871599656.py:26: FutureWarning: The frame.append method is deprecated and will be removed from pandas in a future version. Use pandas.concat instead.\n",
      "  df = df.append({'Email': email_current, 'Phone_number': phone_number_current}, ignore_index=True)\n",
      "C:\\Users\\Hamza\\AppData\\Local\\Temp\\ipykernel_11596\\2871599656.py:26: FutureWarning: The frame.append method is deprecated and will be removed from pandas in a future version. Use pandas.concat instead.\n",
      "  df = df.append({'Email': email_current, 'Phone_number': phone_number_current}, ignore_index=True)\n",
      "C:\\Users\\Hamza\\AppData\\Local\\Temp\\ipykernel_11596\\2871599656.py:26: FutureWarning: The frame.append method is deprecated and will be removed from pandas in a future version. Use pandas.concat instead.\n",
      "  df = df.append({'Email': email_current, 'Phone_number': phone_number_current}, ignore_index=True)\n"
     ]
    },
    {
     "name": "stdout",
     "output_type": "stream",
     "text": [
      "['kmlewis@mit.edu'] []  has been extracted at iteration  433\n",
      "['amandali@mit.edu'] []  has been extracted at iteration  433\n",
      "['andyli27@csail.mit.edu'] []  has been extracted at iteration  433\n"
     ]
    },
    {
     "name": "stderr",
     "output_type": "stream",
     "text": [
      "C:\\Users\\Hamza\\AppData\\Local\\Temp\\ipykernel_11596\\2871599656.py:26: FutureWarning: The frame.append method is deprecated and will be removed from pandas in a future version. Use pandas.concat instead.\n",
      "  df = df.append({'Email': email_current, 'Phone_number': phone_number_current}, ignore_index=True)\n",
      "C:\\Users\\Hamza\\AppData\\Local\\Temp\\ipykernel_11596\\2871599656.py:26: FutureWarning: The frame.append method is deprecated and will be removed from pandas in a future version. Use pandas.concat instead.\n",
      "  df = df.append({'Email': email_current, 'Phone_number': phone_number_current}, ignore_index=True)\n",
      "C:\\Users\\Hamza\\AppData\\Local\\Temp\\ipykernel_11596\\2871599656.py:26: FutureWarning: The frame.append method is deprecated and will be removed from pandas in a future version. Use pandas.concat instead.\n",
      "  df = df.append({'Email': email_current, 'Phone_number': phone_number_current}, ignore_index=True)\n"
     ]
    },
    {
     "name": "stdout",
     "output_type": "stream",
     "text": [
      "['yichenl@mit.edu'] []  has been extracted at iteration  433\n",
      "['beichen@csail.mit.edu'] []  has been extracted at iteration  433\n",
      "['bzl@mit.edu'] []  has been extracted at iteration  433\n"
     ]
    },
    {
     "name": "stderr",
     "output_type": "stream",
     "text": [
      "C:\\Users\\Hamza\\AppData\\Local\\Temp\\ipykernel_11596\\2871599656.py:26: FutureWarning: The frame.append method is deprecated and will be removed from pandas in a future version. Use pandas.concat instead.\n",
      "  df = df.append({'Email': email_current, 'Phone_number': phone_number_current}, ignore_index=True)\n",
      "C:\\Users\\Hamza\\AppData\\Local\\Temp\\ipykernel_11596\\2871599656.py:26: FutureWarning: The frame.append method is deprecated and will be removed from pandas in a future version. Use pandas.concat instead.\n",
      "  df = df.append({'Email': email_current, 'Phone_number': phone_number_current}, ignore_index=True)\n",
      "C:\\Users\\Hamza\\AppData\\Local\\Temp\\ipykernel_11596\\2871599656.py:26: FutureWarning: The frame.append method is deprecated and will be removed from pandas in a future version. Use pandas.concat instead.\n",
      "  df = df.append({'Email': email_current, 'Phone_number': phone_number_current}, ignore_index=True)\n"
     ]
    },
    {
     "name": "stdout",
     "output_type": "stream",
     "text": [
      "['chaoli@mit.edu'] []  has been extracted at iteration  433\n",
      "['lichenni@csail.mit.edu'] []  has been extracted at iteration  433\n",
      "['dali@csail.mit.edu'] []  has been extracted at iteration  433\n"
     ]
    },
    {
     "name": "stderr",
     "output_type": "stream",
     "text": [
      "C:\\Users\\Hamza\\AppData\\Local\\Temp\\ipykernel_11596\\2871599656.py:26: FutureWarning: The frame.append method is deprecated and will be removed from pandas in a future version. Use pandas.concat instead.\n",
      "  df = df.append({'Email': email_current, 'Phone_number': phone_number_current}, ignore_index=True)\n",
      "C:\\Users\\Hamza\\AppData\\Local\\Temp\\ipykernel_11596\\2871599656.py:26: FutureWarning: The frame.append method is deprecated and will be removed from pandas in a future version. Use pandas.concat instead.\n",
      "  df = df.append({'Email': email_current, 'Phone_number': phone_number_current}, ignore_index=True)\n",
      "C:\\Users\\Hamza\\AppData\\Local\\Temp\\ipykernel_11596\\2871599656.py:26: FutureWarning: The frame.append method is deprecated and will be removed from pandas in a future version. Use pandas.concat instead.\n",
      "  df = df.append({'Email': email_current, 'Phone_number': phone_number_current}, ignore_index=True)\n"
     ]
    },
    {
     "name": "stdout",
     "output_type": "stream",
     "text": [
      "['esli@csail.mit.edu'] []  has been extracted at iteration  433\n",
      "['jerryli@mit.edu'] []  has been extracted at iteration  433\n",
      "['jiatuli@mit.edu'] []  has been extracted at iteration  433\n"
     ]
    },
    {
     "name": "stderr",
     "output_type": "stream",
     "text": [
      "C:\\Users\\Hamza\\AppData\\Local\\Temp\\ipykernel_11596\\2871599656.py:26: FutureWarning: The frame.append method is deprecated and will be removed from pandas in a future version. Use pandas.concat instead.\n",
      "  df = df.append({'Email': email_current, 'Phone_number': phone_number_current}, ignore_index=True)\n",
      "C:\\Users\\Hamza\\AppData\\Local\\Temp\\ipykernel_11596\\2871599656.py:26: FutureWarning: The frame.append method is deprecated and will be removed from pandas in a future version. Use pandas.concat instead.\n",
      "  df = df.append({'Email': email_current, 'Phone_number': phone_number_current}, ignore_index=True)\n",
      "C:\\Users\\Hamza\\AppData\\Local\\Temp\\ipykernel_11596\\2871599656.py:26: FutureWarning: The frame.append method is deprecated and will be removed from pandas in a future version. Use pandas.concat instead.\n",
      "  df = df.append({'Email': email_current, 'Phone_number': phone_number_current}, ignore_index=True)\n"
     ]
    },
    {
     "name": "stdout",
     "output_type": "stream",
     "text": [
      "['lingxiao@mit.edu'] []  has been extracted at iteration  433\n",
      "['rli14@mit.edu'] []  has been extracted at iteration  433\n",
      "['SHENLI@mit.edu'] []  has been extracted at iteration  433\n"
     ]
    },
    {
     "name": "stderr",
     "output_type": "stream",
     "text": [
      "C:\\Users\\Hamza\\AppData\\Local\\Temp\\ipykernel_11596\\2871599656.py:26: FutureWarning: The frame.append method is deprecated and will be removed from pandas in a future version. Use pandas.concat instead.\n",
      "  df = df.append({'Email': email_current, 'Phone_number': phone_number_current}, ignore_index=True)\n",
      "C:\\Users\\Hamza\\AppData\\Local\\Temp\\ipykernel_11596\\2871599656.py:26: FutureWarning: The frame.append method is deprecated and will be removed from pandas in a future version. Use pandas.concat instead.\n",
      "  df = df.append({'Email': email_current, 'Phone_number': phone_number_current}, ignore_index=True)\n",
      "C:\\Users\\Hamza\\AppData\\Local\\Temp\\ipykernel_11596\\2871599656.py:26: FutureWarning: The frame.append method is deprecated and will be removed from pandas in a future version. Use pandas.concat instead.\n",
      "  df = df.append({'Email': email_current, 'Phone_number': phone_number_current}, ignore_index=True)\n"
     ]
    },
    {
     "name": "stdout",
     "output_type": "stream",
     "text": [
      "['lishuang@mit.edu'] []  has been extracted at iteration  433\n",
      "['TIANHONG@csail.mit.edu'] []  has been extracted at iteration  433\n"
     ]
    },
    {
     "name": "stderr",
     "output_type": "stream",
     "text": [
      "C:\\Users\\Hamza\\AppData\\Local\\Temp\\ipykernel_11596\\2871599656.py:26: FutureWarning: The frame.append method is deprecated and will be removed from pandas in a future version. Use pandas.concat instead.\n",
      "  df = df.append({'Email': email_current, 'Phone_number': phone_number_current}, ignore_index=True)\n",
      "C:\\Users\\Hamza\\AppData\\Local\\Temp\\ipykernel_11596\\2871599656.py:26: FutureWarning: The frame.append method is deprecated and will be removed from pandas in a future version. Use pandas.concat instead.\n",
      "  df = df.append({'Email': email_current, 'Phone_number': phone_number_current}, ignore_index=True)\n"
     ]
    },
    {
     "name": "stdout",
     "output_type": "stream",
     "text": [
      "['litianyu@mit.edu'] []  has been extracted at iteration  433\n",
      "['wensu@mit.edu'] []  has been extracted at iteration  433\n",
      "['wfli@mit.edu'] []  has been extracted at iteration  433\n"
     ]
    },
    {
     "name": "stderr",
     "output_type": "stream",
     "text": [
      "C:\\Users\\Hamza\\AppData\\Local\\Temp\\ipykernel_11596\\2871599656.py:26: FutureWarning: The frame.append method is deprecated and will be removed from pandas in a future version. Use pandas.concat instead.\n",
      "  df = df.append({'Email': email_current, 'Phone_number': phone_number_current}, ignore_index=True)\n",
      "C:\\Users\\Hamza\\AppData\\Local\\Temp\\ipykernel_11596\\2871599656.py:26: FutureWarning: The frame.append method is deprecated and will be removed from pandas in a future version. Use pandas.concat instead.\n",
      "  df = df.append({'Email': email_current, 'Phone_number': phone_number_current}, ignore_index=True)\n",
      "C:\\Users\\Hamza\\AppData\\Local\\Temp\\ipykernel_11596\\2871599656.py:26: FutureWarning: The frame.append method is deprecated and will be removed from pandas in a future version. Use pandas.concat instead.\n",
      "  df = df.append({'Email': email_current, 'Phone_number': phone_number_current}, ignore_index=True)\n"
     ]
    },
    {
     "name": "stdout",
     "output_type": "stream",
     "text": [
      "['liyifei@mit.edu'] []  has been extracted at iteration  433\n",
      "['liyunzhu@mit.edu'] []  has been extracted at iteration  433\n",
      "['zli11010@mit.edu'] []  has been extracted at iteration  433\n"
     ]
    },
    {
     "name": "stderr",
     "output_type": "stream",
     "text": [
      "C:\\Users\\Hamza\\AppData\\Local\\Temp\\ipykernel_11596\\2871599656.py:26: FutureWarning: The frame.append method is deprecated and will be removed from pandas in a future version. Use pandas.concat instead.\n",
      "  df = df.append({'Email': email_current, 'Phone_number': phone_number_current}, ignore_index=True)\n",
      "C:\\Users\\Hamza\\AppData\\Local\\Temp\\ipykernel_11596\\2871599656.py:26: FutureWarning: The frame.append method is deprecated and will be removed from pandas in a future version. Use pandas.concat instead.\n",
      "  df = df.append({'Email': email_current, 'Phone_number': phone_number_current}, ignore_index=True)\n",
      "C:\\Users\\Hamza\\AppData\\Local\\Temp\\ipykernel_11596\\2871599656.py:26: FutureWarning: The frame.append method is deprecated and will be removed from pandas in a future version. Use pandas.concat instead.\n",
      "  df = df.append({'Email': email_current, 'Phone_number': phone_number_current}, ignore_index=True)\n"
     ]
    },
    {
     "name": "stdout",
     "output_type": "stream",
     "text": [
      "['LMY@mit.edu'] []  has been extracted at iteration  433\n",
      "['cyl48@csail.mit.edu'] []  has been extracted at iteration  433\n",
      "['kevliao@mit.edu'] []  has been extracted at iteration  433\n"
     ]
    },
    {
     "name": "stderr",
     "output_type": "stream",
     "text": [
      "C:\\Users\\Hamza\\AppData\\Local\\Temp\\ipykernel_11596\\2871599656.py:26: FutureWarning: The frame.append method is deprecated and will be removed from pandas in a future version. Use pandas.concat instead.\n",
      "  df = df.append({'Email': email_current, 'Phone_number': phone_number_current}, ignore_index=True)\n",
      "C:\\Users\\Hamza\\AppData\\Local\\Temp\\ipykernel_11596\\2871599656.py:26: FutureWarning: The frame.append method is deprecated and will be removed from pandas in a future version. Use pandas.concat instead.\n",
      "  df = df.append({'Email': email_current, 'Phone_number': phone_number_current}, ignore_index=True)\n",
      "C:\\Users\\Hamza\\AppData\\Local\\Temp\\ipykernel_11596\\2871599656.py:26: FutureWarning: The frame.append method is deprecated and will be removed from pandas in a future version. Use pandas.concat instead.\n",
      "  df = df.append({'Email': email_current, 'Phone_number': phone_number_current}, ignore_index=True)\n"
     ]
    },
    {
     "name": "stdout",
     "output_type": "stream",
     "text": [
      "['ilaria@csail.mit.edu'] []  has been extracted at iteration  433\n",
      "['henry@csail.mit.edu'] []  has been extracted at iteration  433\n",
      "['ANKILE@csail.mit.edu'] []  has been extracted at iteration  433\n"
     ]
    },
    {
     "name": "stderr",
     "output_type": "stream",
     "text": [
      "C:\\Users\\Hamza\\AppData\\Local\\Temp\\ipykernel_11596\\2871599656.py:26: FutureWarning: The frame.append method is deprecated and will be removed from pandas in a future version. Use pandas.concat instead.\n",
      "  df = df.append({'Email': email_current, 'Phone_number': phone_number_current}, ignore_index=True)\n",
      "C:\\Users\\Hamza\\AppData\\Local\\Temp\\ipykernel_11596\\2871599656.py:26: FutureWarning: The frame.append method is deprecated and will be removed from pandas in a future version. Use pandas.concat instead.\n",
      "  df = df.append({'Email': email_current, 'Phone_number': phone_number_current}, ignore_index=True)\n",
      "C:\\Users\\Hamza\\AppData\\Local\\Temp\\ipykernel_11596\\2871599656.py:26: FutureWarning: The frame.append method is deprecated and will be removed from pandas in a future version. Use pandas.concat instead.\n",
      "  df = df.append({'Email': email_current, 'Phone_number': phone_number_current}, ignore_index=True)\n"
     ]
    },
    {
     "name": "stdout",
     "output_type": "stream",
     "text": [
      "['l1far@csail.mit.edu'] []  has been extracted at iteration  433\n",
      "['dereklim@mit.edu'] []  has been extracted at iteration  433\n",
      "['ashlin@mit.edu'] []  has been extracted at iteration  433\n"
     ]
    },
    {
     "name": "stderr",
     "output_type": "stream",
     "text": [
      "C:\\Users\\Hamza\\AppData\\Local\\Temp\\ipykernel_11596\\2871599656.py:26: FutureWarning: The frame.append method is deprecated and will be removed from pandas in a future version. Use pandas.concat instead.\n",
      "  df = df.append({'Email': email_current, 'Phone_number': phone_number_current}, ignore_index=True)\n",
      "C:\\Users\\Hamza\\AppData\\Local\\Temp\\ipykernel_11596\\2871599656.py:26: FutureWarning: The frame.append method is deprecated and will be removed from pandas in a future version. Use pandas.concat instead.\n",
      "  df = df.append({'Email': email_current, 'Phone_number': phone_number_current}, ignore_index=True)\n",
      "C:\\Users\\Hamza\\AppData\\Local\\Temp\\ipykernel_11596\\2871599656.py:26: FutureWarning: The frame.append method is deprecated and will be removed from pandas in a future version. Use pandas.concat instead.\n",
      "  df = df.append({'Email': email_current, 'Phone_number': phone_number_current}, ignore_index=True)\n"
     ]
    },
    {
     "name": "stdout",
     "output_type": "stream",
     "text": [
      "['junhong@mit.edu'] []  has been extracted at iteration  433\n",
      "['rebeccayelin@gmail.com'] []  has been extracted at iteration  433\n",
      "['yenchenl@mit.edu'] []  has been extracted at iteration  433\n"
     ]
    },
    {
     "name": "stderr",
     "output_type": "stream",
     "text": [
      "C:\\Users\\Hamza\\AppData\\Local\\Temp\\ipykernel_11596\\2871599656.py:26: FutureWarning: The frame.append method is deprecated and will be removed from pandas in a future version. Use pandas.concat instead.\n",
      "  df = df.append({'Email': email_current, 'Phone_number': phone_number_current}, ignore_index=True)\n",
      "C:\\Users\\Hamza\\AppData\\Local\\Temp\\ipykernel_11596\\2871599656.py:26: FutureWarning: The frame.append method is deprecated and will be removed from pandas in a future version. Use pandas.concat instead.\n",
      "  df = df.append({'Email': email_current, 'Phone_number': phone_number_current}, ignore_index=True)\n",
      "C:\\Users\\Hamza\\AppData\\Local\\Temp\\ipykernel_11596\\2871599656.py:26: FutureWarning: The frame.append method is deprecated and will be removed from pandas in a future version. Use pandas.concat instead.\n",
      "  df = df.append({'Email': email_current, 'Phone_number': phone_number_current}, ignore_index=True)\n"
     ]
    },
    {
     "name": "stdout",
     "output_type": "stream",
     "text": [
      "['klingmin@csail.mit.edu'] []  has been extracted at iteration  433\n",
      "['liskov@csail.mit.edu'] ['253-5886']  has been extracted at iteration  433\n",
      "['glitt@mit.edu'] []  has been extracted at iteration  433\n"
     ]
    },
    {
     "name": "stderr",
     "output_type": "stream",
     "text": [
      "C:\\Users\\Hamza\\AppData\\Local\\Temp\\ipykernel_11596\\2871599656.py:26: FutureWarning: The frame.append method is deprecated and will be removed from pandas in a future version. Use pandas.concat instead.\n",
      "  df = df.append({'Email': email_current, 'Phone_number': phone_number_current}, ignore_index=True)\n",
      "C:\\Users\\Hamza\\AppData\\Local\\Temp\\ipykernel_11596\\2871599656.py:26: FutureWarning: The frame.append method is deprecated and will be removed from pandas in a future version. Use pandas.concat instead.\n",
      "  df = df.append({'Email': email_current, 'Phone_number': phone_number_current}, ignore_index=True)\n",
      "C:\\Users\\Hamza\\AppData\\Local\\Temp\\ipykernel_11596\\2871599656.py:26: FutureWarning: The frame.append method is deprecated and will be removed from pandas in a future version. Use pandas.concat instead.\n",
      "  df = df.append({'Email': email_current, 'Phone_number': phone_number_current}, ignore_index=True)\n"
     ]
    },
    {
     "name": "stdout",
     "output_type": "stream",
     "text": [
      "['alexhliu@mit.edu'] []  has been extracted at iteration  433\n",
      "['cliu568@MIT.EDU'] []  has been extracted at iteration  433\n"
     ]
    },
    {
     "name": "stderr",
     "output_type": "stream",
     "text": [
      "C:\\Users\\Hamza\\AppData\\Local\\Temp\\ipykernel_11596\\2871599656.py:26: FutureWarning: The frame.append method is deprecated and will be removed from pandas in a future version. Use pandas.concat instead.\n",
      "  df = df.append({'Email': email_current, 'Phone_number': phone_number_current}, ignore_index=True)\n",
      "C:\\Users\\Hamza\\AppData\\Local\\Temp\\ipykernel_11596\\2871599656.py:26: FutureWarning: The frame.append method is deprecated and will be removed from pandas in a future version. Use pandas.concat instead.\n",
      "  df = df.append({'Email': email_current, 'Phone_number': phone_number_current}, ignore_index=True)\n"
     ]
    },
    {
     "name": "stdout",
     "output_type": "stream",
     "text": [
      "['lamanda@mit.edu'] []  has been extracted at iteration  433\n",
      "['brentliu@mit.edu'] []  has been extracted at iteration  433\n"
     ]
    },
    {
     "name": "stderr",
     "output_type": "stream",
     "text": [
      "C:\\Users\\Hamza\\AppData\\Local\\Temp\\ipykernel_11596\\2871599656.py:26: FutureWarning: The frame.append method is deprecated and will be removed from pandas in a future version. Use pandas.concat instead.\n",
      "  df = df.append({'Email': email_current, 'Phone_number': phone_number_current}, ignore_index=True)\n",
      "C:\\Users\\Hamza\\AppData\\Local\\Temp\\ipykernel_11596\\2871599656.py:26: FutureWarning: The frame.append method is deprecated and will be removed from pandas in a future version. Use pandas.concat instead.\n",
      "  df = df.append({'Email': email_current, 'Phone_number': phone_number_current}, ignore_index=True)\n"
     ]
    },
    {
     "name": "stdout",
     "output_type": "stream",
     "text": [
      "['chaoliu@csail.mit.edu'] []  has been extracted at iteration  433\n",
      "['chunwei@csail.mit.edu'] []  has been extracted at iteration  433\n"
     ]
    },
    {
     "name": "stderr",
     "output_type": "stream",
     "text": [
      "C:\\Users\\Hamza\\AppData\\Local\\Temp\\ipykernel_11596\\2871599656.py:26: FutureWarning: The frame.append method is deprecated and will be removed from pandas in a future version. Use pandas.concat instead.\n",
      "  df = df.append({'Email': email_current, 'Phone_number': phone_number_current}, ignore_index=True)\n",
      "C:\\Users\\Hamza\\AppData\\Local\\Temp\\ipykernel_11596\\2871599656.py:26: FutureWarning: The frame.append method is deprecated and will be removed from pandas in a future version. Use pandas.concat instead.\n",
      "  df = df.append({'Email': email_current, 'Phone_number': phone_number_current}, ignore_index=True)\n"
     ]
    },
    {
     "name": "stdout",
     "output_type": "stream",
     "text": [
      "['evanliu@csail.mit.edu'] []  has been extracted at iteration  433\n",
      "['JIAHUILIU@csail.mit.edu'] []  has been extracted at iteration  433\n"
     ]
    },
    {
     "name": "stderr",
     "output_type": "stream",
     "text": [
      "C:\\Users\\Hamza\\AppData\\Local\\Temp\\ipykernel_11596\\2871599656.py:26: FutureWarning: The frame.append method is deprecated and will be removed from pandas in a future version. Use pandas.concat instead.\n",
      "  df = df.append({'Email': email_current, 'Phone_number': phone_number_current}, ignore_index=True)\n",
      "C:\\Users\\Hamza\\AppData\\Local\\Temp\\ipykernel_11596\\2871599656.py:26: FutureWarning: The frame.append method is deprecated and will be removed from pandas in a future version. Use pandas.concat instead.\n",
      "  df = df.append({'Email': email_current, 'Phone_number': phone_number_current}, ignore_index=True)\n"
     ]
    },
    {
     "name": "stdout",
     "output_type": "stream",
     "text": [
      "['jzliu@mit.edu'] []  has been extracted at iteration  433\n",
      "['kevliu@mit.edu'] []  has been extracted at iteration  433\n"
     ]
    },
    {
     "name": "stderr",
     "output_type": "stream",
     "text": [
      "C:\\Users\\Hamza\\AppData\\Local\\Temp\\ipykernel_11596\\2871599656.py:26: FutureWarning: The frame.append method is deprecated and will be removed from pandas in a future version. Use pandas.concat instead.\n",
      "  df = df.append({'Email': email_current, 'Phone_number': phone_number_current}, ignore_index=True)\n",
      "C:\\Users\\Hamza\\AppData\\Local\\Temp\\ipykernel_11596\\2871599656.py:26: FutureWarning: The frame.append method is deprecated and will be removed from pandas in a future version. Use pandas.concat instead.\n",
      "  df = df.append({'Email': email_current, 'Phone_number': phone_number_current}, ignore_index=True)\n"
     ]
    },
    {
     "name": "stdout",
     "output_type": "stream",
     "text": [
      "['robinl21@mit.edu'] []  has been extracted at iteration  433\n",
      "['sqliu@mit.edu'] []  has been extracted at iteration  433\n"
     ]
    },
    {
     "name": "stderr",
     "output_type": "stream",
     "text": [
      "C:\\Users\\Hamza\\AppData\\Local\\Temp\\ipykernel_11596\\2871599656.py:26: FutureWarning: The frame.append method is deprecated and will be removed from pandas in a future version. Use pandas.concat instead.\n",
      "  df = df.append({'Email': email_current, 'Phone_number': phone_number_current}, ignore_index=True)\n",
      "C:\\Users\\Hamza\\AppData\\Local\\Temp\\ipykernel_11596\\2871599656.py:26: FutureWarning: The frame.append method is deprecated and will be removed from pandas in a future version. Use pandas.concat instead.\n",
      "  df = df.append({'Email': email_current, 'Phone_number': phone_number_current}, ignore_index=True)\n"
     ]
    },
    {
     "name": "stdout",
     "output_type": "stream",
     "text": [
      "['wliu1@csail.mit.edu'] []  has been extracted at iteration  433\n",
      "['yliu@csail.mit.edu'] []  has been extracted at iteration  433\n"
     ]
    },
    {
     "name": "stderr",
     "output_type": "stream",
     "text": [
      "C:\\Users\\Hamza\\AppData\\Local\\Temp\\ipykernel_11596\\2871599656.py:26: FutureWarning: The frame.append method is deprecated and will be removed from pandas in a future version. Use pandas.concat instead.\n",
      "  df = df.append({'Email': email_current, 'Phone_number': phone_number_current}, ignore_index=True)\n",
      "C:\\Users\\Hamza\\AppData\\Local\\Temp\\ipykernel_11596\\2871599656.py:26: FutureWarning: The frame.append method is deprecated and will be removed from pandas in a future version. Use pandas.concat instead.\n",
      "  df = df.append({'Email': email_current, 'Phone_number': phone_number_current}, ignore_index=True)\n"
     ]
    },
    {
     "name": "stdout",
     "output_type": "stream",
     "text": [
      "['liuyc@csail.mit.edu'] []  has been extracted at iteration  433\n",
      "['zunpengliu@csail.mit.edu'] []  has been extracted at iteration  433\n"
     ]
    },
    {
     "name": "stderr",
     "output_type": "stream",
     "text": [
      "C:\\Users\\Hamza\\AppData\\Local\\Temp\\ipykernel_11596\\2871599656.py:26: FutureWarning: The frame.append method is deprecated and will be removed from pandas in a future version. Use pandas.concat instead.\n",
      "  df = df.append({'Email': email_current, 'Phone_number': phone_number_current}, ignore_index=True)\n",
      "C:\\Users\\Hamza\\AppData\\Local\\Temp\\ipykernel_11596\\2871599656.py:26: FutureWarning: The frame.append method is deprecated and will be removed from pandas in a future version. Use pandas.concat instead.\n",
      "  df = df.append({'Email': email_current, 'Phone_number': phone_number_current}, ignore_index=True)\n"
     ]
    },
    {
     "name": "stdout",
     "output_type": "stream",
     "text": [
      "['alo-admin@mit.edu'] ['253-0920']  has been extracted at iteration  433\n",
      "['torkell@mit.edu'] []  has been extracted at iteration  433\n"
     ]
    },
    {
     "name": "stderr",
     "output_type": "stream",
     "text": [
      "C:\\Users\\Hamza\\AppData\\Local\\Temp\\ipykernel_11596\\2871599656.py:26: FutureWarning: The frame.append method is deprecated and will be removed from pandas in a future version. Use pandas.concat instead.\n",
      "  df = df.append({'Email': email_current, 'Phone_number': phone_number_current}, ignore_index=True)\n",
      "C:\\Users\\Hamza\\AppData\\Local\\Temp\\ipykernel_11596\\2871599656.py:26: FutureWarning: The frame.append method is deprecated and will be removed from pandas in a future version. Use pandas.concat instead.\n",
      "  df = df.append({'Email': email_current, 'Phone_number': phone_number_current}, ignore_index=True)\n"
     ]
    },
    {
     "name": "stdout",
     "output_type": "stream",
     "text": [
      "['loo@mit.edu'] []  has been extracted at iteration  433\n",
      "['tlp@csail.mit.edu'] ['253-7889']  has been extracted at iteration  433\n"
     ]
    },
    {
     "name": "stderr",
     "output_type": "stream",
     "text": [
      "C:\\Users\\Hamza\\AppData\\Local\\Temp\\ipykernel_11596\\2871599656.py:26: FutureWarning: The frame.append method is deprecated and will be removed from pandas in a future version. Use pandas.concat instead.\n",
      "  df = df.append({'Email': email_current, 'Phone_number': phone_number_current}, ignore_index=True)\n",
      "C:\\Users\\Hamza\\AppData\\Local\\Temp\\ipykernel_11596\\2871599656.py:26: FutureWarning: The frame.append method is deprecated and will be removed from pandas in a future version. Use pandas.concat instead.\n",
      "  df = df.append({'Email': email_current, 'Phone_number': phone_number_current}, ignore_index=True)\n"
     ]
    },
    {
     "name": "stdout",
     "output_type": "stream",
     "text": [
      "['davidlu@mit.edu'] []  has been extracted at iteration  433\n",
      "['MALINDAL@csail.mit.edu'] []  has been extracted at iteration  433\n",
      "['lur@mit.edu'] []  has been extracted at iteration  433\n"
     ]
    },
    {
     "name": "stderr",
     "output_type": "stream",
     "text": [
      "C:\\Users\\Hamza\\AppData\\Local\\Temp\\ipykernel_11596\\2871599656.py:26: FutureWarning: The frame.append method is deprecated and will be removed from pandas in a future version. Use pandas.concat instead.\n",
      "  df = df.append({'Email': email_current, 'Phone_number': phone_number_current}, ignore_index=True)\n",
      "C:\\Users\\Hamza\\AppData\\Local\\Temp\\ipykernel_11596\\2871599656.py:26: FutureWarning: The frame.append method is deprecated and will be removed from pandas in a future version. Use pandas.concat instead.\n",
      "  df = df.append({'Email': email_current, 'Phone_number': phone_number_current}, ignore_index=True)\n",
      "C:\\Users\\Hamza\\AppData\\Local\\Temp\\ipykernel_11596\\2871599656.py:26: FutureWarning: The frame.append method is deprecated and will be removed from pandas in a future version. Use pandas.concat instead.\n",
      "  df = df.append({'Email': email_current, 'Phone_number': phone_number_current}, ignore_index=True)\n"
     ]
    },
    {
     "name": "stdout",
     "output_type": "stream",
     "text": [
      "['ziqilu@csail.mit.edu'] []  has been extracted at iteration  433\n",
      "['eljn@csail.mit.edu'] []  has been extracted at iteration  433\n",
      "['arteml@mit.edu'] []  has been extracted at iteration  433\n"
     ]
    },
    {
     "name": "stderr",
     "output_type": "stream",
     "text": [
      "C:\\Users\\Hamza\\AppData\\Local\\Temp\\ipykernel_11596\\2871599656.py:26: FutureWarning: The frame.append method is deprecated and will be removed from pandas in a future version. Use pandas.concat instead.\n",
      "  df = df.append({'Email': email_current, 'Phone_number': phone_number_current}, ignore_index=True)\n",
      "C:\\Users\\Hamza\\AppData\\Local\\Temp\\ipykernel_11596\\2871599656.py:26: FutureWarning: The frame.append method is deprecated and will be removed from pandas in a future version. Use pandas.concat instead.\n",
      "  df = df.append({'Email': email_current, 'Phone_number': phone_number_current}, ignore_index=True)\n",
      "C:\\Users\\Hamza\\AppData\\Local\\Temp\\ipykernel_11596\\2871599656.py:26: FutureWarning: The frame.append method is deprecated and will be removed from pandas in a future version. Use pandas.concat instead.\n",
      "  df = df.append({'Email': email_current, 'Phone_number': phone_number_current}, ignore_index=True)\n"
     ]
    },
    {
     "name": "stdout",
     "output_type": "stream",
     "text": [
      "['tarang@mit.edu'] []  has been extracted at iteration  433\n",
      "['lundgard@mit.edu'] []  has been extracted at iteration  433\n"
     ]
    },
    {
     "name": "stderr",
     "output_type": "stream",
     "text": [
      "C:\\Users\\Hamza\\AppData\\Local\\Temp\\ipykernel_11596\\2871599656.py:26: FutureWarning: The frame.append method is deprecated and will be removed from pandas in a future version. Use pandas.concat instead.\n",
      "  df = df.append({'Email': email_current, 'Phone_number': phone_number_current}, ignore_index=True)\n",
      "C:\\Users\\Hamza\\AppData\\Local\\Temp\\ipykernel_11596\\2871599656.py:26: FutureWarning: The frame.append method is deprecated and will be removed from pandas in a future version. Use pandas.concat instead.\n",
      "  df = df.append({'Email': email_current, 'Phone_number': phone_number_current}, ignore_index=True)\n"
     ]
    },
    {
     "name": "stdout",
     "output_type": "stream",
     "text": [
      "['hyluo@mit.edu'] []  has been extracted at iteration  649\n",
      "['yiyueluo@mit.edu'] []  has been extracted at iteration  649\n"
     ]
    },
    {
     "name": "stderr",
     "output_type": "stream",
     "text": [
      "C:\\Users\\Hamza\\AppData\\Local\\Temp\\ipykernel_11596\\2871599656.py:26: FutureWarning: The frame.append method is deprecated and will be removed from pandas in a future version. Use pandas.concat instead.\n",
      "  df = df.append({'Email': email_current, 'Phone_number': phone_number_current}, ignore_index=True)\n",
      "C:\\Users\\Hamza\\AppData\\Local\\Temp\\ipykernel_11596\\2871599656.py:26: FutureWarning: The frame.append method is deprecated and will be removed from pandas in a future version. Use pandas.concat instead.\n",
      "  df = df.append({'Email': email_current, 'Phone_number': phone_number_current}, ignore_index=True)\n"
     ]
    },
    {
     "name": "stdout",
     "output_type": "stream",
     "text": [
      "['JCLYNCH@csail.mit.edu'] []  has been extracted at iteration  649\n",
      "['jaysonl@mit.edu'] []  has been extracted at iteration  649\n"
     ]
    },
    {
     "name": "stderr",
     "output_type": "stream",
     "text": [
      "C:\\Users\\Hamza\\AppData\\Local\\Temp\\ipykernel_11596\\2871599656.py:26: FutureWarning: The frame.append method is deprecated and will be removed from pandas in a future version. Use pandas.concat instead.\n",
      "  df = df.append({'Email': email_current, 'Phone_number': phone_number_current}, ignore_index=True)\n",
      "C:\\Users\\Hamza\\AppData\\Local\\Temp\\ipykernel_11596\\2871599656.py:26: FutureWarning: The frame.append method is deprecated and will be removed from pandas in a future version. Use pandas.concat instead.\n",
      "  df = df.append({'Email': email_current, 'Phone_number': phone_number_current}, ignore_index=True)\n"
     ]
    },
    {
     "name": "stdout",
     "output_type": "stream",
     "text": [
      "['lynch@csail.mit.edu'] ['253-7225']  has been extracted at iteration  649\n",
      "['wjlyu@mit.edu'] []  has been extracted at iteration  649\n"
     ]
    },
    {
     "name": "stderr",
     "output_type": "stream",
     "text": [
      "C:\\Users\\Hamza\\AppData\\Local\\Temp\\ipykernel_11596\\2871599656.py:26: FutureWarning: The frame.append method is deprecated and will be removed from pandas in a future version. Use pandas.concat instead.\n",
      "  df = df.append({'Email': email_current, 'Phone_number': phone_number_current}, ignore_index=True)\n",
      "C:\\Users\\Hamza\\AppData\\Local\\Temp\\ipykernel_11596\\2871599656.py:26: FutureWarning: The frame.append method is deprecated and will be removed from pandas in a future version. Use pandas.concat instead.\n",
      "  df = df.append({'Email': email_current, 'Phone_number': phone_number_current}, ignore_index=True)\n"
     ]
    },
    {
     "name": "stdout",
     "output_type": "stream",
     "text": [
      "['HENRYMA@csail.mit.edu'] []  has been extracted at iteration  649\n",
      "['jma22@mit.edu'] []  has been extracted at iteration  649\n"
     ]
    },
    {
     "name": "stderr",
     "output_type": "stream",
     "text": [
      "C:\\Users\\Hamza\\AppData\\Local\\Temp\\ipykernel_11596\\2871599656.py:26: FutureWarning: The frame.append method is deprecated and will be removed from pandas in a future version. Use pandas.concat instead.\n",
      "  df = df.append({'Email': email_current, 'Phone_number': phone_number_current}, ignore_index=True)\n",
      "C:\\Users\\Hamza\\AppData\\Local\\Temp\\ipykernel_11596\\2871599656.py:26: FutureWarning: The frame.append method is deprecated and will be removed from pandas in a future version. Use pandas.concat instead.\n",
      "  df = df.append({'Email': email_current, 'Phone_number': phone_number_current}, ignore_index=True)\n"
     ]
    },
    {
     "name": "stdout",
     "output_type": "stream",
     "text": [
      "['karima@mit.edu'] []  has been extracted at iteration  649\n",
      "['pcma@csail.mit.edu'] []  has been extracted at iteration  649\n",
      "['RACHELM8@csail.mit.edu'] []  has been extracted at iteration  649\n"
     ]
    },
    {
     "name": "stderr",
     "output_type": "stream",
     "text": [
      "C:\\Users\\Hamza\\AppData\\Local\\Temp\\ipykernel_11596\\2871599656.py:26: FutureWarning: The frame.append method is deprecated and will be removed from pandas in a future version. Use pandas.concat instead.\n",
      "  df = df.append({'Email': email_current, 'Phone_number': phone_number_current}, ignore_index=True)\n",
      "C:\\Users\\Hamza\\AppData\\Local\\Temp\\ipykernel_11596\\2871599656.py:26: FutureWarning: The frame.append method is deprecated and will be removed from pandas in a future version. Use pandas.concat instead.\n",
      "  df = df.append({'Email': email_current, 'Phone_number': phone_number_current}, ignore_index=True)\n",
      "C:\\Users\\Hamza\\AppData\\Local\\Temp\\ipykernel_11596\\2871599656.py:26: FutureWarning: The frame.append method is deprecated and will be removed from pandas in a future version. Use pandas.concat instead.\n",
      "  df = df.append({'Email': email_current, 'Phone_number': phone_number_current}, ignore_index=True)\n"
     ]
    },
    {
     "name": "stdout",
     "output_type": "stream",
     "text": [
      "['weichium@mit.edu'] []  has been extracted at iteration  649\n",
      "['yxma20@mit.edu'] []  has been extracted at iteration  649\n",
      "['alaam@csail.mit.edu'] []  has been extracted at iteration  649\n"
     ]
    },
    {
     "name": "stderr",
     "output_type": "stream",
     "text": [
      "C:\\Users\\Hamza\\AppData\\Local\\Temp\\ipykernel_11596\\2871599656.py:26: FutureWarning: The frame.append method is deprecated and will be removed from pandas in a future version. Use pandas.concat instead.\n",
      "  df = df.append({'Email': email_current, 'Phone_number': phone_number_current}, ignore_index=True)\n",
      "C:\\Users\\Hamza\\AppData\\Local\\Temp\\ipykernel_11596\\2871599656.py:26: FutureWarning: The frame.append method is deprecated and will be removed from pandas in a future version. Use pandas.concat instead.\n",
      "  df = df.append({'Email': email_current, 'Phone_number': phone_number_current}, ignore_index=True)\n",
      "C:\\Users\\Hamza\\AppData\\Local\\Temp\\ipykernel_11596\\2871599656.py:26: FutureWarning: The frame.append method is deprecated and will be removed from pandas in a future version. Use pandas.concat instead.\n",
      "  df = df.append({'Email': email_current, 'Phone_number': phone_number_current}, ignore_index=True)\n",
      "C:\\Users\\Hamza\\AppData\\Local\\Temp\\ipykernel_11596\\2871599656.py:26: FutureWarning: The frame.append method is deprecated and will be removed from pandas in a future version. Use pandas.concat instead.\n",
      "  df = df.append({'Email': email_current, 'Phone_number': phone_number_current}, ignore_index=True)\n"
     ]
    },
    {
     "name": "stdout",
     "output_type": "stream",
     "text": [
      "['madden@csail.mit.edu'] ['258-6643']  has been extracted at iteration  649\n",
      "['madry@mit.edu'] ['324-6739']  has been extracted at iteration  649\n"
     ]
    },
    {
     "name": "stderr",
     "output_type": "stream",
     "text": [
      "C:\\Users\\Hamza\\AppData\\Local\\Temp\\ipykernel_11596\\2871599656.py:26: FutureWarning: The frame.append method is deprecated and will be removed from pandas in a future version. Use pandas.concat instead.\n",
      "  df = df.append({'Email': email_current, 'Phone_number': phone_number_current}, ignore_index=True)\n",
      "C:\\Users\\Hamza\\AppData\\Local\\Temp\\ipykernel_11596\\2871599656.py:26: FutureWarning: The frame.append method is deprecated and will be removed from pandas in a future version. Use pandas.concat instead.\n",
      "  df = df.append({'Email': email_current, 'Phone_number': phone_number_current}, ignore_index=True)\n",
      "C:\\Users\\Hamza\\AppData\\Local\\Temp\\ipykernel_11596\\2871599656.py:26: FutureWarning: The frame.append method is deprecated and will be removed from pandas in a future version. Use pandas.concat instead.\n",
      "  df = df.append({'Email': email_current, 'Phone_number': phone_number_current}, ignore_index=True)\n"
     ]
    },
    {
     "name": "stdout",
     "output_type": "stream",
     "text": [
      "['qpm3@mit.edu'] []  has been extracted at iteration  649\n",
      "['magnanti@mit.edu'] ['253-6604']  has been extracted at iteration  649\n",
      "['magoun@mit.edu'] []  has been extracted at iteration  649\n"
     ]
    },
    {
     "name": "stderr",
     "output_type": "stream",
     "text": [
      "C:\\Users\\Hamza\\AppData\\Local\\Temp\\ipykernel_11596\\2871599656.py:26: FutureWarning: The frame.append method is deprecated and will be removed from pandas in a future version. Use pandas.concat instead.\n",
      "  df = df.append({'Email': email_current, 'Phone_number': phone_number_current}, ignore_index=True)\n",
      "C:\\Users\\Hamza\\AppData\\Local\\Temp\\ipykernel_11596\\2871599656.py:26: FutureWarning: The frame.append method is deprecated and will be removed from pandas in a future version. Use pandas.concat instead.\n",
      "  df = df.append({'Email': email_current, 'Phone_number': phone_number_current}, ignore_index=True)\n"
     ]
    },
    {
     "name": "stdout",
     "output_type": "stream",
     "text": [
      "['DAVIDMAG@csail.mit.edu'] []  has been extracted at iteration  649\n",
      "['makatura@mit.edu'] []  has been extracted at iteration  649\n"
     ]
    },
    {
     "name": "stderr",
     "output_type": "stream",
     "text": [
      "C:\\Users\\Hamza\\AppData\\Local\\Temp\\ipykernel_11596\\2871599656.py:26: FutureWarning: The frame.append method is deprecated and will be removed from pandas in a future version. Use pandas.concat instead.\n",
      "  df = df.append({'Email': email_current, 'Phone_number': phone_number_current}, ignore_index=True)\n",
      "C:\\Users\\Hamza\\AppData\\Local\\Temp\\ipykernel_11596\\2871599656.py:26: FutureWarning: The frame.append method is deprecated and will be removed from pandas in a future version. Use pandas.concat instead.\n",
      "  df = df.append({'Email': email_current, 'Phone_number': phone_number_current}, ignore_index=True)\n",
      "C:\\Users\\Hamza\\AppData\\Local\\Temp\\ipykernel_11596\\2871599656.py:26: FutureWarning: The frame.append method is deprecated and will be removed from pandas in a future version. Use pandas.concat instead.\n",
      "  df = df.append({'Email': email_current, 'Phone_number': phone_number_current}, ignore_index=True)\n"
     ]
    },
    {
     "name": "stdout",
     "output_type": "stream",
     "text": [
      "['amakelov@mit.edu'] []  has been extracted at iteration  649\n",
      "['RIMANGAN@csail.mit.edu'] []  has been extracted at iteration  649\n",
      "['niklasm@csail.mit.edu'] []  has been extracted at iteration  649\n",
      "['jmanyika@csail.mit.edu'] []  has been extracted at iteration  649\n"
     ]
    },
    {
     "name": "stderr",
     "output_type": "stream",
     "text": [
      "C:\\Users\\Hamza\\AppData\\Local\\Temp\\ipykernel_11596\\2871599656.py:26: FutureWarning: The frame.append method is deprecated and will be removed from pandas in a future version. Use pandas.concat instead.\n",
      "  df = df.append({'Email': email_current, 'Phone_number': phone_number_current}, ignore_index=True)\n",
      "C:\\Users\\Hamza\\AppData\\Local\\Temp\\ipykernel_11596\\2871599656.py:26: FutureWarning: The frame.append method is deprecated and will be removed from pandas in a future version. Use pandas.concat instead.\n",
      "  df = df.append({'Email': email_current, 'Phone_number': phone_number_current}, ignore_index=True)\n"
     ]
    },
    {
     "name": "stdout",
     "output_type": "stream",
     "text": [
      "['jiayuanm@mit.edu'] []  has been extracted at iteration  649\n",
      "['gmargo@mit.edu'] []  has been extracted at iteration  649\n",
      "['nhm@csail.mit.edu'] []  has been extracted at iteration  649\n"
     ]
    },
    {
     "name": "stderr",
     "output_type": "stream",
     "text": [
      "C:\\Users\\Hamza\\AppData\\Local\\Temp\\ipykernel_11596\\2871599656.py:26: FutureWarning: The frame.append method is deprecated and will be removed from pandas in a future version. Use pandas.concat instead.\n",
      "  df = df.append({'Email': email_current, 'Phone_number': phone_number_current}, ignore_index=True)\n",
      "C:\\Users\\Hamza\\AppData\\Local\\Temp\\ipykernel_11596\\2871599656.py:26: FutureWarning: The frame.append method is deprecated and will be removed from pandas in a future version. Use pandas.concat instead.\n",
      "  df = df.append({'Email': email_current, 'Phone_number': phone_number_current}, ignore_index=True)\n",
      "C:\\Users\\Hamza\\AppData\\Local\\Temp\\ipykernel_11596\\2871599656.py:26: FutureWarning: The frame.append method is deprecated and will be removed from pandas in a future version. Use pandas.concat instead.\n",
      "  df = df.append({'Email': email_current, 'Phone_number': phone_number_current}, ignore_index=True)\n"
     ]
    },
    {
     "name": "stdout",
     "output_type": "stream",
     "text": [
      "['markakis@mit.edu'] []  has been extracted at iteration  649\n",
      "['marzoev@mit.edu'] []  has been extracted at iteration  649\n",
      "['jomat@mit.edu'] []  has been extracted at iteration  649\n"
     ]
    },
    {
     "name": "stderr",
     "output_type": "stream",
     "text": [
      "C:\\Users\\Hamza\\AppData\\Local\\Temp\\ipykernel_11596\\2871599656.py:26: FutureWarning: The frame.append method is deprecated and will be removed from pandas in a future version. Use pandas.concat instead.\n",
      "  df = df.append({'Email': email_current, 'Phone_number': phone_number_current}, ignore_index=True)\n",
      "C:\\Users\\Hamza\\AppData\\Local\\Temp\\ipykernel_11596\\2871599656.py:26: FutureWarning: The frame.append method is deprecated and will be removed from pandas in a future version. Use pandas.concat instead.\n",
      "  df = df.append({'Email': email_current, 'Phone_number': phone_number_current}, ignore_index=True)\n",
      "C:\\Users\\Hamza\\AppData\\Local\\Temp\\ipykernel_11596\\2871599656.py:26: FutureWarning: The frame.append method is deprecated and will be removed from pandas in a future version. Use pandas.concat instead.\n",
      "  df = df.append({'Email': email_current, 'Phone_number': phone_number_current}, ignore_index=True)\n"
     ]
    },
    {
     "name": "stdout",
     "output_type": "stream",
     "text": [
      "['smathi@mit.edu'] []  has been extracted at iteration  649\n",
      "['jfon@mit.edu'] []  has been extracted at iteration  649\n",
      "['kmatton@mit.edu'] []  has been extracted at iteration  649\n"
     ]
    },
    {
     "name": "stderr",
     "output_type": "stream",
     "text": [
      "C:\\Users\\Hamza\\AppData\\Local\\Temp\\ipykernel_11596\\2871599656.py:26: FutureWarning: The frame.append method is deprecated and will be removed from pandas in a future version. Use pandas.concat instead.\n",
      "  df = df.append({'Email': email_current, 'Phone_number': phone_number_current}, ignore_index=True)\n",
      "C:\\Users\\Hamza\\AppData\\Local\\Temp\\ipykernel_11596\\2871599656.py:26: FutureWarning: The frame.append method is deprecated and will be removed from pandas in a future version. Use pandas.concat instead.\n",
      "  df = df.append({'Email': email_current, 'Phone_number': phone_number_current}, ignore_index=True)\n",
      "C:\\Users\\Hamza\\AppData\\Local\\Temp\\ipykernel_11596\\2871599656.py:26: FutureWarning: The frame.append method is deprecated and will be removed from pandas in a future version. Use pandas.concat instead.\n",
      "  df = df.append({'Email': email_current, 'Phone_number': phone_number_current}, ignore_index=True)\n",
      "C:\\Users\\Hamza\\AppData\\Local\\Temp\\ipykernel_11596\\2871599656.py:26: FutureWarning: The frame.append method is deprecated and will be removed from pandas in a future version. Use pandas.concat instead.\n",
      "  df = df.append({'Email': email_current, 'Phone_number': phone_number_current}, ignore_index=True)\n",
      "C:\\Users\\Hamza\\AppData\\Local\\Temp\\ipykernel_11596\\2871599656.py:26: FutureWarning: The frame.append method is deprecated and will be removed from pandas in a future version. Use pandas.concat instead.\n",
      "  df = df.append({'Email': email_current, 'Phone_number': phone_number_current}, ignore_index=True)\n"
     ]
    },
    {
     "name": "stdout",
     "output_type": "stream",
     "text": [
      "['leticiam@mit.edu'] []  has been extracted at iteration  649\n",
      "['wojciech@csail.mit.edu'] ['324-8432']  has been extracted at iteration  649\n",
      "['hendriktmayer@csail.mit.edu'] []  has been extracted at iteration  649\n"
     ]
    },
    {
     "name": "stderr",
     "output_type": "stream",
     "text": [
      "C:\\Users\\Hamza\\AppData\\Local\\Temp\\ipykernel_11596\\2871599656.py:26: FutureWarning: The frame.append method is deprecated and will be removed from pandas in a future version. Use pandas.concat instead.\n",
      "  df = df.append({'Email': email_current, 'Phone_number': phone_number_current}, ignore_index=True)\n",
      "C:\\Users\\Hamza\\AppData\\Local\\Temp\\ipykernel_11596\\2871599656.py:26: FutureWarning: The frame.append method is deprecated and will be removed from pandas in a future version. Use pandas.concat instead.\n",
      "  df = df.append({'Email': email_current, 'Phone_number': phone_number_current}, ignore_index=True)\n",
      "C:\\Users\\Hamza\\AppData\\Local\\Temp\\ipykernel_11596\\2871599656.py:26: FutureWarning: The frame.append method is deprecated and will be removed from pandas in a future version. Use pandas.concat instead.\n",
      "  df = df.append({'Email': email_current, 'Phone_number': phone_number_current}, ignore_index=True)\n"
     ]
    },
    {
     "name": "stdout",
     "output_type": "stream",
     "text": [
      "['dmayo2@mit.edu'] []  has been extracted at iteration  649\n",
      "['wbm3@mit.edu'] []  has been extracted at iteration  649\n",
      "['kmccue@mit.edu'] []  has been extracted at iteration  649\n"
     ]
    },
    {
     "name": "stderr",
     "output_type": "stream",
     "text": [
      "C:\\Users\\Hamza\\AppData\\Local\\Temp\\ipykernel_11596\\2871599656.py:26: FutureWarning: The frame.append method is deprecated and will be removed from pandas in a future version. Use pandas.concat instead.\n",
      "  df = df.append({'Email': email_current, 'Phone_number': phone_number_current}, ignore_index=True)\n",
      "C:\\Users\\Hamza\\AppData\\Local\\Temp\\ipykernel_11596\\2871599656.py:26: FutureWarning: The frame.append method is deprecated and will be removed from pandas in a future version. Use pandas.concat instead.\n",
      "  df = df.append({'Email': email_current, 'Phone_number': phone_number_current}, ignore_index=True)\n",
      "C:\\Users\\Hamza\\AppData\\Local\\Temp\\ipykernel_11596\\2871599656.py:26: FutureWarning: The frame.append method is deprecated and will be removed from pandas in a future version. Use pandas.concat instead.\n",
      "  df = df.append({'Email': email_current, 'Phone_number': phone_number_current}, ignore_index=True)\n"
     ]
    },
    {
     "name": "stdout",
     "output_type": "stream",
     "text": [
      "['mattmcm@mit.edu'] []  has been extracted at iteration  649\n",
      "['RMEI@csail.mit.edu'] []  has been extracted at iteration  649\n",
      "['jmeindl@csail.mit.edu'] []  has been extracted at iteration  649\n"
     ]
    },
    {
     "name": "stderr",
     "output_type": "stream",
     "text": [
      "C:\\Users\\Hamza\\AppData\\Local\\Temp\\ipykernel_11596\\2871599656.py:26: FutureWarning: The frame.append method is deprecated and will be removed from pandas in a future version. Use pandas.concat instead.\n",
      "  df = df.append({'Email': email_current, 'Phone_number': phone_number_current}, ignore_index=True)\n",
      "C:\\Users\\Hamza\\AppData\\Local\\Temp\\ipykernel_11596\\2871599656.py:26: FutureWarning: The frame.append method is deprecated and will be removed from pandas in a future version. Use pandas.concat instead.\n",
      "  df = df.append({'Email': email_current, 'Phone_number': phone_number_current}, ignore_index=True)\n",
      "C:\\Users\\Hamza\\AppData\\Local\\Temp\\ipykernel_11596\\2871599656.py:26: FutureWarning: The frame.append method is deprecated and will be removed from pandas in a future version. Use pandas.concat instead.\n",
      "  df = df.append({'Email': email_current, 'Phone_number': phone_number_current}, ignore_index=True)\n"
     ]
    },
    {
     "name": "stdout",
     "output_type": "stream",
     "text": [
      "['smendels@mit.edu'] []  has been extracted at iteration  649\n",
      "['jmendez@csail.mit.edu'] []  has been extracted at iteration  649\n",
      "['hmerker@mit.edu'] []  has been extracted at iteration  649\n"
     ]
    },
    {
     "name": "stderr",
     "output_type": "stream",
     "text": [
      "C:\\Users\\Hamza\\AppData\\Local\\Temp\\ipykernel_11596\\2871599656.py:26: FutureWarning: The frame.append method is deprecated and will be removed from pandas in a future version. Use pandas.concat instead.\n",
      "  df = df.append({'Email': email_current, 'Phone_number': phone_number_current}, ignore_index=True)\n",
      "C:\\Users\\Hamza\\AppData\\Local\\Temp\\ipykernel_11596\\2871599656.py:26: FutureWarning: The frame.append method is deprecated and will be removed from pandas in a future version. Use pandas.concat instead.\n",
      "  df = df.append({'Email': email_current, 'Phone_number': phone_number_current}, ignore_index=True)\n",
      "C:\\Users\\Hamza\\AppData\\Local\\Temp\\ipykernel_11596\\2871599656.py:26: FutureWarning: The frame.append method is deprecated and will be removed from pandas in a future version. Use pandas.concat instead.\n",
      "  df = df.append({'Email': email_current, 'Phone_number': phone_number_current}, ignore_index=True)\n"
     ]
    },
    {
     "name": "stdout",
     "output_type": "stream",
     "text": [
      "['meyer@csail.mit.edu'] []  has been extracted at iteration  649\n",
      "['lumi@mit.edu'] []  has been extracted at iteration  649\n",
      "['silvio@csail.mit.edu'] ['253-5949']  has been extracted at iteration  649\n"
     ]
    },
    {
     "name": "stderr",
     "output_type": "stream",
     "text": [
      "C:\\Users\\Hamza\\AppData\\Local\\Temp\\ipykernel_11596\\2871599656.py:26: FutureWarning: The frame.append method is deprecated and will be removed from pandas in a future version. Use pandas.concat instead.\n",
      "  df = df.append({'Email': email_current, 'Phone_number': phone_number_current}, ignore_index=True)\n",
      "C:\\Users\\Hamza\\AppData\\Local\\Temp\\ipykernel_11596\\2871599656.py:26: FutureWarning: The frame.append method is deprecated and will be removed from pandas in a future version. Use pandas.concat instead.\n",
      "  df = df.append({'Email': email_current, 'Phone_number': phone_number_current}, ignore_index=True)\n",
      "C:\\Users\\Hamza\\AppData\\Local\\Temp\\ipykernel_11596\\2871599656.py:26: FutureWarning: The frame.append method is deprecated and will be removed from pandas in a future version. Use pandas.concat instead.\n",
      "  df = df.append({'Email': email_current, 'Phone_number': phone_number_current}, ignore_index=True)\n"
     ]
    },
    {
     "name": "stdout",
     "output_type": "stream",
     "text": [
      "['jmmichel@mit.edu'] []  has been extracted at iteration  649\n",
      "['AMIGDAL@csail.mit.edu'] []  has been extracted at iteration  649\n",
      "['pgmikhael@csail.mit.edu'] []  has been extracted at iteration  649\n"
     ]
    },
    {
     "name": "stderr",
     "output_type": "stream",
     "text": [
      "C:\\Users\\Hamza\\AppData\\Local\\Temp\\ipykernel_11596\\2871599656.py:26: FutureWarning: The frame.append method is deprecated and will be removed from pandas in a future version. Use pandas.concat instead.\n",
      "  df = df.append({'Email': email_current, 'Phone_number': phone_number_current}, ignore_index=True)\n",
      "C:\\Users\\Hamza\\AppData\\Local\\Temp\\ipykernel_11596\\2871599656.py:26: FutureWarning: The frame.append method is deprecated and will be removed from pandas in a future version. Use pandas.concat instead.\n",
      "  df = df.append({'Email': email_current, 'Phone_number': phone_number_current}, ignore_index=True)\n",
      "C:\\Users\\Hamza\\AppData\\Local\\Temp\\ipykernel_11596\\2871599656.py:26: FutureWarning: The frame.append method is deprecated and will be removed from pandas in a future version. Use pandas.concat instead.\n",
      "  df = df.append({'Email': email_current, 'Phone_number': phone_number_current}, ignore_index=True)\n"
     ]
    },
    {
     "name": "stdout",
     "output_type": "stream",
     "text": [
      "['rcm@csail.mit.edu'] ['324-6028']  has been extracted at iteration  649\n",
      "['alimirz@mit.edu'] []  has been extracted at iteration  649\n",
      "['dmishra@mit.edu'] []  has been extracted at iteration  649\n"
     ]
    },
    {
     "name": "stderr",
     "output_type": "stream",
     "text": [
      "C:\\Users\\Hamza\\AppData\\Local\\Temp\\ipykernel_11596\\2871599656.py:26: FutureWarning: The frame.append method is deprecated and will be removed from pandas in a future version. Use pandas.concat instead.\n",
      "  df = df.append({'Email': email_current, 'Phone_number': phone_number_current}, ignore_index=True)\n",
      "C:\\Users\\Hamza\\AppData\\Local\\Temp\\ipykernel_11596\\2871599656.py:26: FutureWarning: The frame.append method is deprecated and will be removed from pandas in a future version. Use pandas.concat instead.\n",
      "  df = df.append({'Email': email_current, 'Phone_number': phone_number_current}, ignore_index=True)\n",
      "C:\\Users\\Hamza\\AppData\\Local\\Temp\\ipykernel_11596\\2871599656.py:26: FutureWarning: The frame.append method is deprecated and will be removed from pandas in a future version. Use pandas.concat instead.\n",
      "  df = df.append({'Email': email_current, 'Phone_number': phone_number_current}, ignore_index=True)\n"
     ]
    },
    {
     "name": "stdout",
     "output_type": "stream",
     "text": [
      "['arvind@csail.mit.edu'] ['253-6090']  has been extracted at iteration  649\n",
      "['shania@csail.mit.edu'] []  has been extracted at iteration  649\n",
      "['yeab@csail.mit.edu'] []  has been extracted at iteration  649\n"
     ]
    },
    {
     "name": "stderr",
     "output_type": "stream",
     "text": [
      "C:\\Users\\Hamza\\AppData\\Local\\Temp\\ipykernel_11596\\2871599656.py:26: FutureWarning: The frame.append method is deprecated and will be removed from pandas in a future version. Use pandas.concat instead.\n",
      "  df = df.append({'Email': email_current, 'Phone_number': phone_number_current}, ignore_index=True)\n",
      "C:\\Users\\Hamza\\AppData\\Local\\Temp\\ipykernel_11596\\2871599656.py:26: FutureWarning: The frame.append method is deprecated and will be removed from pandas in a future version. Use pandas.concat instead.\n",
      "  df = df.append({'Email': email_current, 'Phone_number': phone_number_current}, ignore_index=True)\n"
     ]
    },
    {
     "name": "stdout",
     "output_type": "stream",
     "text": [
      "['abhimo@mit.edu'] []  has been extracted at iteration  649\n",
      "['SIDHANTH@csail.mit.edu'] []  has been extracted at iteration  649\n"
     ]
    },
    {
     "name": "stderr",
     "output_type": "stream",
     "text": [
      "C:\\Users\\Hamza\\AppData\\Local\\Temp\\ipykernel_11596\\2871599656.py:26: FutureWarning: The frame.append method is deprecated and will be removed from pandas in a future version. Use pandas.concat instead.\n",
      "  df = df.append({'Email': email_current, 'Phone_number': phone_number_current}, ignore_index=True)\n",
      "C:\\Users\\Hamza\\AppData\\Local\\Temp\\ipykernel_11596\\2871599656.py:26: FutureWarning: The frame.append method is deprecated and will be removed from pandas in a future version. Use pandas.concat instead.\n",
      "  df = df.append({'Email': email_current, 'Phone_number': phone_number_current}, ignore_index=True)\n",
      "C:\\Users\\Hamza\\AppData\\Local\\Temp\\ipykernel_11596\\2871599656.py:26: FutureWarning: The frame.append method is deprecated and will be removed from pandas in a future version. Use pandas.concat instead.\n",
      "  df = df.append({'Email': email_current, 'Phone_number': phone_number_current}, ignore_index=True)\n"
     ]
    },
    {
     "name": "stdout",
     "output_type": "stream",
     "text": [
      "['jeetmo@mit.edu'] []  has been extracted at iteration  649\n",
      "['kmohr@mit.edu'] []  has been extracted at iteration  649\n",
      "['mitra@csail.mit.edu'] []  has been extracted at iteration  649\n"
     ]
    },
    {
     "name": "stderr",
     "output_type": "stream",
     "text": [
      "C:\\Users\\Hamza\\AppData\\Local\\Temp\\ipykernel_11596\\2871599656.py:26: FutureWarning: The frame.append method is deprecated and will be removed from pandas in a future version. Use pandas.concat instead.\n",
      "  df = df.append({'Email': email_current, 'Phone_number': phone_number_current}, ignore_index=True)\n",
      "C:\\Users\\Hamza\\AppData\\Local\\Temp\\ipykernel_11596\\2871599656.py:26: FutureWarning: The frame.append method is deprecated and will be removed from pandas in a future version. Use pandas.concat instead.\n",
      "  df = df.append({'Email': email_current, 'Phone_number': phone_number_current}, ignore_index=True)\n",
      "C:\\Users\\Hamza\\AppData\\Local\\Temp\\ipykernel_11596\\2871599656.py:26: FutureWarning: The frame.append method is deprecated and will be removed from pandas in a future version. Use pandas.concat instead.\n",
      "  df = df.append({'Email': email_current, 'Phone_number': phone_number_current}, ignore_index=True)\n"
     ]
    },
    {
     "name": "stdout",
     "output_type": "stream",
     "text": [
      "['moitra@mit.edu'] ['253-5876']  has been extracted at iteration  649\n",
      "['orm@csail.mit.edu'] []  has been extracted at iteration  649\n",
      "['scasper@mit.edu'] []  has been extracted at iteration  649\n",
      "['itmoon@mit.edu'] []  has been extracted at iteration  649\n"
     ]
    },
    {
     "name": "stderr",
     "output_type": "stream",
     "text": [
      "C:\\Users\\Hamza\\AppData\\Local\\Temp\\ipykernel_11596\\2871599656.py:26: FutureWarning: The frame.append method is deprecated and will be removed from pandas in a future version. Use pandas.concat instead.\n",
      "  df = df.append({'Email': email_current, 'Phone_number': phone_number_current}, ignore_index=True)\n",
      "C:\\Users\\Hamza\\AppData\\Local\\Temp\\ipykernel_11596\\2871599656.py:26: FutureWarning: The frame.append method is deprecated and will be removed from pandas in a future version. Use pandas.concat instead.\n",
      "  df = df.append({'Email': email_current, 'Phone_number': phone_number_current}, ignore_index=True)\n"
     ]
    },
    {
     "name": "stdout",
     "output_type": "stream",
     "text": [
      "['savva@mit.edu'] []  has been extracted at iteration  649\n",
      "['rtm@csail.mit.edu'] ['253-5983']  has been extracted at iteration  649\n"
     ]
    },
    {
     "name": "stderr",
     "output_type": "stream",
     "text": [
      "C:\\Users\\Hamza\\AppData\\Local\\Temp\\ipykernel_11596\\2871599656.py:26: FutureWarning: The frame.append method is deprecated and will be removed from pandas in a future version. Use pandas.concat instead.\n",
      "  df = df.append({'Email': email_current, 'Phone_number': phone_number_current}, ignore_index=True)\n",
      "C:\\Users\\Hamza\\AppData\\Local\\Temp\\ipykernel_11596\\2871599656.py:26: FutureWarning: The frame.append method is deprecated and will be removed from pandas in a future version. Use pandas.concat instead.\n",
      "  df = df.append({'Email': email_current, 'Phone_number': phone_number_current}, ignore_index=True)\n"
     ]
    },
    {
     "name": "stdout",
     "output_type": "stream",
     "text": [
      "['ehab02@mit.edu'] []  has been extracted at iteration  649\n",
      "['mortonk@mit.edu'] []  has been extracted at iteration  649\n"
     ]
    },
    {
     "name": "stderr",
     "output_type": "stream",
     "text": [
      "C:\\Users\\Hamza\\AppData\\Local\\Temp\\ipykernel_11596\\2871599656.py:26: FutureWarning: The frame.append method is deprecated and will be removed from pandas in a future version. Use pandas.concat instead.\n",
      "  df = df.append({'Email': email_current, 'Phone_number': phone_number_current}, ignore_index=True)\n",
      "C:\\Users\\Hamza\\AppData\\Local\\Temp\\ipykernel_11596\\2871599656.py:26: FutureWarning: The frame.append method is deprecated and will be removed from pandas in a future version. Use pandas.concat instead.\n",
      "  df = df.append({'Email': email_current, 'Phone_number': phone_number_current}, ignore_index=True)\n"
     ]
    },
    {
     "name": "stdout",
     "output_type": "stream",
     "text": [
      "['smoskal@mit.edu'] []  has been extracted at iteration  649\n",
      "['mozannar@mit.edu'] []  has been extracted at iteration  649\n"
     ]
    },
    {
     "name": "stderr",
     "output_type": "stream",
     "text": [
      "C:\\Users\\Hamza\\AppData\\Local\\Temp\\ipykernel_11596\\2871599656.py:26: FutureWarning: The frame.append method is deprecated and will be removed from pandas in a future version. Use pandas.concat instead.\n",
      "  df = df.append({'Email': email_current, 'Phone_number': phone_number_current}, ignore_index=True)\n",
      "C:\\Users\\Hamza\\AppData\\Local\\Temp\\ipykernel_11596\\2871599656.py:26: FutureWarning: The frame.append method is deprecated and will be removed from pandas in a future version. Use pandas.concat instead.\n",
      "  df = df.append({'Email': email_current, 'Phone_number': phone_number_current}, ignore_index=True)\n"
     ]
    },
    {
     "name": "stdout",
     "output_type": "stream",
     "text": [
      "['emilymu@csail.mit.edu'] []  has been extracted at iteration  649\n",
      "['stefanie.mueller@mit.edu'] ['715-5831']  has been extracted at iteration  649\n"
     ]
    },
    {
     "name": "stderr",
     "output_type": "stream",
     "text": [
      "C:\\Users\\Hamza\\AppData\\Local\\Temp\\ipykernel_11596\\2871599656.py:26: FutureWarning: The frame.append method is deprecated and will be removed from pandas in a future version. Use pandas.concat instead.\n",
      "  df = df.append({'Email': email_current, 'Phone_number': phone_number_current}, ignore_index=True)\n",
      "C:\\Users\\Hamza\\AppData\\Local\\Temp\\ipykernel_11596\\2871599656.py:26: FutureWarning: The frame.append method is deprecated and will be removed from pandas in a future version. Use pandas.concat instead.\n",
      "  df = df.append({'Email': email_current, 'Phone_number': phone_number_current}, ignore_index=True)\n"
     ]
    },
    {
     "name": "stdout",
     "output_type": "stream",
     "text": [
      "['avamuff@mit.edu'] []  has been extracted at iteration  649\n",
      "['jmuguira@mit.edu'] []  has been extracted at iteration  649\n"
     ]
    },
    {
     "name": "stderr",
     "output_type": "stream",
     "text": [
      "C:\\Users\\Hamza\\AppData\\Local\\Temp\\ipykernel_11596\\2871599656.py:26: FutureWarning: The frame.append method is deprecated and will be removed from pandas in a future version. Use pandas.concat instead.\n",
      "  df = df.append({'Email': email_current, 'Phone_number': phone_number_current}, ignore_index=True)\n",
      "C:\\Users\\Hamza\\AppData\\Local\\Temp\\ipykernel_11596\\2871599656.py:26: FutureWarning: The frame.append method is deprecated and will be removed from pandas in a future version. Use pandas.concat instead.\n",
      "  df = df.append({'Email': email_current, 'Phone_number': phone_number_current}, ignore_index=True)\n"
     ]
    },
    {
     "name": "stdout",
     "output_type": "stream",
     "text": [
      "['kmundil@mit.edu'] []  has been extracted at iteration  649\n",
      "['PAULMURE@csail.mit.edu'] []  has been extracted at iteration  649\n"
     ]
    },
    {
     "name": "stderr",
     "output_type": "stream",
     "text": [
      "C:\\Users\\Hamza\\AppData\\Local\\Temp\\ipykernel_11596\\2871599656.py:26: FutureWarning: The frame.append method is deprecated and will be removed from pandas in a future version. Use pandas.concat instead.\n",
      "  df = df.append({'Email': email_current, 'Phone_number': phone_number_current}, ignore_index=True)\n",
      "C:\\Users\\Hamza\\AppData\\Local\\Temp\\ipykernel_11596\\2871599656.py:26: FutureWarning: The frame.append method is deprecated and will be removed from pandas in a future version. Use pandas.concat instead.\n",
      "  df = df.append({'Email': email_current, 'Phone_number': phone_number_current}, ignore_index=True)\n"
     ]
    },
    {
     "name": "stdout",
     "output_type": "stream",
     "text": [
      "['seanmurp@mit.edu'] []  has been extracted at iteration  649\n",
      "['lsmurray@mit.edu'] []  has been extracted at iteration  649\n"
     ]
    },
    {
     "name": "stderr",
     "output_type": "stream",
     "text": [
      "C:\\Users\\Hamza\\AppData\\Local\\Temp\\ipykernel_11596\\2871599656.py:26: FutureWarning: The frame.append method is deprecated and will be removed from pandas in a future version. Use pandas.concat instead.\n",
      "  df = df.append({'Email': email_current, 'Phone_number': phone_number_current}, ignore_index=True)\n",
      "C:\\Users\\Hamza\\AppData\\Local\\Temp\\ipykernel_11596\\2871599656.py:26: FutureWarning: The frame.append method is deprecated and will be removed from pandas in a future version. Use pandas.concat instead.\n",
      "  df = df.append({'Email': email_current, 'Phone_number': phone_number_current}, ignore_index=True)\n"
     ]
    },
    {
     "name": "stdout",
     "output_type": "stream",
     "text": [
      "['philipm@mit.edu'] []  has been extracted at iteration  649\n"
     ]
    },
    {
     "name": "stderr",
     "output_type": "stream",
     "text": [
      "C:\\Users\\Hamza\\AppData\\Local\\Temp\\ipykernel_11596\\2871599656.py:26: FutureWarning: The frame.append method is deprecated and will be removed from pandas in a future version. Use pandas.concat instead.\n",
      "  df = df.append({'Email': email_current, 'Phone_number': phone_number_current}, ignore_index=True)\n"
     ]
    },
    {
     "name": "stdout",
     "output_type": "stream",
     "text": [
      "['RAMYAMUT@csail.mit.edu'] []  has been extracted at iteration  649\n",
      "['mnadeem@MIT.EDU'] []  has been extracted at iteration  649\n"
     ]
    },
    {
     "name": "stderr",
     "output_type": "stream",
     "text": [
      "C:\\Users\\Hamza\\AppData\\Local\\Temp\\ipykernel_11596\\2871599656.py:26: FutureWarning: The frame.append method is deprecated and will be removed from pandas in a future version. Use pandas.concat instead.\n",
      "  df = df.append({'Email': email_current, 'Phone_number': phone_number_current}, ignore_index=True)\n",
      "C:\\Users\\Hamza\\AppData\\Local\\Temp\\ipykernel_11596\\2871599656.py:26: FutureWarning: The frame.append method is deprecated and will be removed from pandas in a future version. Use pandas.concat instead.\n",
      "  df = df.append({'Email': email_current, 'Phone_number': phone_number_current}, ignore_index=True)\n"
     ]
    },
    {
     "name": "stdout",
     "output_type": "stream",
     "text": [
      "['knadjahi@csail.mit.edu'] []  has been extracted at iteration  649\n",
      "['mag@mit.edu'] []  has been extracted at iteration  649\n"
     ]
    },
    {
     "name": "stderr",
     "output_type": "stream",
     "text": [
      "C:\\Users\\Hamza\\AppData\\Local\\Temp\\ipykernel_11596\\2871599656.py:26: FutureWarning: The frame.append method is deprecated and will be removed from pandas in a future version. Use pandas.concat instead.\n",
      "  df = df.append({'Email': email_current, 'Phone_number': phone_number_current}, ignore_index=True)\n",
      "C:\\Users\\Hamza\\AppData\\Local\\Temp\\ipykernel_11596\\2871599656.py:26: FutureWarning: The frame.append method is deprecated and will be removed from pandas in a future version. Use pandas.concat instead.\n",
      "  df = df.append({'Email': email_current, 'Phone_number': phone_number_current}, ignore_index=True)\n"
     ]
    },
    {
     "name": "stdout",
     "output_type": "stream",
     "text": [
      "['sanjolin@csail.mit.edu'] []  has been extracted at iteration  649\n",
      "['shyamsn@mit.edu'] []  has been extracted at iteration  649\n"
     ]
    },
    {
     "name": "stderr",
     "output_type": "stream",
     "text": [
      "C:\\Users\\Hamza\\AppData\\Local\\Temp\\ipykernel_11596\\2871599656.py:26: FutureWarning: The frame.append method is deprecated and will be removed from pandas in a future version. Use pandas.concat instead.\n",
      "  df = df.append({'Email': email_current, 'Phone_number': phone_number_current}, ignore_index=True)\n",
      "C:\\Users\\Hamza\\AppData\\Local\\Temp\\ipykernel_11596\\2871599656.py:26: FutureWarning: The frame.append method is deprecated and will be removed from pandas in a future version. Use pandas.concat instead.\n",
      "  df = df.append({'Email': email_current, 'Phone_number': phone_number_current}, ignore_index=True)\n"
     ]
    },
    {
     "name": "stdout",
     "output_type": "stream",
     "text": [
      "['arashne@MIT.EDU'] []  has been extracted at iteration  649\n",
      "['anandn@mit.edu'] []  has been extracted at iteration  649\n"
     ]
    },
    {
     "name": "stderr",
     "output_type": "stream",
     "text": [
      "C:\\Users\\Hamza\\AppData\\Local\\Temp\\ipykernel_11596\\2871599656.py:26: FutureWarning: The frame.append method is deprecated and will be removed from pandas in a future version. Use pandas.concat instead.\n",
      "  df = df.append({'Email': email_current, 'Phone_number': phone_number_current}, ignore_index=True)\n",
      "C:\\Users\\Hamza\\AppData\\Local\\Temp\\ipykernel_11596\\2871599656.py:26: FutureWarning: The frame.append method is deprecated and will be removed from pandas in a future version. Use pandas.concat instead.\n",
      "  df = df.append({'Email': email_current, 'Phone_number': phone_number_current}, ignore_index=True)\n"
     ]
    },
    {
     "name": "stdout",
     "output_type": "stream",
     "text": [
      "['pnegi@mit.edu'] []  has been extracted at iteration  649\n",
      "['avivn@mit.edu'] []  has been extracted at iteration  649\n"
     ]
    },
    {
     "name": "stderr",
     "output_type": "stream",
     "text": [
      "C:\\Users\\Hamza\\AppData\\Local\\Temp\\ipykernel_11596\\2871599656.py:26: FutureWarning: The frame.append method is deprecated and will be removed from pandas in a future version. Use pandas.concat instead.\n",
      "  df = df.append({'Email': email_current, 'Phone_number': phone_number_current}, ignore_index=True)\n",
      "C:\\Users\\Hamza\\AppData\\Local\\Temp\\ipykernel_11596\\2871599656.py:26: FutureWarning: The frame.append method is deprecated and will be removed from pandas in a future version. Use pandas.concat instead.\n",
      "  df = df.append({'Email': email_current, 'Phone_number': phone_number_current}, ignore_index=True)\n"
     ]
    },
    {
     "name": "stdout",
     "output_type": "stream",
     "text": [
      "['netto@mit.edu'] []  has been extracted at iteration  649\n",
      "['eng@mit.edu'] []  has been extracted at iteration  649\n"
     ]
    },
    {
     "name": "stderr",
     "output_type": "stream",
     "text": [
      "C:\\Users\\Hamza\\AppData\\Local\\Temp\\ipykernel_11596\\2871599656.py:26: FutureWarning: The frame.append method is deprecated and will be removed from pandas in a future version. Use pandas.concat instead.\n",
      "  df = df.append({'Email': email_current, 'Phone_number': phone_number_current}, ignore_index=True)\n",
      "C:\\Users\\Hamza\\AppData\\Local\\Temp\\ipykernel_11596\\2871599656.py:26: FutureWarning: The frame.append method is deprecated and will be removed from pandas in a future version. Use pandas.concat instead.\n",
      "  df = df.append({'Email': email_current, 'Phone_number': phone_number_current}, ignore_index=True)\n"
     ]
    },
    {
     "name": "stdout",
     "output_type": "stream",
     "text": [
      "['enieves@mit.edu'] []  has been extracted at iteration  649\n",
      "['nisser@mit.edu'] []  has been extracted at iteration  649\n"
     ]
    },
    {
     "name": "stderr",
     "output_type": "stream",
     "text": [
      "C:\\Users\\Hamza\\AppData\\Local\\Temp\\ipykernel_11596\\2871599656.py:26: FutureWarning: The frame.append method is deprecated and will be removed from pandas in a future version. Use pandas.concat instead.\n",
      "  df = df.append({'Email': email_current, 'Phone_number': phone_number_current}, ignore_index=True)\n",
      "C:\\Users\\Hamza\\AppData\\Local\\Temp\\ipykernel_11596\\2871599656.py:26: FutureWarning: The frame.append method is deprecated and will be removed from pandas in a future version. Use pandas.concat instead.\n",
      "  df = df.append({'Email': email_current, 'Phone_number': phone_number_current}, ignore_index=True)\n"
     ]
    },
    {
     "name": "stdout",
     "output_type": "stream",
     "text": [
      "['KIMIAN@csail.mit.edu'] []  has been extracted at iteration  649\n",
      "['enoriega@mit.edu'] []  has been extracted at iteration  649\n"
     ]
    },
    {
     "name": "stderr",
     "output_type": "stream",
     "text": [
      "C:\\Users\\Hamza\\AppData\\Local\\Temp\\ipykernel_11596\\2871599656.py:26: FutureWarning: The frame.append method is deprecated and will be removed from pandas in a future version. Use pandas.concat instead.\n",
      "  df = df.append({'Email': email_current, 'Phone_number': phone_number_current}, ignore_index=True)\n",
      "C:\\Users\\Hamza\\AppData\\Local\\Temp\\ipykernel_11596\\2871599656.py:26: FutureWarning: The frame.append method is deprecated and will be removed from pandas in a future version. Use pandas.concat instead.\n",
      "  df = df.append({'Email': email_current, 'Phone_number': phone_number_current}, ignore_index=True)\n"
     ]
    },
    {
     "name": "stdout",
     "output_type": "stream",
     "text": [
      "['wn1024@mit.edu'] []  has been extracted at iteration  649\n",
      "['mnosew@mit.edu'] []  has been extracted at iteration  649\n"
     ]
    },
    {
     "name": "stderr",
     "output_type": "stream",
     "text": [
      "C:\\Users\\Hamza\\AppData\\Local\\Temp\\ipykernel_11596\\2871599656.py:26: FutureWarning: The frame.append method is deprecated and will be removed from pandas in a future version. Use pandas.concat instead.\n",
      "  df = df.append({'Email': email_current, 'Phone_number': phone_number_current}, ignore_index=True)\n",
      "C:\\Users\\Hamza\\AppData\\Local\\Temp\\ipykernel_11596\\2871599656.py:26: FutureWarning: The frame.append method is deprecated and will be removed from pandas in a future version. Use pandas.concat instead.\n",
      "  df = df.append({'Email': email_current, 'Phone_number': phone_number_current}, ignore_index=True)\n"
     ]
    },
    {
     "name": "stdout",
     "output_type": "stream",
     "text": [
      "['anin@mit.edu'] []  has been extracted at iteration  649\n",
      "['jjokeefe@mit.edu'] []  has been extracted at iteration  649\n"
     ]
    },
    {
     "name": "stderr",
     "output_type": "stream",
     "text": [
      "C:\\Users\\Hamza\\AppData\\Local\\Temp\\ipykernel_11596\\2871599656.py:26: FutureWarning: The frame.append method is deprecated and will be removed from pandas in a future version. Use pandas.concat instead.\n",
      "  df = df.append({'Email': email_current, 'Phone_number': phone_number_current}, ignore_index=True)\n",
      "C:\\Users\\Hamza\\AppData\\Local\\Temp\\ipykernel_11596\\2871599656.py:26: FutureWarning: The frame.append method is deprecated and will be removed from pandas in a future version. Use pandas.concat instead.\n",
      "  df = df.append({'Email': email_current, 'Phone_number': phone_number_current}, ignore_index=True)\n"
     ]
    },
    {
     "name": "stdout",
     "output_type": "stream",
     "text": [
      "['oneillb@mit.edu'] []  has been extracted at iteration  649\n",
      "['unamay@csail.mit.edu'] ['253-6437']  has been extracted at iteration  649\n"
     ]
    },
    {
     "name": "stderr",
     "output_type": "stream",
     "text": [
      "C:\\Users\\Hamza\\AppData\\Local\\Temp\\ipykernel_11596\\2871599656.py:26: FutureWarning: The frame.append method is deprecated and will be removed from pandas in a future version. Use pandas.concat instead.\n",
      "  df = df.append({'Email': email_current, 'Phone_number': phone_number_current}, ignore_index=True)\n",
      "C:\\Users\\Hamza\\AppData\\Local\\Temp\\ipykernel_11596\\2871599656.py:26: FutureWarning: The frame.append method is deprecated and will be removed from pandas in a future version. Use pandas.concat instead.\n",
      "  df = df.append({'Email': email_current, 'Phone_number': phone_number_current}, ignore_index=True)\n"
     ]
    },
    {
     "name": "stdout",
     "output_type": "stream",
     "text": [
      "['moberst@mit.edu'] []  has been extracted at iteration  649\n",
      "['TOBE@csail.mit.edu'] []  has been extracted at iteration  649\n"
     ]
    },
    {
     "name": "stderr",
     "output_type": "stream",
     "text": [
      "C:\\Users\\Hamza\\AppData\\Local\\Temp\\ipykernel_11596\\2871599656.py:26: FutureWarning: The frame.append method is deprecated and will be removed from pandas in a future version. Use pandas.concat instead.\n",
      "  df = df.append({'Email': email_current, 'Phone_number': phone_number_current}, ignore_index=True)\n",
      "C:\\Users\\Hamza\\AppData\\Local\\Temp\\ipykernel_11596\\2871599656.py:26: FutureWarning: The frame.append method is deprecated and will be removed from pandas in a future version. Use pandas.concat instead.\n",
      "  df = df.append({'Email': email_current, 'Phone_number': phone_number_current}, ignore_index=True)\n"
     ]
    },
    {
     "name": "stdout",
     "output_type": "stream",
     "text": [
      "['kyelok@gmail.com'] []  has been extracted at iteration  649\n",
      "['ha22286@mit.edu'] []  has been extracted at iteration  649\n"
     ]
    },
    {
     "name": "stderr",
     "output_type": "stream",
     "text": [
      "C:\\Users\\Hamza\\AppData\\Local\\Temp\\ipykernel_11596\\2871599656.py:26: FutureWarning: The frame.append method is deprecated and will be removed from pandas in a future version. Use pandas.concat instead.\n",
      "  df = df.append({'Email': email_current, 'Phone_number': phone_number_current}, ignore_index=True)\n",
      "C:\\Users\\Hamza\\AppData\\Local\\Temp\\ipykernel_11596\\2871599656.py:26: FutureWarning: The frame.append method is deprecated and will be removed from pandas in a future version. Use pandas.concat instead.\n",
      "  df = df.append({'Email': email_current, 'Phone_number': phone_number_current}, ignore_index=True)\n"
     ]
    },
    {
     "name": "stdout",
     "output_type": "stream",
     "text": [
      "['theoxo@mit.edu'] []  has been extracted at iteration  649\n",
      "['lolina@csail.mit.edu'] []  has been extracted at iteration  649\n"
     ]
    },
    {
     "name": "stderr",
     "output_type": "stream",
     "text": [
      "C:\\Users\\Hamza\\AppData\\Local\\Temp\\ipykernel_11596\\2871599656.py:26: FutureWarning: The frame.append method is deprecated and will be removed from pandas in a future version. Use pandas.concat instead.\n",
      "  df = df.append({'Email': email_current, 'Phone_number': phone_number_current}, ignore_index=True)\n",
      "C:\\Users\\Hamza\\AppData\\Local\\Temp\\ipykernel_11596\\2871599656.py:26: FutureWarning: The frame.append method is deprecated and will be removed from pandas in a future version. Use pandas.concat instead.\n",
      "  df = df.append({'Email': email_current, 'Phone_number': phone_number_current}, ignore_index=True)\n"
     ]
    },
    {
     "name": "stdout",
     "output_type": "stream",
     "text": [
      "['oliva@mit.edu'] ['452-2492']  has been extracted at iteration  649\n",
      "['jolkin@mit.edu'] []  has been extracted at iteration  649\n"
     ]
    },
    {
     "name": "stderr",
     "output_type": "stream",
     "text": [
      "C:\\Users\\Hamza\\AppData\\Local\\Temp\\ipykernel_11596\\2871599656.py:26: FutureWarning: The frame.append method is deprecated and will be removed from pandas in a future version. Use pandas.concat instead.\n",
      "  df = df.append({'Email': email_current, 'Phone_number': phone_number_current}, ignore_index=True)\n",
      "C:\\Users\\Hamza\\AppData\\Local\\Temp\\ipykernel_11596\\2871599656.py:26: FutureWarning: The frame.append method is deprecated and will be removed from pandas in a future version. Use pandas.concat instead.\n",
      "  df = df.append({'Email': email_current, 'Phone_number': phone_number_current}, ignore_index=True)\n"
     ]
    },
    {
     "name": "stdout",
     "output_type": "stream",
     "text": [
      "['jorlin@mit.edu'] []  has been extracted at iteration  649\n",
      "['teddy@mit.edu'] []  has been extracted at iteration  649\n"
     ]
    },
    {
     "name": "stderr",
     "output_type": "stream",
     "text": [
      "C:\\Users\\Hamza\\AppData\\Local\\Temp\\ipykernel_11596\\2871599656.py:26: FutureWarning: The frame.append method is deprecated and will be removed from pandas in a future version. Use pandas.concat instead.\n",
      "  df = df.append({'Email': email_current, 'Phone_number': phone_number_current}, ignore_index=True)\n",
      "C:\\Users\\Hamza\\AppData\\Local\\Temp\\ipykernel_11596\\2871599656.py:26: FutureWarning: The frame.append method is deprecated and will be removed from pandas in a future version. Use pandas.concat instead.\n",
      "  df = df.append({'Email': email_current, 'Phone_number': phone_number_current}, ignore_index=True)\n"
     ]
    },
    {
     "name": "stdout",
     "output_type": "stream",
     "text": [
      "['portiz@mit.edu'] []  has been extracted at iteration  649\n",
      "['iorzech@mit.edu'] []  has been extracted at iteration  649\n"
     ]
    },
    {
     "name": "stderr",
     "output_type": "stream",
     "text": [
      "C:\\Users\\Hamza\\AppData\\Local\\Temp\\ipykernel_11596\\2871599656.py:26: FutureWarning: The frame.append method is deprecated and will be removed from pandas in a future version. Use pandas.concat instead.\n",
      "  df = df.append({'Email': email_current, 'Phone_number': phone_number_current}, ignore_index=True)\n",
      "C:\\Users\\Hamza\\AppData\\Local\\Temp\\ipykernel_11596\\2871599656.py:26: FutureWarning: The frame.append method is deprecated and will be removed from pandas in a future version. Use pandas.concat instead.\n",
      "  df = df.append({'Email': email_current, 'Phone_number': phone_number_current}, ignore_index=True)\n"
     ]
    },
    {
     "name": "stdout",
     "output_type": "stream",
     "text": [
      "['doseyemi@mit.edu'] []  has been extracted at iteration  649\n",
      "['michail@mit.edu'] []  has been extracted at iteration  649\n"
     ]
    },
    {
     "name": "stderr",
     "output_type": "stream",
     "text": [
      "C:\\Users\\Hamza\\AppData\\Local\\Temp\\ipykernel_11596\\2871599656.py:26: FutureWarning: The frame.append method is deprecated and will be removed from pandas in a future version. Use pandas.concat instead.\n",
      "  df = df.append({'Email': email_current, 'Phone_number': phone_number_current}, ignore_index=True)\n",
      "C:\\Users\\Hamza\\AppData\\Local\\Temp\\ipykernel_11596\\2871599656.py:26: FutureWarning: The frame.append method is deprecated and will be removed from pandas in a future version. Use pandas.concat instead.\n",
      "  df = df.append({'Email': email_current, 'Phone_number': phone_number_current}, ignore_index=True)\n"
     ]
    },
    {
     "name": "stdout",
     "output_type": "stream",
     "text": [
      "['crystalo@mit.edu'] []  has been extracted at iteration  649\n",
      "['ujp@csail.mit.edu'] []  has been extracted at iteration  649\n",
      "['paeth@csail.mit.edu'] []  has been extracted at iteration  649\n"
     ]
    },
    {
     "name": "stderr",
     "output_type": "stream",
     "text": [
      "C:\\Users\\Hamza\\AppData\\Local\\Temp\\ipykernel_11596\\2871599656.py:26: FutureWarning: The frame.append method is deprecated and will be removed from pandas in a future version. Use pandas.concat instead.\n",
      "  df = df.append({'Email': email_current, 'Phone_number': phone_number_current}, ignore_index=True)\n",
      "C:\\Users\\Hamza\\AppData\\Local\\Temp\\ipykernel_11596\\2871599656.py:26: FutureWarning: The frame.append method is deprecated and will be removed from pandas in a future version. Use pandas.concat instead.\n",
      "  df = df.append({'Email': email_current, 'Phone_number': phone_number_current}, ignore_index=True)\n",
      "C:\\Users\\Hamza\\AppData\\Local\\Temp\\ipykernel_11596\\2871599656.py:26: FutureWarning: The frame.append method is deprecated and will be removed from pandas in a future version. Use pandas.concat instead.\n",
      "  df = df.append({'Email': email_current, 'Phone_number': phone_number_current}, ignore_index=True)\n"
     ]
    },
    {
     "name": "stdout",
     "output_type": "stream",
     "text": [
      "['avikpal@mit.edu'] []  has been extracted at iteration  649\n",
      "['drp@csail.mit.edu'] []  has been extracted at iteration  649\n"
     ]
    },
    {
     "name": "stderr",
     "output_type": "stream",
     "text": [
      "C:\\Users\\Hamza\\AppData\\Local\\Temp\\ipykernel_11596\\2871599656.py:26: FutureWarning: The frame.append method is deprecated and will be removed from pandas in a future version. Use pandas.concat instead.\n",
      "  df = df.append({'Email': email_current, 'Phone_number': phone_number_current}, ignore_index=True)\n",
      "C:\\Users\\Hamza\\AppData\\Local\\Temp\\ipykernel_11596\\2871599656.py:26: FutureWarning: The frame.append method is deprecated and will be removed from pandas in a future version. Use pandas.concat instead.\n",
      "  df = df.append({'Email': email_current, 'Phone_number': phone_number_current}, ignore_index=True)\n"
     ]
    },
    {
     "name": "stdout",
     "output_type": "stream",
     "text": [
      "['bpan@mit.edu'] []  has been extracted at iteration  649\n",
      "['luisap@mit.edu'] []  has been extracted at iteration  649\n"
     ]
    },
    {
     "name": "stderr",
     "output_type": "stream",
     "text": [
      "C:\\Users\\Hamza\\AppData\\Local\\Temp\\ipykernel_11596\\2871599656.py:26: FutureWarning: The frame.append method is deprecated and will be removed from pandas in a future version. Use pandas.concat instead.\n",
      "  df = df.append({'Email': email_current, 'Phone_number': phone_number_current}, ignore_index=True)\n",
      "C:\\Users\\Hamza\\AppData\\Local\\Temp\\ipykernel_11596\\2871599656.py:26: FutureWarning: The frame.append method is deprecated and will be removed from pandas in a future version. Use pandas.concat instead.\n",
      "  df = df.append({'Email': email_current, 'Phone_number': phone_number_current}, ignore_index=True)\n"
     ]
    },
    {
     "name": "stdout",
     "output_type": "stream",
     "text": [
      "['pangtao@mit.edu'] []  has been extracted at iteration  649\n",
      "['apapalia@mit.edu'] []  has been extracted at iteration  649\n"
     ]
    },
    {
     "name": "stderr",
     "output_type": "stream",
     "text": [
      "C:\\Users\\Hamza\\AppData\\Local\\Temp\\ipykernel_11596\\2871599656.py:26: FutureWarning: The frame.append method is deprecated and will be removed from pandas in a future version. Use pandas.concat instead.\n",
      "  df = df.append({'Email': email_current, 'Phone_number': phone_number_current}, ignore_index=True)\n",
      "C:\\Users\\Hamza\\AppData\\Local\\Temp\\ipykernel_11596\\2871599656.py:26: FutureWarning: The frame.append method is deprecated and will be removed from pandas in a future version. Use pandas.concat instead.\n",
      "  df = df.append({'Email': email_current, 'Phone_number': phone_number_current}, ignore_index=True)\n"
     ]
    },
    {
     "name": "stdout",
     "output_type": "stream",
     "text": [
      "['meenalp@mit.edu'] []  has been extracted at iteration  649\n",
      "['jyop@mit.edu'] []  has been extracted at iteration  649\n"
     ]
    },
    {
     "name": "stderr",
     "output_type": "stream",
     "text": [
      "C:\\Users\\Hamza\\AppData\\Local\\Temp\\ipykernel_11596\\2871599656.py:26: FutureWarning: The frame.append method is deprecated and will be removed from pandas in a future version. Use pandas.concat instead.\n",
      "  df = df.append({'Email': email_current, 'Phone_number': phone_number_current}, ignore_index=True)\n",
      "C:\\Users\\Hamza\\AppData\\Local\\Temp\\ipykernel_11596\\2871599656.py:26: FutureWarning: The frame.append method is deprecated and will be removed from pandas in a future version. Use pandas.concat instead.\n",
      "  df = df.append({'Email': email_current, 'Phone_number': phone_number_current}, ignore_index=True)\n"
     ]
    },
    {
     "name": "stdout",
     "output_type": "stream",
     "text": [
      "['vparimi@mit.edu'] []  has been extracted at iteration  649\n",
      "['hyunjinp@mit.edu'] []  has been extracted at iteration  649\n"
     ]
    },
    {
     "name": "stderr",
     "output_type": "stream",
     "text": [
      "C:\\Users\\Hamza\\AppData\\Local\\Temp\\ipykernel_11596\\2871599656.py:26: FutureWarning: The frame.append method is deprecated and will be removed from pandas in a future version. Use pandas.concat instead.\n",
      "  df = df.append({'Email': email_current, 'Phone_number': phone_number_current}, ignore_index=True)\n",
      "C:\\Users\\Hamza\\AppData\\Local\\Temp\\ipykernel_11596\\2871599656.py:26: FutureWarning: The frame.append method is deprecated and will be removed from pandas in a future version. Use pandas.concat instead.\n",
      "  df = df.append({'Email': email_current, 'Phone_number': phone_number_current}, ignore_index=True)\n"
     ]
    },
    {
     "name": "stdout",
     "output_type": "stream",
     "text": [
      "['spark@csail.mit.edu'] []  has been extracted at iteration  649\n",
      "['soya@mit.edu'] []  has been extracted at iteration  649\n"
     ]
    },
    {
     "name": "stderr",
     "output_type": "stream",
     "text": [
      "C:\\Users\\Hamza\\AppData\\Local\\Temp\\ipykernel_11596\\2871599656.py:26: FutureWarning: The frame.append method is deprecated and will be removed from pandas in a future version. Use pandas.concat instead.\n",
      "  df = df.append({'Email': email_current, 'Phone_number': phone_number_current}, ignore_index=True)\n",
      "C:\\Users\\Hamza\\AppData\\Local\\Temp\\ipykernel_11596\\2871599656.py:26: FutureWarning: The frame.append method is deprecated and will be removed from pandas in a future version. Use pandas.concat instead.\n",
      "  df = df.append({'Email': email_current, 'Phone_number': phone_number_current}, ignore_index=True)\n"
     ]
    },
    {
     "name": "stdout",
     "output_type": "stream",
     "text": [
      "['younghyo@mit.edu'] []  has been extracted at iteration  649\n",
      "['nparsan@csail.mit.edu'] []  has been extracted at iteration  649\n"
     ]
    },
    {
     "name": "stderr",
     "output_type": "stream",
     "text": [
      "C:\\Users\\Hamza\\AppData\\Local\\Temp\\ipykernel_11596\\2871599656.py:26: FutureWarning: The frame.append method is deprecated and will be removed from pandas in a future version. Use pandas.concat instead.\n",
      "  df = df.append({'Email': email_current, 'Phone_number': phone_number_current}, ignore_index=True)\n",
      "C:\\Users\\Hamza\\AppData\\Local\\Temp\\ipykernel_11596\\2871599656.py:26: FutureWarning: The frame.append method is deprecated and will be removed from pandas in a future version. Use pandas.concat instead.\n",
      "  df = df.append({'Email': email_current, 'Phone_number': phone_number_current}, ignore_index=True)\n"
     ]
    },
    {
     "name": "stdout",
     "output_type": "stream",
     "text": [
      "['ZPATT@MIT.EDU'] []  has been extracted at iteration  649\n",
      "['ewpatton@csail.mit.edu'] []  has been extracted at iteration  649\n"
     ]
    },
    {
     "name": "stderr",
     "output_type": "stream",
     "text": [
      "C:\\Users\\Hamza\\AppData\\Local\\Temp\\ipykernel_11596\\2871599656.py:26: FutureWarning: The frame.append method is deprecated and will be removed from pandas in a future version. Use pandas.concat instead.\n",
      "  df = df.append({'Email': email_current, 'Phone_number': phone_number_current}, ignore_index=True)\n",
      "C:\\Users\\Hamza\\AppData\\Local\\Temp\\ipykernel_11596\\2871599656.py:26: FutureWarning: The frame.append method is deprecated and will be removed from pandas in a future version. Use pandas.concat instead.\n",
      "  df = df.append({'Email': email_current, 'Phone_number': phone_number_current}, ignore_index=True)\n"
     ]
    },
    {
     "name": "stdout",
     "output_type": "stream",
     "text": [
      "['andipeng@csail.mit.edu'] []  has been extracted at iteration  649\n",
      "['jhp@csail.mit.edu'] ['253-8365']  has been extracted at iteration  649\n"
     ]
    },
    {
     "name": "stderr",
     "output_type": "stream",
     "text": [
      "C:\\Users\\Hamza\\AppData\\Local\\Temp\\ipykernel_11596\\2871599656.py:26: FutureWarning: The frame.append method is deprecated and will be removed from pandas in a future version. Use pandas.concat instead.\n",
      "  df = df.append({'Email': email_current, 'Phone_number': phone_number_current}, ignore_index=True)\n",
      "C:\\Users\\Hamza\\AppData\\Local\\Temp\\ipykernel_11596\\2871599656.py:26: FutureWarning: The frame.append method is deprecated and will be removed from pandas in a future version. Use pandas.concat instead.\n",
      "  df = df.append({'Email': email_current, 'Phone_number': phone_number_current}, ignore_index=True)\n"
     ]
    },
    {
     "name": "stdout",
     "output_type": "stream",
     "text": [
      "['mperron@mit.edu'] []  has been extracted at iteration  649\n",
      "['MAX1@csail.mit.edu'] []  has been extracted at iteration  649\n"
     ]
    },
    {
     "name": "stderr",
     "output_type": "stream",
     "text": [
      "C:\\Users\\Hamza\\AppData\\Local\\Temp\\ipykernel_11596\\2871599656.py:26: FutureWarning: The frame.append method is deprecated and will be removed from pandas in a future version. Use pandas.concat instead.\n",
      "  df = df.append({'Email': email_current, 'Phone_number': phone_number_current}, ignore_index=True)\n",
      "C:\\Users\\Hamza\\AppData\\Local\\Temp\\ipykernel_11596\\2871599656.py:26: FutureWarning: The frame.append method is deprecated and will be removed from pandas in a future version. Use pandas.concat instead.\n",
      "  df = df.append({'Email': email_current, 'Phone_number': phone_number_current}, ignore_index=True)\n"
     ]
    },
    {
     "name": "stdout",
     "output_type": "stream",
     "text": [
      "['map5@mit.edu'] []  has been extracted at iteration  649\n",
      "['nepfaff@mit.edu'] []  has been extracted at iteration  649\n"
     ]
    },
    {
     "name": "stderr",
     "output_type": "stream",
     "text": [
      "C:\\Users\\Hamza\\AppData\\Local\\Temp\\ipykernel_11596\\2871599656.py:26: FutureWarning: The frame.append method is deprecated and will be removed from pandas in a future version. Use pandas.concat instead.\n",
      "  df = df.append({'Email': email_current, 'Phone_number': phone_number_current}, ignore_index=True)\n",
      "C:\\Users\\Hamza\\AppData\\Local\\Temp\\ipykernel_11596\\2871599656.py:26: FutureWarning: The frame.append method is deprecated and will be removed from pandas in a future version. Use pandas.concat instead.\n",
      "  df = df.append({'Email': email_current, 'Phone_number': phone_number_current}, ignore_index=True)\n"
     ]
    },
    {
     "name": "stdout",
     "output_type": "stream",
     "text": [
      "['wsphil@mit.edu'] []  has been extracted at iteration  649\n",
      "['aphung@mit.edu'] []  has been extracted at iteration  649\n"
     ]
    },
    {
     "name": "stderr",
     "output_type": "stream",
     "text": [
      "C:\\Users\\Hamza\\AppData\\Local\\Temp\\ipykernel_11596\\2871599656.py:26: FutureWarning: The frame.append method is deprecated and will be removed from pandas in a future version. Use pandas.concat instead.\n",
      "  df = df.append({'Email': email_current, 'Phone_number': phone_number_current}, ignore_index=True)\n",
      "C:\\Users\\Hamza\\AppData\\Local\\Temp\\ipykernel_11596\\2871599656.py:26: FutureWarning: The frame.append method is deprecated and will be removed from pandas in a future version. Use pandas.concat instead.\n",
      "  df = df.append({'Email': email_current, 'Phone_number': phone_number_current}, ignore_index=True)\n"
     ]
    },
    {
     "name": "stdout",
     "output_type": "stream",
     "text": [
      "['spineda@mit.edu'] []  has been extracted at iteration  649\n",
      "['SOPHIAPINEDA@csail.mit.edu'] []  has been extracted at iteration  649\n"
     ]
    },
    {
     "name": "stderr",
     "output_type": "stream",
     "text": [
      "C:\\Users\\Hamza\\AppData\\Local\\Temp\\ipykernel_11596\\2871599656.py:26: FutureWarning: The frame.append method is deprecated and will be removed from pandas in a future version. Use pandas.concat instead.\n",
      "  df = df.append({'Email': email_current, 'Phone_number': phone_number_current}, ignore_index=True)\n",
      "C:\\Users\\Hamza\\AppData\\Local\\Temp\\ipykernel_11596\\2871599656.py:26: FutureWarning: The frame.append method is deprecated and will be removed from pandas in a future version. Use pandas.concat instead.\n",
      "  df = df.append({'Email': email_current, 'Phone_number': phone_number_current}, ignore_index=True)\n"
     ]
    },
    {
     "name": "stdout",
     "output_type": "stream",
     "text": [
      "['ipedraza@mit.edu'] []  has been extracted at iteration  649\n",
      "['chpipis@mit.edu'] []  has been extracted at iteration  649\n"
     ]
    },
    {
     "name": "stderr",
     "output_type": "stream",
     "text": [
      "C:\\Users\\Hamza\\AppData\\Local\\Temp\\ipykernel_11596\\2871599656.py:26: FutureWarning: The frame.append method is deprecated and will be removed from pandas in a future version. Use pandas.concat instead.\n",
      "  df = df.append({'Email': email_current, 'Phone_number': phone_number_current}, ignore_index=True)\n",
      "C:\\Users\\Hamza\\AppData\\Local\\Temp\\ipykernel_11596\\2871599656.py:26: FutureWarning: The frame.append method is deprecated and will be removed from pandas in a future version. Use pandas.concat instead.\n",
      "  df = df.append({'Email': email_current, 'Phone_number': phone_number_current}, ignore_index=True)\n"
     ]
    },
    {
     "name": "stdout",
     "output_type": "stream",
     "text": [
      "['bpitcla@mit.edu'] []  has been extracted at iteration  649\n",
      "['cameronp@mit.edu'] []  has been extracted at iteration  649\n"
     ]
    },
    {
     "name": "stderr",
     "output_type": "stream",
     "text": [
      "C:\\Users\\Hamza\\AppData\\Local\\Temp\\ipykernel_11596\\2871599656.py:26: FutureWarning: The frame.append method is deprecated and will be removed from pandas in a future version. Use pandas.concat instead.\n",
      "  df = df.append({'Email': email_current, 'Phone_number': phone_number_current}, ignore_index=True)\n",
      "C:\\Users\\Hamza\\AppData\\Local\\Temp\\ipykernel_11596\\2871599656.py:26: FutureWarning: The frame.append method is deprecated and will be removed from pandas in a future version. Use pandas.concat instead.\n",
      "  df = df.append({'Email': email_current, 'Phone_number': phone_number_current}, ignore_index=True)\n"
     ]
    },
    {
     "name": "stdout",
     "output_type": "stream",
     "text": [
      "['tp@csail.mit.edu'] ['253-5230']  has been extracted at iteration  649\n"
     ]
    },
    {
     "name": "stderr",
     "output_type": "stream",
     "text": [
      "C:\\Users\\Hamza\\AppData\\Local\\Temp\\ipykernel_11596\\2871599656.py:26: FutureWarning: The frame.append method is deprecated and will be removed from pandas in a future version. Use pandas.concat instead.\n",
      "  df = df.append({'Email': email_current, 'Phone_number': phone_number_current}, ignore_index=True)\n"
     ]
    },
    {
     "name": "stdout",
     "output_type": "stream",
     "text": [
      "['jopo@csail.mit.edu'] []  has been extracted at iteration  649\n",
      "['meganp@mit.edu'] []  has been extracted at iteration  649\n"
     ]
    },
    {
     "name": "stderr",
     "output_type": "stream",
     "text": [
      "C:\\Users\\Hamza\\AppData\\Local\\Temp\\ipykernel_11596\\2871599656.py:26: FutureWarning: The frame.append method is deprecated and will be removed from pandas in a future version. Use pandas.concat instead.\n",
      "  df = df.append({'Email': email_current, 'Phone_number': phone_number_current}, ignore_index=True)\n",
      "C:\\Users\\Hamza\\AppData\\Local\\Temp\\ipykernel_11596\\2871599656.py:26: FutureWarning: The frame.append method is deprecated and will be removed from pandas in a future version. Use pandas.concat instead.\n",
      "  df = df.append({'Email': email_current, 'Phone_number': phone_number_current}, ignore_index=True)\n"
     ]
    },
    {
     "name": "stdout",
     "output_type": "stream",
     "text": [
      "['vpreston@mit.edu'] []  has been extracted at iteration  649\n",
      "['hpropson@mit.edu'] []  has been extracted at iteration  649\n"
     ]
    },
    {
     "name": "stderr",
     "output_type": "stream",
     "text": [
      "C:\\Users\\Hamza\\AppData\\Local\\Temp\\ipykernel_11596\\2871599656.py:26: FutureWarning: The frame.append method is deprecated and will be removed from pandas in a future version. Use pandas.concat instead.\n",
      "  df = df.append({'Email': email_current, 'Phone_number': phone_number_current}, ignore_index=True)\n",
      "C:\\Users\\Hamza\\AppData\\Local\\Temp\\ipykernel_11596\\2871599656.py:26: FutureWarning: The frame.append method is deprecated and will be removed from pandas in a future version. Use pandas.concat instead.\n",
      "  df = df.append({'Email': email_current, 'Phone_number': phone_number_current}, ignore_index=True)\n"
     ]
    },
    {
     "name": "stdout",
     "output_type": "stream",
     "text": [
      "['ppurcell@csail.mit.edu'] ['253-0338']  has been extracted at iteration  649\n",
      "['ISHAPURI@csail.mit.edu'] []  has been extracted at iteration  649\n"
     ]
    },
    {
     "name": "stderr",
     "output_type": "stream",
     "text": [
      "C:\\Users\\Hamza\\AppData\\Local\\Temp\\ipykernel_11596\\2871599656.py:26: FutureWarning: The frame.append method is deprecated and will be removed from pandas in a future version. Use pandas.concat instead.\n",
      "  df = df.append({'Email': email_current, 'Phone_number': phone_number_current}, ignore_index=True)\n",
      "C:\\Users\\Hamza\\AppData\\Local\\Temp\\ipykernel_11596\\2871599656.py:26: FutureWarning: The frame.append method is deprecated and will be removed from pandas in a future version. Use pandas.concat instead.\n",
      "  df = df.append({'Email': email_current, 'Phone_number': phone_number_current}, ignore_index=True)\n"
     ]
    },
    {
     "name": "stdout",
     "output_type": "stream",
     "text": [
      "['sspuri@mit.edu'] []  has been extracted at iteration  649\n",
      "['spurohit@MIT.EDU'] []  has been extracted at iteration  649\n"
     ]
    },
    {
     "name": "stderr",
     "output_type": "stream",
     "text": [
      "C:\\Users\\Hamza\\AppData\\Local\\Temp\\ipykernel_11596\\2871599656.py:26: FutureWarning: The frame.append method is deprecated and will be removed from pandas in a future version. Use pandas.concat instead.\n",
      "  df = df.append({'Email': email_current, 'Phone_number': phone_number_current}, ignore_index=True)\n",
      "C:\\Users\\Hamza\\AppData\\Local\\Temp\\ipykernel_11596\\2871599656.py:26: FutureWarning: The frame.append method is deprecated and will be removed from pandas in a future version. Use pandas.concat instead.\n",
      "  df = df.append({'Email': email_current, 'Phone_number': phone_number_current}, ignore_index=True)\n"
     ]
    },
    {
     "name": "stdout",
     "output_type": "stream",
     "text": [
      "['epyne@mit.edu'] []  has been extracted at iteration  649\n",
      "['bpyo@mit.edu'] []  has been extracted at iteration  649\n",
      "['keqian@mit.edu'] []  has been extracted at iteration  649\n"
     ]
    },
    {
     "name": "stderr",
     "output_type": "stream",
     "text": [
      "C:\\Users\\Hamza\\AppData\\Local\\Temp\\ipykernel_11596\\2871599656.py:26: FutureWarning: The frame.append method is deprecated and will be removed from pandas in a future version. Use pandas.concat instead.\n",
      "  df = df.append({'Email': email_current, 'Phone_number': phone_number_current}, ignore_index=True)\n",
      "C:\\Users\\Hamza\\AppData\\Local\\Temp\\ipykernel_11596\\2871599656.py:26: FutureWarning: The frame.append method is deprecated and will be removed from pandas in a future version. Use pandas.concat instead.\n",
      "  df = df.append({'Email': email_current, 'Phone_number': phone_number_current}, ignore_index=True)\n",
      "C:\\Users\\Hamza\\AppData\\Local\\Temp\\ipykernel_11596\\2871599656.py:26: FutureWarning: The frame.append method is deprecated and will be removed from pandas in a future version. Use pandas.concat instead.\n",
      "  df = df.append({'Email': email_current, 'Phone_number': phone_number_current}, ignore_index=True)\n"
     ]
    },
    {
     "name": "stdout",
     "output_type": "stream",
     "text": [
      "['yujieq@mit.edu'] []  has been extracted at iteration  649\n",
      "['linluqiu@csail.mit.edu'] []  has been extracted at iteration  649\n",
      "['aquach@csail.mit.edu'] []  has been extracted at iteration  649\n"
     ]
    },
    {
     "name": "stderr",
     "output_type": "stream",
     "text": [
      "C:\\Users\\Hamza\\AppData\\Local\\Temp\\ipykernel_11596\\2871599656.py:26: FutureWarning: The frame.append method is deprecated and will be removed from pandas in a future version. Use pandas.concat instead.\n",
      "  df = df.append({'Email': email_current, 'Phone_number': phone_number_current}, ignore_index=True)\n",
      "C:\\Users\\Hamza\\AppData\\Local\\Temp\\ipykernel_11596\\2871599656.py:26: FutureWarning: The frame.append method is deprecated and will be removed from pandas in a future version. Use pandas.concat instead.\n",
      "  df = df.append({'Email': email_current, 'Phone_number': phone_number_current}, ignore_index=True)\n",
      "C:\\Users\\Hamza\\AppData\\Local\\Temp\\ipykernel_11596\\2871599656.py:26: FutureWarning: The frame.append method is deprecated and will be removed from pandas in a future version. Use pandas.concat instead.\n",
      "  df = df.append({'Email': email_current, 'Phone_number': phone_number_current}, ignore_index=True)\n"
     ]
    },
    {
     "name": "stdout",
     "output_type": "stream",
     "text": [
      "['quach@mit.edu'] []  has been extracted at iteration  649\n",
      "['squeipo@csail.mit.edu'] []  has been extracted at iteration  649\n",
      "['jrk@csail.mit.edu'] ['253-7165']  has been extracted at iteration  649\n"
     ]
    },
    {
     "name": "stderr",
     "output_type": "stream",
     "text": [
      "C:\\Users\\Hamza\\AppData\\Local\\Temp\\ipykernel_11596\\2871599656.py:26: FutureWarning: The frame.append method is deprecated and will be removed from pandas in a future version. Use pandas.concat instead.\n",
      "  df = df.append({'Email': email_current, 'Phone_number': phone_number_current}, ignore_index=True)\n",
      "C:\\Users\\Hamza\\AppData\\Local\\Temp\\ipykernel_11596\\2871599656.py:26: FutureWarning: The frame.append method is deprecated and will be removed from pandas in a future version. Use pandas.concat instead.\n",
      "  df = df.append({'Email': email_current, 'Phone_number': phone_number_current}, ignore_index=True)\n",
      "C:\\Users\\Hamza\\AppData\\Local\\Temp\\ipykernel_11596\\2871599656.py:26: FutureWarning: The frame.append method is deprecated and will be removed from pandas in a future version. Use pandas.concat instead.\n",
      "  df = df.append({'Email': email_current, 'Phone_number': phone_number_current}, ignore_index=True)\n"
     ]
    },
    {
     "name": "stdout",
     "output_type": "stream",
     "text": [
      "['SRAGAVAN@csail.mit.edu'] []  has been extracted at iteration  649\n",
      "['araghu@mit.edu'] []  has been extracted at iteration  649\n",
      "['AMITR@csail.mit.edu'] []  has been extracted at iteration  649\n"
     ]
    },
    {
     "name": "stderr",
     "output_type": "stream",
     "text": [
      "C:\\Users\\Hamza\\AppData\\Local\\Temp\\ipykernel_11596\\2871599656.py:26: FutureWarning: The frame.append method is deprecated and will be removed from pandas in a future version. Use pandas.concat instead.\n",
      "  df = df.append({'Email': email_current, 'Phone_number': phone_number_current}, ignore_index=True)\n",
      "C:\\Users\\Hamza\\AppData\\Local\\Temp\\ipykernel_11596\\2871599656.py:26: FutureWarning: The frame.append method is deprecated and will be removed from pandas in a future version. Use pandas.concat instead.\n",
      "  df = df.append({'Email': email_current, 'Phone_number': phone_number_current}, ignore_index=True)\n",
      "C:\\Users\\Hamza\\AppData\\Local\\Temp\\ipykernel_11596\\2871599656.py:26: FutureWarning: The frame.append method is deprecated and will be removed from pandas in a future version. Use pandas.concat instead.\n",
      "  df = df.append({'Email': email_current, 'Phone_number': phone_number_current}, ignore_index=True)\n"
     ]
    },
    {
     "name": "stdout",
     "output_type": "stream",
     "text": [
      "['rsudhir@mit.edu'] []  has been extracted at iteration  649\n",
      "['mrakic@mit.edu'] []  has been extracted at iteration  649\n",
      "['deepikar@mit.edu'] []  has been extracted at iteration  649\n"
     ]
    },
    {
     "name": "stderr",
     "output_type": "stream",
     "text": [
      "C:\\Users\\Hamza\\AppData\\Local\\Temp\\ipykernel_11596\\2871599656.py:26: FutureWarning: The frame.append method is deprecated and will be removed from pandas in a future version. Use pandas.concat instead.\n",
      "  df = df.append({'Email': email_current, 'Phone_number': phone_number_current}, ignore_index=True)\n",
      "C:\\Users\\Hamza\\AppData\\Local\\Temp\\ipykernel_11596\\2871599656.py:26: FutureWarning: The frame.append method is deprecated and will be removed from pandas in a future version. Use pandas.concat instead.\n",
      "  df = df.append({'Email': email_current, 'Phone_number': phone_number_current}, ignore_index=True)\n",
      "C:\\Users\\Hamza\\AppData\\Local\\Temp\\ipykernel_11596\\2871599656.py:26: FutureWarning: The frame.append method is deprecated and will be removed from pandas in a future version. Use pandas.concat instead.\n",
      "  df = df.append({'Email': email_current, 'Phone_number': phone_number_current}, ignore_index=True)\n"
     ]
    },
    {
     "name": "stdout",
     "output_type": "stream",
     "text": [
      "['vayd@mit.edu'] []  has been extracted at iteration  649\n",
      "['raphael4@csail.mit.edu'] []  has been extracted at iteration  649\n",
      "['yravan@mit.edu'] []  has been extracted at iteration  649\n"
     ]
    },
    {
     "name": "stderr",
     "output_type": "stream",
     "text": [
      "C:\\Users\\Hamza\\AppData\\Local\\Temp\\ipykernel_11596\\2871599656.py:26: FutureWarning: The frame.append method is deprecated and will be removed from pandas in a future version. Use pandas.concat instead.\n",
      "  df = df.append({'Email': email_current, 'Phone_number': phone_number_current}, ignore_index=True)\n",
      "C:\\Users\\Hamza\\AppData\\Local\\Temp\\ipykernel_11596\\2871599656.py:26: FutureWarning: The frame.append method is deprecated and will be removed from pandas in a future version. Use pandas.concat instead.\n",
      "  df = df.append({'Email': email_current, 'Phone_number': phone_number_current}, ignore_index=True)\n",
      "C:\\Users\\Hamza\\AppData\\Local\\Temp\\ipykernel_11596\\2871599656.py:26: FutureWarning: The frame.append method is deprecated and will be removed from pandas in a future version. Use pandas.concat instead.\n",
      "  df = df.append({'Email': email_current, 'Phone_number': phone_number_current}, ignore_index=True)\n"
     ]
    },
    {
     "name": "stdout",
     "output_type": "stream",
     "text": [
      "['prernar@mit.edu'] []  has been extracted at iteration  649\n",
      "['jravi@mit.edu'] []  has been extracted at iteration  649\n",
      "['aaronray@mit.edu'] []  has been extracted at iteration  649\n"
     ]
    },
    {
     "name": "stderr",
     "output_type": "stream",
     "text": [
      "C:\\Users\\Hamza\\AppData\\Local\\Temp\\ipykernel_11596\\2871599656.py:26: FutureWarning: The frame.append method is deprecated and will be removed from pandas in a future version. Use pandas.concat instead.\n",
      "  df = df.append({'Email': email_current, 'Phone_number': phone_number_current}, ignore_index=True)\n",
      "C:\\Users\\Hamza\\AppData\\Local\\Temp\\ipykernel_11596\\2871599656.py:26: FutureWarning: The frame.append method is deprecated and will be removed from pandas in a future version. Use pandas.concat instead.\n",
      "  df = df.append({'Email': email_current, 'Phone_number': phone_number_current}, ignore_index=True)\n",
      "C:\\Users\\Hamza\\AppData\\Local\\Temp\\ipykernel_11596\\2871599656.py:26: FutureWarning: The frame.append method is deprecated and will be removed from pandas in a future version. Use pandas.concat instead.\n",
      "  df = df.append({'Email': email_current, 'Phone_number': phone_number_current}, ignore_index=True)\n"
     ]
    },
    {
     "name": "stdout",
     "output_type": "stream",
     "text": [
      "['nreddy@mit.edu'] []  has been extracted at iteration  649\n",
      "['mreeves@mit.edu'] []  has been extracted at iteration  649\n",
      "['reinking@mit.edu'] []  has been extracted at iteration "
     ]
    },
    {
     "name": "stderr",
     "output_type": "stream",
     "text": [
      "C:\\Users\\Hamza\\AppData\\Local\\Temp\\ipykernel_11596\\2871599656.py:26: FutureWarning: The frame.append method is deprecated and will be removed from pandas in a future version. Use pandas.concat instead.\n",
      "  df = df.append({'Email': email_current, 'Phone_number': phone_number_current}, ignore_index=True)\n",
      "C:\\Users\\Hamza\\AppData\\Local\\Temp\\ipykernel_11596\\2871599656.py:26: FutureWarning: The frame.append method is deprecated and will be removed from pandas in a future version. Use pandas.concat instead.\n",
      "  df = df.append({'Email': email_current, 'Phone_number': phone_number_current}, ignore_index=True)\n",
      "C:\\Users\\Hamza\\AppData\\Local\\Temp\\ipykernel_11596\\2871599656.py:26: FutureWarning: The frame.append method is deprecated and will be removed from pandas in a future version. Use pandas.concat instead.\n",
      "  df = df.append({'Email': email_current, 'Phone_number': phone_number_current}, ignore_index=True)\n"
     ]
    },
    {
     "name": "stdout",
     "output_type": "stream",
     "text": [
      " 649\n",
      "['jordanr1@mit.edu'] []  has been extracted at iteration  649\n"
     ]
    },
    {
     "name": "stderr",
     "output_type": "stream",
     "text": [
      "C:\\Users\\Hamza\\AppData\\Local\\Temp\\ipykernel_11596\\2871599656.py:26: FutureWarning: The frame.append method is deprecated and will be removed from pandas in a future version. Use pandas.concat instead.\n",
      "  df = df.append({'Email': email_current, 'Phone_number': phone_number_current}, ignore_index=True)\n",
      "C:\\Users\\Hamza\\AppData\\Local\\Temp\\ipykernel_11596\\2871599656.py:26: FutureWarning: The frame.append method is deprecated and will be removed from pandas in a future version. Use pandas.concat instead.\n",
      "  df = df.append({'Email': email_current, 'Phone_number': phone_number_current}, ignore_index=True)\n",
      "C:\\Users\\Hamza\\AppData\\Local\\Temp\\ipykernel_11596\\2871599656.py:26: FutureWarning: The frame.append method is deprecated and will be removed from pandas in a future version. Use pandas.concat instead.\n",
      "  df = df.append({'Email': email_current, 'Phone_number': phone_number_current}, ignore_index=True)\n"
     ]
    },
    {
     "name": "stdout",
     "output_type": "stream",
     "text": [
      "['renda@mit.edu'] []  has been extracted at iteration  649\n",
      "['mreveiz@mit.edu'] []  has been extracted at iteration  649\n",
      "['srick@csail.mit.edu'] []  has been extracted at iteration  649\n"
     ]
    },
    {
     "name": "stderr",
     "output_type": "stream",
     "text": [
      "C:\\Users\\Hamza\\AppData\\Local\\Temp\\ipykernel_11596\\2871599656.py:26: FutureWarning: The frame.append method is deprecated and will be removed from pandas in a future version. Use pandas.concat instead.\n",
      "  df = df.append({'Email': email_current, 'Phone_number': phone_number_current}, ignore_index=True)\n",
      "C:\\Users\\Hamza\\AppData\\Local\\Temp\\ipykernel_11596\\2871599656.py:26: FutureWarning: The frame.append method is deprecated and will be removed from pandas in a future version. Use pandas.concat instead.\n",
      "  df = df.append({'Email': email_current, 'Phone_number': phone_number_current}, ignore_index=True)\n"
     ]
    },
    {
     "name": "stdout",
     "output_type": "stream",
     "text": [
      "['NRINALDI@mit.edu'] []  has been extracted at iteration  649\n",
      "['rinard@csail.mit.edu'] ['258-6922']  has been extracted at iteration  649\n",
      "['eringoot@mit.edu'] []  has been extracted at iteration  649\n"
     ]
    },
    {
     "name": "stderr",
     "output_type": "stream",
     "text": [
      "C:\\Users\\Hamza\\AppData\\Local\\Temp\\ipykernel_11596\\2871599656.py:26: FutureWarning: The frame.append method is deprecated and will be removed from pandas in a future version. Use pandas.concat instead.\n",
      "  df = df.append({'Email': email_current, 'Phone_number': phone_number_current}, ignore_index=True)\n",
      "C:\\Users\\Hamza\\AppData\\Local\\Temp\\ipykernel_11596\\2871599656.py:26: FutureWarning: The frame.append method is deprecated and will be removed from pandas in a future version. Use pandas.concat instead.\n",
      "  df = df.append({'Email': email_current, 'Phone_number': phone_number_current}, ignore_index=True)\n"
     ]
    },
    {
     "name": "stdout",
     "output_type": "stream",
     "text": [
      "['rivest@mit.edu'] ['253-5880']  has been extracted at iteration  649\n",
      "['robelle@mit.edu'] []  has been extracted at iteration  649\n",
      "['joshrob@mit.edu'] []  has been extracted at iteration  649\n"
     ]
    },
    {
     "name": "stderr",
     "output_type": "stream",
     "text": [
      "C:\\Users\\Hamza\\AppData\\Local\\Temp\\ipykernel_11596\\2871599656.py:26: FutureWarning: The frame.append method is deprecated and will be removed from pandas in a future version. Use pandas.concat instead.\n",
      "  df = df.append({'Email': email_current, 'Phone_number': phone_number_current}, ignore_index=True)\n",
      "C:\\Users\\Hamza\\AppData\\Local\\Temp\\ipykernel_11596\\2871599656.py:26: FutureWarning: The frame.append method is deprecated and will be removed from pandas in a future version. Use pandas.concat instead.\n",
      "  df = df.append({'Email': email_current, 'Phone_number': phone_number_current}, ignore_index=True)\n",
      "C:\\Users\\Hamza\\AppData\\Local\\Temp\\ipykernel_11596\\2871599656.py:26: FutureWarning: The frame.append method is deprecated and will be removed from pandas in a future version. Use pandas.concat instead.\n",
      "  df = df.append({'Email': email_current, 'Phone_number': phone_number_current}, ignore_index=True)\n"
     ]
    },
    {
     "name": "stdout",
     "output_type": "stream",
     "text": [
      "['adrianrm@mit.edu'] []  has been extracted at iteration  649\n",
      "['drohatgi@mit.edu'] []  has been extracted at iteration  649\n",
      "['erojasc@mit.edu'] []  has been extracted at iteration  649\n"
     ]
    },
    {
     "name": "stderr",
     "output_type": "stream",
     "text": [
      "C:\\Users\\Hamza\\AppData\\Local\\Temp\\ipykernel_11596\\2871599656.py:26: FutureWarning: The frame.append method is deprecated and will be removed from pandas in a future version. Use pandas.concat instead.\n",
      "  df = df.append({'Email': email_current, 'Phone_number': phone_number_current}, ignore_index=True)\n",
      "C:\\Users\\Hamza\\AppData\\Local\\Temp\\ipykernel_11596\\2871599656.py:26: FutureWarning: The frame.append method is deprecated and will be removed from pandas in a future version. Use pandas.concat instead.\n",
      "  df = df.append({'Email': email_current, 'Phone_number': phone_number_current}, ignore_index=True)\n",
      "C:\\Users\\Hamza\\AppData\\Local\\Temp\\ipykernel_11596\\2871599656.py:26: FutureWarning: The frame.append method is deprecated and will be removed from pandas in a future version. Use pandas.concat instead.\n",
      "  df = df.append({'Email': email_current, 'Phone_number': phone_number_current}, ignore_index=True)\n"
     ]
    },
    {
     "name": "stdout",
     "output_type": "stream",
     "text": [
      "['johnrom@mit.edu'] []  has been extracted at iteration  649\n",
      "['hrome@mit.edu'] []  has been extracted at iteration  649\n",
      "['brromero@mit.edu'] []  has been extracted at iteration  649\n"
     ]
    },
    {
     "name": "stderr",
     "output_type": "stream",
     "text": [
      "C:\\Users\\Hamza\\AppData\\Local\\Temp\\ipykernel_11596\\2871599656.py:26: FutureWarning: The frame.append method is deprecated and will be removed from pandas in a future version. Use pandas.concat instead.\n",
      "  df = df.append({'Email': email_current, 'Phone_number': phone_number_current}, ignore_index=True)\n",
      "C:\\Users\\Hamza\\AppData\\Local\\Temp\\ipykernel_11596\\2871599656.py:26: FutureWarning: The frame.append method is deprecated and will be removed from pandas in a future version. Use pandas.concat instead.\n",
      "  df = df.append({'Email': email_current, 'Phone_number': phone_number_current}, ignore_index=True)\n",
      "C:\\Users\\Hamza\\AppData\\Local\\Temp\\ipykernel_11596\\2871599656.py:26: FutureWarning: The frame.append method is deprecated and will be removed from pandas in a future version. Use pandas.concat instead.\n",
      "  df = df.append({'Email': email_current, 'Phone_number': phone_number_current}, ignore_index=True)\n"
     ]
    },
    {
     "name": "stdout",
     "output_type": "stream",
     "text": [
      "['sromeroa@mit.edu'] []  has been extracted at iteration  649\n",
      "['aronto@mit.edu'] []  has been extracted at iteration  649\n",
      "['danarose@mit.edu'] []  has been extracted at iteration  649\n"
     ]
    },
    {
     "name": "stderr",
     "output_type": "stream",
     "text": [
      "C:\\Users\\Hamza\\AppData\\Local\\Temp\\ipykernel_11596\\2871599656.py:26: FutureWarning: The frame.append method is deprecated and will be removed from pandas in a future version. Use pandas.concat instead.\n",
      "  df = df.append({'Email': email_current, 'Phone_number': phone_number_current}, ignore_index=True)\n",
      "C:\\Users\\Hamza\\AppData\\Local\\Temp\\ipykernel_11596\\2871599656.py:26: FutureWarning: The frame.append method is deprecated and will be removed from pandas in a future version. Use pandas.concat instead.\n",
      "  df = df.append({'Email': email_current, 'Phone_number': phone_number_current}, ignore_index=True)\n",
      "C:\\Users\\Hamza\\AppData\\Local\\Temp\\ipykernel_11596\\2871599656.py:26: FutureWarning: The frame.append method is deprecated and will be removed from pandas in a future version. Use pandas.concat instead.\n",
      "  df = df.append({'Email': email_current, 'Phone_number': phone_number_current}, ignore_index=True)\n"
     ]
    },
    {
     "name": "stdout",
     "output_type": "stream",
     "text": [
      "['rruth@mit.edu'] ['324-0269']  has been extracted at iteration  649\n",
      "['arosinol@mit.edu'] []  has been extracted at iteration  649\n",
      "['alexisro@mit.edu'] []  has been extracted at iteration  649\n"
     ]
    },
    {
     "name": "stderr",
     "output_type": "stream",
     "text": [
      "C:\\Users\\Hamza\\AppData\\Local\\Temp\\ipykernel_11596\\2871599656.py:26: FutureWarning: The frame.append method is deprecated and will be removed from pandas in a future version. Use pandas.concat instead.\n",
      "  df = df.append({'Email': email_current, 'Phone_number': phone_number_current}, ignore_index=True)\n",
      "C:\\Users\\Hamza\\AppData\\Local\\Temp\\ipykernel_11596\\2871599656.py:26: FutureWarning: The frame.append method is deprecated and will be removed from pandas in a future version. Use pandas.concat instead.\n",
      "  df = df.append({'Email': email_current, 'Phone_number': phone_number_current}, ignore_index=True)\n",
      "C:\\Users\\Hamza\\AppData\\Local\\Temp\\ipykernel_11596\\2871599656.py:26: FutureWarning: The frame.append method is deprecated and will be removed from pandas in a future version. Use pandas.concat instead.\n",
      "  df = df.append({'Email': email_current, 'Phone_number': phone_number_current}, ignore_index=True)\n"
     ]
    },
    {
     "name": "stdout",
     "output_type": "stream",
     "text": [
      "['jillianr@mit.edu'] []  has been extracted at iteration  649\n",
      "['tamarott@csail.mit.edu'] []  has been extracted at iteration  649\n"
     ]
    },
    {
     "name": "stderr",
     "output_type": "stream",
     "text": [
      "C:\\Users\\Hamza\\AppData\\Local\\Temp\\ipykernel_11596\\2871599656.py:26: FutureWarning: The frame.append method is deprecated and will be removed from pandas in a future version. Use pandas.concat instead.\n",
      "  df = df.append({'Email': email_current, 'Phone_number': phone_number_current}, ignore_index=True)\n",
      "C:\\Users\\Hamza\\AppData\\Local\\Temp\\ipykernel_11596\\2871599656.py:26: FutureWarning: The frame.append method is deprecated and will be removed from pandas in a future version. Use pandas.concat instead.\n",
      "  df = df.append({'Email': email_current, 'Phone_number': phone_number_current}, ignore_index=True)\n"
     ]
    },
    {
     "name": "stdout",
     "output_type": "stream",
     "text": [
      "['roudi@mit.edu'] []  has been extracted at iteration  649\n",
      "['rountree@csail.mit.edu'] []  has been extracted at iteration  649\n"
     ]
    },
    {
     "name": "stderr",
     "output_type": "stream",
     "text": [
      "C:\\Users\\Hamza\\AppData\\Local\\Temp\\ipykernel_11596\\2871599656.py:26: FutureWarning: The frame.append method is deprecated and will be removed from pandas in a future version. Use pandas.concat instead.\n",
      "  df = df.append({'Email': email_current, 'Phone_number': phone_number_current}, ignore_index=True)\n",
      "C:\\Users\\Hamza\\AppData\\Local\\Temp\\ipykernel_11596\\2871599656.py:26: FutureWarning: The frame.append method is deprecated and will be removed from pandas in a future version. Use pandas.concat instead.\n",
      "  df = df.append({'Email': email_current, 'Phone_number': phone_number_current}, ignore_index=True)\n"
     ]
    },
    {
     "name": "stdout",
     "output_type": "stream",
     "text": [
      "['nickroy@csail.mit.edu'] ['253-2517']  has been extracted at iteration  649\n",
      "['zainruan@csail.mit.edu'] []  has been extracted at iteration  649\n"
     ]
    },
    {
     "name": "stderr",
     "output_type": "stream",
     "text": [
      "C:\\Users\\Hamza\\AppData\\Local\\Temp\\ipykernel_11596\\2871599656.py:26: FutureWarning: The frame.append method is deprecated and will be removed from pandas in a future version. Use pandas.concat instead.\n",
      "  df = df.append({'Email': email_current, 'Phone_number': phone_number_current}, ignore_index=True)\n",
      "C:\\Users\\Hamza\\AppData\\Local\\Temp\\ipykernel_11596\\2871599656.py:26: FutureWarning: The frame.append method is deprecated and will be removed from pandas in a future version. Use pandas.concat instead.\n",
      "  df = df.append({'Email': email_current, 'Phone_number': phone_number_current}, ignore_index=True)\n"
     ]
    },
    {
     "name": "stdout",
     "output_type": "stream",
     "text": [
      "['danaru@mit.edu'] []  has been extracted at iteration  649\n",
      "['ronitt@csail.mit.edu'] ['253-0884']  has been extracted at iteration  649\n"
     ]
    },
    {
     "name": "stderr",
     "output_type": "stream",
     "text": [
      "C:\\Users\\Hamza\\AppData\\Local\\Temp\\ipykernel_11596\\2871599656.py:26: FutureWarning: The frame.append method is deprecated and will be removed from pandas in a future version. Use pandas.concat instead.\n",
      "  df = df.append({'Email': email_current, 'Phone_number': phone_number_current}, ignore_index=True)\n",
      "C:\\Users\\Hamza\\AppData\\Local\\Temp\\ipykernel_11596\\2871599656.py:26: FutureWarning: The frame.append method is deprecated and will be removed from pandas in a future version. Use pandas.concat instead.\n",
      "  df = df.append({'Email': email_current, 'Phone_number': phone_number_current}, ignore_index=True)\n"
     ]
    },
    {
     "name": "stdout",
     "output_type": "stream",
     "text": [
      "['ITTAIR@csail.mit.edu'] []  has been extracted at iteration  649\n",
      "['rus@csail.mit.edu'] ['258-7567']  has been extracted at iteration  649\n"
     ]
    },
    {
     "name": "stderr",
     "output_type": "stream",
     "text": [
      "C:\\Users\\Hamza\\AppData\\Local\\Temp\\ipykernel_11596\\2871599656.py:26: FutureWarning: The frame.append method is deprecated and will be removed from pandas in a future version. Use pandas.concat instead.\n",
      "  df = df.append({'Email': email_current, 'Phone_number': phone_number_current}, ignore_index=True)\n",
      "C:\\Users\\Hamza\\AppData\\Local\\Temp\\ipykernel_11596\\2871599656.py:26: FutureWarning: The frame.append method is deprecated and will be removed from pandas in a future version. Use pandas.concat instead.\n",
      "  df = df.append({'Email': email_current, 'Phone_number': phone_number_current}, ignore_index=True)\n"
     ]
    },
    {
     "name": "stdout",
     "output_type": "stream",
     "text": [
      "['tkrusch@csail.mit.edu'] []  has been extracted at iteration  865\n",
      "['mdrusso@csail.mit.edu'] []  has been extracted at iteration  865\n",
      "['dryu@mit.edu'] []  has been extracted at iteration  865\n"
     ]
    },
    {
     "name": "stderr",
     "output_type": "stream",
     "text": [
      "C:\\Users\\Hamza\\AppData\\Local\\Temp\\ipykernel_11596\\2871599656.py:26: FutureWarning: The frame.append method is deprecated and will be removed from pandas in a future version. Use pandas.concat instead.\n",
      "  df = df.append({'Email': email_current, 'Phone_number': phone_number_current}, ignore_index=True)\n",
      "C:\\Users\\Hamza\\AppData\\Local\\Temp\\ipykernel_11596\\2871599656.py:26: FutureWarning: The frame.append method is deprecated and will be removed from pandas in a future version. Use pandas.concat instead.\n",
      "  df = df.append({'Email': email_current, 'Phone_number': phone_number_current}, ignore_index=True)\n",
      "C:\\Users\\Hamza\\AppData\\Local\\Temp\\ipykernel_11596\\2871599656.py:26: FutureWarning: The frame.append method is deprecated and will be removed from pandas in a future version. Use pandas.concat instead.\n",
      "  df = df.append({'Email': email_current, 'Phone_number': phone_number_current}, ignore_index=True)\n"
     ]
    },
    {
     "name": "stdout",
     "output_type": "stream",
     "text": [
      "['fsaad@csail.mit.edu'] []  has been extracted at iteration  865\n",
      "['shuvom@csail.mit.edu'] []  has been extracted at iteration  865\n",
      "['sachit@mit.edu'] []  has been extracted at iteration  865\n"
     ]
    },
    {
     "name": "stderr",
     "output_type": "stream",
     "text": [
      "C:\\Users\\Hamza\\AppData\\Local\\Temp\\ipykernel_11596\\2871599656.py:26: FutureWarning: The frame.append method is deprecated and will be removed from pandas in a future version. Use pandas.concat instead.\n",
      "  df = df.append({'Email': email_current, 'Phone_number': phone_number_current}, ignore_index=True)\n",
      "C:\\Users\\Hamza\\AppData\\Local\\Temp\\ipykernel_11596\\2871599656.py:26: FutureWarning: The frame.append method is deprecated and will be removed from pandas in a future version. Use pandas.concat instead.\n",
      "  df = df.append({'Email': email_current, 'Phone_number': phone_number_current}, ignore_index=True)\n",
      "C:\\Users\\Hamza\\AppData\\Local\\Temp\\ipykernel_11596\\2871599656.py:26: FutureWarning: The frame.append method is deprecated and will be removed from pandas in a future version. Use pandas.concat instead.\n",
      "  df = df.append({'Email': email_current, 'Phone_number': phone_number_current}, ignore_index=True)\n"
     ]
    },
    {
     "name": "stdout",
     "output_type": "stream",
     "text": [
      "['hady@mit.edu'] []  has been extracted at iteration  865\n",
      "['saltzer@mit.edu'] ['253-6016']  has been extracted at iteration  865\n"
     ]
    },
    {
     "name": "stderr",
     "output_type": "stream",
     "text": [
      "C:\\Users\\Hamza\\AppData\\Local\\Temp\\ipykernel_11596\\2871599656.py:26: FutureWarning: The frame.append method is deprecated and will be removed from pandas in a future version. Use pandas.concat instead.\n",
      "  df = df.append({'Email': email_current, 'Phone_number': phone_number_current}, ignore_index=True)\n",
      "C:\\Users\\Hamza\\AppData\\Local\\Temp\\ipykernel_11596\\2871599656.py:26: FutureWarning: The frame.append method is deprecated and will be removed from pandas in a future version. Use pandas.concat instead.\n",
      "  df = df.append({'Email': email_current, 'Phone_number': phone_number_current}, ignore_index=True)\n"
     ]
    },
    {
     "name": "stdout",
     "output_type": "stream",
     "text": [
      "['nsamar@mit.edu'] []  has been extracted at iteration  865\n",
      "['jsamaroo@mit.edu'] []  has been extracted at iteration  865\n",
      "['sanchez@csail.mit.edu'] ['715-4886']  has been extracted at iteration  865\n"
     ]
    },
    {
     "name": "stderr",
     "output_type": "stream",
     "text": [
      "C:\\Users\\Hamza\\AppData\\Local\\Temp\\ipykernel_11596\\2871599656.py:26: FutureWarning: The frame.append method is deprecated and will be removed from pandas in a future version. Use pandas.concat instead.\n",
      "  df = df.append({'Email': email_current, 'Phone_number': phone_number_current}, ignore_index=True)\n",
      "C:\\Users\\Hamza\\AppData\\Local\\Temp\\ipykernel_11596\\2871599656.py:26: FutureWarning: The frame.append method is deprecated and will be removed from pandas in a future version. Use pandas.concat instead.\n",
      "  df = df.append({'Email': email_current, 'Phone_number': phone_number_current}, ignore_index=True)\n",
      "C:\\Users\\Hamza\\AppData\\Local\\Temp\\ipykernel_11596\\2871599656.py:26: FutureWarning: The frame.append method is deprecated and will be removed from pandas in a future version. Use pandas.concat instead.\n",
      "  df = df.append({'Email': email_current, 'Phone_number': phone_number_current}, ignore_index=True)\n"
     ]
    },
    {
     "name": "stdout",
     "output_type": "stream",
     "text": [
      "['asonar@mit.edu'] []  has been extracted at iteration  865\n",
      "['arunas@csail.mit.edu'] []  has been extracted at iteration  865\n",
      "['saraiev@csail.mit.edu'] []  has been extracted at iteration  865\n"
     ]
    },
    {
     "name": "stderr",
     "output_type": "stream",
     "text": [
      "C:\\Users\\Hamza\\AppData\\Local\\Temp\\ipykernel_11596\\2871599656.py:26: FutureWarning: The frame.append method is deprecated and will be removed from pandas in a future version. Use pandas.concat instead.\n",
      "  df = df.append({'Email': email_current, 'Phone_number': phone_number_current}, ignore_index=True)\n",
      "C:\\Users\\Hamza\\AppData\\Local\\Temp\\ipykernel_11596\\2871599656.py:26: FutureWarning: The frame.append method is deprecated and will be removed from pandas in a future version. Use pandas.concat instead.\n",
      "  df = df.append({'Email': email_current, 'Phone_number': phone_number_current}, ignore_index=True)\n",
      "C:\\Users\\Hamza\\AppData\\Local\\Temp\\ipykernel_11596\\2871599656.py:26: FutureWarning: The frame.append method is deprecated and will be removed from pandas in a future version. Use pandas.concat instead.\n",
      "  df = df.append({'Email': email_current, 'Phone_number': phone_number_current}, ignore_index=True)\n"
     ]
    },
    {
     "name": "stdout",
     "output_type": "stream",
     "text": [
      "['arvindsatya@mit.edu'] []  has been extracted at iteration  865\n",
      "['semyon@csail.mit.edu'] []  has been extracted at iteration  865\n",
      "['shashata@mit.edu'] []  has been extracted at iteration  865\n"
     ]
    },
    {
     "name": "stderr",
     "output_type": "stream",
     "text": [
      "C:\\Users\\Hamza\\AppData\\Local\\Temp\\ipykernel_11596\\2871599656.py:26: FutureWarning: The frame.append method is deprecated and will be removed from pandas in a future version. Use pandas.concat instead.\n",
      "  df = df.append({'Email': email_current, 'Phone_number': phone_number_current}, ignore_index=True)\n",
      "C:\\Users\\Hamza\\AppData\\Local\\Temp\\ipykernel_11596\\2871599656.py:26: FutureWarning: The frame.append method is deprecated and will be removed from pandas in a future version. Use pandas.concat instead.\n",
      "  df = df.append({'Email': email_current, 'Phone_number': phone_number_current}, ignore_index=True)\n",
      "C:\\Users\\Hamza\\AppData\\Local\\Temp\\ipykernel_11596\\2871599656.py:26: FutureWarning: The frame.append method is deprecated and will be removed from pandas in a future version. Use pandas.concat instead.\n",
      "  df = df.append({'Email': email_current, 'Phone_number': phone_number_current}, ignore_index=True)\n"
     ]
    },
    {
     "name": "stdout",
     "output_type": "stream",
     "text": [
      "['scarv@mit.edu'] []  has been extracted at iteration  865\n",
      "['franksch@mit.edu'] []  has been extracted at iteration  865\n",
      "['neboat@csail.mit.edu'] []  has been extracted at iteration  865\n"
     ]
    },
    {
     "name": "stderr",
     "output_type": "stream",
     "text": [
      "C:\\Users\\Hamza\\AppData\\Local\\Temp\\ipykernel_11596\\2871599656.py:26: FutureWarning: The frame.append method is deprecated and will be removed from pandas in a future version. Use pandas.concat instead.\n",
      "  df = df.append({'Email': email_current, 'Phone_number': phone_number_current}, ignore_index=True)\n",
      "C:\\Users\\Hamza\\AppData\\Local\\Temp\\ipykernel_11596\\2871599656.py:26: FutureWarning: The frame.append method is deprecated and will be removed from pandas in a future version. Use pandas.concat instead.\n",
      "  df = df.append({'Email': email_current, 'Phone_number': phone_number_current}, ignore_index=True)\n",
      "C:\\Users\\Hamza\\AppData\\Local\\Temp\\ipykernel_11596\\2871599656.py:26: FutureWarning: The frame.append method is deprecated and will be removed from pandas in a future version. Use pandas.concat instead.\n",
      "  df = df.append({'Email': email_current, 'Phone_number': phone_number_current}, ignore_index=True)\n",
      "C:\\Users\\Hamza\\AppData\\Local\\Temp\\ipykernel_11596\\2871599656.py:26: FutureWarning: The frame.append method is deprecated and will be removed from pandas in a future version. Use pandas.concat instead.\n",
      "  df = df.append({'Email': email_current, 'Phone_number': phone_number_current}, ignore_index=True)\n"
     ]
    },
    {
     "name": "stdout",
     "output_type": "stream",
     "text": [
      "['schaub@mit.edu'] []  has been extracted at iteration  865\n",
      "['amitsch@mit.edu'] []  has been extracted at iteration  865\n"
     ]
    },
    {
     "name": "stderr",
     "output_type": "stream",
     "text": [
      "C:\\Users\\Hamza\\AppData\\Local\\Temp\\ipykernel_11596\\2871599656.py:26: FutureWarning: The frame.append method is deprecated and will be removed from pandas in a future version. Use pandas.concat instead.\n",
      "  df = df.append({'Email': email_current, 'Phone_number': phone_number_current}, ignore_index=True)\n",
      "C:\\Users\\Hamza\\AppData\\Local\\Temp\\ipykernel_11596\\2871599656.py:26: FutureWarning: The frame.append method is deprecated and will be removed from pandas in a future version. Use pandas.concat instead.\n",
      "  df = df.append({'Email': email_current, 'Phone_number': phone_number_current}, ignore_index=True)\n"
     ]
    },
    {
     "name": "stdout",
     "output_type": "stream",
     "text": [
      "['sa25943@mit.edu'] []  has been extracted at iteration  865\n",
      "['schiefer@mit.edu'] []  has been extracted at iteration  865\n"
     ]
    },
    {
     "name": "stderr",
     "output_type": "stream",
     "text": [
      "C:\\Users\\Hamza\\AppData\\Local\\Temp\\ipykernel_11596\\2871599656.py:26: FutureWarning: The frame.append method is deprecated and will be removed from pandas in a future version. Use pandas.concat instead.\n",
      "  df = df.append({'Email': email_current, 'Phone_number': phone_number_current}, ignore_index=True)\n",
      "C:\\Users\\Hamza\\AppData\\Local\\Temp\\ipykernel_11596\\2871599656.py:26: FutureWarning: The frame.append method is deprecated and will be removed from pandas in a future version. Use pandas.concat instead.\n",
      "  df = df.append({'Email': email_current, 'Phone_number': phone_number_current}, ignore_index=True)\n",
      "C:\\Users\\Hamza\\AppData\\Local\\Temp\\ipykernel_11596\\2871599656.py:26: FutureWarning: The frame.append method is deprecated and will be removed from pandas in a future version. Use pandas.concat instead.\n",
      "  df = df.append({'Email': email_current, 'Phone_number': phone_number_current}, ignore_index=True)\n"
     ]
    },
    {
     "name": "stdout",
     "output_type": "stream",
     "text": [
      "['schmauch@csail.mit.edu'] []  has been extracted at iteration  865\n",
      "['martinfs@mit.edu'] []  has been extracted at iteration  865\n",
      "['pschro@csail.mit.edu'] []  has been extracted at iteration  865\n"
     ]
    },
    {
     "name": "stderr",
     "output_type": "stream",
     "text": [
      "C:\\Users\\Hamza\\AppData\\Local\\Temp\\ipykernel_11596\\2871599656.py:26: FutureWarning: The frame.append method is deprecated and will be removed from pandas in a future version. Use pandas.concat instead.\n",
      "  df = df.append({'Email': email_current, 'Phone_number': phone_number_current}, ignore_index=True)\n",
      "C:\\Users\\Hamza\\AppData\\Local\\Temp\\ipykernel_11596\\2871599656.py:26: FutureWarning: The frame.append method is deprecated and will be removed from pandas in a future version. Use pandas.concat instead.\n",
      "  df = df.append({'Email': email_current, 'Phone_number': phone_number_current}, ignore_index=True)\n",
      "C:\\Users\\Hamza\\AppData\\Local\\Temp\\ipykernel_11596\\2871599656.py:26: FutureWarning: The frame.append method is deprecated and will be removed from pandas in a future version. Use pandas.concat instead.\n",
      "  df = df.append({'Email': email_current, 'Phone_number': phone_number_current}, ignore_index=True)\n"
     ]
    },
    {
     "name": "stdout",
     "output_type": "stream",
     "text": [
      "['wilkos@mit.edu'] []  has been extracted at iteration  865\n",
      "['schwett@mit.edu'] []  has been extracted at iteration  865\n",
      "['acscott@mit.edu'] []  has been extracted at iteration  865\n",
      "['nseelam@MIT.EDU'] []  has been extracted at iteration  865\n",
      "['esefah@mit.edu'] []  has been extracted at iteration  865\n"
     ]
    },
    {
     "name": "stderr",
     "output_type": "stream",
     "text": [
      "C:\\Users\\Hamza\\AppData\\Local\\Temp\\ipykernel_11596\\2871599656.py:26: FutureWarning: The frame.append method is deprecated and will be removed from pandas in a future version. Use pandas.concat instead.\n",
      "  df = df.append({'Email': email_current, 'Phone_number': phone_number_current}, ignore_index=True)\n",
      "C:\\Users\\Hamza\\AppData\\Local\\Temp\\ipykernel_11596\\2871599656.py:26: FutureWarning: The frame.append method is deprecated and will be removed from pandas in a future version. Use pandas.concat instead.\n",
      "  df = df.append({'Email': email_current, 'Phone_number': phone_number_current}, ignore_index=True)\n",
      "C:\\Users\\Hamza\\AppData\\Local\\Temp\\ipykernel_11596\\2871599656.py:26: FutureWarning: The frame.append method is deprecated and will be removed from pandas in a future version. Use pandas.concat instead.\n",
      "  df = df.append({'Email': email_current, 'Phone_number': phone_number_current}, ignore_index=True)\n"
     ]
    },
    {
     "name": "stdout",
     "output_type": "stream",
     "text": [
      "['MSEKHAR@csail.mit.edu'] []  has been extracted at iteration  865\n",
      "['bise@mit.edu'] []  has been extracted at iteration  865\n",
      "['seneff@csail.mit.edu'] ['253-0451']  has been extracted at iteration  865\n"
     ]
    },
    {
     "name": "stderr",
     "output_type": "stream",
     "text": [
      "C:\\Users\\Hamza\\AppData\\Local\\Temp\\ipykernel_11596\\2871599656.py:26: FutureWarning: The frame.append method is deprecated and will be removed from pandas in a future version. Use pandas.concat instead.\n",
      "  df = df.append({'Email': email_current, 'Phone_number': phone_number_current}, ignore_index=True)\n",
      "C:\\Users\\Hamza\\AppData\\Local\\Temp\\ipykernel_11596\\2871599656.py:26: FutureWarning: The frame.append method is deprecated and will be removed from pandas in a future version. Use pandas.concat instead.\n",
      "  df = df.append({'Email': email_current, 'Phone_number': phone_number_current}, ignore_index=True)\n",
      "C:\\Users\\Hamza\\AppData\\Local\\Temp\\ipykernel_11596\\2871599656.py:26: FutureWarning: The frame.append method is deprecated and will be removed from pandas in a future version. Use pandas.concat instead.\n",
      "  df = df.append({'Email': email_current, 'Phone_number': phone_number_current}, ignore_index=True)\n"
     ]
    },
    {
     "name": "stdout",
     "output_type": "stream",
     "text": [
      "['elenaser@mit.edu'] []  has been extracted at iteration  865\n",
      "['3s@mit.edu'] []  has been extracted at iteration  865\n",
      "['ticha@MIT.EDU'] []  has been extracted at iteration  865\n"
     ]
    },
    {
     "name": "stderr",
     "output_type": "stream",
     "text": [
      "C:\\Users\\Hamza\\AppData\\Local\\Temp\\ipykernel_11596\\2871599656.py:26: FutureWarning: The frame.append method is deprecated and will be removed from pandas in a future version. Use pandas.concat instead.\n",
      "  df = df.append({'Email': email_current, 'Phone_number': phone_number_current}, ignore_index=True)\n",
      "C:\\Users\\Hamza\\AppData\\Local\\Temp\\ipykernel_11596\\2871599656.py:26: FutureWarning: The frame.append method is deprecated and will be removed from pandas in a future version. Use pandas.concat instead.\n",
      "  df = df.append({'Email': email_current, 'Phone_number': phone_number_current}, ignore_index=True)\n",
      "C:\\Users\\Hamza\\AppData\\Local\\Temp\\ipykernel_11596\\2871599656.py:26: FutureWarning: The frame.append method is deprecated and will be removed from pandas in a future version. Use pandas.concat instead.\n",
      "  df = df.append({'Email': email_current, 'Phone_number': phone_number_current}, ignore_index=True)\n",
      "C:\\Users\\Hamza\\AppData\\Local\\Temp\\ipykernel_11596\\2871599656.py:26: FutureWarning: The frame.append method is deprecated and will be removed from pandas in a future version. Use pandas.concat instead.\n",
      "  df = df.append({'Email': email_current, 'Phone_number': phone_number_current}, ignore_index=True)\n",
      "C:\\Users\\Hamza\\AppData\\Local\\Temp\\ipykernel_11596\\2871599656.py:26: FutureWarning: The frame.append method is deprecated and will be removed from pandas in a future version. Use pandas.concat instead.\n",
      "  df = df.append({'Email': email_current, 'Phone_number': phone_number_current}, ignore_index=True)\n"
     ]
    },
    {
     "name": "stdout",
     "output_type": "stream",
     "text": [
      "['sama@mit.edu'] []  has been extracted at iteration  865\n",
      "['tseyde@mit.edu'] []  has been extracted at iteration  865\n",
      "['SHAFERJO@mit.edu'] []  has been extracted at iteration  865\n"
     ]
    },
    {
     "name": "stderr",
     "output_type": "stream",
     "text": [
      "C:\\Users\\Hamza\\AppData\\Local\\Temp\\ipykernel_11596\\2871599656.py:26: FutureWarning: The frame.append method is deprecated and will be removed from pandas in a future version. Use pandas.concat instead.\n",
      "  df = df.append({'Email': email_current, 'Phone_number': phone_number_current}, ignore_index=True)\n",
      "C:\\Users\\Hamza\\AppData\\Local\\Temp\\ipykernel_11596\\2871599656.py:26: FutureWarning: The frame.append method is deprecated and will be removed from pandas in a future version. Use pandas.concat instead.\n",
      "  df = df.append({'Email': email_current, 'Phone_number': phone_number_current}, ignore_index=True)\n",
      "C:\\Users\\Hamza\\AppData\\Local\\Temp\\ipykernel_11596\\2871599656.py:26: FutureWarning: The frame.append method is deprecated and will be removed from pandas in a future version. Use pandas.concat instead.\n",
      "  df = df.append({'Email': email_current, 'Phone_number': phone_number_current}, ignore_index=True)\n"
     ]
    },
    {
     "name": "stdout",
     "output_type": "stream",
     "text": [
      "['devavrat@mit.edu'] ['253-4670']  has been extracted at iteration  865\n",
      "['harshay@mit.edu'] []  has been extracted at iteration  865\n",
      "['julie_a_shah@csail.mit.edu'] ['324-4879']  has been extracted at iteration  865\n"
     ]
    },
    {
     "name": "stderr",
     "output_type": "stream",
     "text": [
      "C:\\Users\\Hamza\\AppData\\Local\\Temp\\ipykernel_11596\\2871599656.py:26: FutureWarning: The frame.append method is deprecated and will be removed from pandas in a future version. Use pandas.concat instead.\n",
      "  df = df.append({'Email': email_current, 'Phone_number': phone_number_current}, ignore_index=True)\n",
      "C:\\Users\\Hamza\\AppData\\Local\\Temp\\ipykernel_11596\\2871599656.py:26: FutureWarning: The frame.append method is deprecated and will be removed from pandas in a future version. Use pandas.concat instead.\n",
      "  df = df.append({'Email': email_current, 'Phone_number': phone_number_current}, ignore_index=True)\n",
      "C:\\Users\\Hamza\\AppData\\Local\\Temp\\ipykernel_11596\\2871599656.py:26: FutureWarning: The frame.append method is deprecated and will be removed from pandas in a future version. Use pandas.concat instead.\n",
      "  df = df.append({'Email': email_current, 'Phone_number': phone_number_current}, ignore_index=True)\n"
     ]
    },
    {
     "name": "stdout",
     "output_type": "stream",
     "text": [
      "['mshahid@mit.edu'] []  has been extracted at iteration  865\n",
      "['asbiswas@mit.edu'] []  has been extracted at iteration  865\n",
      "['divyas@mit.edu'] []  has been extracted at iteration  865\n"
     ]
    },
    {
     "name": "stderr",
     "output_type": "stream",
     "text": [
      "C:\\Users\\Hamza\\AppData\\Local\\Temp\\ipykernel_11596\\2871599656.py:26: FutureWarning: The frame.append method is deprecated and will be removed from pandas in a future version. Use pandas.concat instead.\n",
      "  df = df.append({'Email': email_current, 'Phone_number': phone_number_current}, ignore_index=True)\n",
      "C:\\Users\\Hamza\\AppData\\Local\\Temp\\ipykernel_11596\\2871599656.py:26: FutureWarning: The frame.append method is deprecated and will be removed from pandas in a future version. Use pandas.concat instead.\n",
      "  df = df.append({'Email': email_current, 'Phone_number': phone_number_current}, ignore_index=True)\n",
      "C:\\Users\\Hamza\\AppData\\Local\\Temp\\ipykernel_11596\\2871599656.py:26: FutureWarning: The frame.append method is deprecated and will be removed from pandas in a future version. Use pandas.concat instead.\n",
      "  df = df.append({'Email': email_current, 'Phone_number': phone_number_current}, ignore_index=True)\n"
     ]
    },
    {
     "name": "stdout",
     "output_type": "stream",
     "text": [
      "['harsha@csail.mit.edu'] []  has been extracted at iteration  865\n",
      "['prafull@mit.edu'] []  has been extracted at iteration  865\n",
      "['pratyuss@mit.edu'] []  has been extracted at iteration  865\n"
     ]
    },
    {
     "name": "stderr",
     "output_type": "stream",
     "text": [
      "C:\\Users\\Hamza\\AppData\\Local\\Temp\\ipykernel_11596\\2871599656.py:26: FutureWarning: The frame.append method is deprecated and will be removed from pandas in a future version. Use pandas.concat instead.\n",
      "  df = df.append({'Email': email_current, 'Phone_number': phone_number_current}, ignore_index=True)\n",
      "C:\\Users\\Hamza\\AppData\\Local\\Temp\\ipykernel_11596\\2871599656.py:26: FutureWarning: The frame.append method is deprecated and will be removed from pandas in a future version. Use pandas.concat instead.\n",
      "  df = df.append({'Email': email_current, 'Phone_number': phone_number_current}, ignore_index=True)\n"
     ]
    },
    {
     "name": "stdout",
     "output_type": "stream",
     "text": [
      "['upamanyu@mit.edu'] []  has been extracted at iteration  865\n",
      "['shanir@csail.mit.edu'] ['324-8440']  has been extracted at iteration  865\n"
     ]
    },
    {
     "name": "stderr",
     "output_type": "stream",
     "text": [
      "C:\\Users\\Hamza\\AppData\\Local\\Temp\\ipykernel_11596\\2871599656.py:26: FutureWarning: The frame.append method is deprecated and will be removed from pandas in a future version. Use pandas.concat instead.\n",
      "  df = df.append({'Email': email_current, 'Phone_number': phone_number_current}, ignore_index=True)\n",
      "C:\\Users\\Hamza\\AppData\\Local\\Temp\\ipykernel_11596\\2871599656.py:26: FutureWarning: The frame.append method is deprecated and will be removed from pandas in a future version. Use pandas.concat instead.\n",
      "  df = df.append({'Email': email_current, 'Phone_number': phone_number_current}, ignore_index=True)\n",
      "C:\\Users\\Hamza\\AppData\\Local\\Temp\\ipykernel_11596\\2871599656.py:26: FutureWarning: The frame.append method is deprecated and will be removed from pandas in a future version. Use pandas.concat instead.\n",
      "  df = df.append({'Email': email_current, 'Phone_number': phone_number_current}, ignore_index=True)\n"
     ]
    },
    {
     "name": "stdout",
     "output_type": "stream",
     "text": [
      "['seijis@mit.edu'] []  has been extracted at iteration  865\n",
      "['shefna@mit.edu'] []  has been extracted at iteration  865\n",
      "['shehadak@mit.edu'] []  has been extracted at iteration  865\n"
     ]
    },
    {
     "name": "stderr",
     "output_type": "stream",
     "text": [
      "C:\\Users\\Hamza\\AppData\\Local\\Temp\\ipykernel_11596\\2871599656.py:26: FutureWarning: The frame.append method is deprecated and will be removed from pandas in a future version. Use pandas.concat instead.\n",
      "  df = df.append({'Email': email_current, 'Phone_number': phone_number_current}, ignore_index=True)\n",
      "C:\\Users\\Hamza\\AppData\\Local\\Temp\\ipykernel_11596\\2871599656.py:26: FutureWarning: The frame.append method is deprecated and will be removed from pandas in a future version. Use pandas.concat instead.\n",
      "  df = df.append({'Email': email_current, 'Phone_number': phone_number_current}, ignore_index=True)\n",
      "C:\\Users\\Hamza\\AppData\\Local\\Temp\\ipykernel_11596\\2871599656.py:26: FutureWarning: The frame.append method is deprecated and will be removed from pandas in a future version. Use pandas.concat instead.\n",
      "  df = df.append({'Email': email_current, 'Phone_number': phone_number_current}, ignore_index=True)\n"
     ]
    },
    {
     "name": "stdout",
     "output_type": "stream",
     "text": [
      "['shab@csail.mit.edu'] []  has been extracted at iteration  865\n",
      "['willshen@mit.edu'] []  has been extracted at iteration  865\n",
      "['shannons@csail.mit.edu'] []  has been extracted at iteration  865\n"
     ]
    },
    {
     "name": "stderr",
     "output_type": "stream",
     "text": [
      "C:\\Users\\Hamza\\AppData\\Local\\Temp\\ipykernel_11596\\2871599656.py:26: FutureWarning: The frame.append method is deprecated and will be removed from pandas in a future version. Use pandas.concat instead.\n",
      "  df = df.append({'Email': email_current, 'Phone_number': phone_number_current}, ignore_index=True)\n",
      "C:\\Users\\Hamza\\AppData\\Local\\Temp\\ipykernel_11596\\2871599656.py:26: FutureWarning: The frame.append method is deprecated and will be removed from pandas in a future version. Use pandas.concat instead.\n",
      "  df = df.append({'Email': email_current, 'Phone_number': phone_number_current}, ignore_index=True)\n",
      "C:\\Users\\Hamza\\AppData\\Local\\Temp\\ipykernel_11596\\2871599656.py:26: FutureWarning: The frame.append method is deprecated and will be removed from pandas in a future version. Use pandas.concat instead.\n",
      "  df = df.append({'Email': email_current, 'Phone_number': phone_number_current}, ignore_index=True)\n"
     ]
    },
    {
     "name": "stdout",
     "output_type": "stream",
     "text": [
      "['idanshen@csail.mit.edu'] []  has been extracted at iteration  865\n",
      "['sshenoy@mit.edu'] []  has been extracted at iteration  865\n",
      "['maxas@csail.mit.edu'] []  has been extracted at iteration  865\n"
     ]
    },
    {
     "name": "stderr",
     "output_type": "stream",
     "text": [
      "C:\\Users\\Hamza\\AppData\\Local\\Temp\\ipykernel_11596\\2871599656.py:26: FutureWarning: The frame.append method is deprecated and will be removed from pandas in a future version. Use pandas.concat instead.\n",
      "  df = df.append({'Email': email_current, 'Phone_number': phone_number_current}, ignore_index=True)\n",
      "C:\\Users\\Hamza\\AppData\\Local\\Temp\\ipykernel_11596\\2871599656.py:26: FutureWarning: The frame.append method is deprecated and will be removed from pandas in a future version. Use pandas.concat instead.\n",
      "  df = df.append({'Email': email_current, 'Phone_number': phone_number_current}, ignore_index=True)\n",
      "C:\\Users\\Hamza\\AppData\\Local\\Temp\\ipykernel_11596\\2871599656.py:26: FutureWarning: The frame.append method is deprecated and will be removed from pandas in a future version. Use pandas.concat instead.\n",
      "  df = df.append({'Email': email_current, 'Phone_number': phone_number_current}, ignore_index=True)\n"
     ]
    },
    {
     "name": "stdout",
     "output_type": "stream",
     "text": [
      "['jeshi@mit.edu'] []  has been extracted at iteration  865\n",
      "['LIANGS@csail.mit.edu'] []  has been extracted at iteration  865\n",
      "['ELEES@csail.mit.edu'] []  has been extracted at iteration  865\n"
     ]
    },
    {
     "name": "stderr",
     "output_type": "stream",
     "text": [
      "C:\\Users\\Hamza\\AppData\\Local\\Temp\\ipykernel_11596\\2871599656.py:26: FutureWarning: The frame.append method is deprecated and will be removed from pandas in a future version. Use pandas.concat instead.\n",
      "  df = df.append({'Email': email_current, 'Phone_number': phone_number_current}, ignore_index=True)\n",
      "C:\\Users\\Hamza\\AppData\\Local\\Temp\\ipykernel_11596\\2871599656.py:26: FutureWarning: The frame.append method is deprecated and will be removed from pandas in a future version. Use pandas.concat instead.\n",
      "  df = df.append({'Email': email_current, 'Phone_number': phone_number_current}, ignore_index=True)\n",
      "C:\\Users\\Hamza\\AppData\\Local\\Temp\\ipykernel_11596\\2871599656.py:26: FutureWarning: The frame.append method is deprecated and will be removed from pandas in a future version. Use pandas.concat instead.\n",
      "  df = df.append({'Email': email_current, 'Phone_number': phone_number_current}, ignore_index=True)\n"
     ]
    },
    {
     "name": "stdout",
     "output_type": "stream",
     "text": [
      "['ashipps@csail.mit.edu'] []  has been extracted at iteration  865\n",
      "['talsd@csail.mit.edu'] []  has been extracted at iteration  865\n",
      "['shor@math.mit.edu'] ['253-1827']  has been extracted at iteration  865\n"
     ]
    },
    {
     "name": "stderr",
     "output_type": "stream",
     "text": [
      "C:\\Users\\Hamza\\AppData\\Local\\Temp\\ipykernel_11596\\2871599656.py:26: FutureWarning: The frame.append method is deprecated and will be removed from pandas in a future version. Use pandas.concat instead.\n",
      "  df = df.append({'Email': email_current, 'Phone_number': phone_number_current}, ignore_index=True)\n",
      "C:\\Users\\Hamza\\AppData\\Local\\Temp\\ipykernel_11596\\2871599656.py:26: FutureWarning: The frame.append method is deprecated and will be removed from pandas in a future version. Use pandas.concat instead.\n",
      "  df = df.append({'Email': email_current, 'Phone_number': phone_number_current}, ignore_index=True)\n",
      "C:\\Users\\Hamza\\AppData\\Local\\Temp\\ipykernel_11596\\2871599656.py:26: FutureWarning: The frame.append method is deprecated and will be removed from pandas in a future version. Use pandas.concat instead.\n",
      "  df = df.append({'Email': email_current, 'Phone_number': phone_number_current}, ignore_index=True)\n"
     ]
    },
    {
     "name": "stdout",
     "output_type": "stream",
     "text": [
      "['hes@csail.mit.edu'] ['253-7877']  has been extracted at iteration  865\n",
      "['jshun@mit.edu'] ['258-0669']  has been extracted at iteration  865\n",
      "['ashyamal@csail.mit.edu'] []  has been extracted at iteration  865\n",
      "['osiegel@mit.edu'] []  has been extracted at iteration  865\n",
      "['tslvr@csail.mit.edu'] []  has been extracted at iteration  865\n"
     ]
    },
    {
     "name": "stderr",
     "output_type": "stream",
     "text": [
      "C:\\Users\\Hamza\\AppData\\Local\\Temp\\ipykernel_11596\\2871599656.py:26: FutureWarning: The frame.append method is deprecated and will be removed from pandas in a future version. Use pandas.concat instead.\n",
      "  df = df.append({'Email': email_current, 'Phone_number': phone_number_current}, ignore_index=True)\n",
      "C:\\Users\\Hamza\\AppData\\Local\\Temp\\ipykernel_11596\\2871599656.py:26: FutureWarning: The frame.append method is deprecated and will be removed from pandas in a future version. Use pandas.concat instead.\n",
      "  df = df.append({'Email': email_current, 'Phone_number': phone_number_current}, ignore_index=True)\n",
      "C:\\Users\\Hamza\\AppData\\Local\\Temp\\ipykernel_11596\\2871599656.py:26: FutureWarning: The frame.append method is deprecated and will be removed from pandas in a future version. Use pandas.concat instead.\n",
      "  df = df.append({'Email': email_current, 'Phone_number': phone_number_current}, ignore_index=True)\n",
      "C:\\Users\\Hamza\\AppData\\Local\\Temp\\ipykernel_11596\\2871599656.py:26: FutureWarning: The frame.append method is deprecated and will be removed from pandas in a future version. Use pandas.concat instead.\n",
      "  df = df.append({'Email': email_current, 'Phone_number': phone_number_current}, ignore_index=True)\n"
     ]
    },
    {
     "name": "stdout",
     "output_type": "stream",
     "text": [
      "['silwal@mit.edu'] []  has been extracted at iteration  865\n",
      "['msimchow@mit.edu'] []  has been extracted at iteration  865\n"
     ]
    },
    {
     "name": "stderr",
     "output_type": "stream",
     "text": [
      "C:\\Users\\Hamza\\AppData\\Local\\Temp\\ipykernel_11596\\2871599656.py:26: FutureWarning: The frame.append method is deprecated and will be removed from pandas in a future version. Use pandas.concat instead.\n",
      "  df = df.append({'Email': email_current, 'Phone_number': phone_number_current}, ignore_index=True)\n",
      "C:\\Users\\Hamza\\AppData\\Local\\Temp\\ipykernel_11596\\2871599656.py:26: FutureWarning: The frame.append method is deprecated and will be removed from pandas in a future version. Use pandas.concat instead.\n",
      "  df = df.append({'Email': email_current, 'Phone_number': phone_number_current}, ignore_index=True)\n"
     ]
    },
    {
     "name": "stdout",
     "output_type": "stream",
     "text": [
      "['msimchow@mit.edu'] []  has been extracted at iteration  865\n",
      "['asimeono@mit.edu'] []  has been extracted at iteration  865\n"
     ]
    },
    {
     "name": "stderr",
     "output_type": "stream",
     "text": [
      "C:\\Users\\Hamza\\AppData\\Local\\Temp\\ipykernel_11596\\2871599656.py:26: FutureWarning: The frame.append method is deprecated and will be removed from pandas in a future version. Use pandas.concat instead.\n",
      "  df = df.append({'Email': email_current, 'Phone_number': phone_number_current}, ignore_index=True)\n",
      "C:\\Users\\Hamza\\AppData\\Local\\Temp\\ipykernel_11596\\2871599656.py:26: FutureWarning: The frame.append method is deprecated and will be removed from pandas in a future version. Use pandas.concat instead.\n",
      "  df = df.append({'Email': email_current, 'Phone_number': phone_number_current}, ignore_index=True)\n",
      "C:\\Users\\Hamza\\AppData\\Local\\Temp\\ipykernel_11596\\2871599656.py:26: FutureWarning: The frame.append method is deprecated and will be removed from pandas in a future version. Use pandas.concat instead.\n",
      "  df = df.append({'Email': email_current, 'Phone_number': phone_number_current}, ignore_index=True)\n"
     ]
    },
    {
     "name": "stdout",
     "output_type": "stream",
     "text": [
      "['simhon@mit.edu'] []  has been extracted at iteration  865\n",
      "['kdsinger@csail.mit.edu'] []  has been extracted at iteration  865\n",
      "['smanish@mit.edu'] []  has been extracted at iteration  865\n"
     ]
    },
    {
     "name": "stderr",
     "output_type": "stream",
     "text": [
      "C:\\Users\\Hamza\\AppData\\Local\\Temp\\ipykernel_11596\\2871599656.py:26: FutureWarning: The frame.append method is deprecated and will be removed from pandas in a future version. Use pandas.concat instead.\n",
      "  df = df.append({'Email': email_current, 'Phone_number': phone_number_current}, ignore_index=True)\n",
      "C:\\Users\\Hamza\\AppData\\Local\\Temp\\ipykernel_11596\\2871599656.py:26: FutureWarning: The frame.append method is deprecated and will be removed from pandas in a future version. Use pandas.concat instead.\n",
      "  df = df.append({'Email': email_current, 'Phone_number': phone_number_current}, ignore_index=True)\n",
      "C:\\Users\\Hamza\\AppData\\Local\\Temp\\ipykernel_11596\\2871599656.py:26: FutureWarning: The frame.append method is deprecated and will be removed from pandas in a future version. Use pandas.concat instead.\n",
      "  df = df.append({'Email': email_current, 'Phone_number': phone_number_current}, ignore_index=True)\n"
     ]
    },
    {
     "name": "stdout",
     "output_type": "stream",
     "text": [
      "['nmsingh@mit.edu'] []  has been extracted at iteration  865\n",
      "['shagun@mit.edu'] []  has been extracted at iteration  865\n",
      "['singhk@csail.mit.edu'] []  has been extracted at iteration  865\n"
     ]
    },
    {
     "name": "stderr",
     "output_type": "stream",
     "text": [
      "C:\\Users\\Hamza\\AppData\\Local\\Temp\\ipykernel_11596\\2871599656.py:26: FutureWarning: The frame.append method is deprecated and will be removed from pandas in a future version. Use pandas.concat instead.\n",
      "  df = df.append({'Email': email_current, 'Phone_number': phone_number_current}, ignore_index=True)\n",
      "C:\\Users\\Hamza\\AppData\\Local\\Temp\\ipykernel_11596\\2871599656.py:26: FutureWarning: The frame.append method is deprecated and will be removed from pandas in a future version. Use pandas.concat instead.\n",
      "  df = df.append({'Email': email_current, 'Phone_number': phone_number_current}, ignore_index=True)\n"
     ]
    },
    {
     "name": "stdout",
     "output_type": "stream",
     "text": [
      "['sipser@MIT.EDU'] ['253-4992']  has been extracted at iteration  865\n",
      "['siswanto@mit.edu'] []  has been extracted at iteration  865\n"
     ]
    },
    {
     "name": "stderr",
     "output_type": "stream",
     "text": [
      "C:\\Users\\Hamza\\AppData\\Local\\Temp\\ipykernel_11596\\2871599656.py:26: FutureWarning: The frame.append method is deprecated and will be removed from pandas in a future version. Use pandas.concat instead.\n",
      "  df = df.append({'Email': email_current, 'Phone_number': phone_number_current}, ignore_index=True)\n",
      "C:\\Users\\Hamza\\AppData\\Local\\Temp\\ipykernel_11596\\2871599656.py:26: FutureWarning: The frame.append method is deprecated and will be removed from pandas in a future version. Use pandas.concat instead.\n",
      "  df = df.append({'Email': email_current, 'Phone_number': phone_number_current}, ignore_index=True)\n"
     ]
    },
    {
     "name": "stdout",
     "output_type": "stream",
     "text": [
      "['ashim@csail.mit.edu'] []  has been extracted at iteration  865\n",
      "['sitzmann@mit.edu'] []  has been extracted at iteration  865\n"
     ]
    },
    {
     "name": "stderr",
     "output_type": "stream",
     "text": [
      "C:\\Users\\Hamza\\AppData\\Local\\Temp\\ipykernel_11596\\2871599656.py:26: FutureWarning: The frame.append method is deprecated and will be removed from pandas in a future version. Use pandas.concat instead.\n",
      "  df = df.append({'Email': email_current, 'Phone_number': phone_number_current}, ignore_index=True)\n",
      "C:\\Users\\Hamza\\AppData\\Local\\Temp\\ipykernel_11596\\2871599656.py:26: FutureWarning: The frame.append method is deprecated and will be removed from pandas in a future version. Use pandas.concat instead.\n",
      "  df = df.append({'Email': email_current, 'Phone_number': phone_number_current}, ignore_index=True)\n"
     ]
    },
    {
     "name": "stdout",
     "output_type": "stream",
     "text": [
      "['vibhaa@mit.edu'] []  has been extracted at iteration  865\n",
      "['PSLAT@csail.mit.edu'] []  has been extracted at iteration  865\n"
     ]
    },
    {
     "name": "stderr",
     "output_type": "stream",
     "text": [
      "C:\\Users\\Hamza\\AppData\\Local\\Temp\\ipykernel_11596\\2871599656.py:26: FutureWarning: The frame.append method is deprecated and will be removed from pandas in a future version. Use pandas.concat instead.\n",
      "  df = df.append({'Email': email_current, 'Phone_number': phone_number_current}, ignore_index=True)\n",
      "C:\\Users\\Hamza\\AppData\\Local\\Temp\\ipykernel_11596\\2871599656.py:26: FutureWarning: The frame.append method is deprecated and will be removed from pandas in a future version. Use pandas.concat instead.\n",
      "  df = df.append({'Email': email_current, 'Phone_number': phone_number_current}, ignore_index=True)\n"
     ]
    },
    {
     "name": "stdout",
     "output_type": "stream",
     "text": [
      "['samsl@csail.mit.edu'] []  has been extracted at iteration  865\n",
      "['asliwiak@mit.edu'] []  has been extracted at iteration  865\n"
     ]
    },
    {
     "name": "stderr",
     "output_type": "stream",
     "text": [
      "C:\\Users\\Hamza\\AppData\\Local\\Temp\\ipykernel_11596\\2871599656.py:26: FutureWarning: The frame.append method is deprecated and will be removed from pandas in a future version. Use pandas.concat instead.\n",
      "  df = df.append({'Email': email_current, 'Phone_number': phone_number_current}, ignore_index=True)\n",
      "C:\\Users\\Hamza\\AppData\\Local\\Temp\\ipykernel_11596\\2871599656.py:26: FutureWarning: The frame.append method is deprecated and will be removed from pandas in a future version. Use pandas.concat instead.\n",
      "  df = df.append({'Email': email_current, 'Phone_number': phone_number_current}, ignore_index=True)\n"
     ]
    },
    {
     "name": "stdout",
     "output_type": "stream",
     "text": [
      "['sslocum3@mit.edu'] []  has been extracted at iteration  865\n",
      "['msobier@mit.edu'] []  has been extracted at iteration  865\n"
     ]
    },
    {
     "name": "stderr",
     "output_type": "stream",
     "text": [
      "C:\\Users\\Hamza\\AppData\\Local\\Temp\\ipykernel_11596\\2871599656.py:26: FutureWarning: The frame.append method is deprecated and will be removed from pandas in a future version. Use pandas.concat instead.\n",
      "  df = df.append({'Email': email_current, 'Phone_number': phone_number_current}, ignore_index=True)\n",
      "C:\\Users\\Hamza\\AppData\\Local\\Temp\\ipykernel_11596\\2871599656.py:26: FutureWarning: The frame.append method is deprecated and will be removed from pandas in a future version. Use pandas.concat instead.\n",
      "  df = df.append({'Email': email_current, 'Phone_number': phone_number_current}, ignore_index=True)\n"
     ]
    },
    {
     "name": "stdout",
     "output_type": "stream",
     "text": [
      "['asolar@csail.mit.edu'] ['258-9727']  has been extracted at iteration  865\n",
      "['nouran@mit.edu'] []  has been extracted at iteration  865\n"
     ]
    },
    {
     "name": "stderr",
     "output_type": "stream",
     "text": [
      "C:\\Users\\Hamza\\AppData\\Local\\Temp\\ipykernel_11596\\2871599656.py:26: FutureWarning: The frame.append method is deprecated and will be removed from pandas in a future version. Use pandas.concat instead.\n",
      "  df = df.append({'Email': email_current, 'Phone_number': phone_number_current}, ignore_index=True)\n",
      "C:\\Users\\Hamza\\AppData\\Local\\Temp\\ipykernel_11596\\2871599656.py:26: FutureWarning: The frame.append method is deprecated and will be removed from pandas in a future version. Use pandas.concat instead.\n",
      "  df = df.append({'Email': email_current, 'Phone_number': phone_number_current}, ignore_index=True)\n"
     ]
    },
    {
     "name": "stdout",
     "output_type": "stream",
     "text": [
      "['sollins@csail.mit.edu'] ['253-6006']  has been extracted at iteration  865\n",
      "['esolo@csail.mit.edu'] []  has been extracted at iteration  865\n"
     ]
    },
    {
     "name": "stderr",
     "output_type": "stream",
     "text": [
      "C:\\Users\\Hamza\\AppData\\Local\\Temp\\ipykernel_11596\\2871599656.py:26: FutureWarning: The frame.append method is deprecated and will be removed from pandas in a future version. Use pandas.concat instead.\n",
      "  df = df.append({'Email': email_current, 'Phone_number': phone_number_current}, ignore_index=True)\n",
      "C:\\Users\\Hamza\\AppData\\Local\\Temp\\ipykernel_11596\\2871599656.py:26: FutureWarning: The frame.append method is deprecated and will be removed from pandas in a future version. Use pandas.concat instead.\n",
      "  df = df.append({'Email': email_current, 'Phone_number': phone_number_current}, ignore_index=True)\n"
     ]
    },
    {
     "name": "stdout",
     "output_type": "stream",
     "text": [
      "['jsolomon@mit.edu'] []  has been extracted at iteration  865\n",
      "['rsonecha@mit.edu'] []  has been extracted at iteration  865\n",
      "['ndsong@csail.mit.edu'] []  has been extracted at iteration  865\n"
     ]
    },
    {
     "name": "stderr",
     "output_type": "stream",
     "text": [
      "C:\\Users\\Hamza\\AppData\\Local\\Temp\\ipykernel_11596\\2871599656.py:26: FutureWarning: The frame.append method is deprecated and will be removed from pandas in a future version. Use pandas.concat instead.\n",
      "  df = df.append({'Email': email_current, 'Phone_number': phone_number_current}, ignore_index=True)\n",
      "C:\\Users\\Hamza\\AppData\\Local\\Temp\\ipykernel_11596\\2871599656.py:26: FutureWarning: The frame.append method is deprecated and will be removed from pandas in a future version. Use pandas.concat instead.\n",
      "  df = df.append({'Email': email_current, 'Phone_number': phone_number_current}, ignore_index=True)\n"
     ]
    },
    {
     "name": "stdout",
     "output_type": "stream",
     "text": [
      "['shixins@mit.edu'] []  has been extracted at iteration  865\n",
      "['tjsong@mit.edu'] []  has been extracted at iteration  865\n"
     ]
    },
    {
     "name": "stderr",
     "output_type": "stream",
     "text": [
      "C:\\Users\\Hamza\\AppData\\Local\\Temp\\ipykernel_11596\\2871599656.py:26: FutureWarning: The frame.append method is deprecated and will be removed from pandas in a future version. Use pandas.concat instead.\n",
      "  df = df.append({'Email': email_current, 'Phone_number': phone_number_current}, ignore_index=True)\n",
      "C:\\Users\\Hamza\\AppData\\Local\\Temp\\ipykernel_11596\\2871599656.py:26: FutureWarning: The frame.append method is deprecated and will be removed from pandas in a future version. Use pandas.concat instead.\n",
      "  df = df.append({'Email': email_current, 'Phone_number': phone_number_current}, ignore_index=True)\n"
     ]
    },
    {
     "name": "stdout",
     "output_type": "stream",
     "text": [
      "['SUG@csail.mit.edu'] []  has been extracted at iteration  865\n",
      "['prajna@mit.edu'] []  has been extracted at iteration  865\n"
     ]
    },
    {
     "name": "stderr",
     "output_type": "stream",
     "text": [
      "C:\\Users\\Hamza\\AppData\\Local\\Temp\\ipykernel_11596\\2871599656.py:26: FutureWarning: The frame.append method is deprecated and will be removed from pandas in a future version. Use pandas.concat instead.\n",
      "  df = df.append({'Email': email_current, 'Phone_number': phone_number_current}, ignore_index=True)\n",
      "C:\\Users\\Hamza\\AppData\\Local\\Temp\\ipykernel_11596\\2871599656.py:26: FutureWarning: The frame.append method is deprecated and will be removed from pandas in a future version. Use pandas.concat instead.\n",
      "  df = df.append({'Email': email_current, 'Phone_number': phone_number_current}, ignore_index=True)\n"
     ]
    },
    {
     "name": "stdout",
     "output_type": "stream",
     "text": [
      "['dsontag@csail.mit.edu'] []  has been extracted at iteration  865\n",
      "['bsoria@mit.edu'] []  has been extracted at iteration  865\n"
     ]
    },
    {
     "name": "stderr",
     "output_type": "stream",
     "text": [
      "C:\\Users\\Hamza\\AppData\\Local\\Temp\\ipykernel_11596\\2871599656.py:26: FutureWarning: The frame.append method is deprecated and will be removed from pandas in a future version. Use pandas.concat instead.\n",
      "  df = df.append({'Email': email_current, 'Phone_number': phone_number_current}, ignore_index=True)\n",
      "C:\\Users\\Hamza\\AppData\\Local\\Temp\\ipykernel_11596\\2871599656.py:26: FutureWarning: The frame.append method is deprecated and will be removed from pandas in a future version. Use pandas.concat instead.\n",
      "  df = df.append({'Email': email_current, 'Phone_number': phone_number_current}, ignore_index=True)\n"
     ]
    },
    {
     "name": "stdout",
     "output_type": "stream",
     "text": [
      "['amspears@mit.edu'] []  has been extracted at iteration  865\n",
      "['aespielb@MIT.EDU'] []  has been extracted at iteration  865\n"
     ]
    },
    {
     "name": "stderr",
     "output_type": "stream",
     "text": [
      "C:\\Users\\Hamza\\AppData\\Local\\Temp\\ipykernel_11596\\2871599656.py:26: FutureWarning: The frame.append method is deprecated and will be removed from pandas in a future version. Use pandas.concat instead.\n",
      "  df = df.append({'Email': email_current, 'Phone_number': phone_number_current}, ignore_index=True)\n",
      "C:\\Users\\Hamza\\AppData\\Local\\Temp\\ipykernel_11596\\2871599656.py:26: FutureWarning: The frame.append method is deprecated and will be removed from pandas in a future version. Use pandas.concat instead.\n",
      "  df = df.append({'Email': email_current, 'Phone_number': phone_number_current}, ignore_index=True)\n"
     ]
    },
    {
     "name": "stdout",
     "output_type": "stream",
     "text": [
      "['spino@mit.edu'] []  has been extracted at iteration  865\n",
      "['spiridea@csail.mit.edu'] []  has been extracted at iteration  865\n"
     ]
    },
    {
     "name": "stderr",
     "output_type": "stream",
     "text": [
      "C:\\Users\\Hamza\\AppData\\Local\\Temp\\ipykernel_11596\\2871599656.py:26: FutureWarning: The frame.append method is deprecated and will be removed from pandas in a future version. Use pandas.concat instead.\n",
      "  df = df.append({'Email': email_current, 'Phone_number': phone_number_current}, ignore_index=True)\n",
      "C:\\Users\\Hamza\\AppData\\Local\\Temp\\ipykernel_11596\\2871599656.py:26: FutureWarning: The frame.append method is deprecated and will be removed from pandas in a future version. Use pandas.concat instead.\n",
      "  df = df.append({'Email': email_current, 'Phone_number': phone_number_current}, ignore_index=True)\n",
      "C:\\Users\\Hamza\\AppData\\Local\\Temp\\ipykernel_11596\\2871599656.py:26: FutureWarning: The frame.append method is deprecated and will be removed from pandas in a future version. Use pandas.concat instead.\n",
      "  df = df.append({'Email': email_current, 'Phone_number': phone_number_current}, ignore_index=True)\n"
     ]
    },
    {
     "name": "stdout",
     "output_type": "stream",
     "text": [
      "['csquires@MIT.EDU'] []  has been extracted at iteration  865\n",
      "['mayuri@mit.edu'] []  has been extracted at iteration  865\n"
     ]
    },
    {
     "name": "stderr",
     "output_type": "stream",
     "text": [
      "C:\\Users\\Hamza\\AppData\\Local\\Temp\\ipykernel_11596\\2871599656.py:26: FutureWarning: The frame.append method is deprecated and will be removed from pandas in a future version. Use pandas.concat instead.\n",
      "  df = df.append({'Email': email_current, 'Phone_number': phone_number_current}, ignore_index=True)\n",
      "C:\\Users\\Hamza\\AppData\\Local\\Temp\\ipykernel_11596\\2871599656.py:26: FutureWarning: The frame.append method is deprecated and will be removed from pandas in a future version. Use pandas.concat instead.\n",
      "  df = df.append({'Email': email_current, 'Phone_number': phone_number_current}, ignore_index=True)\n"
     ]
    },
    {
     "name": "stdout",
     "output_type": "stream",
     "text": [
      "['shash@mit.edu'] []  has been extracted at iteration  865\n",
      "['surajs@mit.edu'] []  has been extracted at iteration  865\n"
     ]
    },
    {
     "name": "stderr",
     "output_type": "stream",
     "text": [
      "C:\\Users\\Hamza\\AppData\\Local\\Temp\\ipykernel_11596\\2871599656.py:26: FutureWarning: The frame.append method is deprecated and will be removed from pandas in a future version. Use pandas.concat instead.\n",
      "  df = df.append({'Email': email_current, 'Phone_number': phone_number_current}, ignore_index=True)\n",
      "C:\\Users\\Hamza\\AppData\\Local\\Temp\\ipykernel_11596\\2871599656.py:26: FutureWarning: The frame.append method is deprecated and will be removed from pandas in a future version. Use pandas.concat instead.\n",
      "  df = df.append({'Email': email_current, 'Phone_number': phone_number_current}, ignore_index=True)\n"
     ]
    },
    {
     "name": "stdout",
     "output_type": "stream",
     "text": [
      "['akashsri@mit.edu'] []  has been extracted at iteration  865\n",
      "['mstadler@csail.mit.edu'] []  has been extracted at iteration  865\n"
     ]
    },
    {
     "name": "stderr",
     "output_type": "stream",
     "text": [
      "C:\\Users\\Hamza\\AppData\\Local\\Temp\\ipykernel_11596\\2871599656.py:26: FutureWarning: The frame.append method is deprecated and will be removed from pandas in a future version. Use pandas.concat instead.\n",
      "  df = df.append({'Email': email_current, 'Phone_number': phone_number_current}, ignore_index=True)\n",
      "C:\\Users\\Hamza\\AppData\\Local\\Temp\\ipykernel_11596\\2871599656.py:26: FutureWarning: The frame.append method is deprecated and will be removed from pandas in a future version. Use pandas.concat instead.\n",
      "  df = df.append({'Email': email_current, 'Phone_number': phone_number_current}, ignore_index=True)\n"
     ]
    },
    {
     "name": "stdout",
     "output_type": "stream",
     "text": [
      "['hstark@mit.edu'] []  has been extracted at iteration  865\n",
      "['BSTEEDLY@csail.mit.edu'] []  has been extracted at iteration  865\n"
     ]
    },
    {
     "name": "stderr",
     "output_type": "stream",
     "text": [
      "C:\\Users\\Hamza\\AppData\\Local\\Temp\\ipykernel_11596\\2871599656.py:26: FutureWarning: The frame.append method is deprecated and will be removed from pandas in a future version. Use pandas.concat instead.\n",
      "  df = df.append({'Email': email_current, 'Phone_number': phone_number_current}, ignore_index=True)\n",
      "C:\\Users\\Hamza\\AppData\\Local\\Temp\\ipykernel_11596\\2871599656.py:26: FutureWarning: The frame.append method is deprecated and will be removed from pandas in a future version. Use pandas.concat instead.\n",
      "  df = df.append({'Email': email_current, 'Phone_number': phone_number_current}, ignore_index=True)\n"
     ]
    },
    {
     "name": "stdout",
     "output_type": "stream",
     "text": [
      "['jssteele@csail.mit.edu'] []  has been extracted at iteration  865\n",
      "['stonebraker@csail.mit.edu'] ['253-3538']  has been extracted at iteration  865\n"
     ]
    },
    {
     "name": "stderr",
     "output_type": "stream",
     "text": [
      "C:\\Users\\Hamza\\AppData\\Local\\Temp\\ipykernel_11596\\2871599656.py:26: FutureWarning: The frame.append method is deprecated and will be removed from pandas in a future version. Use pandas.concat instead.\n",
      "  df = df.append({'Email': email_current, 'Phone_number': phone_number_current}, ignore_index=True)\n",
      "C:\\Users\\Hamza\\AppData\\Local\\Temp\\ipykernel_11596\\2871599656.py:26: FutureWarning: The frame.append method is deprecated and will be removed from pandas in a future version. Use pandas.concat instead.\n",
      "  df = df.append({'Email': email_current, 'Phone_number': phone_number_current}, ignore_index=True)\n"
     ]
    },
    {
     "name": "stdout",
     "output_type": "stream",
     "text": [
      "['istruck@csail.mit.edu'] []  has been extracted at iteration  865\n",
      "['cmstultz@csail.mit.edu'] []  has been extracted at iteration  865\n"
     ]
    },
    {
     "name": "stderr",
     "output_type": "stream",
     "text": [
      "C:\\Users\\Hamza\\AppData\\Local\\Temp\\ipykernel_11596\\2871599656.py:26: FutureWarning: The frame.append method is deprecated and will be removed from pandas in a future version. Use pandas.concat instead.\n",
      "  df = df.append({'Email': email_current, 'Phone_number': phone_number_current}, ignore_index=True)\n",
      "C:\\Users\\Hamza\\AppData\\Local\\Temp\\ipykernel_11596\\2871599656.py:26: FutureWarning: The frame.append method is deprecated and will be removed from pandas in a future version. Use pandas.concat instead.\n",
      "  df = df.append({'Email': email_current, 'Phone_number': phone_number_current}, ignore_index=True)\n"
     ]
    },
    {
     "name": "stdout",
     "output_type": "stream",
     "text": [
      "['jocelin@mit.edu'] []  has been extracted at iteration  865\n",
      "['jsuarez@mit.edu'] []  has been extracted at iteration  865\n"
     ]
    },
    {
     "name": "stderr",
     "output_type": "stream",
     "text": [
      "C:\\Users\\Hamza\\AppData\\Local\\Temp\\ipykernel_11596\\2871599656.py:26: FutureWarning: The frame.append method is deprecated and will be removed from pandas in a future version. Use pandas.concat instead.\n",
      "  df = df.append({'Email': email_current, 'Phone_number': phone_number_current}, ignore_index=True)\n",
      "C:\\Users\\Hamza\\AppData\\Local\\Temp\\ipykernel_11596\\2871599656.py:26: FutureWarning: The frame.append method is deprecated and will be removed from pandas in a future version. Use pandas.concat instead.\n",
      "  df = df.append({'Email': email_current, 'Phone_number': phone_number_current}, ignore_index=True)\n"
     ]
    },
    {
     "name": "stdout",
     "output_type": "stream",
     "text": [
      "['vsub851@mit.edu'] []  has been extracted at iteration  865\n",
      "['siva@csail.mit.edu'] []  has been extracted at iteration  865\n"
     ]
    },
    {
     "name": "stderr",
     "output_type": "stream",
     "text": [
      "C:\\Users\\Hamza\\AppData\\Local\\Temp\\ipykernel_11596\\2871599656.py:26: FutureWarning: The frame.append method is deprecated and will be removed from pandas in a future version. Use pandas.concat instead.\n",
      "  df = df.append({'Email': email_current, 'Phone_number': phone_number_current}, ignore_index=True)\n",
      "C:\\Users\\Hamza\\AppData\\Local\\Temp\\ipykernel_11596\\2871599656.py:26: FutureWarning: The frame.append method is deprecated and will be removed from pandas in a future version. Use pandas.concat instead.\n",
      "  df = df.append({'Email': email_current, 'Phone_number': phone_number_current}, ignore_index=True)\n"
     ]
    },
    {
     "name": "stdout",
     "output_type": "stream",
     "text": [
      "['hjsuh@mit.edu'] []  has been extracted at iteration  865\n",
      "['mmsun@mit.edu'] []  has been extracted at iteration  865\n"
     ]
    },
    {
     "name": "stderr",
     "output_type": "stream",
     "text": [
      "C:\\Users\\Hamza\\AppData\\Local\\Temp\\ipykernel_11596\\2871599656.py:26: FutureWarning: The frame.append method is deprecated and will be removed from pandas in a future version. Use pandas.concat instead.\n",
      "  df = df.append({'Email': email_current, 'Phone_number': phone_number_current}, ignore_index=True)\n",
      "C:\\Users\\Hamza\\AppData\\Local\\Temp\\ipykernel_11596\\2871599656.py:26: FutureWarning: The frame.append method is deprecated and will be removed from pandas in a future version. Use pandas.concat instead.\n",
      "  df = df.append({'Email': email_current, 'Phone_number': phone_number_current}, ignore_index=True)\n"
     ]
    },
    {
     "name": "stdout",
     "output_type": "stream",
     "text": [
      "['msun415@mit.edu'] []  has been extracted at iteration  865\n",
      "['nsun@csail.mit.edu'] []  has been extracted at iteration  865\n"
     ]
    },
    {
     "name": "stderr",
     "output_type": "stream",
     "text": [
      "C:\\Users\\Hamza\\AppData\\Local\\Temp\\ipykernel_11596\\2871599656.py:26: FutureWarning: The frame.append method is deprecated and will be removed from pandas in a future version. Use pandas.concat instead.\n",
      "  df = df.append({'Email': email_current, 'Phone_number': phone_number_current}, ignore_index=True)\n",
      "C:\\Users\\Hamza\\AppData\\Local\\Temp\\ipykernel_11596\\2871599656.py:26: FutureWarning: The frame.append method is deprecated and will be removed from pandas in a future version. Use pandas.concat instead.\n",
      "  df = df.append({'Email': email_current, 'Phone_number': phone_number_current}, ignore_index=True)\n"
     ]
    },
    {
     "name": "stdout",
     "output_type": "stream",
     "text": [
      "['shobhita@csail.mit.edu'] []  has been extracted at iteration  865\n",
      "['yenasung@csail.mit.edu'] []  has been extracted at iteration  865\n"
     ]
    },
    {
     "name": "stderr",
     "output_type": "stream",
     "text": [
      "C:\\Users\\Hamza\\AppData\\Local\\Temp\\ipykernel_11596\\2871599656.py:26: FutureWarning: The frame.append method is deprecated and will be removed from pandas in a future version. Use pandas.concat instead.\n",
      "  df = df.append({'Email': email_current, 'Phone_number': phone_number_current}, ignore_index=True)\n",
      "C:\\Users\\Hamza\\AppData\\Local\\Temp\\ipykernel_11596\\2871599656.py:26: FutureWarning: The frame.append method is deprecated and will be removed from pandas in a future version. Use pandas.concat instead.\n",
      "  df = df.append({'Email': email_current, 'Phone_number': phone_number_current}, ignore_index=True)\n"
     ]
    },
    {
     "name": "stdout",
     "output_type": "stream",
     "text": [
      "['vinithms@mit.edu'] []  has been extracted at iteration  865\n",
      "['gjs@csail.mit.edu'] ['253-5874']  has been extracted at iteration  865\n",
      "['wsussman@mit.edu'] []  has been extracted at iteration  865\n"
     ]
    },
    {
     "name": "stderr",
     "output_type": "stream",
     "text": [
      "C:\\Users\\Hamza\\AppData\\Local\\Temp\\ipykernel_11596\\2871599656.py:26: FutureWarning: The frame.append method is deprecated and will be removed from pandas in a future version. Use pandas.concat instead.\n",
      "  df = df.append({'Email': email_current, 'Phone_number': phone_number_current}, ignore_index=True)\n",
      "C:\\Users\\Hamza\\AppData\\Local\\Temp\\ipykernel_11596\\2871599656.py:26: FutureWarning: The frame.append method is deprecated and will be removed from pandas in a future version. Use pandas.concat instead.\n",
      "  df = df.append({'Email': email_current, 'Phone_number': phone_number_current}, ignore_index=True)\n"
     ]
    },
    {
     "name": "stdout",
     "output_type": "stream",
     "text": [
      "['svanberg@mit.edu'] []  has been extracted at iteration  865\n",
      "['shswami@mit.edu'] []  has been extracted at iteration  865\n"
     ]
    },
    {
     "name": "stderr",
     "output_type": "stream",
     "text": [
      "C:\\Users\\Hamza\\AppData\\Local\\Temp\\ipykernel_11596\\2871599656.py:26: FutureWarning: The frame.append method is deprecated and will be removed from pandas in a future version. Use pandas.concat instead.\n",
      "  df = df.append({'Email': email_current, 'Phone_number': phone_number_current}, ignore_index=True)\n",
      "C:\\Users\\Hamza\\AppData\\Local\\Temp\\ipykernel_11596\\2871599656.py:26: FutureWarning: The frame.append method is deprecated and will be removed from pandas in a future version. Use pandas.concat instead.\n",
      "  df = df.append({'Email': email_current, 'Phone_number': phone_number_current}, ignore_index=True)\n"
     ]
    },
    {
     "name": "stdout",
     "output_type": "stream",
     "text": [
      "['sze@mit.edu'] ['324-7352']  has been extracted at iteration  865\n",
      "['arielck@mit.edu'] []  has been extracted at iteration  865\n"
     ]
    },
    {
     "name": "stderr",
     "output_type": "stream",
     "text": [
      "C:\\Users\\Hamza\\AppData\\Local\\Temp\\ipykernel_11596\\2871599656.py:26: FutureWarning: The frame.append method is deprecated and will be removed from pandas in a future version. Use pandas.concat instead.\n",
      "  df = df.append({'Email': email_current, 'Phone_number': phone_number_current}, ignore_index=True)\n",
      "C:\\Users\\Hamza\\AppData\\Local\\Temp\\ipykernel_11596\\2871599656.py:26: FutureWarning: The frame.append method is deprecated and will be removed from pandas in a future version. Use pandas.concat instead.\n",
      "  df = df.append({'Email': email_current, 'Phone_number': phone_number_current}, ignore_index=True)\n"
     ]
    },
    {
     "name": "stdout",
     "output_type": "stream",
     "text": [
      "['psz@mit.edu'] ['253-3476']  has been extracted at iteration  865\n",
      "['weontaek@mit.edu'] []  has been extracted at iteration  865\n"
     ]
    },
    {
     "name": "stderr",
     "output_type": "stream",
     "text": [
      "C:\\Users\\Hamza\\AppData\\Local\\Temp\\ipykernel_11596\\2871599656.py:26: FutureWarning: The frame.append method is deprecated and will be removed from pandas in a future version. Use pandas.concat instead.\n",
      "  df = df.append({'Email': email_current, 'Phone_number': phone_number_current}, ignore_index=True)\n",
      "C:\\Users\\Hamza\\AppData\\Local\\Temp\\ipykernel_11596\\2871599656.py:26: FutureWarning: The frame.append method is deprecated and will be removed from pandas in a future version. Use pandas.concat instead.\n",
      "  df = df.append({'Email': email_current, 'Phone_number': phone_number_current}, ignore_index=True)\n"
     ]
    },
    {
     "name": "stdout",
     "output_type": "stream",
     "text": [
      "['bzt@mit.edu'] []  has been extracted at iteration  865\n",
      "['altam@mit.edu'] []  has been extracted at iteration  865\n"
     ]
    },
    {
     "name": "stderr",
     "output_type": "stream",
     "text": [
      "C:\\Users\\Hamza\\AppData\\Local\\Temp\\ipykernel_11596\\2871599656.py:26: FutureWarning: The frame.append method is deprecated and will be removed from pandas in a future version. Use pandas.concat instead.\n",
      "  df = df.append({'Email': email_current, 'Phone_number': phone_number_current}, ignore_index=True)\n",
      "C:\\Users\\Hamza\\AppData\\Local\\Temp\\ipykernel_11596\\2871599656.py:26: FutureWarning: The frame.append method is deprecated and will be removed from pandas in a future version. Use pandas.concat instead.\n",
      "  df = df.append({'Email': email_current, 'Phone_number': phone_number_current}, ignore_index=True)\n"
     ]
    },
    {
     "name": "stdout",
     "output_type": "stream",
     "text": [
      "['songchen@mit.edu'] []  has been extracted at iteration  865\n",
      "['benjtang@csail.mit.edu'] []  has been extracted at iteration  865\n"
     ]
    },
    {
     "name": "stderr",
     "output_type": "stream",
     "text": [
      "C:\\Users\\Hamza\\AppData\\Local\\Temp\\ipykernel_11596\\2871599656.py:26: FutureWarning: The frame.append method is deprecated and will be removed from pandas in a future version. Use pandas.concat instead.\n",
      "  df = df.append({'Email': email_current, 'Phone_number': phone_number_current}, ignore_index=True)\n",
      "C:\\Users\\Hamza\\AppData\\Local\\Temp\\ipykernel_11596\\2871599656.py:26: FutureWarning: The frame.append method is deprecated and will be removed from pandas in a future version. Use pandas.concat instead.\n",
      "  df = df.append({'Email': email_current, 'Phone_number': phone_number_current}, ignore_index=True)\n"
     ]
    },
    {
     "name": "stdout",
     "output_type": "stream",
     "text": [
      "['gtangg12@mit.edu'] []  has been extracted at iteration  865\n",
      "['ktangri@MIT.EDU'] []  has been extracted at iteration  865\n",
      "['tanigawa@csail.mit.edu'] []  has been extracted at iteration  865\n"
     ]
    },
    {
     "name": "stderr",
     "output_type": "stream",
     "text": [
      "C:\\Users\\Hamza\\AppData\\Local\\Temp\\ipykernel_11596\\2871599656.py:26: FutureWarning: The frame.append method is deprecated and will be removed from pandas in a future version. Use pandas.concat instead.\n",
      "  df = df.append({'Email': email_current, 'Phone_number': phone_number_current}, ignore_index=True)\n",
      "C:\\Users\\Hamza\\AppData\\Local\\Temp\\ipykernel_11596\\2871599656.py:26: FutureWarning: The frame.append method is deprecated and will be removed from pandas in a future version. Use pandas.concat instead.\n",
      "  df = df.append({'Email': email_current, 'Phone_number': phone_number_current}, ignore_index=True)\n",
      "C:\\Users\\Hamza\\AppData\\Local\\Temp\\ipykernel_11596\\2871599656.py:26: FutureWarning: The frame.append method is deprecated and will be removed from pandas in a future version. Use pandas.concat instead.\n",
      "  df = df.append({'Email': email_current, 'Phone_number': phone_number_current}, ignore_index=True)\n"
     ]
    },
    {
     "name": "stdout",
     "output_type": "stream",
     "text": [
      "['ihtaylor@mit.edu'] []  has been extracted at iteration  865\n",
      "['russt@csail.mit.edu'] ['253-1778']  has been extracted at iteration  865\n",
      "['tejwanir@mit.edu'] []  has been extracted at iteration  865\n"
     ]
    },
    {
     "name": "stderr",
     "output_type": "stream",
     "text": [
      "C:\\Users\\Hamza\\AppData\\Local\\Temp\\ipykernel_11596\\2871599656.py:26: FutureWarning: The frame.append method is deprecated and will be removed from pandas in a future version. Use pandas.concat instead.\n",
      "  df = df.append({'Email': email_current, 'Phone_number': phone_number_current}, ignore_index=True)\n",
      "C:\\Users\\Hamza\\AppData\\Local\\Temp\\ipykernel_11596\\2871599656.py:26: FutureWarning: The frame.append method is deprecated and will be removed from pandas in a future version. Use pandas.concat instead.\n",
      "  df = df.append({'Email': email_current, 'Phone_number': phone_number_current}, ignore_index=True)\n",
      "C:\\Users\\Hamza\\AppData\\Local\\Temp\\ipykernel_11596\\2871599656.py:26: FutureWarning: The frame.append method is deprecated and will be removed from pandas in a future version. Use pandas.concat instead.\n",
      "  df = df.append({'Email': email_current, 'Phone_number': phone_number_current}, ignore_index=True)\n"
     ]
    },
    {
     "name": "stdout",
     "output_type": "stream",
     "text": [
      "['jbt@csail.mit.edu'] ['452-2010']  has been extracted at iteration  865\n",
      "['itenison@mit.edu'] []  has been extracted at iteration  865\n",
      "['samtenka@mit.edu'] []  has been extracted at iteration  865\n"
     ]
    },
    {
     "name": "stderr",
     "output_type": "stream",
     "text": [
      "C:\\Users\\Hamza\\AppData\\Local\\Temp\\ipykernel_11596\\2871599656.py:26: FutureWarning: The frame.append method is deprecated and will be removed from pandas in a future version. Use pandas.concat instead.\n",
      "  df = df.append({'Email': email_current, 'Phone_number': phone_number_current}, ignore_index=True)\n",
      "C:\\Users\\Hamza\\AppData\\Local\\Temp\\ipykernel_11596\\2871599656.py:26: FutureWarning: The frame.append method is deprecated and will be removed from pandas in a future version. Use pandas.concat instead.\n",
      "  df = df.append({'Email': email_current, 'Phone_number': phone_number_current}, ignore_index=True)\n",
      "C:\\Users\\Hamza\\AppData\\Local\\Temp\\ipykernel_11596\\2871599656.py:26: FutureWarning: The frame.append method is deprecated and will be removed from pandas in a future version. Use pandas.concat instead.\n",
      "  df = df.append({'Email': email_current, 'Phone_number': phone_number_current}, ignore_index=True)\n"
     ]
    },
    {
     "name": "stdout",
     "output_type": "stream",
     "text": [
      "['teran@mit.edu'] []  has been extracted at iteration  865\n",
      "['cjt@mit.edu'] ['253-6038']  has been extracted at iteration  865\n"
     ]
    },
    {
     "name": "stderr",
     "output_type": "stream",
     "text": [
      "C:\\Users\\Hamza\\AppData\\Local\\Temp\\ipykernel_11596\\2871599656.py:26: FutureWarning: The frame.append method is deprecated and will be removed from pandas in a future version. Use pandas.concat instead.\n",
      "  df = df.append({'Email': email_current, 'Phone_number': phone_number_current}, ignore_index=True)\n",
      "C:\\Users\\Hamza\\AppData\\Local\\Temp\\ipykernel_11596\\2871599656.py:26: FutureWarning: The frame.append method is deprecated and will be removed from pandas in a future version. Use pandas.concat instead.\n",
      "  df = df.append({'Email': email_current, 'Phone_number': phone_number_current}, ignore_index=True)\n"
     ]
    },
    {
     "name": "stdout",
     "output_type": "stream",
     "text": [
      "['AYUSHD@MIT.EDU'] []  has been extracted at iteration  865\n",
      "['stezel@csail.mit.edu'] []  has been extracted at iteration  865\n",
      "['neil_t@mit.edu'] ['258-5030']  has been extracted at iteration  865\n"
     ]
    },
    {
     "name": "stderr",
     "output_type": "stream",
     "text": [
      "C:\\Users\\Hamza\\AppData\\Local\\Temp\\ipykernel_11596\\2871599656.py:26: FutureWarning: The frame.append method is deprecated and will be removed from pandas in a future version. Use pandas.concat instead.\n",
      "  df = df.append({'Email': email_current, 'Phone_number': phone_number_current}, ignore_index=True)\n",
      "C:\\Users\\Hamza\\AppData\\Local\\Temp\\ipykernel_11596\\2871599656.py:26: FutureWarning: The frame.append method is deprecated and will be removed from pandas in a future version. Use pandas.concat instead.\n",
      "  df = df.append({'Email': email_current, 'Phone_number': phone_number_current}, ignore_index=True)\n",
      "C:\\Users\\Hamza\\AppData\\Local\\Temp\\ipykernel_11596\\2871599656.py:26: FutureWarning: The frame.append method is deprecated and will be removed from pandas in a future version. Use pandas.concat instead.\n",
      "  df = df.append({'Email': email_current, 'Phone_number': phone_number_current}, ignore_index=True)\n"
     ]
    },
    {
     "name": "stdout",
     "output_type": "stream",
     "text": [
      "['yonglong@mit.edu'] []  has been extracted at iteration  865\n",
      "['yunsheng@mit.edu'] []  has been extracted at iteration  865\n",
      "['tidor@mit.edu'] ['253-7258']  has been extracted at iteration  865\n"
     ]
    },
    {
     "name": "stderr",
     "output_type": "stream",
     "text": [
      "C:\\Users\\Hamza\\AppData\\Local\\Temp\\ipykernel_11596\\2871599656.py:26: FutureWarning: The frame.append method is deprecated and will be removed from pandas in a future version. Use pandas.concat instead.\n",
      "  df = df.append({'Email': email_current, 'Phone_number': phone_number_current}, ignore_index=True)\n",
      "C:\\Users\\Hamza\\AppData\\Local\\Temp\\ipykernel_11596\\2871599656.py:26: FutureWarning: The frame.append method is deprecated and will be removed from pandas in a future version. Use pandas.concat instead.\n",
      "  df = df.append({'Email': email_current, 'Phone_number': phone_number_current}, ignore_index=True)\n",
      "C:\\Users\\Hamza\\AppData\\Local\\Temp\\ipykernel_11596\\2871599656.py:26: FutureWarning: The frame.append method is deprecated and will be removed from pandas in a future version. Use pandas.concat instead.\n",
      "  df = df.append({'Email': email_current, 'Phone_number': phone_number_current}, ignore_index=True)\n"
     ]
    },
    {
     "name": "stdout",
     "output_type": "stream",
     "text": [
      "['etimmons@mit.edu'] []  has been extracted at iteration  865\n",
      "['mhtippur@MIT.EDU'] []  has been extracted at iteration  865\n",
      "['megantj@csail.mit.edu'] []  has been extracted at iteration  865\n"
     ]
    },
    {
     "name": "stderr",
     "output_type": "stream",
     "text": [
      "C:\\Users\\Hamza\\AppData\\Local\\Temp\\ipykernel_11596\\2871599656.py:26: FutureWarning: The frame.append method is deprecated and will be removed from pandas in a future version. Use pandas.concat instead.\n",
      "  df = df.append({'Email': email_current, 'Phone_number': phone_number_current}, ignore_index=True)\n",
      "C:\\Users\\Hamza\\AppData\\Local\\Temp\\ipykernel_11596\\2871599656.py:26: FutureWarning: The frame.append method is deprecated and will be removed from pandas in a future version. Use pandas.concat instead.\n",
      "  df = df.append({'Email': email_current, 'Phone_number': phone_number_current}, ignore_index=True)\n",
      "C:\\Users\\Hamza\\AppData\\Local\\Temp\\ipykernel_11596\\2871599656.py:26: FutureWarning: The frame.append method is deprecated and will be removed from pandas in a future version. Use pandas.concat instead.\n",
      "  df = df.append({'Email': email_current, 'Phone_number': phone_number_current}, ignore_index=True)\n"
     ]
    },
    {
     "name": "stdout",
     "output_type": "stream",
     "text": [
      "['tockman@mit.edu'] []  has been extracted at iteration  865\n",
      "['st9@mit.edu'] []  has been extracted at iteration  865\n"
     ]
    },
    {
     "name": "stderr",
     "output_type": "stream",
     "text": [
      "C:\\Users\\Hamza\\AppData\\Local\\Temp\\ipykernel_11596\\2871599656.py:26: FutureWarning: The frame.append method is deprecated and will be removed from pandas in a future version. Use pandas.concat instead.\n",
      "  df = df.append({'Email': email_current, 'Phone_number': phone_number_current}, ignore_index=True)\n",
      "C:\\Users\\Hamza\\AppData\\Local\\Temp\\ipykernel_11596\\2871599656.py:26: FutureWarning: The frame.append method is deprecated and will be removed from pandas in a future version. Use pandas.concat instead.\n",
      "  df = df.append({'Email': email_current, 'Phone_number': phone_number_current}, ignore_index=True)\n",
      "C:\\Users\\Hamza\\AppData\\Local\\Temp\\ipykernel_11596\\2871599656.py:26: FutureWarning: The frame.append method is deprecated and will be removed from pandas in a future version. Use pandas.concat instead.\n",
      "  df = df.append({'Email': email_current, 'Phone_number': phone_number_current}, ignore_index=True)\n"
     ]
    },
    {
     "name": "stdout",
     "output_type": "stream",
     "text": [
      "['sytong@mit.edu'] []  has been extracted at iteration  865\n",
      "['marcelto@mit.edu'] []  has been extracted at iteration  865\n",
      "['torralba@csail.mit.edu'] ['324-0900']  has been extracted at iteration  865\n"
     ]
    },
    {
     "name": "stderr",
     "output_type": "stream",
     "text": [
      "C:\\Users\\Hamza\\AppData\\Local\\Temp\\ipykernel_11596\\2871599656.py:26: FutureWarning: The frame.append method is deprecated and will be removed from pandas in a future version. Use pandas.concat instead.\n",
      "  df = df.append({'Email': email_current, 'Phone_number': phone_number_current}, ignore_index=True)\n",
      "C:\\Users\\Hamza\\AppData\\Local\\Temp\\ipykernel_11596\\2871599656.py:26: FutureWarning: The frame.append method is deprecated and will be removed from pandas in a future version. Use pandas.concat instead.\n",
      "  df = df.append({'Email': email_current, 'Phone_number': phone_number_current}, ignore_index=True)\n",
      "C:\\Users\\Hamza\\AppData\\Local\\Temp\\ipykernel_11596\\2871599656.py:26: FutureWarning: The frame.append method is deprecated and will be removed from pandas in a future version. Use pandas.concat instead.\n",
      "  df = df.append({'Email': email_current, 'Phone_number': phone_number_current}, ignore_index=True)\n"
     ]
    },
    {
     "name": "stdout",
     "output_type": "stream",
     "text": [
      "['lucastor@mit.edu'] []  has been extracted at iteration  865\n",
      "['ANA_TRIS@csail.mit.edu'] []  has been extracted at iteration  865\n",
      "['rstrivedi@csail.mit.edu'] []  has been extracted at iteration  865\n"
     ]
    },
    {
     "name": "stderr",
     "output_type": "stream",
     "text": [
      "C:\\Users\\Hamza\\AppData\\Local\\Temp\\ipykernel_11596\\2871599656.py:26: FutureWarning: The frame.append method is deprecated and will be removed from pandas in a future version. Use pandas.concat instead.\n",
      "  df = df.append({'Email': email_current, 'Phone_number': phone_number_current}, ignore_index=True)\n",
      "C:\\Users\\Hamza\\AppData\\Local\\Temp\\ipykernel_11596\\2871599656.py:26: FutureWarning: The frame.append method is deprecated and will be removed from pandas in a future version. Use pandas.concat instead.\n",
      "  df = df.append({'Email': email_current, 'Phone_number': phone_number_current}, ignore_index=True)\n",
      "C:\\Users\\Hamza\\AppData\\Local\\Temp\\ipykernel_11596\\2871599656.py:26: FutureWarning: The frame.append method is deprecated and will be removed from pandas in a future version. Use pandas.concat instead.\n",
      "  df = df.append({'Email': email_current, 'Phone_number': phone_number_current}, ignore_index=True)\n"
     ]
    },
    {
     "name": "stdout",
     "output_type": "stream",
     "text": [
      "['aug@mit.edu'] []  has been extracted at iteration  865\n",
      "['danieltr@csail.mit.edu'] []  has been extracted at iteration  865\n",
      "['ALVIN929@csail.mit.edu'] []  has been extracted at iteration  865\n"
     ]
    },
    {
     "name": "stderr",
     "output_type": "stream",
     "text": [
      "C:\\Users\\Hamza\\AppData\\Local\\Temp\\ipykernel_11596\\2871599656.py:26: FutureWarning: The frame.append method is deprecated and will be removed from pandas in a future version. Use pandas.concat instead.\n",
      "  df = df.append({'Email': email_current, 'Phone_number': phone_number_current}, ignore_index=True)\n",
      "C:\\Users\\Hamza\\AppData\\Local\\Temp\\ipykernel_11596\\2871599656.py:26: FutureWarning: The frame.append method is deprecated and will be removed from pandas in a future version. Use pandas.concat instead.\n",
      "  df = df.append({'Email': email_current, 'Phone_number': phone_number_current}, ignore_index=True)\n",
      "C:\\Users\\Hamza\\AppData\\Local\\Temp\\ipykernel_11596\\2871599656.py:26: FutureWarning: The frame.append method is deprecated and will be removed from pandas in a future version. Use pandas.concat instead.\n",
      "  df = df.append({'Email': email_current, 'Phone_number': phone_number_current}, ignore_index=True)\n"
     ]
    },
    {
     "name": "stdout",
     "output_type": "stream",
     "text": [
      "['tslilyai@mit.edu'] []  has been extracted at iteration  865\n",
      "['tomtseng@mit.edu'] []  has been extracted at iteration  865\n",
      "['WILLYTCD@csail.mit.edu'] []  has been extracted at iteration  865\n"
     ]
    },
    {
     "name": "stderr",
     "output_type": "stream",
     "text": [
      "C:\\Users\\Hamza\\AppData\\Local\\Temp\\ipykernel_11596\\2871599656.py:26: FutureWarning: The frame.append method is deprecated and will be removed from pandas in a future version. Use pandas.concat instead.\n",
      "  df = df.append({'Email': email_current, 'Phone_number': phone_number_current}, ignore_index=True)\n",
      "C:\\Users\\Hamza\\AppData\\Local\\Temp\\ipykernel_11596\\2871599656.py:26: FutureWarning: The frame.append method is deprecated and will be removed from pandas in a future version. Use pandas.concat instead.\n",
      "  df = df.append({'Email': email_current, 'Phone_number': phone_number_current}, ignore_index=True)\n",
      "C:\\Users\\Hamza\\AppData\\Local\\Temp\\ipykernel_11596\\2871599656.py:26: FutureWarning: The frame.append method is deprecated and will be removed from pandas in a future version. Use pandas.concat instead.\n",
      "  df = df.append({'Email': email_current, 'Phone_number': phone_number_current}, ignore_index=True)\n"
     ]
    },
    {
     "name": "stdout",
     "output_type": "stream",
     "text": [
      "['mycal@MIT.EDU'] []  has been extracted at iteration  865\n",
      "['dishita@mit.edu'] []  has been extracted at iteration  865\n"
     ]
    },
    {
     "name": "stderr",
     "output_type": "stream",
     "text": [
      "C:\\Users\\Hamza\\AppData\\Local\\Temp\\ipykernel_11596\\2871599656.py:26: FutureWarning: The frame.append method is deprecated and will be removed from pandas in a future version. Use pandas.concat instead.\n",
      "  df = df.append({'Email': email_current, 'Phone_number': phone_number_current}, ignore_index=True)\n",
      "C:\\Users\\Hamza\\AppData\\Local\\Temp\\ipykernel_11596\\2871599656.py:26: FutureWarning: The frame.append method is deprecated and will be removed from pandas in a future version. Use pandas.concat instead.\n",
      "  df = df.append({'Email': email_current, 'Phone_number': phone_number_current}, ignore_index=True)\n"
     ]
    },
    {
     "name": "stdout",
     "output_type": "stream",
     "text": [
      "['TYSINGER@csail.mit.edu'] []  has been extracted at iteration  865\n",
      "['GULLOA@csail.mit.edu'] []  has been extracted at iteration  865\n",
      "['avu@mit.edu'] []  has been extracted at iteration  865\n"
     ]
    },
    {
     "name": "stderr",
     "output_type": "stream",
     "text": [
      "C:\\Users\\Hamza\\AppData\\Local\\Temp\\ipykernel_11596\\2871599656.py:26: FutureWarning: The frame.append method is deprecated and will be removed from pandas in a future version. Use pandas.concat instead.\n",
      "  df = df.append({'Email': email_current, 'Phone_number': phone_number_current}, ignore_index=True)\n",
      "C:\\Users\\Hamza\\AppData\\Local\\Temp\\ipykernel_11596\\2871599656.py:26: FutureWarning: The frame.append method is deprecated and will be removed from pandas in a future version. Use pandas.concat instead.\n",
      "  df = df.append({'Email': email_current, 'Phone_number': phone_number_current}, ignore_index=True)\n",
      "C:\\Users\\Hamza\\AppData\\Local\\Temp\\ipykernel_11596\\2871599656.py:26: FutureWarning: The frame.append method is deprecated and will be removed from pandas in a future version. Use pandas.concat instead.\n",
      "  df = df.append({'Email': email_current, 'Phone_number': phone_number_current}, ignore_index=True)\n"
     ]
    },
    {
     "name": "stdout",
     "output_type": "stream",
     "text": [
      "['nvafa@MIT.EDU'] []  has been extracted at iteration  865\n",
      "['kapilv@mit.edu'] []  has been extracted at iteration  865\n",
      "['vinodv@csail.mit.edu'] ['324-8444']  has been extracted at iteration  865\n"
     ]
    },
    {
     "name": "stderr",
     "output_type": "stream",
     "text": [
      "C:\\Users\\Hamza\\AppData\\Local\\Temp\\ipykernel_11596\\2871599656.py:26: FutureWarning: The frame.append method is deprecated and will be removed from pandas in a future version. Use pandas.concat instead.\n",
      "  df = df.append({'Email': email_current, 'Phone_number': phone_number_current}, ignore_index=True)\n",
      "C:\\Users\\Hamza\\AppData\\Local\\Temp\\ipykernel_11596\\2871599656.py:26: FutureWarning: The frame.append method is deprecated and will be removed from pandas in a future version. Use pandas.concat instead.\n",
      "  df = df.append({'Email': email_current, 'Phone_number': phone_number_current}, ignore_index=True)\n",
      "C:\\Users\\Hamza\\AppData\\Local\\Temp\\ipykernel_11596\\2871599656.py:26: FutureWarning: The frame.append method is deprecated and will be removed from pandas in a future version. Use pandas.concat instead.\n",
      "  df = df.append({'Email': email_current, 'Phone_number': phone_number_current}, ignore_index=True)\n"
     ]
    },
    {
     "name": "stdout",
     "output_type": "stream",
     "text": [
      "['vasilyan@mit.edu'] []  has been extracted at iteration  865\n",
      "['saulv@mit.edu'] []  has been extracted at iteration  865\n",
      "['evendrow@csail.mit.edu'] []  has been extracted at iteration  865\n"
     ]
    },
    {
     "name": "stderr",
     "output_type": "stream",
     "text": [
      "C:\\Users\\Hamza\\AppData\\Local\\Temp\\ipykernel_11596\\2871599656.py:26: FutureWarning: The frame.append method is deprecated and will be removed from pandas in a future version. Use pandas.concat instead.\n",
      "  df = df.append({'Email': email_current, 'Phone_number': phone_number_current}, ignore_index=True)\n",
      "C:\\Users\\Hamza\\AppData\\Local\\Temp\\ipykernel_11596\\2871599656.py:26: FutureWarning: The frame.append method is deprecated and will be removed from pandas in a future version. Use pandas.concat instead.\n",
      "  df = df.append({'Email': email_current, 'Phone_number': phone_number_current}, ignore_index=True)\n",
      "C:\\Users\\Hamza\\AppData\\Local\\Temp\\ipykernel_11596\\2871599656.py:26: FutureWarning: The frame.append method is deprecated and will be removed from pandas in a future version. Use pandas.concat instead.\n",
      "  df = df.append({'Email': email_current, 'Phone_number': phone_number_current}, ignore_index=True)\n"
     ]
    },
    {
     "name": "stdout",
     "output_type": "stream",
     "text": [
      "['jvendrow@mit.edu'] []  has been extracted at iteration  865\n",
      "['psvenk@mit.edu'] []  has been extracted at iteration  865\n",
      "['ajoliv@mit.edu'] []  has been extracted at iteration  865\n"
     ]
    },
    {
     "name": "stderr",
     "output_type": "stream",
     "text": [
      "C:\\Users\\Hamza\\AppData\\Local\\Temp\\ipykernel_11596\\2871599656.py:26: FutureWarning: The frame.append method is deprecated and will be removed from pandas in a future version. Use pandas.concat instead.\n",
      "  df = df.append({'Email': email_current, 'Phone_number': phone_number_current}, ignore_index=True)\n",
      "C:\\Users\\Hamza\\AppData\\Local\\Temp\\ipykernel_11596\\2871599656.py:26: FutureWarning: The frame.append method is deprecated and will be removed from pandas in a future version. Use pandas.concat instead.\n",
      "  df = df.append({'Email': email_current, 'Phone_number': phone_number_current}, ignore_index=True)\n",
      "C:\\Users\\Hamza\\AppData\\Local\\Temp\\ipykernel_11596\\2871599656.py:26: FutureWarning: The frame.append method is deprecated and will be removed from pandas in a future version. Use pandas.concat instead.\n",
      "  df = df.append({'Email': email_current, 'Phone_number': phone_number_current}, ignore_index=True)\n"
     ]
    },
    {
     "name": "stdout",
     "output_type": "stream",
     "text": [
      "['leaverou@mit.edu'] []  has been extracted at iteration  865\n",
      "['yveys@csail.mit.edu'] []  has been extracted at iteration  865\n",
      "['wrangel@mit.edu'] []  has been extracted at iteration  865\n"
     ]
    },
    {
     "name": "stderr",
     "output_type": "stream",
     "text": [
      "C:\\Users\\Hamza\\AppData\\Local\\Temp\\ipykernel_11596\\2871599656.py:26: FutureWarning: The frame.append method is deprecated and will be removed from pandas in a future version. Use pandas.concat instead.\n",
      "  df = df.append({'Email': email_current, 'Phone_number': phone_number_current}, ignore_index=True)\n",
      "C:\\Users\\Hamza\\AppData\\Local\\Temp\\ipykernel_11596\\2871599656.py:26: FutureWarning: The frame.append method is deprecated and will be removed from pandas in a future version. Use pandas.concat instead.\n",
      "  df = df.append({'Email': email_current, 'Phone_number': phone_number_current}, ignore_index=True)\n",
      "C:\\Users\\Hamza\\AppData\\Local\\Temp\\ipykernel_11596\\2871599656.py:26: FutureWarning: The frame.append method is deprecated and will be removed from pandas in a future version. Use pandas.concat instead.\n",
      "  df = df.append({'Email': email_current, 'Phone_number': phone_number_current}, ignore_index=True)\n"
     ]
    },
    {
     "name": "stdout",
     "output_type": "stream",
     "text": [
      "['rwagh@csail.mit.edu'] []  has been extracted at iteration  865\n",
      "['wallace_@mit.edu'] []  has been extracted at iteration  865\n",
      "['junwan@mit.edu'] []  has been extracted at iteration  865\n"
     ]
    },
    {
     "name": "stderr",
     "output_type": "stream",
     "text": [
      "C:\\Users\\Hamza\\AppData\\Local\\Temp\\ipykernel_11596\\2871599656.py:26: FutureWarning: The frame.append method is deprecated and will be removed from pandas in a future version. Use pandas.concat instead.\n",
      "  df = df.append({'Email': email_current, 'Phone_number': phone_number_current}, ignore_index=True)\n",
      "C:\\Users\\Hamza\\AppData\\Local\\Temp\\ipykernel_11596\\2871599656.py:26: FutureWarning: The frame.append method is deprecated and will be removed from pandas in a future version. Use pandas.concat instead.\n",
      "  df = df.append({'Email': email_current, 'Phone_number': phone_number_current}, ignore_index=True)\n",
      "C:\\Users\\Hamza\\AppData\\Local\\Temp\\ipykernel_11596\\2871599656.py:26: FutureWarning: The frame.append method is deprecated and will be removed from pandas in a future version. Use pandas.concat instead.\n",
      "  df = df.append({'Email': email_current, 'Phone_number': phone_number_current}, ignore_index=True)\n"
     ]
    },
    {
     "name": "stdout",
     "output_type": "stream",
     "text": [
      "['kyw@mit.edu'] []  has been extracted at iteration  865\n",
      "['wang7776@mit.edu'] []  has been extracted at iteration  865\n",
      "['amberyw@mit.edu'] []  has been extracted at iteration  865\n"
     ]
    },
    {
     "name": "stderr",
     "output_type": "stream",
     "text": [
      "C:\\Users\\Hamza\\AppData\\Local\\Temp\\ipykernel_11596\\2871599656.py:26: FutureWarning: The frame.append method is deprecated and will be removed from pandas in a future version. Use pandas.concat instead.\n",
      "  df = df.append({'Email': email_current, 'Phone_number': phone_number_current}, ignore_index=True)\n",
      "C:\\Users\\Hamza\\AppData\\Local\\Temp\\ipykernel_11596\\2871599656.py:26: FutureWarning: The frame.append method is deprecated and will be removed from pandas in a future version. Use pandas.concat instead.\n",
      "  df = df.append({'Email': email_current, 'Phone_number': phone_number_current}, ignore_index=True)\n",
      "C:\\Users\\Hamza\\AppData\\Local\\Temp\\ipykernel_11596\\2871599656.py:26: FutureWarning: The frame.append method is deprecated and will be removed from pandas in a future version. Use pandas.concat instead.\n",
      "  df = df.append({'Email': email_current, 'Phone_number': phone_number_current}, ignore_index=True)\n"
     ]
    },
    {
     "name": "stdout",
     "output_type": "stream",
     "text": [
      "['wangandy@mit.edu'] []  has been extracted at iteration  865\n",
      "['annewang@mit.edu'] []  has been extracted at iteration  865\n",
      "['bailinw@csail.mit.edu'] []  has been extracted at iteration  865\n"
     ]
    },
    {
     "name": "stderr",
     "output_type": "stream",
     "text": [
      "C:\\Users\\Hamza\\AppData\\Local\\Temp\\ipykernel_11596\\2871599656.py:26: FutureWarning: The frame.append method is deprecated and will be removed from pandas in a future version. Use pandas.concat instead.\n",
      "  df = df.append({'Email': email_current, 'Phone_number': phone_number_current}, ignore_index=True)\n",
      "C:\\Users\\Hamza\\AppData\\Local\\Temp\\ipykernel_11596\\2871599656.py:26: FutureWarning: The frame.append method is deprecated and will be removed from pandas in a future version. Use pandas.concat instead.\n",
      "  df = df.append({'Email': email_current, 'Phone_number': phone_number_current}, ignore_index=True)\n"
     ]
    },
    {
     "name": "stdout",
     "output_type": "stream",
     "text": [
      "['bohanw@csail.mit.edu'] []  has been extracted at iteration  865\n",
      "['cbw3@mit.edu'] []  has been extracted at iteration  865\n"
     ]
    },
    {
     "name": "stderr",
     "output_type": "stream",
     "text": [
      "C:\\Users\\Hamza\\AppData\\Local\\Temp\\ipykernel_11596\\2871599656.py:26: FutureWarning: The frame.append method is deprecated and will be removed from pandas in a future version. Use pandas.concat instead.\n",
      "  df = df.append({'Email': email_current, 'Phone_number': phone_number_current}, ignore_index=True)\n",
      "C:\\Users\\Hamza\\AppData\\Local\\Temp\\ipykernel_11596\\2871599656.py:26: FutureWarning: The frame.append method is deprecated and will be removed from pandas in a future version. Use pandas.concat instead.\n",
      "  df = df.append({'Email': email_current, 'Phone_number': phone_number_current}, ignore_index=True)\n"
     ]
    },
    {
     "name": "stdout",
     "output_type": "stream",
     "text": [
      "['czw@mit.edu'] []  has been extracted at iteration  865\n",
      "['clintonw@mit.edu'] []  has been extracted at iteration  865\n"
     ]
    },
    {
     "name": "stderr",
     "output_type": "stream",
     "text": [
      "C:\\Users\\Hamza\\AppData\\Local\\Temp\\ipykernel_11596\\2871599656.py:26: FutureWarning: The frame.append method is deprecated and will be removed from pandas in a future version. Use pandas.concat instead.\n",
      "  df = df.append({'Email': email_current, 'Phone_number': phone_number_current}, ignore_index=True)\n",
      "C:\\Users\\Hamza\\AppData\\Local\\Temp\\ipykernel_11596\\2871599656.py:26: FutureWarning: The frame.append method is deprecated and will be removed from pandas in a future version. Use pandas.concat instead.\n",
      "  df = df.append({'Email': email_current, 'Phone_number': phone_number_current}, ignore_index=True)\n"
     ]
    },
    {
     "name": "stdout",
     "output_type": "stream",
     "text": [
      "['edwardw@csail.mit.edu'] []  has been extracted at iteration  865\n",
      "['fxwang@csail.mit.edu'] []  has been extracted at iteration  865\n",
      "['LIMINGW@csail.mit.edu'] []  has been extracted at iteration  865\n"
     ]
    },
    {
     "name": "stderr",
     "output_type": "stream",
     "text": [
      "C:\\Users\\Hamza\\AppData\\Local\\Temp\\ipykernel_11596\\2871599656.py:26: FutureWarning: The frame.append method is deprecated and will be removed from pandas in a future version. Use pandas.concat instead.\n",
      "  df = df.append({'Email': email_current, 'Phone_number': phone_number_current}, ignore_index=True)\n",
      "C:\\Users\\Hamza\\AppData\\Local\\Temp\\ipykernel_11596\\2871599656.py:26: FutureWarning: The frame.append method is deprecated and will be removed from pandas in a future version. Use pandas.concat instead.\n",
      "  df = df.append({'Email': email_current, 'Phone_number': phone_number_current}, ignore_index=True)\n",
      "C:\\Users\\Hamza\\AppData\\Local\\Temp\\ipykernel_11596\\2871599656.py:26: FutureWarning: The frame.append method is deprecated and will be removed from pandas in a future version. Use pandas.concat instead.\n",
      "  df = df.append({'Email': email_current, 'Phone_number': phone_number_current}, ignore_index=True)\n"
     ]
    },
    {
     "name": "stdout",
     "output_type": "stream",
     "text": [
      "['liruiw@mit.edu'] []  has been extracted at iteration  865\n",
      "[] []  has been extracted at iteration  865\n",
      "['MI27950@csail.mit.edu'] []  has been extracted at iteration  865\n"
     ]
    },
    {
     "name": "stderr",
     "output_type": "stream",
     "text": [
      "C:\\Users\\Hamza\\AppData\\Local\\Temp\\ipykernel_11596\\2871599656.py:26: FutureWarning: The frame.append method is deprecated and will be removed from pandas in a future version. Use pandas.concat instead.\n",
      "  df = df.append({'Email': email_current, 'Phone_number': phone_number_current}, ignore_index=True)\n",
      "C:\\Users\\Hamza\\AppData\\Local\\Temp\\ipykernel_11596\\2871599656.py:26: FutureWarning: The frame.append method is deprecated and will be removed from pandas in a future version. Use pandas.concat instead.\n",
      "  df = df.append({'Email': email_current, 'Phone_number': phone_number_current}, ignore_index=True)\n",
      "C:\\Users\\Hamza\\AppData\\Local\\Temp\\ipykernel_11596\\2871599656.py:26: FutureWarning: The frame.append method is deprecated and will be removed from pandas in a future version. Use pandas.concat instead.\n",
      "  df = df.append({'Email': email_current, 'Phone_number': phone_number_current}, ignore_index=True)\n"
     ]
    },
    {
     "name": "stdout",
     "output_type": "stream",
     "text": [
      "['brabeeba@mit.edu'] []  has been extracted at iteration  865\n",
      "['wpq@mit.edu'] []  has been extracted at iteration  865\n"
     ]
    },
    {
     "name": "stderr",
     "output_type": "stream",
     "text": [
      "C:\\Users\\Hamza\\AppData\\Local\\Temp\\ipykernel_11596\\2871599656.py:26: FutureWarning: The frame.append method is deprecated and will be removed from pandas in a future version. Use pandas.concat instead.\n",
      "  df = df.append({'Email': email_current, 'Phone_number': phone_number_current}, ignore_index=True)\n",
      "C:\\Users\\Hamza\\AppData\\Local\\Temp\\ipykernel_11596\\2871599656.py:26: FutureWarning: The frame.append method is deprecated and will be removed from pandas in a future version. Use pandas.concat instead.\n",
      "  df = df.append({'Email': email_current, 'Phone_number': phone_number_current}, ignore_index=True)\n"
     ]
    }
   ],
   "source": [
    "\n",
    "Xpath = '/html/body/div[1]/div/main/section/div/div[1]/app-root/app-people/div/div[2]/div[2]/lib-people-results/div/div[1]/lib-people-result-card[{}]/article/div'\n",
    "\n",
    "iteration = 1\n",
    "\n",
    "content_size = 0\n",
    "size=0\n",
    "\n",
    "while iteration <= 1000:\n",
    "    for i in range(iteration, iteration+216):\n",
    "        dynamic_xpath = Xpath.format(i)\n",
    "\n",
    "        try:\n",
    "            element = WebDriverWait(driver, 10).until(\n",
    "                EC.presence_of_element_located((By.XPATH, dynamic_xpath))\n",
    "            )\n",
    "\n",
    "            email_current = re.findall(email_rgx, element.text)\n",
    "            phone_number_current = re.findall(phone_rgx, element.text)\n",
    "            \n",
    "            #lists\n",
    "            email.extend(email_current)\n",
    "            phone_numbers.extend(phone_number_current)\n",
    "            size = size+len(email_current)\n",
    "            print(email_current, phone_number_current , \" has been extracted at iteration \",iteration)\n",
    "            \n",
    "            df = df.append({'Email': email_current, 'Phone_number': phone_number_current}, ignore_index=True)\n",
    "        except Exception as e:\n",
    "            print(\"Error: \",e)\n",
    "    content_size = size\n",
    "    size=0\n",
    "    update_content = driver.find_element(By.XPATH ,\"//button[contains(text(), 'Load More')]\").click()\n",
    "    iteration = iteration + 216\n",
    "    \n",
    "    # wait\n",
    "    time.sleep(4)\n",
    "    \n",
    "#process finished\n",
    "driver.quit()"
   ]
  },
  {
   "cell_type": "code",
   "execution_count": 71,
   "id": "b7ef46a1",
   "metadata": {},
   "outputs": [
    {
     "name": "stdout",
     "output_type": "stream",
     "text": [
      "1079 104\n"
     ]
    }
   ],
   "source": [
    "print(len(email),len(phone_numbers))"
   ]
  },
  {
   "cell_type": "code",
   "execution_count": 72,
   "id": "2364ab2b",
   "metadata": {},
   "outputs": [
    {
     "data": {
      "text/html": [
       "<div>\n",
       "<style scoped>\n",
       "    .dataframe tbody tr th:only-of-type {\n",
       "        vertical-align: middle;\n",
       "    }\n",
       "\n",
       "    .dataframe tbody tr th {\n",
       "        vertical-align: top;\n",
       "    }\n",
       "\n",
       "    .dataframe thead th {\n",
       "        text-align: right;\n",
       "    }\n",
       "</style>\n",
       "<table border=\"1\" class=\"dataframe\">\n",
       "  <thead>\n",
       "    <tr style=\"text-align: right;\">\n",
       "      <th></th>\n",
       "      <th>Email</th>\n",
       "      <th>Phone_number</th>\n",
       "    </tr>\n",
       "  </thead>\n",
       "  <tbody>\n",
       "    <tr>\n",
       "      <th>0</th>\n",
       "      <td>[utkarsh5@csail.mit.edu]</td>\n",
       "      <td>[]</td>\n",
       "    </tr>\n",
       "    <tr>\n",
       "      <th>1</th>\n",
       "      <td>[andersaamanda@gmail.com]</td>\n",
       "      <td>[]</td>\n",
       "    </tr>\n",
       "    <tr>\n",
       "      <th>2</th>\n",
       "      <td>[erfanaasi@csail.mit.edu]</td>\n",
       "      <td>[]</td>\n",
       "    </tr>\n",
       "    <tr>\n",
       "      <th>3</th>\n",
       "      <td>[hal@mit.edu]</td>\n",
       "      <td>[253-5856]</td>\n",
       "    </tr>\n",
       "    <tr>\n",
       "      <th>4</th>\n",
       "      <td>[abulnaga@mit.edu]</td>\n",
       "      <td>[]</td>\n",
       "    </tr>\n",
       "  </tbody>\n",
       "</table>\n",
       "</div>"
      ],
      "text/plain": [
       "                       Email Phone_number\n",
       "0   [utkarsh5@csail.mit.edu]           []\n",
       "1  [andersaamanda@gmail.com]           []\n",
       "2  [erfanaasi@csail.mit.edu]           []\n",
       "3              [hal@mit.edu]   [253-5856]\n",
       "4         [abulnaga@mit.edu]           []"
      ]
     },
     "execution_count": 72,
     "metadata": {},
     "output_type": "execute_result"
    }
   ],
   "source": [
    "df.head()"
   ]
  },
  {
   "cell_type": "code",
   "execution_count": 70,
   "id": "7f2dd13e",
   "metadata": {},
   "outputs": [],
   "source": [
    "df.to_csv('MIT_contacts.csv', mode='a', header=False, index=False)"
   ]
  },
  {
   "cell_type": "code",
   "execution_count": null,
   "id": "f8f57aae",
   "metadata": {},
   "outputs": [],
   "source": []
  },
  {
   "cell_type": "code",
   "execution_count": 105,
   "id": "a389ce4a",
   "metadata": {},
   "outputs": [
    {
     "name": "stdout",
     "output_type": "stream",
     "text": [
      "Original text: People | MIT CSAIL Skip to main content For Students For Industry For Members Accessibility Login MIT CSAIL Research People News Events Symposia About MIT LOGO Created with Sketch. Research People News Events Symposia About For Students For Industry For Members Accessibility Login Contact Press Requests Accessibility Search MIT CSAIL Massachusetts Institute of Technology Computer Science & Artificial Intelligence Laboratory 32 Vassar St, Cambridge MA 02139 Contact Press Requests Accessibility\n",
      "\n",
      "Porter Stemmer:\n",
      "peopl | mit csail skip to main content for student for industri for member access login mit csail research peopl new event symposia about mit logo creat with sketch . research peopl new event symposia about for student for industri for member access login contact press request access search mit csail massachusett institut of technolog comput scienc & artifici intellig laboratori 32 vassar st , cambridg ma 02139 contact press request access\n",
      "\n",
      "Lancaster Stemmer:\n",
      "peopl | mit csail skip to main cont for stud for industry for memb access login mit csail research peopl new ev sympos about mit logo cre with sketch . research peopl new ev sympos about for stud for industry for memb access login contact press request access search mit csail massachuset institut of technolog comput sci & art intellig lab 32 vass st , cambridg ma 02139 contact press request access\n"
     ]
    }
   ],
   "source": [
    "tokens = word_tokenize(page)\n",
    "\n",
    "porter_stemmer = PorterStemmer()\n",
    "lancaster_stemmer = LancasterStemmer()\n",
    "\n",
    "porter_stemmed_words = [porter_stemmer.stem(word) for word in tokens]\n",
    "\n",
    "lancaster_stemmed_words = [lancaster_stemmer.stem(word) for word in tokens]\n",
    "\n",
    "spaces_removed = ' '.join(filter(None, page.split()))\n",
    "\n",
    "print(\"Original text:\", spaces_removed)\n",
    "print(\"\\nPorter Stemmer:\")\n",
    "print(\" \".join(porter_stemmed_words))\n",
    "print(\"\\nLancaster Stemmer:\")\n",
    "print(\" \".join(lancaster_stemmed_words))\n"
   ]
  },
  {
   "cell_type": "markdown",
   "id": "cfb9ec31",
   "metadata": {},
   "source": [
    "###  The Porter Stemmer produces words sizes that are longer and more like English words. \n",
    "### The Lancaster Stemmer produces words size that are shorter and it may not be English. "
   ]
  },
  {
   "cell_type": "markdown",
   "id": "21a860db",
   "metadata": {},
   "source": [
    "# Q 6"
   ]
  },
  {
   "cell_type": "code",
   "execution_count": 73,
   "id": "60058ca9",
   "metadata": {},
   "outputs": [],
   "source": [
    "message = '''Pila Forfeited you engrossed but 1kometimes explained. Another 1kacokaco1 as studied it to evident.\n",
    "Merry sense 9given he be arisepila. Conduct at an replied removal an amongst.\n",
    "Remainingzalima 0determine few her two cordially Zalima admitting old. Sometimes ctra*nger his\n",
    "pisdsdla ourselves her co*la depending you boy. Eat discretion cultivated possession far comparison\n",
    "projection pila considered. And few fat interested discovered inquietude insensible unsatiable increasing\n",
    "zalima eat.'''"
   ]
  },
  {
   "cell_type": "code",
   "execution_count": 74,
   "id": "739d5efa",
   "metadata": {},
   "outputs": [
    {
     "data": {
      "text/plain": [
       "'Pila Forfeited you engrossed but 1kometimes explained. Another 1kacokaco1 as studied it to evident.\\nMerry sense 9given he be arisepila. Conduct at an replied removal an amongst.\\nRemainingzalima 0determine few her two cordially Zalima admitting old. Sometimes ctra*nger his\\npisdsdla ourselves her co*la depending you boy. Eat discretion cultivated possession far comparison\\nprojection pila considered. And few fat interested discovered inquietude insensible unsatiable increasing\\nzalima eat.'"
      ]
     },
     "execution_count": 74,
     "metadata": {},
     "output_type": "execute_result"
    }
   ],
   "source": [
    "message"
   ]
  },
  {
   "cell_type": "code",
   "execution_count": 79,
   "id": "799bdb6b",
   "metadata": {},
   "outputs": [
    {
     "name": "stdout",
     "output_type": "stream",
     "text": [
      "Expression:  [Zz][a-z]*a\n",
      "Frequencey 3\n",
      "First word:  zalima\n"
     ]
    }
   ],
   "source": [
    "\n",
    "regex1 = r'[Zz][a-z]*a'\n",
    "\n",
    "word_1st = re.search(regex1 , message)\n",
    "freq = len(re.findall(regex1,message))\n",
    "\n",
    "\n",
    "print(\"Expression: \",regex1)\n",
    "print(f'Frequencey', freq)\n",
    "print(\"First word: \",word_1st.group(0))\n"
   ]
  },
  {
   "cell_type": "code",
   "execution_count": 80,
   "id": "bf314d6b",
   "metadata": {},
   "outputs": [
    {
     "name": "stdout",
     "output_type": "stream",
     "text": [
      "Expression:  \\d+[k][a-z]*\\d+\n",
      "Second word:  1kacokaco1\n",
      "Actual second word: coka\n"
     ]
    }
   ],
   "source": [
    "regex2 = r'\\d+[k][a-z]*\\d+'\n",
    "\n",
    "print(\"Expression: \",regex2)\n",
    "word_2nd = re.search(regex2, message)\n",
    "print(\"Second word: \", word_2nd.group(0))\n",
    "\n",
    "word_2nd_actual = word_2nd.group(0)[3:-3]\n",
    "print(\"Actual second word:\", word_2nd_actual)\n"
   ]
  },
  {
   "cell_type": "code",
   "execution_count": 81,
   "id": "2af557e2",
   "metadata": {},
   "outputs": [
    {
     "name": "stdout",
     "output_type": "stream",
     "text": [
      "Expression:  c[a-z]*\\*+[a-z]*a\n",
      "Third word:  co*la\n",
      "Actual third word:  cola\n"
     ]
    }
   ],
   "source": [
    "regex3 = r'c[a-z]*\\*+[a-z]*a'\n",
    "\n",
    "word_3rd = re.search(regex3, message)\n",
    "print(\"Expression: \",regex3)\n",
    "print(\"Third word: \", word_3rd.group(0))\n",
    "\n",
    "word_3rd_actual = word_3rd.group(0).replace('*', '')\n",
    "print(\"Actual third word: \", word_3rd_actual)\n"
   ]
  },
  {
   "cell_type": "code",
   "execution_count": 84,
   "id": "bd83b171",
   "metadata": {},
   "outputs": [
    {
     "name": "stdout",
     "output_type": "stream",
     "text": [
      "Frequencey 3\n",
      "Fourth word:  Pila\n"
     ]
    }
   ],
   "source": [
    "\n",
    "regex4 = r'[Pp][a-z]{2}a'\n",
    "\n",
    "frequ = len(re.findall(regex4, message))\n",
    "print(f'Frequencey', frequ)\n",
    "\n",
    "word_4th = re.search(regex4, message)\n",
    "print(\"Fourth word: \", word_4th.group(0))\n"
   ]
  },
  {
   "cell_type": "code",
   "execution_count": 83,
   "id": "15756736",
   "metadata": {},
   "outputs": [
    {
     "name": "stdout",
     "output_type": "stream",
     "text": [
      "\n",
      "Complete message: zalima coka cola Pila de\n"
     ]
    }
   ],
   "source": [
    "fifth_word = \"de\"\n",
    "\n",
    "complete_message = \" \".join([word_1st.group(0), word_2nd_actual, word_3rd_actual, word_4th.group(0), fifth_word])\n",
    "print(\"\\nComplete message:\", complete_message)\n"
   ]
  },
  {
   "cell_type": "code",
   "execution_count": null,
   "id": "b528ea4e",
   "metadata": {},
   "outputs": [],
   "source": []
  }
 ],
 "metadata": {
  "kernelspec": {
   "display_name": "Python 3 (ipykernel)",
   "language": "python",
   "name": "python3"
  },
  "language_info": {
   "codemirror_mode": {
    "name": "ipython",
    "version": 3
   },
   "file_extension": ".py",
   "mimetype": "text/x-python",
   "name": "python",
   "nbconvert_exporter": "python",
   "pygments_lexer": "ipython3",
   "version": "3.9.12"
  }
 },
 "nbformat": 4,
 "nbformat_minor": 5
}
