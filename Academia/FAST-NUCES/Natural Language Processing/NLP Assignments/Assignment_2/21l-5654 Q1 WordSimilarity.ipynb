{
 "cells": [
  {
   "cell_type": "markdown",
   "metadata": {},
   "source": [
    "### Optimizing the accuracy of sequence matcher by using cosine similarity"
   ]
  },
  {
   "cell_type": "code",
   "execution_count": 1,
   "metadata": {
    "id": "rKgKqfLofL9L"
   },
   "outputs": [],
   "source": [
    "import numpy as np\n",
    "import pandas as pd\n",
    "from itertools import combinations\n",
    "\n",
    "import re"
   ]
  },
  {
   "cell_type": "markdown",
   "metadata": {
    "id": "CxrpHWWsfX--"
   },
   "source": [
    "The problem is to match the user's free-form input against a pre-determined list of banks. For example, user input 'bawag bank' should be matched to 'BAWAG Group AG'."
   ]
  },
  {
   "cell_type": "code",
   "execution_count": 2,
   "metadata": {
    "id": "3nsmwxZKfaqO"
   },
   "outputs": [],
   "source": [
    "# List of banks to compare\n",
    "banks =   ['Sberbank Europe AG',\n",
    "          'BAWAG Group AG',\n",
    "          'Raiffeisenbankengruppe OÖ Verbund eGen',\n",
    "          'Raiffeisen Bank International AG',\n",
    "          'Volksbanken Verbund',\n",
    "          'Erste Group Bank AG',\n",
    "          'KBC Groep',\n",
    "          'Investeringsmaatschappij Argenta',\n",
    "          'Belfius Bank',\n",
    "          'AXA Bank Belgium',\n",
    "          'The Bank of New York Mellon SA/NV',\n",
    "          'First Investment Bank AD',\n",
    "          'RCB Bank Ltd',\n",
    "          'Bank of Cyprus Holdings Public Limited Company',\n",
    "          'Hellenic Bank Public Company Limited',\n",
    "          'DekaBank Deutsche Girozentrale',\n",
    "          'Erwerbsgesellschaft der S-Finanzgruppe mbH & Co. KG',\n",
    "          'UBS Europe SE',\n",
    "          'DEUTSCHE APOTHEKER- UND ÄRZTEBANK EG',\n",
    "          'Volkswagen Bank Gesellschaft mit beschränkter Haftung',\n",
    "          'Münchener Hypothekenbank eG',\n",
    "          'DZ BANK AG Deutsche Zentral-Genossenschaftsbank, Frankfurt am Main',\n",
    "          'HASPA Finanzholding',\n",
    "          'State Street Europe Holdings Germany S.a.r.l. & Co. KG',\n",
    "          'J.P. Morgan AG',\n",
    "          'DEUTSCHE BANK AKTIENGESELLSCHAFT',\n",
    "          'COMMERZBANK Aktiengesellschaft',\n",
    "          'Landesbank Baden-Württemberg',\n",
    "          'Landesbank Hessen-Thüringen Girozentrale',\n",
    "          'Norddeutsche Landesbank - Girozentrale -',\n",
    "          'Deutsche Pfandbriefbank AG',\n",
    "          'Aareal Bank AG',\n",
    "          'Hamburg Commercial Bank AG',\n",
    "          'Bayerische Landesbank',\n",
    "          'Jyske Bank A/S',\n",
    "          'Sydbank A/S',\n",
    "          'Nykredit Realkredit A/S',\n",
    "          'Danske Bank A/S',\n",
    "          'Luminor Holding AS',\n",
    "          'Abanca Corporacion Bancaria S.A.',\n",
    "          'Banco Santander S.A.',\n",
    "          'Ibercaja Banco S.A.',\n",
    "          'Kutxabank S.A',\n",
    "          'Unicaja Banco S.A.',\n",
    "          'CaixaBank S.A.',\n",
    "          'Banco de Crédito Social Cooperativo',\n",
    "          'Banco Bilbao Vizcaya Argentaria S.A.',\n",
    "          'Banco de Sabadell S.A.',\n",
    "          'Bankinter S.A.',\n",
    "          'Kuntarahoitus Oyj',\n",
    "          'Nordea Bank Abp',\n",
    "          'OP Osuuskunta',\n",
    "          'SFIL',\n",
    "          'RCI Banque',\n",
    "          'Confédération Nationale du Crédit Mutuel',\n",
    "          'La Banque Postale',\n",
    "          'Bpifrance',\n",
    "          \"C.R.H. - Caisse de refinancement de l'habitat\",\n",
    "          'HSBC Continental Europe',\n",
    "          'Groupe BPCE',\n",
    "          'Groupe Crédit Agricole',\n",
    "          'Société générale',\n",
    "          'BNP Paribas',\n",
    "          'ALPHA SERVICES AND HOLDINGS S.A.',\n",
    "          'National Bank of Greece S.A.',\n",
    "          'Eurobank Ergasias Services and Holdings S.A.',\n",
    "          'Piraeus Financial Holdings',\n",
    "          'OTP-csoport',\n",
    "          'Magyar Bankholding',\n",
    "          'Barclays Bank Ireland plc',\n",
    "          'Citibank Holdings Ireland Limited',\n",
    "          'AIB Group plc',\n",
    "          'Bank of Ireland Group plc',\n",
    "          'Ulster Bank Ireland Designated Activity Company',\n",
    "          'Bank of America Europe Designated Activity Company',\n",
    "          'Íslandsbanki hf.',\n",
    "          'Landsbankinn hf.',\n",
    "          'Arion banki hf',\n",
    "          'Intesa Sanpaolo S.p.A.',\n",
    "          'Gruppo Bancario Finecobank  ',\n",
    "          'UniCredit S.p.A.',\n",
    "          'Gruppo Bancario Mediolanum  ',\n",
    "          'Credito Emiliano Holding S.p.A.',\n",
    "          'Banco BPM SpA',\n",
    "          'Banca Popolare di Sondrio, Società Cooperativa per Azioni',\n",
    "          'Banca Monte dei Paschi di Siena S.p.A.',\n",
    "          'CASSA CENTRALE BANCA',\n",
    "          'ICCREA BANCA S.P.A.',\n",
    "          'Mediobanca - Banca di Credito Finanziario S.p.A.',\n",
    "          'Akcine bendrove Šiauliu bankas',\n",
    "          'Precision Capital S.A.',\n",
    "          'RBC Investor Services Bank S.A.',\n",
    "          'J.P. Morgan Bank Luxembourg S.A.',\n",
    "          'Banque Internationale à Luxembourg',\n",
    "          'Banque et Caisse d´Epargne de l´Etat, Luxembourg',\n",
    "          'Akciju sabiedriba \"Citadele banka\"',\n",
    "          'MDB Group Limited',\n",
    "          'Bank of Valletta Plc',\n",
    "          'HSBC Bank Malta p.l.c.',\n",
    "          'BNG Bank N.V.',\n",
    "          'ING Groep N.V.',\n",
    "          'LP Group B.V.',\n",
    "          'de Volksbank N.V.',\n",
    "          'ABN AMRO Bank N.V.',\n",
    "          'Coöperatieve Rabobank U.A.',\n",
    "          'Nederlandse Waterschapsbank N.V.',\n",
    "          'Bank Polska Kasa Opieki S.A.',\n",
    "          'Powszechna Kasa Oszczednosci Bank Polski S.A.',\n",
    "          'LSF Nani Investments S.à r.l.',\n",
    "          'Banco Comercial Português SA',\n",
    "          'Caixa Geral de Depósitos SA',\n",
    "          'Banca Transilvania',\n",
    "          'Länförsäkringar Bank AB (publ)',\n",
    "          'Kommuninvest - group',\n",
    "          'Skandinaviska Enskilda Banken - group',\n",
    "          'SBAB Bank AB - group',\n",
    "          'Swedbank - group',\n",
    "          'Svenska Handelsbanken - group',\n",
    "          'Biser Topco S.à r.l.',\n",
    "          'Nova Ljubljanska Banka d.d. Ljubljana']"
   ]
  },
  {
   "cell_type": "code",
   "execution_count": 3,
   "metadata": {
    "id": "Va8q_kphfm2O"
   },
   "outputs": [],
   "source": [
    "# Examples of search strings\n",
    "s1 = 'Bawag bank' # other options: 'Bawag bank', 'Erste', 'Raiffaisen bank'"
   ]
  },
  {
   "cell_type": "code",
   "execution_count": 4,
   "metadata": {},
   "outputs": [
    {
     "data": {
      "text/html": [
       "<div>\n",
       "<style scoped>\n",
       "    .dataframe tbody tr th:only-of-type {\n",
       "        vertical-align: middle;\n",
       "    }\n",
       "\n",
       "    .dataframe tbody tr th {\n",
       "        vertical-align: top;\n",
       "    }\n",
       "\n",
       "    .dataframe thead th {\n",
       "        text-align: right;\n",
       "    }\n",
       "</style>\n",
       "<table border=\"1\" class=\"dataframe\">\n",
       "  <thead>\n",
       "    <tr style=\"text-align: right;\">\n",
       "      <th></th>\n",
       "      <th>Bank 1</th>\n",
       "      <th>Bank 2</th>\n",
       "      <th>Score</th>\n",
       "    </tr>\n",
       "  </thead>\n",
       "  <tbody>\n",
       "    <tr>\n",
       "      <th>8</th>\n",
       "      <td>Bawag bank</td>\n",
       "      <td>Belfius Bank</td>\n",
       "      <td>0.454545</td>\n",
       "    </tr>\n",
       "    <tr>\n",
       "      <th>12</th>\n",
       "      <td>Bawag bank</td>\n",
       "      <td>RCB Bank Ltd</td>\n",
       "      <td>0.454545</td>\n",
       "    </tr>\n",
       "    <tr>\n",
       "      <th>33</th>\n",
       "      <td>Bawag bank</td>\n",
       "      <td>Bayerische Landesbank</td>\n",
       "      <td>0.451613</td>\n",
       "    </tr>\n",
       "    <tr>\n",
       "      <th>42</th>\n",
       "      <td>Bawag bank</td>\n",
       "      <td>Kutxabank S.A</td>\n",
       "      <td>0.434783</td>\n",
       "    </tr>\n",
       "    <tr>\n",
       "      <th>99</th>\n",
       "      <td>Bawag bank</td>\n",
       "      <td>BNG Bank N.V.</td>\n",
       "      <td>0.434783</td>\n",
       "    </tr>\n",
       "  </tbody>\n",
       "</table>\n",
       "</div>"
      ],
      "text/plain": [
       "        Bank 1                 Bank 2     Score\n",
       "8   Bawag bank           Belfius Bank  0.454545\n",
       "12  Bawag bank           RCB Bank Ltd  0.454545\n",
       "33  Bawag bank  Bayerische Landesbank  0.451613\n",
       "42  Bawag bank          Kutxabank S.A  0.434783\n",
       "99  Bawag bank          BNG Bank N.V.  0.434783"
      ]
     },
     "execution_count": 4,
     "metadata": {},
     "output_type": "execute_result"
    }
   ],
   "source": [
    "# A naive search method which you need to improve\n",
    "from difflib import SequenceMatcher\n",
    "res = []\n",
    "for token in banks:\n",
    "  res.append([s1, token, SequenceMatcher(None, s1, token).ratio()])\n",
    "\n",
    "df2 = pd.DataFrame(res, columns=['Bank 1', 'Bank 2', 'Score'])\n",
    "# The outcome is not great, for this search query 'BAWAG Group AG' should have highest similarity\n",
    "df2.sort_values(by=['Score'], ascending=[False]).head()"
   ]
  },
  {
   "cell_type": "code",
   "execution_count": 8,
   "metadata": {},
   "outputs": [
    {
     "data": {
      "text/html": [
       "<div>\n",
       "<style scoped>\n",
       "    .dataframe tbody tr th:only-of-type {\n",
       "        vertical-align: middle;\n",
       "    }\n",
       "\n",
       "    .dataframe tbody tr th {\n",
       "        vertical-align: top;\n",
       "    }\n",
       "\n",
       "    .dataframe thead th {\n",
       "        text-align: right;\n",
       "    }\n",
       "</style>\n",
       "<table border=\"1\" class=\"dataframe\">\n",
       "  <thead>\n",
       "    <tr style=\"text-align: right;\">\n",
       "      <th></th>\n",
       "      <th>Bank 1</th>\n",
       "      <th>Bank 2</th>\n",
       "      <th>Score</th>\n",
       "    </tr>\n",
       "  </thead>\n",
       "  <tbody>\n",
       "    <tr>\n",
       "      <th>1</th>\n",
       "      <td>Bawag bank</td>\n",
       "      <td>BAWAG Group AG</td>\n",
       "      <td>0.166667</td>\n",
       "    </tr>\n",
       "  </tbody>\n",
       "</table>\n",
       "</div>"
      ],
      "text/plain": [
       "       Bank 1          Bank 2     Score\n",
       "1  Bawag bank  BAWAG Group AG  0.166667"
      ]
     },
     "execution_count": 8,
     "metadata": {},
     "output_type": "execute_result"
    }
   ],
   "source": [
    "org_idx = df2['Bank 2'].isin(['BAWAG Group AG'])\n",
    "\n",
    "df2[org_idx].sort_values(by=['Score'], ascending=[False]).head()"
   ]
  },
  {
   "cell_type": "markdown",
   "metadata": {},
   "source": [
    "USING COSINE SIMILARITY"
   ]
  },
  {
   "cell_type": "code",
   "execution_count": 7,
   "metadata": {},
   "outputs": [],
   "source": [
    "import pandas as pd\n",
    "from sklearn.feature_extraction.text import TfidfVectorizer\n",
    "from sklearn.metrics.pairwise import cosine_similarity\n"
   ]
  },
  {
   "cell_type": "code",
   "execution_count": 12,
   "metadata": {},
   "outputs": [],
   "source": [
    "vectorizer = TfidfVectorizer()\n",
    "\n",
    "bank_tfidf = vectorizer.fit_transform(banks)\n",
    "\n",
    "s1_tfidf = vectorizer.transform([s1])\n",
    "\n",
    "cosine_similarities = cosine_similarity(s1_tfidf, bank_tfidf)\n",
    "\n",
    "similarity_banks_res = []\n",
    "\n",
    "for idx, similarity in enumerate(cosine_similarities[0]):\n",
    "    bank = banks[idx]\n",
    "    similarity_banks_res.append((s1,bank, similarity))\n",
    "\n",
    "df = pd.DataFrame(similarity_banks_res, columns=['Input Bank','Bank', 'Cosine Similarity'])\n"
   ]
  },
  {
   "cell_type": "markdown",
   "metadata": {},
   "source": [
    "This gives 0.663% similarity score to BAWAG GROUP AG , whereas Sequence Matcher 0.5 score "
   ]
  },
  {
   "cell_type": "code",
   "execution_count": 48,
   "metadata": {
    "colab": {
     "base_uri": "https://localhost:8080/",
     "height": 81
    },
    "id": "TXc8yBZOhIH0",
    "outputId": "fbe6efd4-2868-446d-f49d-fea1aca1020b"
   },
   "outputs": [
    {
     "data": {
      "text/html": [
       "<div>\n",
       "<style scoped>\n",
       "    .dataframe tbody tr th:only-of-type {\n",
       "        vertical-align: middle;\n",
       "    }\n",
       "\n",
       "    .dataframe tbody tr th {\n",
       "        vertical-align: top;\n",
       "    }\n",
       "\n",
       "    .dataframe thead th {\n",
       "        text-align: right;\n",
       "    }\n",
       "</style>\n",
       "<table border=\"1\" class=\"dataframe\">\n",
       "  <thead>\n",
       "    <tr style=\"text-align: right;\">\n",
       "      <th></th>\n",
       "      <th>Bank</th>\n",
       "      <th>Cosine Similarity</th>\n",
       "    </tr>\n",
       "  </thead>\n",
       "  <tbody>\n",
       "    <tr>\n",
       "      <th>1</th>\n",
       "      <td>BAWAG Group AG</td>\n",
       "      <td>0.663232</td>\n",
       "    </tr>\n",
       "  </tbody>\n",
       "</table>\n",
       "</div>"
      ],
      "text/plain": [
       "             Bank  Cosine Similarity\n",
       "1  BAWAG Group AG           0.663232"
      ]
     },
     "execution_count": 48,
     "metadata": {},
     "output_type": "execute_result"
    }
   ],
   "source": [
    " #The desired combination has a low score\n",
    "\n",
    "#the previous score was 0.16667 for bawag bank\n",
    "\n",
    "idx = df['Bank'].isin(['BAWAG Group AG'])\n",
    "\n",
    "df[idx].sort_values(by=['Cosine Similarity'], ascending=[False]).head()"
   ]
  },
  {
   "cell_type": "markdown",
   "metadata": {},
   "source": [
    "### Note:\n",
    "Sequence Matcher = 0.16667\n",
    "Cosine Similarity = 0.663232\n",
    "Cosine similarity gives us better result than sequence matcher because it considers the semantic meaning and context of words rather than just their sequence or order. This makes it more effective for comparing the similarity between texts, especially in scenarios where the texts may have different lengths or structures."
   ]
  },
  {
   "cell_type": "markdown",
   "metadata": {},
   "source": []
  }
 ],
 "metadata": {
  "colab": {
   "collapsed_sections": [],
   "provenance": []
  },
  "kernelspec": {
   "display_name": "Python 3 (ipykernel)",
   "language": "python",
   "name": "python3"
  },
  "language_info": {
   "codemirror_mode": {
    "name": "ipython",
    "version": 3
   },
   "file_extension": ".py",
   "mimetype": "text/x-python",
   "name": "python",
   "nbconvert_exporter": "python",
   "pygments_lexer": "ipython3",
   "version": "3.7.5"
  }
 },
 "nbformat": 4,
 "nbformat_minor": 4
}
